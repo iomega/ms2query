{
 "cells": [
  {
   "cell_type": "code",
   "execution_count": 2,
   "id": "62e69dee",
   "metadata": {},
   "outputs": [],
   "source": [
    "# The sys.stdout statements is to resolve proplems with printing statements in jupyter notebook, \n",
    "# when removed progress updates printed are not shown in the notebookr\n",
    "import sys\n",
    "import os\n",
    "stdout = sys.stdout\n",
    "\n",
    "from ms2query.ms2library import MS2Library\n",
    "sys.stdout = stdout\n",
    "from ms2query.utils import load_pickled_file\n",
    "import pandas as pd\n",
    "pd.set_option('display.max_rows', 10)\n",
    "pd.set_option('display.max_columns', None)\n",
    "pd.set_option('display.width', 1000)\n",
    "pd.set_option('display.colheader_justify', 'center')\n",
    "pd.set_option('display.precision', 3)\n",
    "\n",
    "base_folder = \"C:/Users/jonge094/PycharmProjects/PhD_MS2Query/ms2query/data\"\n",
    "tanimoto_scores_df_file = os.path.join(base_folder, \"files_for_performance_analysis/ALL_GNPS_210409_positive_tanimoto_scores.pickle\")\n",
    "sqlite_file =  os.path.join(base_folder, \"models_embeddings_files/ALL_GNPS_210409_train_split.sqlite\")\n",
    "\n",
    "# Load in results of selecting best matches for the test spectra\n",
    "results = load_pickled_file(os.path.join(base_folder, \n",
    "                                         \"files_for_performance_analysis/results_with_match_all_scores_test_spectra_dropout_reg_top_2000.pickle\"))\n",
    "\n",
    "# Test spectra\n",
    "test_spectra = load_pickled_file(os.path.join(base_folder, \"files_for_performance_analysis/ALL_GNPS_210409_test_split.pickle\"))\n",
    "# Only select first 2250 spectra belonging to 250 inchikeys not stored in library\n",
    "test_spectra_without_match = test_spectra[:2250]\n",
    "test_spectra_with_match = test_spectra[2250:]"
   ]
  },
  {
   "cell_type": "code",
   "execution_count": 3,
   "id": "4a8aa37c",
   "metadata": {},
   "outputs": [],
   "source": [
    "from ms2query.query_from_sqlite_database import get_metadata_from_sqlite\n",
    "\n",
    "def select_best_match_by_ms2ds_and_calculate_tanimoto_score(\n",
    "    result_matches, tanimoto_scores_file, query_spectra, sqlite_file_location, min_parent_mass = 10):\n",
    "    \"\"\"Returns a list with all the ms2query scores and tanimoto scores for the best matches\"\"\"\n",
    "    \n",
    "    tanimoto_scores = load_pickled_file(tanimoto_scores_file)\n",
    "    ms2query_scores_and_tanimoto = []\n",
    "    \n",
    "    for query_spectrum in query_spectra:\n",
    "        query_spectrum_id = query_spectrum.get(\"spectrumid\")\n",
    "        query_spectrum_inchikey = query_spectrum.get(\"inchikey\")[:14]\n",
    "        dataframe_with_scores = result_matches[query_spectrum_id]\n",
    "        # Selection on highest MS2Deepscore\n",
    "        large_enough_parent_mass = dataframe_with_scores.loc[dataframe_with_scores[\"mass_similarity\"] > 0.8**min_parent_mass]\n",
    "        if len(large_enough_parent_mass) > 0:\n",
    "            best_match_spectrum_id = large_enough_parent_mass[\"ms2ds_score\"].idxmax()\n",
    "            best_match_score = large_enough_parent_mass[\"ms2ds_score\"].max()\n",
    "\n",
    "            best_match_inchikey = get_metadata_from_sqlite(\n",
    "                sqlite_file_location, [best_match_spectrum_id], \"spectrumid\")[best_match_spectrum_id][\"inchikey\"][:14]\n",
    "            tanimoto_score = tanimoto_scores.loc[best_match_inchikey, query_spectrum_inchikey]\n",
    "\n",
    "            ms2query_scores_and_tanimoto.append((best_match_score, tanimoto_score))\n",
    "    return ms2query_scores_and_tanimoto\n",
    "\n",
    "def select_best_ms2query_and_calculate_tanimoto_score(\n",
    "    result_matches, tanimoto_scores_file, query_spectra, sqlite_file_location):\n",
    "    \"\"\"Returns a list with all the ms2query scores and tanimoto scores for the best matches\"\"\"\n",
    "    \n",
    "    tanimoto_scores = load_pickled_file(tanimoto_scores_file)\n",
    "    ms2query_scores_and_tanimoto = []\n",
    "    \n",
    "    for query_spectrum in query_spectra:\n",
    "        query_spectrum_id = query_spectrum.get(\"spectrumid\")\n",
    "        query_spectrum_inchikey = query_spectrum.get(\"inchikey\")[:14]\n",
    "        \n",
    "        best_match = result_matches[query_spectrum_id].iloc[0]\n",
    "        best_match_score = best_match.loc[\"ms2query_model_prediction\"]\n",
    "        best_match_spectrum_id = best_match.name\n",
    "    \n",
    "        best_match_inchikey = get_metadata_from_sqlite(\n",
    "            sqlite_file_location, [best_match_spectrum_id], \"spectrumid\")[best_match_spectrum_id][\"inchikey\"][:14]\n",
    "        tanimoto_score = tanimoto_scores.loc[best_match_inchikey, query_spectrum_inchikey]\n",
    "        \n",
    "        ms2query_scores_and_tanimoto.append((best_match_score, tanimoto_score))\n",
    "    return ms2query_scores_and_tanimoto"
   ]
  },
  {
   "cell_type": "code",
   "execution_count": 4,
   "id": "decd4747",
   "metadata": {},
   "outputs": [],
   "source": [
    "best_ms2ds_hits = select_best_match_by_ms2ds_and_calculate_tanimoto_score(results, tanimoto_scores_df_file, test_spectra_without_match, sqlite_file)\n",
    "best_ms2q_hits = select_best_ms2query_and_calculate_tanimoto_score(results, tanimoto_scores_df_file, test_spectra_without_match, sqlite_file)\n"
   ]
  },
  {
   "cell_type": "code",
   "execution_count": 8,
   "id": "070080eb",
   "metadata": {},
   "outputs": [
    {
     "name": "stdout",
     "output_type": "stream",
     "text": [
      "2222\n",
      "2250\n",
      "hello\n"
     ]
    }
   ],
   "source": [
    "print(len(best_ms2ds_hits))\n",
    "print(len(best_ms2q_hits))"
   ]
  },
  {
   "cell_type": "code",
   "execution_count": 25,
   "id": "872d028c",
   "metadata": {},
   "outputs": [
    {
     "ename": "KeyError",
     "evalue": "'CCMSLIB00005960173'",
     "output_type": "error",
     "traceback": [
      "\u001B[1;31m---------------------------------------------------------------------------\u001B[0m",
      "\u001B[1;31mKeyError\u001B[0m                                  Traceback (most recent call last)",
      "\u001B[1;32m~\\AppData\\Local\\Temp/ipykernel_16728/39053948.py\u001B[0m in \u001B[0;36m<module>\u001B[1;34m\u001B[0m\n\u001B[1;32m----> 1\u001B[1;33m \u001B[0mbest_ms2q_hits_perfect_matches\u001B[0m \u001B[1;33m=\u001B[0m \u001B[0mselect_best_ms2query_and_calculate_tanimoto_score\u001B[0m\u001B[1;33m(\u001B[0m\u001B[0mresults\u001B[0m\u001B[1;33m,\u001B[0m \u001B[0mtanimoto_scores_df_file\u001B[0m\u001B[1;33m,\u001B[0m \u001B[0mtest_spectra_with_match\u001B[0m\u001B[1;33m,\u001B[0m \u001B[0msqlite_file\u001B[0m\u001B[1;33m)\u001B[0m\u001B[1;33m\u001B[0m\u001B[1;33m\u001B[0m\u001B[0m\n\u001B[0m",
      "\u001B[1;32m~\\AppData\\Local\\Temp/ipykernel_16728/1912759397.py\u001B[0m in \u001B[0;36mselect_best_ms2query_and_calculate_tanimoto_score\u001B[1;34m(result_matches, tanimoto_scores_file, query_spectra, sqlite_file_location)\u001B[0m\n\u001B[0;32m     36\u001B[0m         \u001B[0mquery_spectrum_inchikey\u001B[0m \u001B[1;33m=\u001B[0m \u001B[0mquery_spectrum\u001B[0m\u001B[1;33m.\u001B[0m\u001B[0mget\u001B[0m\u001B[1;33m(\u001B[0m\u001B[1;34m\"inchikey\"\u001B[0m\u001B[1;33m)\u001B[0m\u001B[1;33m[\u001B[0m\u001B[1;33m:\u001B[0m\u001B[1;36m14\u001B[0m\u001B[1;33m]\u001B[0m\u001B[1;33m\u001B[0m\u001B[1;33m\u001B[0m\u001B[0m\n\u001B[0;32m     37\u001B[0m \u001B[1;33m\u001B[0m\u001B[0m\n\u001B[1;32m---> 38\u001B[1;33m         \u001B[0mbest_match\u001B[0m \u001B[1;33m=\u001B[0m \u001B[0mresult_matches\u001B[0m\u001B[1;33m[\u001B[0m\u001B[0mquery_spectrum_id\u001B[0m\u001B[1;33m]\u001B[0m\u001B[1;33m.\u001B[0m\u001B[0miloc\u001B[0m\u001B[1;33m[\u001B[0m\u001B[1;36m0\u001B[0m\u001B[1;33m]\u001B[0m\u001B[1;33m\u001B[0m\u001B[1;33m\u001B[0m\u001B[0m\n\u001B[0m\u001B[0;32m     39\u001B[0m         \u001B[0mbest_match_score\u001B[0m \u001B[1;33m=\u001B[0m \u001B[0mbest_match\u001B[0m\u001B[1;33m.\u001B[0m\u001B[0mloc\u001B[0m\u001B[1;33m[\u001B[0m\u001B[1;34m\"ms2query_model_prediction\"\u001B[0m\u001B[1;33m]\u001B[0m\u001B[1;33m\u001B[0m\u001B[1;33m\u001B[0m\u001B[0m\n\u001B[0;32m     40\u001B[0m         \u001B[0mbest_match_spectrum_id\u001B[0m \u001B[1;33m=\u001B[0m \u001B[0mbest_match\u001B[0m\u001B[1;33m.\u001B[0m\u001B[0mname\u001B[0m\u001B[1;33m\u001B[0m\u001B[1;33m\u001B[0m\u001B[0m\n",
      "\u001B[1;31mKeyError\u001B[0m: 'CCMSLIB00005960173'"
     ]
    }
   ],
   "source": [
    "best_ms2q_hits_perfect_matches = select_best_ms2query_and_calculate_tanimoto_score(results, tanimoto_scores_df_file, test_spectra_with_match, sqlite_file)"
   ]
  },
  {
   "cell_type": "code",
   "execution_count": 21,
   "id": "df2ed2d6",
   "metadata": {},
   "outputs": [],
   "source": [
    "from matplotlib import pyplot as plt\n",
    "import numpy as np\n",
    "        \n",
    "\n",
    "def plot_tanimoto_score_distribution_for_ms2query_cut_offs(ms2query_scores_and_tanimoto, cut_offs, legend_title):\n",
    "    bins = np.linspace(0, 1, 11)\n",
    "\n",
    "    weight_to_convert_to_percentage = 100/len(ms2query_scores_and_tanimoto)\n",
    "\n",
    "    for cut_off in cut_offs:\n",
    "        selected_scores = [scores[1] for scores in ms2query_scores_and_tanimoto if scores[0] > cut_off]\n",
    "        print(\"percentage selected = \" + str(len(selected_scores)/len(ms2query_scores_and_tanimoto)*100))\n",
    "        weights = [weight_to_convert_to_percentage] * len(selected_scores)\n",
    "        \n",
    "        plt.hist(selected_scores, bins, label = f\"{cut_off:.2f}\", weights = weights, histtype = \"step\")\n",
    "    \n",
    "    plt.legend(loc = \"upper center\", title = legend_title, ncol = 3)\n",
    "    plt.xlabel(\"tanimoto_score\")\n",
    "    plt.ylabel(\"Percentage of matches (%)\")\n",
    "    plt.ylim(0, 25)\n",
    "\n",
    "    plt.show\n",
    "\n",
    "def compare_tanimoto_score_distribution(ms2query_scores_and_tanimoto, ms2deepscore_scores_and_tanimoto, cut_off_ms2q, cut_off_ms2d):\n",
    "    bins = np.linspace(0, 1, 11)\n",
    "\n",
    "    \n",
    "    # Select scores for ms2query\n",
    "    selected_scores_ms2q = [scores[1] for scores in ms2query_scores_and_tanimoto if scores[0] > cut_off_ms2q]\n",
    "    ms2q_percentage_selected = len(selected_scores_ms2q)/len(ms2query_scores_and_tanimoto)*100\n",
    "    print(ms2q_percentage_selected)\n",
    "    weight_to_convert_to_percentage = 100/len(ms2query_scores_and_tanimoto)\n",
    "    weights_ms2q = [weight_to_convert_to_percentage] * len(selected_scores_ms2q)\n",
    "\n",
    "    # Select scores for ms2ds\n",
    "    selected_scores_ms2d = [scores[1] for scores in ms2deepscore_scores_and_tanimoto if scores[0] > cut_off_ms2d]\n",
    "    ms2d_percentage_selected = len(selected_scores_ms2d)/len(ms2deepscore_scores_and_tanimoto)*100\n",
    "    print(ms2d_percentage_selected)\n",
    "    weight_to_convert_to_percentage = 100/len(ms2deepscore_scores_and_tanimoto)\n",
    "    weights_ms2d = [weight_to_convert_to_percentage] * len(selected_scores_ms2d)\n",
    "    \n",
    "    \n",
    "    plt.hist([selected_scores_ms2d, selected_scores_ms2q], bins, label = [\"MS2Deepscore\", \"MS2Query\"], weights = [weights_ms2d, weights_ms2q])\n",
    "    \n",
    "    plt.legend(loc = \"upper center\", title = \"Select on:\")\n",
    "    plt.xlabel(\"tanimoto_score\")\n",
    "    plt.ylabel(\"Percentage of matches (%)\")\n",
    "    plt.ylim(0, 15)\n",
    "\n",
    "    plt.show"
   ]
  },
  {
   "cell_type": "code",
   "execution_count": 22,
   "id": "48f7af68",
   "metadata": {},
   "outputs": [
    {
     "name": "stdout",
     "output_type": "stream",
     "text": [
      "44.17777777777778\n",
      "19.98199819981998\n"
     ]
    },
    {
     "data": {
      "image/png": "[encoded data removed]",
      "text/plain": [
       "<Figure size 432x288 with 1 Axes>"
      ]
     },
     "metadata": {
      "needs_background": "light"
     },
     "output_type": "display_data"
    }
   ],
   "source": [
    "compare_tanimoto_score_distribution(best_ms2q_hits, best_ms2ds_hits, 0.696, 0.958)"
   ]
  },
  {
   "cell_type": "code",
   "execution_count": null,
   "id": "9bd8a431",
   "metadata": {},
   "outputs": [],
   "source": []
  }
 ],
 "metadata": {
  "kernelspec": {
   "display_name": "Python 3 (ipykernel)",
   "language": "python",
   "name": "python3"
  },
  "language_info": {
   "codemirror_mode": {
    "name": "ipython",
    "version": 3
   },
   "file_extension": ".py",
   "mimetype": "text/x-python",
   "name": "python",
   "nbconvert_exporter": "python",
   "pygments_lexer": "ipython3",
   "version": "3.8.11"
  }
 },
 "nbformat": 4,
 "nbformat_minor": 5
}