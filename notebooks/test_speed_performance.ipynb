{
 "cells": [
  {
   "cell_type": "markdown",
   "metadata": {},
   "source": [
    "# Test speed performance analog library search"
   ]
  },
  {
   "cell_type": "markdown",
   "metadata": {},
   "source": [
    "Define all file names "
   ]
  },
  {
   "cell_type": "code",
   "execution_count": 1,
   "metadata": {},
   "outputs": [],
   "source": [
    "# The sys.stdout statements is to resolve proplems with printing statements in jupyter notebook, \n",
    "# when removed progress updates printed are not always shown in the notebook\n",
    "import sys\n",
    "stdout = sys.stdout\n",
    "from ms2query.ms2library import MS2Library\n",
    "from ms2query.utils import load_pickled_file\n",
    "sys.stdout = stdout\n",
    "\n",
    "tanimoto_scores_df_file = \"../downloads/gnps_210409/ALL_GNPS_210409_positive_tanimoto_scores.pickle\"\n",
    "sqlite_file =  \"../downloads/gnps_210409/spectra/ALL_GNPS_210409_train_split.sqlite\"\n",
    "\n",
    "# Models\n",
    "s2v_model_file = \"../downloads/gnps_210409/models/ALL_GNPS_210409_Spec2Vec_ms2query.model\"\n",
    "ms2ds_model_file = \"../downloads/gnps_210409/models/ms2ds_20210420-141937_data210409_10k_500_500_200.hdf5\"\n",
    "ms2query_model = \"../downloads/gnps_210409/train_ms2query_model/ms2query_model_all_scores.hdf5\"\n",
    "\n",
    "# Embeddings\n",
    "s2v_embeddings_file =  \"../downloads/gnps_210409/embeddings/s2v_embeddings_train_spectra_210426.pickle\"\n",
    "ms2ds_embeddings_file =  \"../downloads/gnps_210409/embeddings/ms2ds_embeddings_train_spectra_210426.pickle\"\n",
    "\n",
    "# Validation spectra\n",
    "validation_spectra_file = \"../downloads/gnps_210409/spectra/ALL_GNPS_210409_val_split.pickle\"\n",
    "validation_spectra = load_pickled_file(validation_spectra_file)"
   ]
  },
  {
   "cell_type": "markdown",
   "metadata": {},
   "source": [
    "Speed performance for 1000 spectra with a preselection_cut_off = 300"
   ]
  },
  {
   "cell_type": "code",
   "execution_count": 2,
   "metadata": {},
   "outputs": [
    {
     "name": "stdout",
     "output_type": "stream",
     "text": [
      "Calculating all MS2DS scores\n",
      "Calculating MS2Deepscore embeddings for query spectra\n",
      "Calculating MS2Deepscore between query embeddings and library embeddings\n"
     ]
    },
    {
     "name": "stderr",
     "output_type": "stream",
     "text": [
      "collecting matches info:   1%|▊                                                                                                                                  | 6/1000 [00:02<04:09,  3.99it/s]"
     ]
    },
    {
     "name": "stdout",
     "output_type": "stream",
     "text": [
      "Found 1 word(s) missing in the model. Weighted missing percentage not covered by the given model is 1.01%.\n"
     ]
    },
    {
     "name": "stderr",
     "output_type": "stream",
     "text": [
      "collecting matches info:   1%|█▊                                                                                                                                | 14/1000 [00:03<02:28,  6.66it/s]"
     ]
    },
    {
     "name": "stdout",
     "output_type": "stream",
     "text": [
      "Found 2 word(s) missing in the model. Weighted missing percentage not covered by the given model is 3.57%.\n"
     ]
    },
    {
     "name": "stderr",
     "output_type": "stream",
     "text": [
      "collecting matches info:   7%|████████▉                                                                                                                         | 69/1000 [00:11<02:07,  7.29it/s]"
     ]
    },
    {
     "name": "stdout",
     "output_type": "stream",
     "text": [
      "Found 1 word(s) missing in the model. Weighted missing percentage not covered by the given model is 0.33%.\n"
     ]
    },
    {
     "name": "stderr",
     "output_type": "stream",
     "text": [
      "collecting matches info:   7%|█████████▏                                                                                                                        | 71/1000 [00:11<02:25,  6.37it/s]"
     ]
    },
    {
     "name": "stdout",
     "output_type": "stream",
     "text": [
      "Found 1 word(s) missing in the model. Weighted missing percentage not covered by the given model is 1.32%.\n"
     ]
    },
    {
     "name": "stderr",
     "output_type": "stream",
     "text": [
      "collecting matches info:   8%|██████████                                                                                                                        | 77/1000 [00:13<03:54,  3.94it/s]"
     ]
    },
    {
     "name": "stdout",
     "output_type": "stream",
     "text": [
      "Found 1 word(s) missing in the model. Weighted missing percentage not covered by the given model is 0.59%.\n"
     ]
    },
    {
     "name": "stderr",
     "output_type": "stream",
     "text": [
      "\r",
      "collecting matches info:   8%|██████████▏                                                                                                                       | 78/1000 [00:13<04:01,  3.82it/s]"
     ]
    },
    {
     "name": "stdout",
     "output_type": "stream",
     "text": [
      "Found 1 word(s) missing in the model. Weighted missing percentage not covered by the given model is 0.44%.\n"
     ]
    },
    {
     "name": "stderr",
     "output_type": "stream",
     "text": [
      "collecting matches info:   9%|████████████▏                                                                                                                     | 94/1000 [00:16<02:31,  5.97it/s]"
     ]
    },
    {
     "name": "stdout",
     "output_type": "stream",
     "text": [
      "Found 1 word(s) missing in the model. Weighted missing percentage not covered by the given model is 0.87%.\n"
     ]
    },
    {
     "name": "stderr",
     "output_type": "stream",
     "text": [
      "collecting matches info:  10%|█████████████▎                                                                                                                   | 103/1000 [00:17<01:34,  9.50it/s]"
     ]
    },
    {
     "name": "stdout",
     "output_type": "stream",
     "text": [
      "Found 1 word(s) missing in the model. Weighted missing percentage not covered by the given model is 0.53%.\n",
      "Found 1 word(s) missing in the model. Weighted missing percentage not covered by the given model is 1.10%.\n",
      "Found 1 word(s) missing in the model. Weighted missing percentage not covered by the given model is 1.11%.\n"
     ]
    },
    {
     "name": "stderr",
     "output_type": "stream",
     "text": [
      "collecting matches info:  14%|█████████████████▍                                                                                                               | 135/1000 [00:22<02:45,  5.22it/s]"
     ]
    },
    {
     "name": "stdout",
     "output_type": "stream",
     "text": [
      "Found 5 word(s) missing in the model. Weighted missing percentage not covered by the given model is 8.47%.\n"
     ]
    },
    {
     "name": "stderr",
     "output_type": "stream",
     "text": [
      "collecting matches info:  15%|██████████████████▉                                                                                                              | 147/1000 [00:24<02:03,  6.88it/s]"
     ]
    },
    {
     "name": "stdout",
     "output_type": "stream",
     "text": [
      "Found 1 word(s) missing in the model. Weighted missing percentage not covered by the given model is 0.43%.\n",
      "Found 1 word(s) missing in the model. Weighted missing percentage not covered by the given model is 0.45%.\n"
     ]
    },
    {
     "name": "stderr",
     "output_type": "stream",
     "text": [
      "collecting matches info:  17%|█████████████████████▌                                                                                                           | 167/1000 [00:29<02:37,  5.29it/s]"
     ]
    },
    {
     "name": "stdout",
     "output_type": "stream",
     "text": [
      "Found 1 word(s) missing in the model. Weighted missing percentage not covered by the given model is 0.58%.\n",
      "Found 1 word(s) missing in the model. Weighted missing percentage not covered by the given model is 0.28%.\n"
     ]
    },
    {
     "name": "stderr",
     "output_type": "stream",
     "text": [
      "collecting matches info:  17%|██████████████████████▏                                                                                                          | 172/1000 [00:29<02:24,  5.74it/s]"
     ]
    },
    {
     "name": "stdout",
     "output_type": "stream",
     "text": [
      "Found 3 word(s) missing in the model. Weighted missing percentage not covered by the given model is 1.47%.\n"
     ]
    },
    {
     "name": "stderr",
     "output_type": "stream",
     "text": [
      "collecting matches info:  21%|██████████████████████████▉                                                                                                      | 209/1000 [00:36<01:47,  7.35it/s]"
     ]
    },
    {
     "name": "stdout",
     "output_type": "stream",
     "text": [
      "Found 1 word(s) missing in the model. Weighted missing percentage not covered by the given model is 1.39%.\n"
     ]
    },
    {
     "name": "stderr",
     "output_type": "stream",
     "text": [
      "collecting matches info:  21%|███████████████████████████▌                                                                                                     | 214/1000 [00:37<01:37,  8.05it/s]"
     ]
    },
    {
     "name": "stdout",
     "output_type": "stream",
     "text": [
      "Found 1 word(s) missing in the model. Weighted missing percentage not covered by the given model is 0.24%.\n"
     ]
    },
    {
     "name": "stderr",
     "output_type": "stream",
     "text": [
      "collecting matches info:  22%|███████████████████████████▊                                                                                                     | 216/1000 [00:37<01:43,  7.61it/s]"
     ]
    },
    {
     "name": "stdout",
     "output_type": "stream",
     "text": [
      "Found 1 word(s) missing in the model. Weighted missing percentage not covered by the given model is 0.59%.\n"
     ]
    },
    {
     "name": "stderr",
     "output_type": "stream",
     "text": [
      "collecting matches info:  23%|█████████████████████████████▌                                                                                                   | 229/1000 [00:40<03:05,  4.16it/s]"
     ]
    },
    {
     "name": "stdout",
     "output_type": "stream",
     "text": [
      "Found 1 word(s) missing in the model. Weighted missing percentage not covered by the given model is 1.92%.\n"
     ]
    },
    {
     "name": "stderr",
     "output_type": "stream",
     "text": [
      "collecting matches info:  28%|████████████████████████████████████▋                                                                                            | 284/1000 [00:53<02:37,  4.55it/s]"
     ]
    },
    {
     "name": "stdout",
     "output_type": "stream",
     "text": [
      "Found 3 word(s) missing in the model. Weighted missing percentage not covered by the given model is 2.48%.\n"
     ]
    },
    {
     "name": "stderr",
     "output_type": "stream",
     "text": [
      "\r",
      "collecting matches info:  28%|████████████████████████████████████▊                                                                                            | 285/1000 [00:54<02:55,  4.08it/s]"
     ]
    },
    {
     "name": "stdout",
     "output_type": "stream",
     "text": [
      "Found 12 word(s) missing in the model. Weighted missing percentage not covered by the given model is 7.36%.\n"
     ]
    },
    {
     "name": "stderr",
     "output_type": "stream",
     "text": [
      "collecting matches info:  29%|█████████████████████████████████████▏                                                                                           | 288/1000 [00:54<02:34,  4.60it/s]"
     ]
    },
    {
     "name": "stdout",
     "output_type": "stream",
     "text": [
      "Found 1 word(s) missing in the model. Weighted missing percentage not covered by the given model is 6.67%.\n",
      "Found 6 word(s) missing in the model. Weighted missing percentage not covered by the given model is 4.80%.\n"
     ]
    },
    {
     "name": "stderr",
     "output_type": "stream",
     "text": [
      "\r",
      "collecting matches info:  29%|█████████████████████████████████████▎                                                                                           | 289/1000 [00:55<02:32,  4.68it/s]"
     ]
    },
    {
     "name": "stdout",
     "output_type": "stream",
     "text": [
      "Found 8 word(s) missing in the model. Weighted missing percentage not covered by the given model is 5.16%.\n"
     ]
    },
    {
     "name": "stderr",
     "output_type": "stream",
     "text": [
      "collecting matches info:  30%|██████████████████████████████████████                                                                                           | 295/1000 [00:56<02:30,  4.67it/s]"
     ]
    },
    {
     "name": "stdout",
     "output_type": "stream",
     "text": [
      "Found 2 word(s) missing in the model. Weighted missing percentage not covered by the given model is 6.06%.\n"
     ]
    },
    {
     "name": "stderr",
     "output_type": "stream",
     "text": [
      "collecting matches info:  30%|██████████████████████████████████████▎                                                                                          | 297/1000 [00:57<02:42,  4.33it/s]"
     ]
    },
    {
     "name": "stdout",
     "output_type": "stream",
     "text": [
      "Found 1 word(s) missing in the model. Weighted missing percentage not covered by the given model is 4.35%.\n"
     ]
    },
    {
     "name": "stderr",
     "output_type": "stream",
     "text": [
      "collecting matches info:  30%|███████████████████████████████████████▎                                                                                         | 305/1000 [00:58<02:36,  4.44it/s]"
     ]
    },
    {
     "name": "stdout",
     "output_type": "stream",
     "text": [
      "Found 1 word(s) missing in the model. Weighted missing percentage not covered by the given model is 4.55%.\n"
     ]
    },
    {
     "name": "stderr",
     "output_type": "stream",
     "text": [
      "collecting matches info:  32%|████████████████████████████████████████▉                                                                                        | 317/1000 [01:01<02:25,  4.69it/s]"
     ]
    },
    {
     "name": "stdout",
     "output_type": "stream",
     "text": [
      "Found 1 word(s) missing in the model. Weighted missing percentage not covered by the given model is 0.61%.\n"
     ]
    },
    {
     "name": "stderr",
     "output_type": "stream",
     "text": [
      "\r",
      "collecting matches info:  32%|█████████████████████████████████████████                                                                                        | 318/1000 [01:01<02:31,  4.49it/s]"
     ]
    },
    {
     "name": "stdout",
     "output_type": "stream",
     "text": [
      "Found 1 word(s) missing in the model. Weighted missing percentage not covered by the given model is 0.61%.\n"
     ]
    },
    {
     "name": "stderr",
     "output_type": "stream",
     "text": [
      "collecting matches info:  32%|█████████████████████████████████████████▎                                                                                       | 320/1000 [01:02<02:10,  5.20it/s]"
     ]
    },
    {
     "name": "stdout",
     "output_type": "stream",
     "text": [
      "Found 1 word(s) missing in the model. Weighted missing percentage not covered by the given model is 0.48%.\n"
     ]
    },
    {
     "name": "stderr",
     "output_type": "stream",
     "text": [
      "collecting matches info:  35%|█████████████████████████████████████████████                                                                                    | 349/1000 [01:08<02:10,  4.99it/s]"
     ]
    },
    {
     "name": "stdout",
     "output_type": "stream",
     "text": [
      "Found 6 word(s) missing in the model. Weighted missing percentage not covered by the given model is 2.63%.\n"
     ]
    },
    {
     "name": "stderr",
     "output_type": "stream",
     "text": [
      "collecting matches info:  35%|█████████████████████████████████████████████▎                                                                                   | 351/1000 [01:09<02:09,  5.02it/s]"
     ]
    },
    {
     "name": "stdout",
     "output_type": "stream",
     "text": [
      "Found 13 word(s) missing in the model. Weighted missing percentage not covered by the given model is 6.22%.\n"
     ]
    },
    {
     "name": "stderr",
     "output_type": "stream",
     "text": [
      "\r",
      "collecting matches info:  35%|█████████████████████████████████████████████▍                                                                                   | 352/1000 [01:09<02:12,  4.90it/s]"
     ]
    },
    {
     "name": "stdout",
     "output_type": "stream",
     "text": [
      "Found 7 word(s) missing in the model. Weighted missing percentage not covered by the given model is 3.11%.\n"
     ]
    },
    {
     "name": "stderr",
     "output_type": "stream",
     "text": [
      "collecting matches info:  35%|█████████████████████████████████████████████▋                                                                                   | 354/1000 [01:09<02:28,  4.35it/s]"
     ]
    },
    {
     "name": "stdout",
     "output_type": "stream",
     "text": [
      "Found 15 word(s) missing in the model. Weighted missing percentage not covered by the given model is 7.04%.\n"
     ]
    },
    {
     "name": "stderr",
     "output_type": "stream",
     "text": [
      "collecting matches info:  36%|██████████████████████████████████████████████                                                                                   | 357/1000 [01:10<02:26,  4.40it/s]"
     ]
    },
    {
     "name": "stdout",
     "output_type": "stream",
     "text": [
      "Found 11 word(s) missing in the model. Weighted missing percentage not covered by the given model is 4.93%.\n"
     ]
    },
    {
     "name": "stderr",
     "output_type": "stream",
     "text": [
      "collecting matches info:  36%|██████████████████████████████████████████████▎                                                                                  | 359/1000 [01:10<02:25,  4.42it/s]"
     ]
    },
    {
     "name": "stdout",
     "output_type": "stream",
     "text": [
      "Found 17 word(s) missing in the model. Weighted missing percentage not covered by the given model is 8.06%.\n"
     ]
    },
    {
     "name": "stderr",
     "output_type": "stream",
     "text": [
      "collecting matches info:  36%|██████████████████████████████████████████████▋                                                                                  | 362/1000 [01:11<02:29,  4.28it/s]"
     ]
    },
    {
     "name": "stdout",
     "output_type": "stream",
     "text": [
      "Found 6 word(s) missing in the model. Weighted missing percentage not covered by the given model is 2.80%.\n"
     ]
    },
    {
     "name": "stderr",
     "output_type": "stream",
     "text": [
      "collecting matches info:  36%|██████████████████████████████████████████████▉                                                                                  | 364/1000 [01:12<02:15,  4.68it/s]"
     ]
    },
    {
     "name": "stdout",
     "output_type": "stream",
     "text": [
      "Found 15 word(s) missing in the model. Weighted missing percentage not covered by the given model is 7.28%.\n"
     ]
    },
    {
     "name": "stderr",
     "output_type": "stream",
     "text": [
      "collecting matches info:  37%|███████████████████████████████████████████████▏                                                                                 | 366/1000 [01:12<02:03,  5.13it/s]"
     ]
    },
    {
     "name": "stdout",
     "output_type": "stream",
     "text": [
      "Found 7 word(s) missing in the model. Weighted missing percentage not covered by the given model is 4.22%.\n"
     ]
    },
    {
     "name": "stderr",
     "output_type": "stream",
     "text": [
      "collecting matches info:  37%|███████████████████████████████████████████████▍                                                                                 | 368/1000 [01:12<02:06,  4.99it/s]"
     ]
    },
    {
     "name": "stdout",
     "output_type": "stream",
     "text": [
      "Found 10 word(s) missing in the model. Weighted missing percentage not covered by the given model is 5.08%.\n",
      "Found 1 word(s) missing in the model. Weighted missing percentage not covered by the given model is 5.88%.\n"
     ]
    },
    {
     "name": "stderr",
     "output_type": "stream",
     "text": [
      "\r",
      "collecting matches info:  37%|███████████████████████████████████████████████▌                                                                                 | 369/1000 [01:13<02:31,  4.17it/s]"
     ]
    },
    {
     "name": "stdout",
     "output_type": "stream",
     "text": [
      "Found 1 word(s) missing in the model. Weighted missing percentage not covered by the given model is 5.00%.\n",
      "Found 8 word(s) missing in the model. Weighted missing percentage not covered by the given model is 4.68%.\n"
     ]
    },
    {
     "name": "stderr",
     "output_type": "stream",
     "text": [
      "collecting matches info:  37%|███████████████████████████████████████████████▊                                                                                 | 371/1000 [01:13<02:31,  4.16it/s]"
     ]
    },
    {
     "name": "stdout",
     "output_type": "stream",
     "text": [
      "Found 6 word(s) missing in the model. Weighted missing percentage not covered by the given model is 3.24%.\n"
     ]
    },
    {
     "name": "stderr",
     "output_type": "stream",
     "text": [
      "\r",
      "collecting matches info:  37%|███████████████████████████████████████████████▉                                                                                 | 372/1000 [01:13<02:27,  4.27it/s]"
     ]
    },
    {
     "name": "stdout",
     "output_type": "stream",
     "text": [
      "Found 1 word(s) missing in the model. Weighted missing percentage not covered by the given model is 6.25%.\n"
     ]
    },
    {
     "name": "stderr",
     "output_type": "stream",
     "text": [
      "collecting matches info:  37%|████████████████████████████████████████████████▏                                                                                | 374/1000 [01:14<02:28,  4.23it/s]"
     ]
    },
    {
     "name": "stdout",
     "output_type": "stream",
     "text": [
      "Found 1 word(s) missing in the model. Weighted missing percentage not covered by the given model is 5.26%.\n"
     ]
    },
    {
     "name": "stderr",
     "output_type": "stream",
     "text": [
      "collecting matches info:  39%|█████████████████████████████████████████████████▉                                                                               | 387/1000 [01:16<01:47,  5.70it/s]"
     ]
    },
    {
     "name": "stdout",
     "output_type": "stream",
     "text": [
      "Found 1 word(s) missing in the model. Weighted missing percentage not covered by the given model is 2.08%.\n"
     ]
    },
    {
     "name": "stderr",
     "output_type": "stream",
     "text": [
      "collecting matches info:  39%|██████████████████████████████████████████████████▎                                                                              | 390/1000 [01:17<01:49,  5.57it/s]"
     ]
    },
    {
     "name": "stdout",
     "output_type": "stream",
     "text": [
      "Found 2 word(s) missing in the model. Weighted missing percentage not covered by the given model is 0.65%.\n"
     ]
    },
    {
     "name": "stderr",
     "output_type": "stream",
     "text": [
      "collecting matches info:  41%|████████████████████████████████████████████████████▎                                                                            | 406/1000 [01:18<00:50, 11.69it/s]"
     ]
    },
    {
     "name": "stdout",
     "output_type": "stream",
     "text": [
      "Found 1 word(s) missing in the model. Weighted missing percentage not covered by the given model is 0.89%.\n"
     ]
    },
    {
     "name": "stderr",
     "output_type": "stream",
     "text": [
      "collecting matches info:  42%|█████████████████████████████████████████████████████▋                                                                           | 416/1000 [01:19<00:37, 15.45it/s]"
     ]
    },
    {
     "name": "stdout",
     "output_type": "stream",
     "text": [
      "Found 2 word(s) missing in the model. Weighted missing percentage not covered by the given model is 1.18%.\n",
      "Found 1 word(s) missing in the model. Weighted missing percentage not covered by the given model is 0.63%.\n"
     ]
    },
    {
     "name": "stderr",
     "output_type": "stream",
     "text": [
      "collecting matches info:  43%|███████████████████████████████████████████████████████                                                                          | 427/1000 [01:19<00:36, 15.76it/s]"
     ]
    },
    {
     "name": "stdout",
     "output_type": "stream",
     "text": [
      "Found 2 word(s) missing in the model. Weighted missing percentage not covered by the given model is 0.47%.\n",
      "Found 6 word(s) missing in the model. Weighted missing percentage not covered by the given model is 1.57%.\n",
      "Found 5 word(s) missing in the model. Weighted missing percentage not covered by the given model is 1.30%.\n"
     ]
    },
    {
     "name": "stderr",
     "output_type": "stream",
     "text": [
      "\r",
      "collecting matches info:  43%|███████████████████████████████████████████████████████▎                                                                         | 429/1000 [01:19<00:34, 16.75it/s]"
     ]
    },
    {
     "name": "stdout",
     "output_type": "stream",
     "text": [
      "Found 1 word(s) missing in the model. Weighted missing percentage not covered by the given model is 0.52%.\n"
     ]
    },
    {
     "name": "stderr",
     "output_type": "stream",
     "text": [
      "collecting matches info:  47%|████████████████████████████████████████████████████████████▏                                                                    | 467/1000 [01:25<01:17,  6.89it/s]"
     ]
    },
    {
     "name": "stdout",
     "output_type": "stream",
     "text": [
      "Found 1 word(s) missing in the model. Weighted missing percentage not covered by the given model is 0.19%.\n",
      "Found 1 word(s) missing in the model. Weighted missing percentage not covered by the given model is 0.51%.\n"
     ]
    },
    {
     "name": "stderr",
     "output_type": "stream",
     "text": [
      "collecting matches info:  47%|█████████████████████████████████████████████████████████████▏                                                                   | 474/1000 [01:26<01:16,  6.85it/s]"
     ]
    },
    {
     "name": "stdout",
     "output_type": "stream",
     "text": [
      "Found 3 word(s) missing in the model. Weighted missing percentage not covered by the given model is 1.03%.\n",
      "Found 1 word(s) missing in the model. Weighted missing percentage not covered by the given model is 0.36%.\n"
     ]
    },
    {
     "name": "stderr",
     "output_type": "stream",
     "text": [
      "collecting matches info:  48%|██████████████████████████████████████████████████████████████▏                                                                  | 482/1000 [01:27<01:13,  7.06it/s]"
     ]
    },
    {
     "name": "stdout",
     "output_type": "stream",
     "text": [
      "Found 1 word(s) missing in the model. Weighted missing percentage not covered by the given model is 2.63%.\n"
     ]
    },
    {
     "name": "stderr",
     "output_type": "stream",
     "text": [
      "\r",
      "collecting matches info:  48%|██████████████████████████████████████████████████████████████▍                                                                  | 484/1000 [01:28<01:22,  6.28it/s]"
     ]
    },
    {
     "name": "stdout",
     "output_type": "stream",
     "text": [
      "Found 1 word(s) missing in the model. Weighted missing percentage not covered by the given model is 4.17%.\n"
     ]
    },
    {
     "name": "stderr",
     "output_type": "stream",
     "text": [
      "collecting matches info:  49%|██████████████████████████████████████████████████████████████▋                                                                  | 486/1000 [01:28<01:27,  5.88it/s]"
     ]
    },
    {
     "name": "stdout",
     "output_type": "stream",
     "text": [
      "Found 11 word(s) missing in the model. Weighted missing percentage not covered by the given model is 11.58%.\n",
      "Found 9 word(s) missing in the model. Weighted missing percentage not covered by the given model is 4.79%.\n"
     ]
    },
    {
     "name": "stderr",
     "output_type": "stream",
     "text": [
      "collecting matches info:  49%|███████████████████████████████████████████████████████████████                                                                  | 489/1000 [01:29<01:14,  6.86it/s]"
     ]
    },
    {
     "name": "stdout",
     "output_type": "stream",
     "text": [
      "Found 2 word(s) missing in the model. Weighted missing percentage not covered by the given model is 0.34%.\n",
      "Found 9 word(s) missing in the model. Weighted missing percentage not covered by the given model is 10.23%.\n"
     ]
    },
    {
     "name": "stderr",
     "output_type": "stream",
     "text": [
      "\r",
      "collecting matches info:  49%|███████████████████████████████████████████████████████████████▎                                                                 | 491/1000 [01:29<01:08,  7.45it/s]"
     ]
    },
    {
     "name": "stdout",
     "output_type": "stream",
     "text": [
      "Found 10 word(s) missing in the model. Weighted missing percentage not covered by the given model is 5.13%.\n",
      "Found 3 word(s) missing in the model. Weighted missing percentage not covered by the given model is 0.52%.\n"
     ]
    },
    {
     "name": "stderr",
     "output_type": "stream",
     "text": [
      "collecting matches info:  49%|███████████████████████████████████████████████████████████████▌                                                                 | 493/1000 [01:29<01:10,  7.18it/s]"
     ]
    },
    {
     "name": "stdout",
     "output_type": "stream",
     "text": [
      "Found 7 word(s) missing in the model. Weighted missing percentage not covered by the given model is 7.07%.\n",
      "Found 10 word(s) missing in the model. Weighted missing percentage not covered by the given model is 5.13%.\n"
     ]
    },
    {
     "name": "stderr",
     "output_type": "stream",
     "text": [
      "\r",
      "collecting matches info:  49%|███████████████████████████████████████████████████████████████▋                                                                 | 494/1000 [01:29<01:11,  7.08it/s]"
     ]
    },
    {
     "name": "stdout",
     "output_type": "stream",
     "text": [
      "Found 4 word(s) missing in the model. Weighted missing percentage not covered by the given model is 0.68%.\n"
     ]
    },
    {
     "name": "stderr",
     "output_type": "stream",
     "text": [
      "collecting matches info:  50%|████████████████████████████████████████████████████████████████▎                                                                | 499/1000 [01:30<01:16,  6.51it/s]"
     ]
    },
    {
     "name": "stdout",
     "output_type": "stream",
     "text": [
      "Found 1 word(s) missing in the model. Weighted missing percentage not covered by the given model is 0.39%.\n"
     ]
    },
    {
     "name": "stderr",
     "output_type": "stream",
     "text": [
      "collecting matches info:  51%|█████████████████████████████████████████████████████████████████▎                                                               | 506/1000 [01:31<00:54,  9.12it/s]"
     ]
    },
    {
     "name": "stdout",
     "output_type": "stream",
     "text": [
      "Found 1 word(s) missing in the model. Weighted missing percentage not covered by the given model is 0.72%.\n"
     ]
    },
    {
     "name": "stderr",
     "output_type": "stream",
     "text": [
      "collecting matches info:  51%|██████████████████████████████████████████████████████████████████                                                               | 512/1000 [01:32<00:50,  9.74it/s]"
     ]
    },
    {
     "name": "stdout",
     "output_type": "stream",
     "text": [
      "Found 2 word(s) missing in the model. Weighted missing percentage not covered by the given model is 0.78%.\n",
      "Found 2 word(s) missing in the model. Weighted missing percentage not covered by the given model is 0.75%.\n"
     ]
    },
    {
     "name": "stderr",
     "output_type": "stream",
     "text": [
      "collecting matches info:  52%|██████████████████████████████████████████████████████████████████▋                                                              | 517/1000 [01:32<00:49,  9.72it/s]"
     ]
    },
    {
     "name": "stdout",
     "output_type": "stream",
     "text": [
      "Found 2 word(s) missing in the model. Weighted missing percentage not covered by the given model is 0.93%.\n"
     ]
    },
    {
     "name": "stderr",
     "output_type": "stream",
     "text": [
      "collecting matches info:  57%|█████████████████████████████████████████████████████████████████████████▍                                                       | 569/1000 [01:42<00:46,  9.36it/s]"
     ]
    },
    {
     "name": "stdout",
     "output_type": "stream",
     "text": [
      "Found 1 word(s) missing in the model. Weighted missing percentage not covered by the given model is 0.79%.\n",
      "Found 2 word(s) missing in the model. Weighted missing percentage not covered by the given model is 1.69%.\n",
      "Found 1 word(s) missing in the model. Weighted missing percentage not covered by the given model is 0.66%.\n"
     ]
    },
    {
     "name": "stderr",
     "output_type": "stream",
     "text": [
      "\r",
      "collecting matches info:  57%|█████████████████████████████████████████████████████████████████████████▊                                                       | 572/1000 [01:42<00:35, 12.20it/s]"
     ]
    },
    {
     "name": "stdout",
     "output_type": "stream",
     "text": [
      "Found 1 word(s) missing in the model. Weighted missing percentage not covered by the given model is 0.56%.\n"
     ]
    },
    {
     "name": "stderr",
     "output_type": "stream",
     "text": [
      "collecting matches info:  58%|██████████████████████████████████████████████████████████████████████████▋                                                      | 579/1000 [01:42<00:25, 16.33it/s]"
     ]
    },
    {
     "name": "stdout",
     "output_type": "stream",
     "text": [
      "Found 1 word(s) missing in the model. Weighted missing percentage not covered by the given model is 0.90%.\n"
     ]
    },
    {
     "name": "stderr",
     "output_type": "stream",
     "text": [
      "collecting matches info:  59%|███████████████████████████████████████████████████████████████████████████▉                                                     | 589/1000 [01:43<00:20, 19.67it/s]"
     ]
    },
    {
     "name": "stdout",
     "output_type": "stream",
     "text": [
      "Found 2 word(s) missing in the model. Weighted missing percentage not covered by the given model is 0.77%.\n"
     ]
    },
    {
     "name": "stderr",
     "output_type": "stream",
     "text": [
      "collecting matches info:  60%|█████████████████████████████████████████████████████████████████████████████▌                                                   | 601/1000 [01:43<00:18, 21.20it/s]"
     ]
    },
    {
     "name": "stdout",
     "output_type": "stream",
     "text": [
      "Found 1 word(s) missing in the model. Weighted missing percentage not covered by the given model is 0.69%.\n",
      "Found 1 word(s) missing in the model. Weighted missing percentage not covered by the given model is 0.88%.\n"
     ]
    },
    {
     "name": "stderr",
     "output_type": "stream",
     "text": [
      "collecting matches info:  61%|██████████████████████████████████████████████████████████████████████████████▋                                                  | 610/1000 [01:44<00:18, 20.74it/s]"
     ]
    },
    {
     "name": "stdout",
     "output_type": "stream",
     "text": [
      "Found 1 word(s) missing in the model. Weighted missing percentage not covered by the given model is 1.06%.\n"
     ]
    },
    {
     "name": "stderr",
     "output_type": "stream",
     "text": [
      "collecting matches info:  62%|███████████████████████████████████████████████████████████████████████████████▊                                                 | 619/1000 [01:44<00:18, 20.78it/s]"
     ]
    },
    {
     "name": "stdout",
     "output_type": "stream",
     "text": [
      "Found 1 word(s) missing in the model. Weighted missing percentage not covered by the given model is 1.85%.\n",
      "Found 2 word(s) missing in the model. Weighted missing percentage not covered by the given model is 1.82%.\n"
     ]
    },
    {
     "name": "stderr",
     "output_type": "stream",
     "text": [
      "collecting matches info:  62%|████████████████████████████████████████████████████████████████████████████████▋                                                | 625/1000 [01:45<00:17, 21.76it/s]"
     ]
    },
    {
     "name": "stdout",
     "output_type": "stream",
     "text": [
      "Found 1 word(s) missing in the model. Weighted missing percentage not covered by the given model is 0.80%.\n"
     ]
    },
    {
     "name": "stderr",
     "output_type": "stream",
     "text": [
      "collecting matches info:  63%|█████████████████████████████████████████████████████████████████████████████████▊                                               | 634/1000 [01:45<00:17, 21.45it/s]"
     ]
    },
    {
     "name": "stdout",
     "output_type": "stream",
     "text": [
      "Found 1 word(s) missing in the model. Weighted missing percentage not covered by the given model is 0.97%.\n",
      "Found 1 word(s) missing in the model. Weighted missing percentage not covered by the given model is 0.80%.\n"
     ]
    },
    {
     "name": "stderr",
     "output_type": "stream",
     "text": [
      "collecting matches info:  65%|███████████████████████████████████████████████████████████████████████████████████▎                                             | 646/1000 [01:46<00:16, 20.94it/s]"
     ]
    },
    {
     "name": "stdout",
     "output_type": "stream",
     "text": [
      "Found 1 word(s) missing in the model. Weighted missing percentage not covered by the given model is 0.78%.\n",
      "Found 1 word(s) missing in the model. Weighted missing percentage not covered by the given model is 0.64%.\n"
     ]
    },
    {
     "name": "stderr",
     "output_type": "stream",
     "text": [
      "collecting matches info:  66%|████████████████████████████████████████████████████████████████████████████████████▉                                            | 658/1000 [01:46<00:16, 20.84it/s]"
     ]
    },
    {
     "name": "stdout",
     "output_type": "stream",
     "text": [
      "Found 1 word(s) missing in the model. Weighted missing percentage not covered by the given model is 0.97%.\n",
      "Found 1 word(s) missing in the model. Weighted missing percentage not covered by the given model is 0.94%.\n"
     ]
    },
    {
     "name": "stderr",
     "output_type": "stream",
     "text": [
      "collecting matches info:  66%|█████████████████████████████████████████████████████████████████████████████████████▌                                           | 663/1000 [01:47<00:28, 11.94it/s]"
     ]
    },
    {
     "name": "stdout",
     "output_type": "stream",
     "text": [
      "Found 1 word(s) missing in the model. Weighted missing percentage not covered by the given model is 0.79%.\n"
     ]
    },
    {
     "name": "stderr",
     "output_type": "stream",
     "text": [
      "collecting matches info:  67%|██████████████████████████████████████████████████████████████████████████████████████▎                                          | 669/1000 [01:48<00:46,  7.17it/s]"
     ]
    },
    {
     "name": "stdout",
     "output_type": "stream",
     "text": [
      "Found 1 word(s) missing in the model. Weighted missing percentage not covered by the given model is 4.35%.\n"
     ]
    },
    {
     "name": "stderr",
     "output_type": "stream",
     "text": [
      "collecting matches info:  67%|██████████████████████████████████████████████████████████████████████████████████████▉                                          | 674/1000 [01:49<00:54,  6.00it/s]"
     ]
    },
    {
     "name": "stdout",
     "output_type": "stream",
     "text": [
      "Found 1 word(s) missing in the model. Weighted missing percentage not covered by the given model is 5.88%.\n"
     ]
    },
    {
     "name": "stderr",
     "output_type": "stream",
     "text": [
      "collecting matches info:  68%|███████████████████████████████████████████████████████████████████████████████████████▍                                         | 678/1000 [01:49<00:57,  5.64it/s]"
     ]
    },
    {
     "name": "stdout",
     "output_type": "stream",
     "text": [
      "Found 1 word(s) missing in the model. Weighted missing percentage not covered by the given model is 0.64%.\n"
     ]
    },
    {
     "name": "stderr",
     "output_type": "stream",
     "text": [
      "collecting matches info:  68%|███████████████████████████████████████████████████████████████████████████████████████▉                                         | 682/1000 [01:50<00:58,  5.39it/s]"
     ]
    },
    {
     "name": "stdout",
     "output_type": "stream",
     "text": [
      "Found 1 word(s) missing in the model. Weighted missing percentage not covered by the given model is 5.00%.\n"
     ]
    },
    {
     "name": "stderr",
     "output_type": "stream",
     "text": [
      "collecting matches info:  68%|████████████████████████████████████████████████████████████████████████████████████████▏                                        | 684/1000 [01:51<01:05,  4.79it/s]"
     ]
    },
    {
     "name": "stdout",
     "output_type": "stream",
     "text": [
      "Found 1 word(s) missing in the model. Weighted missing percentage not covered by the given model is 5.88%.\n"
     ]
    },
    {
     "name": "stderr",
     "output_type": "stream",
     "text": [
      "collecting matches info:  69%|████████████████████████████████████████████████████████████████████████████████████████▊                                        | 688/1000 [01:51<01:01,  5.05it/s]"
     ]
    },
    {
     "name": "stdout",
     "output_type": "stream",
     "text": [
      "Found 1 word(s) missing in the model. Weighted missing percentage not covered by the given model is 1.08%.\n"
     ]
    },
    {
     "name": "stderr",
     "output_type": "stream",
     "text": [
      "collecting matches info:  69%|█████████████████████████████████████████████████████████████████████████████████████████▎                                       | 692/1000 [01:52<01:09,  4.41it/s]"
     ]
    },
    {
     "name": "stdout",
     "output_type": "stream",
     "text": [
      "Found 1 word(s) missing in the model. Weighted missing percentage not covered by the given model is 0.83%.\n"
     ]
    },
    {
     "name": "stderr",
     "output_type": "stream",
     "text": [
      "collecting matches info:  70%|█████████████████████████████████████████████████████████████████████████████████████████▉                                       | 697/1000 [01:54<01:04,  4.69it/s]"
     ]
    },
    {
     "name": "stdout",
     "output_type": "stream",
     "text": [
      "Found 2 word(s) missing in the model. Weighted missing percentage not covered by the given model is 9.09%.\n"
     ]
    },
    {
     "name": "stderr",
     "output_type": "stream",
     "text": [
      "collecting matches info:  70%|██████████████████████████████████████████████████████████████████████████████████████████▋                                      | 703/1000 [01:55<00:56,  5.27it/s]"
     ]
    },
    {
     "name": "stdout",
     "output_type": "stream",
     "text": [
      "Found 1 word(s) missing in the model. Weighted missing percentage not covered by the given model is 1.67%.\n"
     ]
    },
    {
     "name": "stderr",
     "output_type": "stream",
     "text": [
      "collecting matches info:  71%|███████████████████████████████████████████████████████████████████████████████████████████▏                                     | 707/1000 [01:56<01:04,  4.57it/s]"
     ]
    },
    {
     "name": "stdout",
     "output_type": "stream",
     "text": [
      "Found 1 word(s) missing in the model. Weighted missing percentage not covered by the given model is 4.76%.\n"
     ]
    },
    {
     "name": "stderr",
     "output_type": "stream",
     "text": [
      "collecting matches info:  71%|███████████████████████████████████████████████████████████████████████████████████████████▌                                     | 710/1000 [01:56<01:02,  4.65it/s]"
     ]
    },
    {
     "name": "stdout",
     "output_type": "stream",
     "text": [
      "Found 1 word(s) missing in the model. Weighted missing percentage not covered by the given model is 0.82%.\n"
     ]
    },
    {
     "name": "stderr",
     "output_type": "stream",
     "text": [
      "collecting matches info:  72%|████████████████████████████████████████████████████████████████████████████████████████████▉                                    | 720/1000 [01:58<00:46,  6.07it/s]"
     ]
    },
    {
     "name": "stdout",
     "output_type": "stream",
     "text": [
      "Found 1 word(s) missing in the model. Weighted missing percentage not covered by the given model is 0.93%.\n"
     ]
    },
    {
     "name": "stderr",
     "output_type": "stream",
     "text": [
      "collecting matches info:  77%|██████████████████████████████████████████████████████████████████████████████████████████████████▉                              | 767/1000 [02:07<00:42,  5.52it/s]"
     ]
    },
    {
     "name": "stdout",
     "output_type": "stream",
     "text": [
      "Found 2 word(s) missing in the model. Weighted missing percentage not covered by the given model is 1.82%.\n"
     ]
    },
    {
     "name": "stderr",
     "output_type": "stream",
     "text": [
      "collecting matches info:  77%|███████████████████████████████████████████████████████████████████████████████████████████████████▏                             | 769/1000 [02:07<00:38,  5.95it/s]"
     ]
    },
    {
     "name": "stdout",
     "output_type": "stream",
     "text": [
      "Found 1 word(s) missing in the model. Weighted missing percentage not covered by the given model is 2.78%.\n"
     ]
    },
    {
     "name": "stderr",
     "output_type": "stream",
     "text": [
      "collecting matches info:  77%|███████████████████████████████████████████████████████████████████████████████████████████████████▋                             | 773/1000 [02:08<00:39,  5.69it/s]"
     ]
    },
    {
     "name": "stdout",
     "output_type": "stream",
     "text": [
      "Found 1 word(s) missing in the model. Weighted missing percentage not covered by the given model is 1.00%.\n"
     ]
    },
    {
     "name": "stderr",
     "output_type": "stream",
     "text": [
      "collecting matches info:  78%|████████████████████████████████████████████████████████████████████████████████████████████████████▏                            | 777/1000 [02:08<00:37,  5.91it/s]"
     ]
    },
    {
     "name": "stdout",
     "output_type": "stream",
     "text": [
      "Found 1 word(s) missing in the model. Weighted missing percentage not covered by the given model is 0.51%.\n"
     ]
    },
    {
     "name": "stderr",
     "output_type": "stream",
     "text": [
      "collecting matches info:  78%|████████████████████████████████████████████████████████████████████████████████████████████████████▌                            | 780/1000 [02:09<00:38,  5.75it/s]"
     ]
    },
    {
     "name": "stdout",
     "output_type": "stream",
     "text": [
      "Found 1 word(s) missing in the model. Weighted missing percentage not covered by the given model is 1.49%.\n"
     ]
    },
    {
     "name": "stderr",
     "output_type": "stream",
     "text": [
      "collecting matches info:  78%|█████████████████████████████████████████████████████████████████████████████████████████████████████                            | 783/1000 [02:09<00:38,  5.60it/s]"
     ]
    },
    {
     "name": "stdout",
     "output_type": "stream",
     "text": [
      "Found 1 word(s) missing in the model. Weighted missing percentage not covered by the given model is 1.15%.\n"
     ]
    },
    {
     "name": "stderr",
     "output_type": "stream",
     "text": [
      "\r",
      "collecting matches info:  78%|█████████████████████████████████████████████████████████████████████████████████████████████████████▏                           | 784/1000 [02:10<00:46,  4.68it/s]"
     ]
    },
    {
     "name": "stdout",
     "output_type": "stream",
     "text": [
      "Found 1 word(s) missing in the model. Weighted missing percentage not covered by the given model is 1.96%.\n"
     ]
    },
    {
     "name": "stderr",
     "output_type": "stream",
     "text": [
      "\r",
      "collecting matches info:  78%|█████████████████████████████████████████████████████████████████████████████████████████████████████▎                           | 785/1000 [02:10<00:48,  4.43it/s]"
     ]
    },
    {
     "name": "stdout",
     "output_type": "stream",
     "text": [
      "Found 1 word(s) missing in the model. Weighted missing percentage not covered by the given model is 4.55%.\n"
     ]
    },
    {
     "name": "stderr",
     "output_type": "stream",
     "text": [
      "collecting matches info:  79%|█████████████████████████████████████████████████████████████████████████████████████████████████████▌                           | 787/1000 [02:10<00:43,  4.87it/s]"
     ]
    },
    {
     "name": "stdout",
     "output_type": "stream",
     "text": [
      "Found 3 word(s) missing in the model. Weighted missing percentage not covered by the given model is 4.69%.\n"
     ]
    },
    {
     "name": "stderr",
     "output_type": "stream",
     "text": [
      "collecting matches info:  79%|██████████████████████████████████████████████████████████████████████████████████████████████████████▏                          | 792/1000 [02:11<00:32,  6.40it/s]"
     ]
    },
    {
     "name": "stdout",
     "output_type": "stream",
     "text": [
      "Found 1 word(s) missing in the model. Weighted missing percentage not covered by the given model is 1.82%.\n"
     ]
    },
    {
     "name": "stderr",
     "output_type": "stream",
     "text": [
      "collecting matches info:  80%|██████████████████████████████████████████████████████████████████████████████████████████████████████▊                          | 797/1000 [02:12<00:34,  5.82it/s]"
     ]
    },
    {
     "name": "stdout",
     "output_type": "stream",
     "text": [
      "Found 3 word(s) missing in the model. Weighted missing percentage not covered by the given model is 2.33%.\n"
     ]
    },
    {
     "name": "stderr",
     "output_type": "stream",
     "text": [
      "collecting matches info:  81%|████████████████████████████████████████████████████████████████████████████████████████████████████████▏                        | 808/1000 [02:14<00:31,  6.07it/s]"
     ]
    },
    {
     "name": "stdout",
     "output_type": "stream",
     "text": [
      "Found 1 word(s) missing in the model. Weighted missing percentage not covered by the given model is 4.55%.\n"
     ]
    },
    {
     "name": "stderr",
     "output_type": "stream",
     "text": [
      "collecting matches info:  82%|█████████████████████████████████████████████████████████████████████████████████████████████████████████▏                       | 815/1000 [02:15<00:34,  5.39it/s]"
     ]
    },
    {
     "name": "stdout",
     "output_type": "stream",
     "text": [
      "Found 1 word(s) missing in the model. Weighted missing percentage not covered by the given model is 7.14%.\n",
      "Found 1 word(s) missing in the model. Weighted missing percentage not covered by the given model is 1.45%.\n"
     ]
    },
    {
     "name": "stderr",
     "output_type": "stream",
     "text": [
      "collecting matches info:  82%|█████████████████████████████████████████████████████████████████████████████████████████████████████████▍                       | 817/1000 [02:16<00:30,  6.01it/s]"
     ]
    },
    {
     "name": "stdout",
     "output_type": "stream",
     "text": [
      "Found 3 word(s) missing in the model. Weighted missing percentage not covered by the given model is 2.52%.\n"
     ]
    },
    {
     "name": "stderr",
     "output_type": "stream",
     "text": [
      "collecting matches info:  82%|█████████████████████████████████████████████████████████████████████████████████████████████████████████▋                       | 819/1000 [02:16<00:35,  5.13it/s]"
     ]
    },
    {
     "name": "stdout",
     "output_type": "stream",
     "text": [
      "Found 1 word(s) missing in the model. Weighted missing percentage not covered by the given model is 3.23%.\n"
     ]
    },
    {
     "name": "stderr",
     "output_type": "stream",
     "text": [
      "collecting matches info:  82%|██████████████████████████████████████████████████████████████████████████████████████████████████████████                       | 822/1000 [02:17<00:30,  5.74it/s]"
     ]
    },
    {
     "name": "stdout",
     "output_type": "stream",
     "text": [
      "Found 2 word(s) missing in the model. Weighted missing percentage not covered by the given model is 1.89%.\n"
     ]
    },
    {
     "name": "stderr",
     "output_type": "stream",
     "text": [
      "collecting matches info:  82%|██████████████████████████████████████████████████████████████████████████████████████████████████████████▍                      | 825/1000 [02:17<00:29,  5.96it/s]"
     ]
    },
    {
     "name": "stdout",
     "output_type": "stream",
     "text": [
      "Found 1 word(s) missing in the model. Weighted missing percentage not covered by the given model is 7.69%.\n",
      "Found 2 word(s) missing in the model. Weighted missing percentage not covered by the given model is 1.90%.\n"
     ]
    },
    {
     "name": "stderr",
     "output_type": "stream",
     "text": [
      "collecting matches info:  83%|███████████████████████████████████████████████████████████████████████████████████████████████████████████                      | 830/1000 [02:18<00:30,  5.61it/s]"
     ]
    },
    {
     "name": "stdout",
     "output_type": "stream",
     "text": [
      "Found 2 word(s) missing in the model. Weighted missing percentage not covered by the given model is 1.64%.\n"
     ]
    },
    {
     "name": "stderr",
     "output_type": "stream",
     "text": [
      "collecting matches info:  83%|███████████████████████████████████████████████████████████████████████████████████████████████████████████▎                     | 832/1000 [02:18<00:31,  5.41it/s]"
     ]
    },
    {
     "name": "stdout",
     "output_type": "stream",
     "text": [
      "Found 1 word(s) missing in the model. Weighted missing percentage not covered by the given model is 3.03%.\n",
      "Found 4 word(s) missing in the model. Weighted missing percentage not covered by the given model is 2.38%.\n"
     ]
    },
    {
     "name": "stderr",
     "output_type": "stream",
     "text": [
      "collecting matches info:  84%|████████████████████████████████████████████████████████████████████████████████████████████████████████████                     | 838/1000 [02:19<00:24,  6.50it/s]"
     ]
    },
    {
     "name": "stdout",
     "output_type": "stream",
     "text": [
      "Found 1 word(s) missing in the model. Weighted missing percentage not covered by the given model is 0.70%.\n"
     ]
    },
    {
     "name": "stderr",
     "output_type": "stream",
     "text": [
      "collecting matches info:  84%|████████████████████████████████████████████████████████████████████████████████████████████████████████████▎                    | 840/1000 [02:20<00:28,  5.61it/s]"
     ]
    },
    {
     "name": "stdout",
     "output_type": "stream",
     "text": [
      "Found 4 word(s) missing in the model. Weighted missing percentage not covered by the given model is 2.34%.\n"
     ]
    },
    {
     "name": "stderr",
     "output_type": "stream",
     "text": [
      "collecting matches info:  84%|████████████████████████████████████████████████████████████████████████████████████████████████████████████▉                    | 844/1000 [02:21<00:28,  5.41it/s]"
     ]
    },
    {
     "name": "stdout",
     "output_type": "stream",
     "text": [
      "Found 1 word(s) missing in the model. Weighted missing percentage not covered by the given model is 2.70%.\n",
      "Found 5 word(s) missing in the model. Weighted missing percentage not covered by the given model is 3.03%.\n"
     ]
    },
    {
     "name": "stderr",
     "output_type": "stream",
     "text": [
      "collecting matches info:  85%|█████████████████████████████████████████████████████████████████████████████████████████████████████████████▏                   | 846/1000 [02:21<00:28,  5.37it/s]"
     ]
    },
    {
     "name": "stdout",
     "output_type": "stream",
     "text": [
      "Found 4 word(s) missing in the model. Weighted missing percentage not covered by the given model is 2.35%.\n"
     ]
    },
    {
     "name": "stderr",
     "output_type": "stream",
     "text": [
      "collecting matches info:  85%|█████████████████████████████████████████████████████████████████████████████████████████████████████████████▋                   | 850/1000 [02:22<00:31,  4.79it/s]"
     ]
    },
    {
     "name": "stdout",
     "output_type": "stream",
     "text": [
      "Found 1 word(s) missing in the model. Weighted missing percentage not covered by the given model is 0.99%.\n"
     ]
    },
    {
     "name": "stderr",
     "output_type": "stream",
     "text": [
      "collecting matches info:  85%|██████████████████████████████████████████████████████████████████████████████████████████████████████████████▏                  | 854/1000 [02:22<00:24,  5.87it/s]"
     ]
    },
    {
     "name": "stdout",
     "output_type": "stream",
     "text": [
      "Found 4 word(s) missing in the model. Weighted missing percentage not covered by the given model is 1.34%.\n"
     ]
    },
    {
     "name": "stderr",
     "output_type": "stream",
     "text": [
      "collecting matches info:  86%|███████████████████████████████████████████████████████████████████████████████████████████████████████████████▍                 | 864/1000 [02:24<00:22,  5.97it/s]"
     ]
    },
    {
     "name": "stdout",
     "output_type": "stream",
     "text": [
      "Found 1 word(s) missing in the model. Weighted missing percentage not covered by the given model is 0.84%.\n"
     ]
    },
    {
     "name": "stderr",
     "output_type": "stream",
     "text": [
      "collecting matches info:  89%|██████████████████████████████████████████████████████████████████████████████████████████████████████████████████▋              | 889/1000 [02:29<00:22,  4.99it/s]"
     ]
    },
    {
     "name": "stdout",
     "output_type": "stream",
     "text": [
      "Found 1 word(s) missing in the model. Weighted missing percentage not covered by the given model is 0.39%.\n",
      "Found 1 word(s) missing in the model. Weighted missing percentage not covered by the given model is 0.40%.\n"
     ]
    },
    {
     "name": "stderr",
     "output_type": "stream",
     "text": [
      "\r",
      "collecting matches info:  89%|██████████████████████████████████████████████████████████████████████████████████████████████████████████████████▊              | 890/1000 [02:29<00:20,  5.40it/s]"
     ]
    },
    {
     "name": "stdout",
     "output_type": "stream",
     "text": [
      "Found 1 word(s) missing in the model. Weighted missing percentage not covered by the given model is 0.43%.\n"
     ]
    },
    {
     "name": "stderr",
     "output_type": "stream",
     "text": [
      "collecting matches info:  91%|████████████████████████████████████████████████████████████████████████████████████████████████████████████████████▊            | 906/1000 [02:32<00:17,  5.46it/s]"
     ]
    },
    {
     "name": "stdout",
     "output_type": "stream",
     "text": [
      "Found 1 word(s) missing in the model. Weighted missing percentage not covered by the given model is 0.38%.\n"
     ]
    },
    {
     "name": "stderr",
     "output_type": "stream",
     "text": [
      "\r",
      "collecting matches info:  91%|█████████████████████████████████████████████████████████████████████████████████████████████████████████████████████            | 907/1000 [02:32<00:18,  5.11it/s]"
     ]
    },
    {
     "name": "stdout",
     "output_type": "stream",
     "text": [
      "Found 1 word(s) missing in the model. Weighted missing percentage not covered by the given model is 0.39%.\n"
     ]
    },
    {
     "name": "stderr",
     "output_type": "stream",
     "text": [
      "collecting matches info:  91%|█████████████████████████████████████████████████████████████████████████████████████████████████████████████████████▌           | 911/1000 [02:33<00:14,  6.34it/s]"
     ]
    },
    {
     "name": "stdout",
     "output_type": "stream",
     "text": [
      "Found 1 word(s) missing in the model. Weighted missing percentage not covered by the given model is 3.57%.\n"
     ]
    },
    {
     "name": "stderr",
     "output_type": "stream",
     "text": [
      "collecting matches info:  91%|█████████████████████████████████████████████████████████████████████████████████████████████████████████████████████▊           | 913/1000 [02:33<00:14,  6.08it/s]"
     ]
    },
    {
     "name": "stdout",
     "output_type": "stream",
     "text": [
      "Found 1 word(s) missing in the model. Weighted missing percentage not covered by the given model is 1.64%.\n"
     ]
    },
    {
     "name": "stderr",
     "output_type": "stream",
     "text": [
      "collecting matches info:  92%|██████████████████████████████████████████████████████████████████████████████████████████████████████████████████████▍          | 918/1000 [02:34<00:16,  4.96it/s]"
     ]
    },
    {
     "name": "stdout",
     "output_type": "stream",
     "text": [
      "Found 1 word(s) missing in the model. Weighted missing percentage not covered by the given model is 3.45%.\n",
      "Found 1 word(s) missing in the model. Weighted missing percentage not covered by the given model is 4.55%.\n"
     ]
    },
    {
     "name": "stderr",
     "output_type": "stream",
     "text": [
      "collecting matches info:  92%|██████████████████████████████████████████████████████████████████████████████████████████████████████████████████████▊          | 921/1000 [02:35<00:15,  5.23it/s]"
     ]
    },
    {
     "name": "stdout",
     "output_type": "stream",
     "text": [
      "Found 1 word(s) missing in the model. Weighted missing percentage not covered by the given model is 6.67%.\n"
     ]
    },
    {
     "name": "stderr",
     "output_type": "stream",
     "text": [
      "collecting matches info:  93%|███████████████████████████████████████████████████████████████████████████████████████████████████████████████████████▌         | 927/1000 [02:35<00:08,  9.03it/s]"
     ]
    },
    {
     "name": "stdout",
     "output_type": "stream",
     "text": [
      "Found 1 word(s) missing in the model. Weighted missing percentage not covered by the given model is 0.20%.\n"
     ]
    },
    {
     "name": "stderr",
     "output_type": "stream",
     "text": [
      "collecting matches info:  94%|█████████████████████████████████████████████████████████████████████████████████████████████████████████████████████████▏       | 939/1000 [02:38<00:13,  4.43it/s]"
     ]
    },
    {
     "name": "stdout",
     "output_type": "stream",
     "text": [
      "Found 1 word(s) missing in the model. Weighted missing percentage not covered by the given model is 0.81%.\n"
     ]
    },
    {
     "name": "stderr",
     "output_type": "stream",
     "text": [
      "collecting matches info:  95%|██████████████████████████████████████████████████████████████████████████████████████████████████████████████████████████▊      | 952/1000 [02:41<00:09,  5.02it/s]"
     ]
    },
    {
     "name": "stdout",
     "output_type": "stream",
     "text": [
      "Found 1 word(s) missing in the model. Weighted missing percentage not covered by the given model is 0.90%.\n",
      "Found 1 word(s) missing in the model. Weighted missing percentage not covered by the given model is 0.89%.\n"
     ]
    },
    {
     "name": "stderr",
     "output_type": "stream",
     "text": [
      "collecting matches info:  95%|███████████████████████████████████████████████████████████████████████████████████████████████████████████████████████████      | 954/1000 [02:41<00:08,  5.53it/s]"
     ]
    },
    {
     "name": "stdout",
     "output_type": "stream",
     "text": [
      "Found 1 word(s) missing in the model. Weighted missing percentage not covered by the given model is 0.85%.\n",
      "Found 2 word(s) missing in the model. Weighted missing percentage not covered by the given model is 2.15%.\n"
     ]
    },
    {
     "name": "stderr",
     "output_type": "stream",
     "text": [
      "collecting matches info:  96%|████████████████████████████████████████████████████████████████████████████████████████████████████████████████████████████     | 962/1000 [02:42<00:05,  7.07it/s]"
     ]
    },
    {
     "name": "stdout",
     "output_type": "stream",
     "text": [
      "Found 2 word(s) missing in the model. Weighted missing percentage not covered by the given model is 1.23%.\n"
     ]
    },
    {
     "name": "stderr",
     "output_type": "stream",
     "text": [
      "collecting matches info:  97%|█████████████████████████████████████████████████████████████████████████████████████████████████████████████████████████████▋   | 974/1000 [02:44<00:03,  7.53it/s]"
     ]
    },
    {
     "name": "stdout",
     "output_type": "stream",
     "text": [
      "Found 1 word(s) missing in the model. Weighted missing percentage not covered by the given model is 0.57%.\n"
     ]
    },
    {
     "name": "stderr",
     "output_type": "stream",
     "text": [
      "collecting matches info:  98%|██████████████████████████████████████████████████████████████████████████████████████████████████████████████████████████████▊  | 983/1000 [02:46<00:03,  5.47it/s]"
     ]
    },
    {
     "name": "stdout",
     "output_type": "stream",
     "text": [
      "Found 1 word(s) missing in the model. Weighted missing percentage not covered by the given model is 0.58%.\n"
     ]
    },
    {
     "name": "stderr",
     "output_type": "stream",
     "text": [
      "collecting matches info: 100%|████████████████████████████████████████████████████████████████████████████████████████████████████████████████████████████████| 1000/1000 [02:49<00:00,  5.90it/s]"
     ]
    },
    {
     "name": "stdout",
     "output_type": "stream",
     "text": [
      "Found 1 word(s) missing in the model. Weighted missing percentage not covered by the given model is 5.88%.\n"
     ]
    },
    {
     "name": "stderr",
     "output_type": "stream",
     "text": [
      "\n"
     ]
    },
    {
     "name": "stdout",
     "output_type": "stream",
     "text": [
      "Time elapsed = 254.727600812912 seconds\n"
     ]
    }
   ],
   "source": [
    "import time\n",
    "ms2library = MS2Library(sqlite_file, s2v_model_file, ms2ds_model_file, s2v_embeddings_file, ms2ds_embeddings_file)\n",
    "start_time = time.time()\n",
    "print(\"Calculating all MS2DS scores\")\n",
    "result = ms2library.analog_search(validation_spectra[:1000], ms2query_model, preselection_cut_off = 300)\n",
    "print(\"Time elapsed = \" + str(time.time()-start_time) + \" seconds\")"
   ]
  },
  {
   "cell_type": "code",
   "execution_count": 2,
   "metadata": {},
   "outputs": [
    {
     "name": "stdout",
     "output_type": "stream",
     "text": [
      "Calculating MS2Deepscore embeddings for query spectra\n",
      "Calculating MS2Deepscore between query embeddings and library embeddings\n"
     ]
    },
    {
     "name": "stderr",
     "output_type": "stream",
     "text": [
      "collecting matches info:   1%|█▌                                                                                                                                | 12/1000 [00:02<01:34, 10.44it/s]"
     ]
    },
    {
     "name": "stdout",
     "output_type": "stream",
     "text": [
      "Found 1 word(s) missing in the model. Weighted missing percentage not covered by the given model is 1.01%.\n"
     ]
    },
    {
     "name": "stderr",
     "output_type": "stream",
     "text": [
      "\r",
      "collecting matches info:   2%|██                                                                                                                                | 16/1000 [00:02<01:14, 13.16it/s]"
     ]
    },
    {
     "name": "stdout",
     "output_type": "stream",
     "text": [
      "Found 2 word(s) missing in the model. Weighted missing percentage not covered by the given model is 3.57%.\n"
     ]
    },
    {
     "name": "stderr",
     "output_type": "stream",
     "text": [
      "collecting matches info:   7%|█████████▍                                                                                                                        | 73/1000 [00:04<00:34, 26.87it/s]"
     ]
    },
    {
     "name": "stdout",
     "output_type": "stream",
     "text": [
      "Found 1 word(s) missing in the model. Weighted missing percentage not covered by the given model is 0.33%.\n",
      "Found 1 word(s) missing in the model. Weighted missing percentage not covered by the given model is 1.32%.\n"
     ]
    },
    {
     "name": "stderr",
     "output_type": "stream",
     "text": [
      "collecting matches info:   8%|██████████▎                                                                                                                       | 79/1000 [00:04<00:38, 23.65it/s]"
     ]
    },
    {
     "name": "stdout",
     "output_type": "stream",
     "text": [
      "Found 1 word(s) missing in the model. Weighted missing percentage not covered by the given model is 0.59%.\n",
      "Found 1 word(s) missing in the model. Weighted missing percentage not covered by the given model is 0.44%.\n"
     ]
    },
    {
     "name": "stderr",
     "output_type": "stream",
     "text": [
      "collecting matches info:  10%|████████████▋                                                                                                                     | 98/1000 [00:05<00:31, 29.09it/s]"
     ]
    },
    {
     "name": "stdout",
     "output_type": "stream",
     "text": [
      "Found 1 word(s) missing in the model. Weighted missing percentage not covered by the given model is 0.87%.\n"
     ]
    },
    {
     "name": "stderr",
     "output_type": "stream",
     "text": [
      "collecting matches info:  11%|██████████████                                                                                                                   | 109/1000 [00:05<00:29, 30.09it/s]"
     ]
    },
    {
     "name": "stdout",
     "output_type": "stream",
     "text": [
      "Found 1 word(s) missing in the model. Weighted missing percentage not covered by the given model is 0.53%.\n",
      "Found 1 word(s) missing in the model. Weighted missing percentage not covered by the given model is 1.10%.\n",
      "Found 1 word(s) missing in the model. Weighted missing percentage not covered by the given model is 1.11%.\n"
     ]
    },
    {
     "name": "stderr",
     "output_type": "stream",
     "text": [
      "collecting matches info:  14%|█████████████████▋                                                                                                               | 137/1000 [00:06<00:28, 30.08it/s]"
     ]
    },
    {
     "name": "stdout",
     "output_type": "stream",
     "text": [
      "Found 5 word(s) missing in the model. Weighted missing percentage not covered by the given model is 8.47%.\n"
     ]
    },
    {
     "name": "stderr",
     "output_type": "stream",
     "text": [
      "collecting matches info:  15%|███████████████████▎                                                                                                             | 150/1000 [00:07<00:33, 25.23it/s]"
     ]
    },
    {
     "name": "stdout",
     "output_type": "stream",
     "text": [
      "Found 1 word(s) missing in the model. Weighted missing percentage not covered by the given model is 0.43%.\n",
      "Found 1 word(s) missing in the model. Weighted missing percentage not covered by the given model is 0.45%.\n"
     ]
    },
    {
     "name": "stderr",
     "output_type": "stream",
     "text": [
      "collecting matches info:  17%|██████████████████████▏                                                                                                          | 172/1000 [00:07<00:30, 27.24it/s]"
     ]
    },
    {
     "name": "stdout",
     "output_type": "stream",
     "text": [
      "Found 1 word(s) missing in the model. Weighted missing percentage not covered by the given model is 0.58%.\n",
      "Found 1 word(s) missing in the model. Weighted missing percentage not covered by the given model is 0.28%.\n",
      "Found 3 word(s) missing in the model. Weighted missing percentage not covered by the given model is 1.47%.\n"
     ]
    },
    {
     "name": "stderr",
     "output_type": "stream",
     "text": [
      "collecting matches info:  21%|███████████████████████████▏                                                                                                     | 211/1000 [00:09<00:30, 25.97it/s]"
     ]
    },
    {
     "name": "stdout",
     "output_type": "stream",
     "text": [
      "Found 1 word(s) missing in the model. Weighted missing percentage not covered by the given model is 1.39%.\n",
      "Found 1 word(s) missing in the model. Weighted missing percentage not covered by the given model is 0.24%.\n"
     ]
    },
    {
     "name": "stderr",
     "output_type": "stream",
     "text": [
      "collecting matches info:  22%|████████████████████████████▎                                                                                                    | 219/1000 [00:09<00:26, 29.63it/s]"
     ]
    },
    {
     "name": "stdout",
     "output_type": "stream",
     "text": [
      "Found 1 word(s) missing in the model. Weighted missing percentage not covered by the given model is 0.59%.\n"
     ]
    },
    {
     "name": "stderr",
     "output_type": "stream",
     "text": [
      "collecting matches info:  23%|██████████████████████████████                                                                                                   | 233/1000 [00:10<00:31, 24.11it/s]"
     ]
    },
    {
     "name": "stdout",
     "output_type": "stream",
     "text": [
      "Found 1 word(s) missing in the model. Weighted missing percentage not covered by the given model is 1.92%.\n"
     ]
    },
    {
     "name": "stderr",
     "output_type": "stream",
     "text": [
      "collecting matches info:  29%|████████████████████████████████████▉                                                                                            | 286/1000 [00:12<00:30, 23.16it/s]"
     ]
    },
    {
     "name": "stdout",
     "output_type": "stream",
     "text": [
      "Found 3 word(s) missing in the model. Weighted missing percentage not covered by the given model is 2.48%.\n",
      "Found 12 word(s) missing in the model. Weighted missing percentage not covered by the given model is 7.36%.\n",
      "Found 1 word(s) missing in the model. Weighted missing percentage not covered by the given model is 6.67%.\n",
      "Found 6 word(s) missing in the model. Weighted missing percentage not covered by the given model is 4.80%.\n",
      "Found 8 word(s) missing in the model. Weighted missing percentage not covered by the given model is 5.16%.\n"
     ]
    },
    {
     "name": "stderr",
     "output_type": "stream",
     "text": [
      "collecting matches info:  30%|██████████████████████████████████████▌                                                                                          | 299/1000 [00:13<00:29, 23.93it/s]"
     ]
    },
    {
     "name": "stdout",
     "output_type": "stream",
     "text": [
      "Found 2 word(s) missing in the model. Weighted missing percentage not covered by the given model is 6.06%.\n",
      "Found 1 word(s) missing in the model. Weighted missing percentage not covered by the given model is 4.35%.\n"
     ]
    },
    {
     "name": "stderr",
     "output_type": "stream",
     "text": [
      "collecting matches info:  31%|███████████████████████████████████████▋                                                                                         | 308/1000 [00:13<00:36, 18.90it/s]"
     ]
    },
    {
     "name": "stdout",
     "output_type": "stream",
     "text": [
      "Found 1 word(s) missing in the model. Weighted missing percentage not covered by the given model is 4.55%.\n"
     ]
    },
    {
     "name": "stderr",
     "output_type": "stream",
     "text": [
      "collecting matches info:  32%|█████████████████████████████████████████▍                                                                                       | 321/1000 [00:14<00:31, 21.90it/s]"
     ]
    },
    {
     "name": "stdout",
     "output_type": "stream",
     "text": [
      "Found 1 word(s) missing in the model. Weighted missing percentage not covered by the given model is 0.61%.\n",
      "Found 1 word(s) missing in the model. Weighted missing percentage not covered by the given model is 0.61%.\n",
      "Found 1 word(s) missing in the model. Weighted missing percentage not covered by the given model is 0.48%.\n"
     ]
    },
    {
     "name": "stderr",
     "output_type": "stream",
     "text": [
      "collecting matches info:  35%|█████████████████████████████████████████████▎                                                                                   | 351/1000 [00:15<00:31, 20.33it/s]"
     ]
    },
    {
     "name": "stdout",
     "output_type": "stream",
     "text": [
      "Found 6 word(s) missing in the model. Weighted missing percentage not covered by the given model is 2.63%.\n",
      "Found 13 word(s) missing in the model. Weighted missing percentage not covered by the given model is 6.22%.\n",
      "Found 7 word(s) missing in the model. Weighted missing percentage not covered by the given model is 3.11%.\n",
      "Found 15 word(s) missing in the model. Weighted missing percentage not covered by the given model is 7.04%.\n"
     ]
    },
    {
     "name": "stderr",
     "output_type": "stream",
     "text": [
      "collecting matches info:  36%|██████████████████████████████████████████████▍                                                                                  | 360/1000 [00:16<00:32, 19.90it/s]"
     ]
    },
    {
     "name": "stdout",
     "output_type": "stream",
     "text": [
      "Found 11 word(s) missing in the model. Weighted missing percentage not covered by the given model is 4.93%.\n",
      "Found 17 word(s) missing in the model. Weighted missing percentage not covered by the given model is 8.06%.\n"
     ]
    },
    {
     "name": "stderr",
     "output_type": "stream",
     "text": [
      "collecting matches info:  37%|███████████████████████████████████████████████▏                                                                                 | 366/1000 [00:16<00:31, 19.88it/s]"
     ]
    },
    {
     "name": "stdout",
     "output_type": "stream",
     "text": [
      "Found 6 word(s) missing in the model. Weighted missing percentage not covered by the given model is 2.80%.\n",
      "Found 15 word(s) missing in the model. Weighted missing percentage not covered by the given model is 7.28%.\n",
      "Found 7 word(s) missing in the model. Weighted missing percentage not covered by the given model is 4.22%.\n"
     ]
    },
    {
     "name": "stderr",
     "output_type": "stream",
     "text": [
      "collecting matches info:  37%|███████████████████████████████████████████████▉                                                                                 | 372/1000 [00:16<00:26, 23.38it/s]"
     ]
    },
    {
     "name": "stdout",
     "output_type": "stream",
     "text": [
      "Found 10 word(s) missing in the model. Weighted missing percentage not covered by the given model is 5.08%.\n",
      "Found 1 word(s) missing in the model. Weighted missing percentage not covered by the given model is 5.88%.\n",
      "Found 1 word(s) missing in the model. Weighted missing percentage not covered by the given model is 5.00%.\n",
      "Found 8 word(s) missing in the model. Weighted missing percentage not covered by the given model is 4.68%.\n",
      "Found 6 word(s) missing in the model. Weighted missing percentage not covered by the given model is 3.24%.\n",
      "Found 1 word(s) missing in the model. Weighted missing percentage not covered by the given model is 6.25%.\n"
     ]
    },
    {
     "name": "stderr",
     "output_type": "stream",
     "text": [
      "\r",
      "collecting matches info:  38%|████████████████████████████████████████████████▍                                                                                | 375/1000 [00:16<00:26, 23.47it/s]"
     ]
    },
    {
     "name": "stdout",
     "output_type": "stream",
     "text": [
      "Found 1 word(s) missing in the model. Weighted missing percentage not covered by the given model is 5.26%.\n"
     ]
    },
    {
     "name": "stderr",
     "output_type": "stream",
     "text": [
      "collecting matches info:  39%|██████████████████████████████████████████████████▎                                                                              | 390/1000 [00:17<00:21, 28.27it/s]"
     ]
    },
    {
     "name": "stdout",
     "output_type": "stream",
     "text": [
      "Found 1 word(s) missing in the model. Weighted missing percentage not covered by the given model is 2.08%.\n",
      "Found 2 word(s) missing in the model. Weighted missing percentage not covered by the given model is 0.65%.\n"
     ]
    },
    {
     "name": "stderr",
     "output_type": "stream",
     "text": [
      "collecting matches info:  41%|█████████████████████████████████████████████████████▏                                                                           | 412/1000 [00:17<00:16, 35.22it/s]"
     ]
    },
    {
     "name": "stdout",
     "output_type": "stream",
     "text": [
      "Found 1 word(s) missing in the model. Weighted missing percentage not covered by the given model is 0.89%.\n"
     ]
    },
    {
     "name": "stderr",
     "output_type": "stream",
     "text": [
      "collecting matches info:  42%|██████████████████████████████████████████████████████▏                                                                          | 420/1000 [00:18<00:17, 32.69it/s]"
     ]
    },
    {
     "name": "stdout",
     "output_type": "stream",
     "text": [
      "Found 2 word(s) missing in the model. Weighted missing percentage not covered by the given model is 1.18%.\n",
      "Found 1 word(s) missing in the model. Weighted missing percentage not covered by the given model is 0.63%.\n"
     ]
    },
    {
     "name": "stderr",
     "output_type": "stream",
     "text": [
      "collecting matches info:  43%|███████████████████████████████████████████████████████▏                                                                         | 428/1000 [00:18<00:16, 35.36it/s]"
     ]
    },
    {
     "name": "stdout",
     "output_type": "stream",
     "text": [
      "Found 2 word(s) missing in the model. Weighted missing percentage not covered by the given model is 0.47%.\n",
      "Found 6 word(s) missing in the model. Weighted missing percentage not covered by the given model is 1.57%.\n",
      "Found 5 word(s) missing in the model. Weighted missing percentage not covered by the given model is 1.30%.\n",
      "Found 1 word(s) missing in the model. Weighted missing percentage not covered by the given model is 0.52%.\n"
     ]
    },
    {
     "name": "stderr",
     "output_type": "stream",
     "text": [
      "collecting matches info:  47%|████████████████████████████████████████████████████████████▉                                                                    | 472/1000 [00:19<00:15, 33.55it/s]"
     ]
    },
    {
     "name": "stdout",
     "output_type": "stream",
     "text": [
      "Found 1 word(s) missing in the model. Weighted missing percentage not covered by the given model is 0.19%.\n",
      "Found 1 word(s) missing in the model. Weighted missing percentage not covered by the given model is 0.51%.\n",
      "Found 3 word(s) missing in the model. Weighted missing percentage not covered by the given model is 1.03%.\n"
     ]
    },
    {
     "name": "stderr",
     "output_type": "stream",
     "text": [
      "collecting matches info:  48%|█████████████████████████████████████████████████████████████▉                                                                   | 480/1000 [00:19<00:15, 33.39it/s]"
     ]
    },
    {
     "name": "stdout",
     "output_type": "stream",
     "text": [
      "Found 1 word(s) missing in the model. Weighted missing percentage not covered by the given model is 0.36%.\n"
     ]
    },
    {
     "name": "stderr",
     "output_type": "stream",
     "text": [
      "\r",
      "collecting matches info:  48%|██████████████████████████████████████████████████████████████▍                                                                  | 484/1000 [00:20<00:15, 33.53it/s]"
     ]
    },
    {
     "name": "stdout",
     "output_type": "stream",
     "text": [
      "Found 1 word(s) missing in the model. Weighted missing percentage not covered by the given model is 2.63%.\n",
      "Found 1 word(s) missing in the model. Weighted missing percentage not covered by the given model is 4.17%.\n",
      "Found 11 word(s) missing in the model. Weighted missing percentage not covered by the given model is 11.58%.\n",
      "Found 9 word(s) missing in the model. Weighted missing percentage not covered by the given model is 4.79%.\n",
      "Found 2 word(s) missing in the model. Weighted missing percentage not covered by the given model is 0.34%.\n"
     ]
    },
    {
     "name": "stderr",
     "output_type": "stream",
     "text": [
      "collecting matches info:  49%|███████████████████████████████████████████████████████████████▍                                                                 | 492/1000 [00:20<00:16, 30.71it/s]"
     ]
    },
    {
     "name": "stdout",
     "output_type": "stream",
     "text": [
      "Found 9 word(s) missing in the model. Weighted missing percentage not covered by the given model is 10.23%.\n",
      "Found 10 word(s) missing in the model. Weighted missing percentage not covered by the given model is 5.13%.\n",
      "Found 3 word(s) missing in the model. Weighted missing percentage not covered by the given model is 0.52%.\n",
      "Found 7 word(s) missing in the model. Weighted missing percentage not covered by the given model is 7.07%.\n",
      "Found 10 word(s) missing in the model. Weighted missing percentage not covered by the given model is 5.13%.\n",
      "Found 4 word(s) missing in the model. Weighted missing percentage not covered by the given model is 0.68%.\n"
     ]
    },
    {
     "name": "stderr",
     "output_type": "stream",
     "text": [
      "collecting matches info:  50%|█████████████████████████████████████████████████████████████████▏                                                               | 505/1000 [00:20<00:14, 34.08it/s]"
     ]
    },
    {
     "name": "stdout",
     "output_type": "stream",
     "text": [
      "Found 1 word(s) missing in the model. Weighted missing percentage not covered by the given model is 0.39%.\n",
      "Found 1 word(s) missing in the model. Weighted missing percentage not covered by the given model is 0.72%.\n"
     ]
    },
    {
     "name": "stderr",
     "output_type": "stream",
     "text": [
      "collecting matches info:  52%|██████████████████████████████████████████████████████████████████▋                                                              | 517/1000 [00:21<00:13, 36.14it/s]"
     ]
    },
    {
     "name": "stdout",
     "output_type": "stream",
     "text": [
      "Found 2 word(s) missing in the model. Weighted missing percentage not covered by the given model is 0.78%.\n",
      "Found 2 word(s) missing in the model. Weighted missing percentage not covered by the given model is 0.75%.\n",
      "Found 2 word(s) missing in the model. Weighted missing percentage not covered by the given model is 0.93%.\n"
     ]
    },
    {
     "name": "stderr",
     "output_type": "stream",
     "text": [
      "collecting matches info:  57%|█████████████████████████████████████████████████████████████████████████▌                                                       | 570/1000 [00:22<00:13, 32.78it/s]"
     ]
    },
    {
     "name": "stdout",
     "output_type": "stream",
     "text": [
      "Found 1 word(s) missing in the model. Weighted missing percentage not covered by the given model is 0.79%.\n",
      "Found 2 word(s) missing in the model. Weighted missing percentage not covered by the given model is 1.69%.\n",
      "Found 1 word(s) missing in the model. Weighted missing percentage not covered by the given model is 0.66%.\n",
      "Found 1 word(s) missing in the model. Weighted missing percentage not covered by the given model is 0.56%.\n"
     ]
    },
    {
     "name": "stderr",
     "output_type": "stream",
     "text": [
      "collecting matches info:  58%|███████████████████████████████████████████████████████████████████████████▎                                                     | 584/1000 [00:23<00:10, 38.50it/s]"
     ]
    },
    {
     "name": "stdout",
     "output_type": "stream",
     "text": [
      "Found 1 word(s) missing in the model. Weighted missing percentage not covered by the given model is 0.90%.\n"
     ]
    },
    {
     "name": "stderr",
     "output_type": "stream",
     "text": [
      "collecting matches info:  60%|████████████████████████████████████████████████████████████████████████████▊                                                    | 595/1000 [00:23<00:08, 45.39it/s]"
     ]
    },
    {
     "name": "stdout",
     "output_type": "stream",
     "text": [
      "Found 2 word(s) missing in the model. Weighted missing percentage not covered by the given model is 0.77%.\n"
     ]
    },
    {
     "name": "stderr",
     "output_type": "stream",
     "text": [
      "collecting matches info:  60%|██████████████████████████████████████████████████████████████████████████████                                                   | 605/1000 [00:23<00:08, 44.87it/s]"
     ]
    },
    {
     "name": "stdout",
     "output_type": "stream",
     "text": [
      "Found 1 word(s) missing in the model. Weighted missing percentage not covered by the given model is 0.69%.\n",
      "Found 1 word(s) missing in the model. Weighted missing percentage not covered by the given model is 0.88%.\n"
     ]
    },
    {
     "name": "stderr",
     "output_type": "stream",
     "text": [
      "collecting matches info:  62%|███████████████████████████████████████████████████████████████████████████████▍                                                 | 616/1000 [00:23<00:08, 46.51it/s]"
     ]
    },
    {
     "name": "stdout",
     "output_type": "stream",
     "text": [
      "Found 1 word(s) missing in the model. Weighted missing percentage not covered by the given model is 1.06%.\n",
      "Found 1 word(s) missing in the model. Weighted missing percentage not covered by the given model is 1.85%.\n"
     ]
    },
    {
     "name": "stderr",
     "output_type": "stream",
     "text": [
      "collecting matches info:  63%|████████████████████████████████████████████████████████████████████████████████▊                                                | 626/1000 [00:24<00:08, 43.65it/s]"
     ]
    },
    {
     "name": "stdout",
     "output_type": "stream",
     "text": [
      "Found 2 word(s) missing in the model. Weighted missing percentage not covered by the given model is 1.82%.\n",
      "Found 1 word(s) missing in the model. Weighted missing percentage not covered by the given model is 0.80%.\n"
     ]
    },
    {
     "name": "stderr",
     "output_type": "stream",
     "text": [
      "collecting matches info:  64%|██████████████████████████████████████████████████████████████████████████████████▏                                              | 637/1000 [00:24<00:07, 47.11it/s]"
     ]
    },
    {
     "name": "stdout",
     "output_type": "stream",
     "text": [
      "Found 1 word(s) missing in the model. Weighted missing percentage not covered by the given model is 0.97%.\n",
      "Found 1 word(s) missing in the model. Weighted missing percentage not covered by the given model is 0.80%.\n"
     ]
    },
    {
     "name": "stderr",
     "output_type": "stream",
     "text": [
      "collecting matches info:  65%|███████████████████████████████████████████████████████████████████████████████████▌                                             | 648/1000 [00:24<00:07, 47.63it/s]"
     ]
    },
    {
     "name": "stdout",
     "output_type": "stream",
     "text": [
      "Found 1 word(s) missing in the model. Weighted missing percentage not covered by the given model is 0.78%.\n",
      "Found 1 word(s) missing in the model. Weighted missing percentage not covered by the given model is 0.64%.\n"
     ]
    },
    {
     "name": "stderr",
     "output_type": "stream",
     "text": [
      "collecting matches info:  66%|█████████████████████████████████████████████████████████████████████████████████████                                            | 659/1000 [00:24<00:07, 47.64it/s]"
     ]
    },
    {
     "name": "stdout",
     "output_type": "stream",
     "text": [
      "Found 1 word(s) missing in the model. Weighted missing percentage not covered by the given model is 0.97%.\n",
      "Found 1 word(s) missing in the model. Weighted missing percentage not covered by the given model is 0.94%.\n",
      "Found 1 word(s) missing in the model. Weighted missing percentage not covered by the given model is 0.79%.\n"
     ]
    },
    {
     "name": "stderr",
     "output_type": "stream",
     "text": [
      "collecting matches info:  67%|██████████████████████████████████████████████████████████████████████████████████████▎                                          | 669/1000 [00:25<00:09, 33.12it/s]"
     ]
    },
    {
     "name": "stdout",
     "output_type": "stream",
     "text": [
      "Found 1 word(s) missing in the model. Weighted missing percentage not covered by the given model is 4.35%.\n"
     ]
    },
    {
     "name": "stderr",
     "output_type": "stream",
     "text": [
      "collecting matches info:  68%|███████████████████████████████████████████████████████████████████████████████████████▎                                         | 677/1000 [00:25<00:12, 25.61it/s]"
     ]
    },
    {
     "name": "stdout",
     "output_type": "stream",
     "text": [
      "Found 1 word(s) missing in the model. Weighted missing percentage not covered by the given model is 5.88%.\n",
      "Found 1 word(s) missing in the model. Weighted missing percentage not covered by the given model is 0.64%.\n"
     ]
    },
    {
     "name": "stderr",
     "output_type": "stream",
     "text": [
      "collecting matches info:  68%|████████████████████████████████████████████████████████████████████████████████████████▏                                        | 684/1000 [00:25<00:12, 26.33it/s]"
     ]
    },
    {
     "name": "stdout",
     "output_type": "stream",
     "text": [
      "Found 1 word(s) missing in the model. Weighted missing percentage not covered by the given model is 5.00%.\n",
      "Found 1 word(s) missing in the model. Weighted missing percentage not covered by the given model is 5.88%.\n"
     ]
    },
    {
     "name": "stderr",
     "output_type": "stream",
     "text": [
      "collecting matches info:  69%|█████████████████████████████████████████████████████████████████████████████████████████                                        | 690/1000 [00:26<00:12, 24.26it/s]"
     ]
    },
    {
     "name": "stdout",
     "output_type": "stream",
     "text": [
      "Found 1 word(s) missing in the model. Weighted missing percentage not covered by the given model is 1.08%.\n",
      "Found 1 word(s) missing in the model. Weighted missing percentage not covered by the given model is 0.83%.\n"
     ]
    },
    {
     "name": "stderr",
     "output_type": "stream",
     "text": [
      "collecting matches info:  70%|██████████████████████████████████████████████████████████████████████████████████████████▏                                      | 699/1000 [00:26<00:13, 22.29it/s]"
     ]
    },
    {
     "name": "stdout",
     "output_type": "stream",
     "text": [
      "Found 2 word(s) missing in the model. Weighted missing percentage not covered by the given model is 9.09%.\n"
     ]
    },
    {
     "name": "stderr",
     "output_type": "stream",
     "text": [
      "collecting matches info:  71%|███████████████████████████████████████████████████████████████████████████████████████████                                      | 706/1000 [00:26<00:13, 21.81it/s]"
     ]
    },
    {
     "name": "stdout",
     "output_type": "stream",
     "text": [
      "Found 1 word(s) missing in the model. Weighted missing percentage not covered by the given model is 1.67%.\n",
      "Found 1 word(s) missing in the model. Weighted missing percentage not covered by the given model is 4.76%.\n"
     ]
    },
    {
     "name": "stderr",
     "output_type": "stream",
     "text": [
      "collecting matches info:  71%|███████████████████████████████████████████████████████████████████████████████████████████▊                                     | 712/1000 [00:27<00:12, 23.13it/s]"
     ]
    },
    {
     "name": "stdout",
     "output_type": "stream",
     "text": [
      "Found 1 word(s) missing in the model. Weighted missing percentage not covered by the given model is 0.82%.\n"
     ]
    },
    {
     "name": "stderr",
     "output_type": "stream",
     "text": [
      "collecting matches info:  72%|█████████████████████████████████████████████████████████████████████████████████████████████▍                                   | 724/1000 [00:27<00:11, 24.56it/s]"
     ]
    },
    {
     "name": "stdout",
     "output_type": "stream",
     "text": [
      "Found 1 word(s) missing in the model. Weighted missing percentage not covered by the given model is 0.93%.\n"
     ]
    },
    {
     "name": "stderr",
     "output_type": "stream",
     "text": [
      "collecting matches info:  77%|███████████████████████████████████████████████████████████████████████████████████████████████████                              | 768/1000 [00:29<00:07, 30.45it/s]"
     ]
    },
    {
     "name": "stdout",
     "output_type": "stream",
     "text": [
      "Found 2 word(s) missing in the model. Weighted missing percentage not covered by the given model is 1.82%.\n",
      "Found 1 word(s) missing in the model. Weighted missing percentage not covered by the given model is 2.78%.\n"
     ]
    },
    {
     "name": "stderr",
     "output_type": "stream",
     "text": [
      "collecting matches info:  78%|███████████████████████████████████████████████████████████████████████████████████████████████████▉                             | 775/1000 [00:29<00:07, 28.74it/s]"
     ]
    },
    {
     "name": "stdout",
     "output_type": "stream",
     "text": [
      "Found 1 word(s) missing in the model. Weighted missing percentage not covered by the given model is 1.00%.\n",
      "Found 1 word(s) missing in the model. Weighted missing percentage not covered by the given model is 0.51%.\n"
     ]
    },
    {
     "name": "stderr",
     "output_type": "stream",
     "text": [
      "collecting matches info:  78%|█████████████████████████████████████████████████████████████████████████████████████████████████████                            | 783/1000 [00:29<00:07, 27.94it/s]"
     ]
    },
    {
     "name": "stdout",
     "output_type": "stream",
     "text": [
      "Found 1 word(s) missing in the model. Weighted missing percentage not covered by the given model is 1.49%.\n",
      "Found 1 word(s) missing in the model. Weighted missing percentage not covered by the given model is 1.15%.\n",
      "Found 1 word(s) missing in the model. Weighted missing percentage not covered by the given model is 1.96%.\n"
     ]
    },
    {
     "name": "stderr",
     "output_type": "stream",
     "text": [
      "collecting matches info:  79%|██████████████████████████████████████████████████████████████████████████████████████████████████████                           | 791/1000 [00:29<00:06, 30.41it/s]"
     ]
    },
    {
     "name": "stdout",
     "output_type": "stream",
     "text": [
      "Found 1 word(s) missing in the model. Weighted missing percentage not covered by the given model is 4.55%.\n",
      "Found 3 word(s) missing in the model. Weighted missing percentage not covered by the given model is 4.69%.\n",
      "Found 1 word(s) missing in the model. Weighted missing percentage not covered by the given model is 1.82%.\n"
     ]
    },
    {
     "name": "stderr",
     "output_type": "stream",
     "text": [
      "collecting matches info:  80%|███████████████████████████████████████████████████████████████████████████████████████████████████████▌                         | 803/1000 [00:30<00:06, 30.02it/s]"
     ]
    },
    {
     "name": "stdout",
     "output_type": "stream",
     "text": [
      "Found 3 word(s) missing in the model. Weighted missing percentage not covered by the given model is 2.33%.\n"
     ]
    },
    {
     "name": "stderr",
     "output_type": "stream",
     "text": [
      "collecting matches info:  81%|████████████████████████████████████████████████████████████████████████████████████████████████████████▌                        | 811/1000 [00:30<00:06, 28.78it/s]"
     ]
    },
    {
     "name": "stdout",
     "output_type": "stream",
     "text": [
      "Found 1 word(s) missing in the model. Weighted missing percentage not covered by the given model is 4.55%.\n"
     ]
    },
    {
     "name": "stderr",
     "output_type": "stream",
     "text": [
      "collecting matches info:  82%|█████████████████████████████████████████████████████████████████████████████████████████████████████████▋                       | 819/1000 [00:30<00:05, 30.98it/s]"
     ]
    },
    {
     "name": "stdout",
     "output_type": "stream",
     "text": [
      "Found 1 word(s) missing in the model. Weighted missing percentage not covered by the given model is 7.14%.\n",
      "Found 1 word(s) missing in the model. Weighted missing percentage not covered by the given model is 1.45%.\n",
      "Found 3 word(s) missing in the model. Weighted missing percentage not covered by the given model is 2.52%.\n",
      "Found 1 word(s) missing in the model. Weighted missing percentage not covered by the given model is 3.23%.\n"
     ]
    },
    {
     "name": "stderr",
     "output_type": "stream",
     "text": [
      "collecting matches info:  83%|██████████████████████████████████████████████████████████████████████████████████████████████████████████▋                      | 827/1000 [00:31<00:05, 30.21it/s]"
     ]
    },
    {
     "name": "stdout",
     "output_type": "stream",
     "text": [
      "Found 2 word(s) missing in the model. Weighted missing percentage not covered by the given model is 1.89%.\n",
      "Found 1 word(s) missing in the model. Weighted missing percentage not covered by the given model is 7.69%.\n",
      "Found 2 word(s) missing in the model. Weighted missing percentage not covered by the given model is 1.90%.\n"
     ]
    },
    {
     "name": "stderr",
     "output_type": "stream",
     "text": [
      "collecting matches info:  84%|███████████████████████████████████████████████████████████████████████████████████████████████████████████▋                     | 835/1000 [00:31<00:05, 29.45it/s]"
     ]
    },
    {
     "name": "stdout",
     "output_type": "stream",
     "text": [
      "Found 2 word(s) missing in the model. Weighted missing percentage not covered by the given model is 1.64%.\n",
      "Found 1 word(s) missing in the model. Weighted missing percentage not covered by the given model is 3.03%.\n",
      "Found 4 word(s) missing in the model. Weighted missing percentage not covered by the given model is 2.38%.\n"
     ]
    },
    {
     "name": "stderr",
     "output_type": "stream",
     "text": [
      "collecting matches info:  84%|████████████████████████████████████████████████████████████████████████████████████████████████████████████▋                    | 843/1000 [00:31<00:05, 30.51it/s]"
     ]
    },
    {
     "name": "stdout",
     "output_type": "stream",
     "text": [
      "Found 1 word(s) missing in the model. Weighted missing percentage not covered by the given model is 0.70%.\n",
      "Found 4 word(s) missing in the model. Weighted missing percentage not covered by the given model is 2.34%.\n",
      "Found 1 word(s) missing in the model. Weighted missing percentage not covered by the given model is 2.70%.\n"
     ]
    },
    {
     "name": "stderr",
     "output_type": "stream",
     "text": [
      "\r",
      "collecting matches info:  85%|█████████████████████████████████████████████████████████████████████████████████████████████████████████████▎                   | 847/1000 [00:31<00:05, 28.45it/s]"
     ]
    },
    {
     "name": "stdout",
     "output_type": "stream",
     "text": [
      "Found 5 word(s) missing in the model. Weighted missing percentage not covered by the given model is 3.03%.\n",
      "Found 4 word(s) missing in the model. Weighted missing percentage not covered by the given model is 2.35%.\n",
      "Found 1 word(s) missing in the model. Weighted missing percentage not covered by the given model is 0.99%.\n"
     ]
    },
    {
     "name": "stderr",
     "output_type": "stream",
     "text": [
      "collecting matches info:  86%|██████████████████████████████████████████████████████████████████████████████████████████████████████████████▍                  | 856/1000 [00:32<00:05, 25.85it/s]"
     ]
    },
    {
     "name": "stdout",
     "output_type": "stream",
     "text": [
      "Found 4 word(s) missing in the model. Weighted missing percentage not covered by the given model is 1.34%.\n"
     ]
    },
    {
     "name": "stderr",
     "output_type": "stream",
     "text": [
      "collecting matches info:  87%|███████████████████████████████████████████████████████████████████████████████████████████████████████████████▋                 | 866/1000 [00:32<00:05, 26.18it/s]"
     ]
    },
    {
     "name": "stdout",
     "output_type": "stream",
     "text": [
      "Found 1 word(s) missing in the model. Weighted missing percentage not covered by the given model is 0.84%.\n"
     ]
    },
    {
     "name": "stderr",
     "output_type": "stream",
     "text": [
      "collecting matches info:  89%|███████████████████████████████████████████████████████████████████████████████████████████████████████████████████▏             | 893/1000 [00:33<00:04, 25.17it/s]"
     ]
    },
    {
     "name": "stdout",
     "output_type": "stream",
     "text": [
      "Found 1 word(s) missing in the model. Weighted missing percentage not covered by the given model is 0.39%.\n",
      "Found 1 word(s) missing in the model. Weighted missing percentage not covered by the given model is 0.40%.\n",
      "Found 1 word(s) missing in the model. Weighted missing percentage not covered by the given model is 0.43%.\n"
     ]
    },
    {
     "name": "stderr",
     "output_type": "stream",
     "text": [
      "collecting matches info:  91%|████████████████████████████████████████████████████████████████████████████████████████████████████████████████████▊            | 906/1000 [00:34<00:03, 24.42it/s]"
     ]
    },
    {
     "name": "stdout",
     "output_type": "stream",
     "text": [
      "Found 1 word(s) missing in the model. Weighted missing percentage not covered by the given model is 0.38%.\n",
      "Found 1 word(s) missing in the model. Weighted missing percentage not covered by the given model is 0.39%.\n"
     ]
    },
    {
     "name": "stderr",
     "output_type": "stream",
     "text": [
      "collecting matches info:  91%|█████████████████████████████████████████████████████████████████████████████████████████████████████████████████████▊           | 913/1000 [00:34<00:03, 25.30it/s]"
     ]
    },
    {
     "name": "stdout",
     "output_type": "stream",
     "text": [
      "Found 1 word(s) missing in the model. Weighted missing percentage not covered by the given model is 3.57%.\n",
      "Found 1 word(s) missing in the model. Weighted missing percentage not covered by the given model is 1.64%.\n"
     ]
    },
    {
     "name": "stderr",
     "output_type": "stream",
     "text": [
      "collecting matches info:  92%|██████████████████████████████████████████████████████████████████████████████████████████████████████████████████████▋          | 920/1000 [00:34<00:03, 25.19it/s]"
     ]
    },
    {
     "name": "stdout",
     "output_type": "stream",
     "text": [
      "Found 1 word(s) missing in the model. Weighted missing percentage not covered by the given model is 3.45%.\n",
      "Found 1 word(s) missing in the model. Weighted missing percentage not covered by the given model is 4.55%.\n",
      "Found 1 word(s) missing in the model. Weighted missing percentage not covered by the given model is 6.67%.\n"
     ]
    },
    {
     "name": "stderr",
     "output_type": "stream",
     "text": [
      "collecting matches info:  93%|███████████████████████████████████████████████████████████████████████████████████████████████████████████████████████▊         | 929/1000 [00:34<00:02, 29.51it/s]"
     ]
    },
    {
     "name": "stdout",
     "output_type": "stream",
     "text": [
      "Found 1 word(s) missing in the model. Weighted missing percentage not covered by the given model is 0.20%.\n"
     ]
    },
    {
     "name": "stderr",
     "output_type": "stream",
     "text": [
      "collecting matches info:  94%|█████████████████████████████████████████████████████████████████████████████████████████████████████████████████████████▋       | 943/1000 [00:35<00:02, 26.23it/s]"
     ]
    },
    {
     "name": "stdout",
     "output_type": "stream",
     "text": [
      "Found 1 word(s) missing in the model. Weighted missing percentage not covered by the given model is 0.81%.\n"
     ]
    },
    {
     "name": "stderr",
     "output_type": "stream",
     "text": [
      "collecting matches info:  96%|███████████████████████████████████████████████████████████████████████████████████████████████████████████████████████████▍     | 957/1000 [00:35<00:01, 30.27it/s]"
     ]
    },
    {
     "name": "stdout",
     "output_type": "stream",
     "text": [
      "Found 1 word(s) missing in the model. Weighted missing percentage not covered by the given model is 0.90%.\n",
      "Found 1 word(s) missing in the model. Weighted missing percentage not covered by the given model is 0.89%.\n",
      "Found 1 word(s) missing in the model. Weighted missing percentage not covered by the given model is 0.85%.\n",
      "Found 2 word(s) missing in the model. Weighted missing percentage not covered by the given model is 2.15%.\n"
     ]
    },
    {
     "name": "stderr",
     "output_type": "stream",
     "text": [
      "collecting matches info:  97%|█████████████████████████████████████████████████████████████████████████████████████████████████████████████████████████████    | 969/1000 [00:36<00:00, 33.44it/s]"
     ]
    },
    {
     "name": "stdout",
     "output_type": "stream",
     "text": [
      "Found 2 word(s) missing in the model. Weighted missing percentage not covered by the given model is 1.23%.\n"
     ]
    },
    {
     "name": "stderr",
     "output_type": "stream",
     "text": [
      "collecting matches info:  98%|██████████████████████████████████████████████████████████████████████████████████████████████████████████████████████████████   | 977/1000 [00:36<00:00, 31.45it/s]"
     ]
    },
    {
     "name": "stdout",
     "output_type": "stream",
     "text": [
      "Found 1 word(s) missing in the model. Weighted missing percentage not covered by the given model is 0.57%.\n"
     ]
    },
    {
     "name": "stderr",
     "output_type": "stream",
     "text": [
      "collecting matches info:  98%|███████████████████████████████████████████████████████████████████████████████████████████████████████████████████████████████  | 985/1000 [00:36<00:00, 27.86it/s]"
     ]
    },
    {
     "name": "stdout",
     "output_type": "stream",
     "text": [
      "Found 1 word(s) missing in the model. Weighted missing percentage not covered by the given model is 0.58%.\n"
     ]
    },
    {
     "name": "stderr",
     "output_type": "stream",
     "text": [
      "collecting matches info: 100%|████████████████████████████████████████████████████████████████████████████████████████████████████████████████████████████████| 1000/1000 [00:37<00:00, 26.73it/s]\n"
     ]
    },
    {
     "name": "stdout",
     "output_type": "stream",
     "text": [
      "Found 1 word(s) missing in the model. Weighted missing percentage not covered by the given model is 5.88%.\n",
      "Time elapsed = 118.00379943847656 seconds\n"
     ]
    }
   ],
   "source": [
    "import time\n",
    "ms2library = MS2Library(sqlite_file, s2v_model_file, ms2ds_model_file, s2v_embeddings_file, ms2ds_embeddings_file)\n",
    "start_time = time.time()\n",
    "result = ms2library.analog_search(validation_spectra[:1000], ms2query_model, preselection_cut_off = 20)\n",
    "print(\"Time elapsed = \" + str(time.time()-start_time) + \" seconds\")"
   ]
  },
  {
   "cell_type": "code",
   "execution_count": 3,
   "metadata": {},
   "outputs": [
    {
     "name": "stdout",
     "output_type": "stream",
     "text": [
      "Time needed to load in the library: 5.870752334594727\n",
      "Calculating all MS2DS scores\n",
      "Calculating MS2Deepscore embeddings for query spectra\n",
      "Calculating MS2Deepscore between query embeddings and library embeddings\n"
     ]
    },
    {
     "name": "stderr",
     "output_type": "stream",
     "text": [
      "collecting matches info: 100%|██████████████████████████████████████████████████████████████████████████████████████████████████████████████████████████████████████| 1/1 [00:00<00:00,  4.21it/s]"
     ]
    },
    {
     "name": "stdout",
     "output_type": "stream",
     "text": [
      "Time elapsed = 0.8960871696472168 seconds\n"
     ]
    },
    {
     "name": "stderr",
     "output_type": "stream",
     "text": [
      "\n"
     ]
    }
   ],
   "source": [
    "import time\n",
    "start_time = time.time()\n",
    "ms2library = MS2Library(sqlite_file, s2v_model_file, ms2ds_model_file, s2v_embeddings_file, ms2ds_embeddings_file)\n",
    "print(\"Time needed to load in the library: \" + str(time.time()-start_time))\n",
    "start_time = time.time()\n",
    "print(\"Calculating all MS2DS scores\")\n",
    "result = ms2library.analog_search(validation_spectra[:1], ms2query_model, preselection_cut_off = 300)\n",
    "print(\"Time elapsed = \" + str(time.time()-start_time) + \" seconds\")"
   ]
  }
 ],
 "metadata": {
  "kernelspec": {
   "display_name": "Python 3",
   "language": "python",
   "name": "python3"
  },
  "language_info": {
   "codemirror_mode": {
    "name": "ipython",
    "version": 3
   },
   "file_extension": ".py",
   "mimetype": "text/x-python",
   "name": "python",
   "nbconvert_exporter": "python",
   "pygments_lexer": "ipython3",
   "version": "3.8.5"
  }
 },
 "nbformat": 4,
 "nbformat_minor": 4
}
