{
 "cells": [
  {
   "cell_type": "code",
   "execution_count": null,
   "metadata": {},
   "outputs": [],
   "source": []
  },
  {
   "cell_type": "code",
   "execution_count": null,
   "metadata": {},
   "outputs": [],
   "source": [
    "# The sys.stdout statements is to resolve proplems with printing statements in jupyter notebook, \n",
    "# when removed progress updates printed are not shown in the notebookr\n",
    "import sys\n",
    "stdout = sys.stdout\n",
    "\n",
    "from ms2query.ms2library import MS2Library\n",
    "sys.stdout = stdout\n",
    "\n",
    "validation_spectra_file = \"../downloads/gnps_210409/spectra/ALL_GNPS_210409_val_split.pickle\"\n",
    "\n",
    "\n",
    "tanimoto_scores_df_file = \"../downloads/gnps_210409/ALL_GNPS_210409_positive_tanimoto_scores.pickle\"\n",
    "sqlite_file =  \"../downloads/gnps_210409/spectra/ALL_GNPS_210409_train_split.sqlite\"\n",
    "\n",
    "# Models\n",
    "s2v_model_file = \"../downloads/gnps_210409/models/ALL_GNPS_210409_Spec2Vec_ms2query.model\"\n",
    "ms2ds_model_file = \"../downloads/gnps_210409/models/ms2ds_20210420-141937_data210409_10k_500_500_200.hdf5\"\n",
    "ms2query_model = \"../downloads/gnps_210409/train_ms2query_model/ms2query_model_all_scores_dropout_regularization.hdf5\"\n",
    "\n",
    "# Embeddings\n",
    "s2v_embeddings_file =  \"../downloads/gnps_210409/embeddings/s2v_embeddings_train_spectra_210426.pickle\"\n",
    "ms2ds_embeddings_file =  \"../downloads/gnps_210409/embeddings/ms2ds_embeddings_train_spectra_210426.pickle\""
   ]
  },
  {
   "cell_type": "markdown",
   "metadata": {},
   "source": [
    "# Analog library search with overfitted model"
   ]
  },
  {
   "cell_type": "code",
   "execution_count": null,
   "metadata": {},
   "outputs": [],
   "source": [
    "from ms2query.utils import load_pickled_file\n",
    "\n",
    "ms2query_model = \"../downloads/gnps_210409/train_ms2query_model/ms2query_model_all_scores.hdf5\"\n",
    "ms2library = MS2Library(sqlite_file, s2v_model_file, ms2ds_model_file, s2v_embeddings_file, ms2ds_embeddings_file)\n",
    "print(\"Calculating all MS2DS scores\")\n",
    "\n",
    "result = ms2library.analog_search(test_spectra_without_match, ms2query_model, preselection_cut_off = 300)\n",
    "import pickle\n",
    "pickle.dump(result, open(\"../downloads/gnps_210409/train_ms2query_model/results_with_match_all_scores_test_spectra.pickle\", \"wb\"))"
   ]
  },
  {
   "cell_type": "markdown",
   "metadata": {},
   "source": [
    "## Analog library search for validation test set (with overfitted model)\n",
    "Get matches for validation spectra without match"
   ]
  },
  {
   "cell_type": "code",
   "execution_count": null,
   "metadata": {},
   "outputs": [],
   "source": [
    "validation_spectra = load_pickled_file(validation_spectra_file)\n",
    "validation_spectra_without_match = validation_spectra[:2299]\n",
    "ms2query_model = \"../downloads/gnps_210409/train_ms2query_model/ms2query_model_all_scores.hdf5\"\n",
    "ms2library = MS2Library(sqlite_file, s2v_model_file, ms2ds_model_file, s2v_embeddings_file, ms2ds_embeddings_file)\n",
    "print(\"Calculating all MS2DS scores\")\n",
    "\n",
    "result = ms2library.select_best_matches(validation_spectra_without_match, ms2query_model, preselection_cut_off = 2000)\n",
    "import pickle\n",
    "pickle.dump(result, open(\"../downloads/gnps_210409/train_ms2query_model/results_with_match_all_scores.pickle\", \"wb\"))"
   ]
  }
 ],
 "metadata": {
  "kernelspec": {
   "display_name": "Python 3",
   "language": "python",
   "name": "python3"
  },
  "language_info": {
   "codemirror_mode": {
    "name": "ipython",
    "version": 3
   },
   "file_extension": ".py",
   "mimetype": "text/x-python",
   "name": "python",
   "nbconvert_exporter": "python",
   "pygments_lexer": "ipython3",
   "version": "3.8.5"
  }
 },
 "nbformat": 4,
 "nbformat_minor": 4
}
