{
 "cells": [
  {
   "cell_type": "code",
   "execution_count": 3,
   "id": "fb1496bb",
   "metadata": {},
   "outputs": [],
   "source": [
    "from matplotlib import pyplot as plt\n",
    "from ms2query.utils import load_pickled_file, convert_files_to_matchms_spectrum_objects\n",
    "import os\n",
    "\n",
    "  \n",
    "    \n",
    "\n",
    "def analyse_results_directory(dirname_results, dirname_raw_data):\n",
    "    for file in os.listdir(dirname_results):\n",
    "        print(file)\n",
    "        if file.endswith(\".csv\"):\n",
    "            spectra = convert_files_to_matchms_spectrum_objects(os.path.join(dirname_raw_data, file[:-4] + \".mzML\"))\n",
    "            print(\"number of spectra = \" + str(len(spectra)))\n",
    "            \n",
    "            \n",
    "            filename = os.path.join(dirname_results, file)\n",
    "            with open(filename, \"r\") as current_file:\n",
    "                    lines = current_file.readlines()\n",
    "                    print(\"Nr of analogs with ms2query => 0.7 = \" + str(len(lines)-1))\n",
    "            print(f\"percentage of spectra with analog {len(lines)/len(spectra)*100:.1f}%\")      \n",
    "            \n",
    "                \n"
   ]
  },
  {
   "cell_type": "code",
   "execution_count": 4,
   "id": "04876bce",
   "metadata": {
    "scrolled": true
   },
   "outputs": [
    {
     "name": "stdout",
     "output_type": "stream",
     "text": [
      "404020-POS-5.csv\n",
      "number of spectra = 308\n",
      "Nr of analogs with ms2query => 0.7 = 39\n",
      "percentage of spectra with analog 13.0%\n",
      "404020-POS-7.csv\n",
      "number of spectra = 292\n",
      "Nr of analogs with ms2query => 0.7 = 36\n",
      "percentage of spectra with analog 12.7%\n",
      "404020-POS-9.csv\n",
      "number of spectra = 299\n",
      "Nr of analogs with ms2query => 0.7 = 33\n",
      "percentage of spectra with analog 11.4%\n",
      "Brocadia-Excl1-POS-1.csv\n",
      "number of spectra = 827\n",
      "Nr of analogs with ms2query => 0.7 = 104\n",
      "percentage of spectra with analog 12.7%\n",
      "Brocadia-Excl1-POS-2.csv\n",
      "number of spectra = 756\n",
      "Nr of analogs with ms2query => 0.7 = 90\n",
      "percentage of spectra with analog 12.0%\n",
      "Brocadia-Excl1-POS-3.csv\n",
      "number of spectra = 748\n",
      "Nr of analogs with ms2query => 0.7 = 89\n",
      "percentage of spectra with analog 12.0%\n",
      "Kuenenia-Excl1-POS-1.csv\n",
      "number of spectra = 567\n",
      "Nr of analogs with ms2query => 0.7 = 92\n",
      "percentage of spectra with analog 16.4%\n",
      "Kuenenia-Excl1-POS-2.csv\n",
      "number of spectra = 564\n",
      "Nr of analogs with ms2query => 0.7 = 90\n",
      "percentage of spectra with analog 16.1%\n",
      "Kuenenia-Excl1-POS-3.csv\n",
      "number of spectra = 576\n",
      "Nr of analogs with ms2query => 0.7 = 96\n",
      "percentage of spectra with analog 16.8%\n",
      "Scalindua-Excl1-POS-1.csv\n",
      "number of spectra = 639\n",
      "Nr of analogs with ms2query => 0.7 = 49\n",
      "percentage of spectra with analog 7.8%\n",
      "Scalindua-Excl1-POS-2.csv\n",
      "number of spectra = 615\n",
      "Nr of analogs with ms2query => 0.7 = 48\n",
      "percentage of spectra with analog 8.0%\n",
      "Scalindua-Excl1-POS-3.csv\n",
      "number of spectra = 598\n",
      "Nr of analogs with ms2query => 0.7 = 51\n",
      "percentage of spectra with analog 8.7%\n"
     ]
    }
   ],
   "source": [
    "analyse_results_directory(\"C:/Users/jonge094/PycharmProjects/PhD_MS2Query/ms2query/data/case_studies/robert_jansen2/results/analog_search\",\n",
    "                         \"C:/Users/jonge094/PycharmProjects/PhD_MS2Query/ms2query/data/case_studies/robert_jansen2/raw_data\")"
   ]
  },
  {
   "cell_type": "code",
   "execution_count": null,
   "id": "281f3563",
   "metadata": {},
   "outputs": [],
   "source": []
  }
 ],
 "metadata": {
  "kernelspec": {
   "display_name": "Python 3 (ipykernel)",
   "language": "python",
   "name": "python3"
  },
  "language_info": {
   "codemirror_mode": {
    "name": "ipython",
    "version": 3
   },
   "file_extension": ".py",
   "mimetype": "text/x-python",
   "name": "python",
   "nbconvert_exporter": "python",
   "pygments_lexer": "ipython3",
   "version": "3.8.11"
  }
 },
 "nbformat": 4,
 "nbformat_minor": 5
}
