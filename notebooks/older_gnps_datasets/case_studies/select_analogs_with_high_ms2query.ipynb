{
 "cells": [
  {
   "cell_type": "code",
   "execution_count": null,
   "id": "a679f115",
   "metadata": {},
   "outputs": [],
   "source": []
  },
  {
   "cell_type": "code",
   "execution_count": 14,
   "id": "4ec736a4",
   "metadata": {},
   "outputs": [],
   "source": [
    "import os\n",
    "from IPython.display import display\n",
    "from ms2query.utils import load_pickled_file\n",
    "\n",
    "def select_only_best_matches(results_list):\n",
    "    for analogs in results_list:\n",
    "        display(analogs.iloc[0])\n",
    "        \n",
    "def select_matches_larger_than(dirname, minimum_ms2query_score):\n",
    "    for file in os.listdir(dirname):\n",
    "        if file.endswith(\"results_analog_search.pickle\"):\n",
    "            filename = os.path.join(dirname, file)\n",
    "            print(file)\n"
   ]
  },
  {
   "cell_type": "code",
   "execution_count": 24,
   "id": "d51212bf",
   "metadata": {},
   "outputs": [
    {
     "name": "stdout",
     "output_type": "stream",
     "text": [
      "1812\n",
      "1818\n"
     ]
    }
   ],
   "source": [
    "from IPython.display import display\n",
    "\n",
    "spectra = load_pickled_file(\"../../data/case_studies/Huali/correct_files_BN/positive/1d-BN-2.pickle\")\n",
    "results = load_pickled_file(\"../../data/case_studies/Huali/correct_files_BN/positive/results/1d-BN-2_results_analog_search.pickle\")\n",
    "print(len(results))\n",
    "print(len(spectra))\n"
   ]
  },
  {
   "cell_type": "code",
   "execution_count": null,
   "id": "acd65d45",
   "metadata": {},
   "outputs": [],
   "source": []
  }
 ],
 "metadata": {
  "kernelspec": {
   "display_name": "Python 3 (ipykernel)",
   "language": "python",
   "name": "python3"
  },
  "language_info": {
   "codemirror_mode": {
    "name": "ipython",
    "version": 3
   },
   "file_extension": ".py",
   "mimetype": "text/x-python",
   "name": "python",
   "nbconvert_exporter": "python",
   "pygments_lexer": "ipython3",
   "version": "3.8.11"
  }
 },
 "nbformat": 4,
 "nbformat_minor": 5
}
