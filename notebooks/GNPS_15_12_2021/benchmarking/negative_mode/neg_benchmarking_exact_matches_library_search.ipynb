{
 "cells": [
  {
   "cell_type": "markdown",
   "id": "f944e4c1",
   "metadata": {},
   "source": [
    "# Benchmarking results exact matches library search\n",
    "The results of running MS2Query, MS2Deepscore and  cosine on the test spectra of all spectra from 3000 spectra, that do have at least 1 exact library hit is visualized below. In the file generate_predictions_for_test_data the predictions are generated and stored in the format: List[Tuple(best_spectrum_id, predicted_score)] None is given for spectra that fall outside of the set mass tolerance."
   ]
  },
  {
   "cell_type": "code",
   "execution_count": 1,
   "id": "82719dbc",
   "metadata": {},
   "outputs": [],
   "source": [
    "import os\n",
    "import pandas as pd\n",
    "import numpy as np\n",
    "from matplotlib import pyplot as plt\n",
    "from ms2query.utils import load_pickled_file\n",
    "\n",
    "# General file locations\n",
    "data_folder = \"C:/Users/jonge094/PycharmProjects/PhD_MS2Query/ms2query/data\"\n",
    "benchmarking_results_folder = os.path.join(data_folder, \"libraries_and_models/gnps_15_12_2021/negative_mode_models/benchmarking_results\")\n",
    "library_folder = os.path.join(data_folder, \"libraries_and_models/gnps_15_12_2021/negative_mode_models\")\n",
    "sqlite_file_location = os.path.join(library_folder, \"neg_library_GNPS_15_12_2021.sqlite\")\n",
    "\n",
    "test_spectra_3000 = load_pickled_file(os.path.join(library_folder,\n",
    "                                                   \"test_spectra/GNPS_15_12_2021_neg_test_3000_spectra.pickle\"))\n",
    "\n",
    "# Load in predictions:\n",
    "df_results_ms2query = pd.read_csv(os.path.join(benchmarking_results_folder, \"GNPS_15_12_2021_neg_test_3000_spectra.csv\"))\n",
    "results_cosine_min_match_0 = load_pickled_file(os.path.join(benchmarking_results_folder, \"neg_highest_cosine_mass_tol_025_fragment_005_min_matched_0_test_spectra_3000.pickle\"))\n",
    "results_ms2deepscore = load_pickled_file(os.path.join(benchmarking_results_folder, \"neg_ms2deepscores_within_0_25_Da_test_spectra_3000.pickle\"))\n",
    "\n",
    "# Older experiment with minimum matches peaks. However recall drops drastically resulting in way less well performance.\n",
    "# results_cosine = load_pickled_file(os.path.join(benchmarking_results_folder, \"highest_cosine_mass_tol_025_fragment_005_min_matched_3_test_spectra_3000.pickle\"))\n"
   ]
  },
  {
   "cell_type": "code",
   "execution_count": 2,
   "id": "4eedbbc0",
   "metadata": {},
   "outputs": [],
   "source": [
    "# convert to list with tuple format and add spectrum objects\n",
    "results_ms2query_3000 = [(x[0], x[1], test_spectra_3000[x[2]-1]) for x in df_results_ms2query[[\"spectrum_ids\", \"ms2query_model_prediction\", \"query_spectrum_nr\"]].to_numpy()]\n",
    "results_cosine_3000_min_match_0 = [(results_cosine_min_match_0[i][0], results_cosine_min_match_0[i][1], test_spectra_3000[i]) for i in range(len(test_spectra_3000))]\n",
    "results_ms2deepscore_3000 = [(results_ms2deepscore[i][0], results_ms2deepscore[i][1], test_spectra_3000[i]) for i in range(len(test_spectra_3000))]"
   ]
  },
  {
   "cell_type": "code",
   "execution_count": 3,
   "id": "91ce5d65",
   "metadata": {},
   "outputs": [],
   "source": [
    "from ms2query.query_from_sqlite_database import get_metadata_from_sqlite\n",
    "from tqdm.notebook import tqdm\n",
    "\n",
    "def assert_correct_match(results, sqlite_file_location):\n",
    "    correct_match_list = []\n",
    "    for best_match_spectrum_id, predicted_score, test_spectrum in tqdm(results):\n",
    "        if best_match_spectrum_id is not None:\n",
    "            test_spectrum_inchikey = test_spectrum.get(\"inchikey\")[:14]\n",
    "            best_match_inchikey = get_metadata_from_sqlite(sqlite_file_location, [best_match_spectrum_id], \"spectrumid\")[best_match_spectrum_id][\"inchikey\"][:14]\n",
    "            true_match = best_match_inchikey == test_spectrum_inchikey\n",
    "            correct_match_list.append((true_match, predicted_score))\n",
    "    return correct_match_list\n"
   ]
  },
  {
   "cell_type": "code",
   "execution_count": 4,
   "id": "fa652e94",
   "metadata": {},
   "outputs": [
    {
     "data": {
      "application/vnd.jupyter.widget-view+json": {
       "model_id": "ab04226273d844098f72493abbc230b2",
       "version_major": 2,
       "version_minor": 0
      },
      "text/plain": [
       "  0%|          | 0/3000 [00:00<?, ?it/s]"
      ]
     },
     "metadata": {},
     "output_type": "display_data"
    },
    {
     "data": {
      "application/vnd.jupyter.widget-view+json": {
       "model_id": "3bd433f8d89d4980a2f9d404ac92158f",
       "version_major": 2,
       "version_minor": 0
      },
      "text/plain": [
       "  0%|          | 0/3000 [00:00<?, ?it/s]"
      ]
     },
     "metadata": {},
     "output_type": "display_data"
    },
    {
     "data": {
      "application/vnd.jupyter.widget-view+json": {
       "model_id": "15b63f989ecc462ba4ffb0f05b28e657",
       "version_major": 2,
       "version_minor": 0
      },
      "text/plain": [
       "  0%|          | 0/3000 [00:00<?, ?it/s]"
      ]
     },
     "metadata": {},
     "output_type": "display_data"
    }
   ],
   "source": [
    "results_ms2query = assert_correct_match(results_ms2query_3000, sqlite_file_location)\n",
    "results_cosine_min_match_0 = assert_correct_match(results_cosine_3000_min_match_0, sqlite_file_location)\n",
    "results_ms2deepscore = assert_correct_match(results_ms2deepscore_3000, sqlite_file_location)"
   ]
  },
  {
   "cell_type": "code",
   "execution_count": 5,
   "id": "c345d3b5",
   "metadata": {},
   "outputs": [],
   "source": [
    "def count_true_per_threshold(results, threshold):\n",
    "    count = 0\n",
    "    total = 0\n",
    "    for correct, score in results:\n",
    "        if score >= threshold:\n",
    "            total += 1\n",
    "            if correct:\n",
    "                count +=1\n",
    "    recall = total/3000\n",
    "    print(count)\n",
    "    print(round(count/total, 3))\n",
    "    print(round(recall, 3))"
   ]
  },
  {
   "cell_type": "code",
   "execution_count": 6,
   "id": "8813e86b",
   "metadata": {},
   "outputs": [],
   "source": [
    "perfect_results = []\n",
    "for i in range(3000):\n",
    "    perfect_results.append((True, 1))"
   ]
  },
  {
   "cell_type": "code",
   "execution_count": 7,
   "id": "65904d07",
   "metadata": {},
   "outputs": [
    {
     "name": "stdout",
     "output_type": "stream",
     "text": [
      "loaded in training spectra\n"
     ]
    }
   ],
   "source": [
    "import random\n",
    "from ms2query.query_from_sqlite_database import get_spectra_from_sqlite\n",
    "def create_random_results(test_spectra, training_spectra):\n",
    "    print(\"loaded in training spectra\")\n",
    "    random_predictions = []\n",
    "    for test_spectrum in test_spectra:\n",
    "        random_spectrum = random.choice(training_spectra)\n",
    "        random_predictions.append((random_spectrum.get(\"spectrumid\"), random.random(), test_spectrum))\n",
    "    return random_predictions\n",
    "random_results = create_random_results(test_spectra_3000, get_spectra_from_sqlite(sqlite_file_location, [], get_all_spectra = True))"
   ]
  },
  {
   "cell_type": "code",
   "execution_count": 8,
   "id": "ee3e423e",
   "metadata": {},
   "outputs": [
    {
     "data": {
      "application/vnd.jupyter.widget-view+json": {
       "model_id": "016db4799d10490684917ac71362cc40",
       "version_major": 2,
       "version_minor": 0
      },
      "text/plain": [
       "  0%|          | 0/3000 [00:00<?, ?it/s]"
      ]
     },
     "metadata": {},
     "output_type": "display_data"
    }
   ],
   "source": [
    "random_results_3000 = assert_correct_match(random_results, sqlite_file_location)"
   ]
  },
  {
   "cell_type": "code",
   "execution_count": 9,
   "id": "51dd0646",
   "metadata": {},
   "outputs": [
    {
     "data": {
      "image/png": "[encoded data removed]",
      "text/plain": [
       "<Figure size 432x288 with 1 Axes>"
      ]
     },
     "metadata": {
      "needs_background": "light"
     },
     "output_type": "display_data"
    }
   ],
   "source": [
    "import pandas as pd\n",
    "import numpy as np\n",
    "from matplotlib import pyplot as plt\n",
    "\n",
    "def accuracy_vs_recall(results, legend_label, nr_of_spectra, color_code, line_style):\n",
    "    \"\"\"Plots the average tanimoto vs recall\"\"\"\n",
    "    percentages_found = []\n",
    "    percentage_true = []\n",
    "    sorted_scores = sorted(results, key=lambda tup: tup[1])\n",
    "    for i in range(len(sorted_scores)):\n",
    "        selected_scores = [scores[0] for scores in sorted_scores[i:]]\n",
    "        # Count true positives\n",
    "        true_positive = sum(selected_scores)\n",
    "        false_postive = len(selected_scores) - true_positive\n",
    "        \n",
    "        percentages_found.append(len(selected_scores)/nr_of_spectra*100)\n",
    "        percentage_true.append(true_positive/len(selected_scores)*100)\n",
    "    plt.plot(percentages_found, percentage_true, label = legend_label, color = color_code, linestyle = line_style)\n",
    "    plt.xlim(100,10)\n",
    "#     plt.ylim(0.4, 1)\n",
    "    plt.xlabel(\"Recall (%)\")\n",
    "    plt.ylabel(\"True positive (%)\")\n",
    "    plt.suptitle(\"'Exact matches test set'\")\n",
    "    plt.legend(loc = \"lower right\", \n",
    "#                title = \"'Exact matches test set'\"\n",
    "              )\n",
    "accuracy_vs_recall(results_ms2query, \"MS2Query\", 3000, '#3C5289', \"-\")\n",
    "accuracy_vs_recall(results_ms2deepscore, \"MS2Deepscore\", 3000, '#49C16D', \"-\")\n",
    "accuracy_vs_recall(results_cosine_min_match_0, \"Cosine\", 3000, '#F5E21D', \"-\")\n",
    "accuracy_vs_recall(perfect_results, \"Optimal\", 3000, '#000000',\"--\")\n",
    "accuracy_vs_recall(random_results_3000, \"Random\", 3000, '#808080', \"--\")\n",
    "\n",
    "# #440054 #3C5289 #1D9B89 #25AC81 #49C16D #D0E11A #F5E21D\n",
    "plt.savefig(\"C:/Users/jonge094/OneDrive - Wageningen University & Research/PhD/Projects/MS2Query/Figures MS2Query/high_res/neg_mode_performance_ms2query_exact_matches.png\", format=\"png\", dpi=2000)"
   ]
  },
  {
   "cell_type": "code",
   "execution_count": 60,
   "id": "a812fe92",
   "metadata": {},
   "outputs": [
    {
     "name": "stdout",
     "output_type": "stream",
     "text": [
      "1954\n",
      "0.651\n",
      "1.0\n",
      "158\n",
      "0.055\n",
      "0.956\n",
      "1922\n",
      "0.642\n",
      "0.999\n"
     ]
    }
   ],
   "source": [
    "count_true_per_threshold(results_ms2query, 0)\n",
    "count_true_per_threshold(results_cosine, 0)\n",
    "count_true_per_threshold(results_ms2deepscore, 0)"
   ]
  },
  {
   "cell_type": "markdown",
   "id": "d85428a4",
   "metadata": {},
   "source": [
    "Recall for threshold 0,633"
   ]
  },
  {
   "cell_type": "code",
   "execution_count": 11,
   "id": "8b1d1d4c",
   "metadata": {},
   "outputs": [
    {
     "name": "stdout",
     "output_type": "stream",
     "text": [
      "2506\n",
      "3000\n"
     ]
    }
   ],
   "source": [
    "count = 0\n",
    "for result in results_ms2query:\n",
    "    if result[1] > 0.633:\n",
    "        count += 1\n",
    "print(count)\n",
    "print(len(results_ms2query))"
   ]
  },
  {
   "cell_type": "code",
   "execution_count": 21,
   "id": "7b7ea678",
   "metadata": {},
   "outputs": [
    {
     "name": "stdout",
     "output_type": "stream",
     "text": [
      "2331\n",
      "175\n"
     ]
    }
   ],
   "source": [
    "from ms2query.query_from_sqlite_database import get_metadata_from_sqlite\n",
    "from tqdm.notebook import tqdm\n",
    "count_analog = 0\n",
    "count_exact = 0 \n",
    "for result in results_ms2query_3000:\n",
    "    if result[1] > 0.633:\n",
    "        test_spectrum = result[2]\n",
    "        precursor_test_spec = test_spectrum.get(\"precursor_mz\")\n",
    "        found_spectrum_precursor_mz = get_metadata_from_sqlite(sqlite_file_location, [result[0]], \"spectrumid\")[result[0]][\"precursor_mz\"]\n",
    "        dif = abs(precursor_test_spec - found_spectrum_precursor_mz)\n",
    "        if dif < 1:\n",
    "            count_exact += 1\n",
    "        else:\n",
    "            count_analog += 1\n",
    "print(count_exact)\n",
    "print(count_analog)\n"
   ]
  },
  {
   "cell_type": "code",
   "execution_count": null,
   "id": "a2554a77",
   "metadata": {},
   "outputs": [],
   "source": []
  }
 ],
 "metadata": {
  "kernelspec": {
   "display_name": "Python 3",
   "language": "python",
   "name": "python3"
  },
  "language_info": {
   "codemirror_mode": {
    "name": "ipython",
    "version": 3
   },
   "file_extension": ".py",
   "mimetype": "text/x-python",
   "name": "python",
   "nbconvert_exporter": "python",
   "pygments_lexer": "ipython3",
   "version": "3.8.8"
  }
 },
 "nbformat": 4,
 "nbformat_minor": 5
}
