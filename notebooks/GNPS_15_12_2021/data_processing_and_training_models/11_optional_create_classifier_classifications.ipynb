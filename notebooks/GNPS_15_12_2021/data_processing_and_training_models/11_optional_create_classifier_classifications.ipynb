{
 "cells": [
  {
   "cell_type": "markdown",
   "id": "c9e5800d",
   "metadata": {},
   "source": [
    "# Create classifier classifications\n",
    "This notebook can be used to create a csv file with classifier classifications for a file with spectra from GNPS.\n",
    "This relies on the API of GNPS, so it will only return the classifications for smiles known by GNPS. \n",
    "\n",
    "#### This file is not needed to run MSQuery, but returns extra information for the found metabolites"
   ]
  },
  {
   "cell_type": "code",
   "execution_count": 1,
   "id": "9a97b6b6",
   "metadata": {},
   "outputs": [],
   "source": [
    "import os\n",
    "import json\n",
    "import pickle\n",
    "import urllib\n",
    "import time\n",
    "from sys import argv\n",
    "from typing import List, Union, Dict\n",
    "from matchms.typing import SpectrumType\n",
    "from ms2query.utils import load_pickled_file\n",
    "from tqdm.notebook import tqdm"
   ]
  },
  {
   "cell_type": "markdown",
   "id": "25c5be51",
   "metadata": {},
   "source": [
    "Load in spectra"
   ]
  },
  {
   "cell_type": "code",
   "execution_count": 2,
   "id": "749d4292",
   "metadata": {},
   "outputs": [],
   "source": [
    "# Use all spectra available (so train, test and validation)\n",
    "path_ms2query = \"C:/Users/jonge094/PycharmProjects/PhD_MS2Query/\"\n",
    "spectrum_file_name = os.path.join(path_ms2query, \"ms2query/data/libraries_and_models/gnps_15_12_2021/in_between_files/ALL_GNPS_15_12_2021_positive_annotated.pickle\")\n",
    "spectra = load_pickled_file(spectrum_file_name)"
   ]
  },
  {
   "cell_type": "code",
   "execution_count": 4,
   "id": "39a49b82",
   "metadata": {},
   "outputs": [],
   "source": [
    "def select_inchikeys(spectra):\n",
    "    list_of_inchikeys = []\n",
    "    for spectrum in spectra:\n",
    "        list_of_inchikeys.append(spectrum.get(\"inchikey\")[:14])\n",
    "    return set(list_of_inchikeys)\n",
    "\n",
    "def select_smiles_and_full_inchikeys(spectra):\n",
    "    set_of_inchikey14s = select_inchikeys(spectra)\n",
    "    inchikey_dict = {inchikey: [] for inchikey in set_of_inchikey14s}\n",
    "    for spectrum in spectra:\n",
    "        inchikey = spectrum.get(\"inchikey\")\n",
    "        smiles = spectrum.get(\"smiles\")\n",
    "        inchikey_dict[inchikey[:14]].append([inchikey, smiles])\n",
    "    return inchikey_dict"
   ]
  },
  {
   "cell_type": "code",
   "execution_count": 5,
   "id": "94e1a9c5",
   "metadata": {},
   "outputs": [],
   "source": [
    "def do_url_request(url: str) -> [bytes, None]:\n",
    "    \"\"\"\n",
    "    Do url request and return bytes from .read() or None if HTTPError is raised\n",
    "    :param url: url to access\n",
    "    :return: open file or None if request failed\n",
    "    \"\"\"\n",
    "    try:\n",
    "        with urllib.request.urlopen(url) as inf:\n",
    "            result = inf.read()\n",
    "    except (urllib.error.HTTPError, urllib.error.URLError):\n",
    "        # apparently the request failed\n",
    "        result = None\n",
    "    return result\n",
    "\n",
    "def get_json_cf_results(raw_json: bytes) -> List[str]:\n",
    "    \"\"\"\n",
    "    Extract the wanted CF classes from bytes version (open file) of json str\n",
    "    Names of the keys extracted in order are:\n",
    "    'kingdom', 'superclass', 'class', 'subclass', 'direct_parent'\n",
    "    List elements are concatonated with '; '.\n",
    "    :param raw_json: Json str as a bytes object containing ClassyFire\n",
    "        information\n",
    "    :return: Extracted CF classes\n",
    "    \"\"\"\n",
    "    wanted_info = []\n",
    "    cf_json = json.loads(raw_json)\n",
    "    wanted_keys_list_name = ['kingdom', 'superclass', 'class',\n",
    "                             'subclass', 'direct_parent']\n",
    "    for key in wanted_keys_list_name:\n",
    "        info_dict = cf_json.get(key, \"\")\n",
    "        info = \"\"\n",
    "        if info_dict:\n",
    "            info = info_dict.get('name', \"\")\n",
    "        wanted_info.append(info)\n",
    "\n",
    "    return wanted_info\n",
    "\n",
    "def get_json_npc_results(raw_json: bytes) -> List[str]:\n",
    "    \"\"\"Read bytes version of json str, extract the keys in order\n",
    "    Names of the keys extracted in order are:\n",
    "    class_results, superclass_results, pathway_results, isglycoside.\n",
    "    List elements are concatonated with '; '.\n",
    "    :param raw_json:Json str as a bytes object containing NPClassifier\n",
    "        information\n",
    "    :return: Extracted NPClassifier classes\n",
    "    \"\"\"\n",
    "    wanted_info = []\n",
    "    cf_json = json.loads(raw_json)\n",
    "    wanted_keys_list = [\"class_results\", \"superclass_results\",\n",
    "                        \"pathway_results\"]\n",
    "    # this one returns a bool not a list like the others\n",
    "    last_key = \"isglycoside\"\n",
    "\n",
    "    for key in wanted_keys_list:\n",
    "        info_list = cf_json.get(key, \"\")\n",
    "        info = \"\"\n",
    "        if info_list:\n",
    "            info = \"; \".join(info_list)\n",
    "        wanted_info.append(info)\n",
    "\n",
    "    last_info_bool = cf_json.get(last_key, \"\")\n",
    "    last_info = \"0\"\n",
    "    if last_info_bool:\n",
    "        last_info = \"1\"\n",
    "    wanted_info.append(last_info)\n",
    "\n",
    "    return wanted_info"
   ]
  },
  {
   "cell_type": "code",
   "execution_count": 6,
   "id": "886f4b04",
   "metadata": {},
   "outputs": [],
   "source": [
    "def select_compound_classes(inchikey_dict):\n",
    "    inchikey_results_list = []\n",
    "    for i, inchikey14 in tqdm(enumerate(inchikey_dict)):\n",
    "        inchikey_results_list.append([inchikey14])\n",
    "        # select classyfire classes\n",
    "        for inchikey, smiles in inchikey_dict[inchikey14]:\n",
    "            result = do_url_request(f\"http://classyfire.wishartlab.com/entities/{inchikey}.json\")\n",
    "            if result is not None:\n",
    "                classes = get_json_cf_results(result)\n",
    "                inchikey_results_list[i].append(smiles)\n",
    "                inchikey_results_list[i] += classes\n",
    "                break\n",
    "        if len(inchikey_results_list[i]) != 7:\n",
    "            print(\"classyfire classes of inchikey \" + inchikey + \" at position \"+ str(i) + \" is not complete\")\n",
    "            print(inchikey_results_list[i])\n",
    "            inchikey_results_list[i] = [inchikey14, smiles, \"\", \"\", \"\", \"\", \"\"]\n",
    "    #     select NPC classes\n",
    "        for inchikey, smiles in inchikey_dict[inchikey14]:\n",
    "            result = do_url_request(f\"https://npclassifier.ucsd.edu/classify?smiles={smiles}\")\n",
    "            if result is not None:\n",
    "                npc_results = get_json_npc_results(result)\n",
    "                inchikey_results_list[i] += npc_results\n",
    "                break\n",
    "        if len(inchikey_results_list[i]) != 11:\n",
    "            print(\"inchikey \" + inchikey + \" at position \"+ str(i) + \" is not complete\")\n",
    "            print(inchikey_results_list[i])\n",
    "            inchikey_results_list[i] = inchikey_results_list[i][:7] + [\"\", \"\", \"\", \"\"]\n",
    "    return inchikey_results_list"
   ]
  },
  {
   "cell_type": "code",
   "execution_count": 7,
   "id": "64a62622",
   "metadata": {},
   "outputs": [],
   "source": [
    "def write_header(out_file: str) -> str:\n",
    "    \"\"\"Write classes to out_file, returns out_file with possible .txt added\n",
    "    :param out_file: location of output file\n",
    "    \"\"\"\n",
    "    if not out_file.endswith('.txt'):\n",
    "        out_file += '.txt'\n",
    "\n",
    "    header_list = [\n",
    "        'inchikey', 'smiles', 'cf_kingdom',\n",
    "        'cf_superclass', 'cf_class', 'cf_subclass', 'cf_direct_parent',\n",
    "        'npc_class_results', 'npc_superclass_results', 'npc_pathway_results',\n",
    "        'npc_isglycoside']\n",
    "    with open(out_file, 'w') as outf:\n",
    "        outf.write(\"{}\\n\".format('\\t'.join(header_list)))\n",
    "    return out_file\n",
    "\n",
    "\n",
    "def write_class_info(class_info: List[List[str]],\n",
    "                     out_file: str):\n",
    "    \"\"\"Write classes to out_file\n",
    "    :param inchikey: inchikey\n",
    "    :param class_info: list [smiles, cf_classes, npc_classes]\n",
    "    :param out_file: location of output file\n",
    "    \"\"\"\n",
    "    write_header(out_file)\n",
    "    for row in class_info:\n",
    "        with open(out_file, 'a') as outf:\n",
    "            outf.write(\"{}\\n\".format('\\t'.join(row)))"
   ]
  },
  {
   "cell_type": "code",
   "execution_count": 8,
   "id": "5001cda8",
   "metadata": {},
   "outputs": [
    {
     "data": {
      "application/vnd.jupyter.widget-view+json": {
       "model_id": "e451a05817d14e10a37abf689aed0493",
       "version_major": 2,
       "version_minor": 0
      },
      "text/plain": [
       "0it [00:00, ?it/s]"
      ]
     },
     "metadata": {},
     "output_type": "display_data"
    },
    {
     "name": "stdout",
     "output_type": "stream",
     "text": [
      "inchikey AVVUVGNOUBNZKQ-QIXKQXDESA-N at position 2 is not complete\n",
      "['AVVUVGNOUBNZKQ', 'CC[C@@]1([C@H](C(=C2C(=CC3=C2C(=C4C(=O)C=CC(=O)C4=C3O)O)[C@H]1O[C@@H]5C[C@@H]([C@H]([C@@H](O5)C)N(C)C)O)O)[C@H]6C(=O)C7=C([C@H]([C@@]6(CC)O[C@@H]8C[C@H]([C@@H]([C@H](O8)C)O)OC)O[C@@H]9C[C@@H]([C@H]([C@@H](O9)C)N(C)C)O)C(=[N+]=[N-])C1=C(C2=C(C(=O)C=CC2=O)C(=C71)O)O)O[C@@H]1C[C@H]([C@@H]([C@H](O1)C)O)OC', 'Organic compounds', 'Organic oxygen compounds', 'Organooxygen compounds', 'Carbohydrates and carbohydrate conjugates', 'Aminoglycosides']\n",
      "inchikey YQLQWGVOWKPLFR-SFLKYZCSSA-N at position 5 is not complete\n",
      "['YQLQWGVOWKPLFR', '[H][C@@]1(O[C@]23[C@@H](O)C=CC2=CC2=C3C=C(CC#N)C=C2Cl)O[C@H](C)[C@](C)(O)C(=O)[C@H]1O', 'Organic compounds', 'Benzenoids', 'Indenes and isoindenes', '', 'Indenes and isoindenes']\n",
      "inchikey NAIKIJSSBJHCBL-IPUGVWFUSA-N at position 6 is not complete\n",
      "['NAIKIJSSBJHCBL', 'C[C@H]1C=CC(=O)N1C(=O)/C=C(\\\\CCNC(=O)CC/C=C/C(C)CC/C(=C/Cl)/CCCC#CBr)/OC', 'Organic compounds', 'Lipids and lipid-like molecules', 'Fatty Acyls', 'Fatty amides', 'N-acyl amines']\n",
      "inchikey HEWGADDUUGVTPF-CVZHIFNESA-N at position 20 is not complete\n",
      "['HEWGADDUUGVTPF', 'CCC(C)[C@@H]1N(C)C(=O)[C@@H]2CCCN2C(=O)[C@@H](OC(=O)[C@H](CC2=CC=CC=C2)N(C)C(=O)[C@@H](NC(=O)C(C)C(CCCC#C)OC1=O)C(C)C)C(C)C', 'Organic compounds', 'Organic acids and derivatives', 'Peptidomimetics', 'Depsipeptides', 'Cyclic depsipeptides']\n",
      "inchikey KZVHAGNFWJIOMX-GDKFLGFMSA-N at position 34 is not complete\n",
      "['KZVHAGNFWJIOMX', 'C[C@H]1C=CC(=O)N1C(=O)/C=C(\\\\CCNC(=O)CC/C=C/C(C)CC/C(=C/Cl)/CCCC#C)/OC', 'Organic compounds', 'Lipids and lipid-like molecules', 'Fatty Acyls', 'Fatty amides', 'N-acyl amines']\n"
     ]
    }
   ],
   "source": [
    "inchikey_dict = select_smiles_and_full_inchikeys(spectra)\n",
    "compound_classes = select_compound_classes(inchikey_dict)\n",
    "write_class_info(compound_classes, os.path.join(path_ms2query, \"ms2query/data/test_dir/compound_classes.txt\"))"
   ]
  }
 ],
 "metadata": {
  "kernelspec": {
   "display_name": "Python 3",
   "language": "python",
   "name": "python3"
  },
  "language_info": {
   "codemirror_mode": {
    "name": "ipython",
    "version": 3
   },
   "file_extension": ".py",
   "mimetype": "text/x-python",
   "name": "python",
   "nbconvert_exporter": "python",
   "pygments_lexer": "ipython3",
   "version": "3.8.8"
  }
 },
 "nbformat": 4,
 "nbformat_minor": 5
}
