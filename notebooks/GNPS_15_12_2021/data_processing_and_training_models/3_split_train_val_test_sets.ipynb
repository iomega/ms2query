{
 "cells": [
  {
   "cell_type": "markdown",
   "id": "d0af2a15",
   "metadata": {},
   "source": [
    "## Remove test and validation spectra\n",
    "Validation and test spectra are removed. These spectra will not be used for training the models. \n",
    "\n",
    "Two test sets are created:\n",
    "All spectra belonging to inchikeys not in training spectra.\n",
    "Random spectra for which there is still at least one inchikey in the dataset.\n",
    "\n"
   ]
  },
  {
   "cell_type": "code",
   "execution_count": 1,
   "id": "3c8e1ebf",
   "metadata": {},
   "outputs": [],
   "source": [
    "import pickle\n",
    "import os\n",
    "path_data = \"C:\\\\HSD\\\\OneDrive - Hochschule Düsseldorf\\\\Data\\\\ms2query\""
   ]
  },
  {
   "cell_type": "code",
   "execution_count": 2,
   "id": "bc22d558",
   "metadata": {},
   "outputs": [],
   "source": [
    "file_data = os.path.join(path_data, \"ALL_GNPS_15_12_2021_positive_annotated.pickle\")\n",
    "with open(file_data, 'rb') as file:\n",
    "    positive_fully_annotated = pickle.load(file)"
   ]
  },
  {
   "cell_type": "code",
   "execution_count": 3,
   "id": "e0779133",
   "metadata": {},
   "outputs": [],
   "source": [
    "import numpy as np\n",
    "np.random.seed(4321)\n",
    "\n",
    "def select_unique_inchikeys(spectra):\n",
    "    inchikey_list = []\n",
    "    for spectrum in spectra:\n",
    "        inchikey = spectrum.get(\"inchikey\")[:14]\n",
    "        inchikey_list.append(inchikey)\n",
    "    inchikey_set = set(inchikey_list)\n",
    "    print(len(inchikey_list))\n",
    "    print(len(inchikey_set))\n",
    "    return sorted(list(inchikey_set))\n",
    "\n",
    "    \n",
    "def split_into_train_and_val(inchikey_list):\n",
    "    n_spectra = len(inchikey_list)\n",
    "    n_val = 250\n",
    "    n_test = 250\n",
    "    n_train = n_spectra - n_val - n_test\n",
    "    print(\"Split dataset into train/val/test fractions:\", n_train, n_val, n_test)\n",
    "    \n",
    "    inchikey_ids = np.arange(n_spectra)\n",
    "    # Select training, validation, and test IDs:\n",
    "    train_inchikeyIDs = np.random.choice(inchikey_ids, n_train, replace=False)\n",
    "    val_inchikeyIDs = np.random.choice(list(set(inchikey_ids) - set(train_inchikeyIDs)), n_val, replace=False)\n",
    "    test_inchikeyIDs = list(set(inchikey_ids) - set(train_inchikeyIDs) - set(val_inchikeyIDs))\n",
    "    train_split = [inchikey_list[i] for i in train_inchikeyIDs]\n",
    "    val_split = [inchikey_list[i] for i in val_inchikeyIDs]\n",
    "    test_split = [inchikey_list[i] for i in test_inchikeyIDs]\n",
    "    \n",
    "    return train_split, val_split, test_split \n",
    "    \n",
    "def select_spectra_with_inchikey(inchikeys, spectra):\n",
    "    selected_spectra = []\n",
    "    for spectrum in spectra:\n",
    "        inchikey = spectrum.get(\"inchikey\")[:14]\n",
    "        if inchikey in inchikeys:\n",
    "            selected_spectra.append(spectrum)\n",
    "    return selected_spectra"
   ]
  },
  {
   "cell_type": "code",
   "execution_count": 4,
   "id": "dac956b4",
   "metadata": {},
   "outputs": [
    {
     "name": "stdout",
     "output_type": "stream",
     "text": [
      "314318\n",
      "20889\n",
      "Split dataset into train/val/test fractions: 20389 250 250\n",
      "['UMGQLEXNQCHIFN', 'JFIXKFSJCQNGEK', 'XZPNBJLXZMBECP', 'CLSKRRFGIZCINS', 'DTBIJJWMZYAFJH', 'KNMJILKSMXODBE', 'METLQVFFFUYXNT', 'GZAGPTKCDQNILD', 'HMODSEUUTCJCOO', 'YTLAPZFYPTVKJL']\n",
      "['FSBUXLDOLNLABB', 'VYGQXRZAHIZHQV', 'YJQCOFNZVFGCAF', 'WPHXDIQHDVJFHP', 'RAFGELQLHMBRHD', 'NKDJNEGDJVXHKM', 'RALTUMFCLLNZRF', 'OPVAJFQBSDUNQA', 'CYOYVDVFHOPVJH', 'MFUPLJQNEXUUDW']\n"
     ]
    }
   ],
   "source": [
    "# For positive mode\n",
    "np.random.seed(4321)\n",
    "\n",
    "inchikeys = select_unique_inchikeys(positive_fully_annotated)\n",
    "train_inchikey, val_inchikey, test_inchikey = split_into_train_and_val(inchikeys)\n",
    "\n",
    "print(val_inchikey[:10])\n",
    "print(test_inchikey[:10])"
   ]
  },
  {
   "cell_type": "code",
   "execution_count": 5,
   "id": "f90cdd7f",
   "metadata": {},
   "outputs": [
    {
     "name": "stdout",
     "output_type": "stream",
     "text": [
      "2817\n",
      "2987\n",
      "308514\n"
     ]
    }
   ],
   "source": [
    "val_split = select_spectra_with_inchikey(val_inchikey, positive_fully_annotated)\n",
    "print(len(val_split))\n",
    "test_split = select_spectra_with_inchikey(test_inchikey, positive_fully_annotated)\n",
    "print(len(test_split))\n",
    "train_split = select_spectra_with_inchikey(train_inchikey, positive_fully_annotated)\n",
    "print(len(train_split))"
   ]
  },
  {
   "cell_type": "code",
   "execution_count": 6,
   "id": "1d36ad2e",
   "metadata": {},
   "outputs": [],
   "source": [
    "pickle.dump(val_split,\n",
    "           open(os.path.join(path_data, \"GNPS_15_12_2021_pos_val_250_inchikeys.pickle\"), \"wb\"))\n",
    "pickle.dump(test_split,\n",
    "           open(os.path.join(path_data, \"GNPS_15_12_2021_pos_test_250_inchikeys.pickle\"), \"wb\"))\n",
    "pickle.dump(train_split,\n",
    "           open(os.path.join(path_data, \"GNPS_15_12_2021_pos_train_without_250_inchikeys.pickle\"), \"wb\"))"
   ]
  },
  {
   "cell_type": "markdown",
   "id": "e88d03cf",
   "metadata": {},
   "source": [
    "### Plot number of spectra per inchikey"
   ]
  },
  {
   "cell_type": "code",
   "execution_count": 7,
   "id": "eee219ec",
   "metadata": {},
   "outputs": [
    {
     "data": {
      "image/png": "[encoded data removed]",
      "text/plain": [
       "<Figure size 432x288 with 1 Axes>"
      ]
     },
     "metadata": {
      "needs_background": "light"
     },
     "output_type": "display_data"
    },
    {
     "data": {
      "image/png": "[encoded data removed]",
      "text/plain": [
       "<Figure size 432x288 with 1 Axes>"
      ]
     },
     "metadata": {
      "needs_background": "light"
     },
     "output_type": "display_data"
    },
    {
     "data": {
      "image/png": "[encoded data removed]",
      "text/plain": [
       "<Figure size 432x288 with 1 Axes>"
      ]
     },
     "metadata": {
      "needs_background": "light"
     },
     "output_type": "display_data"
    }
   ],
   "source": [
    "from matplotlib import pyplot as plt\n",
    "\n",
    "def plot_nr_of_spec_per_inchi(spectra):\n",
    "    inchikey_dict = {}\n",
    "    for spectrum in spectra:\n",
    "        inchikey = spectrum.get(\"inchikey\")[:14]\n",
    "        if inchikey in inchikey_dict:\n",
    "            inchikey_dict[inchikey] += 1\n",
    "        else: \n",
    "            inchikey_dict[inchikey] = 1\n",
    "    plt.hist(list(inchikey_dict.values()), np.linspace(0,100,100))\n",
    "    plt.show()\n",
    "\n",
    "\n",
    "plot_nr_of_spec_per_inchi(train_split)\n",
    "plot_nr_of_spec_per_inchi(val_split)\n",
    "plot_nr_of_spec_per_inchi(test_split)"
   ]
  },
  {
   "cell_type": "markdown",
   "id": "e1bb5bcf",
   "metadata": {},
   "source": [
    "## Select 2000 random spectra with multiple inchikeys\n",
    "Random spectra with multiple inchikeys"
   ]
  },
  {
   "cell_type": "code",
   "execution_count": 8,
   "id": "7231670a",
   "metadata": {},
   "outputs": [],
   "source": [
    "import numpy as np\n",
    "from tqdm.notebook import tqdm\n",
    "# select inchikeys with more than 1 spectrum\n",
    "def select_inchikeys_with_multiple_spectra(spectra):\n",
    "    inchikey_dict = {}\n",
    "    for i, spectrum in enumerate(spectra):\n",
    "        inchikey = spectrum.get(\"inchikey\")[:14]\n",
    "        if inchikey in inchikey_dict:\n",
    "            inchikey_dict[inchikey].append(i)\n",
    "        else: \n",
    "            inchikey_dict[inchikey] = [i]\n",
    "    inchikey_with_multiple_spectra = []\n",
    "    for inchikey in inchikey_dict:\n",
    "        if len(inchikey_dict[inchikey]) > 1:\n",
    "            inchikey_with_multiple_spectra.append(inchikey)\n",
    "    return inchikey_with_multiple_spectra, inchikey_dict\n",
    "\n",
    "def select_6000_random_spectra_ids(inchikey_with_multiple_spectra, inchikey_dict):\n",
    "    np.random.seed(123)\n",
    "    selected_spectrum_ids = []\n",
    "    selected_inchikeys = np.random.choice(inchikey_with_multiple_spectra, 6000, replace=False)\n",
    "    for inchikey in selected_inchikeys:\n",
    "        possible_spectrum_ids = inchikey_dict[inchikey]\n",
    "        selected_spectrum_id = np.random.choice(possible_spectrum_ids, 1, replace=False)[0]\n",
    "        selected_spectrum_ids.append(selected_spectrum_id)\n",
    "    return selected_spectrum_ids\n",
    "\n",
    "def select_spectra_on_spectrum_id(spectrum_ids, spectra):\n",
    "    val_spectra = []\n",
    "    test_spectra = []\n",
    "    train_spectra =[]\n",
    "    for i, spectrum in enumerate(tqdm(spectra)):\n",
    "        if i in spectrum_ids[:3000]:\n",
    "            val_spectra.append(spectrum)\n",
    "        elif i in spectrum_ids[3000:]:\n",
    "            test_spectra.append(spectrum)\n",
    "        else:\n",
    "            train_spectra.append(spectrum)\n",
    "    return val_spectra, test_spectra, train_spectra\n"
   ]
  },
  {
   "cell_type": "code",
   "execution_count": 9,
   "id": "ad4c1815",
   "metadata": {},
   "outputs": [
    {
     "name": "stdout",
     "output_type": "stream",
     "text": [
      "308514\n"
     ]
    }
   ],
   "source": [
    "outfile = os.path.join(path_data, \"GNPS_15_12_2021_pos_train_without_250_inchikeys.pickle\")\n",
    "with open(outfile, 'rb') as file:\n",
    "    train_split = pickle.load(file)\n",
    "print(len(train_split))"
   ]
  },
  {
   "cell_type": "code",
   "execution_count": 10,
   "id": "87370c62",
   "metadata": {},
   "outputs": [
    {
     "name": "stdout",
     "output_type": "stream",
     "text": [
      "14528\n",
      "6000\n"
     ]
    },
    {
     "data": {
      "application/vnd.jupyter.widget-view+json": {
       "model_id": "900b4d95bd844decaff5316e77a96caa",
       "version_major": 2,
       "version_minor": 0
      },
      "text/plain": [
       "  0%|          | 0/308514 [00:00<?, ?it/s]"
      ]
     },
     "metadata": {},
     "output_type": "display_data"
    }
   ],
   "source": [
    "inchikey_with_multiple_spectra, inchikey_dict = select_inchikeys_with_multiple_spectra(train_split)\n",
    "print(len(inchikey_with_multiple_spectra))\n",
    "selected_spectrum_ids = select_6000_random_spectra_ids(inchikey_with_multiple_spectra, inchikey_dict)\n",
    "print(len(selected_spectrum_ids))\n",
    "val_spectra, test_spectra, train_spectra = select_spectra_on_spectrum_id(selected_spectrum_ids, train_split)"
   ]
  },
  {
   "cell_type": "code",
   "execution_count": 11,
   "id": "1c908f23",
   "metadata": {},
   "outputs": [],
   "source": [
    "pickle.dump(val_spectra,\n",
    "           open(os.path.join(path_data, \"GNPS_15_12_2021_pos_val_3000_spectra.pickle\"), \"wb\"))\n",
    "pickle.dump(test_spectra,\n",
    "           open(os.path.join(path_data, \"GNPS_15_12_2021_pos_test_3000_spectra.pickle\"), \"wb\"))\n",
    "pickle.dump(train_spectra,\n",
    "           open(os.path.join(path_data, \"GNPS_15_12_2021_pos_train.pickle\"), \"wb\"))"
   ]
  },
  {
   "cell_type": "code",
   "execution_count": 12,
   "id": "d6311474",
   "metadata": {},
   "outputs": [
    {
     "name": "stdout",
     "output_type": "stream",
     "text": [
      "3000\n",
      "3000\n",
      "302514\n"
     ]
    }
   ],
   "source": [
    "print(len(val_spectra))\n",
    "print(len(test_spectra))\n",
    "print(len(train_spectra))"
   ]
  },
  {
   "cell_type": "code",
   "execution_count": 13,
   "id": "27654a04",
   "metadata": {},
   "outputs": [
    {
     "name": "stdout",
     "output_type": "stream",
     "text": [
      "3000\n",
      "3000\n",
      "20389\n"
     ]
    }
   ],
   "source": [
    "# test if they are all unique inchikeys\n",
    "inchikeys_test = [spectrum.get(\"inchikey\")[:14] for spectrum in test_spectra]\n",
    "inchikeys_val = [spectrum.get(\"inchikey\")[:14] for spectrum in val_spectra]\n",
    "inchikeys_train = set([spectrum.get(\"inchikey\")[:14] for spectrum in train_spectra])\n",
    "print(len(set(inchikeys_test)))\n",
    "print(len(set(inchikeys_val)))\n",
    "print(len(inchikeys_train))\n",
    "\n",
    "for inchikey in inchikeys_test:\n",
    "    if inchikey not in inchikeys_train:\n",
    "        print(inchikey)\n",
    "for inchikey in inchikeys_val:\n",
    "    if inchikey not in inchikeys_train:\n",
    "        print(inchikey)"
   ]
  },
  {
   "cell_type": "code",
   "execution_count": null,
   "id": "b001a164",
   "metadata": {},
   "outputs": [],
   "source": []
  },
  {
   "cell_type": "markdown",
   "id": "f5c4a9da",
   "metadata": {},
   "source": [
    "# Analyze data"
   ]
  },
  {
   "cell_type": "code",
   "execution_count": 15,
   "id": "79001f9d",
   "metadata": {},
   "outputs": [],
   "source": [
    "def count_annotations(spectra):\n",
    "    inchi_lst = []\n",
    "    smiles_lst = []\n",
    "    inchikey_lst = []\n",
    "    for i, spec in enumerate(spectra):\n",
    "        inchi_lst.append(spec.get(\"inchi\"))\n",
    "        smiles_lst.append(spec.get(\"smiles\"))\n",
    "        inchikey = spec.get(\"inchikey\")\n",
    "        if inchikey is None:\n",
    "            inchikey = spec.get(\"inchikey_inchi\")\n",
    "        inchikey_lst.append(inchikey)\n",
    "\n",
    "    inchi_count = sum([1 for x in inchi_lst if x])\n",
    "    smiles_count = sum([1 for x in smiles_lst if x])\n",
    "    inchikey_count = sum([1 for x in inchikey_lst if x])\n",
    "    print(\"nr_of_spectra:\", len(spectra))\n",
    "    print(\"Inchis:\", inchi_count, \"--\", len(set(inchi_lst)), \"unique\")\n",
    "    print(\"Smiles:\", smiles_count, \"--\", len(set(smiles_lst)), \"unique\")\n",
    "    print(\"Inchikeys:\", inchikey_count, \"--\", \n",
    "          len(set([x[:14] for x in inchikey_lst if x])), \"unique (first 14 characters)\")"
   ]
  },
  {
   "cell_type": "code",
   "execution_count": 16,
   "id": "0310c923",
   "metadata": {},
   "outputs": [],
   "source": [
    "outfile = os.path.join(path_data, \"ALL_GNPS_15_12_2021_positive_annotated.pickle\")\n",
    "with open(outfile, 'rb') as file:\n",
    "    positive_fully_annotated = pickle.load(file)\n",
    "    \n"
   ]
  },
  {
   "cell_type": "code",
   "execution_count": 16,
   "id": "49f27d79",
   "metadata": {},
   "outputs": [
    {
     "name": "stdout",
     "output_type": "stream",
     "text": [
      "nr_of_spectra: 314318\n",
      "Inchis: 314318 -- 24864 unique\n",
      "Smiles: 314318 -- 32591 unique\n",
      "Inchikeys: 314318 -- 20889 unique (first 14 characters)\n"
     ]
    }
   ],
   "source": [
    "count_annotations(positive_fully_annotated)"
   ]
  },
  {
   "cell_type": "code",
   "execution_count": 18,
   "id": "4f5986a4",
   "metadata": {},
   "outputs": [],
   "source": [
    "outfile = os.path.join(path_data, \"GNPS_15_12_2021_pos_val_250_inchikeys.pickle\")\n",
    "with open(outfile, 'rb') as file:\n",
    "    val_spectra_250 = pickle.load(file)\n",
    "    \n",
    "outfile = os.path.join(path_data, \"GNPS_15_12_2021_pos_test_250_inchikeys.pickle\")\n",
    "with open(outfile, 'rb') as file:\n",
    "    test_spectra_250 = pickle.load(file)"
   ]
  },
  {
   "cell_type": "code",
   "execution_count": 18,
   "id": "314afcc3",
   "metadata": {},
   "outputs": [
    {
     "name": "stdout",
     "output_type": "stream",
     "text": [
      "nr_of_spectra: 2817\n",
      "Inchis: 2817 -- 306 unique\n",
      "Smiles: 2817 -- 364 unique\n",
      "Inchikeys: 2817 -- 250 unique (first 14 characters)\n"
     ]
    }
   ],
   "source": [
    "count_annotations(val_split)"
   ]
  },
  {
   "cell_type": "code",
   "execution_count": 19,
   "id": "89a831bf",
   "metadata": {},
   "outputs": [
    {
     "name": "stdout",
     "output_type": "stream",
     "text": [
      "nr_of_spectra: 2987\n",
      "Inchis: 2987 -- 276 unique\n",
      "Smiles: 2987 -- 346 unique\n",
      "Inchikeys: 2987 -- 250 unique (first 14 characters)\n"
     ]
    }
   ],
   "source": [
    "count_annotations(test_split)"
   ]
  },
  {
   "cell_type": "code",
   "execution_count": 20,
   "id": "2c7d5e17",
   "metadata": {},
   "outputs": [],
   "source": [
    "outfile = os.path.join(path_data, \"GNPS_15_12_2021_pos_val_3000_spectra.pickle\")\n",
    "with open(outfile, 'rb') as file:\n",
    "    val_spectra_3000 = pickle.load(file)\n",
    "    \n",
    "outfile = os.path.join(path_data, \"GNPS_15_12_2021_pos_test_3000_spectra.pickle\")\n",
    "with open(outfile, 'rb') as file:\n",
    "    test_spectra_3000 = pickle.load(file)\n",
    "\n",
    "outfile = os.path.join(path_data, \"GNPS_15_12_2021_pos_train.pickle\")\n",
    "with open(outfile, 'rb') as file:\n",
    "    train_spectra = pickle.load(file)"
   ]
  },
  {
   "cell_type": "code",
   "execution_count": 21,
   "id": "f9f0064b",
   "metadata": {},
   "outputs": [
    {
     "name": "stdout",
     "output_type": "stream",
     "text": [
      "nr_of_spectra: 3000\n",
      "Inchis: 3000 -- 3000 unique\n",
      "Smiles: 3000 -- 3000 unique\n",
      "Inchikeys: 3000 -- 3000 unique (first 14 characters)\n"
     ]
    }
   ],
   "source": [
    "count_annotations(val_spectra_3000)"
   ]
  },
  {
   "cell_type": "code",
   "execution_count": 22,
   "id": "eae16020",
   "metadata": {},
   "outputs": [
    {
     "name": "stdout",
     "output_type": "stream",
     "text": [
      "nr_of_spectra: 3000\n",
      "Inchis: 3000 -- 3000 unique\n",
      "Smiles: 3000 -- 3000 unique\n",
      "Inchikeys: 3000 -- 3000 unique (first 14 characters)\n"
     ]
    }
   ],
   "source": [
    "count_annotations(test_spectra_3000)"
   ]
  },
  {
   "cell_type": "code",
   "execution_count": 23,
   "id": "c32b7fae",
   "metadata": {},
   "outputs": [
    {
     "name": "stdout",
     "output_type": "stream",
     "text": [
      "nr_of_spectra: 302514\n",
      "Inchis: 302514 -- 24139 unique\n",
      "Smiles: 302514 -- 31547 unique\n",
      "Inchikeys: 302514 -- 20389 unique (first 14 characters)\n"
     ]
    }
   ],
   "source": [
    "count_annotations(train_spectra)"
   ]
  },
  {
   "cell_type": "code",
   "execution_count": null,
   "id": "b8871aaa",
   "metadata": {},
   "outputs": [],
   "source": []
  }
 ],
 "metadata": {
  "kernelspec": {
   "display_name": "Python 3 (ipykernel)",
   "language": "python",
   "name": "python3"
  },
  "language_info": {
   "codemirror_mode": {
    "name": "ipython",
    "version": 3
   },
   "file_extension": ".py",
   "mimetype": "text/x-python",
   "name": "python",
   "nbconvert_exporter": "python",
   "pygments_lexer": "ipython3",
   "version": "3.8.12"
  }
 },
 "nbformat": 4,
 "nbformat_minor": 5
}
