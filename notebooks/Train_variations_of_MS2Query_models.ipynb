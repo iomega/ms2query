{
 "cells": [
  {
   "cell_type": "markdown",
   "metadata": {},
   "source": [
    "# Load in dataset\n",
    "A dataset was created in Create_dataset_for_training_MS2Query_model.ipynb. This dataset contains 4 dataframes with the scores for the top 2000 matches for each query spectrum in a validation and a training set. The scores are pasted after each other, so it can be used directly for training MS2Query models. "
   ]
  },
  {
   "cell_type": "code",
   "execution_count": 1,
   "metadata": {},
   "outputs": [],
   "source": [
    "from ms2query.utils import load_pickled_file\n",
    "training_scores, training_labels, validation_scores, validation_labels = \\\n",
    "    load_pickled_file(\"../downloads/gnps_210409/train_ms2query_model/ms2q_training_data.pickle\")"
   ]
  },
  {
   "cell_type": "markdown",
   "metadata": {},
   "source": [
    "# Data exploration\n",
    "It is important to use a dataset that trains recognizing high scores as well as recognizing low scores. Here the top 2000 highest MS2deepscore scores are selected. However since most tanimoto scores are selected in this way, the network is still trained mostly for low tanimoto scores."
   ]
  },
  {
   "cell_type": "code",
   "execution_count": 29,
   "metadata": {},
   "outputs": [
    {
     "data": {
      "text/plain": [
       "(array([ 455083., 1079553., 1359605., 1151687.,  758485.,  567056.,\n",
       "         263886.,  219469.,  269733.,  325443.]),\n",
       " array([0. , 0.1, 0.2, 0.3, 0.4, 0.5, 0.6, 0.7, 0.8, 0.9, 1. ],\n",
       "       dtype=float32),\n",
       " <BarContainer object of 10 artists>)"
      ]
     },
     "execution_count": 29,
     "metadata": {},
     "output_type": "execute_result"
    },
    {
     "data": {
      "image/png": "[encoded data removed]",
      "text/plain": [
       "<Figure size 432x288 with 1 Axes>"
      ]
     },
     "metadata": {
      "needs_background": "light"
     },
     "output_type": "display_data"
    }
   ],
   "source": [
    "from matplotlib import pyplot as plt\n",
    "plt.hist(training_labels)"
   ]
  },
  {
   "cell_type": "code",
   "execution_count": 25,
   "metadata": {},
   "outputs": [],
   "source": [
    "import pandas as pd\n",
    "def select_less_top_spectra(nr_of_spectra_cut_off, dataframe_with_tanimoto_scores, dataframe_with_scores):\n",
    "    nr_of_matches_per_training_spectra = 2000\n",
    "    \n",
    "    tanimoto_df_per_spectrum = []\n",
    "    scores_df_per_spectrum = []\n",
    "    for i in range(0, len(dataframe_with_scores), nr_of_matches_per_training_spectra):\n",
    "        scores_for_one_spectrum = dataframe_with_scores.iloc[i:i+nr_of_spectra_cut_off]\n",
    "        tanimoto_scores_one_spectrum = dataframe_with_tanimoto_scores.iloc[i:i+nr_of_spectra_cut_off]\n",
    "        tanimoto_df_per_spectrum.append(tanimoto_scores_one_spectrum)\n",
    "        scores_df_per_spectrum.append(scores_for_one_spectrum)\n",
    "        \n",
    "    selected_tanimoto_scores = pd.concat(tanimoto_df_per_spectrum)\n",
    "    selected_scores = pd.concat(scores_df_per_spectrum)\n",
    "    \n",
    "    return selected_tanimoto_scores, selected_scores"
   ]
  },
  {
   "cell_type": "markdown",
   "metadata": {},
   "source": [
    "# Select the top 100\n",
    "The top 100 spectra are selected, to get a bit better distribution of tanimoto scores in training data "
   ]
  },
  {
   "cell_type": "code",
   "execution_count": 30,
   "metadata": {},
   "outputs": [
    {
     "data": {
      "text/plain": [
       "(array([20310., 46306., 59612., 51393., 35768., 27296., 15609., 15437.,\n",
       "        18540., 32229.]),\n",
       " array([0. , 0.1, 0.2, 0.3, 0.4, 0.5, 0.6, 0.7, 0.8, 0.9, 1. ],\n",
       "       dtype=float32),\n",
       " <BarContainer object of 10 artists>)"
      ]
     },
     "execution_count": 30,
     "metadata": {},
     "output_type": "execute_result"
    },
    {
     "data": {
      "image/png": "[encoded data removed]",
      "text/plain": [
       "<Figure size 432x288 with 1 Axes>"
      ]
     },
     "metadata": {
      "needs_background": "light"
     },
     "output_type": "display_data"
    }
   ],
   "source": [
    "training_labels_top_100, training_scores_top_100 = select_less_top_spectra(100, training_labels, training_scores)\n",
    "validation_labels_top_100, validation_scores_top_100 = select_less_top_spectra(100, validation_labels, validation_scores)\n",
    "\n",
    "plt.hist(training_labels_top_100)"
   ]
  },
  {
   "cell_type": "markdown",
   "metadata": {},
   "source": [
    "# Train MS2Query model"
   ]
  },
  {
   "cell_type": "markdown",
   "metadata": {},
   "source": [
    "### Train model with all score"
   ]
  },
  {
   "cell_type": "code",
   "execution_count": 33,
   "metadata": {},
   "outputs": [
    {
     "name": "stdout",
     "output_type": "stream",
     "text": [
      "Epoch 1/100\n",
      "20157/20157 [==============================] - 24s 1ms/step - loss: 0.0342 - mae: 0.1426 - val_loss: 0.0299 - val_mae: 0.1324\n",
      "\n",
      "Epoch 00001: val_loss improved from inf to 0.02989, saving model to ../downloads/gnps_210409/train_ms2query_model\\ms2query_model_all_scores.hdf5\n",
      "Epoch 2/100\n",
      "20157/20157 [==============================] - 13s 650us/step - loss: 0.0293 - mae: 0.1294 - val_loss: 0.0291 - val_mae: 0.1297\n",
      "\n",
      "Epoch 00002: val_loss improved from 0.02989 to 0.02908, saving model to ../downloads/gnps_210409/train_ms2query_model\\ms2query_model_all_scores.hdf5\n",
      "Epoch 3/100\n",
      "20157/20157 [==============================] - 13s 646us/step - loss: 0.0284 - mae: 0.1267 - val_loss: 0.0283 - val_mae: 0.1272\n",
      "\n",
      "Epoch 00003: val_loss improved from 0.02908 to 0.02827, saving model to ../downloads/gnps_210409/train_ms2query_model\\ms2query_model_all_scores.hdf5\n",
      "Epoch 4/100\n",
      "20157/20157 [==============================] - 13s 644us/step - loss: 0.0281 - mae: 0.1259 - val_loss: 0.0297 - val_mae: 0.1310\n",
      "\n",
      "Epoch 00004: val_loss did not improve from 0.02827\n",
      "Epoch 5/100\n",
      "20157/20157 [==============================] - 18s 871us/step - loss: 0.0276 - mae: 0.1251 - val_loss: 0.0281 - val_mae: 0.1259\n",
      "\n",
      "Epoch 00005: val_loss improved from 0.02827 to 0.02815, saving model to ../downloads/gnps_210409/train_ms2query_model\\ms2query_model_all_scores.hdf5\n",
      "Epoch 6/100\n",
      "20157/20157 [==============================] - 36s 2ms/step - loss: 0.0274 - mae: 0.1244 - val_loss: 0.0279 - val_mae: 0.1258\n",
      "\n",
      "Epoch 00006: val_loss improved from 0.02815 to 0.02791, saving model to ../downloads/gnps_210409/train_ms2query_model\\ms2query_model_all_scores.hdf5\n",
      "Epoch 7/100\n",
      "20157/20157 [==============================] - 13s 661us/step - loss: 0.0272 - mae: 0.1238 - val_loss: 0.0279 - val_mae: 0.1256\n",
      "\n",
      "Epoch 00007: val_loss did not improve from 0.02791\n",
      "Epoch 8/100\n",
      "20157/20157 [==============================] - 14s 692us/step - loss: 0.0270 - mae: 0.1233 - val_loss: 0.0281 - val_mae: 0.1273\n",
      "\n",
      "Epoch 00008: val_loss did not improve from 0.02791\n",
      "Epoch 9/100\n",
      "20157/20157 [==============================] - 13s 648us/step - loss: 0.0271 - mae: 0.1234 - val_loss: 0.0275 - val_mae: 0.1241\n",
      "\n",
      "Epoch 00009: val_loss improved from 0.02791 to 0.02746, saving model to ../downloads/gnps_210409/train_ms2query_model\\ms2query_model_all_scores.hdf5\n",
      "Epoch 10/100\n",
      "20157/20157 [==============================] - 27s 1ms/step - loss: 0.0266 - mae: 0.1226 - val_loss: 0.0285 - val_mae: 0.1280\n",
      "\n",
      "Epoch 00010: val_loss did not improve from 0.02746\n",
      "Epoch 11/100\n",
      "20157/20157 [==============================] - 41s 2ms/step - loss: 0.0263 - mae: 0.1217 - val_loss: 0.0274 - val_mae: 0.1244\n",
      "\n",
      "Epoch 00011: val_loss improved from 0.02746 to 0.02745, saving model to ../downloads/gnps_210409/train_ms2query_model\\ms2query_model_all_scores.hdf5\n",
      "Epoch 12/100\n",
      "20157/20157 [==============================] - 40s 2ms/step - loss: 0.0262 - mae: 0.1213 - val_loss: 0.0272 - val_mae: 0.1242\n",
      "\n",
      "Epoch 00012: val_loss improved from 0.02745 to 0.02725, saving model to ../downloads/gnps_210409/train_ms2query_model\\ms2query_model_all_scores.hdf5\n",
      "Epoch 13/100\n",
      "20157/20157 [==============================] - 40s 2ms/step - loss: 0.0258 - mae: 0.1204 - val_loss: 0.0276 - val_mae: 0.1236\n",
      "\n",
      "Epoch 00013: val_loss did not improve from 0.02725\n",
      "Epoch 14/100\n",
      "20157/20157 [==============================] - 40s 2ms/step - loss: 0.0258 - mae: 0.1203 - val_loss: 0.0271 - val_mae: 0.1245\n",
      "\n",
      "Epoch 00014: val_loss improved from 0.02725 to 0.02705, saving model to ../downloads/gnps_210409/train_ms2query_model\\ms2query_model_all_scores.hdf5\n",
      "Epoch 15/100\n",
      "20157/20157 [==============================] - 40s 2ms/step - loss: 0.0258 - mae: 0.1202 - val_loss: 0.0279 - val_mae: 0.1259\n",
      "\n",
      "Epoch 00015: val_loss did not improve from 0.02705\n",
      "Epoch 16/100\n",
      "20157/20157 [==============================] - 40s 2ms/step - loss: 0.0255 - mae: 0.1196 - val_loss: 0.0265 - val_mae: 0.1233\n",
      "\n",
      "Epoch 00016: val_loss improved from 0.02705 to 0.02649, saving model to ../downloads/gnps_210409/train_ms2query_model\\ms2query_model_all_scores.hdf5\n",
      "Epoch 17/100\n",
      "20157/20157 [==============================] - 40s 2ms/step - loss: 0.0255 - mae: 0.1193 - val_loss: 0.0268 - val_mae: 0.1232\n",
      "\n",
      "Epoch 00017: val_loss did not improve from 0.02649\n",
      "Epoch 18/100\n",
      "20157/20157 [==============================] - 40s 2ms/step - loss: 0.0254 - mae: 0.1193 - val_loss: 0.0266 - val_mae: 0.1218\n",
      "\n",
      "Epoch 00018: val_loss did not improve from 0.02649\n",
      "Epoch 19/100\n",
      "20157/20157 [==============================] - 21s 1ms/step - loss: 0.0254 - mae: 0.1192 - val_loss: 0.0265 - val_mae: 0.1220\n",
      "\n",
      "Epoch 00019: val_loss did not improve from 0.02649\n",
      "Epoch 20/100\n",
      "20157/20157 [==============================] - 16s 817us/step - loss: 0.0253 - mae: 0.1187 - val_loss: 0.0264 - val_mae: 0.1227\n",
      "\n",
      "Epoch 00020: val_loss improved from 0.02649 to 0.02641, saving model to ../downloads/gnps_210409/train_ms2query_model\\ms2query_model_all_scores.hdf5\n",
      "Epoch 21/100\n",
      "20157/20157 [==============================] - 13s 663us/step - loss: 0.0252 - mae: 0.1186 - val_loss: 0.0270 - val_mae: 0.1227\n",
      "\n",
      "Epoch 00021: val_loss did not improve from 0.02641\n",
      "Epoch 22/100\n",
      "20157/20157 [==============================] - 13s 659us/step - loss: 0.0252 - mae: 0.1185 - val_loss: 0.0264 - val_mae: 0.1228\n",
      "\n",
      "Epoch 00022: val_loss improved from 0.02641 to 0.02639, saving model to ../downloads/gnps_210409/train_ms2query_model\\ms2query_model_all_scores.hdf5\n",
      "Epoch 23/100\n",
      "20157/20157 [==============================] - 13s 652us/step - loss: 0.0250 - mae: 0.1182 - val_loss: 0.0269 - val_mae: 0.1246\n",
      "\n",
      "Epoch 00023: val_loss did not improve from 0.02639\n",
      "Epoch 24/100\n",
      "20157/20157 [==============================] - 13s 659us/step - loss: 0.0250 - mae: 0.1183 - val_loss: 0.0259 - val_mae: 0.1212\n",
      "\n",
      "Epoch 00024: val_loss improved from 0.02639 to 0.02595, saving model to ../downloads/gnps_210409/train_ms2query_model\\ms2query_model_all_scores.hdf5\n",
      "Epoch 25/100\n",
      "20157/20157 [==============================] - 14s 688us/step - loss: 0.0250 - mae: 0.1182 - val_loss: 0.0261 - val_mae: 0.1219\n",
      "\n",
      "Epoch 00025: val_loss did not improve from 0.02595\n",
      "Epoch 26/100\n",
      "20157/20157 [==============================] - 14s 677us/step - loss: 0.0250 - mae: 0.1180 - val_loss: 0.0263 - val_mae: 0.1215\n",
      "\n",
      "Epoch 00026: val_loss did not improve from 0.02595\n",
      "Epoch 27/100\n",
      "20157/20157 [==============================] - 14s 679us/step - loss: 0.0248 - mae: 0.1177 - val_loss: 0.0265 - val_mae: 0.1221\n",
      "\n",
      "Epoch 00027: val_loss did not improve from 0.02595\n",
      "Epoch 28/100\n",
      "20157/20157 [==============================] - 20s 1ms/step - loss: 0.0247 - mae: 0.1177 - val_loss: 0.0264 - val_mae: 0.1203\n",
      "\n",
      "Epoch 00028: val_loss did not improve from 0.02595\n",
      "Epoch 29/100\n",
      "20157/20157 [==============================] - 16s 811us/step - loss: 0.0247 - mae: 0.1174 - val_loss: 0.0262 - val_mae: 0.1222\n",
      "\n",
      "Epoch 00029: val_loss did not improve from 0.02595\n",
      "Epoch 30/100\n",
      "20157/20157 [==============================] - 13s 656us/step - loss: 0.0246 - mae: 0.1173 - val_loss: 0.0259 - val_mae: 0.1207\n",
      "\n",
      "Epoch 00030: val_loss improved from 0.02595 to 0.02586, saving model to ../downloads/gnps_210409/train_ms2query_model\\ms2query_model_all_scores.hdf5\n",
      "Epoch 31/100\n",
      "20157/20157 [==============================] - 13s 655us/step - loss: 0.0247 - mae: 0.1173 - val_loss: 0.0259 - val_mae: 0.1199\n",
      "\n",
      "Epoch 00031: val_loss did not improve from 0.02586\n",
      "Epoch 32/100\n",
      "20157/20157 [==============================] - 24s 1ms/step - loss: 0.0248 - mae: 0.1174 - val_loss: 0.0259 - val_mae: 0.1208\n",
      "\n",
      "Epoch 00032: val_loss did not improve from 0.02586\n",
      "Epoch 33/100\n",
      "20157/20157 [==============================] - 28s 1ms/step - loss: 0.0246 - mae: 0.1170 - val_loss: 0.0276 - val_mae: 0.1255\n",
      "\n",
      "Epoch 00033: val_loss did not improve from 0.02586\n",
      "Epoch 34/100\n",
      "20157/20157 [==============================] - 13s 657us/step - loss: 0.0246 - mae: 0.1170 - val_loss: 0.0270 - val_mae: 0.1232\n",
      "\n",
      "Epoch 00034: val_loss did not improve from 0.02586\n",
      "Epoch 35/100\n",
      "20157/20157 [==============================] - 13s 660us/step - loss: 0.0244 - mae: 0.1167 - val_loss: 0.0263 - val_mae: 0.1216\n",
      "\n",
      "Epoch 00035: val_loss did not improve from 0.02586\n",
      "Epoch 36/100\n",
      "20157/20157 [==============================] - 13s 649us/step - loss: 0.0243 - mae: 0.1163 - val_loss: 0.0263 - val_mae: 0.1213\n"
     ]
    },
    {
     "name": "stdout",
     "output_type": "stream",
     "text": [
      "\n",
      "Epoch 00036: val_loss did not improve from 0.02586\n",
      "Epoch 37/100\n",
      "20157/20157 [==============================] - 13s 641us/step - loss: 0.0244 - mae: 0.1162 - val_loss: 0.0260 - val_mae: 0.1199\n",
      "\n",
      "Epoch 00037: val_loss did not improve from 0.02586\n",
      "Epoch 38/100\n",
      "20157/20157 [==============================] - 13s 657us/step - loss: 0.0243 - mae: 0.1163 - val_loss: 0.0269 - val_mae: 0.1224\n",
      "\n",
      "Epoch 00038: val_loss did not improve from 0.02586\n",
      "Epoch 39/100\n",
      "20157/20157 [==============================] - 13s 656us/step - loss: 0.0243 - mae: 0.1161 - val_loss: 0.0259 - val_mae: 0.1204\n",
      "\n",
      "Epoch 00039: val_loss did not improve from 0.02586\n",
      "Epoch 40/100\n",
      "20157/20157 [==============================] - 13s 657us/step - loss: 0.0243 - mae: 0.1162 - val_loss: 0.0258 - val_mae: 0.1220\n",
      "\n",
      "Epoch 00040: val_loss improved from 0.02586 to 0.02582, saving model to ../downloads/gnps_210409/train_ms2query_model\\ms2query_model_all_scores.hdf5\n",
      "Epoch 41/100\n",
      "20157/20157 [==============================] - 14s 684us/step - loss: 0.0243 - mae: 0.1162 - val_loss: 0.0264 - val_mae: 0.1222\n",
      "\n",
      "Epoch 00041: val_loss did not improve from 0.02582\n",
      "Epoch 42/100\n",
      "20157/20157 [==============================] - 13s 667us/step - loss: 0.0244 - mae: 0.1164 - val_loss: 0.0262 - val_mae: 0.1216\n",
      "\n",
      "Epoch 00042: val_loss did not improve from 0.02582\n",
      "Epoch 43/100\n",
      "20157/20157 [==============================] - 14s 691us/step - loss: 0.0241 - mae: 0.1158 - val_loss: 0.0268 - val_mae: 0.1229\n",
      "\n",
      "Epoch 00043: val_loss did not improve from 0.02582\n",
      "Epoch 44/100\n",
      "20157/20157 [==============================] - 13s 640us/step - loss: 0.0242 - mae: 0.1159 - val_loss: 0.0263 - val_mae: 0.1217\n",
      "\n",
      "Epoch 00044: val_loss did not improve from 0.02582\n",
      "Epoch 45/100\n",
      "20157/20157 [==============================] - 13s 663us/step - loss: 0.0241 - mae: 0.1160 - val_loss: 0.0258 - val_mae: 0.1203\n",
      "\n",
      "Epoch 00045: val_loss improved from 0.02582 to 0.02577, saving model to ../downloads/gnps_210409/train_ms2query_model\\ms2query_model_all_scores.hdf5\n",
      "Epoch 46/100\n",
      "20157/20157 [==============================] - 13s 668us/step - loss: 0.0240 - mae: 0.1156 - val_loss: 0.0265 - val_mae: 0.1230\n",
      "\n",
      "Epoch 00046: val_loss did not improve from 0.02577\n",
      "Epoch 47/100\n",
      "20157/20157 [==============================] - 13s 657us/step - loss: 0.0242 - mae: 0.1160 - val_loss: 0.0264 - val_mae: 0.1208\n",
      "\n",
      "Epoch 00047: val_loss did not improve from 0.02577\n",
      "Epoch 48/100\n",
      "20157/20157 [==============================] - 13s 655us/step - loss: 0.0241 - mae: 0.1156 - val_loss: 0.0258 - val_mae: 0.1197\n",
      "\n",
      "Epoch 00048: val_loss did not improve from 0.02577\n",
      "Epoch 49/100\n",
      "20157/20157 [==============================] - 13s 656us/step - loss: 0.0240 - mae: 0.1155 - val_loss: 0.0260 - val_mae: 0.1210\n",
      "\n",
      "Epoch 00049: val_loss did not improve from 0.02577\n",
      "Epoch 50/100\n",
      "20157/20157 [==============================] - 13s 657us/step - loss: 0.0241 - mae: 0.1157 - val_loss: 0.0271 - val_mae: 0.1225\n",
      "\n",
      "Epoch 00050: val_loss did not improve from 0.02577\n",
      "Epoch 51/100\n",
      "20157/20157 [==============================] - 13s 660us/step - loss: 0.0239 - mae: 0.1152 - val_loss: 0.0260 - val_mae: 0.1193\n",
      "\n",
      "Epoch 00051: val_loss did not improve from 0.02577\n",
      "Epoch 52/100\n",
      "20157/20157 [==============================] - 13s 656us/step - loss: 0.0239 - mae: 0.1153 - val_loss: 0.0259 - val_mae: 0.1198\n",
      "\n",
      "Epoch 00052: val_loss did not improve from 0.02577\n",
      "Epoch 53/100\n",
      "20157/20157 [==============================] - 13s 659us/step - loss: 0.0241 - mae: 0.1154 - val_loss: 0.0259 - val_mae: 0.1196\n",
      "\n",
      "Epoch 00053: val_loss did not improve from 0.02577\n",
      "Epoch 54/100\n",
      "20157/20157 [==============================] - 13s 654us/step - loss: 0.0239 - mae: 0.1153 - val_loss: 0.0257 - val_mae: 0.1191\n",
      "\n",
      "Epoch 00054: val_loss improved from 0.02577 to 0.02575, saving model to ../downloads/gnps_210409/train_ms2query_model\\ms2query_model_all_scores.hdf5\n",
      "Epoch 55/100\n",
      "20157/20157 [==============================] - 13s 662us/step - loss: 0.0239 - mae: 0.1150 - val_loss: 0.0259 - val_mae: 0.1203\n",
      "\n",
      "Epoch 00055: val_loss did not improve from 0.02575\n",
      "Epoch 56/100\n",
      "20157/20157 [==============================] - 13s 657us/step - loss: 0.0240 - mae: 0.1153 - val_loss: 0.0261 - val_mae: 0.1215\n",
      "\n",
      "Epoch 00056: val_loss did not improve from 0.02575\n",
      "Epoch 57/100\n",
      "20157/20157 [==============================] - 13s 659us/step - loss: 0.0239 - mae: 0.1150 - val_loss: 0.0256 - val_mae: 0.1200\n",
      "\n",
      "Epoch 00057: val_loss improved from 0.02575 to 0.02565, saving model to ../downloads/gnps_210409/train_ms2query_model\\ms2query_model_all_scores.hdf5\n",
      "Epoch 58/100\n",
      "20157/20157 [==============================] - 13s 663us/step - loss: 0.0238 - mae: 0.1148 - val_loss: 0.0261 - val_mae: 0.1218\n",
      "\n",
      "Epoch 00058: val_loss did not improve from 0.02565\n",
      "Epoch 59/100\n",
      "20157/20157 [==============================] - 13s 661us/step - loss: 0.0239 - mae: 0.1150 - val_loss: 0.0255 - val_mae: 0.1190\n",
      "\n",
      "Epoch 00059: val_loss improved from 0.02565 to 0.02554, saving model to ../downloads/gnps_210409/train_ms2query_model\\ms2query_model_all_scores.hdf5\n",
      "Epoch 60/100\n",
      "20157/20157 [==============================] - 13s 660us/step - loss: 0.0238 - mae: 0.1149 - val_loss: 0.0259 - val_mae: 0.1212\n",
      "\n",
      "Epoch 00060: val_loss did not improve from 0.02554\n",
      "Epoch 61/100\n",
      "20157/20157 [==============================] - 13s 658us/step - loss: 0.0239 - mae: 0.1152 - val_loss: 0.0256 - val_mae: 0.1202\n",
      "\n",
      "Epoch 00061: val_loss did not improve from 0.02554\n",
      "Epoch 62/100\n",
      "20157/20157 [==============================] - 14s 672us/step - loss: 0.0237 - mae: 0.1148 - val_loss: 0.0253 - val_mae: 0.1187\n",
      "\n",
      "Epoch 00062: val_loss improved from 0.02554 to 0.02530, saving model to ../downloads/gnps_210409/train_ms2query_model\\ms2query_model_all_scores.hdf5\n",
      "Epoch 63/100\n",
      "20157/20157 [==============================] - 14s 685us/step - loss: 0.0239 - mae: 0.1152 - val_loss: 0.0265 - val_mae: 0.1235\n",
      "\n",
      "Epoch 00063: val_loss did not improve from 0.02530\n",
      "Epoch 64/100\n",
      "20157/20157 [==============================] - 13s 664us/step - loss: 0.0238 - mae: 0.1149 - val_loss: 0.0257 - val_mae: 0.1199\n",
      "\n",
      "Epoch 00064: val_loss did not improve from 0.02530\n",
      "Epoch 65/100\n",
      "20157/20157 [==============================] - 13s 661us/step - loss: 0.0238 - mae: 0.1148 - val_loss: 0.0258 - val_mae: 0.1213\n",
      "\n",
      "Epoch 00065: val_loss did not improve from 0.02530\n",
      "Epoch 66/100\n",
      "20157/20157 [==============================] - 13s 657us/step - loss: 0.0237 - mae: 0.1148 - val_loss: 0.0259 - val_mae: 0.1208\n",
      "\n",
      "Epoch 00066: val_loss did not improve from 0.02530\n",
      "Epoch 67/100\n",
      "20157/20157 [==============================] - 14s 671us/step - loss: 0.0237 - mae: 0.1145 - val_loss: 0.0263 - val_mae: 0.1206\n",
      "\n",
      "Epoch 00067: val_loss did not improve from 0.02530\n",
      "Epoch 68/100\n",
      "20157/20157 [==============================] - 13s 623us/step - loss: 0.0238 - mae: 0.1148 - val_loss: 0.0259 - val_mae: 0.1212\n",
      "\n",
      "Epoch 00068: val_loss did not improve from 0.02530\n",
      "Epoch 69/100\n",
      "20157/20157 [==============================] - 13s 621us/step - loss: 0.0236 - mae: 0.1144 - val_loss: 0.0258 - val_mae: 0.1194\n",
      "\n",
      "Epoch 00069: val_loss did not improve from 0.02530\n",
      "Epoch 70/100\n",
      "20157/20157 [==============================] - 13s 641us/step - loss: 0.0236 - mae: 0.1142 - val_loss: 0.0258 - val_mae: 0.1206\n",
      "\n",
      "Epoch 00070: val_loss did not improve from 0.02530\n",
      "Epoch 71/100\n",
      "20157/20157 [==============================] - 2582s 128ms/step - loss: 0.0236 - mae: 0.1145 - val_loss: 0.0257 - val_mae: 0.1195\n",
      "\n",
      "Epoch 00071: val_loss did not improve from 0.02530\n",
      "Epoch 72/100\n",
      "20157/20157 [==============================] - 31s 2ms/step - loss: 0.0234 - mae: 0.1139 - val_loss: 0.0257 - val_mae: 0.1191\n",
      "\n",
      "Epoch 00072: val_loss did not improve from 0.02530\n",
      "Epoch 00072: early stopping\n"
     ]
    },
    {
     "data": {
      "text/plain": [
       "(<tensorflow.python.keras.engine.sequential.Sequential at 0x2362fc31820>,\n",
       " {'loss': [0.031496305018663406,\n",
       "   0.02897644229233265,\n",
       "   0.028264440596103668,\n",
       "   0.027927471324801445,\n",
       "   0.027639517560601234,\n",
       "   0.027369525283575058,\n",
       "   0.02715250663459301,\n",
       "   0.027000227943062782,\n",
       "   0.02679959498345852,\n",
       "   0.02651801146566868,\n",
       "   0.02633279375731945,\n",
       "   0.02611823007464409,\n",
       "   0.025944558903574944,\n",
       "   0.025843774899840355,\n",
       "   0.025710176676511765,\n",
       "   0.025606919080018997,\n",
       "   0.025482570752501488,\n",
       "   0.025425130501389503,\n",
       "   0.025325879454612732,\n",
       "   0.025274762883782387,\n",
       "   0.02519717626273632,\n",
       "   0.025126438587903976,\n",
       "   0.025033285841345787,\n",
       "   0.02500300481915474,\n",
       "   0.024940233677625656,\n",
       "   0.02493630349636078,\n",
       "   0.02482735365629196,\n",
       "   0.024790585041046143,\n",
       "   0.02474038675427437,\n",
       "   0.024725740775465965,\n",
       "   0.024685680866241455,\n",
       "   0.024652373045682907,\n",
       "   0.024575894698500633,\n",
       "   0.02452464960515499,\n",
       "   0.024465490132570267,\n",
       "   0.024401040747761726,\n",
       "   0.0243966244161129,\n",
       "   0.02437642216682434,\n",
       "   0.024340301752090454,\n",
       "   0.024313507601618767,\n",
       "   0.024278299883008003,\n",
       "   0.02428564615547657,\n",
       "   0.024223659187555313,\n",
       "   0.0242041926831007,\n",
       "   0.024174092337489128,\n",
       "   0.02414625696837902,\n",
       "   0.024127565324306488,\n",
       "   0.024094510823488235,\n",
       "   0.02405346930027008,\n",
       "   0.024025527760386467,\n",
       "   0.024048171937465668,\n",
       "   0.024024052545428276,\n",
       "   0.023979760706424713,\n",
       "   0.023949002847075462,\n",
       "   0.023932650685310364,\n",
       "   0.023924313485622406,\n",
       "   0.02389623038470745,\n",
       "   0.023887325078248978,\n",
       "   0.023864110931754112,\n",
       "   0.023863889276981354,\n",
       "   0.023836985230445862,\n",
       "   0.02379610203206539,\n",
       "   0.02379489876329899,\n",
       "   0.023798657581210136,\n",
       "   0.023765217512845993,\n",
       "   0.023766756057739258,\n",
       "   0.023728234693408012,\n",
       "   0.02374897710978985,\n",
       "   0.023736122995615005,\n",
       "   0.023701630532741547,\n",
       "   0.023681459948420525,\n",
       "   0.023657960817217827],\n",
       "  'mae': [0.1358470320701599,\n",
       "   0.12847241759300232,\n",
       "   0.12654975056648254,\n",
       "   0.1256580650806427,\n",
       "   0.12496775388717651,\n",
       "   0.12427689135074615,\n",
       "   0.12374123185873032,\n",
       "   0.12336235493421555,\n",
       "   0.1228037178516388,\n",
       "   0.12228900194168091,\n",
       "   0.12176749110221863,\n",
       "   0.12119466066360474,\n",
       "   0.12081129103899002,\n",
       "   0.12052839249372482,\n",
       "   0.12007106095552444,\n",
       "   0.11983852833509445,\n",
       "   0.11942815035581589,\n",
       "   0.11930907517671585,\n",
       "   0.11908388882875443,\n",
       "   0.11886661499738693,\n",
       "   0.11873617768287659,\n",
       "   0.11852822452783585,\n",
       "   0.11834146082401276,\n",
       "   0.11819718778133392,\n",
       "   0.11800077557563782,\n",
       "   0.11794521659612656,\n",
       "   0.11776989698410034,\n",
       "   0.11771001666784286,\n",
       "   0.1174626350402832,\n",
       "   0.11752594262361526,\n",
       "   0.11733099818229675,\n",
       "   0.11727598309516907,\n",
       "   0.11698075383901596,\n",
       "   0.11688833683729172,\n",
       "   0.11669477075338364,\n",
       "   0.11657370626926422,\n",
       "   0.116478331387043,\n",
       "   0.11645880341529846,\n",
       "   0.11631154268980026,\n",
       "   0.11628442257642746,\n",
       "   0.1161881536245346,\n",
       "   0.11622755229473114,\n",
       "   0.11602765321731567,\n",
       "   0.11599221080541611,\n",
       "   0.11593082547187805,\n",
       "   0.11583993583917618,\n",
       "   0.11584968864917755,\n",
       "   0.11567381024360657,\n",
       "   0.11559410393238068,\n",
       "   0.11555736511945724,\n",
       "   0.11553754657506943,\n",
       "   0.11546411365270615,\n",
       "   0.11540215462446213,\n",
       "   0.11524558812379837,\n",
       "   0.11519672721624374,\n",
       "   0.11518226563930511,\n",
       "   0.11513862758874893,\n",
       "   0.1150587797164917,\n",
       "   0.11502987891435623,\n",
       "   0.11499415338039398,\n",
       "   0.11496394127607346,\n",
       "   0.114919513463974,\n",
       "   0.11479440331459045,\n",
       "   0.11488109081983566,\n",
       "   0.11470059305429459,\n",
       "   0.11476395279169083,\n",
       "   0.11466344445943832,\n",
       "   0.11466783285140991,\n",
       "   0.11467635631561279,\n",
       "   0.11456628888845444,\n",
       "   0.11446227133274078,\n",
       "   0.11447464674711227],\n",
       "  'val_loss': [0.02988933026790619,\n",
       "   0.029079139232635498,\n",
       "   0.02827388420701027,\n",
       "   0.02972024492919445,\n",
       "   0.028149524703621864,\n",
       "   0.027910050004720688,\n",
       "   0.02794407494366169,\n",
       "   0.028118491172790527,\n",
       "   0.027459394186735153,\n",
       "   0.028513941913843155,\n",
       "   0.027446258813142776,\n",
       "   0.02724965289235115,\n",
       "   0.027646014466881752,\n",
       "   0.027054762467741966,\n",
       "   0.027947213500738144,\n",
       "   0.02648669295012951,\n",
       "   0.026806749403476715,\n",
       "   0.026587912812829018,\n",
       "   0.026492228731513023,\n",
       "   0.026414979249238968,\n",
       "   0.027028165757656097,\n",
       "   0.026389105245471,\n",
       "   0.026850614696741104,\n",
       "   0.02594519406557083,\n",
       "   0.026125675067305565,\n",
       "   0.02627815306186676,\n",
       "   0.026451582089066505,\n",
       "   0.026438230648636818,\n",
       "   0.026165775954723358,\n",
       "   0.02586473524570465,\n",
       "   0.025893177837133408,\n",
       "   0.025897040963172913,\n",
       "   0.027648720890283585,\n",
       "   0.02702592872083187,\n",
       "   0.026341207325458527,\n",
       "   0.026303451508283615,\n",
       "   0.02600991167128086,\n",
       "   0.02688414230942726,\n",
       "   0.02587340585887432,\n",
       "   0.02582445926964283,\n",
       "   0.026437558233737946,\n",
       "   0.026225849986076355,\n",
       "   0.026778725907206535,\n",
       "   0.026275472715497017,\n",
       "   0.02577034942805767,\n",
       "   0.026503879576921463,\n",
       "   0.026394298300147057,\n",
       "   0.0258481428027153,\n",
       "   0.025963641703128815,\n",
       "   0.027117513120174408,\n",
       "   0.02604786306619644,\n",
       "   0.02587887831032276,\n",
       "   0.02585006132721901,\n",
       "   0.02574613317847252,\n",
       "   0.02589523419737816,\n",
       "   0.026145651936531067,\n",
       "   0.025648627430200577,\n",
       "   0.026102114468812943,\n",
       "   0.025540167465806007,\n",
       "   0.025939177721738815,\n",
       "   0.025645526126027107,\n",
       "   0.025301076471805573,\n",
       "   0.026511969044804573,\n",
       "   0.025745101273059845,\n",
       "   0.025828566402196884,\n",
       "   0.025913773104548454,\n",
       "   0.026267772540450096,\n",
       "   0.025895627215504646,\n",
       "   0.02581493929028511,\n",
       "   0.02582385018467903,\n",
       "   0.025735432282090187,\n",
       "   0.025707246735692024],\n",
       "  'val_mae': [0.13243761658668518,\n",
       "   0.12970378994941711,\n",
       "   0.1271675080060959,\n",
       "   0.13101905584335327,\n",
       "   0.125921830534935,\n",
       "   0.12578769028186798,\n",
       "   0.12563206255435944,\n",
       "   0.12734949588775635,\n",
       "   0.12410655617713928,\n",
       "   0.12798504531383514,\n",
       "   0.12435631453990936,\n",
       "   0.1242111325263977,\n",
       "   0.1236070767045021,\n",
       "   0.12446720153093338,\n",
       "   0.12589994072914124,\n",
       "   0.12333016097545624,\n",
       "   0.12315676361322403,\n",
       "   0.12184741348028183,\n",
       "   0.12196815758943558,\n",
       "   0.1226731389760971,\n",
       "   0.12267391383647919,\n",
       "   0.12283484637737274,\n",
       "   0.12464908510446548,\n",
       "   0.12123186886310577,\n",
       "   0.12187568098306656,\n",
       "   0.1215093582868576,\n",
       "   0.12211859226226807,\n",
       "   0.12031293660402298,\n",
       "   0.12216129153966904,\n",
       "   0.12066952884197235,\n",
       "   0.11994083970785141,\n",
       "   0.1207565888762474,\n",
       "   0.12545745074748993,\n",
       "   0.12316006422042847,\n",
       "   0.12156953662633896,\n",
       "   0.12126938253641129,\n",
       "   0.1198926493525505,\n",
       "   0.12235882878303528,\n",
       "   0.12038694322109222,\n",
       "   0.12196293473243713,\n",
       "   0.1222454383969307,\n",
       "   0.12161757797002792,\n",
       "   0.12289100140333176,\n",
       "   0.12166613340377808,\n",
       "   0.12029053270816803,\n",
       "   0.12298166751861572,\n",
       "   0.12084931880235672,\n",
       "   0.11965008080005646,\n",
       "   0.12104766815900803,\n",
       "   0.12247446924448013,\n",
       "   0.1192760244011879,\n",
       "   0.11981850117444992,\n",
       "   0.1195853129029274,\n",
       "   0.11911781877279282,\n",
       "   0.12032608687877655,\n",
       "   0.12149093300104141,\n",
       "   0.1200103908777237,\n",
       "   0.12180750072002411,\n",
       "   0.11903747916221619,\n",
       "   0.1211991086602211,\n",
       "   0.12018249183893204,\n",
       "   0.11873600631952286,\n",
       "   0.12352060526609421,\n",
       "   0.11987093091011047,\n",
       "   0.1212620735168457,\n",
       "   0.12075349688529968,\n",
       "   0.12063143402338028,\n",
       "   0.1211799755692482,\n",
       "   0.11938410997390747,\n",
       "   0.12061362713575363,\n",
       "   0.1194971427321434,\n",
       "   0.11908403784036636]})"
      ]
     },
     "execution_count": 33,
     "metadata": {},
     "output_type": "execute_result"
    }
   ],
   "source": [
    "from ms2query.train_ms2query_nn import create_and_train_ms2query_nn\n",
    "create_and_train_ms2query_nn(training_scores_top_100, training_labels_top_100, \\\n",
    "                             validation_scores_top_100, validation_labels_top_100, [48,48,1],\\\n",
    "                             save_name = \"../downloads/gnps_210409/train_ms2query_model/ms2query_model_all_scores\")"
   ]
  },
  {
   "cell_type": "markdown",
   "metadata": {},
   "source": [
    "# Test quality of matches"
   ]
  },
  {
   "cell_type": "markdown",
   "metadata": {},
   "source": [
    "Import files"
   ]
  },
  {
   "cell_type": "code",
   "execution_count": 1,
   "metadata": {},
   "outputs": [],
   "source": [
    "from ms2query.ms2library import MS2Library\n",
    "\n",
    "\n",
    "validation_spectra_file = \"../downloads/gnps_210409/spectra/ALL_GNPS_210409_val_split.pickle\"\n",
    "\n",
    "\n",
    "sqlite_file =  \"../downloads/gnps_210409/spectra/ALL_GNPS_210409_train_split.sqlite\"\n",
    "\n",
    "# Models\n",
    "s2v_model_file = \"../downloads/gnps_210409/models/ALL_GNPS_210409_Spec2Vec_ms2query.model\"\n",
    "ms2ds_model_file = \"../downloads/gnps_210409/models/ms2ds_20210420-141937_data210409_10k_500_500_200.hdf5\"\n",
    "\n",
    "# Embeddings\n",
    "s2v_embeddings_file =  \"../downloads/gnps_210409/embeddings/s2v_embeddings_train_spectra_210426.pickle\"\n",
    "ms2ds_embeddings_file =  \"../downloads/gnps_210409/embeddings/ms2ds_embeddings_train_spectra_210426.pickle\"\n"
   ]
  },
  {
   "cell_type": "markdown",
   "metadata": {},
   "source": [
    "### Split validation spectra into spectra with library matches and spectra without library matches\n",
    "The validation spectra contain 2299 spectra (of 250 inchikeys) that do not have any match in the library and 2000 spectra that have at least one match in the library. "
   ]
  },
  {
   "cell_type": "code",
   "execution_count": 3,
   "metadata": {},
   "outputs": [],
   "source": [
    "from ms2query.utils import load_pickled_file\n",
    "\n",
    "validation_spectra = load_pickled_file(validation_spectra_file)\n",
    "validation_spectra_without_match = validation_spectra[:2299]\n",
    "# validation_spectra_with_match = validation_spectra[2299:]"
   ]
  },
  {
   "cell_type": "markdown",
   "metadata": {},
   "source": [
    "Get matches for validation spectra without match"
   ]
  },
  {
   "cell_type": "code",
   "execution_count": 5,
   "metadata": {},
   "outputs": [
    {
     "name": "stdout",
     "output_type": "stream",
     "text": [
      "Calculating all MS2DS scores\n"
     ]
    },
    {
     "name": "stderr",
     "output_type": "stream",
     "text": [
      "collecting matches info:   0%|▎                                                                                                                                | 5/2299 [00:14<1:27:55,  2.30s/it]"
     ]
    },
    {
     "name": "stdout",
     "output_type": "stream",
     "text": [
      "Found 1 word(s) missing in the model. Weighted missing percentage not covered by the given model is 1.01%.\n"
     ]
    },
    {
     "name": "stderr",
     "output_type": "stream",
     "text": [
      "collecting matches info:   1%|▋                                                                                                                               | 13/2299 [00:28<1:10:05,  1.84s/it]"
     ]
    },
    {
     "name": "stdout",
     "output_type": "stream",
     "text": [
      "Found 2 word(s) missing in the model. Weighted missing percentage not covered by the given model is 3.57%.\n"
     ]
    },
    {
     "name": "stderr",
     "output_type": "stream",
     "text": [
      "collecting matches info:   3%|███▊                                                                                                                            | 68/2299 [02:08<1:08:02,  1.83s/it]"
     ]
    },
    {
     "name": "stdout",
     "output_type": "stream",
     "text": [
      "Found 1 word(s) missing in the model. Weighted missing percentage not covered by the given model is 0.33%.\n"
     ]
    },
    {
     "name": "stderr",
     "output_type": "stream",
     "text": [
      "collecting matches info:   3%|███▉                                                                                                                            | 70/2299 [02:12<1:07:30,  1.82s/it]"
     ]
    },
    {
     "name": "stdout",
     "output_type": "stream",
     "text": [
      "Found 1 word(s) missing in the model. Weighted missing percentage not covered by the given model is 1.32%.\n"
     ]
    },
    {
     "name": "stderr",
     "output_type": "stream",
     "text": [
      "collecting matches info:   3%|████▎                                                                                                                           | 77/2299 [02:25<1:07:29,  1.82s/it]"
     ]
    },
    {
     "name": "stdout",
     "output_type": "stream",
     "text": [
      "Found 1 word(s) missing in the model. Weighted missing percentage not covered by the given model is 0.59%.\n"
     ]
    },
    {
     "name": "stderr",
     "output_type": "stream",
     "text": [
      "\r",
      "collecting matches info:   3%|████▎                                                                                                                           | 78/2299 [02:27<1:07:19,  1.82s/it]"
     ]
    },
    {
     "name": "stdout",
     "output_type": "stream",
     "text": [
      "Found 1 word(s) missing in the model. Weighted missing percentage not covered by the given model is 0.44%.\n"
     ]
    },
    {
     "name": "stderr",
     "output_type": "stream",
     "text": [
      "collecting matches info:   4%|█████▏                                                                                                                          | 93/2299 [02:53<1:06:06,  1.80s/it]"
     ]
    },
    {
     "name": "stdout",
     "output_type": "stream",
     "text": [
      "Found 1 word(s) missing in the model. Weighted missing percentage not covered by the given model is 0.87%.\n"
     ]
    },
    {
     "name": "stderr",
     "output_type": "stream",
     "text": [
      "collecting matches info:   4%|█████▋                                                                                                                         | 102/2299 [03:10<1:06:47,  1.82s/it]"
     ]
    },
    {
     "name": "stdout",
     "output_type": "stream",
     "text": [
      "Found 1 word(s) missing in the model. Weighted missing percentage not covered by the given model is 0.53%.\n"
     ]
    },
    {
     "name": "stderr",
     "output_type": "stream",
     "text": [
      "\r",
      "collecting matches info:   4%|█████▋                                                                                                                         | 103/2299 [03:12<1:06:30,  1.82s/it]"
     ]
    },
    {
     "name": "stdout",
     "output_type": "stream",
     "text": [
      "Found 1 word(s) missing in the model. Weighted missing percentage not covered by the given model is 1.10%.\n"
     ]
    },
    {
     "name": "stderr",
     "output_type": "stream",
     "text": [
      "collecting matches info:   5%|█████▊                                                                                                                         | 105/2299 [03:15<1:05:48,  1.80s/it]"
     ]
    },
    {
     "name": "stdout",
     "output_type": "stream",
     "text": [
      "Found 1 word(s) missing in the model. Weighted missing percentage not covered by the given model is 1.11%.\n"
     ]
    },
    {
     "name": "stderr",
     "output_type": "stream",
     "text": [
      "collecting matches info:   6%|███████▍                                                                                                                       | 135/2299 [04:09<1:04:32,  1.79s/it]"
     ]
    },
    {
     "name": "stdout",
     "output_type": "stream",
     "text": [
      "Found 5 word(s) missing in the model. Weighted missing percentage not covered by the given model is 8.47%.\n"
     ]
    },
    {
     "name": "stderr",
     "output_type": "stream",
     "text": [
      "collecting matches info:   6%|████████                                                                                                                       | 146/2299 [04:29<1:03:55,  1.78s/it]"
     ]
    },
    {
     "name": "stdout",
     "output_type": "stream",
     "text": [
      "Found 1 word(s) missing in the model. Weighted missing percentage not covered by the given model is 0.43%.\n"
     ]
    },
    {
     "name": "stderr",
     "output_type": "stream",
     "text": [
      "\r",
      "collecting matches info:   6%|████████                                                                                                                       | 147/2299 [04:30<1:04:18,  1.79s/it]"
     ]
    },
    {
     "name": "stdout",
     "output_type": "stream",
     "text": [
      "Found 1 word(s) missing in the model. Weighted missing percentage not covered by the given model is 0.45%.\n"
     ]
    },
    {
     "name": "stderr",
     "output_type": "stream",
     "text": [
      "collecting matches info:   7%|█████████▏                                                                                                                     | 167/2299 [05:07<1:04:07,  1.80s/it]"
     ]
    },
    {
     "name": "stdout",
     "output_type": "stream",
     "text": [
      "Found 1 word(s) missing in the model. Weighted missing percentage not covered by the given model is 0.58%.\n"
     ]
    },
    {
     "name": "stderr",
     "output_type": "stream",
     "text": [
      "\r",
      "collecting matches info:   7%|█████████▎                                                                                                                     | 168/2299 [05:08<1:04:10,  1.81s/it]"
     ]
    },
    {
     "name": "stdout",
     "output_type": "stream",
     "text": [
      "Found 1 word(s) missing in the model. Weighted missing percentage not covered by the given model is 0.28%.\n"
     ]
    },
    {
     "name": "stderr",
     "output_type": "stream",
     "text": [
      "collecting matches info:   7%|█████████▍                                                                                                                     | 171/2299 [05:14<1:03:51,  1.80s/it]"
     ]
    },
    {
     "name": "stdout",
     "output_type": "stream",
     "text": [
      "Found 3 word(s) missing in the model. Weighted missing percentage not covered by the given model is 1.47%.\n"
     ]
    },
    {
     "name": "stderr",
     "output_type": "stream",
     "text": [
      "collecting matches info:   9%|███████████▍                                                                                                                   | 207/2299 [06:19<1:03:59,  1.84s/it]"
     ]
    },
    {
     "name": "stdout",
     "output_type": "stream",
     "text": [
      "Found 1 word(s) missing in the model. Weighted missing percentage not covered by the given model is 1.39%.\n"
     ]
    },
    {
     "name": "stderr",
     "output_type": "stream",
     "text": [
      "collecting matches info:   9%|███████████▊                                                                                                                   | 213/2299 [06:31<1:07:02,  1.93s/it]"
     ]
    },
    {
     "name": "stdout",
     "output_type": "stream",
     "text": [
      "Found 1 word(s) missing in the model. Weighted missing percentage not covered by the given model is 0.24%.\n"
     ]
    },
    {
     "name": "stderr",
     "output_type": "stream",
     "text": [
      "collecting matches info:   9%|███████████▉                                                                                                                   | 217/2299 [06:38<1:03:22,  1.83s/it]"
     ]
    },
    {
     "name": "stdout",
     "output_type": "stream",
     "text": [
      "Found 1 word(s) missing in the model. Weighted missing percentage not covered by the given model is 0.59%.\n"
     ]
    },
    {
     "name": "stderr",
     "output_type": "stream",
     "text": [
      "collecting matches info:  10%|████████████▋                                                                                                                  | 229/2299 [06:59<1:01:44,  1.79s/it]"
     ]
    },
    {
     "name": "stdout",
     "output_type": "stream",
     "text": [
      "Found 1 word(s) missing in the model. Weighted missing percentage not covered by the given model is 1.92%.\n"
     ]
    },
    {
     "name": "stderr",
     "output_type": "stream",
     "text": [
      "collecting matches info:  12%|███████████████▋                                                                                                               | 284/2299 [22:27<2:13:17,  3.97s/it]"
     ]
    },
    {
     "name": "stdout",
     "output_type": "stream",
     "text": [
      "Found 3 word(s) missing in the model. Weighted missing percentage not covered by the given model is 2.48%.\n"
     ]
    },
    {
     "name": "stderr",
     "output_type": "stream",
     "text": [
      "\r",
      "collecting matches info:  12%|███████████████▋                                                                                                               | 285/2299 [22:29<1:51:12,  3.31s/it]"
     ]
    },
    {
     "name": "stdout",
     "output_type": "stream",
     "text": [
      "Found 12 word(s) missing in the model. Weighted missing percentage not covered by the given model is 7.36%.\n"
     ]
    },
    {
     "name": "stderr",
     "output_type": "stream",
     "text": [
      "collecting matches info:  12%|███████████████▊                                                                                                               | 287/2299 [22:33<1:24:52,  2.53s/it]"
     ]
    },
    {
     "name": "stdout",
     "output_type": "stream",
     "text": [
      "Found 1 word(s) missing in the model. Weighted missing percentage not covered by the given model is 6.67%.\n"
     ]
    },
    {
     "name": "stderr",
     "output_type": "stream",
     "text": [
      "\r",
      "collecting matches info:  13%|███████████████▉                                                                                                               | 288/2299 [22:34<1:17:13,  2.30s/it]"
     ]
    },
    {
     "name": "stdout",
     "output_type": "stream",
     "text": [
      "Found 6 word(s) missing in the model. Weighted missing percentage not covered by the given model is 4.80%.\n"
     ]
    },
    {
     "name": "stderr",
     "output_type": "stream",
     "text": [
      "\r",
      "collecting matches info:  13%|███████████████▉                                                                                                               | 289/2299 [22:36<1:12:01,  2.15s/it]"
     ]
    },
    {
     "name": "stdout",
     "output_type": "stream",
     "text": [
      "Found 8 word(s) missing in the model. Weighted missing percentage not covered by the given model is 5.16%.\n"
     ]
    },
    {
     "name": "stderr",
     "output_type": "stream",
     "text": [
      "collecting matches info:  13%|████████████████▎                                                                                                              | 295/2299 [22:47<1:01:21,  1.84s/it]"
     ]
    },
    {
     "name": "stdout",
     "output_type": "stream",
     "text": [
      "Found 2 word(s) missing in the model. Weighted missing percentage not covered by the given model is 6.06%.\n"
     ]
    },
    {
     "name": "stderr",
     "output_type": "stream",
     "text": [
      "collecting matches info:  13%|████████████████▍                                                                                                              | 297/2299 [22:51<1:00:16,  1.81s/it]"
     ]
    },
    {
     "name": "stdout",
     "output_type": "stream",
     "text": [
      "Found 1 word(s) missing in the model. Weighted missing percentage not covered by the given model is 4.35%.\n"
     ]
    },
    {
     "name": "stderr",
     "output_type": "stream",
     "text": [
      "collecting matches info:  13%|████████████████▊                                                                                                              | 305/2299 [23:09<1:19:11,  2.38s/it]"
     ]
    },
    {
     "name": "stdout",
     "output_type": "stream",
     "text": [
      "Found 1 word(s) missing in the model. Weighted missing percentage not covered by the given model is 4.55%.\n"
     ]
    },
    {
     "name": "stderr",
     "output_type": "stream",
     "text": [
      "collecting matches info:  14%|█████████████████▌                                                                                                             | 317/2299 [23:35<1:04:34,  1.95s/it]"
     ]
    },
    {
     "name": "stdout",
     "output_type": "stream",
     "text": [
      "Found 1 word(s) missing in the model. Weighted missing percentage not covered by the given model is 0.61%.\n"
     ]
    },
    {
     "name": "stderr",
     "output_type": "stream",
     "text": [
      "\r",
      "collecting matches info:  14%|█████████████████▌                                                                                                             | 318/2299 [23:37<1:02:34,  1.90s/it]"
     ]
    },
    {
     "name": "stdout",
     "output_type": "stream",
     "text": [
      "Found 1 word(s) missing in the model. Weighted missing percentage not covered by the given model is 0.61%.\n"
     ]
    },
    {
     "name": "stderr",
     "output_type": "stream",
     "text": [
      "\r",
      "collecting matches info:  14%|█████████████████▌                                                                                                             | 319/2299 [23:38<1:01:34,  1.87s/it]"
     ]
    },
    {
     "name": "stdout",
     "output_type": "stream",
     "text": [
      "Found 1 word(s) missing in the model. Weighted missing percentage not covered by the given model is 0.48%.\n"
     ]
    },
    {
     "name": "stderr",
     "output_type": "stream",
     "text": [
      "collecting matches info:  15%|███████████████████▌                                                                                                             | 349/2299 [24:34<58:56,  1.81s/it]"
     ]
    },
    {
     "name": "stdout",
     "output_type": "stream",
     "text": [
      "Found 6 word(s) missing in the model. Weighted missing percentage not covered by the given model is 2.63%.\n"
     ]
    },
    {
     "name": "stderr",
     "output_type": "stream",
     "text": [
      "\r",
      "collecting matches info:  15%|███████████████████▋                                                                                                             | 350/2299 [24:35<59:10,  1.82s/it]"
     ]
    },
    {
     "name": "stdout",
     "output_type": "stream",
     "text": [
      "Found 13 word(s) missing in the model. Weighted missing percentage not covered by the given model is 6.22%.\n"
     ]
    },
    {
     "name": "stderr",
     "output_type": "stream",
     "text": [
      "collecting matches info:  15%|███████████████████▍                                                                                                           | 352/2299 [24:39<1:00:40,  1.87s/it]"
     ]
    },
    {
     "name": "stdout",
     "output_type": "stream",
     "text": [
      "Found 7 word(s) missing in the model. Weighted missing percentage not covered by the given model is 3.11%.\n"
     ]
    },
    {
     "name": "stderr",
     "output_type": "stream",
     "text": [
      "\r",
      "collecting matches info:  15%|███████████████████▌                                                                                                           | 353/2299 [24:41<1:00:23,  1.86s/it]"
     ]
    },
    {
     "name": "stdout",
     "output_type": "stream",
     "text": [
      "Found 15 word(s) missing in the model. Weighted missing percentage not covered by the given model is 7.04%.\n"
     ]
    },
    {
     "name": "stderr",
     "output_type": "stream",
     "text": [
      "collecting matches info:  16%|███████████████████▋                                                                                                           | 357/2299 [24:49<1:00:01,  1.85s/it]"
     ]
    },
    {
     "name": "stdout",
     "output_type": "stream",
     "text": [
      "Found 11 word(s) missing in the model. Weighted missing percentage not covered by the given model is 4.93%.\n"
     ]
    },
    {
     "name": "stderr",
     "output_type": "stream",
     "text": [
      "\r",
      "collecting matches info:  16%|████████████████████                                                                                                             | 358/2299 [24:50<59:46,  1.85s/it]"
     ]
    },
    {
     "name": "stdout",
     "output_type": "stream",
     "text": [
      "Found 17 word(s) missing in the model. Weighted missing percentage not covered by the given model is 8.06%.\n"
     ]
    },
    {
     "name": "stderr",
     "output_type": "stream",
     "text": [
      "collecting matches info:  16%|████████████████████▎                                                                                                            | 362/2299 [24:58<59:04,  1.83s/it]"
     ]
    },
    {
     "name": "stdout",
     "output_type": "stream",
     "text": [
      "Found 6 word(s) missing in the model. Weighted missing percentage not covered by the given model is 2.80%.\n"
     ]
    },
    {
     "name": "stderr",
     "output_type": "stream",
     "text": [
      "\r",
      "collecting matches info:  16%|████████████████████▎                                                                                                            | 363/2299 [25:00<59:27,  1.84s/it]"
     ]
    },
    {
     "name": "stdout",
     "output_type": "stream",
     "text": [
      "Found 15 word(s) missing in the model. Weighted missing percentage not covered by the given model is 7.28%.\n"
     ]
    },
    {
     "name": "stderr",
     "output_type": "stream",
     "text": [
      "collecting matches info:  16%|████████████████████▌                                                                                                            | 366/2299 [25:05<59:24,  1.84s/it]"
     ]
    },
    {
     "name": "stdout",
     "output_type": "stream",
     "text": [
      "Found 7 word(s) missing in the model. Weighted missing percentage not covered by the given model is 4.22%.\n"
     ]
    },
    {
     "name": "stderr",
     "output_type": "stream",
     "text": [
      "\r",
      "collecting matches info:  16%|████████████████████▌                                                                                                            | 367/2299 [25:07<59:07,  1.84s/it]"
     ]
    },
    {
     "name": "stdout",
     "output_type": "stream",
     "text": [
      "Found 10 word(s) missing in the model. Weighted missing percentage not covered by the given model is 5.08%.\n"
     ]
    },
    {
     "name": "stderr",
     "output_type": "stream",
     "text": [
      "\r",
      "collecting matches info:  16%|████████████████████▋                                                                                                            | 368/2299 [25:09<59:07,  1.84s/it]"
     ]
    },
    {
     "name": "stdout",
     "output_type": "stream",
     "text": [
      "Found 1 word(s) missing in the model. Weighted missing percentage not covered by the given model is 5.88%.\n"
     ]
    },
    {
     "name": "stderr",
     "output_type": "stream",
     "text": [
      "\r",
      "collecting matches info:  16%|████████████████████▋                                                                                                            | 369/2299 [25:11<58:52,  1.83s/it]"
     ]
    },
    {
     "name": "stdout",
     "output_type": "stream",
     "text": [
      "Found 1 word(s) missing in the model. Weighted missing percentage not covered by the given model is 5.00%.\n"
     ]
    },
    {
     "name": "stderr",
     "output_type": "stream",
     "text": [
      "\r",
      "collecting matches info:  16%|████████████████████▊                                                                                                            | 370/2299 [25:12<58:46,  1.83s/it]"
     ]
    },
    {
     "name": "stdout",
     "output_type": "stream",
     "text": [
      "Found 8 word(s) missing in the model. Weighted missing percentage not covered by the given model is 4.68%.\n"
     ]
    },
    {
     "name": "stderr",
     "output_type": "stream",
     "text": [
      "\r",
      "collecting matches info:  16%|████████████████████▊                                                                                                            | 371/2299 [25:14<58:53,  1.83s/it]"
     ]
    },
    {
     "name": "stdout",
     "output_type": "stream",
     "text": [
      "Found 6 word(s) missing in the model. Weighted missing percentage not covered by the given model is 3.24%.\n"
     ]
    },
    {
     "name": "stderr",
     "output_type": "stream",
     "text": [
      "\r",
      "collecting matches info:  16%|████████████████████▊                                                                                                            | 372/2299 [25:16<58:43,  1.83s/it]"
     ]
    },
    {
     "name": "stdout",
     "output_type": "stream",
     "text": [
      "Found 1 word(s) missing in the model. Weighted missing percentage not covered by the given model is 6.25%.\n"
     ]
    },
    {
     "name": "stderr",
     "output_type": "stream",
     "text": [
      "\r",
      "collecting matches info:  16%|████████████████████▉                                                                                                            | 373/2299 [25:18<58:44,  1.83s/it]"
     ]
    },
    {
     "name": "stdout",
     "output_type": "stream",
     "text": [
      "Found 1 word(s) missing in the model. Weighted missing percentage not covered by the given model is 5.26%.\n"
     ]
    },
    {
     "name": "stderr",
     "output_type": "stream",
     "text": [
      "collecting matches info:  17%|█████████████████████▋                                                                                                           | 386/2299 [25:42<59:48,  1.88s/it]"
     ]
    },
    {
     "name": "stdout",
     "output_type": "stream",
     "text": [
      "Found 1 word(s) missing in the model. Weighted missing percentage not covered by the given model is 2.08%.\n"
     ]
    },
    {
     "name": "stderr",
     "output_type": "stream",
     "text": [
      "collecting matches info:  17%|█████████████████████▍                                                                                                         | 389/2299 [25:50<1:18:23,  2.46s/it]"
     ]
    },
    {
     "name": "stdout",
     "output_type": "stream",
     "text": [
      "Found 2 word(s) missing in the model. Weighted missing percentage not covered by the given model is 0.65%.\n"
     ]
    },
    {
     "name": "stderr",
     "output_type": "stream",
     "text": [
      "collecting matches info:  18%|██████████████████████▋                                                                                                          | 404/2299 [26:19<59:03,  1.87s/it]"
     ]
    },
    {
     "name": "stdout",
     "output_type": "stream",
     "text": [
      "Found 1 word(s) missing in the model. Weighted missing percentage not covered by the given model is 0.89%.\n"
     ]
    },
    {
     "name": "stderr",
     "output_type": "stream",
     "text": [
      "collecting matches info:  18%|██████████████████████▊                                                                                                        | 414/2299 [26:45<1:58:29,  3.77s/it]"
     ]
    },
    {
     "name": "stdout",
     "output_type": "stream",
     "text": [
      "Found 2 word(s) missing in the model. Weighted missing percentage not covered by the given model is 1.18%.\n"
     ]
    },
    {
     "name": "stderr",
     "output_type": "stream",
     "text": [
      "collecting matches info:  18%|██████████████████████▉                                                                                                        | 416/2299 [26:55<2:22:47,  4.55s/it]"
     ]
    },
    {
     "name": "stdout",
     "output_type": "stream",
     "text": [
      "Found 1 word(s) missing in the model. Weighted missing percentage not covered by the given model is 0.63%.\n"
     ]
    },
    {
     "name": "stderr",
     "output_type": "stream",
     "text": [
      "collecting matches info:  18%|███████████████████████▍                                                                                                       | 424/2299 [27:38<2:45:02,  5.28s/it]"
     ]
    },
    {
     "name": "stdout",
     "output_type": "stream",
     "text": [
      "Found 2 word(s) missing in the model. Weighted missing percentage not covered by the given model is 0.47%.\n"
     ]
    },
    {
     "name": "stderr",
     "output_type": "stream",
     "text": [
      "collecting matches info:  19%|███████████████████████▌                                                                                                       | 426/2299 [27:49<2:44:46,  5.28s/it]"
     ]
    },
    {
     "name": "stdout",
     "output_type": "stream",
     "text": [
      "Found 6 word(s) missing in the model. Weighted missing percentage not covered by the given model is 1.57%.\n"
     ]
    },
    {
     "name": "stderr",
     "output_type": "stream",
     "text": [
      "collecting matches info:  19%|███████████████████████▋                                                                                                       | 428/2299 [27:59<2:45:56,  5.32s/it]"
     ]
    },
    {
     "name": "stdout",
     "output_type": "stream",
     "text": [
      "Found 5 word(s) missing in the model. Weighted missing percentage not covered by the given model is 1.30%.\n"
     ]
    },
    {
     "name": "stderr",
     "output_type": "stream",
     "text": [
      "collecting matches info:  19%|███████████████████████▊                                                                                                       | 430/2299 [28:10<2:45:22,  5.31s/it]"
     ]
    },
    {
     "name": "stdout",
     "output_type": "stream",
     "text": [
      "Found 1 word(s) missing in the model. Weighted missing percentage not covered by the given model is 0.52%.\n"
     ]
    },
    {
     "name": "stderr",
     "output_type": "stream",
     "text": [
      "collecting matches info:  20%|██████████████████████████▏                                                                                                      | 466/2299 [30:06<57:33,  1.88s/it]"
     ]
    },
    {
     "name": "stdout",
     "output_type": "stream",
     "text": [
      "Found 1 word(s) missing in the model. Weighted missing percentage not covered by the given model is 0.19%.\n"
     ]
    },
    {
     "name": "stderr",
     "output_type": "stream",
     "text": [
      "\r",
      "collecting matches info:  20%|██████████████████████████▏                                                                                                      | 467/2299 [30:08<56:56,  1.86s/it]"
     ]
    },
    {
     "name": "stdout",
     "output_type": "stream",
     "text": [
      "Found 1 word(s) missing in the model. Weighted missing percentage not covered by the given model is 0.51%.\n"
     ]
    },
    {
     "name": "stderr",
     "output_type": "stream",
     "text": [
      "collecting matches info:  21%|██████████████████████████▌                                                                                                      | 473/2299 [30:19<55:54,  1.84s/it]"
     ]
    },
    {
     "name": "stdout",
     "output_type": "stream",
     "text": [
      "Found 3 word(s) missing in the model. Weighted missing percentage not covered by the given model is 1.03%.\n"
     ]
    },
    {
     "name": "stderr",
     "output_type": "stream",
     "text": [
      "\r",
      "collecting matches info:  21%|██████████████████████████▌                                                                                                      | 474/2299 [30:21<56:16,  1.85s/it]"
     ]
    },
    {
     "name": "stdout",
     "output_type": "stream",
     "text": [
      "Found 1 word(s) missing in the model. Weighted missing percentage not covered by the given model is 0.36%.\n"
     ]
    },
    {
     "name": "stderr",
     "output_type": "stream",
     "text": [
      "collecting matches info:  21%|███████████████████████████                                                                                                      | 482/2299 [30:36<56:27,  1.86s/it]"
     ]
    },
    {
     "name": "stdout",
     "output_type": "stream",
     "text": [
      "Found 1 word(s) missing in the model. Weighted missing percentage not covered by the given model is 2.63%.\n"
     ]
    },
    {
     "name": "stderr",
     "output_type": "stream",
     "text": [
      "collecting matches info:  21%|███████████████████████████▏                                                                                                     | 484/2299 [30:39<57:12,  1.89s/it]"
     ]
    },
    {
     "name": "stdout",
     "output_type": "stream",
     "text": [
      "Found 1 word(s) missing in the model. Weighted missing percentage not covered by the given model is 4.17%.\n"
     ]
    },
    {
     "name": "stderr",
     "output_type": "stream",
     "text": [
      "collecting matches info:  21%|███████████████████████████▎                                                                                                     | 486/2299 [30:43<57:14,  1.89s/it]"
     ]
    },
    {
     "name": "stdout",
     "output_type": "stream",
     "text": [
      "Found 11 word(s) missing in the model. Weighted missing percentage not covered by the given model is 11.58%.\n"
     ]
    },
    {
     "name": "stderr",
     "output_type": "stream",
     "text": [
      "\r",
      "collecting matches info:  21%|███████████████████████████▎                                                                                                     | 487/2299 [30:45<57:29,  1.90s/it]"
     ]
    },
    {
     "name": "stdout",
     "output_type": "stream",
     "text": [
      "Found 9 word(s) missing in the model. Weighted missing percentage not covered by the given model is 4.79%.\n"
     ]
    },
    {
     "name": "stderr",
     "output_type": "stream",
     "text": [
      "\r",
      "collecting matches info:  21%|███████████████████████████▍                                                                                                     | 488/2299 [30:47<57:58,  1.92s/it]"
     ]
    },
    {
     "name": "stdout",
     "output_type": "stream",
     "text": [
      "Found 2 word(s) missing in the model. Weighted missing percentage not covered by the given model is 0.34%.\n"
     ]
    },
    {
     "name": "stderr",
     "output_type": "stream",
     "text": [
      "\r",
      "collecting matches info:  21%|███████████████████████████▍                                                                                                     | 489/2299 [30:49<58:25,  1.94s/it]"
     ]
    },
    {
     "name": "stdout",
     "output_type": "stream",
     "text": [
      "Found 9 word(s) missing in the model. Weighted missing percentage not covered by the given model is 10.23%.\n"
     ]
    },
    {
     "name": "stderr",
     "output_type": "stream",
     "text": [
      "\r",
      "collecting matches info:  21%|███████████████████████████▍                                                                                                     | 490/2299 [30:51<57:56,  1.92s/it]"
     ]
    },
    {
     "name": "stdout",
     "output_type": "stream",
     "text": [
      "Found 10 word(s) missing in the model. Weighted missing percentage not covered by the given model is 5.13%.\n"
     ]
    },
    {
     "name": "stderr",
     "output_type": "stream",
     "text": [
      "\r",
      "collecting matches info:  21%|███████████████████████████▌                                                                                                     | 491/2299 [30:53<57:54,  1.92s/it]"
     ]
    },
    {
     "name": "stdout",
     "output_type": "stream",
     "text": [
      "Found 3 word(s) missing in the model. Weighted missing percentage not covered by the given model is 0.52%.\n"
     ]
    },
    {
     "name": "stderr",
     "output_type": "stream",
     "text": [
      "\r",
      "collecting matches info:  21%|███████████████████████████▌                                                                                                     | 492/2299 [30:55<58:26,  1.94s/it]"
     ]
    },
    {
     "name": "stdout",
     "output_type": "stream",
     "text": [
      "Found 7 word(s) missing in the model. Weighted missing percentage not covered by the given model is 7.07%.\n"
     ]
    },
    {
     "name": "stderr",
     "output_type": "stream",
     "text": [
      "\r",
      "collecting matches info:  21%|███████████████████████████▋                                                                                                     | 493/2299 [30:57<57:56,  1.93s/it]"
     ]
    },
    {
     "name": "stdout",
     "output_type": "stream",
     "text": [
      "Found 10 word(s) missing in the model. Weighted missing percentage not covered by the given model is 5.13%.\n"
     ]
    },
    {
     "name": "stderr",
     "output_type": "stream",
     "text": [
      "\r",
      "collecting matches info:  21%|███████████████████████████▋                                                                                                     | 494/2299 [30:59<57:59,  1.93s/it]"
     ]
    },
    {
     "name": "stdout",
     "output_type": "stream",
     "text": [
      "Found 4 word(s) missing in the model. Weighted missing percentage not covered by the given model is 0.68%.\n"
     ]
    },
    {
     "name": "stderr",
     "output_type": "stream",
     "text": [
      "collecting matches info:  22%|███████████████████████████▉                                                                                                     | 499/2299 [31:08<57:00,  1.90s/it]"
     ]
    },
    {
     "name": "stdout",
     "output_type": "stream",
     "text": [
      "Found 1 word(s) missing in the model. Weighted missing percentage not covered by the given model is 0.39%.\n"
     ]
    },
    {
     "name": "stderr",
     "output_type": "stream",
     "text": [
      "collecting matches info:  22%|████████████████████████████▎                                                                                                    | 505/2299 [31:20<56:24,  1.89s/it]"
     ]
    },
    {
     "name": "stdout",
     "output_type": "stream",
     "text": [
      "Found 1 word(s) missing in the model. Weighted missing percentage not covered by the given model is 0.72%.\n"
     ]
    },
    {
     "name": "stderr",
     "output_type": "stream",
     "text": [
      "collecting matches info:  22%|████████████████████████████▋                                                                                                    | 512/2299 [31:33<56:36,  1.90s/it]"
     ]
    },
    {
     "name": "stdout",
     "output_type": "stream",
     "text": [
      "Found 2 word(s) missing in the model. Weighted missing percentage not covered by the given model is 0.78%.\n"
     ]
    },
    {
     "name": "stderr",
     "output_type": "stream",
     "text": [
      "\r",
      "collecting matches info:  22%|████████████████████████████▊                                                                                                    | 513/2299 [31:35<57:06,  1.92s/it]"
     ]
    },
    {
     "name": "stdout",
     "output_type": "stream",
     "text": [
      "Found 2 word(s) missing in the model. Weighted missing percentage not covered by the given model is 0.75%.\n"
     ]
    },
    {
     "name": "stderr",
     "output_type": "stream",
     "text": [
      "collecting matches info:  22%|█████████████████████████████                                                                                                    | 517/2299 [31:43<57:08,  1.92s/it]"
     ]
    },
    {
     "name": "stdout",
     "output_type": "stream",
     "text": [
      "Found 2 word(s) missing in the model. Weighted missing percentage not covered by the given model is 0.93%.\n"
     ]
    },
    {
     "name": "stderr",
     "output_type": "stream",
     "text": [
      "collecting matches info:  25%|███████████████████████████████▋                                                                                                 | 565/2299 [33:14<54:12,  1.88s/it]"
     ]
    },
    {
     "name": "stdout",
     "output_type": "stream",
     "text": [
      "Found 1 word(s) missing in the model. Weighted missing percentage not covered by the given model is 0.79%.\n"
     ]
    },
    {
     "name": "stderr",
     "output_type": "stream",
     "text": [
      "\r",
      "collecting matches info:  25%|███████████████████████████████▊                                                                                                 | 566/2299 [33:16<54:46,  1.90s/it]"
     ]
    },
    {
     "name": "stdout",
     "output_type": "stream",
     "text": [
      "Found 2 word(s) missing in the model. Weighted missing percentage not covered by the given model is 1.69%.\n"
     ]
    },
    {
     "name": "stderr",
     "output_type": "stream",
     "text": [
      "\r",
      "collecting matches info:  25%|███████████████████████████████▊                                                                                                 | 567/2299 [33:17<54:44,  1.90s/it]"
     ]
    },
    {
     "name": "stdout",
     "output_type": "stream",
     "text": [
      "Found 1 word(s) missing in the model. Weighted missing percentage not covered by the given model is 0.66%.\n"
     ]
    },
    {
     "name": "stderr",
     "output_type": "stream",
     "text": [
      "collecting matches info:  25%|████████████████████████████████                                                                                                 | 571/2299 [33:25<55:37,  1.93s/it]"
     ]
    },
    {
     "name": "stdout",
     "output_type": "stream",
     "text": [
      "Found 1 word(s) missing in the model. Weighted missing percentage not covered by the given model is 0.56%.\n"
     ]
    },
    {
     "name": "stderr",
     "output_type": "stream",
     "text": [
      "collecting matches info:  25%|████████████████████████████████▎                                                                                                | 576/2299 [33:35<54:08,  1.89s/it]"
     ]
    },
    {
     "name": "stdout",
     "output_type": "stream",
     "text": [
      "Found 1 word(s) missing in the model. Weighted missing percentage not covered by the given model is 0.90%.\n"
     ]
    },
    {
     "name": "stderr",
     "output_type": "stream",
     "text": [
      "collecting matches info:  25%|████████████████████████████████▉                                                                                                | 586/2299 [33:53<53:36,  1.88s/it]"
     ]
    },
    {
     "name": "stdout",
     "output_type": "stream",
     "text": [
      "Found 2 word(s) missing in the model. Weighted missing percentage not covered by the given model is 0.77%.\n"
     ]
    },
    {
     "name": "stderr",
     "output_type": "stream",
     "text": [
      "collecting matches info:  26%|█████████████████████████████████▌                                                                                               | 598/2299 [34:15<51:54,  1.83s/it]"
     ]
    },
    {
     "name": "stdout",
     "output_type": "stream",
     "text": [
      "Found 1 word(s) missing in the model. Weighted missing percentage not covered by the given model is 0.69%.\n"
     ]
    },
    {
     "name": "stderr",
     "output_type": "stream",
     "text": [
      "\r",
      "collecting matches info:  26%|█████████████████████████████████▌                                                                                               | 599/2299 [34:17<51:46,  1.83s/it]"
     ]
    },
    {
     "name": "stdout",
     "output_type": "stream",
     "text": [
      "Found 1 word(s) missing in the model. Weighted missing percentage not covered by the given model is 0.88%.\n"
     ]
    },
    {
     "name": "stderr",
     "output_type": "stream",
     "text": [
      "collecting matches info:  26%|██████████████████████████████████                                                                                               | 608/2299 [34:34<52:20,  1.86s/it]"
     ]
    },
    {
     "name": "stdout",
     "output_type": "stream",
     "text": [
      "Found 1 word(s) missing in the model. Weighted missing percentage not covered by the given model is 1.06%.\n"
     ]
    },
    {
     "name": "stderr",
     "output_type": "stream",
     "text": [
      "collecting matches info:  27%|██████████████████████████████████▌                                                                                              | 617/2299 [34:51<51:33,  1.84s/it]"
     ]
    },
    {
     "name": "stdout",
     "output_type": "stream",
     "text": [
      "Found 1 word(s) missing in the model. Weighted missing percentage not covered by the given model is 1.85%.\n"
     ]
    },
    {
     "name": "stderr",
     "output_type": "stream",
     "text": [
      "collecting matches info:  27%|██████████████████████████████████▊                                                                                              | 620/2299 [34:56<51:54,  1.85s/it]"
     ]
    },
    {
     "name": "stdout",
     "output_type": "stream",
     "text": [
      "Found 2 word(s) missing in the model. Weighted missing percentage not covered by the given model is 1.82%.\n"
     ]
    },
    {
     "name": "stderr",
     "output_type": "stream",
     "text": [
      "collecting matches info:  27%|██████████████████████████████████▉                                                                                              | 623/2299 [35:02<52:21,  1.87s/it]"
     ]
    },
    {
     "name": "stdout",
     "output_type": "stream",
     "text": [
      "Found 1 word(s) missing in the model. Weighted missing percentage not covered by the given model is 0.80%.\n"
     ]
    },
    {
     "name": "stderr",
     "output_type": "stream",
     "text": [
      "collecting matches info:  27%|███████████████████████████████████▎                                                                                             | 630/2299 [35:15<53:05,  1.91s/it]"
     ]
    },
    {
     "name": "stdout",
     "output_type": "stream",
     "text": [
      "Found 1 word(s) missing in the model. Weighted missing percentage not covered by the given model is 0.97%.\n"
     ]
    },
    {
     "name": "stderr",
     "output_type": "stream",
     "text": [
      "collecting matches info:  27%|███████████████████████████████████▍                                                                                             | 632/2299 [35:19<52:37,  1.89s/it]"
     ]
    },
    {
     "name": "stdout",
     "output_type": "stream",
     "text": [
      "Found 1 word(s) missing in the model. Weighted missing percentage not covered by the given model is 0.80%.\n"
     ]
    },
    {
     "name": "stderr",
     "output_type": "stream",
     "text": [
      "collecting matches info:  28%|████████████████████████████████████▏                                                                                            | 644/2299 [35:42<52:41,  1.91s/it]"
     ]
    },
    {
     "name": "stdout",
     "output_type": "stream",
     "text": [
      "Found 1 word(s) missing in the model. Weighted missing percentage not covered by the given model is 0.78%.\n"
     ]
    },
    {
     "name": "stderr",
     "output_type": "stream",
     "text": [
      "collecting matches info:  28%|████████████████████████████████████▏                                                                                            | 646/2299 [35:46<53:05,  1.93s/it]"
     ]
    },
    {
     "name": "stdout",
     "output_type": "stream",
     "text": [
      "Found 1 word(s) missing in the model. Weighted missing percentage not covered by the given model is 0.64%.\n"
     ]
    },
    {
     "name": "stderr",
     "output_type": "stream",
     "text": [
      "collecting matches info:  29%|████████████████████████████████████▉                                                                                            | 658/2299 [36:08<51:11,  1.87s/it]"
     ]
    },
    {
     "name": "stdout",
     "output_type": "stream",
     "text": [
      "Found 1 word(s) missing in the model. Weighted missing percentage not covered by the given model is 0.97%.\n"
     ]
    },
    {
     "name": "stderr",
     "output_type": "stream",
     "text": [
      "collecting matches info:  29%|█████████████████████████████████████                                                                                            | 660/2299 [36:12<50:41,  1.86s/it]"
     ]
    },
    {
     "name": "stdout",
     "output_type": "stream",
     "text": [
      "Found 1 word(s) missing in the model. Weighted missing percentage not covered by the given model is 0.94%.\n"
     ]
    },
    {
     "name": "stderr",
     "output_type": "stream",
     "text": [
      "collecting matches info:  29%|█████████████████████████████████████▏                                                                                           | 663/2299 [36:18<51:17,  1.88s/it]"
     ]
    },
    {
     "name": "stdout",
     "output_type": "stream",
     "text": [
      "Found 1 word(s) missing in the model. Weighted missing percentage not covered by the given model is 0.79%.\n"
     ]
    },
    {
     "name": "stderr",
     "output_type": "stream",
     "text": [
      "collecting matches info:  29%|█████████████████████████████████████▍                                                                                           | 668/2299 [36:27<50:55,  1.87s/it]"
     ]
    },
    {
     "name": "stdout",
     "output_type": "stream",
     "text": [
      "Found 1 word(s) missing in the model. Weighted missing percentage not covered by the given model is 4.35%.\n"
     ]
    },
    {
     "name": "stderr",
     "output_type": "stream",
     "text": [
      "collecting matches info:  29%|█████████████████████████████████████▊                                                                                           | 673/2299 [36:36<49:48,  1.84s/it]"
     ]
    },
    {
     "name": "stdout",
     "output_type": "stream",
     "text": [
      "Found 1 word(s) missing in the model. Weighted missing percentage not covered by the given model is 5.88%.\n"
     ]
    },
    {
     "name": "stderr",
     "output_type": "stream",
     "text": [
      "collecting matches info:  29%|█████████████████████████████████████▉                                                                                           | 677/2299 [36:44<51:49,  1.92s/it]"
     ]
    },
    {
     "name": "stdout",
     "output_type": "stream",
     "text": [
      "Found 1 word(s) missing in the model. Weighted missing percentage not covered by the given model is 0.64%.\n"
     ]
    },
    {
     "name": "stderr",
     "output_type": "stream",
     "text": [
      "collecting matches info:  30%|██████████████████████████████████████▎                                                                                          | 682/2299 [36:53<50:09,  1.86s/it]"
     ]
    },
    {
     "name": "stdout",
     "output_type": "stream",
     "text": [
      "Found 1 word(s) missing in the model. Weighted missing percentage not covered by the given model is 5.00%.\n"
     ]
    },
    {
     "name": "stderr",
     "output_type": "stream",
     "text": [
      "collecting matches info:  30%|██████████████████████████████████████▍                                                                                          | 684/2299 [36:57<51:32,  1.91s/it]"
     ]
    },
    {
     "name": "stdout",
     "output_type": "stream",
     "text": [
      "Found 1 word(s) missing in the model. Weighted missing percentage not covered by the given model is 5.88%.\n"
     ]
    },
    {
     "name": "stderr",
     "output_type": "stream",
     "text": [
      "collecting matches info:  30%|██████████████████████████████████████▌                                                                                          | 687/2299 [37:03<51:07,  1.90s/it]"
     ]
    },
    {
     "name": "stdout",
     "output_type": "stream",
     "text": [
      "Found 1 word(s) missing in the model. Weighted missing percentage not covered by the given model is 1.08%.\n"
     ]
    },
    {
     "name": "stderr",
     "output_type": "stream",
     "text": [
      "collecting matches info:  30%|██████████████████████████████████████▊                                                                                          | 692/2299 [37:12<50:32,  1.89s/it]"
     ]
    },
    {
     "name": "stdout",
     "output_type": "stream",
     "text": [
      "Found 1 word(s) missing in the model. Weighted missing percentage not covered by the given model is 0.83%.\n"
     ]
    },
    {
     "name": "stderr",
     "output_type": "stream",
     "text": [
      "collecting matches info:  30%|███████████████████████████████████████                                                                                          | 696/2299 [37:20<50:10,  1.88s/it]"
     ]
    },
    {
     "name": "stdout",
     "output_type": "stream",
     "text": [
      "Found 2 word(s) missing in the model. Weighted missing percentage not covered by the given model is 9.09%.\n"
     ]
    },
    {
     "name": "stderr",
     "output_type": "stream",
     "text": [
      "collecting matches info:  31%|███████████████████████████████████████▍                                                                                         | 702/2299 [37:31<50:28,  1.90s/it]"
     ]
    },
    {
     "name": "stdout",
     "output_type": "stream",
     "text": [
      "Found 1 word(s) missing in the model. Weighted missing percentage not covered by the given model is 1.67%.\n"
     ]
    },
    {
     "name": "stderr",
     "output_type": "stream",
     "text": [
      "collecting matches info:  31%|███████████████████████████████████████▌                                                                                         | 706/2299 [37:39<50:03,  1.89s/it]"
     ]
    },
    {
     "name": "stdout",
     "output_type": "stream",
     "text": [
      "Found 1 word(s) missing in the model. Weighted missing percentage not covered by the given model is 4.76%.\n"
     ]
    },
    {
     "name": "stderr",
     "output_type": "stream",
     "text": [
      "collecting matches info:  31%|███████████████████████████████████████▊                                                                                         | 709/2299 [37:44<50:17,  1.90s/it]"
     ]
    },
    {
     "name": "stdout",
     "output_type": "stream",
     "text": [
      "Found 1 word(s) missing in the model. Weighted missing percentage not covered by the given model is 0.82%.\n"
     ]
    },
    {
     "name": "stderr",
     "output_type": "stream",
     "text": [
      "collecting matches info:  31%|████████████████████████████████████████▎                                                                                        | 719/2299 [38:03<49:39,  1.89s/it]"
     ]
    },
    {
     "name": "stdout",
     "output_type": "stream",
     "text": [
      "Found 1 word(s) missing in the model. Weighted missing percentage not covered by the given model is 0.93%.\n"
     ]
    },
    {
     "name": "stderr",
     "output_type": "stream",
     "text": [
      "collecting matches info:  33%|██████████████████████████████████████████▉                                                                                      | 766/2299 [39:32<47:42,  1.87s/it]"
     ]
    },
    {
     "name": "stdout",
     "output_type": "stream",
     "text": [
      "Found 2 word(s) missing in the model. Weighted missing percentage not covered by the given model is 1.82%.\n"
     ]
    },
    {
     "name": "stderr",
     "output_type": "stream",
     "text": [
      "collecting matches info:  33%|███████████████████████████████████████████                                                                                      | 768/2299 [39:36<47:36,  1.87s/it]"
     ]
    },
    {
     "name": "stdout",
     "output_type": "stream",
     "text": [
      "Found 1 word(s) missing in the model. Weighted missing percentage not covered by the given model is 2.78%.\n"
     ]
    },
    {
     "name": "stderr",
     "output_type": "stream",
     "text": [
      "collecting matches info:  34%|███████████████████████████████████████████▎                                                                                     | 772/2299 [39:44<49:31,  1.95s/it]"
     ]
    },
    {
     "name": "stdout",
     "output_type": "stream",
     "text": [
      "Found 1 word(s) missing in the model. Weighted missing percentage not covered by the given model is 1.00%.\n"
     ]
    },
    {
     "name": "stderr",
     "output_type": "stream",
     "text": [
      "collecting matches info:  34%|███████████████████████████████████████████▌                                                                                     | 776/2299 [39:51<48:30,  1.91s/it]"
     ]
    },
    {
     "name": "stdout",
     "output_type": "stream",
     "text": [
      "Found 1 word(s) missing in the model. Weighted missing percentage not covered by the given model is 0.51%.\n"
     ]
    },
    {
     "name": "stderr",
     "output_type": "stream",
     "text": [
      "collecting matches info:  34%|███████████████████████████████████████████▋                                                                                     | 779/2299 [39:57<47:31,  1.88s/it]"
     ]
    },
    {
     "name": "stdout",
     "output_type": "stream",
     "text": [
      "Found 1 word(s) missing in the model. Weighted missing percentage not covered by the given model is 1.49%.\n"
     ]
    },
    {
     "name": "stderr",
     "output_type": "stream",
     "text": [
      "collecting matches info:  34%|███████████████████████████████████████████▉                                                                                     | 783/2299 [40:04<46:53,  1.86s/it]"
     ]
    },
    {
     "name": "stdout",
     "output_type": "stream",
     "text": [
      "Found 1 word(s) missing in the model. Weighted missing percentage not covered by the given model is 1.15%.\n"
     ]
    },
    {
     "name": "stderr",
     "output_type": "stream",
     "text": [
      "\r",
      "collecting matches info:  34%|███████████████████████████████████████████▉                                                                                     | 784/2299 [40:06<46:53,  1.86s/it]"
     ]
    },
    {
     "name": "stdout",
     "output_type": "stream",
     "text": [
      "Found 1 word(s) missing in the model. Weighted missing percentage not covered by the given model is 1.96%.\n"
     ]
    },
    {
     "name": "stderr",
     "output_type": "stream",
     "text": [
      "\r",
      "collecting matches info:  34%|████████████████████████████████████████████                                                                                     | 785/2299 [40:08<46:58,  1.86s/it]"
     ]
    },
    {
     "name": "stdout",
     "output_type": "stream",
     "text": [
      "Found 1 word(s) missing in the model. Weighted missing percentage not covered by the given model is 4.55%.\n"
     ]
    },
    {
     "name": "stderr",
     "output_type": "stream",
     "text": [
      "\r",
      "collecting matches info:  34%|████████████████████████████████████████████                                                                                     | 786/2299 [40:10<47:09,  1.87s/it]"
     ]
    },
    {
     "name": "stdout",
     "output_type": "stream",
     "text": [
      "Found 3 word(s) missing in the model. Weighted missing percentage not covered by the given model is 4.69%.\n"
     ]
    },
    {
     "name": "stderr",
     "output_type": "stream",
     "text": [
      "collecting matches info:  34%|████████████████████████████████████████████▍                                                                                    | 791/2299 [40:19<47:09,  1.88s/it]"
     ]
    },
    {
     "name": "stdout",
     "output_type": "stream",
     "text": [
      "Found 1 word(s) missing in the model. Weighted missing percentage not covered by the given model is 1.82%.\n"
     ]
    },
    {
     "name": "stderr",
     "output_type": "stream",
     "text": [
      "collecting matches info:  35%|████████████████████████████████████████████▋                                                                                    | 797/2299 [40:31<47:18,  1.89s/it]"
     ]
    },
    {
     "name": "stdout",
     "output_type": "stream",
     "text": [
      "Found 3 word(s) missing in the model. Weighted missing percentage not covered by the given model is 2.33%.\n"
     ]
    },
    {
     "name": "stderr",
     "output_type": "stream",
     "text": [
      "collecting matches info:  35%|█████████████████████████████████████████████▎                                                                                   | 807/2299 [40:49<47:17,  1.90s/it]"
     ]
    },
    {
     "name": "stdout",
     "output_type": "stream",
     "text": [
      "Found 1 word(s) missing in the model. Weighted missing percentage not covered by the given model is 4.55%.\n"
     ]
    },
    {
     "name": "stderr",
     "output_type": "stream",
     "text": [
      "collecting matches info:  35%|█████████████████████████████████████████████▋                                                                                   | 814/2299 [41:04<52:55,  2.14s/it]"
     ]
    },
    {
     "name": "stdout",
     "output_type": "stream",
     "text": [
      "Found 1 word(s) missing in the model. Weighted missing percentage not covered by the given model is 7.14%.\n"
     ]
    },
    {
     "name": "stderr",
     "output_type": "stream",
     "text": [
      "\r",
      "collecting matches info:  35%|█████████████████████████████████████████████▋                                                                                   | 815/2299 [41:06<50:32,  2.04s/it]"
     ]
    },
    {
     "name": "stdout",
     "output_type": "stream",
     "text": [
      "Found 1 word(s) missing in the model. Weighted missing percentage not covered by the given model is 1.45%.\n"
     ]
    },
    {
     "name": "stderr",
     "output_type": "stream",
     "text": [
      "\r",
      "collecting matches info:  35%|█████████████████████████████████████████████▊                                                                                   | 816/2299 [41:08<48:42,  1.97s/it]"
     ]
    },
    {
     "name": "stdout",
     "output_type": "stream",
     "text": [
      "Found 3 word(s) missing in the model. Weighted missing percentage not covered by the given model is 2.52%.\n"
     ]
    },
    {
     "name": "stderr",
     "output_type": "stream",
     "text": [
      "collecting matches info:  36%|█████████████████████████████████████████████▉                                                                                   | 819/2299 [41:14<46:30,  1.89s/it]"
     ]
    },
    {
     "name": "stdout",
     "output_type": "stream",
     "text": [
      "Found 1 word(s) missing in the model. Weighted missing percentage not covered by the given model is 3.23%.\n"
     ]
    },
    {
     "name": "stderr",
     "output_type": "stream",
     "text": [
      "collecting matches info:  36%|██████████████████████████████████████████████                                                                                   | 821/2299 [41:17<45:34,  1.85s/it]"
     ]
    },
    {
     "name": "stdout",
     "output_type": "stream",
     "text": [
      "Found 2 word(s) missing in the model. Weighted missing percentage not covered by the given model is 1.89%.\n"
     ]
    },
    {
     "name": "stderr",
     "output_type": "stream",
     "text": [
      "collecting matches info:  36%|██████████████████████████████████████████████▎                                                                                  | 825/2299 [41:24<44:47,  1.82s/it]"
     ]
    },
    {
     "name": "stdout",
     "output_type": "stream",
     "text": [
      "Found 1 word(s) missing in the model. Weighted missing percentage not covered by the given model is 7.69%.\n"
     ]
    },
    {
     "name": "stderr",
     "output_type": "stream",
     "text": [
      "\r",
      "collecting matches info:  36%|██████████████████████████████████████████████▎                                                                                  | 826/2299 [41:26<45:10,  1.84s/it]"
     ]
    },
    {
     "name": "stdout",
     "output_type": "stream",
     "text": [
      "Found 2 word(s) missing in the model. Weighted missing percentage not covered by the given model is 1.90%.\n"
     ]
    },
    {
     "name": "stderr",
     "output_type": "stream",
     "text": [
      "collecting matches info:  36%|██████████████████████████████████████████████▌                                                                                  | 829/2299 [41:32<45:59,  1.88s/it]"
     ]
    },
    {
     "name": "stdout",
     "output_type": "stream",
     "text": [
      "Found 2 word(s) missing in the model. Weighted missing percentage not covered by the given model is 1.64%.\n"
     ]
    },
    {
     "name": "stderr",
     "output_type": "stream",
     "text": [
      "collecting matches info:  36%|██████████████████████████████████████████████▋                                                                                  | 831/2299 [41:36<45:27,  1.86s/it]"
     ]
    },
    {
     "name": "stdout",
     "output_type": "stream",
     "text": [
      "Found 1 word(s) missing in the model. Weighted missing percentage not covered by the given model is 3.03%.\n"
     ]
    },
    {
     "name": "stderr",
     "output_type": "stream",
     "text": [
      "\r",
      "collecting matches info:  36%|██████████████████████████████████████████████▋                                                                                  | 832/2299 [41:38<45:09,  1.85s/it]"
     ]
    },
    {
     "name": "stdout",
     "output_type": "stream",
     "text": [
      "Found 4 word(s) missing in the model. Weighted missing percentage not covered by the given model is 2.38%.\n"
     ]
    },
    {
     "name": "stderr",
     "output_type": "stream",
     "text": [
      "collecting matches info:  36%|███████████████████████████████████████████████                                                                                  | 838/2299 [41:48<44:29,  1.83s/it]"
     ]
    },
    {
     "name": "stdout",
     "output_type": "stream",
     "text": [
      "Found 1 word(s) missing in the model. Weighted missing percentage not covered by the given model is 0.70%.\n"
     ]
    },
    {
     "name": "stderr",
     "output_type": "stream",
     "text": [
      "collecting matches info:  37%|███████████████████████████████████████████████▏                                                                                 | 840/2299 [41:52<45:03,  1.85s/it]"
     ]
    },
    {
     "name": "stdout",
     "output_type": "stream",
     "text": [
      "Found 4 word(s) missing in the model. Weighted missing percentage not covered by the given model is 2.34%.\n"
     ]
    },
    {
     "name": "stderr",
     "output_type": "stream",
     "text": [
      "collecting matches info:  37%|███████████████████████████████████████████████▎                                                                                 | 843/2299 [41:58<44:30,  1.83s/it]"
     ]
    },
    {
     "name": "stdout",
     "output_type": "stream",
     "text": [
      "Found 1 word(s) missing in the model. Weighted missing percentage not covered by the given model is 2.70%.\n"
     ]
    },
    {
     "name": "stderr",
     "output_type": "stream",
     "text": [
      "\r",
      "collecting matches info:  37%|███████████████████████████████████████████████▎                                                                                 | 844/2299 [42:00<44:59,  1.86s/it]"
     ]
    },
    {
     "name": "stdout",
     "output_type": "stream",
     "text": [
      "Found 5 word(s) missing in the model. Weighted missing percentage not covered by the given model is 3.03%.\n"
     ]
    },
    {
     "name": "stderr",
     "output_type": "stream",
     "text": [
      "collecting matches info:  37%|███████████████████████████████████████████████▍                                                                                 | 846/2299 [42:03<44:41,  1.85s/it]"
     ]
    },
    {
     "name": "stdout",
     "output_type": "stream",
     "text": [
      "Found 4 word(s) missing in the model. Weighted missing percentage not covered by the given model is 2.35%.\n"
     ]
    },
    {
     "name": "stderr",
     "output_type": "stream",
     "text": [
      "collecting matches info:  37%|███████████████████████████████████████████████▋                                                                                 | 849/2299 [42:09<44:39,  1.85s/it]"
     ]
    },
    {
     "name": "stdout",
     "output_type": "stream",
     "text": [
      "Found 1 word(s) missing in the model. Weighted missing percentage not covered by the given model is 0.99%.\n"
     ]
    },
    {
     "name": "stderr",
     "output_type": "stream",
     "text": [
      "collecting matches info:  37%|███████████████████████████████████████████████▊                                                                                 | 853/2299 [42:17<47:51,  1.99s/it]"
     ]
    },
    {
     "name": "stdout",
     "output_type": "stream",
     "text": [
      "Found 4 word(s) missing in the model. Weighted missing percentage not covered by the given model is 1.34%.\n"
     ]
    },
    {
     "name": "stderr",
     "output_type": "stream",
     "text": [
      "collecting matches info:  38%|████████████████████████████████████████████████▍                                                                                | 863/2299 [42:37<46:20,  1.94s/it]"
     ]
    },
    {
     "name": "stdout",
     "output_type": "stream",
     "text": [
      "Found 1 word(s) missing in the model. Weighted missing percentage not covered by the given model is 0.84%.\n"
     ]
    },
    {
     "name": "stderr",
     "output_type": "stream",
     "text": [
      "collecting matches info:  39%|█████████████████████████████████████████████████▊                                                                               | 888/2299 [43:27<46:47,  1.99s/it]"
     ]
    },
    {
     "name": "stdout",
     "output_type": "stream",
     "text": [
      "Found 1 word(s) missing in the model. Weighted missing percentage not covered by the given model is 0.39%.\n"
     ]
    },
    {
     "name": "stderr",
     "output_type": "stream",
     "text": [
      "\r",
      "collecting matches info:  39%|█████████████████████████████████████████████████▉                                                                               | 889/2299 [43:29<46:19,  1.97s/it]"
     ]
    },
    {
     "name": "stdout",
     "output_type": "stream",
     "text": [
      "Found 1 word(s) missing in the model. Weighted missing percentage not covered by the given model is 0.40%.\n"
     ]
    },
    {
     "name": "stderr",
     "output_type": "stream",
     "text": [
      "\r",
      "collecting matches info:  39%|█████████████████████████████████████████████████▉                                                                               | 890/2299 [43:31<45:35,  1.94s/it]"
     ]
    },
    {
     "name": "stdout",
     "output_type": "stream",
     "text": [
      "Found 1 word(s) missing in the model. Weighted missing percentage not covered by the given model is 0.43%.\n"
     ]
    },
    {
     "name": "stderr",
     "output_type": "stream",
     "text": [
      "collecting matches info:  39%|██████████████████████████████████████████████████▊                                                                              | 905/2299 [43:59<43:05,  1.85s/it]"
     ]
    },
    {
     "name": "stdout",
     "output_type": "stream",
     "text": [
      "Found 1 word(s) missing in the model. Weighted missing percentage not covered by the given model is 0.38%.\n"
     ]
    },
    {
     "name": "stderr",
     "output_type": "stream",
     "text": [
      "collecting matches info:  39%|██████████████████████████████████████████████████▉                                                                              | 907/2299 [44:03<43:20,  1.87s/it]"
     ]
    },
    {
     "name": "stdout",
     "output_type": "stream",
     "text": [
      "Found 1 word(s) missing in the model. Weighted missing percentage not covered by the given model is 0.39%.\n"
     ]
    },
    {
     "name": "stderr",
     "output_type": "stream",
     "text": [
      "collecting matches info:  40%|███████████████████████████████████████████████████                                                                              | 910/2299 [44:09<43:36,  1.88s/it]"
     ]
    },
    {
     "name": "stdout",
     "output_type": "stream",
     "text": [
      "Found 1 word(s) missing in the model. Weighted missing percentage not covered by the given model is 3.57%.\n"
     ]
    },
    {
     "name": "stderr",
     "output_type": "stream",
     "text": [
      "collecting matches info:  40%|███████████████████████████████████████████████████▏                                                                             | 912/2299 [44:13<43:09,  1.87s/it]"
     ]
    },
    {
     "name": "stdout",
     "output_type": "stream",
     "text": [
      "Found 1 word(s) missing in the model. Weighted missing percentage not covered by the given model is 1.64%.\n"
     ]
    },
    {
     "name": "stderr",
     "output_type": "stream",
     "text": [
      "collecting matches info:  40%|███████████████████████████████████████████████████▍                                                                             | 917/2299 [44:22<44:27,  1.93s/it]"
     ]
    },
    {
     "name": "stdout",
     "output_type": "stream",
     "text": [
      "Found 1 word(s) missing in the model. Weighted missing percentage not covered by the given model is 3.45%.\n"
     ]
    },
    {
     "name": "stderr",
     "output_type": "stream",
     "text": [
      "\r",
      "collecting matches info:  40%|███████████████████████████████████████████████████▌                                                                             | 918/2299 [44:24<44:15,  1.92s/it]"
     ]
    },
    {
     "name": "stdout",
     "output_type": "stream",
     "text": [
      "Found 1 word(s) missing in the model. Weighted missing percentage not covered by the given model is 4.55%.\n"
     ]
    },
    {
     "name": "stderr",
     "output_type": "stream",
     "text": [
      "collecting matches info:  40%|███████████████████████████████████████████████████▌                                                                             | 920/2299 [44:28<44:23,  1.93s/it]"
     ]
    },
    {
     "name": "stdout",
     "output_type": "stream",
     "text": [
      "Found 1 word(s) missing in the model. Weighted missing percentage not covered by the given model is 6.67%.\n"
     ]
    },
    {
     "name": "stderr",
     "output_type": "stream",
     "text": [
      "collecting matches info:  40%|████████████████████████████████████████████████████                                                                             | 927/2299 [44:42<44:51,  1.96s/it]"
     ]
    },
    {
     "name": "stdout",
     "output_type": "stream",
     "text": [
      "Found 1 word(s) missing in the model. Weighted missing percentage not covered by the given model is 0.20%.\n"
     ]
    },
    {
     "name": "stderr",
     "output_type": "stream",
     "text": [
      "collecting matches info:  41%|████████████████████████████████████████████████████▋                                                                            | 938/2299 [45:06<45:03,  1.99s/it]"
     ]
    },
    {
     "name": "stdout",
     "output_type": "stream",
     "text": [
      "Found 1 word(s) missing in the model. Weighted missing percentage not covered by the given model is 0.81%.\n"
     ]
    },
    {
     "name": "stderr",
     "output_type": "stream",
     "text": [
      "collecting matches info:  41%|█████████████████████████████████████████████████████▎                                                                           | 951/2299 [45:31<41:59,  1.87s/it]"
     ]
    },
    {
     "name": "stdout",
     "output_type": "stream",
     "text": [
      "Found 1 word(s) missing in the model. Weighted missing percentage not covered by the given model is 0.90%.\n"
     ]
    },
    {
     "name": "stderr",
     "output_type": "stream",
     "text": [
      "\r",
      "collecting matches info:  41%|█████████████████████████████████████████████████████▍                                                                           | 952/2299 [45:33<41:44,  1.86s/it]"
     ]
    },
    {
     "name": "stdout",
     "output_type": "stream",
     "text": [
      "Found 1 word(s) missing in the model. Weighted missing percentage not covered by the given model is 0.89%.\n"
     ]
    },
    {
     "name": "stderr",
     "output_type": "stream",
     "text": [
      "\r",
      "collecting matches info:  41%|█████████████████████████████████████████████████████▍                                                                           | 953/2299 [45:35<41:33,  1.85s/it]"
     ]
    },
    {
     "name": "stdout",
     "output_type": "stream",
     "text": [
      "Found 1 word(s) missing in the model. Weighted missing percentage not covered by the given model is 0.85%.\n"
     ]
    },
    {
     "name": "stderr",
     "output_type": "stream",
     "text": [
      "\r",
      "collecting matches info:  41%|█████████████████████████████████████████████████████▌                                                                           | 954/2299 [45:37<41:25,  1.85s/it]"
     ]
    },
    {
     "name": "stdout",
     "output_type": "stream",
     "text": [
      "Found 2 word(s) missing in the model. Weighted missing percentage not covered by the given model is 2.15%.\n"
     ]
    },
    {
     "name": "stderr",
     "output_type": "stream",
     "text": [
      "collecting matches info:  42%|█████████████████████████████████████████████████████▉                                                                           | 962/2299 [45:52<42:17,  1.90s/it]"
     ]
    },
    {
     "name": "stdout",
     "output_type": "stream",
     "text": [
      "Found 2 word(s) missing in the model. Weighted missing percentage not covered by the given model is 1.23%.\n"
     ]
    },
    {
     "name": "stderr",
     "output_type": "stream",
     "text": [
      "collecting matches info:  42%|██████████████████████████████████████████████████████▌                                                                          | 973/2299 [46:13<42:01,  1.90s/it]"
     ]
    },
    {
     "name": "stdout",
     "output_type": "stream",
     "text": [
      "Found 1 word(s) missing in the model. Weighted missing percentage not covered by the given model is 0.57%.\n"
     ]
    },
    {
     "name": "stderr",
     "output_type": "stream",
     "text": [
      "collecting matches info:  43%|███████████████████████████████████████████████████████                                                                          | 982/2299 [46:30<42:24,  1.93s/it]"
     ]
    },
    {
     "name": "stdout",
     "output_type": "stream",
     "text": [
      "Found 1 word(s) missing in the model. Weighted missing percentage not covered by the given model is 0.58%.\n"
     ]
    },
    {
     "name": "stderr",
     "output_type": "stream",
     "text": [
      "collecting matches info:  43%|████████████████████████████████████████████████████████                                                                         | 999/2299 [47:03<43:18,  2.00s/it]"
     ]
    },
    {
     "name": "stdout",
     "output_type": "stream",
     "text": [
      "Found 1 word(s) missing in the model. Weighted missing percentage not covered by the given model is 5.88%.\n"
     ]
    },
    {
     "name": "stderr",
     "output_type": "stream",
     "text": [
      "collecting matches info:  44%|███████████████████████████████████████████████████████▋                                                                        | 1001/2299 [47:07<42:49,  1.98s/it]"
     ]
    },
    {
     "name": "stdout",
     "output_type": "stream",
     "text": [
      "Found 1 word(s) missing in the model. Weighted missing percentage not covered by the given model is 3.85%.\n"
     ]
    },
    {
     "name": "stderr",
     "output_type": "stream",
     "text": [
      "collecting matches info:  44%|████████████████████████████████████████████████████████▏                                                                       | 1010/2299 [47:24<41:40,  1.94s/it]"
     ]
    },
    {
     "name": "stdout",
     "output_type": "stream",
     "text": [
      "Found 1 word(s) missing in the model. Weighted missing percentage not covered by the given model is 1.56%.\n"
     ]
    },
    {
     "name": "stderr",
     "output_type": "stream",
     "text": [
      "\r",
      "collecting matches info:  44%|████████████████████████████████████████████████████████▎                                                                       | 1011/2299 [47:26<42:05,  1.96s/it]"
     ]
    },
    {
     "name": "stdout",
     "output_type": "stream",
     "text": [
      "Found 1 word(s) missing in the model. Weighted missing percentage not covered by the given model is 1.85%.\n"
     ]
    },
    {
     "name": "stderr",
     "output_type": "stream",
     "text": [
      "\r",
      "collecting matches info:  44%|████████████████████████████████████████████████████████▎                                                                       | 1012/2299 [47:28<42:40,  1.99s/it]"
     ]
    },
    {
     "name": "stdout",
     "output_type": "stream",
     "text": [
      "Found 3 word(s) missing in the model. Weighted missing percentage not covered by the given model is 1.69%.\n"
     ]
    },
    {
     "name": "stderr",
     "output_type": "stream",
     "text": [
      "collecting matches info:  44%|████████████████████████████████████████████████████████▊                                                                       | 1021/2299 [47:45<40:55,  1.92s/it]"
     ]
    },
    {
     "name": "stdout",
     "output_type": "stream",
     "text": [
      "Found 1 word(s) missing in the model. Weighted missing percentage not covered by the given model is 0.48%.\n"
     ]
    },
    {
     "name": "stderr",
     "output_type": "stream",
     "text": [
      "collecting matches info:  45%|█████████████████████████████████████████████████████████▎                                                                      | 1029/2299 [48:01<40:08,  1.90s/it]"
     ]
    },
    {
     "name": "stdout",
     "output_type": "stream",
     "text": [
      "Found 3 word(s) missing in the model. Weighted missing percentage not covered by the given model is 1.10%.\n"
     ]
    },
    {
     "name": "stderr",
     "output_type": "stream",
     "text": [
      "collecting matches info:  45%|█████████████████████████████████████████████████████████▍                                                                      | 1031/2299 [48:04<40:39,  1.92s/it]"
     ]
    },
    {
     "name": "stdout",
     "output_type": "stream",
     "text": [
      "Found 1 word(s) missing in the model. Weighted missing percentage not covered by the given model is 0.80%.\n"
     ]
    },
    {
     "name": "stderr",
     "output_type": "stream",
     "text": [
      "collecting matches info:  45%|█████████████████████████████████████████████████████████▌                                                                      | 1034/2299 [48:10<39:44,  1.88s/it]"
     ]
    },
    {
     "name": "stdout",
     "output_type": "stream",
     "text": [
      "Found 1 word(s) missing in the model. Weighted missing percentage not covered by the given model is 3.57%.\n"
     ]
    },
    {
     "name": "stderr",
     "output_type": "stream",
     "text": [
      "collecting matches info:  45%|█████████████████████████████████████████████████████████▋                                                                      | 1036/2299 [48:14<39:43,  1.89s/it]"
     ]
    },
    {
     "name": "stdout",
     "output_type": "stream",
     "text": [
      "Found 1 word(s) missing in the model. Weighted missing percentage not covered by the given model is 1.25%.\n"
     ]
    },
    {
     "name": "stderr",
     "output_type": "stream",
     "text": [
      "collecting matches info:  45%|█████████████████████████████████████████████████████████▊                                                                      | 1039/2299 [48:19<39:16,  1.87s/it]"
     ]
    },
    {
     "name": "stdout",
     "output_type": "stream",
     "text": [
      "Found 1 word(s) missing in the model. Weighted missing percentage not covered by the given model is 1.18%.\n"
     ]
    },
    {
     "name": "stderr",
     "output_type": "stream",
     "text": [
      "\r",
      "collecting matches info:  45%|█████████████████████████████████████████████████████████▉                                                                      | 1040/2299 [48:22<42:50,  2.04s/it]"
     ]
    },
    {
     "name": "stdout",
     "output_type": "stream",
     "text": [
      "Found 1 word(s) missing in the model. Weighted missing percentage not covered by the given model is 0.37%.\n"
     ]
    },
    {
     "name": "stderr",
     "output_type": "stream",
     "text": [
      "collecting matches info:  45%|██████████████████████████████████████████████████████████                                                                      | 1043/2299 [48:28<42:06,  2.01s/it]"
     ]
    },
    {
     "name": "stdout",
     "output_type": "stream",
     "text": [
      "Found 3 word(s) missing in the model. Weighted missing percentage not covered by the given model is 0.90%.\n"
     ]
    },
    {
     "name": "stderr",
     "output_type": "stream",
     "text": [
      "collecting matches info:  45%|██████████████████████████████████████████████████████████▏                                                                     | 1045/2299 [48:32<40:43,  1.95s/it]"
     ]
    },
    {
     "name": "stdout",
     "output_type": "stream",
     "text": [
      "Found 1 word(s) missing in the model. Weighted missing percentage not covered by the given model is 1.37%.\n"
     ]
    },
    {
     "name": "stderr",
     "output_type": "stream",
     "text": [
      "collecting matches info:  46%|██████████████████████████████████████████████████████████▎                                                                     | 1047/2299 [48:35<39:38,  1.90s/it]"
     ]
    },
    {
     "name": "stdout",
     "output_type": "stream",
     "text": [
      "Found 1 word(s) missing in the model. Weighted missing percentage not covered by the given model is 1.16%.\n"
     ]
    },
    {
     "name": "stderr",
     "output_type": "stream",
     "text": [
      "\r",
      "collecting matches info:  46%|██████████████████████████████████████████████████████████▎                                                                     | 1048/2299 [48:37<39:37,  1.90s/it]"
     ]
    },
    {
     "name": "stdout",
     "output_type": "stream",
     "text": [
      "Found 1 word(s) missing in the model. Weighted missing percentage not covered by the given model is 0.78%.\n"
     ]
    },
    {
     "name": "stderr",
     "output_type": "stream",
     "text": [
      "collecting matches info:  46%|██████████████████████████████████████████████████████████▋                                                                     | 1054/2299 [48:48<38:20,  1.85s/it]"
     ]
    },
    {
     "name": "stdout",
     "output_type": "stream",
     "text": [
      "Found 1 word(s) missing in the model. Weighted missing percentage not covered by the given model is 0.58%.\n"
     ]
    },
    {
     "name": "stderr",
     "output_type": "stream",
     "text": [
      "\r",
      "collecting matches info:  46%|██████████████████████████████████████████████████████████▋                                                                     | 1055/2299 [48:50<38:22,  1.85s/it]"
     ]
    },
    {
     "name": "stdout",
     "output_type": "stream",
     "text": [
      "Found 1 word(s) missing in the model. Weighted missing percentage not covered by the given model is 0.48%.\n"
     ]
    },
    {
     "name": "stderr",
     "output_type": "stream",
     "text": [
      "\r",
      "collecting matches info:  46%|██████████████████████████████████████████████████████████▊                                                                     | 1056/2299 [48:52<38:34,  1.86s/it]"
     ]
    },
    {
     "name": "stdout",
     "output_type": "stream",
     "text": [
      "Found 7 word(s) missing in the model. Weighted missing percentage not covered by the given model is 1.35%.\n"
     ]
    },
    {
     "name": "stderr",
     "output_type": "stream",
     "text": [
      "collecting matches info:  46%|███████████████████████████████████████████████████████████▎                                                                    | 1066/2299 [49:11<38:04,  1.85s/it]"
     ]
    },
    {
     "name": "stdout",
     "output_type": "stream",
     "text": [
      "Found 4 word(s) missing in the model. Weighted missing percentage not covered by the given model is 1.27%.\n"
     ]
    },
    {
     "name": "stderr",
     "output_type": "stream",
     "text": [
      "collecting matches info:  47%|████████████████████████████████████████████████████████████                                                                    | 1078/2299 [49:33<37:47,  1.86s/it]"
     ]
    },
    {
     "name": "stdout",
     "output_type": "stream",
     "text": [
      "Found 1 word(s) missing in the model. Weighted missing percentage not covered by the given model is 3.03%.\n"
     ]
    },
    {
     "name": "stderr",
     "output_type": "stream",
     "text": [
      "collecting matches info:  47%|████████████████████████████████████████████████████████████▍                                                                   | 1086/2299 [49:48<38:13,  1.89s/it]"
     ]
    },
    {
     "name": "stdout",
     "output_type": "stream",
     "text": [
      "Found 1 word(s) missing in the model. Weighted missing percentage not covered by the given model is 0.93%.\n"
     ]
    },
    {
     "name": "stderr",
     "output_type": "stream",
     "text": [
      "collecting matches info:  47%|████████████████████████████████████████████████████████████▋                                                                   | 1090/2299 [49:56<37:55,  1.88s/it]"
     ]
    },
    {
     "name": "stdout",
     "output_type": "stream",
     "text": [
      "Found 2 word(s) missing in the model. Weighted missing percentage not covered by the given model is 1.55%.\n"
     ]
    },
    {
     "name": "stderr",
     "output_type": "stream",
     "text": [
      "collecting matches info:  47%|████████████████████████████████████████████████████████████▊                                                                   | 1092/2299 [50:00<38:36,  1.92s/it]"
     ]
    },
    {
     "name": "stdout",
     "output_type": "stream",
     "text": [
      "Found 1 word(s) missing in the model. Weighted missing percentage not covered by the given model is 5.56%.\n"
     ]
    },
    {
     "name": "stderr",
     "output_type": "stream",
     "text": [
      "collecting matches info:  48%|█████████████████████████████████████████████████████████████▍                                                                  | 1103/2299 [50:20<36:55,  1.85s/it]"
     ]
    },
    {
     "name": "stdout",
     "output_type": "stream",
     "text": [
      "Found 1 word(s) missing in the model. Weighted missing percentage not covered by the given model is 0.75%.\n"
     ]
    },
    {
     "name": "stderr",
     "output_type": "stream",
     "text": [
      "\r",
      "collecting matches info:  48%|█████████████████████████████████████████████████████████████▍                                                                  | 1104/2299 [50:22<37:30,  1.88s/it]"
     ]
    },
    {
     "name": "stdout",
     "output_type": "stream",
     "text": [
      "Found 1 word(s) missing in the model. Weighted missing percentage not covered by the given model is 0.93%.\n"
     ]
    },
    {
     "name": "stderr",
     "output_type": "stream",
     "text": [
      "collecting matches info:  48%|█████████████████████████████████████████████████████████████▋                                                                  | 1109/2299 [50:32<38:00,  1.92s/it]"
     ]
    },
    {
     "name": "stdout",
     "output_type": "stream",
     "text": [
      "Found 1 word(s) missing in the model. Weighted missing percentage not covered by the given model is 0.64%.\n"
     ]
    },
    {
     "name": "stderr",
     "output_type": "stream",
     "text": [
      "collecting matches info:  48%|██████████████████████████████████████████████████████████████                                                                  | 1114/2299 [50:41<36:50,  1.87s/it]"
     ]
    },
    {
     "name": "stdout",
     "output_type": "stream",
     "text": [
      "Found 1 word(s) missing in the model. Weighted missing percentage not covered by the given model is 5.56%.\n"
     ]
    },
    {
     "name": "stderr",
     "output_type": "stream",
     "text": [
      "collecting matches info:  49%|██████████████████████████████████████████████████████████████▎                                                                 | 1120/2299 [50:53<37:48,  1.92s/it]"
     ]
    },
    {
     "name": "stdout",
     "output_type": "stream",
     "text": [
      "Found 1 word(s) missing in the model. Weighted missing percentage not covered by the given model is 0.22%.\n"
     ]
    },
    {
     "name": "stderr",
     "output_type": "stream",
     "text": [
      "collecting matches info:  56%|████████████████████████████████████████████████████████████████████████▏                                                       | 1296/2299 [56:32<32:34,  1.95s/it]"
     ]
    },
    {
     "name": "stdout",
     "output_type": "stream",
     "text": [
      "Found 3 word(s) missing in the model. Weighted missing percentage not covered by the given model is 2.08%.\n"
     ]
    },
    {
     "name": "stderr",
     "output_type": "stream",
     "text": [
      "collecting matches info:  57%|████████████████████████████████████████████████████████████████████████▋                                                       | 1305/2299 [56:55<39:53,  2.41s/it]"
     ]
    },
    {
     "name": "stdout",
     "output_type": "stream",
     "text": [
      "Found 2 word(s) missing in the model. Weighted missing percentage not covered by the given model is 5.00%.\n"
     ]
    },
    {
     "name": "stderr",
     "output_type": "stream",
     "text": [
      "collecting matches info:  57%|████████████████████████████████████████████████████████████████████████▊                                                       | 1308/2299 [57:02<37:16,  2.26s/it]"
     ]
    },
    {
     "name": "stdout",
     "output_type": "stream",
     "text": [
      "Found 2 word(s) missing in the model. Weighted missing percentage not covered by the given model is 3.92%.\n"
     ]
    },
    {
     "name": "stderr",
     "output_type": "stream",
     "text": [
      "collecting matches info:  57%|█████████████████████████████████████████████████████████████████████████                                                       | 1312/2299 [57:13<46:50,  2.85s/it]"
     ]
    },
    {
     "name": "stdout",
     "output_type": "stream",
     "text": [
      "Found 1 word(s) missing in the model. Weighted missing percentage not covered by the given model is 3.33%.\n"
     ]
    },
    {
     "name": "stderr",
     "output_type": "stream",
     "text": [
      "collecting matches info:  57%|█████████████████████████████████████████████████████████████████████████▍                                                      | 1320/2299 [57:31<35:48,  2.19s/it]"
     ]
    },
    {
     "name": "stdout",
     "output_type": "stream",
     "text": [
      "Found 1 word(s) missing in the model. Weighted missing percentage not covered by the given model is 2.17%.\n"
     ]
    },
    {
     "name": "stderr",
     "output_type": "stream",
     "text": [
      "collecting matches info:  58%|█████████████████████████████████████████████████████████████████████████▊                                                      | 1326/2299 [57:46<37:03,  2.29s/it]"
     ]
    },
    {
     "name": "stdout",
     "output_type": "stream",
     "text": [
      "Found 5 word(s) missing in the model. Weighted missing percentage not covered by the given model is 2.07%.\n"
     ]
    },
    {
     "name": "stderr",
     "output_type": "stream",
     "text": [
      "collecting matches info:  58%|██████████████████████████████████████████████████████████████████████████                                                      | 1331/2299 [57:56<34:40,  2.15s/it]"
     ]
    },
    {
     "name": "stdout",
     "output_type": "stream",
     "text": [
      "Found 1 word(s) missing in the model. Weighted missing percentage not covered by the given model is 0.35%.\n"
     ]
    },
    {
     "name": "stderr",
     "output_type": "stream",
     "text": [
      "collecting matches info:  60%|████████████████████████████████████████████████████████████████████████████▏                                                   | 1368/2299 [59:08<29:20,  1.89s/it]"
     ]
    },
    {
     "name": "stdout",
     "output_type": "stream",
     "text": [
      "Found 1 word(s) missing in the model. Weighted missing percentage not covered by the given model is 0.22%.\n"
     ]
    },
    {
     "name": "stderr",
     "output_type": "stream",
     "text": [
      "collecting matches info:  60%|████████████████████████████████████████████████████████████████████████████▍                                                   | 1374/2299 [59:19<28:54,  1.88s/it]"
     ]
    },
    {
     "name": "stdout",
     "output_type": "stream",
     "text": [
      "Found 1 word(s) missing in the model. Weighted missing percentage not covered by the given model is 0.26%.\n"
     ]
    },
    {
     "name": "stderr",
     "output_type": "stream",
     "text": [
      "collecting matches info:  60%|████████████████████████████████████████████████████████████████████████████▉                                                   | 1381/2299 [59:32<28:58,  1.89s/it]"
     ]
    },
    {
     "name": "stdout",
     "output_type": "stream",
     "text": [
      "Found 3 word(s) missing in the model. Weighted missing percentage not covered by the given model is 0.87%.\n"
     ]
    },
    {
     "name": "stderr",
     "output_type": "stream",
     "text": [
      "collecting matches info:  60%|█████████████████████████████████████████████████████████████████████████████                                                   | 1385/2299 [59:40<29:42,  1.95s/it]"
     ]
    },
    {
     "name": "stdout",
     "output_type": "stream",
     "text": [
      "Found 1 word(s) missing in the model. Weighted missing percentage not covered by the given model is 0.30%.\n"
     ]
    },
    {
     "name": "stderr",
     "output_type": "stream",
     "text": [
      "collecting matches info:  61%|████████████████████████████████████████████████████████████████████████████▌                                                 | 1398/2299 [1:00:05<28:09,  1.88s/it]"
     ]
    },
    {
     "name": "stdout",
     "output_type": "stream",
     "text": [
      "Found 1 word(s) missing in the model. Weighted missing percentage not covered by the given model is 6.67%.\n"
     ]
    },
    {
     "name": "stderr",
     "output_type": "stream",
     "text": [
      "collecting matches info:  61%|████████████████████████████████████████████████████████████████████████████▉                                                 | 1403/2299 [1:00:14<28:04,  1.88s/it]"
     ]
    },
    {
     "name": "stdout",
     "output_type": "stream",
     "text": [
      "Found 8 word(s) missing in the model. Weighted missing percentage not covered by the given model is 6.78%.\n"
     ]
    },
    {
     "name": "stderr",
     "output_type": "stream",
     "text": [
      "collecting matches info:  62%|██████████████████████████████████████████████████████████████████████████████                                                | 1425/2299 [1:00:56<28:06,  1.93s/it]"
     ]
    },
    {
     "name": "stdout",
     "output_type": "stream",
     "text": [
      "Found 1 word(s) missing in the model. Weighted missing percentage not covered by the given model is 2.78%.\n"
     ]
    },
    {
     "name": "stderr",
     "output_type": "stream",
     "text": [
      "collecting matches info:  62%|██████████████████████████████████████████████████████████████████████████████▎                                               | 1428/2299 [1:01:02<28:12,  1.94s/it]"
     ]
    },
    {
     "name": "stdout",
     "output_type": "stream",
     "text": [
      "Found 2 word(s) missing in the model. Weighted missing percentage not covered by the given model is 0.59%.\n"
     ]
    },
    {
     "name": "stderr",
     "output_type": "stream",
     "text": [
      "\r",
      "collecting matches info:  62%|██████████████████████████████████████████████████████████████████████████████▎                                               | 1429/2299 [1:01:04<27:52,  1.92s/it]"
     ]
    },
    {
     "name": "stdout",
     "output_type": "stream",
     "text": [
      "Found 1 word(s) missing in the model. Weighted missing percentage not covered by the given model is 0.30%.\n"
     ]
    },
    {
     "name": "stderr",
     "output_type": "stream",
     "text": [
      "collecting matches info:  62%|██████████████████████████████████████████████████████████████████████████████▍                                               | 1431/2299 [1:01:07<27:38,  1.91s/it]"
     ]
    },
    {
     "name": "stdout",
     "output_type": "stream",
     "text": [
      "Found 4 word(s) missing in the model. Weighted missing percentage not covered by the given model is 1.23%.\n"
     ]
    },
    {
     "name": "stderr",
     "output_type": "stream",
     "text": [
      "collecting matches info:  63%|██████████████████████████████████████████████████████████████████████████████▉                                               | 1440/2299 [1:01:24<27:03,  1.89s/it]"
     ]
    },
    {
     "name": "stdout",
     "output_type": "stream",
     "text": [
      "Found 7 word(s) missing in the model. Weighted missing percentage not covered by the given model is 4.96%.\n"
     ]
    },
    {
     "name": "stderr",
     "output_type": "stream",
     "text": [
      "collecting matches info:  63%|███████████████████████████████████████████████████████████████████████████████▋                                              | 1455/2299 [1:01:53<28:00,  1.99s/it]"
     ]
    },
    {
     "name": "stdout",
     "output_type": "stream",
     "text": [
      "Found 8 word(s) missing in the model. Weighted missing percentage not covered by the given model is 6.15%.\n"
     ]
    },
    {
     "name": "stderr",
     "output_type": "stream",
     "text": [
      "collecting matches info:  63%|███████████████████████████████████████████████████████████████████████████████▊                                              | 1457/2299 [1:01:58<28:53,  2.06s/it]"
     ]
    },
    {
     "name": "stdout",
     "output_type": "stream",
     "text": [
      "Found 1 word(s) missing in the model. Weighted missing percentage not covered by the given model is 0.32%.\n"
     ]
    },
    {
     "name": "stderr",
     "output_type": "stream",
     "text": [
      "collecting matches info:  64%|█████████████████████████████████████████████████████████████████████████████████                                             | 1479/2299 [1:02:39<25:02,  1.83s/it]"
     ]
    },
    {
     "name": "stdout",
     "output_type": "stream",
     "text": [
      "Found 1 word(s) missing in the model. Weighted missing percentage not covered by the given model is 0.39%.\n"
     ]
    },
    {
     "name": "stderr",
     "output_type": "stream",
     "text": [
      "collecting matches info:  65%|█████████████████████████████████████████████████████████████████████████████████▎                                            | 1483/2299 [1:02:47<26:03,  1.92s/it]"
     ]
    },
    {
     "name": "stdout",
     "output_type": "stream",
     "text": [
      "Found 1 word(s) missing in the model. Weighted missing percentage not covered by the given model is 0.38%.\n"
     ]
    },
    {
     "name": "stderr",
     "output_type": "stream",
     "text": [
      "\r",
      "collecting matches info:  65%|█████████████████████████████████████████████████████████████████████████████████▎                                            | 1484/2299 [1:02:49<26:02,  1.92s/it]"
     ]
    },
    {
     "name": "stdout",
     "output_type": "stream",
     "text": [
      "Found 2 word(s) missing in the model. Weighted missing percentage not covered by the given model is 0.76%.\n"
     ]
    },
    {
     "name": "stderr",
     "output_type": "stream",
     "text": [
      "\r",
      "collecting matches info:  65%|█████████████████████████████████████████████████████████████████████████████████▍                                            | 1485/2299 [1:02:50<25:47,  1.90s/it]"
     ]
    },
    {
     "name": "stdout",
     "output_type": "stream",
     "text": [
      "Found 1 word(s) missing in the model. Weighted missing percentage not covered by the given model is 0.41%.\n"
     ]
    },
    {
     "name": "stderr",
     "output_type": "stream",
     "text": [
      "collecting matches info:  66%|███████████████████████████████████████████████████████████████████████████████████▏                                          | 1517/2299 [1:03:51<25:04,  1.92s/it]"
     ]
    },
    {
     "name": "stdout",
     "output_type": "stream",
     "text": [
      "Found 1 word(s) missing in the model. Weighted missing percentage not covered by the given model is 0.27%.\n"
     ]
    },
    {
     "name": "stderr",
     "output_type": "stream",
     "text": [
      "collecting matches info:  66%|███████████████████████████████████████████████████████████████████████████████████▎                                          | 1520/2299 [1:03:57<24:52,  1.92s/it]"
     ]
    },
    {
     "name": "stdout",
     "output_type": "stream",
     "text": [
      "Found 2 word(s) missing in the model. Weighted missing percentage not covered by the given model is 0.52%.\n"
     ]
    },
    {
     "name": "stderr",
     "output_type": "stream",
     "text": [
      "\r",
      "collecting matches info:  66%|███████████████████████████████████████████████████████████████████████████████████▎                                          | 1521/2299 [1:03:59<24:48,  1.91s/it]"
     ]
    },
    {
     "name": "stdout",
     "output_type": "stream",
     "text": [
      "Found 1 word(s) missing in the model. Weighted missing percentage not covered by the given model is 0.29%.\n"
     ]
    },
    {
     "name": "stderr",
     "output_type": "stream",
     "text": [
      "collecting matches info:  66%|███████████████████████████████████████████████████████████████████████████████████▍                                          | 1523/2299 [1:04:03<24:39,  1.91s/it]"
     ]
    },
    {
     "name": "stdout",
     "output_type": "stream",
     "text": [
      "Found 1 word(s) missing in the model. Weighted missing percentage not covered by the given model is 1.14%.\n"
     ]
    },
    {
     "name": "stderr",
     "output_type": "stream",
     "text": [
      "collecting matches info:  67%|███████████████████████████████████████████████████████████████████████████████████▉                                          | 1531/2299 [1:04:18<23:53,  1.87s/it]"
     ]
    },
    {
     "name": "stdout",
     "output_type": "stream",
     "text": [
      "Found 2 word(s) missing in the model. Weighted missing percentage not covered by the given model is 1.27%.\n"
     ]
    },
    {
     "name": "stderr",
     "output_type": "stream",
     "text": [
      "collecting matches info:  67%|████████████████████████████████████████████████████████████████████████████████████▏                                         | 1535/2299 [1:04:25<23:32,  1.85s/it]"
     ]
    },
    {
     "name": "stdout",
     "output_type": "stream",
     "text": [
      "Found 1 word(s) missing in the model. Weighted missing percentage not covered by the given model is 0.99%.\n"
     ]
    },
    {
     "name": "stderr",
     "output_type": "stream",
     "text": [
      "collecting matches info:  68%|█████████████████████████████████████████████████████████████████████████████████████▌                                        | 1561/2299 [1:05:14<23:28,  1.91s/it]"
     ]
    },
    {
     "name": "stdout",
     "output_type": "stream",
     "text": [
      "Found 1 word(s) missing in the model. Weighted missing percentage not covered by the given model is 0.38%.\n"
     ]
    },
    {
     "name": "stderr",
     "output_type": "stream",
     "text": [
      "collecting matches info:  69%|██████████████████████████████████████████████████████████████████████████████████████▌                                       | 1579/2299 [1:05:47<22:44,  1.90s/it]"
     ]
    },
    {
     "name": "stdout",
     "output_type": "stream",
     "text": [
      "Found 2 word(s) missing in the model. Weighted missing percentage not covered by the given model is 2.02%.\n"
     ]
    },
    {
     "name": "stderr",
     "output_type": "stream",
     "text": [
      "collecting matches info:  70%|████████████████████████████████████████████████████████████████████████████████████████▎                                     | 1612/2299 [1:06:51<22:49,  1.99s/it]"
     ]
    },
    {
     "name": "stdout",
     "output_type": "stream",
     "text": [
      "Found 1 word(s) missing in the model. Weighted missing percentage not covered by the given model is 0.23%.\n"
     ]
    },
    {
     "name": "stderr",
     "output_type": "stream",
     "text": [
      "collecting matches info:  72%|██████████████████████████████████████████████████████████████████████████████████████████▏                                   | 1645/2299 [1:07:54<21:23,  1.96s/it]"
     ]
    },
    {
     "name": "stdout",
     "output_type": "stream",
     "text": [
      "Found 2 word(s) missing in the model. Weighted missing percentage not covered by the given model is 6.06%.\n"
     ]
    },
    {
     "name": "stderr",
     "output_type": "stream",
     "text": [
      "collecting matches info:  72%|██████████████████████████████████████████████████████████████████████████████████████████▎                                   | 1648/2299 [1:08:00<23:56,  2.21s/it]"
     ]
    },
    {
     "name": "stdout",
     "output_type": "stream",
     "text": [
      "Found 3 word(s) missing in the model. Weighted missing percentage not covered by the given model is 3.03%.\n"
     ]
    },
    {
     "name": "stderr",
     "output_type": "stream",
     "text": [
      "collecting matches info:  72%|██████████████████████████████████████████████████████████████████████████████████████████▌                                   | 1652/2299 [1:08:08<22:01,  2.04s/it]"
     ]
    },
    {
     "name": "stdout",
     "output_type": "stream",
     "text": [
      "Found 3 word(s) missing in the model. Weighted missing percentage not covered by the given model is 2.63%.\n"
     ]
    },
    {
     "name": "stderr",
     "output_type": "stream",
     "text": [
      "collecting matches info:  72%|██████████████████████████████████████████████████████████████████████████████████████████▋                                   | 1655/2299 [1:08:14<20:34,  1.92s/it]"
     ]
    },
    {
     "name": "stdout",
     "output_type": "stream",
     "text": [
      "Found 2 word(s) missing in the model. Weighted missing percentage not covered by the given model is 5.26%.\n"
     ]
    },
    {
     "name": "stderr",
     "output_type": "stream",
     "text": [
      "collecting matches info:  72%|███████████████████████████████████████████████████████████████████████████████████████████                                   | 1662/2299 [1:08:27<20:13,  1.91s/it]"
     ]
    },
    {
     "name": "stdout",
     "output_type": "stream",
     "text": [
      "Found 1 word(s) missing in the model. Weighted missing percentage not covered by the given model is 2.50%.\n"
     ]
    },
    {
     "name": "stderr",
     "output_type": "stream",
     "text": [
      "collecting matches info:  72%|███████████████████████████████████████████████████████████████████████████████████████████▎                                  | 1666/2299 [1:08:35<19:40,  1.86s/it]"
     ]
    },
    {
     "name": "stdout",
     "output_type": "stream",
     "text": [
      "Found 1 word(s) missing in the model. Weighted missing percentage not covered by the given model is 2.94%.\n"
     ]
    },
    {
     "name": "stderr",
     "output_type": "stream",
     "text": [
      "collecting matches info:  73%|███████████████████████████████████████████████████████████████████████████████████████████▋                                  | 1672/2299 [1:08:46<19:20,  1.85s/it]"
     ]
    },
    {
     "name": "stdout",
     "output_type": "stream",
     "text": [
      "Found 3 word(s) missing in the model. Weighted missing percentage not covered by the given model is 3.70%.\n"
     ]
    },
    {
     "name": "stderr",
     "output_type": "stream",
     "text": [
      "collecting matches info:  73%|███████████████████████████████████████████████████████████████████████████████████████████▊                                  | 1675/2299 [1:08:52<19:53,  1.91s/it]"
     ]
    },
    {
     "name": "stdout",
     "output_type": "stream",
     "text": [
      "Found 1 word(s) missing in the model. Weighted missing percentage not covered by the given model is 3.70%.\n"
     ]
    },
    {
     "name": "stderr",
     "output_type": "stream",
     "text": [
      "collecting matches info:  73%|███████████████████████████████████████████████████████████████████████████████████████████▉                                  | 1678/2299 [1:08:58<20:15,  1.96s/it]"
     ]
    },
    {
     "name": "stdout",
     "output_type": "stream",
     "text": [
      "Found 1 word(s) missing in the model. Weighted missing percentage not covered by the given model is 7.14%.\n"
     ]
    },
    {
     "name": "stderr",
     "output_type": "stream",
     "text": [
      "collecting matches info:  73%|████████████████████████████████████████████████████████████████████████████████████████████▏                                 | 1682/2299 [1:09:06<21:01,  2.04s/it]"
     ]
    },
    {
     "name": "stdout",
     "output_type": "stream",
     "text": [
      "Found 3 word(s) missing in the model. Weighted missing percentage not covered by the given model is 3.41%.\n"
     ]
    },
    {
     "name": "stderr",
     "output_type": "stream",
     "text": [
      "collecting matches info:  75%|██████████████████████████████████████████████████████████████████████████████████████████████▍                               | 1722/2299 [1:10:23<18:12,  1.89s/it]"
     ]
    },
    {
     "name": "stdout",
     "output_type": "stream",
     "text": [
      "Found 1 word(s) missing in the model. Weighted missing percentage not covered by the given model is 0.73%.\n"
     ]
    },
    {
     "name": "stderr",
     "output_type": "stream",
     "text": [
      "collecting matches info:  76%|███████████████████████████████████████████████████████████████████████████████████████████████▎                              | 1739/2299 [1:10:59<19:40,  2.11s/it]"
     ]
    },
    {
     "name": "stdout",
     "output_type": "stream",
     "text": [
      "Found 1 word(s) missing in the model. Weighted missing percentage not covered by the given model is 1.69%.\n"
     ]
    },
    {
     "name": "stderr",
     "output_type": "stream",
     "text": [
      "collecting matches info:  76%|████████████████████████████████████████████████████████████████████████████████████████████████▎                             | 1758/2299 [1:11:37<16:46,  1.86s/it]"
     ]
    },
    {
     "name": "stdout",
     "output_type": "stream",
     "text": [
      "Found 1 word(s) missing in the model. Weighted missing percentage not covered by the given model is 1.41%.\n"
     ]
    },
    {
     "name": "stderr",
     "output_type": "stream",
     "text": [
      "collecting matches info:  77%|████████████████████████████████████████████████████████████████████████████████████████████████▌                             | 1761/2299 [1:11:43<16:39,  1.86s/it]"
     ]
    },
    {
     "name": "stdout",
     "output_type": "stream",
     "text": [
      "Found 2 word(s) missing in the model. Weighted missing percentage not covered by the given model is 0.78%.\n"
     ]
    },
    {
     "name": "stderr",
     "output_type": "stream",
     "text": [
      "collecting matches info:  77%|████████████████████████████████████████████████████████████████████████████████████████████████▊                             | 1766/2299 [1:11:52<16:21,  1.84s/it]"
     ]
    },
    {
     "name": "stdout",
     "output_type": "stream",
     "text": [
      "Found 1 word(s) missing in the model. Weighted missing percentage not covered by the given model is 0.26%.\n"
     ]
    },
    {
     "name": "stderr",
     "output_type": "stream",
     "text": [
      "collecting matches info:  77%|█████████████████████████████████████████████████████████████████████████████████████████████████▎                            | 1776/2299 [1:12:11<15:59,  1.83s/it]"
     ]
    },
    {
     "name": "stdout",
     "output_type": "stream",
     "text": [
      "Found 1 word(s) missing in the model. Weighted missing percentage not covered by the given model is 5.88%.\n"
     ]
    },
    {
     "name": "stderr",
     "output_type": "stream",
     "text": [
      "collecting matches info:  77%|█████████████████████████████████████████████████████████████████████████████████████████████████▌                            | 1781/2299 [1:12:20<16:06,  1.87s/it]"
     ]
    },
    {
     "name": "stdout",
     "output_type": "stream",
     "text": [
      "Found 1 word(s) missing in the model. Weighted missing percentage not covered by the given model is 1.08%.\n"
     ]
    },
    {
     "name": "stderr",
     "output_type": "stream",
     "text": [
      "\r",
      "collecting matches info:  78%|█████████████████████████████████████████████████████████████████████████████████████████████████▋                            | 1782/2299 [1:12:23<18:59,  2.20s/it]"
     ]
    },
    {
     "name": "stdout",
     "output_type": "stream",
     "text": [
      "Found 1 word(s) missing in the model. Weighted missing percentage not covered by the given model is 1.79%.\n"
     ]
    },
    {
     "name": "stderr",
     "output_type": "stream",
     "text": [
      "collecting matches info:  78%|█████████████████████████████████████████████████████████████████████████████████████████████████▊                            | 1785/2299 [1:12:29<17:28,  2.04s/it]"
     ]
    },
    {
     "name": "stdout",
     "output_type": "stream",
     "text": [
      "Found 1 word(s) missing in the model. Weighted missing percentage not covered by the given model is 2.94%.\n"
     ]
    },
    {
     "name": "stderr",
     "output_type": "stream",
     "text": [
      "\r",
      "collecting matches info:  78%|█████████████████████████████████████████████████████████████████████████████████████████████████▉                            | 1786/2299 [1:12:31<17:21,  2.03s/it]"
     ]
    },
    {
     "name": "stdout",
     "output_type": "stream",
     "text": [
      "Found 1 word(s) missing in the model. Weighted missing percentage not covered by the given model is 0.47%.\n"
     ]
    },
    {
     "name": "stderr",
     "output_type": "stream",
     "text": [
      "collecting matches info:  79%|████████████████████████████████████████████████████████████████████████████████████████████████████                          | 1826/2299 [1:13:49<15:08,  1.92s/it]"
     ]
    },
    {
     "name": "stdout",
     "output_type": "stream",
     "text": [
      "Found 1 word(s) missing in the model. Weighted missing percentage not covered by the given model is 1.27%.\n"
     ]
    },
    {
     "name": "stderr",
     "output_type": "stream",
     "text": [
      "collecting matches info:  80%|████████████████████████████████████████████████████████████████████████████████████████████████████▋                         | 1837/2299 [1:14:10<14:36,  1.90s/it]"
     ]
    },
    {
     "name": "stdout",
     "output_type": "stream",
     "text": [
      "Found 1 word(s) missing in the model. Weighted missing percentage not covered by the given model is 0.68%.\n"
     ]
    },
    {
     "name": "stderr",
     "output_type": "stream",
     "text": [
      "collecting matches info:  80%|█████████████████████████████████████████████████████████████████████████████████████████████████████                         | 1843/2299 [1:14:22<14:32,  1.91s/it]"
     ]
    },
    {
     "name": "stdout",
     "output_type": "stream",
     "text": [
      "Found 2 word(s) missing in the model. Weighted missing percentage not covered by the given model is 1.22%.\n"
     ]
    },
    {
     "name": "stderr",
     "output_type": "stream",
     "text": [
      "collecting matches info:  80%|█████████████████████████████████████████████████████████████████████████████████████████████████████                         | 1845/2299 [1:14:26<14:17,  1.89s/it]"
     ]
    },
    {
     "name": "stdout",
     "output_type": "stream",
     "text": [
      "Found 1 word(s) missing in the model. Weighted missing percentage not covered by the given model is 1.15%.\n"
     ]
    },
    {
     "name": "stderr",
     "output_type": "stream",
     "text": [
      "collecting matches info:  81%|█████████████████████████████████████████████████████████████████████████████████████████████████████▋                        | 1855/2299 [1:14:47<16:56,  2.29s/it]"
     ]
    },
    {
     "name": "stdout",
     "output_type": "stream",
     "text": [
      "Found 3 word(s) missing in the model. Weighted missing percentage not covered by the given model is 1.57%.\n"
     ]
    },
    {
     "name": "stderr",
     "output_type": "stream",
     "text": [
      "collecting matches info:  81%|█████████████████████████████████████████████████████████████████████████████████████████████████████▊                        | 1857/2299 [1:14:51<16:38,  2.26s/it]"
     ]
    },
    {
     "name": "stdout",
     "output_type": "stream",
     "text": [
      "Found 1 word(s) missing in the model. Weighted missing percentage not covered by the given model is 0.57%.\n"
     ]
    },
    {
     "name": "stderr",
     "output_type": "stream",
     "text": [
      "collecting matches info:  81%|█████████████████████████████████████████████████████████████████████████████████████████████████████▉                        | 1861/2299 [1:15:01<16:33,  2.27s/it]"
     ]
    },
    {
     "name": "stdout",
     "output_type": "stream",
     "text": [
      "Found 1 word(s) missing in the model. Weighted missing percentage not covered by the given model is 0.88%.\n"
     ]
    },
    {
     "name": "stderr",
     "output_type": "stream",
     "text": [
      "collecting matches info:  81%|██████████████████████████████████████████████████████████████████████████████████████████████████████▏                       | 1865/2299 [1:15:08<14:32,  2.01s/it]"
     ]
    },
    {
     "name": "stdout",
     "output_type": "stream",
     "text": [
      "Found 2 word(s) missing in the model. Weighted missing percentage not covered by the given model is 0.52%.\n"
     ]
    },
    {
     "name": "stderr",
     "output_type": "stream",
     "text": [
      "\r",
      "collecting matches info:  81%|██████████████████████████████████████████████████████████████████████████████████████████████████████▎                       | 1866/2299 [1:15:10<14:12,  1.97s/it]"
     ]
    },
    {
     "name": "stdout",
     "output_type": "stream",
     "text": [
      "Found 1 word(s) missing in the model. Weighted missing percentage not covered by the given model is 0.28%.\n"
     ]
    },
    {
     "name": "stderr",
     "output_type": "stream",
     "text": [
      "collecting matches info:  81%|██████████████████████████████████████████████████████████████████████████████████████████████████████▌                       | 1872/2299 [1:15:22<13:53,  1.95s/it]"
     ]
    },
    {
     "name": "stdout",
     "output_type": "stream",
     "text": [
      "Found 3 word(s) missing in the model. Weighted missing percentage not covered by the given model is 1.83%.\n"
     ]
    },
    {
     "name": "stderr",
     "output_type": "stream",
     "text": [
      "collecting matches info:  87%|█████████████████████████████████████████████████████████████████████████████████████████████████████████████                 | 1989/2299 [1:19:10<10:13,  1.98s/it]"
     ]
    },
    {
     "name": "stdout",
     "output_type": "stream",
     "text": [
      "Found 1 word(s) missing in the model. Weighted missing percentage not covered by the given model is 0.45%.\n"
     ]
    },
    {
     "name": "stderr",
     "output_type": "stream",
     "text": [
      "collecting matches info:  87%|█████████████████████████████████████████████████████████████████████████████████████████████████████████████▋                | 2002/2299 [1:19:36<10:04,  2.04s/it]"
     ]
    },
    {
     "name": "stdout",
     "output_type": "stream",
     "text": [
      "Found 1 word(s) missing in the model. Weighted missing percentage not covered by the given model is 0.40%.\n"
     ]
    },
    {
     "name": "stderr",
     "output_type": "stream",
     "text": [
      "collecting matches info:  87%|█████████████████████████████████████████████████████████████████████████████████████████████████████████████▉                | 2007/2299 [1:19:48<11:35,  2.38s/it]"
     ]
    },
    {
     "name": "stdout",
     "output_type": "stream",
     "text": [
      "Found 1 word(s) missing in the model. Weighted missing percentage not covered by the given model is 0.71%.\n"
     ]
    },
    {
     "name": "stderr",
     "output_type": "stream",
     "text": [
      "collecting matches info:  88%|██████████████████████████████████████████████████████████████████████████████████████████████████████████████▎               | 2013/2299 [1:19:59<09:14,  1.94s/it]"
     ]
    },
    {
     "name": "stdout",
     "output_type": "stream",
     "text": [
      "Found 1 word(s) missing in the model. Weighted missing percentage not covered by the given model is 3.12%.\n"
     ]
    },
    {
     "name": "stderr",
     "output_type": "stream",
     "text": [
      "collecting matches info:  88%|███████████████████████████████████████████████████████████████████████████████████████████████████████████████               | 2026/2299 [1:20:24<08:32,  1.88s/it]"
     ]
    },
    {
     "name": "stdout",
     "output_type": "stream",
     "text": [
      "Found 1 word(s) missing in the model. Weighted missing percentage not covered by the given model is 0.38%.\n"
     ]
    },
    {
     "name": "stderr",
     "output_type": "stream",
     "text": [
      "collecting matches info:  88%|███████████████████████████████████████████████████████████████████████████████████████████████████████████████▏              | 2028/2299 [1:20:27<08:28,  1.88s/it]"
     ]
    },
    {
     "name": "stdout",
     "output_type": "stream",
     "text": [
      "Found 1 word(s) missing in the model. Weighted missing percentage not covered by the given model is 0.38%.\n"
     ]
    },
    {
     "name": "stderr",
     "output_type": "stream",
     "text": [
      "collecting matches info:  88%|███████████████████████████████████████████████████████████████████████████████████████████████████████████████▍              | 2033/2299 [1:20:37<08:11,  1.85s/it]"
     ]
    },
    {
     "name": "stdout",
     "output_type": "stream",
     "text": [
      "Found 1 word(s) missing in the model. Weighted missing percentage not covered by the given model is 0.36%.\n"
     ]
    },
    {
     "name": "stderr",
     "output_type": "stream",
     "text": [
      "\r",
      "collecting matches info:  88%|███████████████████████████████████████████████████████████████████████████████████████████████████████████████▍              | 2034/2299 [1:20:39<08:56,  2.03s/it]"
     ]
    },
    {
     "name": "stdout",
     "output_type": "stream",
     "text": [
      "Found 2 word(s) missing in the model. Weighted missing percentage not covered by the given model is 0.76%.\n"
     ]
    },
    {
     "name": "stderr",
     "output_type": "stream",
     "text": [
      "collecting matches info:  89%|███████████████████████████████████████████████████████████████████████████████████████████████████████████████▉              | 2043/2299 [1:20:56<07:54,  1.85s/it]"
     ]
    },
    {
     "name": "stdout",
     "output_type": "stream",
     "text": [
      "Found 2 word(s) missing in the model. Weighted missing percentage not covered by the given model is 2.78%.\n"
     ]
    },
    {
     "name": "stderr",
     "output_type": "stream",
     "text": [
      "collecting matches info:  90%|█████████████████████████████████████████████████████████████████████████████████████████████████████████████████▉            | 2080/2299 [1:22:06<06:57,  1.90s/it]"
     ]
    },
    {
     "name": "stdout",
     "output_type": "stream",
     "text": [
      "Found 1 word(s) missing in the model. Weighted missing percentage not covered by the given model is 0.44%.\n"
     ]
    },
    {
     "name": "stderr",
     "output_type": "stream",
     "text": [
      "\r",
      "collecting matches info:  91%|██████████████████████████████████████████████████████████████████████████████████████████████████████████████████            | 2081/2299 [1:22:08<06:54,  1.90s/it]"
     ]
    },
    {
     "name": "stdout",
     "output_type": "stream",
     "text": [
      "Found 1 word(s) missing in the model. Weighted missing percentage not covered by the given model is 0.41%.\n"
     ]
    },
    {
     "name": "stderr",
     "output_type": "stream",
     "text": [
      "collecting matches info:  91%|██████████████████████████████████████████████████████████████████████████████████████████████████████████████████▎           | 2086/2299 [1:22:17<06:50,  1.93s/it]"
     ]
    },
    {
     "name": "stdout",
     "output_type": "stream",
     "text": [
      "Found 1 word(s) missing in the model. Weighted missing percentage not covered by the given model is 0.34%.\n"
     ]
    },
    {
     "name": "stderr",
     "output_type": "stream",
     "text": [
      "collecting matches info:  91%|██████████████████████████████████████████████████████████████████████████████████████████████████████████████████▍           | 2088/2299 [1:22:21<07:00,  1.99s/it]"
     ]
    },
    {
     "name": "stdout",
     "output_type": "stream",
     "text": [
      "Found 1 word(s) missing in the model. Weighted missing percentage not covered by the given model is 0.34%.\n"
     ]
    },
    {
     "name": "stderr",
     "output_type": "stream",
     "text": [
      "collecting matches info:  92%|███████████████████████████████████████████████████████████████████████████████████████████████████████████████████▎          | 2105/2299 [1:22:55<06:26,  1.99s/it]"
     ]
    },
    {
     "name": "stdout",
     "output_type": "stream",
     "text": [
      "Found 1 word(s) missing in the model. Weighted missing percentage not covered by the given model is 5.26%.\n"
     ]
    },
    {
     "name": "stderr",
     "output_type": "stream",
     "text": [
      "collecting matches info:  92%|███████████████████████████████████████████████████████████████████████████████████████████████████████████████████▋          | 2110/2299 [1:23:07<07:32,  2.39s/it]"
     ]
    },
    {
     "name": "stdout",
     "output_type": "stream",
     "text": [
      "Found 1 word(s) missing in the model. Weighted missing percentage not covered by the given model is 0.31%.\n"
     ]
    },
    {
     "name": "stderr",
     "output_type": "stream",
     "text": [
      "collecting matches info:  92%|████████████████████████████████████████████████████████████████████████████████████████████████████████████████████▌         | 2126/2299 [1:23:39<05:30,  1.91s/it]"
     ]
    },
    {
     "name": "stdout",
     "output_type": "stream",
     "text": [
      "Found 1 word(s) missing in the model. Weighted missing percentage not covered by the given model is 5.56%.\n"
     ]
    },
    {
     "name": "stderr",
     "output_type": "stream",
     "text": [
      "collecting matches info:  93%|█████████████████████████████████████████████████████████████████████████████████████████████████████████████████████▏        | 2138/2299 [1:24:02<05:07,  1.91s/it]"
     ]
    },
    {
     "name": "stdout",
     "output_type": "stream",
     "text": [
      "Found 1 word(s) missing in the model. Weighted missing percentage not covered by the given model is 5.56%.\n"
     ]
    },
    {
     "name": "stderr",
     "output_type": "stream",
     "text": [
      "\r",
      "collecting matches info:  93%|█████████████████████████████████████████████████████████████████████████████████████████████████████████████████████▏        | 2139/2299 [1:24:04<05:03,  1.89s/it]"
     ]
    },
    {
     "name": "stdout",
     "output_type": "stream",
     "text": [
      "Found 1 word(s) missing in the model. Weighted missing percentage not covered by the given model is 5.88%.\n"
     ]
    },
    {
     "name": "stderr",
     "output_type": "stream",
     "text": [
      "collecting matches info:  93%|█████████████████████████████████████████████████████████████████████████████████████████████████████████████████████▍        | 2142/2299 [1:24:10<05:08,  1.97s/it]"
     ]
    },
    {
     "name": "stdout",
     "output_type": "stream",
     "text": [
      "Found 1 word(s) missing in the model. Weighted missing percentage not covered by the given model is 4.55%.\n"
     ]
    },
    {
     "name": "stderr",
     "output_type": "stream",
     "text": [
      "collecting matches info:  94%|█████████████████████████████████████████████████████████████████████████████████████████████████████████████████████▉        | 2151/2299 [1:24:28<04:58,  2.02s/it]"
     ]
    },
    {
     "name": "stdout",
     "output_type": "stream",
     "text": [
      "Found 2 word(s) missing in the model. Weighted missing percentage not covered by the given model is 5.56%.\n"
     ]
    },
    {
     "name": "stderr",
     "output_type": "stream",
     "text": [
      "collecting matches info:  94%|██████████████████████████████████████████████████████████████████████████████████████████████████████████████████████▎       | 2158/2299 [1:24:41<04:29,  1.91s/it]"
     ]
    },
    {
     "name": "stdout",
     "output_type": "stream",
     "text": [
      "Found 1 word(s) missing in the model. Weighted missing percentage not covered by the given model is 5.56%.\n"
     ]
    },
    {
     "name": "stderr",
     "output_type": "stream",
     "text": [
      "collecting matches info:  94%|██████████████████████████████████████████████████████████████████████████████████████████████████████████████████████▊       | 2167/2299 [1:24:59<04:10,  1.90s/it]"
     ]
    },
    {
     "name": "stdout",
     "output_type": "stream",
     "text": [
      "Found 1 word(s) missing in the model. Weighted missing percentage not covered by the given model is 5.88%.\n"
     ]
    },
    {
     "name": "stderr",
     "output_type": "stream",
     "text": [
      "\r",
      "collecting matches info:  94%|██████████████████████████████████████████████████████████████████████████████████████████████████████████████████████▊       | 2168/2299 [1:25:00<04:07,  1.89s/it]"
     ]
    },
    {
     "name": "stdout",
     "output_type": "stream",
     "text": [
      "Found 1 word(s) missing in the model. Weighted missing percentage not covered by the given model is 4.00%.\n"
     ]
    },
    {
     "name": "stderr",
     "output_type": "stream",
     "text": [
      "collecting matches info:  95%|███████████████████████████████████████████████████████████████████████████████████████████████████████████████████████▍      | 2179/2299 [1:25:21<03:49,  1.91s/it]"
     ]
    },
    {
     "name": "stdout",
     "output_type": "stream",
     "text": [
      "Found 3 word(s) missing in the model. Weighted missing percentage not covered by the given model is 10.00%.\n"
     ]
    },
    {
     "name": "stderr",
     "output_type": "stream",
     "text": [
      "collecting matches info:  95%|███████████████████████████████████████████████████████████████████████████████████████████████████████████████████████▌      | 2182/2299 [1:25:27<03:42,  1.90s/it]"
     ]
    },
    {
     "name": "stdout",
     "output_type": "stream",
     "text": [
      "Found 1 word(s) missing in the model. Weighted missing percentage not covered by the given model is 4.55%.\n"
     ]
    },
    {
     "name": "stderr",
     "output_type": "stream",
     "text": [
      "collecting matches info:  96%|████████████████████████████████████████████████████████████████████████████████████████████████████████████████████████▌     | 2200/2299 [1:26:02<03:11,  1.94s/it]"
     ]
    },
    {
     "name": "stdout",
     "output_type": "stream",
     "text": [
      "Found 3 word(s) missing in the model. Weighted missing percentage not covered by the given model is 0.80%.\n"
     ]
    },
    {
     "name": "stderr",
     "output_type": "stream",
     "text": [
      "\r",
      "collecting matches info:  96%|████████████████████████████████████████████████████████████████████████████████████████████████████████████████████████▋     | 2201/2299 [1:26:04<03:10,  1.95s/it]"
     ]
    },
    {
     "name": "stdout",
     "output_type": "stream",
     "text": [
      "Found 4 word(s) missing in the model. Weighted missing percentage not covered by the given model is 2.88%.\n"
     ]
    },
    {
     "name": "stderr",
     "output_type": "stream",
     "text": [
      "collecting matches info:  96%|████████████████████████████████████████████████████████████████████████████████████████████████████████████████████████▋     | 2203/2299 [1:26:08<03:05,  1.93s/it]"
     ]
    },
    {
     "name": "stdout",
     "output_type": "stream",
     "text": [
      "Found 5 word(s) missing in the model. Weighted missing percentage not covered by the given model is 3.33%.\n"
     ]
    },
    {
     "name": "stderr",
     "output_type": "stream",
     "text": [
      "collecting matches info:  96%|████████████████████████████████████████████████████████████████████████████████████████████████████████████████████████▉     | 2206/2299 [1:26:13<02:56,  1.89s/it]"
     ]
    },
    {
     "name": "stdout",
     "output_type": "stream",
     "text": [
      "Found 7 word(s) missing in the model. Weighted missing percentage not covered by the given model is 5.15%.\n"
     ]
    },
    {
     "name": "stderr",
     "output_type": "stream",
     "text": [
      "collecting matches info:  96%|█████████████████████████████████████████████████████████████████████████████████████████████████████████████████████████     | 2208/2299 [1:26:17<02:50,  1.87s/it]"
     ]
    },
    {
     "name": "stdout",
     "output_type": "stream",
     "text": [
      "Found 5 word(s) missing in the model. Weighted missing percentage not covered by the given model is 3.25%.\n"
     ]
    },
    {
     "name": "stderr",
     "output_type": "stream",
     "text": [
      "collecting matches info:  96%|█████████████████████████████████████████████████████████████████████████████████████████████████████████████████████████▏    | 2211/2299 [1:26:23<02:45,  1.88s/it]"
     ]
    },
    {
     "name": "stdout",
     "output_type": "stream",
     "text": [
      "Found 6 word(s) missing in the model. Weighted missing percentage not covered by the given model is 2.23%.\n"
     ]
    },
    {
     "name": "stderr",
     "output_type": "stream",
     "text": [
      "collecting matches info:  96%|█████████████████████████████████████████████████████████████████████████████████████████████████████████████████████████▍    | 2215/2299 [1:26:30<02:39,  1.90s/it]"
     ]
    },
    {
     "name": "stdout",
     "output_type": "stream",
     "text": [
      "Found 6 word(s) missing in the model. Weighted missing percentage not covered by the given model is 2.19%.\n"
     ]
    },
    {
     "name": "stderr",
     "output_type": "stream",
     "text": [
      "collecting matches info:  96%|█████████████████████████████████████████████████████████████████████████████████████████████████████████████████████████▌    | 2218/2299 [1:26:36<02:33,  1.89s/it]"
     ]
    },
    {
     "name": "stdout",
     "output_type": "stream",
     "text": [
      "Found 1 word(s) missing in the model. Weighted missing percentage not covered by the given model is 0.37%.\n"
     ]
    },
    {
     "name": "stderr",
     "output_type": "stream",
     "text": [
      "collecting matches info:  97%|█████████████████████████████████████████████████████████████████████████████████████████████████████████████████████████▋    | 2221/2299 [1:26:42<02:26,  1.88s/it]"
     ]
    },
    {
     "name": "stdout",
     "output_type": "stream",
     "text": [
      "Found 9 word(s) missing in the model. Weighted missing percentage not covered by the given model is 3.32%.\n"
     ]
    },
    {
     "name": "stderr",
     "output_type": "stream",
     "text": [
      "collecting matches info:  97%|█████████████████████████████████████████████████████████████████████████████████████████████████████████████████████████▊    | 2223/2299 [1:26:45<02:25,  1.92s/it]"
     ]
    },
    {
     "name": "stdout",
     "output_type": "stream",
     "text": [
      "Found 1 word(s) missing in the model. Weighted missing percentage not covered by the given model is 0.38%.\n"
     ]
    },
    {
     "name": "stderr",
     "output_type": "stream",
     "text": [
      "\r",
      "collecting matches info:  97%|█████████████████████████████████████████████████████████████████████████████████████████████████████████████████████████▉    | 2224/2299 [1:26:47<02:21,  1.89s/it]"
     ]
    },
    {
     "name": "stdout",
     "output_type": "stream",
     "text": [
      "Found 8 word(s) missing in the model. Weighted missing percentage not covered by the given model is 2.99%.\n"
     ]
    },
    {
     "name": "stderr",
     "output_type": "stream",
     "text": [
      "collecting matches info:  97%|██████████████████████████████████████████████████████████████████████████████████████████████████████████████████████████▎   | 2232/2299 [1:27:02<02:07,  1.91s/it]"
     ]
    },
    {
     "name": "stdout",
     "output_type": "stream",
     "text": [
      "Found 1 word(s) missing in the model. Weighted missing percentage not covered by the given model is 0.37%.\n"
     ]
    },
    {
     "name": "stderr",
     "output_type": "stream",
     "text": [
      "collecting matches info:  97%|██████████████████████████████████████████████████████████████████████████████████████████████████████████████████████████▌   | 2237/2299 [1:27:12<01:56,  1.88s/it]"
     ]
    },
    {
     "name": "stdout",
     "output_type": "stream",
     "text": [
      "Found 3 word(s) missing in the model. Weighted missing percentage not covered by the given model is 1.12%.\n"
     ]
    },
    {
     "name": "stderr",
     "output_type": "stream",
     "text": [
      "collecting matches info:  99%|████████████████████████████████████████████████████████████████████████████████████████████████████████████████████████████▋ | 2276/2299 [1:28:27<00:46,  2.02s/it]"
     ]
    },
    {
     "name": "stdout",
     "output_type": "stream",
     "text": [
      "Found 1 word(s) missing in the model. Weighted missing percentage not covered by the given model is 2.22%.\n"
     ]
    },
    {
     "name": "stderr",
     "output_type": "stream",
     "text": [
      "collecting matches info:  99%|█████████████████████████████████████████████████████████████████████████████████████████████████████████████████████████████▏| 2284/2299 [1:28:42<00:27,  1.86s/it]"
     ]
    },
    {
     "name": "stdout",
     "output_type": "stream",
     "text": [
      "Found 1 word(s) missing in the model. Weighted missing percentage not covered by the given model is 0.60%.\n"
     ]
    },
    {
     "name": "stderr",
     "output_type": "stream",
     "text": [
      "collecting matches info: 100%|█████████████████████████████████████████████████████████████████████████████████████████████████████████████████████████████▌| 2290/2299 [1:28:53<00:16,  1.87s/it]"
     ]
    },
    {
     "name": "stdout",
     "output_type": "stream",
     "text": [
      "Found 3 word(s) missing in the model. Weighted missing percentage not covered by the given model is 4.62%.\n"
     ]
    },
    {
     "name": "stderr",
     "output_type": "stream",
     "text": [
      "collecting matches info: 100%|█████████████████████████████████████████████████████████████████████████████████████████████████████████████████████████████▌| 2292/2299 [1:28:57<00:13,  1.88s/it]"
     ]
    },
    {
     "name": "stdout",
     "output_type": "stream",
     "text": [
      "Found 3 word(s) missing in the model. Weighted missing percentage not covered by the given model is 0.96%.\n"
     ]
    },
    {
     "name": "stderr",
     "output_type": "stream",
     "text": [
      "collecting matches info: 100%|█████████████████████████████████████████████████████████████████████████████████████████████████████████████████████████████▊| 2295/2299 [1:29:03<00:07,  1.89s/it]"
     ]
    },
    {
     "name": "stdout",
     "output_type": "stream",
     "text": [
      "Found 2 word(s) missing in the model. Weighted missing percentage not covered by the given model is 0.70%.\n"
     ]
    },
    {
     "name": "stderr",
     "output_type": "stream",
     "text": [
      "collecting matches info: 100%|█████████████████████████████████████████████████████████████████████████████████████████████████████████████████████████████▉| 2297/2299 [1:29:06<00:03,  1.90s/it]"
     ]
    },
    {
     "name": "stdout",
     "output_type": "stream",
     "text": [
      "Found 4 word(s) missing in the model. Weighted missing percentage not covered by the given model is 1.27%.\n"
     ]
    },
    {
     "name": "stderr",
     "output_type": "stream",
     "text": [
      "\r",
      "collecting matches info: 100%|█████████████████████████████████████████████████████████████████████████████████████████████████████████████████████████████▉| 2298/2299 [1:29:08<00:01,  1.94s/it]"
     ]
    },
    {
     "name": "stdout",
     "output_type": "stream",
     "text": [
      "Found 1 word(s) missing in the model. Weighted missing percentage not covered by the given model is 0.35%.\n"
     ]
    },
    {
     "name": "stderr",
     "output_type": "stream",
     "text": [
      "collecting matches info: 100%|██████████████████████████████████████████████████████████████████████████████████████████████████████████████████████████████| 2299/2299 [1:29:10<00:00,  2.33s/it]\n"
     ]
    }
   ],
   "source": [
    "ms2query_model = \"../downloads/gnps_210409/train_ms2query_model/ms2query_model_all_scores.hdf5\"\n",
    "ms2library = MS2Library(sqlite_file, s2v_model_file, ms2ds_model_file, s2v_embeddings_file, ms2ds_embeddings_file)\n",
    "print(\"Calculating all MS2DS scores\")\n",
    "\n",
    "result = ms2library.select_best_matches(validation_spectra_without_match, ms2query_model, preselection_cut_off = 2000)\n",
    "import pickle\n",
    "pickle.dump(result, open(\"../downloads/gnps_210409/train_ms2query_model/results_with_match_all_scores.pickle\", \"wb\"))"
   ]
  },
  {
   "cell_type": "code",
   "execution_count": 374,
   "metadata": {},
   "outputs": [],
   "source": [
    "from ms2query.query_from_sqlite_database import get_metadata_from_sqlite\n",
    "from matplotlib import pyplot as plt\n",
    "import numpy as np\n",
    "\n",
    "tanimoto_scores_df_file = \"../downloads/gnps_210409/ALL_GNPS_210409_positive_tanimoto_scores.pickle\"\n",
    "\n",
    "\n",
    "def select_best_match_and_calculate_tanimoto_score(\n",
    "    result_matches, tanimoto_scores_file, query_spectra, sqlite_file_location, select_on_MS2Query = True):\n",
    "    \"\"\"Returns a list with all the ms2query scores and tanimoto scores for the best matches\"\"\"\n",
    "    \n",
    "    tanimoto_scores = load_pickled_file(tanimoto_scores_file)\n",
    "    ms2query_scores_and_tanimoto = []\n",
    "    \n",
    "    for query_spectrum in query_spectra:\n",
    "        query_spectrum_id = query_spectrum.get(\"spectrumid\")\n",
    "        query_spectrum_inchikey = query_spectrum.get(\"inchikey\")[:14]\n",
    "        \n",
    "        if select_on_MS2Query:\n",
    "            best_match = result_matches[query_spectrum_id].iloc[0]\n",
    "            best_match_score = best_match.loc[\"ms2query_model_prediction\"]\n",
    "            best_match_spectrum_id = best_match.name\n",
    "\n",
    "        else:\n",
    "            # Selection on highest MS2Deepscore\n",
    "            best_match_spectrum_id = result_matches[query_spectrum_id][\"ms2ds_score\"].idxmax()\n",
    "            best_match_score = result_matches[query_spectrum_id][\"ms2ds_score\"].max()\n",
    "\n",
    "        best_match_inchikey = get_metadata_from_sqlite(\n",
    "            sqlite_file_location, [best_match_spectrum_id], \"spectrumid\")[best_match_spectrum_id][\"inchikey\"][:14]\n",
    "        tanimoto_score = tanimoto_scores.loc[best_match_inchikey, query_spectrum_inchikey]\n",
    "        \n",
    "        ms2query_scores_and_tanimoto.append((best_match_score, tanimoto_score))\n",
    "    return ms2query_scores_and_tanimoto\n",
    "        \n",
    "\n",
    "def plot_tanimoto_score_distribution_for_ms2query_cut_offs(ms2query_scores_and_tanimoto, cut_offs, legend_title):\n",
    "    bins = np.linspace(0, 1, 11)\n",
    "\n",
    "    weight_to_convert_to_percentage = 100/len(ms2query_scores_and_tanimoto)\n",
    "\n",
    "    for cut_off in cut_offs:\n",
    "        selected_scores = [scores[1] for scores in ms2query_scores_and_tanimoto if scores[0] > cut_off]\n",
    "        print(len(selected_scores)/len(ms2query_scores_and_tanimoto))\n",
    "        weights = [weight_to_convert_to_percentage] * len(selected_scores)\n",
    "        \n",
    "        plt.hist(selected_scores, bins, label = f\"{cut_off:.2f}\", weights = weights)\n",
    "    \n",
    "    plt.legend(loc = \"upper center\", title = \"Minimal MS2Deepscore\", ncol = 3)\n",
    "    plt.xlabel(\"tanimoto_score\")\n",
    "    plt.ylabel(\"Percentage of matches (%)\")\n",
    "    plt.ylim(0, 25)\n",
    "\n",
    "    plt.show\n",
    "    \n",
    "def avg_tanimoto_vs_percentage_found(selection_criteria_and_tanimoto, cut_off_maximum, steps, legend_label):\n",
    "    cut_offs = {}\n",
    "    percentages_found = []\n",
    "    average_tanimoto_score = []\n",
    "    for i in range(steps):\n",
    "        cut_off = cut_off_maximum/steps * i\n",
    "        selected_scores = [scores[1] for scores in selection_criteria_and_tanimoto if scores[0] > cut_off]\n",
    "        percentages_found.append(len(selected_scores)/len(selection_criteria_and_tanimoto)*100)\n",
    "        average_tanimoto_score.append(sum(selected_scores)/len(selected_scores))\n",
    "    plt.plot(percentages_found, average_tanimoto_score, label = legend_label)\n",
    "    plt.xlim(100,0)\n",
    "    plt.ylim(0, 1)\n",
    "    plt.xlabel(\"Percentage matches found\")\n",
    "    plt.ylabel(\"Average tanimoto score\")\n",
    "    plt.legend(loc = \"lower right\", title = \"Select on highest:\")\n",
    "    plt.show\n",
    "    \n",
    "def compare_tanimoto_score_distribution(ms2query_scores_and_tanimoto, ms2deepscore_scores_and_tanimoto, cut_off_ms2q, cut_off_ms2d):\n",
    "    bins = np.linspace(0, 1, 11)\n",
    "\n",
    "    \n",
    "    # Select scores for ms2query\n",
    "    selected_scores_ms2q = [scores[1] for scores in ms2query_scores_and_tanimoto if scores[0] > cut_off_ms2q]\n",
    "    ms2q_percentage_selected = len(selected_scores_ms2q)/len(ms2query_scores_and_tanimoto)*100\n",
    "    \n",
    "    weight_to_convert_to_percentage = 100/len(ms2query_scores_and_tanimoto)\n",
    "    weights_ms2q = [weight_to_convert_to_percentage] * len(selected_scores_ms2q)\n",
    "\n",
    "    # Select scores for ms2ds\n",
    "    selected_scores_ms2d = [scores[1] for scores in ms2deepscore_scores_and_tanimoto if scores[0] > cut_off_ms2d]\n",
    "    ms2d_percentage_selected = len(selected_scores_ms2d)/len(ms2deepscore_scores_and_tanimoto)*100\n",
    "    \n",
    "    weight_to_convert_to_percentage = 100/len(ms2deepscore_scores_and_tanimoto)\n",
    "    weights_ms2d = [weight_to_convert_to_percentage] * len(selected_scores_ms2d)\n",
    "    \n",
    "    \n",
    "    plt.hist([selected_scores_ms2q, selected_scores_ms2d], bins, label = [f\"MS2Query\", \"MS2Deepscore\"], weights = [weights_ms2q, weights_ms2d])\n",
    "    \n",
    "    plt.legend(loc = \"upper center\", title = \"Select on:\")\n",
    "    plt.xlabel(\"tanimoto_score\")\n",
    "    plt.ylabel(\"Percentage of matches (%)\")\n",
    "    plt.ylim(0, 25)\n",
    "\n",
    "    plt.show"
   ]
  },
  {
   "cell_type": "code",
   "execution_count": 362,
   "metadata": {},
   "outputs": [],
   "source": [
    "results_file = \"../downloads/gnps_210409/train_ms2query_model/results_with_match_all_scores.pickle\"\n",
    "results = load_pickled_file(results_file)\n",
    "\n",
    "ms2query_and_tanimoto = select_best_match_and_calculate_tanimoto_score(\n",
    "    results, tanimoto_scores_df_file, validation_spectra_without_match, sqlite_file)\n"
   ]
  },
  {
   "cell_type": "code",
   "execution_count": 345,
   "metadata": {},
   "outputs": [],
   "source": [
    "ms2ds_and_tanimoto = select_best_match_and_calculate_tanimoto_score(\n",
    "    results, tanimoto_scores_df_file, validation_spectra_without_match, sqlite_file, False)"
   ]
  },
  {
   "cell_type": "code",
   "execution_count": 378,
   "metadata": {},
   "outputs": [
    {
     "data": {
      "image/png": "[encoded data removed]",
      "text/plain": [
       "<Figure size 432x288 with 1 Axes>"
      ]
     },
     "metadata": {
      "needs_background": "light"
     },
     "output_type": "display_data"
    }
   ],
   "source": [
    "# plot_tanimoto_score_distribution_for_ms2query_cut_offs(ms2query_and_tanimoto, [0,0.5,0.6,0.7,0.8,0.9], \"Minimal MS2Query score\")\n",
    "# plot_tanimoto_score_distribution_for_ms2query_cut_offs(ms2ds_and_tanimoto, [0,0.8,0.9,0.95, 0.97, 0.99], \"Minimal MS2Deepscore\")\n",
    "# plot_tanimoto_score_distribution_for_ms2query_cut_offs(ms2query_and_tanimoto, [0.753], \"Minimal MS2Query score\")\n",
    "# plot_tanimoto_score_distribution_for_ms2query_cut_offs(ms2ds_and_tanimoto, [0.9415], \"Minimal MS2Deepscore\")\n",
    "# plot_tanimoto_score_distribution_for_ms2query_cut_offs(ms2query_and_tanimoto, [0.903], \"Minimal MS2Query score\")\n",
    "# plot_tanimoto_score_distribution_for_ms2query_cut_offs(ms2ds_and_tanimoto, [0.9745], \"Minimal MS2Deepscore\")\n",
    "# compare_tanimoto_score_distribution(ms2query_and_tanimoto, ms2ds_and_tanimoto, 0.753, 0.9415)\n",
    "compare_tanimoto_score_distribution(ms2query_and_tanimoto, ms2ds_and_tanimoto, 0.903, 0.9745)"
   ]
  },
  {
   "cell_type": "code",
   "execution_count": 221,
   "metadata": {},
   "outputs": [
    {
     "data": {
      "image/png": "[encoded data removed]",
      "text/plain": [
       "<Figure size 432x288 with 1 Axes>"
      ]
     },
     "metadata": {
      "needs_background": "light"
     },
     "output_type": "display_data"
    }
   ],
   "source": [
    "avg_tanimoto_vs_percentage_found(ms2query_and_tanimoto, 1.1, 100, \"MS2Query score\")\n",
    "avg_tanimoto_vs_percentage_found(ms2query_and_tanimoto_selected_on_ms2ds, 1, 1000, \"MS2Deepscore\")\n"
   ]
  },
  {
   "cell_type": "code",
   "execution_count": null,
   "metadata": {},
   "outputs": [],
   "source": []
  }
 ],
 "metadata": {
  "kernelspec": {
   "display_name": "Python 3",
   "language": "python",
   "name": "python3"
  },
  "language_info": {
   "codemirror_mode": {
    "name": "ipython",
    "version": 3
   },
   "file_extension": ".py",
   "mimetype": "text/x-python",
   "name": "python",
   "nbconvert_exporter": "python",
   "pygments_lexer": "ipython3",
   "version": "3.8.5"
  }
 },
 "nbformat": 4,
 "nbformat_minor": 4
}
