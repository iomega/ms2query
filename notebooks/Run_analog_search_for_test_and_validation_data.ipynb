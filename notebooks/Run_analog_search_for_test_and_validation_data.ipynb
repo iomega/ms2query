{
 "cells": [
  {
   "cell_type": "markdown",
   "metadata": {},
   "source": [
    "# Run analog search for test and validation data"
   ]
  },
  {
   "cell_type": "markdown",
   "metadata": {},
   "source": [
    "Import files"
   ]
  },
  {
   "cell_type": "code",
   "execution_count": 1,
   "metadata": {},
   "outputs": [],
   "source": [
    "# The sys.stdout statements is to resolve proplems with printing statements in jupyter notebook, \n",
    "# when removed progress updates printed are not shown in the notebookr\n",
    "import sys\n",
    "stdout = sys.stdout\n",
    "\n",
    "from ms2query.ms2library import MS2Library\n",
    "sys.stdout = stdout\n",
    "\n",
    "tanimoto_scores_df_file = \"../downloads/gnps_210409/ALL_GNPS_210409_positive_tanimoto_scores.pickle\"\n",
    "sqlite_file =  \"../downloads/gnps_210409/spectra/ALL_GNPS_210409_train_split.sqlite\"\n",
    "\n",
    "# Models\n",
    "s2v_model_file = \"../downloads/gnps_210409/models/ALL_GNPS_210409_Spec2Vec_ms2query.model\"\n",
    "ms2ds_model_file = \"../downloads/gnps_210409/models/ms2ds_20210420-141937_data210409_10k_500_500_200.hdf5\"\n",
    "ms2query_model = \"../downloads/gnps_210409/train_ms2query_model/ms2query_model_all_scores_dropout_regularization.hdf5\"\n",
    "\n",
    "# Embeddings\n",
    "s2v_embeddings_file =  \"../downloads/gnps_210409/embeddings/s2v_embeddings_train_spectra_210426.pickle\"\n",
    "ms2ds_embeddings_file =  \"../downloads/gnps_210409/embeddings/ms2ds_embeddings_train_spectra_210426.pickle\""
   ]
  },
  {
   "cell_type": "markdown",
   "metadata": {},
   "source": [
    "### Split test spectra into spectra with library matches and spectra without library matches\n",
    "The test spectra contain 2250 spectra (of 250 inchikeys) that do not have any match in the library and 2000 spectra that have at least one match in the library. "
   ]
  },
  {
   "cell_type": "code",
   "execution_count": 3,
   "metadata": {},
   "outputs": [],
   "source": [
    "from ms2query.utils import load_pickled_file\n",
    "\n",
    "test_spectra = load_pickled_file(\"../downloads/gnps_210409/spectra/ALL_GNPS_210409_test_split.pickle\")\n",
    "test_spectra_without_match = test_spectra[:2250]"
   ]
  },
  {
   "cell_type": "markdown",
   "metadata": {},
   "source": [
    "Run analog library search is over the test set, using the model trained with dropout regularization"
   ]
  },
  {
   "cell_type": "code",
   "execution_count": 4,
   "metadata": {},
   "outputs": [
    {
     "name": "stdout",
     "output_type": "stream",
     "text": [
      "Calculating all MS2DS scores\n"
     ]
    },
    {
     "name": "stderr",
     "output_type": "stream",
     "text": [
      "collecting matches info:   1%|█                                                                                                                                 | 19/2250 [00:08<06:17,  5.90it/s]"
     ]
    },
    {
     "name": "stdout",
     "output_type": "stream",
     "text": [
      "Found 1 word(s) missing in the model. Weighted missing percentage not covered by the given model is 0.47%.\n"
     ]
    },
    {
     "name": "stderr",
     "output_type": "stream",
     "text": [
      "collecting matches info:   4%|█████▋                                                                                                                            | 98/2250 [00:27<08:06,  4.43it/s]"
     ]
    },
    {
     "name": "stdout",
     "output_type": "stream",
     "text": [
      "Found 3 word(s) missing in the model. Weighted missing percentage not covered by the given model is 0.90%.\n"
     ]
    },
    {
     "name": "stderr",
     "output_type": "stream",
     "text": [
      "collecting matches info:   5%|██████▎                                                                                                                          | 110/2250 [00:30<07:47,  4.58it/s]"
     ]
    },
    {
     "name": "stdout",
     "output_type": "stream",
     "text": [
      "Found 3 word(s) missing in the model. Weighted missing percentage not covered by the given model is 2.31%.\n"
     ]
    },
    {
     "name": "stderr",
     "output_type": "stream",
     "text": [
      "collecting matches info:   5%|██████▌                                                                                                                          | 115/2250 [00:31<07:30,  4.73it/s]"
     ]
    },
    {
     "name": "stdout",
     "output_type": "stream",
     "text": [
      "Found 1 word(s) missing in the model. Weighted missing percentage not covered by the given model is 1.27%.\n"
     ]
    },
    {
     "name": "stderr",
     "output_type": "stream",
     "text": [
      "collecting matches info:   5%|███████                                                                                                                          | 123/2250 [00:33<07:12,  4.92it/s]"
     ]
    },
    {
     "name": "stdout",
     "output_type": "stream",
     "text": [
      "Found 1 word(s) missing in the model. Weighted missing percentage not covered by the given model is 1.59%.\n"
     ]
    },
    {
     "name": "stderr",
     "output_type": "stream",
     "text": [
      "collecting matches info:   6%|███████▊                                                                                                                         | 136/2250 [00:35<06:33,  5.37it/s]"
     ]
    },
    {
     "name": "stdout",
     "output_type": "stream",
     "text": [
      "Found 1 word(s) missing in the model. Weighted missing percentage not covered by the given model is 2.08%.\n"
     ]
    },
    {
     "name": "stderr",
     "output_type": "stream",
     "text": [
      "collecting matches info:   8%|██████████▊                                                                                                                      | 188/2250 [00:47<06:38,  5.18it/s]"
     ]
    },
    {
     "name": "stdout",
     "output_type": "stream",
     "text": [
      "Found 2 word(s) missing in the model. Weighted missing percentage not covered by the given model is 3.08%.\n"
     ]
    },
    {
     "name": "stderr",
     "output_type": "stream",
     "text": [
      "collecting matches info:   9%|███████████▊                                                                                                                     | 207/2250 [00:51<09:06,  3.74it/s]"
     ]
    },
    {
     "name": "stdout",
     "output_type": "stream",
     "text": [
      "Found 1 word(s) missing in the model. Weighted missing percentage not covered by the given model is 1.82%.\n"
     ]
    },
    {
     "name": "stderr",
     "output_type": "stream",
     "text": [
      "collecting matches info:  10%|████████████▍                                                                                                                    | 218/2250 [00:54<08:28,  4.00it/s]"
     ]
    },
    {
     "name": "stdout",
     "output_type": "stream",
     "text": [
      "Found 3 word(s) missing in the model. Weighted missing percentage not covered by the given model is 2.19%.\n"
     ]
    },
    {
     "name": "stderr",
     "output_type": "stream",
     "text": [
      "\r",
      "collecting matches info:  10%|████████████▌                                                                                                                    | 219/2250 [00:55<08:14,  4.10it/s]"
     ]
    },
    {
     "name": "stdout",
     "output_type": "stream",
     "text": [
      "Found 2 word(s) missing in the model. Weighted missing percentage not covered by the given model is 1.42%.\n"
     ]
    },
    {
     "name": "stderr",
     "output_type": "stream",
     "text": [
      "collecting matches info:  10%|████████████▋                                                                                                                    | 221/2250 [00:55<08:02,  4.20it/s]"
     ]
    },
    {
     "name": "stdout",
     "output_type": "stream",
     "text": [
      "Found 4 word(s) missing in the model. Weighted missing percentage not covered by the given model is 2.55%.\n"
     ]
    },
    {
     "name": "stderr",
     "output_type": "stream",
     "text": [
      "collecting matches info:  10%|████████████▊                                                                                                                    | 223/2250 [00:56<07:48,  4.33it/s]"
     ]
    },
    {
     "name": "stdout",
     "output_type": "stream",
     "text": [
      "Found 2 word(s) missing in the model. Weighted missing percentage not covered by the given model is 3.08%.\n"
     ]
    },
    {
     "name": "stderr",
     "output_type": "stream",
     "text": [
      "collecting matches info:  10%|████████████▉                                                                                                                    | 226/2250 [00:56<07:08,  4.72it/s]"
     ]
    },
    {
     "name": "stdout",
     "output_type": "stream",
     "text": [
      "Found 2 word(s) missing in the model. Weighted missing percentage not covered by the given model is 3.70%.\n"
     ]
    },
    {
     "name": "stderr",
     "output_type": "stream",
     "text": [
      "collecting matches info:  10%|█████████████▏                                                                                                                   | 230/2250 [00:57<08:05,  4.16it/s]"
     ]
    },
    {
     "name": "stdout",
     "output_type": "stream",
     "text": [
      "Found 1 word(s) missing in the model. Weighted missing percentage not covered by the given model is 1.85%.\n"
     ]
    },
    {
     "name": "stderr",
     "output_type": "stream",
     "text": [
      "collecting matches info:  10%|█████████████▎                                                                                                                   | 232/2250 [00:58<07:13,  4.66it/s]"
     ]
    },
    {
     "name": "stdout",
     "output_type": "stream",
     "text": [
      "Found 1 word(s) missing in the model. Weighted missing percentage not covered by the given model is 3.57%.\n"
     ]
    },
    {
     "name": "stderr",
     "output_type": "stream",
     "text": [
      "collecting matches info:  10%|█████████████▍                                                                                                                   | 235/2250 [00:58<07:21,  4.56it/s]"
     ]
    },
    {
     "name": "stdout",
     "output_type": "stream",
     "text": [
      "Found 2 word(s) missing in the model. Weighted missing percentage not covered by the given model is 2.67%.\n"
     ]
    },
    {
     "name": "stderr",
     "output_type": "stream",
     "text": [
      "collecting matches info:  11%|██████████████▏                                                                                                                  | 247/2250 [01:01<06:18,  5.29it/s]"
     ]
    },
    {
     "name": "stdout",
     "output_type": "stream",
     "text": [
      "Found 1 word(s) missing in the model. Weighted missing percentage not covered by the given model is 4.17%.\n"
     ]
    },
    {
     "name": "stderr",
     "output_type": "stream",
     "text": [
      "collecting matches info:  11%|██████████████▊                                                                                                                  | 258/2250 [01:03<06:15,  5.30it/s]"
     ]
    },
    {
     "name": "stdout",
     "output_type": "stream",
     "text": [
      "Found 1 word(s) missing in the model. Weighted missing percentage not covered by the given model is 0.15%.\n"
     ]
    },
    {
     "name": "stderr",
     "output_type": "stream",
     "text": [
      "\r",
      "collecting matches info:  12%|██████████████▉                                                                                                                  | 260/2250 [01:04<04:56,  6.70it/s]"
     ]
    },
    {
     "name": "stdout",
     "output_type": "stream",
     "text": [
      "Found 6 word(s) missing in the model. Weighted missing percentage not covered by the given model is 2.99%.\n"
     ]
    },
    {
     "name": "stderr",
     "output_type": "stream",
     "text": [
      "collecting matches info:  12%|███████████████▏                                                                                                                 | 264/2250 [01:04<05:06,  6.47it/s]"
     ]
    },
    {
     "name": "stdout",
     "output_type": "stream",
     "text": [
      "Found 4 word(s) missing in the model. Weighted missing percentage not covered by the given model is 2.88%.\n"
     ]
    },
    {
     "name": "stderr",
     "output_type": "stream",
     "text": [
      "collecting matches info:  12%|███████████████▎                                                                                                                 | 267/2250 [01:05<06:58,  4.73it/s]"
     ]
    },
    {
     "name": "stdout",
     "output_type": "stream",
     "text": [
      "Found 2 word(s) missing in the model. Weighted missing percentage not covered by the given model is 2.00%.\n"
     ]
    },
    {
     "name": "stderr",
     "output_type": "stream",
     "text": [
      "collecting matches info:  12%|███████████████▍                                                                                                                 | 270/2250 [01:06<09:14,  3.57it/s]"
     ]
    },
    {
     "name": "stdout",
     "output_type": "stream",
     "text": [
      "Found 1 word(s) missing in the model. Weighted missing percentage not covered by the given model is 1.64%.\n"
     ]
    },
    {
     "name": "stderr",
     "output_type": "stream",
     "text": [
      "collecting matches info:  12%|███████████████▌                                                                                                                 | 272/2250 [01:06<08:47,  3.75it/s]"
     ]
    },
    {
     "name": "stdout",
     "output_type": "stream",
     "text": [
      "Found 1 word(s) missing in the model. Weighted missing percentage not covered by the given model is 7.14%.\n"
     ]
    },
    {
     "name": "stderr",
     "output_type": "stream",
     "text": [
      "collecting matches info:  12%|████████████████                                                                                                                 | 280/2250 [01:09<10:27,  3.14it/s]"
     ]
    },
    {
     "name": "stdout",
     "output_type": "stream",
     "text": [
      "Found 1 word(s) missing in the model. Weighted missing percentage not covered by the given model is 7.69%.\n"
     ]
    },
    {
     "name": "stderr",
     "output_type": "stream",
     "text": [
      "collecting matches info:  13%|████████████████▏                                                                                                                | 283/2250 [01:10<09:07,  3.59it/s]"
     ]
    },
    {
     "name": "stdout",
     "output_type": "stream",
     "text": [
      "Found 1 word(s) missing in the model. Weighted missing percentage not covered by the given model is 2.70%.\n"
     ]
    },
    {
     "name": "stderr",
     "output_type": "stream",
     "text": [
      "collecting matches info:  13%|████████████████▌                                                                                                                | 289/2250 [01:11<07:47,  4.19it/s]"
     ]
    },
    {
     "name": "stdout",
     "output_type": "stream",
     "text": [
      "Found 1 word(s) missing in the model. Weighted missing percentage not covered by the given model is 4.76%.\n"
     ]
    },
    {
     "name": "stderr",
     "output_type": "stream",
     "text": [
      "collecting matches info:  13%|████████████████▊                                                                                                                | 294/2250 [01:13<08:33,  3.81it/s]"
     ]
    },
    {
     "name": "stdout",
     "output_type": "stream",
     "text": [
      "Found 1 word(s) missing in the model. Weighted missing percentage not covered by the given model is 0.67%.\n"
     ]
    },
    {
     "name": "stderr",
     "output_type": "stream",
     "text": [
      "\r",
      "collecting matches info:  13%|████████████████▉                                                                                                                | 295/2250 [01:13<09:22,  3.47it/s]"
     ]
    },
    {
     "name": "stdout",
     "output_type": "stream",
     "text": [
      "Found 1 word(s) missing in the model. Weighted missing percentage not covered by the given model is 4.76%.\n"
     ]
    },
    {
     "name": "stderr",
     "output_type": "stream",
     "text": [
      "collecting matches info:  13%|█████████████████                                                                                                                | 297/2250 [01:13<09:15,  3.52it/s]"
     ]
    },
    {
     "name": "stdout",
     "output_type": "stream",
     "text": [
      "Found 1 word(s) missing in the model. Weighted missing percentage not covered by the given model is 0.37%.\n"
     ]
    },
    {
     "name": "stderr",
     "output_type": "stream",
     "text": [
      "\r",
      "collecting matches info:  13%|█████████████████                                                                                                                | 298/2250 [01:14<10:26,  3.11it/s]"
     ]
    },
    {
     "name": "stdout",
     "output_type": "stream",
     "text": [
      "Found 1 word(s) missing in the model. Weighted missing percentage not covered by the given model is 2.08%.\n"
     ]
    },
    {
     "name": "stderr",
     "output_type": "stream",
     "text": [
      "collecting matches info:  14%|██████████████████▏                                                                                                              | 318/2250 [01:20<06:59,  4.61it/s]"
     ]
    },
    {
     "name": "stdout",
     "output_type": "stream",
     "text": [
      "Found 1 word(s) missing in the model. Weighted missing percentage not covered by the given model is 7.69%.\n"
     ]
    },
    {
     "name": "stderr",
     "output_type": "stream",
     "text": [
      "collecting matches info:  14%|██████████████████▎                                                                                                              | 320/2250 [01:20<07:03,  4.56it/s]"
     ]
    },
    {
     "name": "stdout",
     "output_type": "stream",
     "text": [
      "Found 2 word(s) missing in the model. Weighted missing percentage not covered by the given model is 5.00%.\n"
     ]
    },
    {
     "name": "stderr",
     "output_type": "stream",
     "text": [
      "collecting matches info:  14%|██████████████████▋                                                                                                              | 326/2250 [01:21<06:58,  4.60it/s]"
     ]
    },
    {
     "name": "stdout",
     "output_type": "stream",
     "text": [
      "Found 1 word(s) missing in the model. Weighted missing percentage not covered by the given model is 7.69%.\n"
     ]
    },
    {
     "name": "stderr",
     "output_type": "stream",
     "text": [
      "collecting matches info:  16%|████████████████████▋                                                                                                            | 360/2250 [01:29<07:49,  4.02it/s]"
     ]
    },
    {
     "name": "stdout",
     "output_type": "stream",
     "text": [
      "Found 1 word(s) missing in the model. Weighted missing percentage not covered by the given model is 2.38%.\n"
     ]
    },
    {
     "name": "stderr",
     "output_type": "stream",
     "text": [
      "collecting matches info:  16%|████████████████████▊                                                                                                            | 364/2250 [01:30<06:46,  4.64it/s]"
     ]
    },
    {
     "name": "stdout",
     "output_type": "stream",
     "text": [
      "Found 2 word(s) missing in the model. Weighted missing percentage not covered by the given model is 3.45%.\n"
     ]
    },
    {
     "name": "stderr",
     "output_type": "stream",
     "text": [
      "\r",
      "collecting matches info:  16%|████████████████████▉                                                                                                            | 366/2250 [01:30<05:41,  5.51it/s]"
     ]
    },
    {
     "name": "stdout",
     "output_type": "stream",
     "text": [
      "Found 1 word(s) missing in the model. Weighted missing percentage not covered by the given model is 2.00%.\n"
     ]
    },
    {
     "name": "stderr",
     "output_type": "stream",
     "text": [
      "collecting matches info:  16%|█████████████████████                                                                                                            | 368/2250 [01:31<07:07,  4.41it/s]"
     ]
    },
    {
     "name": "stdout",
     "output_type": "stream",
     "text": [
      "Found 2 word(s) missing in the model. Weighted missing percentage not covered by the given model is 2.06%.\n"
     ]
    },
    {
     "name": "stderr",
     "output_type": "stream",
     "text": [
      "collecting matches info:  16%|█████████████████████▎                                                                                                           | 371/2250 [01:32<07:35,  4.12it/s]"
     ]
    },
    {
     "name": "stdout",
     "output_type": "stream",
     "text": [
      "Found 2 word(s) missing in the model. Weighted missing percentage not covered by the given model is 1.90%.\n"
     ]
    },
    {
     "name": "stderr",
     "output_type": "stream",
     "text": [
      "collecting matches info:  17%|█████████████████████▍                                                                                                           | 373/2250 [01:32<07:04,  4.42it/s]"
     ]
    },
    {
     "name": "stdout",
     "output_type": "stream",
     "text": [
      "Found 2 word(s) missing in the model. Weighted missing percentage not covered by the given model is 2.02%.\n"
     ]
    },
    {
     "name": "stderr",
     "output_type": "stream",
     "text": [
      "collecting matches info:  17%|██████████████████████▎                                                                                                          | 389/2250 [01:35<04:46,  6.49it/s]"
     ]
    },
    {
     "name": "stdout",
     "output_type": "stream",
     "text": [
      "Found 1 word(s) missing in the model. Weighted missing percentage not covered by the given model is 0.85%.\n"
     ]
    },
    {
     "name": "stderr",
     "output_type": "stream",
     "text": [
      "collecting matches info:  18%|██████████████████████▌                                                                                                          | 394/2250 [01:36<05:42,  5.42it/s]"
     ]
    },
    {
     "name": "stdout",
     "output_type": "stream",
     "text": [
      "Found 1 word(s) missing in the model. Weighted missing percentage not covered by the given model is 5.56%.\n"
     ]
    },
    {
     "name": "stderr",
     "output_type": "stream",
     "text": [
      "collecting matches info:  18%|██████████████████████▊                                                                                                          | 397/2250 [01:36<05:54,  5.22it/s]"
     ]
    },
    {
     "name": "stdout",
     "output_type": "stream",
     "text": [
      "Found 1 word(s) missing in the model. Weighted missing percentage not covered by the given model is 5.00%.\n",
      "Found 1 word(s) missing in the model. Weighted missing percentage not covered by the given model is 0.39%.\n"
     ]
    },
    {
     "name": "stderr",
     "output_type": "stream",
     "text": [
      "collecting matches info:  18%|██████████████████████▉                                                                                                          | 401/2250 [01:37<05:52,  5.25it/s]"
     ]
    },
    {
     "name": "stdout",
     "output_type": "stream",
     "text": [
      "Found 1 word(s) missing in the model. Weighted missing percentage not covered by the given model is 0.39%.\n"
     ]
    },
    {
     "name": "stderr",
     "output_type": "stream",
     "text": [
      "collecting matches info:  18%|███████████████████████▏                                                                                                         | 404/2250 [01:38<07:32,  4.08it/s]"
     ]
    },
    {
     "name": "stdout",
     "output_type": "stream",
     "text": [
      "Found 3 word(s) missing in the model. Weighted missing percentage not covered by the given model is 5.45%.\n"
     ]
    },
    {
     "name": "stderr",
     "output_type": "stream",
     "text": [
      "collecting matches info:  18%|███████████████████████▍                                                                                                         | 409/2250 [01:39<06:09,  4.99it/s]"
     ]
    },
    {
     "name": "stdout",
     "output_type": "stream",
     "text": [
      "Found 1 word(s) missing in the model. Weighted missing percentage not covered by the given model is 0.39%.\n"
     ]
    },
    {
     "name": "stderr",
     "output_type": "stream",
     "text": [
      "collecting matches info:  18%|███████████████████████▌                                                                                                         | 411/2250 [01:39<06:11,  4.95it/s]"
     ]
    },
    {
     "name": "stdout",
     "output_type": "stream",
     "text": [
      "Found 3 word(s) missing in the model. Weighted missing percentage not covered by the given model is 5.08%.\n",
      "Found 1 word(s) missing in the model. Weighted missing percentage not covered by the given model is 0.39%.\n"
     ]
    },
    {
     "name": "stderr",
     "output_type": "stream",
     "text": [
      "collecting matches info:  18%|███████████████████████▋                                                                                                         | 413/2250 [01:40<06:33,  4.67it/s]"
     ]
    },
    {
     "name": "stdout",
     "output_type": "stream",
     "text": [
      "Found 3 word(s) missing in the model. Weighted missing percentage not covered by the given model is 5.45%.\n"
     ]
    },
    {
     "name": "stderr",
     "output_type": "stream",
     "text": [
      "collecting matches info:  18%|███████████████████████▊                                                                                                         | 415/2250 [01:40<06:48,  4.50it/s]"
     ]
    },
    {
     "name": "stdout",
     "output_type": "stream",
     "text": [
      "Found 1 word(s) missing in the model. Weighted missing percentage not covered by the given model is 0.39%.\n"
     ]
    },
    {
     "name": "stderr",
     "output_type": "stream",
     "text": [
      "collecting matches info:  19%|███████████████████████▉                                                                                                         | 417/2250 [01:41<06:50,  4.47it/s]"
     ]
    },
    {
     "name": "stdout",
     "output_type": "stream",
     "text": [
      "Found 3 word(s) missing in the model. Weighted missing percentage not covered by the given model is 5.00%.\n",
      "Found 1 word(s) missing in the model. Weighted missing percentage not covered by the given model is 0.39%.\n"
     ]
    },
    {
     "name": "stderr",
     "output_type": "stream",
     "text": [
      "collecting matches info:  19%|████████████████████████                                                                                                         | 419/2250 [01:41<07:35,  4.02it/s]"
     ]
    },
    {
     "name": "stdout",
     "output_type": "stream",
     "text": [
      "Found 3 word(s) missing in the model. Weighted missing percentage not covered by the given model is 5.36%.\n"
     ]
    },
    {
     "name": "stderr",
     "output_type": "stream",
     "text": [
      "collecting matches info:  19%|████████████████████████▏                                                                                                        | 421/2250 [01:42<09:57,  3.06it/s]"
     ]
    },
    {
     "name": "stdout",
     "output_type": "stream",
     "text": [
      "Found 1 word(s) missing in the model. Weighted missing percentage not covered by the given model is 5.56%.\n"
     ]
    },
    {
     "name": "stderr",
     "output_type": "stream",
     "text": [
      "collecting matches info:  19%|████████████████████████▎                                                                                                        | 423/2250 [01:43<07:53,  3.86it/s]"
     ]
    },
    {
     "name": "stdout",
     "output_type": "stream",
     "text": [
      "Found 3 word(s) missing in the model. Weighted missing percentage not covered by the given model is 5.36%.\n"
     ]
    },
    {
     "name": "stderr",
     "output_type": "stream",
     "text": [
      "\r",
      "collecting matches info:  19%|████████████████████████▎                                                                                                        | 424/2250 [01:43<07:43,  3.94it/s]"
     ]
    },
    {
     "name": "stdout",
     "output_type": "stream",
     "text": [
      "Found 1 word(s) missing in the model. Weighted missing percentage not covered by the given model is 6.25%.\n"
     ]
    },
    {
     "name": "stderr",
     "output_type": "stream",
     "text": [
      "collecting matches info:  19%|████████████████████████▍                                                                                                        | 426/2250 [01:43<06:44,  4.51it/s]"
     ]
    },
    {
     "name": "stdout",
     "output_type": "stream",
     "text": [
      "Found 1 word(s) missing in the model. Weighted missing percentage not covered by the given model is 2.44%.\n"
     ]
    },
    {
     "name": "stderr",
     "output_type": "stream",
     "text": [
      "collecting matches info:  19%|████████████████████████▌                                                                                                        | 428/2250 [01:44<06:59,  4.35it/s]"
     ]
    },
    {
     "name": "stdout",
     "output_type": "stream",
     "text": [
      "Found 1 word(s) missing in the model. Weighted missing percentage not covered by the given model is 5.56%.\n"
     ]
    },
    {
     "name": "stderr",
     "output_type": "stream",
     "text": [
      "collecting matches info:  19%|████████████████████████▊                                                                                                        | 432/2250 [01:45<07:36,  3.98it/s]"
     ]
    },
    {
     "name": "stdout",
     "output_type": "stream",
     "text": [
      "Found 2 word(s) missing in the model. Weighted missing percentage not covered by the given model is 8.33%.\n"
     ]
    },
    {
     "name": "stderr",
     "output_type": "stream",
     "text": [
      "collecting matches info:  20%|█████████████████████████▊                                                                                                       | 451/2250 [01:51<07:05,  4.23it/s]"
     ]
    },
    {
     "name": "stdout",
     "output_type": "stream",
     "text": [
      "Found 5 word(s) missing in the model. Weighted missing percentage not covered by the given model is 1.89%.\n"
     ]
    },
    {
     "name": "stderr",
     "output_type": "stream",
     "text": [
      "collecting matches info:  20%|█████████████████████████▉                                                                                                       | 453/2250 [01:51<06:29,  4.61it/s]"
     ]
    },
    {
     "name": "stdout",
     "output_type": "stream",
     "text": [
      "Found 4 word(s) missing in the model. Weighted missing percentage not covered by the given model is 1.51%.\n"
     ]
    },
    {
     "name": "stderr",
     "output_type": "stream",
     "text": [
      "collecting matches info:  20%|██████████████████████████                                                                                                       | 455/2250 [01:52<06:56,  4.31it/s]"
     ]
    },
    {
     "name": "stdout",
     "output_type": "stream",
     "text": [
      "Found 4 word(s) missing in the model. Weighted missing percentage not covered by the given model is 1.52%.\n"
     ]
    },
    {
     "name": "stderr",
     "output_type": "stream",
     "text": [
      "collecting matches info:  20%|██████████████████████████▎                                                                                                      | 458/2250 [01:53<08:07,  3.68it/s]"
     ]
    },
    {
     "name": "stdout",
     "output_type": "stream",
     "text": [
      "Found 5 word(s) missing in the model. Weighted missing percentage not covered by the given model is 1.89%.\n"
     ]
    },
    {
     "name": "stderr",
     "output_type": "stream",
     "text": [
      "collecting matches info:  20%|██████████████████████████▎                                                                                                      | 460/2250 [01:53<06:07,  4.87it/s]"
     ]
    },
    {
     "name": "stdout",
     "output_type": "stream",
     "text": [
      "Found 1 word(s) missing in the model. Weighted missing percentage not covered by the given model is 0.45%.\n"
     ]
    },
    {
     "name": "stderr",
     "output_type": "stream",
     "text": [
      "collecting matches info:  21%|██████████████████████████▌                                                                                                      | 464/2250 [01:54<05:33,  5.35it/s]"
     ]
    },
    {
     "name": "stdout",
     "output_type": "stream",
     "text": [
      "Found 5 word(s) missing in the model. Weighted missing percentage not covered by the given model is 1.89%.\n"
     ]
    },
    {
     "name": "stderr",
     "output_type": "stream",
     "text": [
      "collecting matches info:  21%|██████████████████████████▋                                                                                                      | 466/2250 [01:54<05:25,  5.49it/s]"
     ]
    },
    {
     "name": "stdout",
     "output_type": "stream",
     "text": [
      "Found 2 word(s) missing in the model. Weighted missing percentage not covered by the given model is 1.87%.\n"
     ]
    },
    {
     "name": "stderr",
     "output_type": "stream",
     "text": [
      "collecting matches info:  21%|██████████████████████████▊                                                                                                      | 468/2250 [01:55<05:50,  5.09it/s]"
     ]
    },
    {
     "name": "stdout",
     "output_type": "stream",
     "text": [
      "Found 1 word(s) missing in the model. Weighted missing percentage not covered by the given model is 1.02%.\n"
     ]
    },
    {
     "name": "stderr",
     "output_type": "stream",
     "text": [
      "collecting matches info:  21%|███████████████████████████                                                                                                      | 472/2250 [01:55<05:17,  5.60it/s]"
     ]
    },
    {
     "name": "stdout",
     "output_type": "stream",
     "text": [
      "Found 4 word(s) missing in the model. Weighted missing percentage not covered by the given model is 1.52%.\n"
     ]
    },
    {
     "name": "stderr",
     "output_type": "stream",
     "text": [
      "collecting matches info:  21%|███████████████████████████▏                                                                                                     | 474/2250 [01:56<05:40,  5.22it/s]"
     ]
    },
    {
     "name": "stdout",
     "output_type": "stream",
     "text": [
      "Found 1 word(s) missing in the model. Weighted missing percentage not covered by the given model is 2.27%.\n"
     ]
    },
    {
     "name": "stderr",
     "output_type": "stream",
     "text": [
      "\r",
      "collecting matches info:  21%|███████████████████████████▏                                                                                                     | 475/2250 [01:56<07:02,  4.20it/s]"
     ]
    },
    {
     "name": "stdout",
     "output_type": "stream",
     "text": [
      "Found 2 word(s) missing in the model. Weighted missing percentage not covered by the given model is 1.94%.\n"
     ]
    },
    {
     "name": "stderr",
     "output_type": "stream",
     "text": [
      "collecting matches info:  21%|███████████████████████████▎                                                                                                     | 477/2250 [01:57<10:00,  2.95it/s]"
     ]
    },
    {
     "name": "stdout",
     "output_type": "stream",
     "text": [
      "Found 2 word(s) missing in the model. Weighted missing percentage not covered by the given model is 2.02%.\n"
     ]
    },
    {
     "name": "stderr",
     "output_type": "stream",
     "text": [
      "\r",
      "collecting matches info:  21%|███████████████████████████▍                                                                                                     | 478/2250 [01:57<09:53,  2.98it/s]"
     ]
    },
    {
     "name": "stdout",
     "output_type": "stream",
     "text": [
      "Found 2 word(s) missing in the model. Weighted missing percentage not covered by the given model is 6.90%.\n"
     ]
    },
    {
     "name": "stderr",
     "output_type": "stream",
     "text": [
      "\r",
      "collecting matches info:  21%|███████████████████████████▍                                                                                                     | 479/2250 [01:57<09:43,  3.03it/s]"
     ]
    },
    {
     "name": "stdout",
     "output_type": "stream",
     "text": [
      "Found 2 word(s) missing in the model. Weighted missing percentage not covered by the given model is 2.11%.\n"
     ]
    },
    {
     "name": "stderr",
     "output_type": "stream",
     "text": [
      "collecting matches info:  22%|███████████████████████████▉                                                                                                     | 487/2250 [01:59<05:49,  5.05it/s]"
     ]
    },
    {
     "name": "stdout",
     "output_type": "stream",
     "text": [
      "Found 1 word(s) missing in the model. Weighted missing percentage not covered by the given model is 3.85%.\n"
     ]
    },
    {
     "name": "stderr",
     "output_type": "stream",
     "text": [
      "collecting matches info:  22%|████████████████████████████                                                                                                     | 489/2250 [02:00<06:14,  4.70it/s]"
     ]
    },
    {
     "name": "stdout",
     "output_type": "stream",
     "text": [
      "Found 1 word(s) missing in the model. Weighted missing percentage not covered by the given model is 6.25%.\n"
     ]
    },
    {
     "name": "stderr",
     "output_type": "stream",
     "text": [
      "collecting matches info:  22%|████████████████████████████▎                                                                                                    | 493/2250 [02:00<05:19,  5.50it/s]"
     ]
    },
    {
     "name": "stdout",
     "output_type": "stream",
     "text": [
      "Found 1 word(s) missing in the model. Weighted missing percentage not covered by the given model is 3.45%.\n"
     ]
    },
    {
     "name": "stderr",
     "output_type": "stream",
     "text": [
      "collecting matches info:  22%|████████████████████████████▊                                                                                                    | 502/2250 [02:02<06:08,  4.75it/s]"
     ]
    },
    {
     "name": "stdout",
     "output_type": "stream",
     "text": [
      "Found 1 word(s) missing in the model. Weighted missing percentage not covered by the given model is 2.56%.\n"
     ]
    },
    {
     "name": "stderr",
     "output_type": "stream",
     "text": [
      "collecting matches info:  23%|█████████████████████████████▍                                                                                                   | 513/2250 [02:04<05:36,  5.15it/s]"
     ]
    },
    {
     "name": "stdout",
     "output_type": "stream",
     "text": [
      "Found 3 word(s) missing in the model. Weighted missing percentage not covered by the given model is 7.50%.\n"
     ]
    },
    {
     "name": "stderr",
     "output_type": "stream",
     "text": [
      "collecting matches info:  23%|█████████████████████████████▊                                                                                                   | 521/2250 [02:06<05:28,  5.27it/s]"
     ]
    },
    {
     "name": "stdout",
     "output_type": "stream",
     "text": [
      "Found 2 word(s) missing in the model. Weighted missing percentage not covered by the given model is 4.55%.\n"
     ]
    },
    {
     "name": "stderr",
     "output_type": "stream",
     "text": [
      "collecting matches info:  23%|██████████████████████████████                                                                                                   | 525/2250 [02:07<06:30,  4.42it/s]"
     ]
    },
    {
     "name": "stdout",
     "output_type": "stream",
     "text": [
      "Found 1 word(s) missing in the model. Weighted missing percentage not covered by the given model is 7.14%.\n"
     ]
    },
    {
     "name": "stderr",
     "output_type": "stream",
     "text": [
      "collecting matches info:  23%|██████████████████████████████▏                                                                                                  | 527/2250 [02:07<06:24,  4.48it/s]"
     ]
    },
    {
     "name": "stdout",
     "output_type": "stream",
     "text": [
      "Found 2 word(s) missing in the model. Weighted missing percentage not covered by the given model is 1.41%.\n"
     ]
    },
    {
     "name": "stderr",
     "output_type": "stream",
     "text": [
      "collecting matches info:  24%|██████████████████████████████▍                                                                                                  | 531/2250 [02:08<07:08,  4.01it/s]"
     ]
    },
    {
     "name": "stdout",
     "output_type": "stream",
     "text": [
      "Found 1 word(s) missing in the model. Weighted missing percentage not covered by the given model is 0.74%.\n"
     ]
    },
    {
     "name": "stderr",
     "output_type": "stream",
     "text": [
      "collecting matches info:  25%|████████████████████████████████▋                                                                                                | 571/2250 [02:18<05:49,  4.80it/s]"
     ]
    },
    {
     "name": "stdout",
     "output_type": "stream",
     "text": [
      "Found 12 word(s) missing in the model. Weighted missing percentage not covered by the given model is 3.26%.\n"
     ]
    },
    {
     "name": "stderr",
     "output_type": "stream",
     "text": [
      "collecting matches info:  26%|█████████████████████████████████                                                                                                | 576/2250 [02:19<05:33,  5.02it/s]"
     ]
    },
    {
     "name": "stdout",
     "output_type": "stream",
     "text": [
      "Found 1 word(s) missing in the model. Weighted missing percentage not covered by the given model is 3.12%.\n"
     ]
    },
    {
     "name": "stderr",
     "output_type": "stream",
     "text": [
      "collecting matches info:  27%|██████████████████████████████████▉                                                                                              | 609/2250 [02:25<01:48, 15.08it/s]"
     ]
    },
    {
     "name": "stdout",
     "output_type": "stream",
     "text": [
      "Found 1 word(s) missing in the model. Weighted missing percentage not covered by the given model is 1.09%.\n"
     ]
    },
    {
     "name": "stderr",
     "output_type": "stream",
     "text": [
      "collecting matches info:  27%|███████████████████████████████████▏                                                                                             | 613/2250 [02:26<01:45, 15.59it/s]"
     ]
    },
    {
     "name": "stdout",
     "output_type": "stream",
     "text": [
      "Found 1 word(s) missing in the model. Weighted missing percentage not covered by the given model is 1.08%.\n"
     ]
    },
    {
     "name": "stderr",
     "output_type": "stream",
     "text": [
      "collecting matches info:  28%|███████████████████████████████████▍                                                                                             | 619/2250 [02:26<01:49, 14.86it/s]"
     ]
    },
    {
     "name": "stdout",
     "output_type": "stream",
     "text": [
      "Found 4 word(s) missing in the model. Weighted missing percentage not covered by the given model is 1.98%.\n"
     ]
    },
    {
     "name": "stderr",
     "output_type": "stream",
     "text": [
      "\r",
      "collecting matches info:  28%|███████████████████████████████████▌                                                                                             | 621/2250 [02:26<02:15, 12.00it/s]"
     ]
    },
    {
     "name": "stdout",
     "output_type": "stream",
     "text": [
      "Found 1 word(s) missing in the model. Weighted missing percentage not covered by the given model is 0.43%.\n"
     ]
    },
    {
     "name": "stderr",
     "output_type": "stream",
     "text": [
      "collecting matches info:  28%|████████████████████████████████████▏                                                                                            | 632/2250 [02:28<02:50,  9.47it/s]"
     ]
    },
    {
     "name": "stdout",
     "output_type": "stream",
     "text": [
      "Found 4 word(s) missing in the model. Weighted missing percentage not covered by the given model is 1.20%.\n"
     ]
    },
    {
     "name": "stderr",
     "output_type": "stream",
     "text": [
      "collecting matches info:  28%|████████████████████████████████████▊                                                                                            | 641/2250 [02:29<03:39,  7.33it/s]"
     ]
    },
    {
     "name": "stdout",
     "output_type": "stream",
     "text": [
      "Found 1 word(s) missing in the model. Weighted missing percentage not covered by the given model is 0.78%.\n",
      "Found 2 word(s) missing in the model. Weighted missing percentage not covered by the given model is 0.37%.\n"
     ]
    },
    {
     "name": "stderr",
     "output_type": "stream",
     "text": [
      "collecting matches info:  29%|█████████████████████████████████████                                                                                            | 647/2250 [02:30<04:01,  6.64it/s]"
     ]
    },
    {
     "name": "stdout",
     "output_type": "stream",
     "text": [
      "Found 1 word(s) missing in the model. Weighted missing percentage not covered by the given model is 0.44%.\n"
     ]
    },
    {
     "name": "stderr",
     "output_type": "stream",
     "text": [
      "collecting matches info:  29%|█████████████████████████████████████▏                                                                                           | 649/2250 [02:30<04:37,  5.77it/s]"
     ]
    },
    {
     "name": "stdout",
     "output_type": "stream",
     "text": [
      "Found 9 word(s) missing in the model. Weighted missing percentage not covered by the given model is 1.63%.\n",
      "Found 5 word(s) missing in the model. Weighted missing percentage not covered by the given model is 0.92%.\n"
     ]
    },
    {
     "name": "stderr",
     "output_type": "stream",
     "text": [
      "collecting matches info:  32%|█████████████████████████████████████████                                                                                        | 716/2250 [02:45<05:36,  4.55it/s]"
     ]
    },
    {
     "name": "stdout",
     "output_type": "stream",
     "text": [
      "Found 2 word(s) missing in the model. Weighted missing percentage not covered by the given model is 1.20%.\n"
     ]
    },
    {
     "name": "stderr",
     "output_type": "stream",
     "text": [
      "collecting matches info:  32%|█████████████████████████████████████████▏                                                                                       | 718/2250 [02:45<05:10,  4.94it/s]"
     ]
    },
    {
     "name": "stdout",
     "output_type": "stream",
     "text": [
      "Found 2 word(s) missing in the model. Weighted missing percentage not covered by the given model is 1.20%.\n"
     ]
    },
    {
     "name": "stderr",
     "output_type": "stream",
     "text": [
      "collecting matches info:  32%|█████████████████████████████████████████▉                                                                                       | 731/2250 [02:49<06:53,  3.67it/s]"
     ]
    },
    {
     "name": "stdout",
     "output_type": "stream",
     "text": [
      "Found 1 word(s) missing in the model. Weighted missing percentage not covered by the given model is 0.45%.\n"
     ]
    },
    {
     "name": "stderr",
     "output_type": "stream",
     "text": [
      "collecting matches info:  33%|██████████████████████████████████████████                                                                                       | 734/2250 [02:49<05:35,  4.52it/s]"
     ]
    },
    {
     "name": "stdout",
     "output_type": "stream",
     "text": [
      "Found 1 word(s) missing in the model. Weighted missing percentage not covered by the given model is 0.48%.\n"
     ]
    },
    {
     "name": "stderr",
     "output_type": "stream",
     "text": [
      "\r",
      "collecting matches info:  33%|██████████████████████████████████████████▏                                                                                      | 735/2250 [02:49<05:57,  4.24it/s]"
     ]
    },
    {
     "name": "stdout",
     "output_type": "stream",
     "text": [
      "Found 1 word(s) missing in the model. Weighted missing percentage not covered by the given model is 0.54%.\n"
     ]
    },
    {
     "name": "stderr",
     "output_type": "stream",
     "text": [
      "collecting matches info:  33%|██████████████████████████████████████████▎                                                                                      | 737/2250 [02:50<05:31,  4.57it/s]"
     ]
    },
    {
     "name": "stdout",
     "output_type": "stream",
     "text": [
      "Found 1 word(s) missing in the model. Weighted missing percentage not covered by the given model is 0.54%.\n"
     ]
    },
    {
     "name": "stderr",
     "output_type": "stream",
     "text": [
      "collecting matches info:  33%|██████████████████████████████████████████▎                                                                                      | 739/2250 [02:50<05:00,  5.02it/s]"
     ]
    },
    {
     "name": "stdout",
     "output_type": "stream",
     "text": [
      "Found 1 word(s) missing in the model. Weighted missing percentage not covered by the given model is 0.54%.\n"
     ]
    },
    {
     "name": "stderr",
     "output_type": "stream",
     "text": [
      "collecting matches info:  34%|███████████████████████████████████████████▍                                                                                     | 758/2250 [02:54<03:19,  7.47it/s]"
     ]
    },
    {
     "name": "stdout",
     "output_type": "stream",
     "text": [
      "Found 2 word(s) missing in the model. Weighted missing percentage not covered by the given model is 9.52%.\n",
      "Found 2 word(s) missing in the model. Weighted missing percentage not covered by the given model is 9.52%.\n"
     ]
    },
    {
     "name": "stderr",
     "output_type": "stream",
     "text": [
      "collecting matches info:  34%|████████████████████████████████████████████▎                                                                                    | 772/2250 [02:58<09:32,  2.58it/s]"
     ]
    },
    {
     "name": "stdout",
     "output_type": "stream",
     "text": [
      "Found 2 word(s) missing in the model. Weighted missing percentage not covered by the given model is 12.50%.\n"
     ]
    },
    {
     "name": "stderr",
     "output_type": "stream",
     "text": [
      "collecting matches info:  34%|████████████████████████████████████████████▍                                                                                    | 775/2250 [02:59<08:26,  2.91it/s]"
     ]
    },
    {
     "name": "stdout",
     "output_type": "stream",
     "text": [
      "Found 1 word(s) missing in the model. Weighted missing percentage not covered by the given model is 0.77%.\n"
     ]
    },
    {
     "name": "stderr",
     "output_type": "stream",
     "text": [
      "collecting matches info:  35%|████████████████████████████████████████████▉                                                                                    | 783/2250 [03:01<07:22,  3.31it/s]"
     ]
    },
    {
     "name": "stdout",
     "output_type": "stream",
     "text": [
      "Found 2 word(s) missing in the model. Weighted missing percentage not covered by the given model is 1.25%.\n"
     ]
    },
    {
     "name": "stderr",
     "output_type": "stream",
     "text": [
      "collecting matches info:  35%|█████████████████████████████████████████████▏                                                                                   | 788/2250 [03:02<06:03,  4.02it/s]"
     ]
    },
    {
     "name": "stdout",
     "output_type": "stream",
     "text": [
      "Found 4 word(s) missing in the model. Weighted missing percentage not covered by the given model is 3.70%.\n"
     ]
    },
    {
     "name": "stderr",
     "output_type": "stream",
     "text": [
      "collecting matches info:  35%|█████████████████████████████████████████████▎                                                                                   | 790/2250 [03:03<07:17,  3.33it/s]"
     ]
    },
    {
     "name": "stdout",
     "output_type": "stream",
     "text": [
      "Found 2 word(s) missing in the model. Weighted missing percentage not covered by the given model is 0.92%.\n"
     ]
    },
    {
     "name": "stderr",
     "output_type": "stream",
     "text": [
      "\r",
      "collecting matches info:  35%|█████████████████████████████████████████████▎                                                                                   | 791/2250 [03:03<07:08,  3.41it/s]"
     ]
    },
    {
     "name": "stdout",
     "output_type": "stream",
     "text": [
      "Found 1 word(s) missing in the model. Weighted missing percentage not covered by the given model is 0.48%.\n"
     ]
    },
    {
     "name": "stderr",
     "output_type": "stream",
     "text": [
      "\r",
      "collecting matches info:  35%|█████████████████████████████████████████████▍                                                                                   | 792/2250 [03:04<07:01,  3.46it/s]"
     ]
    },
    {
     "name": "stdout",
     "output_type": "stream",
     "text": [
      "Found 1 word(s) missing in the model. Weighted missing percentage not covered by the given model is 0.47%.\n"
     ]
    },
    {
     "name": "stderr",
     "output_type": "stream",
     "text": [
      "\r",
      "collecting matches info:  35%|█████████████████████████████████████████████▍                                                                                   | 793/2250 [03:04<07:32,  3.22it/s]"
     ]
    },
    {
     "name": "stdout",
     "output_type": "stream",
     "text": [
      "Found 4 word(s) missing in the model. Weighted missing percentage not covered by the given model is 1.89%.\n"
     ]
    },
    {
     "name": "stderr",
     "output_type": "stream",
     "text": [
      "collecting matches info:  35%|█████████████████████████████████████████████▌                                                                                   | 795/2250 [03:05<10:01,  2.42it/s]"
     ]
    },
    {
     "name": "stdout",
     "output_type": "stream",
     "text": [
      "Found 2 word(s) missing in the model. Weighted missing percentage not covered by the given model is 0.88%.\n"
     ]
    },
    {
     "name": "stderr",
     "output_type": "stream",
     "text": [
      "\r",
      "collecting matches info:  35%|█████████████████████████████████████████████▋                                                                                   | 796/2250 [03:06<10:26,  2.32it/s]"
     ]
    },
    {
     "name": "stdout",
     "output_type": "stream",
     "text": [
      "Found 2 word(s) missing in the model. Weighted missing percentage not covered by the given model is 0.89%.\n"
     ]
    },
    {
     "name": "stderr",
     "output_type": "stream",
     "text": [
      "\r",
      "collecting matches info:  35%|█████████████████████████████████████████████▋                                                                                   | 797/2250 [03:06<09:41,  2.50it/s]"
     ]
    },
    {
     "name": "stdout",
     "output_type": "stream",
     "text": [
      "Found 2 word(s) missing in the model. Weighted missing percentage not covered by the given model is 0.88%.\n"
     ]
    },
    {
     "name": "stderr",
     "output_type": "stream",
     "text": [
      "collecting matches info:  36%|██████████████████████████████████████████████                                                                                   | 803/2250 [03:07<05:29,  4.40it/s]"
     ]
    },
    {
     "name": "stdout",
     "output_type": "stream",
     "text": [
      "Found 2 word(s) missing in the model. Weighted missing percentage not covered by the given model is 4.65%.\n"
     ]
    },
    {
     "name": "stderr",
     "output_type": "stream",
     "text": [
      "collecting matches info:  36%|██████████████████████████████████████████████▎                                                                                  | 807/2250 [03:08<04:41,  5.13it/s]"
     ]
    },
    {
     "name": "stdout",
     "output_type": "stream",
     "text": [
      "Found 2 word(s) missing in the model. Weighted missing percentage not covered by the given model is 1.20%.\n",
      "Found 1 word(s) missing in the model. Weighted missing percentage not covered by the given model is 0.49%.\n"
     ]
    },
    {
     "name": "stderr",
     "output_type": "stream",
     "text": [
      "collecting matches info:  37%|███████████████████████████████████████████████▏                                                                                 | 822/2250 [03:11<04:33,  5.21it/s]"
     ]
    },
    {
     "name": "stdout",
     "output_type": "stream",
     "text": [
      "Found 1 word(s) missing in the model. Weighted missing percentage not covered by the given model is 4.35%.\n"
     ]
    },
    {
     "name": "stderr",
     "output_type": "stream",
     "text": [
      "collecting matches info:  37%|███████████████████████████████████████████████▏                                                                                 | 824/2250 [03:11<06:11,  3.83it/s]"
     ]
    },
    {
     "name": "stdout",
     "output_type": "stream",
     "text": [
      "Found 1 word(s) missing in the model. Weighted missing percentage not covered by the given model is 1.45%.\n"
     ]
    },
    {
     "name": "stderr",
     "output_type": "stream",
     "text": [
      "collecting matches info:  37%|████████████████████████████████████████████████                                                                                 | 838/2250 [03:15<05:39,  4.16it/s]"
     ]
    },
    {
     "name": "stdout",
     "output_type": "stream",
     "text": [
      "Found 1 word(s) missing in the model. Weighted missing percentage not covered by the given model is 3.03%.\n"
     ]
    },
    {
     "name": "stderr",
     "output_type": "stream",
     "text": [
      "collecting matches info:  38%|████████████████████████████████████████████████▍                                                                                | 844/2250 [03:17<05:12,  4.49it/s]"
     ]
    },
    {
     "name": "stdout",
     "output_type": "stream",
     "text": [
      "Found 1 word(s) missing in the model. Weighted missing percentage not covered by the given model is 2.70%.\n"
     ]
    },
    {
     "name": "stderr",
     "output_type": "stream",
     "text": [
      "collecting matches info:  38%|████████████████████████████████████████████████▉                                                                                | 854/2250 [03:19<04:51,  4.79it/s]"
     ]
    },
    {
     "name": "stdout",
     "output_type": "stream",
     "text": [
      "Found 1 word(s) missing in the model. Weighted missing percentage not covered by the given model is 2.44%.\n"
     ]
    },
    {
     "name": "stderr",
     "output_type": "stream",
     "text": [
      "collecting matches info:  38%|█████████████████████████████████████████████████                                                                                | 856/2250 [03:19<04:51,  4.78it/s]"
     ]
    },
    {
     "name": "stdout",
     "output_type": "stream",
     "text": [
      "Found 2 word(s) missing in the model. Weighted missing percentage not covered by the given model is 8.70%.\n"
     ]
    },
    {
     "name": "stderr",
     "output_type": "stream",
     "text": [
      "collecting matches info:  39%|█████████████████████████████████████████████████▊                                                                               | 868/2250 [03:23<06:32,  3.52it/s]"
     ]
    },
    {
     "name": "stdout",
     "output_type": "stream",
     "text": [
      "Found 1 word(s) missing in the model. Weighted missing percentage not covered by the given model is 2.22%.\n",
      "Found 1 word(s) missing in the model. Weighted missing percentage not covered by the given model is 0.57%.\n"
     ]
    },
    {
     "name": "stderr",
     "output_type": "stream",
     "text": [
      "collecting matches info:  39%|██████████████████████████████████████████████████                                                                               | 873/2250 [03:24<06:15,  3.67it/s]"
     ]
    },
    {
     "name": "stdout",
     "output_type": "stream",
     "text": [
      "Found 2 word(s) missing in the model. Weighted missing percentage not covered by the given model is 3.85%.\n"
     ]
    },
    {
     "name": "stderr",
     "output_type": "stream",
     "text": [
      "collecting matches info:  39%|██████████████████████████████████████████████████▏                                                                              | 876/2250 [03:25<06:46,  3.38it/s]"
     ]
    },
    {
     "name": "stdout",
     "output_type": "stream",
     "text": [
      "Found 1 word(s) missing in the model. Weighted missing percentage not covered by the given model is 0.94%.\n"
     ]
    },
    {
     "name": "stderr",
     "output_type": "stream",
     "text": [
      "collecting matches info:  39%|██████████████████████████████████████████████████▍                                                                              | 880/2250 [03:26<05:41,  4.01it/s]"
     ]
    },
    {
     "name": "stdout",
     "output_type": "stream",
     "text": [
      "Found 1 word(s) missing in the model. Weighted missing percentage not covered by the given model is 2.38%.\n"
     ]
    },
    {
     "name": "stderr",
     "output_type": "stream",
     "text": [
      "collecting matches info:  39%|██████████████████████████████████████████████████▌                                                                              | 882/2250 [03:26<06:02,  3.77it/s]"
     ]
    },
    {
     "name": "stdout",
     "output_type": "stream",
     "text": [
      "Found 1 word(s) missing in the model. Weighted missing percentage not covered by the given model is 3.57%.\n"
     ]
    },
    {
     "name": "stderr",
     "output_type": "stream",
     "text": [
      "collecting matches info:  40%|███████████████████████████████████████████████████▎                                                                             | 894/2250 [03:29<04:47,  4.71it/s]"
     ]
    },
    {
     "name": "stdout",
     "output_type": "stream",
     "text": [
      "Found 1 word(s) missing in the model. Weighted missing percentage not covered by the given model is 3.85%.\n"
     ]
    },
    {
     "name": "stderr",
     "output_type": "stream",
     "text": [
      "collecting matches info:  40%|███████████████████████████████████████████████████▉                                                                             | 905/2250 [03:32<05:43,  3.91it/s]"
     ]
    },
    {
     "name": "stdout",
     "output_type": "stream",
     "text": [
      "Found 1 word(s) missing in the model. Weighted missing percentage not covered by the given model is 0.42%.\n"
     ]
    },
    {
     "name": "stderr",
     "output_type": "stream",
     "text": [
      "collecting matches info:  43%|███████████████████████████████████████████████████████▍                                                                         | 968/2250 [03:48<05:14,  4.08it/s]"
     ]
    },
    {
     "name": "stdout",
     "output_type": "stream",
     "text": [
      "Found 2 word(s) missing in the model. Weighted missing percentage not covered by the given model is 1.47%.\n"
     ]
    },
    {
     "name": "stderr",
     "output_type": "stream",
     "text": [
      "collecting matches info:  43%|███████████████████████████████████████████████████████▊                                                                         | 973/2250 [03:49<05:32,  3.84it/s]"
     ]
    },
    {
     "name": "stdout",
     "output_type": "stream",
     "text": [
      "Found 3 word(s) missing in the model. Weighted missing percentage not covered by the given model is 0.97%.\n"
     ]
    },
    {
     "name": "stderr",
     "output_type": "stream",
     "text": [
      "\r",
      "collecting matches info:  43%|███████████████████████████████████████████████████████▊                                                                         | 974/2250 [03:50<05:10,  4.11it/s]"
     ]
    },
    {
     "name": "stdout",
     "output_type": "stream",
     "text": [
      "Found 3 word(s) missing in the model. Weighted missing percentage not covered by the given model is 1.13%.\n",
      "Found 1 word(s) missing in the model. Weighted missing percentage not covered by the given model is 0.37%.\n"
     ]
    },
    {
     "name": "stderr",
     "output_type": "stream",
     "text": [
      "collecting matches info:  43%|███████████████████████████████████████████████████████▉                                                                         | 976/2250 [03:50<04:56,  4.30it/s]"
     ]
    },
    {
     "name": "stdout",
     "output_type": "stream",
     "text": [
      "Found 1 word(s) missing in the model. Weighted missing percentage not covered by the given model is 0.40%.\n"
     ]
    },
    {
     "name": "stderr",
     "output_type": "stream",
     "text": [
      "collecting matches info:  43%|████████████████████████████████████████████████████████                                                                         | 978/2250 [03:50<04:57,  4.27it/s]"
     ]
    },
    {
     "name": "stdout",
     "output_type": "stream",
     "text": [
      "Found 1 word(s) missing in the model. Weighted missing percentage not covered by the given model is 0.40%.\n"
     ]
    },
    {
     "name": "stderr",
     "output_type": "stream",
     "text": [
      "collecting matches info:  45%|█████████████████████████████████████████████████████████                                                                       | 1003/2250 [03:55<03:53,  5.34it/s]"
     ]
    },
    {
     "name": "stdout",
     "output_type": "stream",
     "text": [
      "Found 1 word(s) missing in the model. Weighted missing percentage not covered by the given model is 1.32%.\n"
     ]
    },
    {
     "name": "stderr",
     "output_type": "stream",
     "text": [
      "collecting matches info:  45%|█████████████████████████████████████████████████████████▊                                                                      | 1017/2250 [03:57<03:15,  6.32it/s]"
     ]
    },
    {
     "name": "stdout",
     "output_type": "stream",
     "text": [
      "Found 5 word(s) missing in the model. Weighted missing percentage not covered by the given model is 1.39%.\n"
     ]
    },
    {
     "name": "stderr",
     "output_type": "stream",
     "text": [
      "collecting matches info:  46%|██████████████████████████████████████████████████████████▋                                                                     | 1031/2250 [04:01<05:09,  3.94it/s]"
     ]
    },
    {
     "name": "stdout",
     "output_type": "stream",
     "text": [
      "Found 1 word(s) missing in the model. Weighted missing percentage not covered by the given model is 3.57%.\n"
     ]
    },
    {
     "name": "stderr",
     "output_type": "stream",
     "text": [
      "collecting matches info:  46%|██████████████████████████████████████████████████████████▉                                                                     | 1035/2250 [04:02<04:14,  4.77it/s]"
     ]
    },
    {
     "name": "stdout",
     "output_type": "stream",
     "text": [
      "Found 1 word(s) missing in the model. Weighted missing percentage not covered by the given model is 1.45%.\n",
      "Found 2 word(s) missing in the model. Weighted missing percentage not covered by the given model is 0.56%.\n"
     ]
    },
    {
     "name": "stderr",
     "output_type": "stream",
     "text": [
      "collecting matches info:  46%|███████████████████████████████████████████████████████████▏                                                                    | 1041/2250 [04:03<04:48,  4.19it/s]"
     ]
    },
    {
     "name": "stdout",
     "output_type": "stream",
     "text": [
      "Found 3 word(s) missing in the model. Weighted missing percentage not covered by the given model is 0.84%.\n"
     ]
    },
    {
     "name": "stderr",
     "output_type": "stream",
     "text": [
      "collecting matches info:  46%|███████████████████████████████████████████████████████████▌                                                                    | 1046/2250 [04:04<03:40,  5.45it/s]"
     ]
    },
    {
     "name": "stdout",
     "output_type": "stream",
     "text": [
      "Found 10 word(s) missing in the model. Weighted missing percentage not covered by the given model is 3.95%.\n"
     ]
    },
    {
     "name": "stderr",
     "output_type": "stream",
     "text": [
      "collecting matches info:  47%|███████████████████████████████████████████████████████████▋                                                                    | 1050/2250 [04:05<03:42,  5.40it/s]"
     ]
    },
    {
     "name": "stdout",
     "output_type": "stream",
     "text": [
      "Found 1 word(s) missing in the model. Weighted missing percentage not covered by the given model is 1.22%.\n"
     ]
    },
    {
     "name": "stderr",
     "output_type": "stream",
     "text": [
      "collecting matches info:  47%|███████████████████████████████████████████████████████████▊                                                                    | 1052/2250 [04:05<03:12,  6.22it/s]"
     ]
    },
    {
     "name": "stdout",
     "output_type": "stream",
     "text": [
      "Found 1 word(s) missing in the model. Weighted missing percentage not covered by the given model is 0.23%.\n"
     ]
    },
    {
     "name": "stderr",
     "output_type": "stream",
     "text": [
      "collecting matches info:  48%|████████████████████████████████████████████████████████████▊                                                                   | 1069/2250 [04:09<04:41,  4.19it/s]"
     ]
    },
    {
     "name": "stdout",
     "output_type": "stream",
     "text": [
      "Found 1 word(s) missing in the model. Weighted missing percentage not covered by the given model is 0.42%.\n"
     ]
    },
    {
     "name": "stderr",
     "output_type": "stream",
     "text": [
      "collecting matches info:  48%|████████████████████████████████████████████████████████████▉                                                                   | 1071/2250 [04:09<04:28,  4.40it/s]"
     ]
    },
    {
     "name": "stdout",
     "output_type": "stream",
     "text": [
      "Found 1 word(s) missing in the model. Weighted missing percentage not covered by the given model is 0.32%.\n"
     ]
    },
    {
     "name": "stderr",
     "output_type": "stream",
     "text": [
      "collecting matches info:  48%|█████████████████████████████████████████████████████████████▏                                                                  | 1076/2250 [04:10<03:49,  5.11it/s]"
     ]
    },
    {
     "name": "stdout",
     "output_type": "stream",
     "text": [
      "Found 1 word(s) missing in the model. Weighted missing percentage not covered by the given model is 0.36%.\n",
      "Found 1 word(s) missing in the model. Weighted missing percentage not covered by the given model is 0.37%.\n"
     ]
    },
    {
     "name": "stderr",
     "output_type": "stream",
     "text": [
      "collecting matches info:  48%|█████████████████████████████████████████████████████████████▉                                                                  | 1089/2250 [04:12<03:20,  5.80it/s]"
     ]
    },
    {
     "name": "stdout",
     "output_type": "stream",
     "text": [
      "Found 2 word(s) missing in the model. Weighted missing percentage not covered by the given model is 0.86%.\n",
      "Found 2 word(s) missing in the model. Weighted missing percentage not covered by the given model is 0.88%.\n"
     ]
    },
    {
     "name": "stderr",
     "output_type": "stream",
     "text": [
      "collecting matches info:  48%|██████████████████████████████████████████████████████████████                                                                  | 1091/2250 [04:13<03:54,  4.95it/s]"
     ]
    },
    {
     "name": "stdout",
     "output_type": "stream",
     "text": [
      "Found 1 word(s) missing in the model. Weighted missing percentage not covered by the given model is 5.00%.\n"
     ]
    },
    {
     "name": "stderr",
     "output_type": "stream",
     "text": [
      "collecting matches info:  49%|██████████████████████████████████████████████████████████████▏                                                                 | 1093/2250 [04:13<04:41,  4.11it/s]"
     ]
    },
    {
     "name": "stdout",
     "output_type": "stream",
     "text": [
      "Found 2 word(s) missing in the model. Weighted missing percentage not covered by the given model is 7.69%.\n"
     ]
    },
    {
     "name": "stderr",
     "output_type": "stream",
     "text": [
      "collecting matches info:  49%|██████████████████████████████████████████████████████████████▎                                                                 | 1095/2250 [04:14<04:06,  4.69it/s]"
     ]
    },
    {
     "name": "stdout",
     "output_type": "stream",
     "text": [
      "Found 1 word(s) missing in the model. Weighted missing percentage not covered by the given model is 2.04%.\n"
     ]
    },
    {
     "name": "stderr",
     "output_type": "stream",
     "text": [
      "collecting matches info:  49%|██████████████████████████████████████████████████████████████▋                                                                 | 1103/2250 [04:15<03:09,  6.06it/s]"
     ]
    },
    {
     "name": "stdout",
     "output_type": "stream",
     "text": [
      "Found 5 word(s) missing in the model. Weighted missing percentage not covered by the given model is 1.16%.\n"
     ]
    },
    {
     "name": "stderr",
     "output_type": "stream",
     "text": [
      "collecting matches info:  49%|██████████████████████████████████████████████████████████████▊                                                                 | 1105/2250 [04:15<03:27,  5.51it/s]"
     ]
    },
    {
     "name": "stdout",
     "output_type": "stream",
     "text": [
      "Found 1 word(s) missing in the model. Weighted missing percentage not covered by the given model is 3.57%.\n"
     ]
    },
    {
     "name": "stderr",
     "output_type": "stream",
     "text": [
      "collecting matches info:  50%|███████████████████████████████████████████████████████████████▌                                                                | 1118/2250 [04:18<03:13,  5.84it/s]"
     ]
    },
    {
     "name": "stdout",
     "output_type": "stream",
     "text": [
      "Found 1 word(s) missing in the model. Weighted missing percentage not covered by the given model is 0.38%.\n"
     ]
    },
    {
     "name": "stderr",
     "output_type": "stream",
     "text": [
      "collecting matches info:  50%|████████████████████████████████████████████████████████████████▏                                                               | 1129/2250 [04:20<02:38,  7.06it/s]"
     ]
    },
    {
     "name": "stdout",
     "output_type": "stream",
     "text": [
      "Found 3 word(s) missing in the model. Weighted missing percentage not covered by the given model is 1.47%.\n"
     ]
    },
    {
     "name": "stderr",
     "output_type": "stream",
     "text": [
      "collecting matches info:  53%|███████████████████████████████████████████████████████████████████▊                                                            | 1193/2250 [04:28<01:28, 12.00it/s]"
     ]
    },
    {
     "name": "stdout",
     "output_type": "stream",
     "text": [
      "Found 3 word(s) missing in the model. Weighted missing percentage not covered by the given model is 1.44%.\n"
     ]
    },
    {
     "name": "stderr",
     "output_type": "stream",
     "text": [
      "collecting matches info:  53%|████████████████████████████████████████████████████████████████████▎                                                           | 1201/2250 [04:29<01:25, 12.29it/s]"
     ]
    },
    {
     "name": "stdout",
     "output_type": "stream",
     "text": [
      "Found 2 word(s) missing in the model. Weighted missing percentage not covered by the given model is 1.42%.\n"
     ]
    },
    {
     "name": "stderr",
     "output_type": "stream",
     "text": [
      "\r",
      "collecting matches info:  53%|████████████████████████████████████████████████████████████████████▍                                                           | 1203/2250 [04:29<01:28, 11.80it/s]"
     ]
    },
    {
     "name": "stdout",
     "output_type": "stream",
     "text": [
      "Found 1 word(s) missing in the model. Weighted missing percentage not covered by the given model is 0.95%.\n"
     ]
    },
    {
     "name": "stderr",
     "output_type": "stream",
     "text": [
      "collecting matches info:  54%|████████████████████████████████████████████████████████████████████▊                                                           | 1209/2250 [04:30<01:16, 13.57it/s]"
     ]
    },
    {
     "name": "stdout",
     "output_type": "stream",
     "text": [
      "Found 2 word(s) missing in the model. Weighted missing percentage not covered by the given model is 3.51%.\n",
      "Found 1 word(s) missing in the model. Weighted missing percentage not covered by the given model is 1.56%.\n"
     ]
    },
    {
     "name": "stderr",
     "output_type": "stream",
     "text": [
      "collecting matches info:  54%|█████████████████████████████████████████████████████████████████████▍                                                          | 1221/2250 [04:31<01:11, 14.30it/s]"
     ]
    },
    {
     "name": "stdout",
     "output_type": "stream",
     "text": [
      "Found 1 word(s) missing in the model. Weighted missing percentage not covered by the given model is 0.96%.\n"
     ]
    },
    {
     "name": "stderr",
     "output_type": "stream",
     "text": [
      "collecting matches info:  54%|█████████████████████████████████████████████████████████████████████▋                                                          | 1226/2250 [04:31<01:04, 15.91it/s]"
     ]
    },
    {
     "name": "stdout",
     "output_type": "stream",
     "text": [
      "Found 1 word(s) missing in the model. Weighted missing percentage not covered by the given model is 0.83%.\n"
     ]
    },
    {
     "name": "stderr",
     "output_type": "stream",
     "text": [
      "collecting matches info:  55%|█████████████████████████████████████████████████████████████████████▉                                                          | 1230/2250 [04:31<01:04, 15.83it/s]"
     ]
    },
    {
     "name": "stdout",
     "output_type": "stream",
     "text": [
      "Found 1 word(s) missing in the model. Weighted missing percentage not covered by the given model is 0.56%.\n"
     ]
    },
    {
     "name": "stderr",
     "output_type": "stream",
     "text": [
      "collecting matches info:  55%|██████████████████████████████████████████████████████████████████████▍                                                         | 1238/2250 [04:32<01:20, 12.54it/s]"
     ]
    },
    {
     "name": "stdout",
     "output_type": "stream",
     "text": [
      "Found 1 word(s) missing in the model. Weighted missing percentage not covered by the given model is 0.57%.\n"
     ]
    },
    {
     "name": "stderr",
     "output_type": "stream",
     "text": [
      "collecting matches info:  55%|██████████████████████████████████████████████████████████████████████▋                                                         | 1242/2250 [04:32<01:33, 10.74it/s]"
     ]
    },
    {
     "name": "stdout",
     "output_type": "stream",
     "text": [
      "Found 1 word(s) missing in the model. Weighted missing percentage not covered by the given model is 0.29%.\n",
      "Found 1 word(s) missing in the model. Weighted missing percentage not covered by the given model is 1.89%.\n"
     ]
    },
    {
     "name": "stderr",
     "output_type": "stream",
     "text": [
      "\r",
      "collecting matches info:  55%|██████████████████████████████████████████████████████████████████████▊                                                         | 1244/2250 [04:32<01:47,  9.37it/s]"
     ]
    },
    {
     "name": "stdout",
     "output_type": "stream",
     "text": [
      "Found 1 word(s) missing in the model. Weighted missing percentage not covered by the given model is 0.49%.\n"
     ]
    },
    {
     "name": "stderr",
     "output_type": "stream",
     "text": [
      "collecting matches info:  56%|███████████████████████████████████████████████████████████████████████▉                                                        | 1264/2250 [04:36<03:42,  4.44it/s]"
     ]
    },
    {
     "name": "stdout",
     "output_type": "stream",
     "text": [
      "Found 2 word(s) missing in the model. Weighted missing percentage not covered by the given model is 7.69%.\n"
     ]
    },
    {
     "name": "stderr",
     "output_type": "stream",
     "text": [
      "collecting matches info:  56%|████████████████████████████████████████████████████████████████████████                                                        | 1267/2250 [04:37<03:51,  4.25it/s]"
     ]
    },
    {
     "name": "stdout",
     "output_type": "stream",
     "text": [
      "Found 1 word(s) missing in the model. Weighted missing percentage not covered by the given model is 2.70%.\n"
     ]
    },
    {
     "name": "stderr",
     "output_type": "stream",
     "text": [
      "collecting matches info:  56%|████████████████████████████████████████████████████████████████████████▏                                                       | 1270/2250 [04:37<03:39,  4.46it/s]"
     ]
    },
    {
     "name": "stdout",
     "output_type": "stream",
     "text": [
      "Found 1 word(s) missing in the model. Weighted missing percentage not covered by the given model is 3.45%.\n"
     ]
    },
    {
     "name": "stderr",
     "output_type": "stream",
     "text": [
      "collecting matches info:  57%|█████████████████████████████████████████████████████████████████████████                                                       | 1284/2250 [04:40<02:20,  6.86it/s]"
     ]
    },
    {
     "name": "stdout",
     "output_type": "stream",
     "text": [
      "Found 9 word(s) missing in the model. Weighted missing percentage not covered by the given model is 2.29%.\n"
     ]
    },
    {
     "name": "stderr",
     "output_type": "stream",
     "text": [
      "collecting matches info:  59%|███████████████████████████████████████████████████████████████████████████▏                                                    | 1322/2250 [04:48<03:43,  4.15it/s]"
     ]
    },
    {
     "name": "stdout",
     "output_type": "stream",
     "text": [
      "Found 1 word(s) missing in the model. Weighted missing percentage not covered by the given model is 7.14%.\n"
     ]
    },
    {
     "name": "stderr",
     "output_type": "stream",
     "text": [
      "collecting matches info:  59%|███████████████████████████████████████████████████████████████████████████▌                                                    | 1328/2250 [04:49<03:23,  4.54it/s]"
     ]
    },
    {
     "name": "stdout",
     "output_type": "stream",
     "text": [
      "Found 1 word(s) missing in the model. Weighted missing percentage not covered by the given model is 5.88%.\n"
     ]
    },
    {
     "name": "stderr",
     "output_type": "stream",
     "text": [
      "collecting matches info:  59%|███████████████████████████████████████████████████████████████████████████▋                                                    | 1331/2250 [04:50<03:25,  4.47it/s]"
     ]
    },
    {
     "name": "stdout",
     "output_type": "stream",
     "text": [
      "Found 1 word(s) missing in the model. Weighted missing percentage not covered by the given model is 9.09%.\n"
     ]
    },
    {
     "name": "stderr",
     "output_type": "stream",
     "text": [
      "\r",
      "collecting matches info:  59%|███████████████████████████████████████████████████████████████████████████▊                                                    | 1332/2250 [04:50<03:37,  4.23it/s]"
     ]
    },
    {
     "name": "stdout",
     "output_type": "stream",
     "text": [
      "Found 1 word(s) missing in the model. Weighted missing percentage not covered by the given model is 8.33%.\n"
     ]
    },
    {
     "name": "stderr",
     "output_type": "stream",
     "text": [
      "collecting matches info:  59%|███████████████████████████████████████████████████████████████████████████▉                                                    | 1334/2250 [04:50<03:37,  4.20it/s]"
     ]
    },
    {
     "name": "stdout",
     "output_type": "stream",
     "text": [
      "Found 1 word(s) missing in the model. Weighted missing percentage not covered by the given model is 2.78%.\n"
     ]
    },
    {
     "name": "stderr",
     "output_type": "stream",
     "text": [
      "collecting matches info:  59%|████████████████████████████████████████████████████████████████████████████                                                    | 1336/2250 [04:51<03:16,  4.64it/s]"
     ]
    },
    {
     "name": "stdout",
     "output_type": "stream",
     "text": [
      "Found 1 word(s) missing in the model. Weighted missing percentage not covered by the given model is 3.85%.\n"
     ]
    },
    {
     "name": "stderr",
     "output_type": "stream",
     "text": [
      "collecting matches info:  60%|████████████████████████████████████████████████████████████████████████████▏                                                   | 1339/2250 [04:51<02:51,  5.30it/s]"
     ]
    },
    {
     "name": "stdout",
     "output_type": "stream",
     "text": [
      "Found 1 word(s) missing in the model. Weighted missing percentage not covered by the given model is 3.12%.\n"
     ]
    },
    {
     "name": "stderr",
     "output_type": "stream",
     "text": [
      "collecting matches info:  60%|████████████████████████████████████████████████████████████████████████████▌                                                   | 1346/2250 [04:53<02:49,  5.34it/s]"
     ]
    },
    {
     "name": "stdout",
     "output_type": "stream",
     "text": [
      "Found 1 word(s) missing in the model. Weighted missing percentage not covered by the given model is 1.96%.\n"
     ]
    },
    {
     "name": "stderr",
     "output_type": "stream",
     "text": [
      "collecting matches info:  60%|█████████████████████████████████████████████████████████████████████████████                                                   | 1355/2250 [04:55<02:53,  5.17it/s]"
     ]
    },
    {
     "name": "stdout",
     "output_type": "stream",
     "text": [
      "Found 1 word(s) missing in the model. Weighted missing percentage not covered by the given model is 3.70%.\n"
     ]
    },
    {
     "name": "stderr",
     "output_type": "stream",
     "text": [
      "collecting matches info:  61%|█████████████████████████████████████████████████████████████████████████████▊                                                  | 1367/2250 [04:57<03:46,  3.89it/s]"
     ]
    },
    {
     "name": "stdout",
     "output_type": "stream",
     "text": [
      "Found 4 word(s) missing in the model. Weighted missing percentage not covered by the given model is 1.16%.\n"
     ]
    },
    {
     "name": "stderr",
     "output_type": "stream",
     "text": [
      "\r",
      "collecting matches info:  61%|█████████████████████████████████████████████████████████████████████████████▊                                                  | 1368/2250 [04:58<04:02,  3.64it/s]"
     ]
    },
    {
     "name": "stdout",
     "output_type": "stream",
     "text": [
      "Found 2 word(s) missing in the model. Weighted missing percentage not covered by the given model is 0.64%.\n"
     ]
    },
    {
     "name": "stderr",
     "output_type": "stream",
     "text": [
      "\r",
      "collecting matches info:  61%|█████████████████████████████████████████████████████████████████████████████▉                                                  | 1369/2250 [04:58<04:11,  3.51it/s]"
     ]
    },
    {
     "name": "stdout",
     "output_type": "stream",
     "text": [
      "Found 1 word(s) missing in the model. Weighted missing percentage not covered by the given model is 0.39%.\n"
     ]
    },
    {
     "name": "stderr",
     "output_type": "stream",
     "text": [
      "\r",
      "collecting matches info:  61%|█████████████████████████████████████████████████████████████████████████████▉                                                  | 1370/2250 [04:58<04:01,  3.64it/s]"
     ]
    },
    {
     "name": "stdout",
     "output_type": "stream",
     "text": [
      "Found 1 word(s) missing in the model. Weighted missing percentage not covered by the given model is 2.50%.\n"
     ]
    },
    {
     "name": "stderr",
     "output_type": "stream",
     "text": [
      "\r",
      "collecting matches info:  61%|█████████████████████████████████████████████████████████████████████████████▉                                                  | 1371/2250 [04:58<03:50,  3.82it/s]"
     ]
    },
    {
     "name": "stdout",
     "output_type": "stream",
     "text": [
      "Found 2 word(s) missing in the model. Weighted missing percentage not covered by the given model is 1.92%.\n"
     ]
    },
    {
     "name": "stderr",
     "output_type": "stream",
     "text": [
      "\r",
      "collecting matches info:  61%|██████████████████████████████████████████████████████████████████████████████                                                  | 1372/2250 [04:59<03:41,  3.96it/s]"
     ]
    },
    {
     "name": "stdout",
     "output_type": "stream",
     "text": [
      "Found 1 word(s) missing in the model. Weighted missing percentage not covered by the given model is 6.25%.\n"
     ]
    },
    {
     "name": "stderr",
     "output_type": "stream",
     "text": [
      "collecting matches info:  61%|██████████████████████████████████████████████████████████████████████████████▎                                                 | 1376/2250 [05:00<03:35,  4.06it/s]"
     ]
    },
    {
     "name": "stdout",
     "output_type": "stream",
     "text": [
      "Found 1 word(s) missing in the model. Weighted missing percentage not covered by the given model is 2.33%.\n"
     ]
    },
    {
     "name": "stderr",
     "output_type": "stream",
     "text": [
      "collecting matches info:  61%|██████████████████████████████████████████████████████████████████████████████▍                                                 | 1379/2250 [05:00<03:20,  4.34it/s]"
     ]
    },
    {
     "name": "stdout",
     "output_type": "stream",
     "text": [
      "Found 1 word(s) missing in the model. Weighted missing percentage not covered by the given model is 1.16%.\n"
     ]
    },
    {
     "name": "stderr",
     "output_type": "stream",
     "text": [
      "collecting matches info:  61%|██████████████████████████████████████████████████████████████████████████████▌                                                 | 1382/2250 [05:01<02:59,  4.84it/s]"
     ]
    },
    {
     "name": "stdout",
     "output_type": "stream",
     "text": [
      "Found 1 word(s) missing in the model. Weighted missing percentage not covered by the given model is 3.70%.\n"
     ]
    },
    {
     "name": "stderr",
     "output_type": "stream",
     "text": [
      "\r",
      "collecting matches info:  61%|██████████████████████████████████████████████████████████████████████████████▋                                                 | 1383/2250 [05:01<02:47,  5.19it/s]"
     ]
    },
    {
     "name": "stdout",
     "output_type": "stream",
     "text": [
      "Found 2 word(s) missing in the model. Weighted missing percentage not covered by the given model is 0.91%.\n"
     ]
    },
    {
     "name": "stderr",
     "output_type": "stream",
     "text": [
      "collecting matches info:  62%|██████████████████████████████████████████████████████████████████████████████▊                                                 | 1385/2250 [05:01<02:45,  5.24it/s]"
     ]
    },
    {
     "name": "stdout",
     "output_type": "stream",
     "text": [
      "Found 1 word(s) missing in the model. Weighted missing percentage not covered by the given model is 0.36%.\n"
     ]
    },
    {
     "name": "stderr",
     "output_type": "stream",
     "text": [
      "collecting matches info:  62%|███████████████████████████████████████████████████████████████████████████████                                                 | 1390/2250 [05:02<02:55,  4.89it/s]"
     ]
    },
    {
     "name": "stdout",
     "output_type": "stream",
     "text": [
      "Found 1 word(s) missing in the model. Weighted missing percentage not covered by the given model is 3.70%.\n"
     ]
    },
    {
     "name": "stderr",
     "output_type": "stream",
     "text": [
      "collecting matches info:  62%|███████████████████████████████████████████████████████████████████████████████▏                                                | 1393/2250 [05:03<02:27,  5.79it/s]"
     ]
    },
    {
     "name": "stdout",
     "output_type": "stream",
     "text": [
      "Found 1 word(s) missing in the model. Weighted missing percentage not covered by the given model is 0.47%.\n"
     ]
    },
    {
     "name": "stderr",
     "output_type": "stream",
     "text": [
      "\r",
      "collecting matches info:  62%|███████████████████████████████████████████████████████████████████████████████▎                                                | 1395/2250 [05:03<01:57,  7.26it/s]"
     ]
    },
    {
     "name": "stdout",
     "output_type": "stream",
     "text": [
      "Found 1 word(s) missing in the model. Weighted missing percentage not covered by the given model is 0.44%.\n"
     ]
    },
    {
     "name": "stderr",
     "output_type": "stream",
     "text": [
      "collecting matches info:  62%|███████████████████████████████████████████████████████████████████████████████▌                                                | 1399/2250 [05:04<01:56,  7.29it/s]"
     ]
    },
    {
     "name": "stdout",
     "output_type": "stream",
     "text": [
      "Found 1 word(s) missing in the model. Weighted missing percentage not covered by the given model is 0.85%.\n"
     ]
    },
    {
     "name": "stderr",
     "output_type": "stream",
     "text": [
      "collecting matches info:  62%|███████████████████████████████████████████████████████████████████████████████▊                                                | 1402/2250 [05:04<02:32,  5.58it/s]"
     ]
    },
    {
     "name": "stdout",
     "output_type": "stream",
     "text": [
      "Found 1 word(s) missing in the model. Weighted missing percentage not covered by the given model is 9.09%.\n"
     ]
    },
    {
     "name": "stderr",
     "output_type": "stream",
     "text": [
      "collecting matches info:  62%|███████████████████████████████████████████████████████████████████████████████▊                                                | 1404/2250 [05:05<02:33,  5.51it/s]"
     ]
    },
    {
     "name": "stdout",
     "output_type": "stream",
     "text": [
      "Found 1 word(s) missing in the model. Weighted missing percentage not covered by the given model is 5.88%.\n"
     ]
    },
    {
     "name": "stderr",
     "output_type": "stream",
     "text": [
      "collecting matches info:  63%|████████████████████████████████████████████████████████████████████████████████▋                                               | 1418/2250 [05:07<01:45,  7.88it/s]"
     ]
    },
    {
     "name": "stdout",
     "output_type": "stream",
     "text": [
      "Found 2 word(s) missing in the model. Weighted missing percentage not covered by the given model is 0.73%.\n"
     ]
    },
    {
     "name": "stderr",
     "output_type": "stream",
     "text": [
      "collecting matches info:  65%|███████████████████████████████████████████████████████████████████████████████████▋                                            | 1470/2250 [05:17<02:19,  5.59it/s]"
     ]
    },
    {
     "name": "stdout",
     "output_type": "stream",
     "text": [
      "Found 1 word(s) missing in the model. Weighted missing percentage not covered by the given model is 0.40%.\n"
     ]
    },
    {
     "name": "stderr",
     "output_type": "stream",
     "text": [
      "collecting matches info:  65%|███████████████████████████████████████████████████████████████████████████████████▋                                            | 1472/2250 [05:17<02:22,  5.46it/s]"
     ]
    },
    {
     "name": "stdout",
     "output_type": "stream",
     "text": [
      "Found 1 word(s) missing in the model. Weighted missing percentage not covered by the given model is 0.37%.\n"
     ]
    },
    {
     "name": "stderr",
     "output_type": "stream",
     "text": [
      "collecting matches info:  66%|████████████████████████████████████████████████████████████████████████████████████▌                                           | 1487/2250 [05:20<02:23,  5.33it/s]"
     ]
    },
    {
     "name": "stdout",
     "output_type": "stream",
     "text": [
      "Found 1 word(s) missing in the model. Weighted missing percentage not covered by the given model is 5.56%.\n"
     ]
    },
    {
     "name": "stderr",
     "output_type": "stream",
     "text": [
      "collecting matches info:  66%|████████████████████████████████████████████████████████████████████████████████████▋                                           | 1489/2250 [05:20<02:33,  4.97it/s]"
     ]
    },
    {
     "name": "stdout",
     "output_type": "stream",
     "text": [
      "Found 3 word(s) missing in the model. Weighted missing percentage not covered by the given model is 16.67%.\n"
     ]
    },
    {
     "name": "stderr",
     "output_type": "stream",
     "text": [
      "collecting matches info:  66%|████████████████████████████████████████████████████████████████████████████████████▊                                           | 1491/2250 [05:21<02:41,  4.70it/s]"
     ]
    },
    {
     "name": "stdout",
     "output_type": "stream",
     "text": [
      "Found 4 word(s) missing in the model. Weighted missing percentage not covered by the given model is 17.39%.\n"
     ]
    },
    {
     "name": "stderr",
     "output_type": "stream",
     "text": [
      "collecting matches info:  66%|█████████████████████████████████████████████████████████████████████████████████████                                           | 1495/2250 [05:22<02:49,  4.44it/s]"
     ]
    },
    {
     "name": "stdout",
     "output_type": "stream",
     "text": [
      "Found 1 word(s) missing in the model. Weighted missing percentage not covered by the given model is 2.50%.\n"
     ]
    },
    {
     "name": "stderr",
     "output_type": "stream",
     "text": [
      "collecting matches info:  67%|█████████████████████████████████████████████████████████████████████████████████████▍                                          | 1502/2250 [05:23<02:39,  4.68it/s]"
     ]
    },
    {
     "name": "stdout",
     "output_type": "stream",
     "text": [
      "Found 1 word(s) missing in the model. Weighted missing percentage not covered by the given model is 2.56%.\n"
     ]
    },
    {
     "name": "stderr",
     "output_type": "stream",
     "text": [
      "collecting matches info:  67%|█████████████████████████████████████████████████████████████████████████████████████▉                                          | 1511/2250 [05:25<02:32,  4.83it/s]"
     ]
    },
    {
     "name": "stdout",
     "output_type": "stream",
     "text": [
      "Found 1 word(s) missing in the model. Weighted missing percentage not covered by the given model is 4.17%.\n"
     ]
    },
    {
     "name": "stderr",
     "output_type": "stream",
     "text": [
      "collecting matches info:  68%|██████████████████████████████████████████████████████████████████████████████████████▋                                         | 1524/2250 [05:28<02:49,  4.27it/s]"
     ]
    },
    {
     "name": "stdout",
     "output_type": "stream",
     "text": [
      "Found 1 word(s) missing in the model. Weighted missing percentage not covered by the given model is 0.36%.\n"
     ]
    },
    {
     "name": "stderr",
     "output_type": "stream",
     "text": [
      "collecting matches info:  68%|██████████████████████████████████████████████████████████████████████████████████████▊                                         | 1526/2250 [05:29<02:48,  4.30it/s]"
     ]
    },
    {
     "name": "stdout",
     "output_type": "stream",
     "text": [
      "Found 1 word(s) missing in the model. Weighted missing percentage not covered by the given model is 0.34%.\n"
     ]
    },
    {
     "name": "stderr",
     "output_type": "stream",
     "text": [
      "collecting matches info:  68%|███████████████████████████████████████████████████████████████████████████████████████▏                                        | 1533/2250 [05:30<02:28,  4.82it/s]"
     ]
    },
    {
     "name": "stdout",
     "output_type": "stream",
     "text": [
      "Found 1 word(s) missing in the model. Weighted missing percentage not covered by the given model is 0.51%.\n"
     ]
    },
    {
     "name": "stderr",
     "output_type": "stream",
     "text": [
      "collecting matches info:  69%|████████████████████████████████████████████████████████████████████████████████████████▌                                       | 1556/2250 [05:35<02:42,  4.28it/s]"
     ]
    },
    {
     "name": "stdout",
     "output_type": "stream",
     "text": [
      "Found 1 word(s) missing in the model. Weighted missing percentage not covered by the given model is 0.27%.\n"
     ]
    },
    {
     "name": "stderr",
     "output_type": "stream",
     "text": [
      "collecting matches info:  70%|█████████████████████████████████████████████████████████████████████████████████████████▉                                      | 1581/2250 [05:39<01:59,  5.62it/s]"
     ]
    },
    {
     "name": "stdout",
     "output_type": "stream",
     "text": [
      "Found 1 word(s) missing in the model. Weighted missing percentage not covered by the given model is 1.61%.\n"
     ]
    },
    {
     "name": "stderr",
     "output_type": "stream",
     "text": [
      "collecting matches info:  71%|██████████████████████████████████████████████████████████████████████████████████████████▎                                     | 1588/2250 [05:41<02:15,  4.90it/s]"
     ]
    },
    {
     "name": "stdout",
     "output_type": "stream",
     "text": [
      "Found 1 word(s) missing in the model. Weighted missing percentage not covered by the given model is 0.34%.\n"
     ]
    },
    {
     "name": "stderr",
     "output_type": "stream",
     "text": [
      "collecting matches info:  71%|██████████████████████████████████████████████████████████████████████████████████████████▌                                     | 1591/2250 [05:42<02:27,  4.45it/s]"
     ]
    },
    {
     "name": "stdout",
     "output_type": "stream",
     "text": [
      "Found 1 word(s) missing in the model. Weighted missing percentage not covered by the given model is 0.88%.\n"
     ]
    },
    {
     "name": "stderr",
     "output_type": "stream",
     "text": [
      "collecting matches info:  71%|███████████████████████████████████████████████████████████████████████████████████████████▎                                    | 1605/2250 [05:44<01:05,  9.81it/s]"
     ]
    },
    {
     "name": "stdout",
     "output_type": "stream",
     "text": [
      "Found 1 word(s) missing in the model. Weighted missing percentage not covered by the given model is 0.30%.\n"
     ]
    },
    {
     "name": "stderr",
     "output_type": "stream",
     "text": [
      "collecting matches info:  72%|███████████████████████████████████████████████████████████████████████████████████████████▉                                    | 1615/2250 [05:45<01:39,  6.39it/s]"
     ]
    },
    {
     "name": "stdout",
     "output_type": "stream",
     "text": [
      "Found 1 word(s) missing in the model. Weighted missing percentage not covered by the given model is 0.34%.\n",
      "Found 2 word(s) missing in the model. Weighted missing percentage not covered by the given model is 1.00%.\n"
     ]
    },
    {
     "name": "stderr",
     "output_type": "stream",
     "text": [
      "collecting matches info:  73%|████████████████████████████████████████████████████████████████████████████████████████████▊                                   | 1632/2250 [05:47<01:18,  7.84it/s]"
     ]
    },
    {
     "name": "stdout",
     "output_type": "stream",
     "text": [
      "Found 2 word(s) missing in the model. Weighted missing percentage not covered by the given model is 1.01%.\n"
     ]
    },
    {
     "name": "stderr",
     "output_type": "stream",
     "text": [
      "collecting matches info:  73%|█████████████████████████████████████████████████████████████████████████████████████████████▎                                  | 1640/2250 [05:49<01:41,  6.00it/s]"
     ]
    },
    {
     "name": "stdout",
     "output_type": "stream",
     "text": [
      "Found 1 word(s) missing in the model. Weighted missing percentage not covered by the given model is 1.89%.\n"
     ]
    },
    {
     "name": "stderr",
     "output_type": "stream",
     "text": [
      "collecting matches info:  73%|█████████████████████████████████████████████████████████████████████████████████████████████▌                                  | 1645/2250 [05:49<01:27,  6.92it/s]"
     ]
    },
    {
     "name": "stdout",
     "output_type": "stream",
     "text": [
      "Found 1 word(s) missing in the model. Weighted missing percentage not covered by the given model is 1.85%.\n"
     ]
    },
    {
     "name": "stderr",
     "output_type": "stream",
     "text": [
      "collecting matches info:  74%|██████████████████████████████████████████████████████████████████████████████████████████████▎                                 | 1657/2250 [05:51<01:16,  7.80it/s]"
     ]
    },
    {
     "name": "stdout",
     "output_type": "stream",
     "text": [
      "Found 1 word(s) missing in the model. Weighted missing percentage not covered by the given model is 1.52%.\n"
     ]
    },
    {
     "name": "stderr",
     "output_type": "stream",
     "text": [
      "collecting matches info:  74%|██████████████████████████████████████████████████████████████████████████████████████████████▍                                 | 1659/2250 [05:52<01:37,  6.07it/s]"
     ]
    },
    {
     "name": "stdout",
     "output_type": "stream",
     "text": [
      "Found 1 word(s) missing in the model. Weighted missing percentage not covered by the given model is 0.47%.\n"
     ]
    },
    {
     "name": "stderr",
     "output_type": "stream",
     "text": [
      "collecting matches info:  74%|██████████████████████████████████████████████████████████████████████████████████████████████▍                                 | 1661/2250 [05:52<01:42,  5.73it/s]"
     ]
    },
    {
     "name": "stdout",
     "output_type": "stream",
     "text": [
      "Found 1 word(s) missing in the model. Weighted missing percentage not covered by the given model is 0.40%.\n"
     ]
    },
    {
     "name": "stderr",
     "output_type": "stream",
     "text": [
      "collecting matches info:  74%|██████████████████████████████████████████████████████████████████████████████████████████████▋                                 | 1664/2250 [05:53<02:05,  4.66it/s]"
     ]
    },
    {
     "name": "stdout",
     "output_type": "stream",
     "text": [
      "Found 7 word(s) missing in the model. Weighted missing percentage not covered by the given model is 3.24%.\n"
     ]
    },
    {
     "name": "stderr",
     "output_type": "stream",
     "text": [
      "collecting matches info:  74%|██████████████████████████████████████████████████████████████████████████████████████████████▉                                 | 1669/2250 [05:54<02:04,  4.68it/s]"
     ]
    },
    {
     "name": "stdout",
     "output_type": "stream",
     "text": [
      "Found 6 word(s) missing in the model. Weighted missing percentage not covered by the given model is 2.75%.\n"
     ]
    },
    {
     "name": "stderr",
     "output_type": "stream",
     "text": [
      "collecting matches info:  74%|███████████████████████████████████████████████████████████████████████████████████████████████                                 | 1671/2250 [05:54<02:08,  4.52it/s]"
     ]
    },
    {
     "name": "stdout",
     "output_type": "stream",
     "text": [
      "Found 1 word(s) missing in the model. Weighted missing percentage not covered by the given model is 0.46%.\n"
     ]
    },
    {
     "name": "stderr",
     "output_type": "stream",
     "text": [
      "collecting matches info:  74%|███████████████████████████████████████████████████████████████████████████████████████████████▏                                | 1674/2250 [05:55<01:37,  5.89it/s]"
     ]
    },
    {
     "name": "stdout",
     "output_type": "stream",
     "text": [
      "Found 6 word(s) missing in the model. Weighted missing percentage not covered by the given model is 2.69%.\n"
     ]
    },
    {
     "name": "stderr",
     "output_type": "stream",
     "text": [
      "collecting matches info:  76%|████████████████████████████████████████████████████████████████████████████████████████████████▊                               | 1702/2250 [06:00<01:35,  5.71it/s]"
     ]
    },
    {
     "name": "stdout",
     "output_type": "stream",
     "text": [
      "Found 1 word(s) missing in the model. Weighted missing percentage not covered by the given model is 0.62%.\n"
     ]
    },
    {
     "name": "stderr",
     "output_type": "stream",
     "text": [
      "collecting matches info:  76%|█████████████████████████████████████████████████████████████████████████████████████████████████▏                              | 1708/2250 [06:01<01:10,  7.73it/s]"
     ]
    },
    {
     "name": "stdout",
     "output_type": "stream",
     "text": [
      "Found 1 word(s) missing in the model. Weighted missing percentage not covered by the given model is 0.77%.\n"
     ]
    },
    {
     "name": "stderr",
     "output_type": "stream",
     "text": [
      "collecting matches info:  76%|█████████████████████████████████████████████████████████████████████████████████████████████████▎                              | 1711/2250 [06:01<01:21,  6.62it/s]"
     ]
    },
    {
     "name": "stdout",
     "output_type": "stream",
     "text": [
      "Found 1 word(s) missing in the model. Weighted missing percentage not covered by the given model is 0.45%.\n"
     ]
    },
    {
     "name": "stderr",
     "output_type": "stream",
     "text": [
      "collecting matches info:  78%|███████████████████████████████████████████████████████████████████████████████████████████████████▊                            | 1754/2250 [06:08<01:31,  5.43it/s]"
     ]
    },
    {
     "name": "stdout",
     "output_type": "stream",
     "text": [
      "Found 1 word(s) missing in the model. Weighted missing percentage not covered by the given model is 0.41%.\n"
     ]
    },
    {
     "name": "stderr",
     "output_type": "stream",
     "text": [
      "\r",
      "collecting matches info:  78%|███████████████████████████████████████████████████████████████████████████████████████████████████▊                            | 1755/2250 [06:08<01:44,  4.75it/s]"
     ]
    },
    {
     "name": "stdout",
     "output_type": "stream",
     "text": [
      "Found 1 word(s) missing in the model. Weighted missing percentage not covered by the given model is 0.43%.\n"
     ]
    },
    {
     "name": "stderr",
     "output_type": "stream",
     "text": [
      "collecting matches info:  78%|████████████████████████████████████████████████████████████████████████████████████████████████████▎                           | 1763/2250 [06:10<02:02,  3.97it/s]"
     ]
    },
    {
     "name": "stdout",
     "output_type": "stream",
     "text": [
      "Found 1 word(s) missing in the model. Weighted missing percentage not covered by the given model is 0.41%.\n"
     ]
    },
    {
     "name": "stderr",
     "output_type": "stream",
     "text": [
      "collecting matches info:  78%|████████████████████████████████████████████████████████████████████████████████████████████████████▍                           | 1766/2250 [06:11<01:45,  4.58it/s]"
     ]
    },
    {
     "name": "stdout",
     "output_type": "stream",
     "text": [
      "Found 1 word(s) missing in the model. Weighted missing percentage not covered by the given model is 0.42%.\n"
     ]
    },
    {
     "name": "stderr",
     "output_type": "stream",
     "text": [
      "collecting matches info:  80%|██████████████████████████████████████████████████████████████████████████████████████████████████████▉                         | 1809/2250 [06:21<01:56,  3.77it/s]"
     ]
    },
    {
     "name": "stdout",
     "output_type": "stream",
     "text": [
      "Found 2 word(s) missing in the model. Weighted missing percentage not covered by the given model is 9.09%.\n"
     ]
    },
    {
     "name": "stderr",
     "output_type": "stream",
     "text": [
      "collecting matches info:  81%|███████████████████████████████████████████████████████████████████████████████████████████████████████▎                        | 1816/2250 [06:22<01:24,  5.15it/s]"
     ]
    },
    {
     "name": "stdout",
     "output_type": "stream",
     "text": [
      "Found 1 word(s) missing in the model. Weighted missing percentage not covered by the given model is 0.33%.\n"
     ]
    },
    {
     "name": "stderr",
     "output_type": "stream",
     "text": [
      "collecting matches info:  81%|███████████████████████████████████████████████████████████████████████████████████████████████████████▍                        | 1818/2250 [06:23<01:23,  5.19it/s]"
     ]
    },
    {
     "name": "stdout",
     "output_type": "stream",
     "text": [
      "Found 1 word(s) missing in the model. Weighted missing percentage not covered by the given model is 0.36%.\n"
     ]
    },
    {
     "name": "stderr",
     "output_type": "stream",
     "text": [
      "collecting matches info:  81%|████████████████████████████████████████████████████████████████████████████████████████████████████████                        | 1830/2250 [06:25<01:26,  4.85it/s]"
     ]
    },
    {
     "name": "stdout",
     "output_type": "stream",
     "text": [
      "Found 1 word(s) missing in the model. Weighted missing percentage not covered by the given model is 0.34%.\n"
     ]
    },
    {
     "name": "stderr",
     "output_type": "stream",
     "text": [
      "collecting matches info:  82%|████████████████████████████████████████████████████████████████████████████████████████████████████████▌                       | 1837/2250 [06:26<01:21,  5.06it/s]"
     ]
    },
    {
     "name": "stdout",
     "output_type": "stream",
     "text": [
      "Found 1 word(s) missing in the model. Weighted missing percentage not covered by the given model is 7.69%.\n"
     ]
    },
    {
     "name": "stderr",
     "output_type": "stream",
     "text": [
      "collecting matches info:  83%|██████████████████████████████████████████████████████████████████████████████████████████████████████████                      | 1864/2250 [06:32<01:22,  4.70it/s]"
     ]
    },
    {
     "name": "stdout",
     "output_type": "stream",
     "text": [
      "Found 1 word(s) missing in the model. Weighted missing percentage not covered by the given model is 10.00%.\n"
     ]
    },
    {
     "name": "stderr",
     "output_type": "stream",
     "text": [
      "collecting matches info:  84%|███████████████████████████████████████████████████████████████████████████████████████████████████████████                     | 1882/2250 [06:35<01:08,  5.35it/s]"
     ]
    },
    {
     "name": "stdout",
     "output_type": "stream",
     "text": [
      "Found 1 word(s) missing in the model. Weighted missing percentage not covered by the given model is 9.09%.\n"
     ]
    },
    {
     "name": "stderr",
     "output_type": "stream",
     "text": [
      "collecting matches info:  88%|████████████████████████████████████████████████████████████████████████████████████████████████████████████████▏               | 1973/2250 [06:52<00:31,  8.82it/s]"
     ]
    },
    {
     "name": "stdout",
     "output_type": "stream",
     "text": [
      "Found 1 word(s) missing in the model. Weighted missing percentage not covered by the given model is 3.12%.\n",
      "Found 2 word(s) missing in the model. Weighted missing percentage not covered by the given model is 2.50%.\n"
     ]
    },
    {
     "name": "stderr",
     "output_type": "stream",
     "text": [
      "collecting matches info:  88%|████████████████████████████████████████████████████████████████████████████████████████████████████████████████▌               | 1979/2250 [06:52<00:41,  6.53it/s]"
     ]
    },
    {
     "name": "stdout",
     "output_type": "stream",
     "text": [
      "Found 1 word(s) missing in the model. Weighted missing percentage not covered by the given model is 0.43%.\n"
     ]
    },
    {
     "name": "stderr",
     "output_type": "stream",
     "text": [
      "collecting matches info:  88%|████████████████████████████████████████████████████████████████████████████████████████████████████████████████▊               | 1983/2250 [06:53<00:56,  4.71it/s]"
     ]
    },
    {
     "name": "stdout",
     "output_type": "stream",
     "text": [
      "Found 2 word(s) missing in the model. Weighted missing percentage not covered by the given model is 0.88%.\n"
     ]
    },
    {
     "name": "stderr",
     "output_type": "stream",
     "text": [
      "collecting matches info:  88%|████████████████████████████████████████████████████████████████████████████████████████████████████████████████▉               | 1986/2250 [06:54<00:50,  5.22it/s]"
     ]
    },
    {
     "name": "stdout",
     "output_type": "stream",
     "text": [
      "Found 1 word(s) missing in the model. Weighted missing percentage not covered by the given model is 0.38%.\n"
     ]
    },
    {
     "name": "stderr",
     "output_type": "stream",
     "text": [
      "collecting matches info:  88%|█████████████████████████████████████████████████████████████████████████████████████████████████████████████████               | 1988/2250 [06:54<00:53,  4.94it/s]"
     ]
    },
    {
     "name": "stdout",
     "output_type": "stream",
     "text": [
      "Found 1 word(s) missing in the model. Weighted missing percentage not covered by the given model is 1.72%.\n"
     ]
    },
    {
     "name": "stderr",
     "output_type": "stream",
     "text": [
      "\r",
      "collecting matches info:  88%|█████████████████████████████████████████████████████████████████████████████████████████████████████████████████▏              | 1990/2250 [06:55<00:43,  6.03it/s]"
     ]
    },
    {
     "name": "stdout",
     "output_type": "stream",
     "text": [
      "Found 1 word(s) missing in the model. Weighted missing percentage not covered by the given model is 0.31%.\n"
     ]
    },
    {
     "name": "stderr",
     "output_type": "stream",
     "text": [
      "collecting matches info:  89%|█████████████████████████████████████████████████████████████████████████████████████████████████████████████████▊              | 2001/2250 [06:57<00:55,  4.47it/s]"
     ]
    },
    {
     "name": "stdout",
     "output_type": "stream",
     "text": [
      "Found 1 word(s) missing in the model. Weighted missing percentage not covered by the given model is 0.56%.\n",
      "Found 2 word(s) missing in the model. Weighted missing percentage not covered by the given model is 1.34%.\n"
     ]
    },
    {
     "name": "stderr",
     "output_type": "stream",
     "text": [
      "\r",
      "collecting matches info:  89%|█████████████████████████████████████████████████████████████████████████████████████████████████████████████████▉              | 2003/2250 [06:58<00:53,  4.64it/s]"
     ]
    },
    {
     "name": "stdout",
     "output_type": "stream",
     "text": [
      "Found 4 word(s) missing in the model. Weighted missing percentage not covered by the given model is 2.44%.\n"
     ]
    },
    {
     "name": "stderr",
     "output_type": "stream",
     "text": [
      "\r",
      "collecting matches info:  89%|██████████████████████████████████████████████████████████████████████████████████████████████████████████████████              | 2005/2250 [06:58<00:48,  5.01it/s]"
     ]
    },
    {
     "name": "stdout",
     "output_type": "stream",
     "text": [
      "Found 2 word(s) missing in the model. Weighted missing percentage not covered by the given model is 1.52%.\n"
     ]
    },
    {
     "name": "stderr",
     "output_type": "stream",
     "text": [
      "collecting matches info:  90%|██████████████████████████████████████████████████████████████████████████████████████████████████████████████████▌             | 2014/2250 [06:59<00:36,  6.41it/s]"
     ]
    },
    {
     "name": "stdout",
     "output_type": "stream",
     "text": [
      "Found 1 word(s) missing in the model. Weighted missing percentage not covered by the given model is 3.33%.\n"
     ]
    },
    {
     "name": "stderr",
     "output_type": "stream",
     "text": [
      "collecting matches info:  90%|██████████████████████████████████████████████████████████████████████████████████████████████████████████████████▉             | 2020/2250 [07:00<00:34,  6.64it/s]"
     ]
    },
    {
     "name": "stdout",
     "output_type": "stream",
     "text": [
      "Found 1 word(s) missing in the model. Weighted missing percentage not covered by the given model is 3.33%.\n"
     ]
    },
    {
     "name": "stderr",
     "output_type": "stream",
     "text": [
      "collecting matches info:  90%|███████████████████████████████████████████████████████████████████████████████████████████████████████████████████             | 2022/2250 [07:01<00:43,  5.24it/s]"
     ]
    },
    {
     "name": "stdout",
     "output_type": "stream",
     "text": [
      "Found 2 word(s) missing in the model. Weighted missing percentage not covered by the given model is 5.00%.\n"
     ]
    },
    {
     "name": "stderr",
     "output_type": "stream",
     "text": [
      "collecting matches info:  90%|███████████████████████████████████████████████████████████████████████████████████████████████████████████████████▎            | 2026/2250 [07:02<00:40,  5.50it/s]"
     ]
    },
    {
     "name": "stdout",
     "output_type": "stream",
     "text": [
      "Found 1 word(s) missing in the model. Weighted missing percentage not covered by the given model is 0.37%.\n",
      "Found 2 word(s) missing in the model. Weighted missing percentage not covered by the given model is 0.52%.\n",
      "Found 1 word(s) missing in the model. Weighted missing percentage not covered by the given model is 0.47%.\n"
     ]
    },
    {
     "name": "stderr",
     "output_type": "stream",
     "text": [
      "collecting matches info:  91%|████████████████████████████████████████████████████████████████████████████████████████████████████████████████████            | 2040/2250 [07:04<00:30,  6.84it/s]"
     ]
    },
    {
     "name": "stdout",
     "output_type": "stream",
     "text": [
      "Found 1 word(s) missing in the model. Weighted missing percentage not covered by the given model is 0.35%.\n"
     ]
    },
    {
     "name": "stderr",
     "output_type": "stream",
     "text": [
      "collecting matches info:  91%|████████████████████████████████████████████████████████████████████████████████████████████████████████████████████▌           | 2050/2250 [07:06<00:37,  5.40it/s]"
     ]
    },
    {
     "name": "stdout",
     "output_type": "stream",
     "text": [
      "Found 2 word(s) missing in the model. Weighted missing percentage not covered by the given model is 7.69%.\n"
     ]
    },
    {
     "name": "stderr",
     "output_type": "stream",
     "text": [
      "collecting matches info:  91%|████████████████████████████████████████████████████████████████████████████████████████████████████████████████████▋           | 2052/2250 [07:07<00:41,  4.74it/s]"
     ]
    },
    {
     "name": "stdout",
     "output_type": "stream",
     "text": [
      "Found 2 word(s) missing in the model. Weighted missing percentage not covered by the given model is 9.52%.\n",
      "Found 1 word(s) missing in the model. Weighted missing percentage not covered by the given model is 4.17%.\n"
     ]
    },
    {
     "name": "stderr",
     "output_type": "stream",
     "text": [
      "collecting matches info:  91%|█████████████████████████████████████████████████████████████████████████████████████████████████████████████████████           | 2058/2250 [07:08<00:38,  5.03it/s]"
     ]
    },
    {
     "name": "stdout",
     "output_type": "stream",
     "text": [
      "Found 1 word(s) missing in the model. Weighted missing percentage not covered by the given model is 4.35%.\n"
     ]
    },
    {
     "name": "stderr",
     "output_type": "stream",
     "text": [
      "collecting matches info:  92%|█████████████████████████████████████████████████████████████████████████████████████████████████████████████████████▎          | 2063/2250 [07:09<00:46,  3.98it/s]"
     ]
    },
    {
     "name": "stdout",
     "output_type": "stream",
     "text": [
      "Found 1 word(s) missing in the model. Weighted missing percentage not covered by the given model is 6.25%.\n"
     ]
    },
    {
     "name": "stderr",
     "output_type": "stream",
     "text": [
      "collecting matches info:  92%|█████████████████████████████████████████████████████████████████████████████████████████████████████████████████████▌          | 2066/2250 [07:10<00:45,  4.04it/s]"
     ]
    },
    {
     "name": "stdout",
     "output_type": "stream",
     "text": [
      "Found 1 word(s) missing in the model. Weighted missing percentage not covered by the given model is 1.72%.\n"
     ]
    },
    {
     "name": "stderr",
     "output_type": "stream",
     "text": [
      "collecting matches info:  92%|██████████████████████████████████████████████████████████████████████████████████████████████████████████████████████▏         | 2077/2250 [07:12<00:27,  6.18it/s]"
     ]
    },
    {
     "name": "stdout",
     "output_type": "stream",
     "text": [
      "Found 1 word(s) missing in the model. Weighted missing percentage not covered by the given model is 0.32%.\n"
     ]
    },
    {
     "name": "stderr",
     "output_type": "stream",
     "text": [
      "collecting matches info:  94%|███████████████████████████████████████████████████████████████████████████████████████████████████████████████████████▊        | 2106/2250 [07:17<00:20,  6.93it/s]"
     ]
    },
    {
     "name": "stdout",
     "output_type": "stream",
     "text": [
      "Found 4 word(s) missing in the model. Weighted missing percentage not covered by the given model is 1.20%.\n"
     ]
    },
    {
     "name": "stderr",
     "output_type": "stream",
     "text": [
      "collecting matches info:  94%|████████████████████████████████████████████████████████████████████████████████████████████████████████████████████████▏       | 2112/2250 [07:19<00:36,  3.79it/s]"
     ]
    },
    {
     "name": "stdout",
     "output_type": "stream",
     "text": [
      "Found 1 word(s) missing in the model. Weighted missing percentage not covered by the given model is 0.42%.\n"
     ]
    },
    {
     "name": "stderr",
     "output_type": "stream",
     "text": [
      "collecting matches info:  95%|█████████████████████████████████████████████████████████████████████████████████████████████████████████████████████████▋      | 2140/2250 [07:23<00:16,  6.67it/s]"
     ]
    },
    {
     "name": "stdout",
     "output_type": "stream",
     "text": [
      "Found 1 word(s) missing in the model. Weighted missing percentage not covered by the given model is 4.00%.\n"
     ]
    },
    {
     "name": "stderr",
     "output_type": "stream",
     "text": [
      "collecting matches info:  96%|██████████████████████████████████████████████████████████████████████████████████████████████████████████████████████████▎     | 2151/2250 [07:25<00:22,  4.40it/s]"
     ]
    },
    {
     "name": "stdout",
     "output_type": "stream",
     "text": [
      "Found 1 word(s) missing in the model. Weighted missing percentage not covered by the given model is 1.22%.\n"
     ]
    },
    {
     "name": "stderr",
     "output_type": "stream",
     "text": [
      "collecting matches info:  96%|██████████████████████████████████████████████████████████████████████████████████████████████████████████████████████████▍     | 2153/2250 [07:26<00:17,  5.55it/s]"
     ]
    },
    {
     "name": "stdout",
     "output_type": "stream",
     "text": [
      "Found 15 word(s) missing in the model. Weighted missing percentage not covered by the given model is 4.34%.\n"
     ]
    },
    {
     "name": "stderr",
     "output_type": "stream",
     "text": [
      "collecting matches info:  96%|███████████████████████████████████████████████████████████████████████████████████████████████████████████████████████████     | 2164/2250 [07:27<00:12,  6.96it/s]"
     ]
    },
    {
     "name": "stdout",
     "output_type": "stream",
     "text": [
      "Found 1 word(s) missing in the model. Weighted missing percentage not covered by the given model is 1.25%.\n"
     ]
    },
    {
     "name": "stderr",
     "output_type": "stream",
     "text": [
      "collecting matches info:  97%|███████████████████████████████████████████████████████████████████████████████████████████████████████████████████████████▊    | 2176/2250 [07:29<00:09,  7.78it/s]"
     ]
    },
    {
     "name": "stdout",
     "output_type": "stream",
     "text": [
      "Found 4 word(s) missing in the model. Weighted missing percentage not covered by the given model is 3.05%.\n"
     ]
    },
    {
     "name": "stderr",
     "output_type": "stream",
     "text": [
      "\r",
      "collecting matches info:  97%|███████████████████████████████████████████████████████████████████████████████████████████████████████████████████████████▊    | 2177/2250 [07:29<00:09,  7.96it/s]"
     ]
    },
    {
     "name": "stdout",
     "output_type": "stream",
     "text": [
      "Found 1 word(s) missing in the model. Weighted missing percentage not covered by the given model is 0.94%.\n"
     ]
    },
    {
     "name": "stderr",
     "output_type": "stream",
     "text": [
      "collecting matches info:  97%|████████████████████████████████████████████████████████████████████████████████████████████████████████████████████████████    | 2180/2250 [07:29<00:08,  8.55it/s]"
     ]
    },
    {
     "name": "stdout",
     "output_type": "stream",
     "text": [
      "Found 2 word(s) missing in the model. Weighted missing percentage not covered by the given model is 1.71%.\n"
     ]
    },
    {
     "name": "stderr",
     "output_type": "stream",
     "text": [
      "collecting matches info:  97%|████████████████████████████████████████████████████████████████████████████████████████████████████████████████████████████▏   | 2182/2250 [07:30<00:09,  6.81it/s]"
     ]
    },
    {
     "name": "stdout",
     "output_type": "stream",
     "text": [
      "Found 1 word(s) missing in the model. Weighted missing percentage not covered by the given model is 0.33%.\n"
     ]
    },
    {
     "name": "stderr",
     "output_type": "stream",
     "text": [
      "collecting matches info:  98%|█████████████████████████████████████████████████████████████████████████████████████████████████████████████████████████████   | 2199/2250 [07:31<00:05,  9.30it/s]"
     ]
    },
    {
     "name": "stdout",
     "output_type": "stream",
     "text": [
      "Found 1 word(s) missing in the model. Weighted missing percentage not covered by the given model is 1.28%.\n"
     ]
    },
    {
     "name": "stderr",
     "output_type": "stream",
     "text": [
      "collecting matches info:  98%|█████████████████████████████████████████████████████████████████████████████████████████████████████████████████████████████▍  | 2204/2250 [07:32<00:05,  8.84it/s]"
     ]
    },
    {
     "name": "stdout",
     "output_type": "stream",
     "text": [
      "Found 2 word(s) missing in the model. Weighted missing percentage not covered by the given model is 2.20%.\n"
     ]
    },
    {
     "name": "stderr",
     "output_type": "stream",
     "text": [
      "collecting matches info:  98%|█████████████████████████████████████████████████████████████████████████████████████████████████████████████████████████████▍  | 2206/2250 [07:32<00:05,  8.22it/s]"
     ]
    },
    {
     "name": "stdout",
     "output_type": "stream",
     "text": [
      "Found 2 word(s) missing in the model. Weighted missing percentage not covered by the given model is 11.11%.\n"
     ]
    },
    {
     "name": "stderr",
     "output_type": "stream",
     "text": [
      "collecting matches info:  98%|█████████████████████████████████████████████████████████████████████████████████████████████████████████████████████████████▋  | 2210/2250 [07:33<00:05,  6.75it/s]"
     ]
    },
    {
     "name": "stdout",
     "output_type": "stream",
     "text": [
      "Found 1 word(s) missing in the model. Weighted missing percentage not covered by the given model is 1.52%.\n"
     ]
    },
    {
     "name": "stderr",
     "output_type": "stream",
     "text": [
      "collecting matches info:  98%|█████████████████████████████████████████████████████████████████████████████████████████████████████████████████████████████▊  | 2212/2250 [07:33<00:06,  5.72it/s]"
     ]
    },
    {
     "name": "stdout",
     "output_type": "stream",
     "text": [
      "Found 3 word(s) missing in the model. Weighted missing percentage not covered by the given model is 0.74%.\n"
     ]
    },
    {
     "name": "stderr",
     "output_type": "stream",
     "text": [
      "collecting matches info:  99%|██████████████████████████████████████████████████████████████████████████████████████████████████████████████████████████████▏ | 2219/2250 [07:34<00:03,  9.71it/s]"
     ]
    },
    {
     "name": "stdout",
     "output_type": "stream",
     "text": [
      "Found 1 word(s) missing in the model. Weighted missing percentage not covered by the given model is 0.48%.\n",
      "Found 1 word(s) missing in the model. Weighted missing percentage not covered by the given model is 0.43%.\n"
     ]
    },
    {
     "name": "stderr",
     "output_type": "stream",
     "text": [
      "collecting matches info:  99%|██████████████████████████████████████████████████████████████████████████████████████████████████████████████████████████████▌ | 2225/2250 [07:34<00:01, 12.73it/s]"
     ]
    },
    {
     "name": "stdout",
     "output_type": "stream",
     "text": [
      "Found 1 word(s) missing in the model. Weighted missing percentage not covered by the given model is 0.42%.\n",
      "Found 1 word(s) missing in the model. Weighted missing percentage not covered by the given model is 0.31%.\n"
     ]
    },
    {
     "name": "stderr",
     "output_type": "stream",
     "text": [
      "collecting matches info:  99%|██████████████████████████████████████████████████████████████████████████████████████████████████████████████████████████████▊ | 2229/2250 [07:35<00:01, 13.40it/s]"
     ]
    },
    {
     "name": "stdout",
     "output_type": "stream",
     "text": [
      "Found 1 word(s) missing in the model. Weighted missing percentage not covered by the given model is 0.69%.\n",
      "Found 1 word(s) missing in the model. Weighted missing percentage not covered by the given model is 0.76%.\n",
      "Found 2 word(s) missing in the model. Weighted missing percentage not covered by the given model is 0.55%.\n"
     ]
    },
    {
     "name": "stderr",
     "output_type": "stream",
     "text": [
      "collecting matches info:  99%|███████████████████████████████████████████████████████████████████████████████████████████████████████████████████████████████ | 2233/2250 [07:35<00:01, 15.03it/s]"
     ]
    },
    {
     "name": "stdout",
     "output_type": "stream",
     "text": [
      "Found 1 word(s) missing in the model. Weighted missing percentage not covered by the given model is 0.68%.\n"
     ]
    },
    {
     "name": "stderr",
     "output_type": "stream",
     "text": [
      "collecting matches info: 100%|███████████████████████████████████████████████████████████████████████████████████████████████████████████████████████████████▋| 2245/2250 [07:39<00:02,  2.18it/s]"
     ]
    },
    {
     "name": "stdout",
     "output_type": "stream",
     "text": [
      "Found 1 word(s) missing in the model. Weighted missing percentage not covered by the given model is 0.38%.\n"
     ]
    },
    {
     "name": "stderr",
     "output_type": "stream",
     "text": [
      "\r",
      "collecting matches info: 100%|███████████████████████████████████████████████████████████████████████████████████████████████████████████████████████████████▊| 2246/2250 [07:39<00:01,  2.07it/s]"
     ]
    },
    {
     "name": "stdout",
     "output_type": "stream",
     "text": [
      "Found 1 word(s) missing in the model. Weighted missing percentage not covered by the given model is 0.38%.\n"
     ]
    },
    {
     "name": "stderr",
     "output_type": "stream",
     "text": [
      "collecting matches info: 100%|████████████████████████████████████████████████████████████████████████████████████████████████████████████████████████████████| 2250/2250 [07:41<00:00,  4.88it/s]\n"
     ]
    }
   ],
   "source": [
    "from ms2query.utils import load_pickled_file\n",
    "\n",
    "ms2library = MS2Library(sqlite_file, s2v_model_file, ms2ds_model_file, s2v_embeddings_file, ms2ds_embeddings_file)\n",
    "result = ms2library.analog_search(test_spectra_without_match, ms2query_model, preselection_cut_off = 300)\n",
    "import pickle\n",
    "pickle.dump(result, open(\"../downloads/gnps_210409/train_ms2query_model/results_with_match_all_scores_test_spectra_dropout_reg.pickle\", \"wb\"))"
   ]
  },
  {
   "cell_type": "markdown",
   "metadata": {},
   "source": [
    "Same dataset and MS2Query model, but higher preselection cut off (for plotting importance of high preselection cut_off)"
   ]
  },
  {
   "cell_type": "code",
   "execution_count": 29,
   "metadata": {},
   "outputs": [
    {
     "name": "stdout",
     "output_type": "stream",
     "text": [
      "Calculating all MS2DS scores\n"
     ]
    },
    {
     "name": "stderr",
     "output_type": "stream",
     "text": [
      "collecting matches info:   1%|█                                                                                                                                 | 18/2250 [00:16<21:53,  1.70it/s]"
     ]
    },
    {
     "name": "stdout",
     "output_type": "stream",
     "text": [
      "Found 1 word(s) missing in the model. Weighted missing percentage not covered by the given model is 0.47%.\n"
     ]
    },
    {
     "name": "stderr",
     "output_type": "stream",
     "text": [
      "collecting matches info:   4%|█████▌                                                                                                                            | 97/2250 [01:07<24:12,  1.48it/s]"
     ]
    },
    {
     "name": "stdout",
     "output_type": "stream",
     "text": [
      "Found 3 word(s) missing in the model. Weighted missing percentage not covered by the given model is 0.90%.\n"
     ]
    },
    {
     "name": "stderr",
     "output_type": "stream",
     "text": [
      "collecting matches info:   5%|██████▎                                                                                                                          | 110/2250 [01:16<21:01,  1.70it/s]"
     ]
    },
    {
     "name": "stdout",
     "output_type": "stream",
     "text": [
      "Found 3 word(s) missing in the model. Weighted missing percentage not covered by the given model is 2.31%.\n"
     ]
    },
    {
     "name": "stderr",
     "output_type": "stream",
     "text": [
      "collecting matches info:   5%|██████▌                                                                                                                          | 115/2250 [01:19<22:55,  1.55it/s]"
     ]
    },
    {
     "name": "stdout",
     "output_type": "stream",
     "text": [
      "Found 1 word(s) missing in the model. Weighted missing percentage not covered by the given model is 1.27%.\n"
     ]
    },
    {
     "name": "stderr",
     "output_type": "stream",
     "text": [
      "collecting matches info:   5%|███████                                                                                                                          | 123/2250 [01:24<22:43,  1.56it/s]"
     ]
    },
    {
     "name": "stdout",
     "output_type": "stream",
     "text": [
      "Found 1 word(s) missing in the model. Weighted missing percentage not covered by the given model is 1.59%.\n"
     ]
    },
    {
     "name": "stderr",
     "output_type": "stream",
     "text": [
      "collecting matches info:   6%|███████▋                                                                                                                         | 135/2250 [01:33<24:45,  1.42it/s]"
     ]
    },
    {
     "name": "stdout",
     "output_type": "stream",
     "text": [
      "Found 1 word(s) missing in the model. Weighted missing percentage not covered by the given model is 2.08%.\n"
     ]
    },
    {
     "name": "stderr",
     "output_type": "stream",
     "text": [
      "collecting matches info:   8%|██████████▋                                                                                                                      | 187/2250 [02:07<28:24,  1.21it/s]"
     ]
    },
    {
     "name": "stdout",
     "output_type": "stream",
     "text": [
      "Found 2 word(s) missing in the model. Weighted missing percentage not covered by the given model is 3.08%.\n"
     ]
    },
    {
     "name": "stderr",
     "output_type": "stream",
     "text": [
      "collecting matches info:   9%|███████████▊                                                                                                                     | 207/2250 [02:21<24:33,  1.39it/s]"
     ]
    },
    {
     "name": "stdout",
     "output_type": "stream",
     "text": [
      "Found 1 word(s) missing in the model. Weighted missing percentage not covered by the given model is 1.82%.\n"
     ]
    },
    {
     "name": "stderr",
     "output_type": "stream",
     "text": [
      "collecting matches info:  10%|████████████▍                                                                                                                    | 218/2250 [02:29<23:36,  1.43it/s]"
     ]
    },
    {
     "name": "stdout",
     "output_type": "stream",
     "text": [
      "Found 3 word(s) missing in the model. Weighted missing percentage not covered by the given model is 2.19%.\n"
     ]
    },
    {
     "name": "stderr",
     "output_type": "stream",
     "text": [
      "\r",
      "collecting matches info:  10%|████████████▌                                                                                                                    | 219/2250 [02:30<23:12,  1.46it/s]"
     ]
    },
    {
     "name": "stdout",
     "output_type": "stream",
     "text": [
      "Found 2 word(s) missing in the model. Weighted missing percentage not covered by the given model is 1.42%.\n"
     ]
    },
    {
     "name": "stderr",
     "output_type": "stream",
     "text": [
      "\r",
      "collecting matches info:  10%|████████████▌                                                                                                                    | 220/2250 [02:30<23:02,  1.47it/s]"
     ]
    },
    {
     "name": "stdout",
     "output_type": "stream",
     "text": [
      "Found 4 word(s) missing in the model. Weighted missing percentage not covered by the given model is 2.55%.\n"
     ]
    },
    {
     "name": "stderr",
     "output_type": "stream",
     "text": [
      "collecting matches info:  10%|████████████▊                                                                                                                    | 223/2250 [02:32<22:50,  1.48it/s]"
     ]
    },
    {
     "name": "stdout",
     "output_type": "stream",
     "text": [
      "Found 2 word(s) missing in the model. Weighted missing percentage not covered by the given model is 3.08%.\n"
     ]
    },
    {
     "name": "stderr",
     "output_type": "stream",
     "text": [
      "collecting matches info:  10%|████████████▉                                                                                                                    | 226/2250 [02:34<23:05,  1.46it/s]"
     ]
    },
    {
     "name": "stdout",
     "output_type": "stream",
     "text": [
      "Found 2 word(s) missing in the model. Weighted missing percentage not covered by the given model is 3.70%.\n"
     ]
    },
    {
     "name": "stderr",
     "output_type": "stream",
     "text": [
      "collecting matches info:  10%|█████████████▏                                                                                                                   | 230/2250 [02:37<24:19,  1.38it/s]"
     ]
    },
    {
     "name": "stdout",
     "output_type": "stream",
     "text": [
      "Found 1 word(s) missing in the model. Weighted missing percentage not covered by the given model is 1.85%.\n"
     ]
    },
    {
     "name": "stderr",
     "output_type": "stream",
     "text": [
      "\r",
      "collecting matches info:  10%|█████████████▏                                                                                                                   | 231/2250 [02:38<25:08,  1.34it/s]"
     ]
    },
    {
     "name": "stdout",
     "output_type": "stream",
     "text": [
      "Found 1 word(s) missing in the model. Weighted missing percentage not covered by the given model is 3.57%.\n"
     ]
    },
    {
     "name": "stderr",
     "output_type": "stream",
     "text": [
      "collecting matches info:  10%|█████████████▍                                                                                                                   | 234/2250 [02:40<25:05,  1.34it/s]"
     ]
    },
    {
     "name": "stdout",
     "output_type": "stream",
     "text": [
      "Found 2 word(s) missing in the model. Weighted missing percentage not covered by the given model is 2.67%.\n"
     ]
    },
    {
     "name": "stderr",
     "output_type": "stream",
     "text": [
      "collecting matches info:  11%|██████████████                                                                                                                   | 246/2250 [02:49<21:29,  1.55it/s]"
     ]
    },
    {
     "name": "stdout",
     "output_type": "stream",
     "text": [
      "Found 1 word(s) missing in the model. Weighted missing percentage not covered by the given model is 4.17%.\n"
     ]
    },
    {
     "name": "stderr",
     "output_type": "stream",
     "text": [
      "collecting matches info:  11%|██████████████▋                                                                                                                  | 257/2250 [02:57<19:03,  1.74it/s]"
     ]
    },
    {
     "name": "stdout",
     "output_type": "stream",
     "text": [
      "Found 1 word(s) missing in the model. Weighted missing percentage not covered by the given model is 0.15%.\n"
     ]
    },
    {
     "name": "stderr",
     "output_type": "stream",
     "text": [
      "collecting matches info:  12%|██████████████▉                                                                                                                  | 260/2250 [02:58<19:10,  1.73it/s]"
     ]
    },
    {
     "name": "stdout",
     "output_type": "stream",
     "text": [
      "Found 6 word(s) missing in the model. Weighted missing percentage not covered by the given model is 2.99%.\n"
     ]
    },
    {
     "name": "stderr",
     "output_type": "stream",
     "text": [
      "collecting matches info:  12%|███████████████                                                                                                                  | 263/2250 [03:00<23:39,  1.40it/s]"
     ]
    },
    {
     "name": "stdout",
     "output_type": "stream",
     "text": [
      "Found 4 word(s) missing in the model. Weighted missing percentage not covered by the given model is 2.88%.\n"
     ]
    },
    {
     "name": "stderr",
     "output_type": "stream",
     "text": [
      "collecting matches info:  12%|███████████████▎                                                                                                                 | 267/2250 [03:03<23:19,  1.42it/s]"
     ]
    },
    {
     "name": "stdout",
     "output_type": "stream",
     "text": [
      "Found 2 word(s) missing in the model. Weighted missing percentage not covered by the given model is 2.00%.\n"
     ]
    },
    {
     "name": "stderr",
     "output_type": "stream",
     "text": [
      "collecting matches info:  12%|███████████████▍                                                                                                                 | 269/2250 [03:05<24:15,  1.36it/s]"
     ]
    },
    {
     "name": "stdout",
     "output_type": "stream",
     "text": [
      "Found 1 word(s) missing in the model. Weighted missing percentage not covered by the given model is 1.64%.\n"
     ]
    },
    {
     "name": "stderr",
     "output_type": "stream",
     "text": [
      "collecting matches info:  12%|███████████████▌                                                                                                                 | 272/2250 [03:07<23:57,  1.38it/s]"
     ]
    },
    {
     "name": "stdout",
     "output_type": "stream",
     "text": [
      "Found 1 word(s) missing in the model. Weighted missing percentage not covered by the given model is 7.14%.\n"
     ]
    },
    {
     "name": "stderr",
     "output_type": "stream",
     "text": [
      "collecting matches info:  12%|████████████████                                                                                                                 | 280/2250 [03:14<28:37,  1.15it/s]"
     ]
    },
    {
     "name": "stdout",
     "output_type": "stream",
     "text": [
      "Found 1 word(s) missing in the model. Weighted missing percentage not covered by the given model is 7.69%.\n"
     ]
    },
    {
     "name": "stderr",
     "output_type": "stream",
     "text": [
      "collecting matches info:  13%|████████████████▏                                                                                                                | 283/2250 [03:17<26:35,  1.23it/s]"
     ]
    },
    {
     "name": "stdout",
     "output_type": "stream",
     "text": [
      "Found 1 word(s) missing in the model. Weighted missing percentage not covered by the given model is 2.70%.\n"
     ]
    },
    {
     "name": "stderr",
     "output_type": "stream",
     "text": [
      "collecting matches info:  13%|████████████████▌                                                                                                                | 289/2250 [03:21<25:27,  1.28it/s]"
     ]
    },
    {
     "name": "stdout",
     "output_type": "stream",
     "text": [
      "Found 1 word(s) missing in the model. Weighted missing percentage not covered by the given model is 4.76%.\n"
     ]
    },
    {
     "name": "stderr",
     "output_type": "stream",
     "text": [
      "collecting matches info:  13%|████████████████▊                                                                                                                | 294/2250 [03:25<25:47,  1.26it/s]"
     ]
    },
    {
     "name": "stdout",
     "output_type": "stream",
     "text": [
      "Found 1 word(s) missing in the model. Weighted missing percentage not covered by the given model is 0.67%.\n"
     ]
    },
    {
     "name": "stderr",
     "output_type": "stream",
     "text": [
      "\r",
      "collecting matches info:  13%|████████████████▉                                                                                                                | 295/2250 [03:26<27:01,  1.21it/s]"
     ]
    },
    {
     "name": "stdout",
     "output_type": "stream",
     "text": [
      "Found 1 word(s) missing in the model. Weighted missing percentage not covered by the given model is 4.76%.\n"
     ]
    },
    {
     "name": "stderr",
     "output_type": "stream",
     "text": [
      "collecting matches info:  13%|█████████████████                                                                                                                | 297/2250 [03:28<25:36,  1.27it/s]"
     ]
    },
    {
     "name": "stdout",
     "output_type": "stream",
     "text": [
      "Found 1 word(s) missing in the model. Weighted missing percentage not covered by the given model is 0.37%.\n"
     ]
    },
    {
     "name": "stderr",
     "output_type": "stream",
     "text": [
      "\r",
      "collecting matches info:  13%|█████████████████                                                                                                                | 298/2250 [03:28<24:36,  1.32it/s]"
     ]
    },
    {
     "name": "stdout",
     "output_type": "stream",
     "text": [
      "Found 1 word(s) missing in the model. Weighted missing percentage not covered by the given model is 2.08%.\n"
     ]
    },
    {
     "name": "stderr",
     "output_type": "stream",
     "text": [
      "collecting matches info:  14%|██████████████████▏                                                                                                              | 317/2250 [03:43<23:24,  1.38it/s]"
     ]
    },
    {
     "name": "stdout",
     "output_type": "stream",
     "text": [
      "Found 1 word(s) missing in the model. Weighted missing percentage not covered by the given model is 7.69%.\n"
     ]
    },
    {
     "name": "stderr",
     "output_type": "stream",
     "text": [
      "collecting matches info:  14%|██████████████████▎                                                                                                              | 319/2250 [03:45<21:28,  1.50it/s]"
     ]
    },
    {
     "name": "stdout",
     "output_type": "stream",
     "text": [
      "Found 2 word(s) missing in the model. Weighted missing percentage not covered by the given model is 5.00%.\n"
     ]
    },
    {
     "name": "stderr",
     "output_type": "stream",
     "text": [
      "collecting matches info:  14%|██████████████████▋                                                                                                              | 325/2250 [03:48<21:43,  1.48it/s]"
     ]
    },
    {
     "name": "stdout",
     "output_type": "stream",
     "text": [
      "Found 1 word(s) missing in the model. Weighted missing percentage not covered by the given model is 7.69%.\n"
     ]
    },
    {
     "name": "stderr",
     "output_type": "stream",
     "text": [
      "collecting matches info:  16%|████████████████████▋                                                                                                            | 360/2250 [04:13<25:10,  1.25it/s]"
     ]
    },
    {
     "name": "stdout",
     "output_type": "stream",
     "text": [
      "Found 1 word(s) missing in the model. Weighted missing percentage not covered by the given model is 2.38%.\n"
     ]
    },
    {
     "name": "stderr",
     "output_type": "stream",
     "text": [
      "collecting matches info:  16%|████████████████████▊                                                                                                            | 363/2250 [04:15<23:09,  1.36it/s]"
     ]
    },
    {
     "name": "stdout",
     "output_type": "stream",
     "text": [
      "Found 2 word(s) missing in the model. Weighted missing percentage not covered by the given model is 3.45%.\n"
     ]
    },
    {
     "name": "stderr",
     "output_type": "stream",
     "text": [
      "collecting matches info:  16%|████████████████████▉                                                                                                            | 365/2250 [04:16<20:18,  1.55it/s]"
     ]
    },
    {
     "name": "stdout",
     "output_type": "stream",
     "text": [
      "Found 1 word(s) missing in the model. Weighted missing percentage not covered by the given model is 2.00%.\n"
     ]
    },
    {
     "name": "stderr",
     "output_type": "stream",
     "text": [
      "collecting matches info:  16%|█████████████████████                                                                                                            | 368/2250 [04:19<21:31,  1.46it/s]"
     ]
    },
    {
     "name": "stdout",
     "output_type": "stream",
     "text": [
      "Found 2 word(s) missing in the model. Weighted missing percentage not covered by the given model is 2.06%.\n"
     ]
    },
    {
     "name": "stderr",
     "output_type": "stream",
     "text": [
      "collecting matches info:  16%|█████████████████████▏                                                                                                           | 370/2250 [04:20<22:37,  1.38it/s]"
     ]
    },
    {
     "name": "stdout",
     "output_type": "stream",
     "text": [
      "Found 2 word(s) missing in the model. Weighted missing percentage not covered by the given model is 1.90%.\n"
     ]
    },
    {
     "name": "stderr",
     "output_type": "stream",
     "text": [
      "collecting matches info:  17%|█████████████████████▎                                                                                                           | 372/2250 [04:21<22:06,  1.42it/s]"
     ]
    },
    {
     "name": "stdout",
     "output_type": "stream",
     "text": [
      "Found 2 word(s) missing in the model. Weighted missing percentage not covered by the given model is 2.02%.\n"
     ]
    },
    {
     "name": "stderr",
     "output_type": "stream",
     "text": [
      "collecting matches info:  17%|██████████████████████▏                                                                                                          | 388/2250 [04:33<21:33,  1.44it/s]"
     ]
    },
    {
     "name": "stdout",
     "output_type": "stream",
     "text": [
      "Found 1 word(s) missing in the model. Weighted missing percentage not covered by the given model is 0.85%.\n"
     ]
    },
    {
     "name": "stderr",
     "output_type": "stream",
     "text": [
      "collecting matches info:  17%|██████████████████████▌                                                                                                          | 393/2250 [04:36<22:35,  1.37it/s]"
     ]
    },
    {
     "name": "stdout",
     "output_type": "stream",
     "text": [
      "Found 1 word(s) missing in the model. Weighted missing percentage not covered by the given model is 5.56%.\n"
     ]
    },
    {
     "name": "stderr",
     "output_type": "stream",
     "text": [
      "collecting matches info:  18%|██████████████████████▊                                                                                                          | 397/2250 [04:39<23:12,  1.33it/s]"
     ]
    },
    {
     "name": "stdout",
     "output_type": "stream",
     "text": [
      "Found 1 word(s) missing in the model. Weighted missing percentage not covered by the given model is 5.00%.\n"
     ]
    },
    {
     "name": "stderr",
     "output_type": "stream",
     "text": [
      "\r",
      "collecting matches info:  18%|██████████████████████▊                                                                                                          | 398/2250 [04:40<22:46,  1.36it/s]"
     ]
    },
    {
     "name": "stdout",
     "output_type": "stream",
     "text": [
      "Found 1 word(s) missing in the model. Weighted missing percentage not covered by the given model is 0.39%.\n"
     ]
    },
    {
     "name": "stderr",
     "output_type": "stream",
     "text": [
      "collecting matches info:  18%|██████████████████████▉                                                                                                          | 401/2250 [04:42<23:18,  1.32it/s]"
     ]
    },
    {
     "name": "stdout",
     "output_type": "stream",
     "text": [
      "Found 1 word(s) missing in the model. Weighted missing percentage not covered by the given model is 0.39%.\n"
     ]
    },
    {
     "name": "stderr",
     "output_type": "stream",
     "text": [
      "collecting matches info:  18%|███████████████████████▏                                                                                                         | 404/2250 [04:45<23:07,  1.33it/s]"
     ]
    },
    {
     "name": "stdout",
     "output_type": "stream",
     "text": [
      "Found 3 word(s) missing in the model. Weighted missing percentage not covered by the given model is 5.45%.\n"
     ]
    },
    {
     "name": "stderr",
     "output_type": "stream",
     "text": [
      "collecting matches info:  18%|███████████████████████▍                                                                                                         | 409/2250 [04:49<22:47,  1.35it/s]"
     ]
    },
    {
     "name": "stdout",
     "output_type": "stream",
     "text": [
      "Found 1 word(s) missing in the model. Weighted missing percentage not covered by the given model is 0.39%.\n"
     ]
    },
    {
     "name": "stderr",
     "output_type": "stream",
     "text": [
      "\r",
      "collecting matches info:  18%|███████████████████████▌                                                                                                         | 410/2250 [04:49<22:15,  1.38it/s]"
     ]
    },
    {
     "name": "stdout",
     "output_type": "stream",
     "text": [
      "Found 3 word(s) missing in the model. Weighted missing percentage not covered by the given model is 5.08%.\n"
     ]
    },
    {
     "name": "stderr",
     "output_type": "stream",
     "text": [
      "\r",
      "collecting matches info:  18%|███████████████████████▌                                                                                                         | 411/2250 [04:50<21:41,  1.41it/s]"
     ]
    },
    {
     "name": "stdout",
     "output_type": "stream",
     "text": [
      "Found 1 word(s) missing in the model. Weighted missing percentage not covered by the given model is 0.39%.\n"
     ]
    },
    {
     "name": "stderr",
     "output_type": "stream",
     "text": [
      "\r",
      "collecting matches info:  18%|███████████████████████▌                                                                                                         | 412/2250 [04:51<21:45,  1.41it/s]"
     ]
    },
    {
     "name": "stdout",
     "output_type": "stream",
     "text": [
      "Found 3 word(s) missing in the model. Weighted missing percentage not covered by the given model is 5.45%.\n"
     ]
    },
    {
     "name": "stderr",
     "output_type": "stream",
     "text": [
      "collecting matches info:  18%|███████████████████████▊                                                                                                         | 415/2250 [04:53<21:24,  1.43it/s]"
     ]
    },
    {
     "name": "stdout",
     "output_type": "stream",
     "text": [
      "Found 1 word(s) missing in the model. Weighted missing percentage not covered by the given model is 0.39%.\n"
     ]
    },
    {
     "name": "stderr",
     "output_type": "stream",
     "text": [
      "\r",
      "collecting matches info:  18%|███████████████████████▊                                                                                                         | 416/2250 [04:53<21:15,  1.44it/s]"
     ]
    },
    {
     "name": "stdout",
     "output_type": "stream",
     "text": [
      "Found 3 word(s) missing in the model. Weighted missing percentage not covered by the given model is 5.00%.\n"
     ]
    },
    {
     "name": "stderr",
     "output_type": "stream",
     "text": [
      "\r",
      "collecting matches info:  19%|███████████████████████▉                                                                                                         | 417/2250 [04:54<20:59,  1.46it/s]"
     ]
    },
    {
     "name": "stdout",
     "output_type": "stream",
     "text": [
      "Found 1 word(s) missing in the model. Weighted missing percentage not covered by the given model is 0.39%.\n"
     ]
    },
    {
     "name": "stderr",
     "output_type": "stream",
     "text": [
      "collecting matches info:  19%|████████████████████████                                                                                                         | 419/2250 [04:56<22:14,  1.37it/s]"
     ]
    },
    {
     "name": "stdout",
     "output_type": "stream",
     "text": [
      "Found 3 word(s) missing in the model. Weighted missing percentage not covered by the given model is 5.36%.\n"
     ]
    },
    {
     "name": "stderr",
     "output_type": "stream",
     "text": [
      "collecting matches info:  19%|████████████████████████▏                                                                                                        | 421/2250 [04:57<22:38,  1.35it/s]"
     ]
    },
    {
     "name": "stdout",
     "output_type": "stream",
     "text": [
      "Found 1 word(s) missing in the model. Weighted missing percentage not covered by the given model is 5.56%.\n"
     ]
    },
    {
     "name": "stderr",
     "output_type": "stream",
     "text": [
      "\r",
      "collecting matches info:  19%|████████████████████████▏                                                                                                        | 422/2250 [04:58<22:29,  1.35it/s]"
     ]
    },
    {
     "name": "stdout",
     "output_type": "stream",
     "text": [
      "Found 3 word(s) missing in the model. Weighted missing percentage not covered by the given model is 5.36%.\n"
     ]
    },
    {
     "name": "stderr",
     "output_type": "stream",
     "text": [
      "collecting matches info:  19%|████████████████████████▎                                                                                                        | 424/2250 [04:59<21:53,  1.39it/s]"
     ]
    },
    {
     "name": "stdout",
     "output_type": "stream",
     "text": [
      "Found 1 word(s) missing in the model. Weighted missing percentage not covered by the given model is 6.25%.\n"
     ]
    },
    {
     "name": "stderr",
     "output_type": "stream",
     "text": [
      "\r",
      "collecting matches info:  19%|████████████████████████▎                                                                                                        | 425/2250 [05:00<20:28,  1.49it/s]"
     ]
    },
    {
     "name": "stdout",
     "output_type": "stream",
     "text": [
      "Found 1 word(s) missing in the model. Weighted missing percentage not covered by the given model is 2.44%.\n"
     ]
    },
    {
     "name": "stderr",
     "output_type": "stream",
     "text": [
      "collecting matches info:  19%|████████████████████████▍                                                                                                        | 427/2250 [05:01<17:59,  1.69it/s]"
     ]
    },
    {
     "name": "stdout",
     "output_type": "stream",
     "text": [
      "Found 1 word(s) missing in the model. Weighted missing percentage not covered by the given model is 5.56%.\n"
     ]
    },
    {
     "name": "stderr",
     "output_type": "stream",
     "text": [
      "collecting matches info:  19%|████████████████████████▊                                                                                                        | 432/2250 [05:04<20:19,  1.49it/s]"
     ]
    },
    {
     "name": "stdout",
     "output_type": "stream",
     "text": [
      "Found 2 word(s) missing in the model. Weighted missing percentage not covered by the given model is 8.33%.\n"
     ]
    },
    {
     "name": "stderr",
     "output_type": "stream",
     "text": [
      "collecting matches info:  20%|█████████████████████████▊                                                                                                       | 451/2250 [05:17<21:14,  1.41it/s]"
     ]
    },
    {
     "name": "stdout",
     "output_type": "stream",
     "text": [
      "Found 5 word(s) missing in the model. Weighted missing percentage not covered by the given model is 1.89%.\n"
     ]
    },
    {
     "name": "stderr",
     "output_type": "stream",
     "text": [
      "collecting matches info:  20%|█████████████████████████▉                                                                                                       | 453/2250 [05:19<21:15,  1.41it/s]"
     ]
    },
    {
     "name": "stdout",
     "output_type": "stream",
     "text": [
      "Found 4 word(s) missing in the model. Weighted missing percentage not covered by the given model is 1.51%.\n"
     ]
    },
    {
     "name": "stderr",
     "output_type": "stream",
     "text": [
      "collecting matches info:  20%|██████████████████████████                                                                                                       | 455/2250 [05:20<22:47,  1.31it/s]"
     ]
    },
    {
     "name": "stdout",
     "output_type": "stream",
     "text": [
      "Found 4 word(s) missing in the model. Weighted missing percentage not covered by the given model is 1.52%.\n"
     ]
    },
    {
     "name": "stderr",
     "output_type": "stream",
     "text": [
      "collecting matches info:  20%|██████████████████████████▎                                                                                                      | 458/2250 [05:24<29:01,  1.03it/s]"
     ]
    },
    {
     "name": "stdout",
     "output_type": "stream",
     "text": [
      "Found 5 word(s) missing in the model. Weighted missing percentage not covered by the given model is 1.89%.\n"
     ]
    },
    {
     "name": "stderr",
     "output_type": "stream",
     "text": [
      "collecting matches info:  20%|██████████████████████████▎                                                                                                      | 460/2250 [05:25<25:01,  1.19it/s]"
     ]
    },
    {
     "name": "stdout",
     "output_type": "stream",
     "text": [
      "Found 1 word(s) missing in the model. Weighted missing percentage not covered by the given model is 0.45%.\n"
     ]
    },
    {
     "name": "stderr",
     "output_type": "stream",
     "text": [
      "collecting matches info:  21%|██████████████████████████▌                                                                                                      | 463/2250 [05:28<23:42,  1.26it/s]"
     ]
    },
    {
     "name": "stdout",
     "output_type": "stream",
     "text": [
      "Found 5 word(s) missing in the model. Weighted missing percentage not covered by the given model is 1.89%.\n"
     ]
    },
    {
     "name": "stderr",
     "output_type": "stream",
     "text": [
      "collecting matches info:  21%|██████████████████████████▋                                                                                                      | 465/2250 [05:29<21:59,  1.35it/s]"
     ]
    },
    {
     "name": "stdout",
     "output_type": "stream",
     "text": [
      "Found 2 word(s) missing in the model. Weighted missing percentage not covered by the given model is 1.87%.\n"
     ]
    },
    {
     "name": "stderr",
     "output_type": "stream",
     "text": [
      "collecting matches info:  21%|██████████████████████████▊                                                                                                      | 467/2250 [05:30<22:08,  1.34it/s]"
     ]
    },
    {
     "name": "stdout",
     "output_type": "stream",
     "text": [
      "Found 1 word(s) missing in the model. Weighted missing percentage not covered by the given model is 1.02%.\n"
     ]
    },
    {
     "name": "stderr",
     "output_type": "stream",
     "text": [
      "collecting matches info:  21%|███████████████████████████                                                                                                      | 472/2250 [05:34<21:49,  1.36it/s]"
     ]
    },
    {
     "name": "stdout",
     "output_type": "stream",
     "text": [
      "Found 4 word(s) missing in the model. Weighted missing percentage not covered by the given model is 1.52%.\n"
     ]
    },
    {
     "name": "stderr",
     "output_type": "stream",
     "text": [
      "\r",
      "collecting matches info:  21%|███████████████████████████                                                                                                      | 473/2250 [05:35<23:11,  1.28it/s]"
     ]
    },
    {
     "name": "stdout",
     "output_type": "stream",
     "text": [
      "Found 1 word(s) missing in the model. Weighted missing percentage not covered by the given model is 2.27%.\n"
     ]
    },
    {
     "name": "stderr",
     "output_type": "stream",
     "text": [
      "collecting matches info:  21%|███████████████████████████▏                                                                                                     | 475/2250 [05:36<22:14,  1.33it/s]"
     ]
    },
    {
     "name": "stdout",
     "output_type": "stream",
     "text": [
      "Found 2 word(s) missing in the model. Weighted missing percentage not covered by the given model is 1.94%.\n"
     ]
    },
    {
     "name": "stderr",
     "output_type": "stream",
     "text": [
      "collecting matches info:  21%|███████████████████████████▎                                                                                                     | 477/2250 [05:38<23:23,  1.26it/s]"
     ]
    },
    {
     "name": "stdout",
     "output_type": "stream",
     "text": [
      "Found 2 word(s) missing in the model. Weighted missing percentage not covered by the given model is 2.02%.\n"
     ]
    },
    {
     "name": "stderr",
     "output_type": "stream",
     "text": [
      "\r",
      "collecting matches info:  21%|███████████████████████████▍                                                                                                     | 478/2250 [05:39<22:01,  1.34it/s]"
     ]
    },
    {
     "name": "stdout",
     "output_type": "stream",
     "text": [
      "Found 2 word(s) missing in the model. Weighted missing percentage not covered by the given model is 6.90%.\n"
     ]
    },
    {
     "name": "stderr",
     "output_type": "stream",
     "text": [
      "\r",
      "collecting matches info:  21%|███████████████████████████▍                                                                                                     | 479/2250 [05:39<21:32,  1.37it/s]"
     ]
    },
    {
     "name": "stdout",
     "output_type": "stream",
     "text": [
      "Found 2 word(s) missing in the model. Weighted missing percentage not covered by the given model is 2.11%.\n"
     ]
    },
    {
     "name": "stderr",
     "output_type": "stream",
     "text": [
      "collecting matches info:  22%|███████████████████████████▊                                                                                                     | 486/2250 [05:44<19:39,  1.50it/s]"
     ]
    },
    {
     "name": "stdout",
     "output_type": "stream",
     "text": [
      "Found 1 word(s) missing in the model. Weighted missing percentage not covered by the given model is 3.85%.\n"
     ]
    },
    {
     "name": "stderr",
     "output_type": "stream",
     "text": [
      "collecting matches info:  22%|████████████████████████████                                                                                                     | 489/2250 [05:46<19:23,  1.51it/s]"
     ]
    },
    {
     "name": "stdout",
     "output_type": "stream",
     "text": [
      "Found 1 word(s) missing in the model. Weighted missing percentage not covered by the given model is 6.25%.\n"
     ]
    },
    {
     "name": "stderr",
     "output_type": "stream",
     "text": [
      "collecting matches info:  22%|████████████████████████████▎                                                                                                    | 493/2250 [05:49<18:16,  1.60it/s]"
     ]
    },
    {
     "name": "stdout",
     "output_type": "stream",
     "text": [
      "Found 1 word(s) missing in the model. Weighted missing percentage not covered by the given model is 3.45%.\n"
     ]
    },
    {
     "name": "stderr",
     "output_type": "stream",
     "text": [
      "collecting matches info:  22%|████████████████████████████▋                                                                                                    | 501/2250 [05:54<18:39,  1.56it/s]"
     ]
    },
    {
     "name": "stdout",
     "output_type": "stream",
     "text": [
      "Found 1 word(s) missing in the model. Weighted missing percentage not covered by the given model is 2.56%.\n"
     ]
    },
    {
     "name": "stderr",
     "output_type": "stream",
     "text": [
      "collecting matches info:  23%|█████████████████████████████▎                                                                                                   | 512/2250 [06:01<18:57,  1.53it/s]"
     ]
    },
    {
     "name": "stdout",
     "output_type": "stream",
     "text": [
      "Found 3 word(s) missing in the model. Weighted missing percentage not covered by the given model is 7.50%.\n"
     ]
    },
    {
     "name": "stderr",
     "output_type": "stream",
     "text": [
      "collecting matches info:  23%|█████████████████████████████▊                                                                                                   | 520/2250 [06:06<18:55,  1.52it/s]"
     ]
    },
    {
     "name": "stdout",
     "output_type": "stream",
     "text": [
      "Found 2 word(s) missing in the model. Weighted missing percentage not covered by the given model is 4.55%.\n"
     ]
    },
    {
     "name": "stderr",
     "output_type": "stream",
     "text": [
      "collecting matches info:  23%|██████████████████████████████                                                                                                   | 525/2250 [06:10<21:58,  1.31it/s]"
     ]
    },
    {
     "name": "stdout",
     "output_type": "stream",
     "text": [
      "Found 1 word(s) missing in the model. Weighted missing percentage not covered by the given model is 7.14%.\n"
     ]
    },
    {
     "name": "stderr",
     "output_type": "stream",
     "text": [
      "collecting matches info:  23%|██████████████████████████████▏                                                                                                  | 527/2250 [06:12<22:31,  1.27it/s]"
     ]
    },
    {
     "name": "stdout",
     "output_type": "stream",
     "text": [
      "Found 2 word(s) missing in the model. Weighted missing percentage not covered by the given model is 1.41%.\n"
     ]
    },
    {
     "name": "stderr",
     "output_type": "stream",
     "text": [
      "collecting matches info:  24%|██████████████████████████████▍                                                                                                  | 531/2250 [06:15<22:05,  1.30it/s]"
     ]
    },
    {
     "name": "stdout",
     "output_type": "stream",
     "text": [
      "Found 1 word(s) missing in the model. Weighted missing percentage not covered by the given model is 0.74%.\n"
     ]
    },
    {
     "name": "stderr",
     "output_type": "stream",
     "text": [
      "collecting matches info:  25%|████████████████████████████████▋                                                                                                | 570/2250 [06:44<18:13,  1.54it/s]"
     ]
    },
    {
     "name": "stdout",
     "output_type": "stream",
     "text": [
      "Found 12 word(s) missing in the model. Weighted missing percentage not covered by the given model is 3.26%.\n"
     ]
    },
    {
     "name": "stderr",
     "output_type": "stream",
     "text": [
      "collecting matches info:  26%|████████████████████████████████▉                                                                                                | 575/2250 [06:47<19:27,  1.44it/s]"
     ]
    },
    {
     "name": "stdout",
     "output_type": "stream",
     "text": [
      "Found 1 word(s) missing in the model. Weighted missing percentage not covered by the given model is 3.12%.\n"
     ]
    },
    {
     "name": "stderr",
     "output_type": "stream",
     "text": [
      "collecting matches info:  27%|██████████████████████████████████▊                                                                                              | 607/2250 [07:05<03:47,  7.21it/s]"
     ]
    },
    {
     "name": "stdout",
     "output_type": "stream",
     "text": [
      "Found 1 word(s) missing in the model. Weighted missing percentage not covered by the given model is 1.09%.\n"
     ]
    },
    {
     "name": "stderr",
     "output_type": "stream",
     "text": [
      "collecting matches info:  27%|███████████████████████████████████▏                                                                                             | 613/2250 [07:06<03:47,  7.20it/s]"
     ]
    },
    {
     "name": "stdout",
     "output_type": "stream",
     "text": [
      "Found 1 word(s) missing in the model. Weighted missing percentage not covered by the given model is 1.08%.\n"
     ]
    },
    {
     "name": "stderr",
     "output_type": "stream",
     "text": [
      "collecting matches info:  28%|███████████████████████████████████▌                                                                                             | 620/2250 [07:07<03:32,  7.68it/s]"
     ]
    },
    {
     "name": "stdout",
     "output_type": "stream",
     "text": [
      "Found 4 word(s) missing in the model. Weighted missing percentage not covered by the given model is 1.98%.\n"
     ]
    },
    {
     "name": "stderr",
     "output_type": "stream",
     "text": [
      "\r",
      "collecting matches info:  28%|███████████████████████████████████▌                                                                                             | 621/2250 [07:07<07:02,  3.86it/s]"
     ]
    },
    {
     "name": "stdout",
     "output_type": "stream",
     "text": [
      "Found 1 word(s) missing in the model. Weighted missing percentage not covered by the given model is 0.43%.\n"
     ]
    },
    {
     "name": "stderr",
     "output_type": "stream",
     "text": [
      "collecting matches info:  28%|████████████████████████████████████                                                                                             | 630/2250 [07:12<14:04,  1.92it/s]"
     ]
    },
    {
     "name": "stdout",
     "output_type": "stream",
     "text": [
      "Found 4 word(s) missing in the model. Weighted missing percentage not covered by the given model is 1.20%.\n"
     ]
    },
    {
     "name": "stderr",
     "output_type": "stream",
     "text": [
      "collecting matches info:  28%|████████████████████████████████████▊                                                                                            | 641/2250 [07:19<16:04,  1.67it/s]"
     ]
    },
    {
     "name": "stdout",
     "output_type": "stream",
     "text": [
      "Found 1 word(s) missing in the model. Weighted missing percentage not covered by the given model is 0.78%.\n"
     ]
    },
    {
     "name": "stderr",
     "output_type": "stream",
     "text": [
      "\r",
      "collecting matches info:  29%|████████████████████████████████████▊                                                                                            | 642/2250 [07:20<17:12,  1.56it/s]"
     ]
    },
    {
     "name": "stdout",
     "output_type": "stream",
     "text": [
      "Found 2 word(s) missing in the model. Weighted missing percentage not covered by the given model is 0.37%.\n"
     ]
    },
    {
     "name": "stderr",
     "output_type": "stream",
     "text": [
      "collecting matches info:  29%|█████████████████████████████████████                                                                                            | 646/2250 [07:22<14:05,  1.90it/s]"
     ]
    },
    {
     "name": "stdout",
     "output_type": "stream",
     "text": [
      "Found 1 word(s) missing in the model. Weighted missing percentage not covered by the given model is 0.44%.\n"
     ]
    },
    {
     "name": "stderr",
     "output_type": "stream",
     "text": [
      "collecting matches info:  29%|█████████████████████████████████████▏                                                                                           | 649/2250 [07:23<15:36,  1.71it/s]"
     ]
    },
    {
     "name": "stdout",
     "output_type": "stream",
     "text": [
      "Found 9 word(s) missing in the model. Weighted missing percentage not covered by the given model is 1.63%.\n"
     ]
    },
    {
     "name": "stderr",
     "output_type": "stream",
     "text": [
      "\r",
      "collecting matches info:  29%|█████████████████████████████████████▎                                                                                           | 650/2250 [07:24<16:59,  1.57it/s]"
     ]
    },
    {
     "name": "stdout",
     "output_type": "stream",
     "text": [
      "Found 5 word(s) missing in the model. Weighted missing percentage not covered by the given model is 0.92%.\n"
     ]
    },
    {
     "name": "stderr",
     "output_type": "stream",
     "text": [
      "collecting matches info:  32%|████████████████████████████████████████▉                                                                                        | 715/2250 [08:04<13:39,  1.87it/s]"
     ]
    },
    {
     "name": "stdout",
     "output_type": "stream",
     "text": [
      "Found 2 word(s) missing in the model. Weighted missing percentage not covered by the given model is 1.20%.\n"
     ]
    },
    {
     "name": "stderr",
     "output_type": "stream",
     "text": [
      "collecting matches info:  32%|█████████████████████████████████████████                                                                                        | 717/2250 [08:05<12:15,  2.08it/s]"
     ]
    },
    {
     "name": "stdout",
     "output_type": "stream",
     "text": [
      "Found 2 word(s) missing in the model. Weighted missing percentage not covered by the given model is 1.20%.\n"
     ]
    },
    {
     "name": "stderr",
     "output_type": "stream",
     "text": [
      "collecting matches info:  32%|█████████████████████████████████████████▉                                                                                       | 731/2250 [08:15<17:29,  1.45it/s]"
     ]
    },
    {
     "name": "stdout",
     "output_type": "stream",
     "text": [
      "Found 1 word(s) missing in the model. Weighted missing percentage not covered by the given model is 0.45%.\n"
     ]
    },
    {
     "name": "stderr",
     "output_type": "stream",
     "text": [
      "collecting matches info:  33%|██████████████████████████████████████████                                                                                       | 733/2250 [08:16<16:58,  1.49it/s]"
     ]
    },
    {
     "name": "stdout",
     "output_type": "stream",
     "text": [
      "Found 1 word(s) missing in the model. Weighted missing percentage not covered by the given model is 0.48%.\n"
     ]
    },
    {
     "name": "stderr",
     "output_type": "stream",
     "text": [
      "collecting matches info:  33%|██████████████████████████████████████████▏                                                                                      | 735/2250 [08:17<15:48,  1.60it/s]"
     ]
    },
    {
     "name": "stdout",
     "output_type": "stream",
     "text": [
      "Found 1 word(s) missing in the model. Weighted missing percentage not covered by the given model is 0.54%.\n"
     ]
    },
    {
     "name": "stderr",
     "output_type": "stream",
     "text": [
      "collecting matches info:  33%|██████████████████████████████████████████▎                                                                                      | 737/2250 [08:18<15:08,  1.67it/s]"
     ]
    },
    {
     "name": "stdout",
     "output_type": "stream",
     "text": [
      "Found 1 word(s) missing in the model. Weighted missing percentage not covered by the given model is 0.54%.\n"
     ]
    },
    {
     "name": "stderr",
     "output_type": "stream",
     "text": [
      "\r",
      "collecting matches info:  33%|██████████████████████████████████████████▎                                                                                      | 738/2250 [08:19<15:16,  1.65it/s]"
     ]
    },
    {
     "name": "stdout",
     "output_type": "stream",
     "text": [
      "Found 1 word(s) missing in the model. Weighted missing percentage not covered by the given model is 0.54%.\n"
     ]
    },
    {
     "name": "stderr",
     "output_type": "stream",
     "text": [
      "collecting matches info:  34%|███████████████████████████████████████████▍                                                                                     | 757/2250 [08:31<14:28,  1.72it/s]"
     ]
    },
    {
     "name": "stdout",
     "output_type": "stream",
     "text": [
      "Found 2 word(s) missing in the model. Weighted missing percentage not covered by the given model is 9.52%.\n"
     ]
    },
    {
     "name": "stderr",
     "output_type": "stream",
     "text": [
      "\r",
      "collecting matches info:  34%|███████████████████████████████████████████▍                                                                                     | 758/2250 [08:31<13:51,  1.79it/s]"
     ]
    },
    {
     "name": "stdout",
     "output_type": "stream",
     "text": [
      "Found 2 word(s) missing in the model. Weighted missing percentage not covered by the given model is 9.52%.\n"
     ]
    },
    {
     "name": "stderr",
     "output_type": "stream",
     "text": [
      "collecting matches info:  34%|████████████████████████████████████████████▎                                                                                    | 772/2250 [08:41<17:05,  1.44it/s]"
     ]
    },
    {
     "name": "stdout",
     "output_type": "stream",
     "text": [
      "Found 2 word(s) missing in the model. Weighted missing percentage not covered by the given model is 12.50%.\n"
     ]
    },
    {
     "name": "stderr",
     "output_type": "stream",
     "text": [
      "collecting matches info:  34%|████████████████████████████████████████████▍                                                                                    | 775/2250 [08:44<18:12,  1.35it/s]"
     ]
    },
    {
     "name": "stdout",
     "output_type": "stream",
     "text": [
      "Found 1 word(s) missing in the model. Weighted missing percentage not covered by the given model is 0.77%.\n"
     ]
    },
    {
     "name": "stderr",
     "output_type": "stream",
     "text": [
      "collecting matches info:  35%|████████████████████████████████████████████▉                                                                                    | 784/2250 [08:50<18:09,  1.35it/s]"
     ]
    },
    {
     "name": "stdout",
     "output_type": "stream",
     "text": [
      "Found 2 word(s) missing in the model. Weighted missing percentage not covered by the given model is 1.25%.\n"
     ]
    },
    {
     "name": "stderr",
     "output_type": "stream",
     "text": [
      "collecting matches info:  35%|█████████████████████████████████████████████▏                                                                                   | 788/2250 [08:53<16:06,  1.51it/s]"
     ]
    },
    {
     "name": "stdout",
     "output_type": "stream",
     "text": [
      "Found 4 word(s) missing in the model. Weighted missing percentage not covered by the given model is 3.70%.\n"
     ]
    },
    {
     "name": "stderr",
     "output_type": "stream",
     "text": [
      "collecting matches info:  35%|█████████████████████████████████████████████▎                                                                                   | 790/2250 [08:54<16:32,  1.47it/s]"
     ]
    },
    {
     "name": "stdout",
     "output_type": "stream",
     "text": [
      "Found 2 word(s) missing in the model. Weighted missing percentage not covered by the given model is 0.92%.\n"
     ]
    },
    {
     "name": "stderr",
     "output_type": "stream",
     "text": [
      "\r",
      "collecting matches info:  35%|█████████████████████████████████████████████▎                                                                                   | 791/2250 [08:55<17:52,  1.36it/s]"
     ]
    },
    {
     "name": "stdout",
     "output_type": "stream",
     "text": [
      "Found 1 word(s) missing in the model. Weighted missing percentage not covered by the given model is 0.48%.\n"
     ]
    },
    {
     "name": "stderr",
     "output_type": "stream",
     "text": [
      "\r",
      "collecting matches info:  35%|█████████████████████████████████████████████▍                                                                                   | 792/2250 [08:56<16:59,  1.43it/s]"
     ]
    },
    {
     "name": "stdout",
     "output_type": "stream",
     "text": [
      "Found 1 word(s) missing in the model. Weighted missing percentage not covered by the given model is 0.47%.\n"
     ]
    },
    {
     "name": "stderr",
     "output_type": "stream",
     "text": [
      "\r",
      "collecting matches info:  35%|█████████████████████████████████████████████▍                                                                                   | 793/2250 [08:56<17:29,  1.39it/s]"
     ]
    },
    {
     "name": "stdout",
     "output_type": "stream",
     "text": [
      "Found 4 word(s) missing in the model. Weighted missing percentage not covered by the given model is 1.89%.\n"
     ]
    },
    {
     "name": "stderr",
     "output_type": "stream",
     "text": [
      "collecting matches info:  35%|█████████████████████████████████████████████▌                                                                                   | 795/2250 [08:58<19:15,  1.26it/s]"
     ]
    },
    {
     "name": "stdout",
     "output_type": "stream",
     "text": [
      "Found 2 word(s) missing in the model. Weighted missing percentage not covered by the given model is 0.88%.\n"
     ]
    },
    {
     "name": "stderr",
     "output_type": "stream",
     "text": [
      "\r",
      "collecting matches info:  35%|█████████████████████████████████████████████▋                                                                                   | 796/2250 [08:59<18:48,  1.29it/s]"
     ]
    },
    {
     "name": "stdout",
     "output_type": "stream",
     "text": [
      "Found 2 word(s) missing in the model. Weighted missing percentage not covered by the given model is 0.89%.\n"
     ]
    },
    {
     "name": "stderr",
     "output_type": "stream",
     "text": [
      "\r",
      "collecting matches info:  35%|█████████████████████████████████████████████▋                                                                                   | 797/2250 [09:00<18:56,  1.28it/s]"
     ]
    },
    {
     "name": "stdout",
     "output_type": "stream",
     "text": [
      "Found 2 word(s) missing in the model. Weighted missing percentage not covered by the given model is 0.88%.\n"
     ]
    },
    {
     "name": "stderr",
     "output_type": "stream",
     "text": [
      "collecting matches info:  36%|█████████████████████████████████████████████▉                                                                                   | 802/2250 [09:03<16:32,  1.46it/s]"
     ]
    },
    {
     "name": "stdout",
     "output_type": "stream",
     "text": [
      "Found 2 word(s) missing in the model. Weighted missing percentage not covered by the given model is 4.65%.\n"
     ]
    },
    {
     "name": "stderr",
     "output_type": "stream",
     "text": [
      "collecting matches info:  36%|██████████████████████████████████████████████▏                                                                                  | 806/2250 [09:05<14:29,  1.66it/s]"
     ]
    },
    {
     "name": "stdout",
     "output_type": "stream",
     "text": [
      "Found 2 word(s) missing in the model. Weighted missing percentage not covered by the given model is 1.20%.\n"
     ]
    },
    {
     "name": "stderr",
     "output_type": "stream",
     "text": [
      "\r",
      "collecting matches info:  36%|██████████████████████████████████████████████▎                                                                                  | 807/2250 [09:06<13:42,  1.75it/s]"
     ]
    },
    {
     "name": "stdout",
     "output_type": "stream",
     "text": [
      "Found 1 word(s) missing in the model. Weighted missing percentage not covered by the given model is 0.49%.\n"
     ]
    },
    {
     "name": "stderr",
     "output_type": "stream",
     "text": [
      "collecting matches info:  37%|███████████████████████████████████████████████▏                                                                                 | 822/2250 [09:14<15:02,  1.58it/s]"
     ]
    },
    {
     "name": "stdout",
     "output_type": "stream",
     "text": [
      "Found 1 word(s) missing in the model. Weighted missing percentage not covered by the given model is 4.35%.\n"
     ]
    },
    {
     "name": "stderr",
     "output_type": "stream",
     "text": [
      "collecting matches info:  37%|███████████████████████████████████████████████▏                                                                                 | 824/2250 [09:16<16:37,  1.43it/s]"
     ]
    },
    {
     "name": "stdout",
     "output_type": "stream",
     "text": [
      "Found 1 word(s) missing in the model. Weighted missing percentage not covered by the given model is 1.45%.\n"
     ]
    },
    {
     "name": "stderr",
     "output_type": "stream",
     "text": [
      "collecting matches info:  37%|████████████████████████████████████████████████                                                                                 | 838/2250 [09:27<19:17,  1.22it/s]"
     ]
    },
    {
     "name": "stdout",
     "output_type": "stream",
     "text": [
      "Found 1 word(s) missing in the model. Weighted missing percentage not covered by the given model is 3.03%.\n"
     ]
    },
    {
     "name": "stderr",
     "output_type": "stream",
     "text": [
      "collecting matches info:  38%|████████████████████████████████████████████████▍                                                                                | 844/2250 [09:32<18:53,  1.24it/s]"
     ]
    },
    {
     "name": "stdout",
     "output_type": "stream",
     "text": [
      "Found 1 word(s) missing in the model. Weighted missing percentage not covered by the given model is 2.70%.\n"
     ]
    },
    {
     "name": "stderr",
     "output_type": "stream",
     "text": [
      "collecting matches info:  38%|████████████████████████████████████████████████▉                                                                                | 853/2250 [09:39<18:23,  1.27it/s]"
     ]
    },
    {
     "name": "stdout",
     "output_type": "stream",
     "text": [
      "Found 1 word(s) missing in the model. Weighted missing percentage not covered by the given model is 2.44%.\n"
     ]
    },
    {
     "name": "stderr",
     "output_type": "stream",
     "text": [
      "collecting matches info:  38%|█████████████████████████████████████████████████                                                                                | 855/2250 [09:41<18:28,  1.26it/s]"
     ]
    },
    {
     "name": "stdout",
     "output_type": "stream",
     "text": [
      "Found 2 word(s) missing in the model. Weighted missing percentage not covered by the given model is 8.70%.\n"
     ]
    },
    {
     "name": "stderr",
     "output_type": "stream",
     "text": [
      "collecting matches info:  39%|█████████████████████████████████████████████████▋                                                                               | 867/2250 [09:49<16:52,  1.37it/s]"
     ]
    },
    {
     "name": "stdout",
     "output_type": "stream",
     "text": [
      "Found 1 word(s) missing in the model. Weighted missing percentage not covered by the given model is 2.22%.\n"
     ]
    },
    {
     "name": "stderr",
     "output_type": "stream",
     "text": [
      "\r",
      "collecting matches info:  39%|█████████████████████████████████████████████████▊                                                                               | 868/2250 [09:50<16:41,  1.38it/s]"
     ]
    },
    {
     "name": "stdout",
     "output_type": "stream",
     "text": [
      "Found 1 word(s) missing in the model. Weighted missing percentage not covered by the given model is 0.57%.\n"
     ]
    },
    {
     "name": "stderr",
     "output_type": "stream",
     "text": [
      "collecting matches info:  39%|██████████████████████████████████████████████████                                                                               | 873/2250 [09:53<15:13,  1.51it/s]"
     ]
    },
    {
     "name": "stdout",
     "output_type": "stream",
     "text": [
      "Found 2 word(s) missing in the model. Weighted missing percentage not covered by the given model is 3.85%.\n"
     ]
    },
    {
     "name": "stderr",
     "output_type": "stream",
     "text": [
      "collecting matches info:  39%|██████████████████████████████████████████████████▏                                                                              | 876/2250 [09:55<16:55,  1.35it/s]"
     ]
    },
    {
     "name": "stdout",
     "output_type": "stream",
     "text": [
      "Found 1 word(s) missing in the model. Weighted missing percentage not covered by the given model is 0.94%.\n"
     ]
    },
    {
     "name": "stderr",
     "output_type": "stream",
     "text": [
      "collecting matches info:  39%|██████████████████████████████████████████████████▍                                                                              | 880/2250 [09:58<15:45,  1.45it/s]"
     ]
    },
    {
     "name": "stdout",
     "output_type": "stream",
     "text": [
      "Found 1 word(s) missing in the model. Weighted missing percentage not covered by the given model is 2.38%.\n"
     ]
    },
    {
     "name": "stderr",
     "output_type": "stream",
     "text": [
      "collecting matches info:  39%|██████████████████████████████████████████████████▌                                                                              | 882/2250 [10:00<18:20,  1.24it/s]"
     ]
    },
    {
     "name": "stdout",
     "output_type": "stream",
     "text": [
      "Found 1 word(s) missing in the model. Weighted missing percentage not covered by the given model is 3.57%.\n"
     ]
    },
    {
     "name": "stderr",
     "output_type": "stream",
     "text": [
      "collecting matches info:  40%|███████████████████████████████████████████████████▎                                                                             | 894/2250 [10:09<15:31,  1.46it/s]"
     ]
    },
    {
     "name": "stdout",
     "output_type": "stream",
     "text": [
      "Found 1 word(s) missing in the model. Weighted missing percentage not covered by the given model is 3.85%.\n"
     ]
    },
    {
     "name": "stderr",
     "output_type": "stream",
     "text": [
      "collecting matches info:  40%|███████████████████████████████████████████████████▉                                                                             | 905/2250 [10:17<16:40,  1.34it/s]"
     ]
    },
    {
     "name": "stdout",
     "output_type": "stream",
     "text": [
      "Found 1 word(s) missing in the model. Weighted missing percentage not covered by the given model is 0.42%.\n"
     ]
    },
    {
     "name": "stderr",
     "output_type": "stream",
     "text": [
      "collecting matches info:  43%|███████████████████████████████████████████████████████▍                                                                         | 967/2250 [11:02<16:52,  1.27it/s]"
     ]
    },
    {
     "name": "stdout",
     "output_type": "stream",
     "text": [
      "Found 2 word(s) missing in the model. Weighted missing percentage not covered by the given model is 1.47%.\n"
     ]
    },
    {
     "name": "stderr",
     "output_type": "stream",
     "text": [
      "collecting matches info:  43%|███████████████████████████████████████████████████████▊                                                                         | 973/2250 [11:06<13:41,  1.55it/s]"
     ]
    },
    {
     "name": "stdout",
     "output_type": "stream",
     "text": [
      "Found 3 word(s) missing in the model. Weighted missing percentage not covered by the given model is 0.97%.\n"
     ]
    },
    {
     "name": "stderr",
     "output_type": "stream",
     "text": [
      "\r",
      "collecting matches info:  43%|███████████████████████████████████████████████████████▊                                                                         | 974/2250 [11:07<13:41,  1.55it/s]"
     ]
    },
    {
     "name": "stdout",
     "output_type": "stream",
     "text": [
      "Found 3 word(s) missing in the model. Weighted missing percentage not covered by the given model is 1.13%.\n"
     ]
    },
    {
     "name": "stderr",
     "output_type": "stream",
     "text": [
      "\r",
      "collecting matches info:  43%|███████████████████████████████████████████████████████▉                                                                         | 975/2250 [11:07<12:39,  1.68it/s]"
     ]
    },
    {
     "name": "stdout",
     "output_type": "stream",
     "text": [
      "Found 1 word(s) missing in the model. Weighted missing percentage not covered by the given model is 0.37%.\n"
     ]
    },
    {
     "name": "stderr",
     "output_type": "stream",
     "text": [
      "\r",
      "collecting matches info:  43%|███████████████████████████████████████████████████████▉                                                                         | 976/2250 [11:08<13:02,  1.63it/s]"
     ]
    },
    {
     "name": "stdout",
     "output_type": "stream",
     "text": [
      "Found 1 word(s) missing in the model. Weighted missing percentage not covered by the given model is 0.40%.\n"
     ]
    },
    {
     "name": "stderr",
     "output_type": "stream",
     "text": [
      "\r",
      "collecting matches info:  43%|████████████████████████████████████████████████████████                                                                         | 977/2250 [11:08<12:54,  1.64it/s]"
     ]
    },
    {
     "name": "stdout",
     "output_type": "stream",
     "text": [
      "Found 1 word(s) missing in the model. Weighted missing percentage not covered by the given model is 0.40%.\n"
     ]
    },
    {
     "name": "stderr",
     "output_type": "stream",
     "text": [
      "collecting matches info:  45%|█████████████████████████████████████████████████████████                                                                       | 1002/2250 [11:23<13:10,  1.58it/s]"
     ]
    },
    {
     "name": "stdout",
     "output_type": "stream",
     "text": [
      "Found 1 word(s) missing in the model. Weighted missing percentage not covered by the given model is 1.32%.\n"
     ]
    },
    {
     "name": "stderr",
     "output_type": "stream",
     "text": [
      "collecting matches info:  45%|█████████████████████████████████████████████████████████▊                                                                      | 1017/2250 [11:32<12:16,  1.68it/s]"
     ]
    },
    {
     "name": "stdout",
     "output_type": "stream",
     "text": [
      "Found 5 word(s) missing in the model. Weighted missing percentage not covered by the given model is 1.39%.\n"
     ]
    },
    {
     "name": "stderr",
     "output_type": "stream",
     "text": [
      "collecting matches info:  46%|██████████████████████████████████████████████████████████▋                                                                     | 1031/2250 [11:42<12:46,  1.59it/s]"
     ]
    },
    {
     "name": "stdout",
     "output_type": "stream",
     "text": [
      "Found 1 word(s) missing in the model. Weighted missing percentage not covered by the given model is 3.57%.\n"
     ]
    },
    {
     "name": "stderr",
     "output_type": "stream",
     "text": [
      "collecting matches info:  46%|██████████████████████████████████████████████████████████▊                                                                     | 1034/2250 [11:44<14:52,  1.36it/s]"
     ]
    },
    {
     "name": "stdout",
     "output_type": "stream",
     "text": [
      "Found 1 word(s) missing in the model. Weighted missing percentage not covered by the given model is 1.45%.\n"
     ]
    },
    {
     "name": "stderr",
     "output_type": "stream",
     "text": [
      "\r",
      "collecting matches info:  46%|██████████████████████████████████████████████████████████▉                                                                     | 1035/2250 [11:45<14:17,  1.42it/s]"
     ]
    },
    {
     "name": "stdout",
     "output_type": "stream",
     "text": [
      "Found 2 word(s) missing in the model. Weighted missing percentage not covered by the given model is 0.56%.\n"
     ]
    },
    {
     "name": "stderr",
     "output_type": "stream",
     "text": [
      "collecting matches info:  46%|███████████████████████████████████████████████████████████▏                                                                    | 1041/2250 [11:49<13:50,  1.46it/s]"
     ]
    },
    {
     "name": "stdout",
     "output_type": "stream",
     "text": [
      "Found 3 word(s) missing in the model. Weighted missing percentage not covered by the given model is 0.84%.\n"
     ]
    },
    {
     "name": "stderr",
     "output_type": "stream",
     "text": [
      "collecting matches info:  46%|███████████████████████████████████████████████████████████▌                                                                    | 1046/2250 [11:52<13:52,  1.45it/s]"
     ]
    },
    {
     "name": "stdout",
     "output_type": "stream",
     "text": [
      "Found 10 word(s) missing in the model. Weighted missing percentage not covered by the given model is 3.95%.\n"
     ]
    },
    {
     "name": "stderr",
     "output_type": "stream",
     "text": [
      "collecting matches info:  47%|███████████████████████████████████████████████████████████▋                                                                    | 1049/2250 [11:54<13:27,  1.49it/s]"
     ]
    },
    {
     "name": "stdout",
     "output_type": "stream",
     "text": [
      "Found 1 word(s) missing in the model. Weighted missing percentage not covered by the given model is 1.22%.\n"
     ]
    },
    {
     "name": "stderr",
     "output_type": "stream",
     "text": [
      "collecting matches info:  47%|███████████████████████████████████████████████████████████▊                                                                    | 1051/2250 [11:55<12:29,  1.60it/s]"
     ]
    },
    {
     "name": "stdout",
     "output_type": "stream",
     "text": [
      "Found 1 word(s) missing in the model. Weighted missing percentage not covered by the given model is 0.23%.\n"
     ]
    },
    {
     "name": "stderr",
     "output_type": "stream",
     "text": [
      "collecting matches info:  48%|████████████████████████████████████████████████████████████▊                                                                   | 1069/2250 [12:06<12:03,  1.63it/s]"
     ]
    },
    {
     "name": "stdout",
     "output_type": "stream",
     "text": [
      "Found 1 word(s) missing in the model. Weighted missing percentage not covered by the given model is 0.42%.\n"
     ]
    },
    {
     "name": "stderr",
     "output_type": "stream",
     "text": [
      "\r",
      "collecting matches info:  48%|████████████████████████████████████████████████████████████▊                                                                   | 1070/2250 [12:07<13:18,  1.48it/s]"
     ]
    },
    {
     "name": "stdout",
     "output_type": "stream",
     "text": [
      "Found 1 word(s) missing in the model. Weighted missing percentage not covered by the given model is 0.32%.\n"
     ]
    },
    {
     "name": "stderr",
     "output_type": "stream",
     "text": [
      "collecting matches info:  48%|█████████████████████████████████████████████████████████████▏                                                                  | 1076/2250 [12:10<12:01,  1.63it/s]"
     ]
    },
    {
     "name": "stdout",
     "output_type": "stream",
     "text": [
      "Found 1 word(s) missing in the model. Weighted missing percentage not covered by the given model is 0.36%.\n"
     ]
    },
    {
     "name": "stderr",
     "output_type": "stream",
     "text": [
      "collecting matches info:  48%|█████████████████████████████████████████████████████████████▎                                                                  | 1078/2250 [12:11<09:02,  2.16it/s]"
     ]
    },
    {
     "name": "stdout",
     "output_type": "stream",
     "text": [
      "Found 1 word(s) missing in the model. Weighted missing percentage not covered by the given model is 0.37%.\n"
     ]
    },
    {
     "name": "stderr",
     "output_type": "stream",
     "text": [
      "collecting matches info:  48%|█████████████████████████████████████████████████████████████▉                                                                  | 1088/2250 [12:16<12:04,  1.60it/s]"
     ]
    },
    {
     "name": "stdout",
     "output_type": "stream",
     "text": [
      "Found 2 word(s) missing in the model. Weighted missing percentage not covered by the given model is 0.86%.\n"
     ]
    },
    {
     "name": "stderr",
     "output_type": "stream",
     "text": [
      "\r",
      "collecting matches info:  48%|█████████████████████████████████████████████████████████████▉                                                                  | 1089/2250 [12:17<12:17,  1.57it/s]"
     ]
    },
    {
     "name": "stdout",
     "output_type": "stream",
     "text": [
      "Found 2 word(s) missing in the model. Weighted missing percentage not covered by the given model is 0.88%.\n"
     ]
    },
    {
     "name": "stderr",
     "output_type": "stream",
     "text": [
      "\r",
      "collecting matches info:  48%|██████████████████████████████████████████████████████████████                                                                  | 1090/2250 [12:17<12:45,  1.52it/s]"
     ]
    },
    {
     "name": "stdout",
     "output_type": "stream",
     "text": [
      "Found 1 word(s) missing in the model. Weighted missing percentage not covered by the given model is 5.00%.\n"
     ]
    },
    {
     "name": "stderr",
     "output_type": "stream",
     "text": [
      "collecting matches info:  49%|██████████████████████████████████████████████████████████████▏                                                                 | 1093/2250 [12:20<14:59,  1.29it/s]"
     ]
    },
    {
     "name": "stdout",
     "output_type": "stream",
     "text": [
      "Found 2 word(s) missing in the model. Weighted missing percentage not covered by the given model is 7.69%.\n"
     ]
    },
    {
     "name": "stderr",
     "output_type": "stream",
     "text": [
      "\r",
      "collecting matches info:  49%|██████████████████████████████████████████████████████████████▏                                                                 | 1094/2250 [12:21<14:56,  1.29it/s]"
     ]
    },
    {
     "name": "stdout",
     "output_type": "stream",
     "text": [
      "Found 1 word(s) missing in the model. Weighted missing percentage not covered by the given model is 2.04%.\n"
     ]
    },
    {
     "name": "stderr",
     "output_type": "stream",
     "text": [
      "collecting matches info:  49%|██████████████████████████████████████████████████████████████▋                                                                 | 1102/2250 [12:24<11:07,  1.72it/s]"
     ]
    },
    {
     "name": "stdout",
     "output_type": "stream",
     "text": [
      "Found 5 word(s) missing in the model. Weighted missing percentage not covered by the given model is 1.16%.\n"
     ]
    },
    {
     "name": "stderr",
     "output_type": "stream",
     "text": [
      "collecting matches info:  49%|██████████████████████████████████████████████████████████████▊                                                                 | 1104/2250 [12:25<11:14,  1.70it/s]"
     ]
    },
    {
     "name": "stdout",
     "output_type": "stream",
     "text": [
      "Found 1 word(s) missing in the model. Weighted missing percentage not covered by the given model is 3.57%.\n"
     ]
    },
    {
     "name": "stderr",
     "output_type": "stream",
     "text": [
      "collecting matches info:  50%|███████████████████████████████████████████████████████████████▌                                                                | 1118/2250 [12:32<07:36,  2.48it/s]"
     ]
    },
    {
     "name": "stdout",
     "output_type": "stream",
     "text": [
      "Found 1 word(s) missing in the model. Weighted missing percentage not covered by the given model is 0.38%.\n"
     ]
    },
    {
     "name": "stderr",
     "output_type": "stream",
     "text": [
      "collecting matches info:  50%|████████████████████████████████████████████████████████████████▏                                                               | 1128/2250 [12:39<12:02,  1.55it/s]"
     ]
    },
    {
     "name": "stdout",
     "output_type": "stream",
     "text": [
      "Found 3 word(s) missing in the model. Weighted missing percentage not covered by the given model is 1.47%.\n"
     ]
    },
    {
     "name": "stderr",
     "output_type": "stream",
     "text": [
      "collecting matches info:  53%|███████████████████████████████████████████████████████████████████▊                                                            | 1193/2250 [13:10<02:22,  7.43it/s]"
     ]
    },
    {
     "name": "stdout",
     "output_type": "stream",
     "text": [
      "Found 3 word(s) missing in the model. Weighted missing percentage not covered by the given model is 1.44%.\n"
     ]
    },
    {
     "name": "stderr",
     "output_type": "stream",
     "text": [
      "collecting matches info:  53%|████████████████████████████████████████████████████████████████████▎                                                           | 1200/2250 [13:11<02:17,  7.65it/s]"
     ]
    },
    {
     "name": "stdout",
     "output_type": "stream",
     "text": [
      "Found 2 word(s) missing in the model. Weighted missing percentage not covered by the given model is 1.42%.\n"
     ]
    },
    {
     "name": "stderr",
     "output_type": "stream",
     "text": [
      "collecting matches info:  53%|████████████████████████████████████████████████████████████████████▍                                                           | 1203/2250 [13:11<02:13,  7.86it/s]"
     ]
    },
    {
     "name": "stdout",
     "output_type": "stream",
     "text": [
      "Found 1 word(s) missing in the model. Weighted missing percentage not covered by the given model is 0.95%.\n"
     ]
    },
    {
     "name": "stderr",
     "output_type": "stream",
     "text": [
      "collecting matches info:  54%|████████████████████████████████████████████████████████████████████▋                                                           | 1208/2250 [13:11<02:04,  8.37it/s]"
     ]
    },
    {
     "name": "stdout",
     "output_type": "stream",
     "text": [
      "Found 2 word(s) missing in the model. Weighted missing percentage not covered by the given model is 3.51%.\n",
      "Found 1 word(s) missing in the model. Weighted missing percentage not covered by the given model is 1.56%.\n"
     ]
    },
    {
     "name": "stderr",
     "output_type": "stream",
     "text": [
      "collecting matches info:  54%|█████████████████████████████████████████████████████████████████████▍                                                          | 1221/2250 [13:13<02:04,  8.30it/s]"
     ]
    },
    {
     "name": "stdout",
     "output_type": "stream",
     "text": [
      "Found 1 word(s) missing in the model. Weighted missing percentage not covered by the given model is 0.96%.\n"
     ]
    },
    {
     "name": "stderr",
     "output_type": "stream",
     "text": [
      "collecting matches info:  54%|█████████████████████████████████████████████████████████████████████▋                                                          | 1225/2250 [13:14<02:03,  8.33it/s]"
     ]
    },
    {
     "name": "stdout",
     "output_type": "stream",
     "text": [
      "Found 1 word(s) missing in the model. Weighted missing percentage not covered by the given model is 0.83%.\n"
     ]
    },
    {
     "name": "stderr",
     "output_type": "stream",
     "text": [
      "collecting matches info:  55%|█████████████████████████████████████████████████████████████████████▉                                                          | 1229/2250 [13:14<02:09,  7.91it/s]"
     ]
    },
    {
     "name": "stdout",
     "output_type": "stream",
     "text": [
      "Found 1 word(s) missing in the model. Weighted missing percentage not covered by the given model is 0.56%.\n"
     ]
    },
    {
     "name": "stderr",
     "output_type": "stream",
     "text": [
      "collecting matches info:  55%|██████████████████████████████████████████████████████████████████████▍                                                         | 1238/2250 [13:17<05:43,  2.94it/s]"
     ]
    },
    {
     "name": "stdout",
     "output_type": "stream",
     "text": [
      "Found 1 word(s) missing in the model. Weighted missing percentage not covered by the given model is 0.57%.\n"
     ]
    },
    {
     "name": "stderr",
     "output_type": "stream",
     "text": [
      "collecting matches info:  55%|██████████████████████████████████████████████████████████████████████▋                                                         | 1242/2250 [13:19<06:12,  2.71it/s]"
     ]
    },
    {
     "name": "stdout",
     "output_type": "stream",
     "text": [
      "Found 1 word(s) missing in the model. Weighted missing percentage not covered by the given model is 0.29%.\n"
     ]
    },
    {
     "name": "stderr",
     "output_type": "stream",
     "text": [
      "\r",
      "collecting matches info:  55%|██████████████████████████████████████████████████████████████████████▋                                                         | 1243/2250 [13:19<06:24,  2.62it/s]"
     ]
    },
    {
     "name": "stdout",
     "output_type": "stream",
     "text": [
      "Found 1 word(s) missing in the model. Weighted missing percentage not covered by the given model is 1.89%.\n"
     ]
    },
    {
     "name": "stderr",
     "output_type": "stream",
     "text": [
      "\r",
      "collecting matches info:  55%|██████████████████████████████████████████████████████████████████████▊                                                         | 1244/2250 [13:20<07:02,  2.38it/s]"
     ]
    },
    {
     "name": "stdout",
     "output_type": "stream",
     "text": [
      "Found 1 word(s) missing in the model. Weighted missing percentage not covered by the given model is 0.49%.\n"
     ]
    },
    {
     "name": "stderr",
     "output_type": "stream",
     "text": [
      "collecting matches info:  56%|███████████████████████████████████████████████████████████████████████▉                                                        | 1264/2250 [13:32<12:36,  1.30it/s]"
     ]
    },
    {
     "name": "stdout",
     "output_type": "stream",
     "text": [
      "Found 2 word(s) missing in the model. Weighted missing percentage not covered by the given model is 7.69%.\n"
     ]
    },
    {
     "name": "stderr",
     "output_type": "stream",
     "text": [
      "collecting matches info:  56%|████████████████████████████████████████████████████████████████████████                                                        | 1267/2250 [13:34<11:39,  1.41it/s]"
     ]
    },
    {
     "name": "stdout",
     "output_type": "stream",
     "text": [
      "Found 1 word(s) missing in the model. Weighted missing percentage not covered by the given model is 2.70%.\n"
     ]
    },
    {
     "name": "stderr",
     "output_type": "stream",
     "text": [
      "collecting matches info:  56%|████████████████████████████████████████████████████████████████████████▏                                                       | 1269/2250 [13:36<11:46,  1.39it/s]"
     ]
    },
    {
     "name": "stdout",
     "output_type": "stream",
     "text": [
      "Found 1 word(s) missing in the model. Weighted missing percentage not covered by the given model is 3.45%.\n"
     ]
    },
    {
     "name": "stderr",
     "output_type": "stream",
     "text": [
      "collecting matches info:  57%|████████████████████████████████████████████████████████████████████████▉                                                       | 1283/2250 [13:45<08:45,  1.84it/s]"
     ]
    },
    {
     "name": "stdout",
     "output_type": "stream",
     "text": [
      "Found 9 word(s) missing in the model. Weighted missing percentage not covered by the given model is 2.29%.\n"
     ]
    },
    {
     "name": "stderr",
     "output_type": "stream",
     "text": [
      "collecting matches info:  59%|███████████████████████████████████████████████████████████████████████████▏                                                    | 1322/2250 [14:09<12:52,  1.20it/s]"
     ]
    },
    {
     "name": "stdout",
     "output_type": "stream",
     "text": [
      "Found 1 word(s) missing in the model. Weighted missing percentage not covered by the given model is 7.14%.\n"
     ]
    },
    {
     "name": "stderr",
     "output_type": "stream",
     "text": [
      "collecting matches info:  59%|███████████████████████████████████████████████████████████████████████████▌                                                    | 1328/2250 [14:14<11:07,  1.38it/s]"
     ]
    },
    {
     "name": "stdout",
     "output_type": "stream",
     "text": [
      "Found 1 word(s) missing in the model. Weighted missing percentage not covered by the given model is 5.88%.\n"
     ]
    },
    {
     "name": "stderr",
     "output_type": "stream",
     "text": [
      "collecting matches info:  59%|███████████████████████████████████████████████████████████████████████████▋                                                    | 1331/2250 [14:15<10:05,  1.52it/s]"
     ]
    },
    {
     "name": "stdout",
     "output_type": "stream",
     "text": [
      "Found 1 word(s) missing in the model. Weighted missing percentage not covered by the given model is 9.09%.\n"
     ]
    },
    {
     "name": "stderr",
     "output_type": "stream",
     "text": [
      "\r",
      "collecting matches info:  59%|███████████████████████████████████████████████████████████████████████████▊                                                    | 1332/2250 [14:16<10:04,  1.52it/s]"
     ]
    },
    {
     "name": "stdout",
     "output_type": "stream",
     "text": [
      "Found 1 word(s) missing in the model. Weighted missing percentage not covered by the given model is 8.33%.\n"
     ]
    },
    {
     "name": "stderr",
     "output_type": "stream",
     "text": [
      "collecting matches info:  59%|███████████████████████████████████████████████████████████████████████████▉                                                    | 1334/2250 [14:18<10:27,  1.46it/s]"
     ]
    },
    {
     "name": "stdout",
     "output_type": "stream",
     "text": [
      "Found 1 word(s) missing in the model. Weighted missing percentage not covered by the given model is 2.78%.\n"
     ]
    },
    {
     "name": "stderr",
     "output_type": "stream",
     "text": [
      "collecting matches info:  59%|████████████████████████████████████████████████████████████████████████████                                                    | 1336/2250 [14:19<10:15,  1.48it/s]"
     ]
    },
    {
     "name": "stdout",
     "output_type": "stream",
     "text": [
      "Found 1 word(s) missing in the model. Weighted missing percentage not covered by the given model is 3.85%.\n"
     ]
    },
    {
     "name": "stderr",
     "output_type": "stream",
     "text": [
      "collecting matches info:  59%|████████████████████████████████████████████████████████████████████████████                                                    | 1338/2250 [14:20<09:31,  1.60it/s]"
     ]
    },
    {
     "name": "stdout",
     "output_type": "stream",
     "text": [
      "Found 1 word(s) missing in the model. Weighted missing percentage not covered by the given model is 3.12%.\n"
     ]
    },
    {
     "name": "stderr",
     "output_type": "stream",
     "text": [
      "collecting matches info:  60%|████████████████████████████████████████████████████████████████████████████▌                                                   | 1345/2250 [14:25<10:49,  1.39it/s]"
     ]
    },
    {
     "name": "stdout",
     "output_type": "stream",
     "text": [
      "Found 1 word(s) missing in the model. Weighted missing percentage not covered by the given model is 1.96%.\n"
     ]
    },
    {
     "name": "stderr",
     "output_type": "stream",
     "text": [
      "collecting matches info:  60%|█████████████████████████████████████████████████████████████████████████████                                                   | 1355/2250 [14:31<08:21,  1.78it/s]"
     ]
    },
    {
     "name": "stdout",
     "output_type": "stream",
     "text": [
      "Found 1 word(s) missing in the model. Weighted missing percentage not covered by the given model is 3.70%.\n"
     ]
    },
    {
     "name": "stderr",
     "output_type": "stream",
     "text": [
      "collecting matches info:  61%|█████████████████████████████████████████████████████████████████████████████▊                                                  | 1367/2250 [14:39<10:26,  1.41it/s]"
     ]
    },
    {
     "name": "stdout",
     "output_type": "stream",
     "text": [
      "Found 4 word(s) missing in the model. Weighted missing percentage not covered by the given model is 1.16%.\n"
     ]
    },
    {
     "name": "stderr",
     "output_type": "stream",
     "text": [
      "\r",
      "collecting matches info:  61%|█████████████████████████████████████████████████████████████████████████████▊                                                  | 1368/2250 [14:40<10:32,  1.39it/s]"
     ]
    },
    {
     "name": "stdout",
     "output_type": "stream",
     "text": [
      "Found 2 word(s) missing in the model. Weighted missing percentage not covered by the given model is 0.64%.\n"
     ]
    },
    {
     "name": "stderr",
     "output_type": "stream",
     "text": [
      "\r",
      "collecting matches info:  61%|█████████████████████████████████████████████████████████████████████████████▉                                                  | 1369/2250 [14:40<10:40,  1.38it/s]"
     ]
    },
    {
     "name": "stdout",
     "output_type": "stream",
     "text": [
      "Found 1 word(s) missing in the model. Weighted missing percentage not covered by the given model is 0.39%.\n"
     ]
    },
    {
     "name": "stderr",
     "output_type": "stream",
     "text": [
      "\r",
      "collecting matches info:  61%|█████████████████████████████████████████████████████████████████████████████▉                                                  | 1370/2250 [14:41<10:52,  1.35it/s]"
     ]
    },
    {
     "name": "stdout",
     "output_type": "stream",
     "text": [
      "Found 1 word(s) missing in the model. Weighted missing percentage not covered by the given model is 2.50%.\n"
     ]
    },
    {
     "name": "stderr",
     "output_type": "stream",
     "text": [
      "\r",
      "collecting matches info:  61%|█████████████████████████████████████████████████████████████████████████████▉                                                  | 1371/2250 [14:42<09:56,  1.47it/s]"
     ]
    },
    {
     "name": "stdout",
     "output_type": "stream",
     "text": [
      "Found 2 word(s) missing in the model. Weighted missing percentage not covered by the given model is 1.92%.\n"
     ]
    },
    {
     "name": "stderr",
     "output_type": "stream",
     "text": [
      "\r",
      "collecting matches info:  61%|██████████████████████████████████████████████████████████████████████████████                                                  | 1372/2250 [14:42<09:36,  1.52it/s]"
     ]
    },
    {
     "name": "stdout",
     "output_type": "stream",
     "text": [
      "Found 1 word(s) missing in the model. Weighted missing percentage not covered by the given model is 6.25%.\n"
     ]
    },
    {
     "name": "stderr",
     "output_type": "stream",
     "text": [
      "collecting matches info:  61%|██████████████████████████████████████████████████████████████████████████████▎                                                 | 1376/2250 [14:45<09:38,  1.51it/s]"
     ]
    },
    {
     "name": "stdout",
     "output_type": "stream",
     "text": [
      "Found 1 word(s) missing in the model. Weighted missing percentage not covered by the given model is 2.33%.\n"
     ]
    },
    {
     "name": "stderr",
     "output_type": "stream",
     "text": [
      "collecting matches info:  61%|██████████████████████████████████████████████████████████████████████████████▍                                                 | 1378/2250 [14:46<09:18,  1.56it/s]"
     ]
    },
    {
     "name": "stdout",
     "output_type": "stream",
     "text": [
      "Found 1 word(s) missing in the model. Weighted missing percentage not covered by the given model is 1.16%.\n"
     ]
    },
    {
     "name": "stderr",
     "output_type": "stream",
     "text": [
      "collecting matches info:  61%|██████████████████████████████████████████████████████████████████████████████▌                                                 | 1381/2250 [14:48<10:05,  1.44it/s]"
     ]
    },
    {
     "name": "stdout",
     "output_type": "stream",
     "text": [
      "Found 1 word(s) missing in the model. Weighted missing percentage not covered by the given model is 3.70%.\n"
     ]
    },
    {
     "name": "stderr",
     "output_type": "stream",
     "text": [
      "collecting matches info:  61%|██████████████████████████████████████████████████████████████████████████████▋                                                 | 1383/2250 [14:50<10:25,  1.39it/s]"
     ]
    },
    {
     "name": "stdout",
     "output_type": "stream",
     "text": [
      "Found 2 word(s) missing in the model. Weighted missing percentage not covered by the given model is 0.91%.\n"
     ]
    },
    {
     "name": "stderr",
     "output_type": "stream",
     "text": [
      "\r",
      "collecting matches info:  62%|██████████████████████████████████████████████████████████████████████████████▋                                                 | 1384/2250 [14:50<09:43,  1.48it/s]"
     ]
    },
    {
     "name": "stdout",
     "output_type": "stream",
     "text": [
      "Found 1 word(s) missing in the model. Weighted missing percentage not covered by the given model is 0.36%.\n"
     ]
    },
    {
     "name": "stderr",
     "output_type": "stream",
     "text": [
      "collecting matches info:  62%|███████████████████████████████████████████████████████████████████████████████                                                 | 1389/2250 [14:53<08:30,  1.69it/s]"
     ]
    },
    {
     "name": "stdout",
     "output_type": "stream",
     "text": [
      "Found 1 word(s) missing in the model. Weighted missing percentage not covered by the given model is 3.70%.\n"
     ]
    },
    {
     "name": "stderr",
     "output_type": "stream",
     "text": [
      "collecting matches info:  62%|███████████████████████████████████████████████████████████████████████████████▏                                                | 1392/2250 [14:55<08:54,  1.60it/s]"
     ]
    },
    {
     "name": "stdout",
     "output_type": "stream",
     "text": [
      "Found 1 word(s) missing in the model. Weighted missing percentage not covered by the given model is 0.47%.\n"
     ]
    },
    {
     "name": "stderr",
     "output_type": "stream",
     "text": [
      "collecting matches info:  62%|███████████████████████████████████████████████████████████████████████████████▎                                                | 1394/2250 [14:56<06:31,  2.19it/s]"
     ]
    },
    {
     "name": "stdout",
     "output_type": "stream",
     "text": [
      "Found 1 word(s) missing in the model. Weighted missing percentage not covered by the given model is 0.44%.\n"
     ]
    },
    {
     "name": "stderr",
     "output_type": "stream",
     "text": [
      "collecting matches info:  62%|███████████████████████████████████████████████████████████████████████████████▌                                                | 1398/2250 [14:57<05:21,  2.65it/s]"
     ]
    },
    {
     "name": "stdout",
     "output_type": "stream",
     "text": [
      "Found 1 word(s) missing in the model. Weighted missing percentage not covered by the given model is 0.85%.\n"
     ]
    },
    {
     "name": "stderr",
     "output_type": "stream",
     "text": [
      "collecting matches info:  62%|███████████████████████████████████████████████████████████████████████████████▊                                                | 1402/2250 [14:59<07:22,  1.92it/s]"
     ]
    },
    {
     "name": "stdout",
     "output_type": "stream",
     "text": [
      "Found 1 word(s) missing in the model. Weighted missing percentage not covered by the given model is 9.09%.\n"
     ]
    },
    {
     "name": "stderr",
     "output_type": "stream",
     "text": [
      "\r",
      "collecting matches info:  62%|███████████████████████████████████████████████████████████████████████████████▊                                                | 1403/2250 [15:00<08:22,  1.69it/s]"
     ]
    },
    {
     "name": "stdout",
     "output_type": "stream",
     "text": [
      "Found 1 word(s) missing in the model. Weighted missing percentage not covered by the given model is 5.88%.\n"
     ]
    },
    {
     "name": "stderr",
     "output_type": "stream",
     "text": [
      "collecting matches info:  63%|████████████████████████████████████████████████████████████████████████████████▋                                               | 1418/2250 [15:07<06:37,  2.09it/s]"
     ]
    },
    {
     "name": "stdout",
     "output_type": "stream",
     "text": [
      "Found 2 word(s) missing in the model. Weighted missing percentage not covered by the given model is 0.73%.\n"
     ]
    },
    {
     "name": "stderr",
     "output_type": "stream",
     "text": [
      "collecting matches info:  65%|███████████████████████████████████████████████████████████████████████████████████▌                                            | 1469/2250 [15:42<08:54,  1.46it/s]"
     ]
    },
    {
     "name": "stdout",
     "output_type": "stream",
     "text": [
      "Found 1 word(s) missing in the model. Weighted missing percentage not covered by the given model is 0.40%.\n"
     ]
    },
    {
     "name": "stderr",
     "output_type": "stream",
     "text": [
      "collecting matches info:  65%|███████████████████████████████████████████████████████████████████████████████████▋                                            | 1471/2250 [15:43<08:38,  1.50it/s]"
     ]
    },
    {
     "name": "stdout",
     "output_type": "stream",
     "text": [
      "Found 1 word(s) missing in the model. Weighted missing percentage not covered by the given model is 0.37%.\n"
     ]
    },
    {
     "name": "stderr",
     "output_type": "stream",
     "text": [
      "collecting matches info:  66%|████████████████████████████████████████████████████████████████████████████████████▌                                           | 1486/2250 [15:53<08:20,  1.53it/s]"
     ]
    },
    {
     "name": "stdout",
     "output_type": "stream",
     "text": [
      "Found 1 word(s) missing in the model. Weighted missing percentage not covered by the given model is 5.56%.\n"
     ]
    },
    {
     "name": "stderr",
     "output_type": "stream",
     "text": [
      "collecting matches info:  66%|████████████████████████████████████████████████████████████████████████████████████▋                                           | 1488/2250 [15:55<09:15,  1.37it/s]"
     ]
    },
    {
     "name": "stdout",
     "output_type": "stream",
     "text": [
      "Found 3 word(s) missing in the model. Weighted missing percentage not covered by the given model is 16.67%.\n"
     ]
    },
    {
     "name": "stderr",
     "output_type": "stream",
     "text": [
      "collecting matches info:  66%|████████████████████████████████████████████████████████████████████████████████████▊                                           | 1490/2250 [15:56<09:33,  1.33it/s]"
     ]
    },
    {
     "name": "stdout",
     "output_type": "stream",
     "text": [
      "Found 4 word(s) missing in the model. Weighted missing percentage not covered by the given model is 17.39%.\n"
     ]
    },
    {
     "name": "stderr",
     "output_type": "stream",
     "text": [
      "collecting matches info:  66%|█████████████████████████████████████████████████████████████████████████████████████                                           | 1495/2250 [15:59<08:32,  1.47it/s]"
     ]
    },
    {
     "name": "stdout",
     "output_type": "stream",
     "text": [
      "Found 1 word(s) missing in the model. Weighted missing percentage not covered by the given model is 2.50%.\n"
     ]
    },
    {
     "name": "stderr",
     "output_type": "stream",
     "text": [
      "collecting matches info:  67%|█████████████████████████████████████████████████████████████████████████████████████▍                                          | 1502/2250 [16:04<08:59,  1.39it/s]"
     ]
    },
    {
     "name": "stdout",
     "output_type": "stream",
     "text": [
      "Found 1 word(s) missing in the model. Weighted missing percentage not covered by the given model is 2.56%.\n"
     ]
    },
    {
     "name": "stderr",
     "output_type": "stream",
     "text": [
      "collecting matches info:  67%|█████████████████████████████████████████████████████████████████████████████████████▉                                          | 1511/2250 [16:10<08:11,  1.50it/s]"
     ]
    },
    {
     "name": "stdout",
     "output_type": "stream",
     "text": [
      "Found 1 word(s) missing in the model. Weighted missing percentage not covered by the given model is 4.17%.\n"
     ]
    },
    {
     "name": "stderr",
     "output_type": "stream",
     "text": [
      "collecting matches info:  68%|██████████████████████████████████████████████████████████████████████████████████████▋                                         | 1524/2250 [16:18<08:21,  1.45it/s]"
     ]
    },
    {
     "name": "stdout",
     "output_type": "stream",
     "text": [
      "Found 1 word(s) missing in the model. Weighted missing percentage not covered by the given model is 0.36%.\n"
     ]
    },
    {
     "name": "stderr",
     "output_type": "stream",
     "text": [
      "collecting matches info:  68%|██████████████████████████████████████████████████████████████████████████████████████▊                                         | 1526/2250 [16:20<07:41,  1.57it/s]"
     ]
    },
    {
     "name": "stdout",
     "output_type": "stream",
     "text": [
      "Found 1 word(s) missing in the model. Weighted missing percentage not covered by the given model is 0.34%.\n"
     ]
    },
    {
     "name": "stderr",
     "output_type": "stream",
     "text": [
      "collecting matches info:  68%|███████████████████████████████████████████████████████████████████████████████████████▏                                        | 1533/2250 [16:24<06:42,  1.78it/s]"
     ]
    },
    {
     "name": "stdout",
     "output_type": "stream",
     "text": [
      "Found 1 word(s) missing in the model. Weighted missing percentage not covered by the given model is 0.51%.\n"
     ]
    },
    {
     "name": "stderr",
     "output_type": "stream",
     "text": [
      "collecting matches info:  69%|████████████████████████████████████████████████████████████████████████████████████████▌                                       | 1556/2250 [16:40<08:13,  1.40it/s]"
     ]
    },
    {
     "name": "stdout",
     "output_type": "stream",
     "text": [
      "Found 1 word(s) missing in the model. Weighted missing percentage not covered by the given model is 0.27%.\n"
     ]
    },
    {
     "name": "stderr",
     "output_type": "stream",
     "text": [
      "collecting matches info:  70%|█████████████████████████████████████████████████████████████████████████████████████████▉                                      | 1581/2250 [16:56<07:04,  1.58it/s]"
     ]
    },
    {
     "name": "stdout",
     "output_type": "stream",
     "text": [
      "Found 1 word(s) missing in the model. Weighted missing percentage not covered by the given model is 1.61%.\n"
     ]
    },
    {
     "name": "stderr",
     "output_type": "stream",
     "text": [
      "collecting matches info:  71%|██████████████████████████████████████████████████████████████████████████████████████████▎                                     | 1587/2250 [17:00<08:08,  1.36it/s]"
     ]
    },
    {
     "name": "stdout",
     "output_type": "stream",
     "text": [
      "Found 1 word(s) missing in the model. Weighted missing percentage not covered by the given model is 0.34%.\n"
     ]
    },
    {
     "name": "stderr",
     "output_type": "stream",
     "text": [
      "collecting matches info:  71%|██████████████████████████████████████████████████████████████████████████████████████████▍                                     | 1590/2250 [17:03<10:32,  1.04it/s]"
     ]
    },
    {
     "name": "stdout",
     "output_type": "stream",
     "text": [
      "Found 1 word(s) missing in the model. Weighted missing percentage not covered by the given model is 0.88%.\n"
     ]
    },
    {
     "name": "stderr",
     "output_type": "stream",
     "text": [
      "collecting matches info:  71%|███████████████████████████████████████████████████████████████████████████████████████████▎                                    | 1606/2250 [17:14<06:21,  1.69it/s]"
     ]
    },
    {
     "name": "stdout",
     "output_type": "stream",
     "text": [
      "Found 1 word(s) missing in the model. Weighted missing percentage not covered by the given model is 0.30%.\n"
     ]
    },
    {
     "name": "stderr",
     "output_type": "stream",
     "text": [
      "collecting matches info:  72%|███████████████████████████████████████████████████████████████████████████████████████████▊                                    | 1614/2250 [17:19<06:04,  1.74it/s]"
     ]
    },
    {
     "name": "stdout",
     "output_type": "stream",
     "text": [
      "Found 1 word(s) missing in the model. Weighted missing percentage not covered by the given model is 0.34%.\n"
     ]
    },
    {
     "name": "stderr",
     "output_type": "stream",
     "text": [
      "\r",
      "collecting matches info:  72%|███████████████████████████████████████████████████████████████████████████████████████████▉                                    | 1615/2250 [17:19<05:59,  1.77it/s]"
     ]
    },
    {
     "name": "stdout",
     "output_type": "stream",
     "text": [
      "Found 2 word(s) missing in the model. Weighted missing percentage not covered by the given model is 1.00%.\n"
     ]
    },
    {
     "name": "stderr",
     "output_type": "stream",
     "text": [
      "collecting matches info:  72%|████████████████████████████████████████████████████████████████████████████████████████████▊                                   | 1631/2250 [17:28<05:28,  1.88it/s]"
     ]
    },
    {
     "name": "stdout",
     "output_type": "stream",
     "text": [
      "Found 2 word(s) missing in the model. Weighted missing percentage not covered by the given model is 1.01%.\n"
     ]
    },
    {
     "name": "stderr",
     "output_type": "stream",
     "text": [
      "collecting matches info:  73%|█████████████████████████████████████████████████████████████████████████████████████████████▏                                  | 1639/2250 [17:33<05:58,  1.71it/s]"
     ]
    },
    {
     "name": "stdout",
     "output_type": "stream",
     "text": [
      "Found 1 word(s) missing in the model. Weighted missing percentage not covered by the given model is 1.89%.\n"
     ]
    },
    {
     "name": "stderr",
     "output_type": "stream",
     "text": [
      "collecting matches info:  73%|█████████████████████████████████████████████████████████████████████████████████████████████▋                                  | 1646/2250 [17:37<05:34,  1.80it/s]"
     ]
    },
    {
     "name": "stdout",
     "output_type": "stream",
     "text": [
      "Found 1 word(s) missing in the model. Weighted missing percentage not covered by the given model is 1.85%.\n"
     ]
    },
    {
     "name": "stderr",
     "output_type": "stream",
     "text": [
      "collecting matches info:  74%|██████████████████████████████████████████████████████████████████████████████████████████████▎                                 | 1657/2250 [17:41<02:24,  4.11it/s]"
     ]
    },
    {
     "name": "stdout",
     "output_type": "stream",
     "text": [
      "Found 1 word(s) missing in the model. Weighted missing percentage not covered by the given model is 1.52%.\n"
     ]
    },
    {
     "name": "stderr",
     "output_type": "stream",
     "text": [
      "\r",
      "collecting matches info:  74%|██████████████████████████████████████████████████████████████████████████████████████████████▎                                 | 1658/2250 [17:42<03:45,  2.62it/s]"
     ]
    },
    {
     "name": "stdout",
     "output_type": "stream",
     "text": [
      "Found 1 word(s) missing in the model. Weighted missing percentage not covered by the given model is 0.47%.\n"
     ]
    },
    {
     "name": "stderr",
     "output_type": "stream",
     "text": [
      "collecting matches info:  74%|██████████████████████████████████████████████████████████████████████████████████████████████▍                                 | 1661/2250 [17:43<04:56,  1.99it/s]"
     ]
    },
    {
     "name": "stdout",
     "output_type": "stream",
     "text": [
      "Found 1 word(s) missing in the model. Weighted missing percentage not covered by the given model is 0.40%.\n"
     ]
    },
    {
     "name": "stderr",
     "output_type": "stream",
     "text": [
      "collecting matches info:  74%|██████████████████████████████████████████████████████████████████████████████████████████████▌                                 | 1663/2250 [17:45<06:08,  1.59it/s]"
     ]
    },
    {
     "name": "stdout",
     "output_type": "stream",
     "text": [
      "Found 7 word(s) missing in the model. Weighted missing percentage not covered by the given model is 3.24%.\n"
     ]
    },
    {
     "name": "stderr",
     "output_type": "stream",
     "text": [
      "collecting matches info:  74%|██████████████████████████████████████████████████████████████████████████████████████████████▉                                 | 1668/2250 [17:48<06:42,  1.45it/s]"
     ]
    },
    {
     "name": "stdout",
     "output_type": "stream",
     "text": [
      "Found 6 word(s) missing in the model. Weighted missing percentage not covered by the given model is 2.75%.\n"
     ]
    },
    {
     "name": "stderr",
     "output_type": "stream",
     "text": [
      "collecting matches info:  74%|███████████████████████████████████████████████████████████████████████████████████████████████                                 | 1671/2250 [17:50<06:57,  1.39it/s]"
     ]
    },
    {
     "name": "stdout",
     "output_type": "stream",
     "text": [
      "Found 1 word(s) missing in the model. Weighted missing percentage not covered by the given model is 0.46%.\n"
     ]
    },
    {
     "name": "stderr",
     "output_type": "stream",
     "text": [
      "\r",
      "collecting matches info:  74%|███████████████████████████████████████████████████████████████████████████████████████████████                                 | 1672/2250 [17:51<07:02,  1.37it/s]"
     ]
    },
    {
     "name": "stdout",
     "output_type": "stream",
     "text": [
      "Found 6 word(s) missing in the model. Weighted missing percentage not covered by the given model is 2.69%.\n"
     ]
    },
    {
     "name": "stderr",
     "output_type": "stream",
     "text": [
      "collecting matches info:  76%|████████████████████████████████████████████████████████████████████████████████████████████████▊                               | 1701/2250 [18:09<05:11,  1.76it/s]"
     ]
    },
    {
     "name": "stdout",
     "output_type": "stream",
     "text": [
      "Found 1 word(s) missing in the model. Weighted missing percentage not covered by the given model is 0.62%.\n"
     ]
    },
    {
     "name": "stderr",
     "output_type": "stream",
     "text": [
      "collecting matches info:  76%|█████████████████████████████████████████████████████████████████████████████████████████████████▏                              | 1708/2250 [18:13<05:18,  1.70it/s]"
     ]
    },
    {
     "name": "stdout",
     "output_type": "stream",
     "text": [
      "Found 1 word(s) missing in the model. Weighted missing percentage not covered by the given model is 0.77%.\n"
     ]
    },
    {
     "name": "stderr",
     "output_type": "stream",
     "text": [
      "collecting matches info:  76%|█████████████████████████████████████████████████████████████████████████████████████████████████▎                              | 1711/2250 [18:15<05:20,  1.68it/s]"
     ]
    },
    {
     "name": "stdout",
     "output_type": "stream",
     "text": [
      "Found 1 word(s) missing in the model. Weighted missing percentage not covered by the given model is 0.45%.\n"
     ]
    },
    {
     "name": "stderr",
     "output_type": "stream",
     "text": [
      "collecting matches info:  78%|███████████████████████████████████████████████████████████████████████████████████████████████████▊                            | 1754/2250 [18:38<04:25,  1.87it/s]"
     ]
    },
    {
     "name": "stdout",
     "output_type": "stream",
     "text": [
      "Found 1 word(s) missing in the model. Weighted missing percentage not covered by the given model is 0.41%.\n"
     ]
    },
    {
     "name": "stderr",
     "output_type": "stream",
     "text": [
      "\r",
      "collecting matches info:  78%|███████████████████████████████████████████████████████████████████████████████████████████████████▊                            | 1755/2250 [18:39<04:44,  1.74it/s]"
     ]
    },
    {
     "name": "stdout",
     "output_type": "stream",
     "text": [
      "Found 1 word(s) missing in the model. Weighted missing percentage not covered by the given model is 0.43%.\n"
     ]
    },
    {
     "name": "stderr",
     "output_type": "stream",
     "text": [
      "collecting matches info:  78%|████████████████████████████████████████████████████████████████████████████████████████████████████▎                           | 1763/2250 [18:45<05:46,  1.41it/s]"
     ]
    },
    {
     "name": "stdout",
     "output_type": "stream",
     "text": [
      "Found 1 word(s) missing in the model. Weighted missing percentage not covered by the given model is 0.41%.\n"
     ]
    },
    {
     "name": "stderr",
     "output_type": "stream",
     "text": [
      "collecting matches info:  78%|████████████████████████████████████████████████████████████████████████████████████████████████████▍                           | 1765/2250 [18:46<05:36,  1.44it/s]"
     ]
    },
    {
     "name": "stdout",
     "output_type": "stream",
     "text": [
      "Found 1 word(s) missing in the model. Weighted missing percentage not covered by the given model is 0.42%.\n"
     ]
    },
    {
     "name": "stderr",
     "output_type": "stream",
     "text": [
      "collecting matches info:  80%|██████████████████████████████████████████████████████████████████████████████████████████████████████▉                         | 1809/2250 [19:17<05:21,  1.37it/s]"
     ]
    },
    {
     "name": "stdout",
     "output_type": "stream",
     "text": [
      "Found 2 word(s) missing in the model. Weighted missing percentage not covered by the given model is 9.09%.\n"
     ]
    },
    {
     "name": "stderr",
     "output_type": "stream",
     "text": [
      "collecting matches info:  81%|███████████████████████████████████████████████████████████████████████████████████████████████████████▎                        | 1816/2250 [19:22<05:16,  1.37it/s]"
     ]
    },
    {
     "name": "stdout",
     "output_type": "stream",
     "text": [
      "Found 1 word(s) missing in the model. Weighted missing percentage not covered by the given model is 0.33%.\n"
     ]
    },
    {
     "name": "stderr",
     "output_type": "stream",
     "text": [
      "\r",
      "collecting matches info:  81%|███████████████████████████████████████████████████████████████████████████████████████████████████████▎                        | 1817/2250 [19:23<05:27,  1.32it/s]"
     ]
    },
    {
     "name": "stdout",
     "output_type": "stream",
     "text": [
      "Found 1 word(s) missing in the model. Weighted missing percentage not covered by the given model is 0.36%.\n"
     ]
    },
    {
     "name": "stderr",
     "output_type": "stream",
     "text": [
      "collecting matches info:  81%|████████████████████████████████████████████████████████████████████████████████████████████████████████                        | 1830/2250 [19:31<03:56,  1.78it/s]"
     ]
    },
    {
     "name": "stdout",
     "output_type": "stream",
     "text": [
      "Found 1 word(s) missing in the model. Weighted missing percentage not covered by the given model is 0.34%.\n"
     ]
    },
    {
     "name": "stderr",
     "output_type": "stream",
     "text": [
      "collecting matches info:  82%|████████████████████████████████████████████████████████████████████████████████████████████████████████▍                       | 1836/2250 [19:34<03:59,  1.73it/s]"
     ]
    },
    {
     "name": "stdout",
     "output_type": "stream",
     "text": [
      "Found 1 word(s) missing in the model. Weighted missing percentage not covered by the given model is 7.69%.\n"
     ]
    },
    {
     "name": "stderr",
     "output_type": "stream",
     "text": [
      "collecting matches info:  83%|█████████████████████████████████████████████████████████████████████████████████████████████████████████▉                      | 1863/2250 [19:49<04:09,  1.55it/s]"
     ]
    },
    {
     "name": "stdout",
     "output_type": "stream",
     "text": [
      "Found 1 word(s) missing in the model. Weighted missing percentage not covered by the given model is 10.00%.\n"
     ]
    },
    {
     "name": "stderr",
     "output_type": "stream",
     "text": [
      "collecting matches info:  84%|███████████████████████████████████████████████████████████████████████████████████████████████████████████                     | 1881/2250 [20:00<04:05,  1.50it/s]"
     ]
    },
    {
     "name": "stdout",
     "output_type": "stream",
     "text": [
      "Found 1 word(s) missing in the model. Weighted missing percentage not covered by the given model is 9.09%.\n"
     ]
    },
    {
     "name": "stderr",
     "output_type": "stream",
     "text": [
      "collecting matches info:  88%|████████████████████████████████████████████████████████████████████████████████████████████████████████████████▏               | 1972/2250 [20:59<01:34,  2.94it/s]"
     ]
    },
    {
     "name": "stdout",
     "output_type": "stream",
     "text": [
      "Found 1 word(s) missing in the model. Weighted missing percentage not covered by the given model is 3.12%.\n",
      "Found 2 word(s) missing in the model. Weighted missing percentage not covered by the given model is 2.50%.\n"
     ]
    },
    {
     "name": "stderr",
     "output_type": "stream",
     "text": [
      "collecting matches info:  88%|████████████████████████████████████████████████████████████████████████████████████████████████████████████████▌               | 1979/2250 [21:02<02:47,  1.62it/s]"
     ]
    },
    {
     "name": "stdout",
     "output_type": "stream",
     "text": [
      "Found 1 word(s) missing in the model. Weighted missing percentage not covered by the given model is 0.43%.\n"
     ]
    },
    {
     "name": "stderr",
     "output_type": "stream",
     "text": [
      "collecting matches info:  88%|████████████████████████████████████████████████████████████████████████████████████████████████████████████████▊               | 1983/2250 [21:05<03:43,  1.20it/s]"
     ]
    },
    {
     "name": "stdout",
     "output_type": "stream",
     "text": [
      "Found 2 word(s) missing in the model. Weighted missing percentage not covered by the given model is 0.88%.\n"
     ]
    },
    {
     "name": "stderr",
     "output_type": "stream",
     "text": [
      "collecting matches info:  88%|████████████████████████████████████████████████████████████████████████████████████████████████████████████████▉               | 1985/2250 [21:06<02:45,  1.60it/s]"
     ]
    },
    {
     "name": "stdout",
     "output_type": "stream",
     "text": [
      "Found 1 word(s) missing in the model. Weighted missing percentage not covered by the given model is 0.38%.\n"
     ]
    },
    {
     "name": "stderr",
     "output_type": "stream",
     "text": [
      "collecting matches info:  88%|█████████████████████████████████████████████████████████████████████████████████████████████████████████████████               | 1988/2250 [21:08<02:47,  1.56it/s]"
     ]
    },
    {
     "name": "stdout",
     "output_type": "stream",
     "text": [
      "Found 1 word(s) missing in the model. Weighted missing percentage not covered by the given model is 1.72%.\n"
     ]
    },
    {
     "name": "stderr",
     "output_type": "stream",
     "text": [
      "collecting matches info:  88%|█████████████████████████████████████████████████████████████████████████████████████████████████████████████████▏              | 1990/2250 [21:09<02:41,  1.61it/s]"
     ]
    },
    {
     "name": "stdout",
     "output_type": "stream",
     "text": [
      "Found 1 word(s) missing in the model. Weighted missing percentage not covered by the given model is 0.31%.\n"
     ]
    },
    {
     "name": "stderr",
     "output_type": "stream",
     "text": [
      "collecting matches info:  89%|█████████████████████████████████████████████████████████████████████████████████████████████████████████████████▊              | 2001/2250 [21:17<02:49,  1.47it/s]"
     ]
    },
    {
     "name": "stdout",
     "output_type": "stream",
     "text": [
      "Found 1 word(s) missing in the model. Weighted missing percentage not covered by the given model is 0.56%.\n",
      "Found 2 word(s) missing in the model. Weighted missing percentage not covered by the given model is 1.34%.\n"
     ]
    },
    {
     "name": "stderr",
     "output_type": "stream",
     "text": [
      "collecting matches info:  89%|██████████████████████████████████████████████████████████████████████████████████████████████████████████████████              | 2004/2250 [21:18<02:13,  1.85it/s]"
     ]
    },
    {
     "name": "stdout",
     "output_type": "stream",
     "text": [
      "Found 4 word(s) missing in the model. Weighted missing percentage not covered by the given model is 2.44%.\n"
     ]
    },
    {
     "name": "stderr",
     "output_type": "stream",
     "text": [
      "collecting matches info:  89%|██████████████████████████████████████████████████████████████████████████████████████████████████████████████████              | 2006/2250 [21:19<01:58,  2.07it/s]"
     ]
    },
    {
     "name": "stdout",
     "output_type": "stream",
     "text": [
      "Found 2 word(s) missing in the model. Weighted missing percentage not covered by the given model is 1.52%.\n"
     ]
    },
    {
     "name": "stderr",
     "output_type": "stream",
     "text": [
      "collecting matches info:  89%|██████████████████████████████████████████████████████████████████████████████████████████████████████████████████▌             | 2013/2250 [21:24<02:37,  1.51it/s]"
     ]
    },
    {
     "name": "stdout",
     "output_type": "stream",
     "text": [
      "Found 1 word(s) missing in the model. Weighted missing percentage not covered by the given model is 3.33%.\n"
     ]
    },
    {
     "name": "stderr",
     "output_type": "stream",
     "text": [
      "collecting matches info:  90%|██████████████████████████████████████████████████████████████████████████████████████████████████████████████████▊             | 2019/2250 [21:27<01:57,  1.96it/s]"
     ]
    },
    {
     "name": "stdout",
     "output_type": "stream",
     "text": [
      "Found 1 word(s) missing in the model. Weighted missing percentage not covered by the given model is 3.33%.\n"
     ]
    },
    {
     "name": "stderr",
     "output_type": "stream",
     "text": [
      "collecting matches info:  90%|███████████████████████████████████████████████████████████████████████████████████████████████████████████████████             | 2022/2250 [21:29<02:23,  1.59it/s]"
     ]
    },
    {
     "name": "stdout",
     "output_type": "stream",
     "text": [
      "Found 2 word(s) missing in the model. Weighted missing percentage not covered by the given model is 5.00%.\n"
     ]
    },
    {
     "name": "stderr",
     "output_type": "stream",
     "text": [
      "collecting matches info:  90%|███████████████████████████████████████████████████████████████████████████████████████████████████████████████████▏            | 2025/2250 [21:31<02:29,  1.51it/s]"
     ]
    },
    {
     "name": "stdout",
     "output_type": "stream",
     "text": [
      "Found 1 word(s) missing in the model. Weighted missing percentage not covered by the given model is 0.37%.\n"
     ]
    },
    {
     "name": "stderr",
     "output_type": "stream",
     "text": [
      "\r",
      "collecting matches info:  90%|███████████████████████████████████████████████████████████████████████████████████████████████████████████████████▎            | 2026/2250 [21:32<02:21,  1.58it/s]"
     ]
    },
    {
     "name": "stdout",
     "output_type": "stream",
     "text": [
      "Found 2 word(s) missing in the model. Weighted missing percentage not covered by the given model is 0.52%.\n"
     ]
    },
    {
     "name": "stderr",
     "output_type": "stream",
     "text": [
      "\r",
      "collecting matches info:  90%|███████████████████████████████████████████████████████████████████████████████████████████████████████████████████▎            | 2027/2250 [21:32<02:29,  1.49it/s]"
     ]
    },
    {
     "name": "stdout",
     "output_type": "stream",
     "text": [
      "Found 1 word(s) missing in the model. Weighted missing percentage not covered by the given model is 0.47%.\n"
     ]
    },
    {
     "name": "stderr",
     "output_type": "stream",
     "text": [
      "collecting matches info:  91%|████████████████████████████████████████████████████████████████████████████████████████████████████████████████████            | 2041/2250 [21:41<01:08,  3.03it/s]"
     ]
    },
    {
     "name": "stdout",
     "output_type": "stream",
     "text": [
      "Found 1 word(s) missing in the model. Weighted missing percentage not covered by the given model is 0.35%.\n"
     ]
    },
    {
     "name": "stderr",
     "output_type": "stream",
     "text": [
      "collecting matches info:  91%|████████████████████████████████████████████████████████████████████████████████████████████████████████████████████▌           | 2049/2250 [21:46<02:04,  1.61it/s]"
     ]
    },
    {
     "name": "stdout",
     "output_type": "stream",
     "text": [
      "Found 2 word(s) missing in the model. Weighted missing percentage not covered by the given model is 7.69%.\n"
     ]
    },
    {
     "name": "stderr",
     "output_type": "stream",
     "text": [
      "collecting matches info:  91%|████████████████████████████████████████████████████████████████████████████████████████████████████████████████████▋           | 2052/2250 [21:48<02:01,  1.63it/s]"
     ]
    },
    {
     "name": "stdout",
     "output_type": "stream",
     "text": [
      "Found 2 word(s) missing in the model. Weighted missing percentage not covered by the given model is 9.52%.\n"
     ]
    },
    {
     "name": "stderr",
     "output_type": "stream",
     "text": [
      "\r",
      "collecting matches info:  91%|████████████████████████████████████████████████████████████████████████████████████████████████████████████████████▊           | 2053/2250 [21:48<02:01,  1.62it/s]"
     ]
    },
    {
     "name": "stdout",
     "output_type": "stream",
     "text": [
      "Found 1 word(s) missing in the model. Weighted missing percentage not covered by the given model is 4.17%.\n"
     ]
    },
    {
     "name": "stderr",
     "output_type": "stream",
     "text": [
      "collecting matches info:  91%|█████████████████████████████████████████████████████████████████████████████████████████████████████████████████████           | 2057/2250 [21:51<01:59,  1.61it/s]"
     ]
    },
    {
     "name": "stdout",
     "output_type": "stream",
     "text": [
      "Found 1 word(s) missing in the model. Weighted missing percentage not covered by the given model is 4.35%.\n"
     ]
    },
    {
     "name": "stderr",
     "output_type": "stream",
     "text": [
      "collecting matches info:  92%|█████████████████████████████████████████████████████████████████████████████████████████████████████████████████████▎          | 2063/2250 [21:54<01:55,  1.61it/s]"
     ]
    },
    {
     "name": "stdout",
     "output_type": "stream",
     "text": [
      "Found 1 word(s) missing in the model. Weighted missing percentage not covered by the given model is 6.25%.\n"
     ]
    },
    {
     "name": "stderr",
     "output_type": "stream",
     "text": [
      "collecting matches info:  92%|█████████████████████████████████████████████████████████████████████████████████████████████████████████████████████▌          | 2066/2250 [21:56<02:02,  1.51it/s]"
     ]
    },
    {
     "name": "stdout",
     "output_type": "stream",
     "text": [
      "Found 1 word(s) missing in the model. Weighted missing percentage not covered by the given model is 1.72%.\n"
     ]
    },
    {
     "name": "stderr",
     "output_type": "stream",
     "text": [
      "collecting matches info:  92%|██████████████████████████████████████████████████████████████████████████████████████████████████████████████████████▏         | 2077/2250 [22:04<01:52,  1.54it/s]"
     ]
    },
    {
     "name": "stdout",
     "output_type": "stream",
     "text": [
      "Found 1 word(s) missing in the model. Weighted missing percentage not covered by the given model is 0.32%.\n"
     ]
    },
    {
     "name": "stderr",
     "output_type": "stream",
     "text": [
      "collecting matches info:  94%|███████████████████████████████████████████████████████████████████████████████████████████████████████████████████████▊        | 2106/2250 [22:23<01:38,  1.47it/s]"
     ]
    },
    {
     "name": "stdout",
     "output_type": "stream",
     "text": [
      "Found 4 word(s) missing in the model. Weighted missing percentage not covered by the given model is 1.20%.\n"
     ]
    },
    {
     "name": "stderr",
     "output_type": "stream",
     "text": [
      "collecting matches info:  94%|████████████████████████████████████████████████████████████████████████████████████████████████████████████████████████▏       | 2112/2250 [22:27<01:19,  1.75it/s]"
     ]
    },
    {
     "name": "stdout",
     "output_type": "stream",
     "text": [
      "Found 1 word(s) missing in the model. Weighted missing percentage not covered by the given model is 0.42%.\n"
     ]
    },
    {
     "name": "stderr",
     "output_type": "stream",
     "text": [
      "collecting matches info:  95%|█████████████████████████████████████████████████████████████████████████████████████████████████████████████████████████▋      | 2139/2250 [22:41<01:08,  1.62it/s]"
     ]
    },
    {
     "name": "stdout",
     "output_type": "stream",
     "text": [
      "Found 1 word(s) missing in the model. Weighted missing percentage not covered by the given model is 4.00%.\n"
     ]
    },
    {
     "name": "stderr",
     "output_type": "stream",
     "text": [
      "collecting matches info:  96%|██████████████████████████████████████████████████████████████████████████████████████████████████████████████████████████▎     | 2150/2250 [22:49<01:15,  1.33it/s]"
     ]
    },
    {
     "name": "stdout",
     "output_type": "stream",
     "text": [
      "Found 1 word(s) missing in the model. Weighted missing percentage not covered by the given model is 1.22%.\n"
     ]
    },
    {
     "name": "stderr",
     "output_type": "stream",
     "text": [
      "collecting matches info:  96%|██████████████████████████████████████████████████████████████████████████████████████████████████████████████████████████▍     | 2152/2250 [22:50<01:03,  1.53it/s]"
     ]
    },
    {
     "name": "stdout",
     "output_type": "stream",
     "text": [
      "Found 15 word(s) missing in the model. Weighted missing percentage not covered by the given model is 4.34%.\n"
     ]
    },
    {
     "name": "stderr",
     "output_type": "stream",
     "text": [
      "collecting matches info:  96%|███████████████████████████████████████████████████████████████████████████████████████████████████████████████████████████     | 2164/2250 [22:56<00:32,  2.68it/s]"
     ]
    },
    {
     "name": "stdout",
     "output_type": "stream",
     "text": [
      "Found 1 word(s) missing in the model. Weighted missing percentage not covered by the given model is 1.25%.\n"
     ]
    },
    {
     "name": "stderr",
     "output_type": "stream",
     "text": [
      "collecting matches info:  97%|███████████████████████████████████████████████████████████████████████████████████████████████████████████████████████████▊    | 2176/2250 [22:58<00:13,  5.53it/s]"
     ]
    },
    {
     "name": "stdout",
     "output_type": "stream",
     "text": [
      "Found 4 word(s) missing in the model. Weighted missing percentage not covered by the given model is 3.05%.\n"
     ]
    },
    {
     "name": "stderr",
     "output_type": "stream",
     "text": [
      "\r",
      "collecting matches info:  97%|███████████████████████████████████████████████████████████████████████████████████████████████████████████████████████████▊    | 2177/2250 [22:59<00:14,  5.20it/s]"
     ]
    },
    {
     "name": "stdout",
     "output_type": "stream",
     "text": [
      "Found 1 word(s) missing in the model. Weighted missing percentage not covered by the given model is 0.94%.\n"
     ]
    },
    {
     "name": "stderr",
     "output_type": "stream",
     "text": [
      "collecting matches info:  97%|███████████████████████████████████████████████████████████████████████████████████████████████████████████████████████████▉    | 2179/2250 [22:59<00:14,  5.02it/s]"
     ]
    },
    {
     "name": "stdout",
     "output_type": "stream",
     "text": [
      "Found 2 word(s) missing in the model. Weighted missing percentage not covered by the given model is 1.71%.\n"
     ]
    },
    {
     "name": "stderr",
     "output_type": "stream",
     "text": [
      "collecting matches info:  97%|████████████████████████████████████████████████████████████████████████████████████████████████████████████████████████████▏   | 2182/2250 [23:00<00:12,  5.52it/s]"
     ]
    },
    {
     "name": "stdout",
     "output_type": "stream",
     "text": [
      "Found 1 word(s) missing in the model. Weighted missing percentage not covered by the given model is 0.33%.\n"
     ]
    },
    {
     "name": "stderr",
     "output_type": "stream",
     "text": [
      "collecting matches info:  98%|█████████████████████████████████████████████████████████████████████████████████████████████████████████████████████████████   | 2198/2250 [23:02<00:09,  5.49it/s]"
     ]
    },
    {
     "name": "stdout",
     "output_type": "stream",
     "text": [
      "Found 1 word(s) missing in the model. Weighted missing percentage not covered by the given model is 1.28%.\n"
     ]
    },
    {
     "name": "stderr",
     "output_type": "stream",
     "text": [
      "collecting matches info:  98%|█████████████████████████████████████████████████████████████████████████████████████████████████████████████████████████████▍  | 2204/2250 [23:03<00:07,  5.81it/s]"
     ]
    },
    {
     "name": "stdout",
     "output_type": "stream",
     "text": [
      "Found 2 word(s) missing in the model. Weighted missing percentage not covered by the given model is 2.20%.\n"
     ]
    },
    {
     "name": "stderr",
     "output_type": "stream",
     "text": [
      "collecting matches info:  98%|█████████████████████████████████████████████████████████████████████████████████████████████████████████████████████████████▍  | 2206/2250 [23:04<00:07,  5.84it/s]"
     ]
    },
    {
     "name": "stdout",
     "output_type": "stream",
     "text": [
      "Found 2 word(s) missing in the model. Weighted missing percentage not covered by the given model is 11.11%.\n"
     ]
    },
    {
     "name": "stderr",
     "output_type": "stream",
     "text": [
      "collecting matches info:  98%|█████████████████████████████████████████████████████████████████████████████████████████████████████████████████████████████▋  | 2210/2250 [23:05<00:06,  5.75it/s]"
     ]
    },
    {
     "name": "stdout",
     "output_type": "stream",
     "text": [
      "Found 1 word(s) missing in the model. Weighted missing percentage not covered by the given model is 1.52%.\n"
     ]
    },
    {
     "name": "stderr",
     "output_type": "stream",
     "text": [
      "\r",
      "collecting matches info:  98%|█████████████████████████████████████████████████████████████████████████████████████████████████████████████████████████████▊  | 2211/2250 [23:05<00:07,  5.03it/s]"
     ]
    },
    {
     "name": "stdout",
     "output_type": "stream",
     "text": [
      "Found 3 word(s) missing in the model. Weighted missing percentage not covered by the given model is 0.74%.\n"
     ]
    },
    {
     "name": "stderr",
     "output_type": "stream",
     "text": [
      "collecting matches info:  99%|██████████████████████████████████████████████████████████████████████████████████████████████████████████████████████████████▏ | 2218/2250 [23:06<00:04,  6.70it/s]"
     ]
    },
    {
     "name": "stdout",
     "output_type": "stream",
     "text": [
      "Found 1 word(s) missing in the model. Weighted missing percentage not covered by the given model is 0.48%.\n"
     ]
    },
    {
     "name": "stderr",
     "output_type": "stream",
     "text": [
      "collecting matches info:  99%|██████████████████████████████████████████████████████████████████████████████████████████████████████████████████████████████▎ | 2220/2250 [23:06<00:04,  6.94it/s]"
     ]
    },
    {
     "name": "stdout",
     "output_type": "stream",
     "text": [
      "Found 1 word(s) missing in the model. Weighted missing percentage not covered by the given model is 0.43%.\n"
     ]
    },
    {
     "name": "stderr",
     "output_type": "stream",
     "text": [
      "collecting matches info:  99%|██████████████████████████████████████████████████████████████████████████████████████████████████████████████████████████████▌ | 2224/2250 [23:07<00:03,  7.17it/s]"
     ]
    },
    {
     "name": "stdout",
     "output_type": "stream",
     "text": [
      "Found 1 word(s) missing in the model. Weighted missing percentage not covered by the given model is 0.42%.\n"
     ]
    },
    {
     "name": "stderr",
     "output_type": "stream",
     "text": [
      "collecting matches info:  99%|██████████████████████████████████████████████████████████████████████████████████████████████████████████████████████████████▋ | 2226/2250 [23:07<00:03,  7.03it/s]"
     ]
    },
    {
     "name": "stdout",
     "output_type": "stream",
     "text": [
      "Found 1 word(s) missing in the model. Weighted missing percentage not covered by the given model is 0.31%.\n"
     ]
    },
    {
     "name": "stderr",
     "output_type": "stream",
     "text": [
      "collecting matches info:  99%|██████████████████████████████████████████████████████████████████████████████████████████████████████████████████████████████▋ | 2228/2250 [23:07<00:03,  6.70it/s]"
     ]
    },
    {
     "name": "stdout",
     "output_type": "stream",
     "text": [
      "Found 1 word(s) missing in the model. Weighted missing percentage not covered by the given model is 0.69%.\n"
     ]
    },
    {
     "name": "stderr",
     "output_type": "stream",
     "text": [
      "collecting matches info:  99%|██████████████████████████████████████████████████████████████████████████████████████████████████████████████████████████████▉ | 2231/2250 [23:08<00:03,  5.96it/s]"
     ]
    },
    {
     "name": "stdout",
     "output_type": "stream",
     "text": [
      "Found 1 word(s) missing in the model. Weighted missing percentage not covered by the given model is 0.76%.\n",
      "Found 2 word(s) missing in the model. Weighted missing percentage not covered by the given model is 0.55%.\n"
     ]
    },
    {
     "name": "stderr",
     "output_type": "stream",
     "text": [
      "\r",
      "collecting matches info:  99%|██████████████████████████████████████████████████████████████████████████████████████████████████████████████████████████████▉ | 2232/2250 [23:08<00:03,  5.99it/s]"
     ]
    },
    {
     "name": "stdout",
     "output_type": "stream",
     "text": [
      "Found 1 word(s) missing in the model. Weighted missing percentage not covered by the given model is 0.68%.\n"
     ]
    },
    {
     "name": "stderr",
     "output_type": "stream",
     "text": [
      "collecting matches info: 100%|███████████████████████████████████████████████████████████████████████████████████████████████████████████████████████████████▋| 2245/2250 [23:17<00:04,  1.19it/s]"
     ]
    },
    {
     "name": "stdout",
     "output_type": "stream",
     "text": [
      "Found 1 word(s) missing in the model. Weighted missing percentage not covered by the given model is 0.38%.\n"
     ]
    },
    {
     "name": "stderr",
     "output_type": "stream",
     "text": [
      "\r",
      "collecting matches info: 100%|███████████████████████████████████████████████████████████████████████████████████████████████████████████████████████████████▊| 2246/2250 [23:18<00:03,  1.25it/s]"
     ]
    },
    {
     "name": "stdout",
     "output_type": "stream",
     "text": [
      "Found 1 word(s) missing in the model. Weighted missing percentage not covered by the given model is 0.38%.\n"
     ]
    },
    {
     "name": "stderr",
     "output_type": "stream",
     "text": [
      "collecting matches info: 100%|████████████████████████████████████████████████████████████████████████████████████████████████████████████████████████████████| 2250/2250 [23:21<00:00,  1.61it/s]\n"
     ]
    }
   ],
   "source": [
    "from ms2query.utils import load_pickled_file\n",
    "\n",
    "ms2library = MS2Library(sqlite_file, s2v_model_file, ms2ds_model_file, s2v_embeddings_file, ms2ds_embeddings_file)\n",
    "result = ms2library.analog_search(test_spectra_without_match, ms2query_model, preselection_cut_off = 2000)\n",
    "import pickle\n",
    "pickle.dump(result, open(\"../downloads/gnps_210409/train_ms2query_model/results_with_match_all_scores_test_spectra_dropout_reg_top_2000.pickle\", \"wb\"))"
   ]
  }
 ],
 "metadata": {
  "kernelspec": {
   "display_name": "Python 3",
   "language": "python",
   "name": "python3"
  },
  "language_info": {
   "codemirror_mode": {
    "name": "ipython",
    "version": 3
   },
   "file_extension": ".py",
   "mimetype": "text/x-python",
   "name": "python",
   "nbconvert_exporter": "python",
   "pygments_lexer": "ipython3",
   "version": "3.8.5"
  }
 },
 "nbformat": 4,
 "nbformat_minor": 4
}
