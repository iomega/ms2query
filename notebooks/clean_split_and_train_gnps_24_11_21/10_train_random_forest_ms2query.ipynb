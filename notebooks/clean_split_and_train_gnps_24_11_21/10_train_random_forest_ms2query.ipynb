{
 "cells": [
  {
   "cell_type": "code",
   "execution_count": 2,
   "id": "3151f10b",
   "metadata": {},
   "outputs": [],
   "source": [
    "import os\n",
    "from ms2query.utils import load_pickled_file\n",
    "\n",
    "path_root = os.path.dirname(os.getcwd())\n",
    "path_data = os.path.join(os.path.dirname(path_root), \"data/gnps_24_11_2021/positive_mode/\")\n"
   ]
  },
  {
   "cell_type": "code",
   "execution_count": null,
   "id": "135be0f7",
   "metadata": {},
   "outputs": [],
   "source": [
    "training_scores, training_labels, validation_scores, validation_labels = load_pickled_file(os.path.join(path_data, \"ms2query_library_files/training_data.pickle\"))"
   ]
  },
  {
   "cell_type": "markdown",
   "id": "349b7fba",
   "metadata": {},
   "source": [
    "### Check if the tanimoto score distribution is relatively equal"
   ]
  },
  {
   "cell_type": "code",
   "execution_count": null,
   "id": "ee3b00d0",
   "metadata": {},
   "outputs": [],
   "source": [
    "plt.xlabel(\"tanimoto score\")\n",
    "plt.ylabel(\"Percentage (%)\")\n",
    "plt.hist(training_labels, weights = weights, rwidth = 0.9)\n",
    "plt.show()\n",
    "plt.xlabel(\"tanimoto score\")\n",
    "plt.ylabel(\"Percentage (%)\")\n",
    "plt.hist(validation_labels, weights = weights, rwidth = 0.9)\n",
    "plt.show()"
   ]
  },
  {
   "cell_type": "code",
   "execution_count": null,
   "id": "e703963d",
   "metadata": {},
   "outputs": [],
   "source": [
    "from sklearn.ensemble import RandomForestRegressor\n",
    "from sklearn.model_selection import train_test_split\n",
    "from sklearn.metrics import mean_squared_error\n",
    "\n",
    "# train rf using optimised parameters from below\n",
    "num_est = 250\n",
    "rf = RandomForestRegressor(n_estimators = num_est, random_state = 42, max_depth = 5)\n",
    "rf.fit(training_scores_top_100, training_labels_top_100)\n",
    "\n",
    "# predict on train\n",
    "rf_train_predictions = rf.predict(training_scores_top_100)\n",
    "mse_train_rf = mean_squared_error(training_labels_top_100, rf_train_predictions)\n",
    "print('Training MSE', mse_train_rf)\n",
    "\n",
    "# predict on test\n",
    "rf_predictions = rf.predict(validation_scores_top_100)\n",
    "mse_rf = mean_squared_error(validation_labels_top_100, rf_predictions)\n",
    "print('Validation MSE', mse_rf)\n",
    "\n",
    "# get feature importances\n",
    "importances = list(rf.feature_importances_)\n",
    "feature_importances = [(feature, round(importance, 2)) for feature, importance in zip(training_scores_top_100.columns, importances)]\n",
    "feature_importances = sorted(feature_importances, key = lambda x: x[1], reverse = True)\n",
    "[print('Variable: {:20} Importance: {}'.format(*pair)) for pair in feature_importances]"
   ]
  }
 ],
 "metadata": {
  "kernelspec": {
   "display_name": "Python 3 (ipykernel)",
   "language": "python",
   "name": "python3"
  },
  "language_info": {
   "codemirror_mode": {
    "name": "ipython",
    "version": 3
   },
   "file_extension": ".py",
   "mimetype": "text/x-python",
   "name": "python",
   "nbconvert_exporter": "python",
   "pygments_lexer": "ipython3",
   "version": "3.8.11"
  }
 },
 "nbformat": 4,
 "nbformat_minor": 5
}
