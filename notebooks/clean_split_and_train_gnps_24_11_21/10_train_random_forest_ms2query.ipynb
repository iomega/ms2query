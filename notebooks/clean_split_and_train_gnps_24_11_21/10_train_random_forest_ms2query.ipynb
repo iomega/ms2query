{
 "cells": [
  {
   "cell_type": "code",
   "execution_count": 1,
   "id": "3151f10b",
   "metadata": {},
   "outputs": [
    {
     "name": "stderr",
     "output_type": "stream",
     "text": [
      "c:\\users\\flori\\.conda\\envs\\matchms-dev\\lib\\site-packages\\gensim\\similarities\\__init__.py:15: UserWarning: The gensim.similarities.levenshtein submodule is disabled, because the optional Levenshtein package <https://pypi.org/project/python-Levenshtein/> is unavailable. Install Levenhstein (e.g. `pip install python-Levenshtein`) to suppress this warning.\n",
      "  warnings.warn(msg)\n"
     ]
    }
   ],
   "source": [
    "import os\n",
    "from ms2query.utils import load_pickled_file\n",
    "from matplotlib import pyplot as plt\n",
    "\n",
    "path_data = \"C:\\\\HSD\\\\OneDrive - Hochschule Düsseldorf\\\\Data\\\\ms2query\"\n"
   ]
  },
  {
   "cell_type": "code",
   "execution_count": 2,
   "id": "135be0f7",
   "metadata": {},
   "outputs": [],
   "source": [
    "training_scores, training_labels, validation_scores, validation_labels = load_pickled_file(os.path.join(path_data,\n",
    "                                                                                                        \"training_data.pickle\"))"
   ]
  },
  {
   "cell_type": "code",
   "execution_count": 5,
   "id": "5b8010a1",
   "metadata": {},
   "outputs": [
    {
     "data": {
      "text/html": [
       "<div>\n",
       "<style scoped>\n",
       "    .dataframe tbody tr th:only-of-type {\n",
       "        vertical-align: middle;\n",
       "    }\n",
       "\n",
       "    .dataframe tbody tr th {\n",
       "        vertical-align: top;\n",
       "    }\n",
       "\n",
       "    .dataframe thead th {\n",
       "        text-align: right;\n",
       "    }\n",
       "</style>\n",
       "<table border=\"1\" class=\"dataframe\">\n",
       "  <thead>\n",
       "    <tr style=\"text-align: right;\">\n",
       "      <th></th>\n",
       "      <th>precursor_mz*0.001</th>\n",
       "      <th>mass_similarity</th>\n",
       "      <th>s2v_score</th>\n",
       "      <th>ms2ds_score</th>\n",
       "      <th>average_ms2ds_score_for_inchikey14</th>\n",
       "      <th>nr_of_spectra_with_same_inchikey14*0.01</th>\n",
       "      <th>chemical_neighbourhood_score</th>\n",
       "      <th>average_tanimoto_score_for_chemical_neighbourhood_score</th>\n",
       "      <th>nr_of_spectra_for_chemical_neighbourhood_score*0.01</th>\n",
       "    </tr>\n",
       "  </thead>\n",
       "  <tbody>\n",
       "    <tr>\n",
       "      <th>0</th>\n",
       "      <td>0.357206</td>\n",
       "      <td>2.238274e-02</td>\n",
       "      <td>0.342509</td>\n",
       "      <td>0.958357</td>\n",
       "      <td>0.738493</td>\n",
       "      <td>0.02</td>\n",
       "      <td>0.566782</td>\n",
       "      <td>0.830279</td>\n",
       "      <td>0.71</td>\n",
       "    </tr>\n",
       "    <tr>\n",
       "      <th>1</th>\n",
       "      <td>0.495381</td>\n",
       "      <td>1.817799e-12</td>\n",
       "      <td>0.120013</td>\n",
       "      <td>0.871954</td>\n",
       "      <td>0.582930</td>\n",
       "      <td>0.23</td>\n",
       "      <td>0.474917</td>\n",
       "      <td>0.914574</td>\n",
       "      <td>4.90</td>\n",
       "    </tr>\n",
       "    <tr>\n",
       "      <th>2</th>\n",
       "      <td>0.373165</td>\n",
       "      <td>7.879526e-01</td>\n",
       "      <td>0.234691</td>\n",
       "      <td>0.867854</td>\n",
       "      <td>0.793660</td>\n",
       "      <td>0.04</td>\n",
       "      <td>0.558125</td>\n",
       "      <td>0.739186</td>\n",
       "      <td>0.27</td>\n",
       "    </tr>\n",
       "    <tr>\n",
       "      <th>3</th>\n",
       "      <td>0.455290</td>\n",
       "      <td>1.395613e-08</td>\n",
       "      <td>0.082091</td>\n",
       "      <td>0.865033</td>\n",
       "      <td>0.653571</td>\n",
       "      <td>0.50</td>\n",
       "      <td>0.639768</td>\n",
       "      <td>0.880209</td>\n",
       "      <td>0.90</td>\n",
       "    </tr>\n",
       "    <tr>\n",
       "      <th>4</th>\n",
       "      <td>0.373165</td>\n",
       "      <td>7.879526e-01</td>\n",
       "      <td>0.280886</td>\n",
       "      <td>0.861416</td>\n",
       "      <td>0.793660</td>\n",
       "      <td>0.04</td>\n",
       "      <td>0.558125</td>\n",
       "      <td>0.739186</td>\n",
       "      <td>0.27</td>\n",
       "    </tr>\n",
       "  </tbody>\n",
       "</table>\n",
       "</div>"
      ],
      "text/plain": [
       "   precursor_mz*0.001  mass_similarity  s2v_score  ms2ds_score  \\\n",
       "0            0.357206     2.238274e-02   0.342509     0.958357   \n",
       "1            0.495381     1.817799e-12   0.120013     0.871954   \n",
       "2            0.373165     7.879526e-01   0.234691     0.867854   \n",
       "3            0.455290     1.395613e-08   0.082091     0.865033   \n",
       "4            0.373165     7.879526e-01   0.280886     0.861416   \n",
       "\n",
       "   average_ms2ds_score_for_inchikey14  \\\n",
       "0                            0.738493   \n",
       "1                            0.582930   \n",
       "2                            0.793660   \n",
       "3                            0.653571   \n",
       "4                            0.793660   \n",
       "\n",
       "   nr_of_spectra_with_same_inchikey14*0.01  chemical_neighbourhood_score  \\\n",
       "0                                     0.02                      0.566782   \n",
       "1                                     0.23                      0.474917   \n",
       "2                                     0.04                      0.558125   \n",
       "3                                     0.50                      0.639768   \n",
       "4                                     0.04                      0.558125   \n",
       "\n",
       "   average_tanimoto_score_for_chemical_neighbourhood_score  \\\n",
       "0                                           0.830279         \n",
       "1                                           0.914574         \n",
       "2                                           0.739186         \n",
       "3                                           0.880209         \n",
       "4                                           0.739186         \n",
       "\n",
       "   nr_of_spectra_for_chemical_neighbourhood_score*0.01  \n",
       "0                                               0.71    \n",
       "1                                               4.90    \n",
       "2                                               0.27    \n",
       "3                                               0.90    \n",
       "4                                               0.27    "
      ]
     },
     "execution_count": 5,
     "metadata": {},
     "output_type": "execute_result"
    }
   ],
   "source": [
    "training_scores.head()"
   ]
  },
  {
   "cell_type": "code",
   "execution_count": 6,
   "id": "27619288",
   "metadata": {},
   "outputs": [
    {
     "name": "stdout",
     "output_type": "stream",
     "text": [
      "<class 'pandas.core.frame.DataFrame'>\n",
      "RangeIndex: 467600 entries, 0 to 467599\n",
      "Data columns (total 9 columns):\n",
      " #   Column                                                   Non-Null Count   Dtype  \n",
      "---  ------                                                   --------------   -----  \n",
      " 0   precursor_mz*0.001                                       467600 non-null  float64\n",
      " 1   mass_similarity                                          467600 non-null  float64\n",
      " 2   s2v_score                                                467600 non-null  float64\n",
      " 3   ms2ds_score                                              467600 non-null  float64\n",
      " 4   average_ms2ds_score_for_inchikey14                       467600 non-null  float64\n",
      " 5   nr_of_spectra_with_same_inchikey14*0.01                  467600 non-null  float64\n",
      " 6   chemical_neighbourhood_score                             467600 non-null  float64\n",
      " 7   average_tanimoto_score_for_chemical_neighbourhood_score  467600 non-null  float64\n",
      " 8   nr_of_spectra_for_chemical_neighbourhood_score*0.01      467600 non-null  float64\n",
      "dtypes: float64(9)\n",
      "memory usage: 32.1 MB\n"
     ]
    }
   ],
   "source": [
    "training_scores.info()"
   ]
  },
  {
   "cell_type": "markdown",
   "id": "349b7fba",
   "metadata": {},
   "source": [
    "### Check if the tanimoto score distribution is relatively equal"
   ]
  },
  {
   "cell_type": "code",
   "execution_count": 3,
   "id": "ee3b00d0",
   "metadata": {},
   "outputs": [
    {
     "data": {
      "image/png": "[encoded data removed]",
      "text/plain": [
       "<Figure size 432x288 with 1 Axes>"
      ]
     },
     "metadata": {
      "needs_background": "light"
     },
     "output_type": "display_data"
    },
    {
     "data": {
      "image/png": "[encoded data removed]",
      "text/plain": [
       "<Figure size 432x288 with 1 Axes>"
      ]
     },
     "metadata": {
      "needs_background": "light"
     },
     "output_type": "display_data"
    }
   ],
   "source": [
    "weight_to_convert_to_percentage = 100/len(training_labels)\n",
    "weights = [weight_to_convert_to_percentage] * len(training_labels)\n",
    "plt.xlabel(\"tanimoto score\")\n",
    "plt.ylabel(\"Percentage (%)\")\n",
    "plt.hist(training_labels, weights = weights, rwidth = 0.9)\n",
    "plt.show()\n",
    "\n",
    "weight_to_convert_to_percentage = 100/len(validation_labels)\n",
    "weights = [weight_to_convert_to_percentage] * len(validation_labels)\n",
    "plt.xlabel(\"tanimoto score\")\n",
    "plt.ylabel(\"Percentage (%)\")\n",
    "plt.hist(validation_labels, weights = weights, rwidth = 0.9)\n",
    "plt.show()"
   ]
  },
  {
   "cell_type": "code",
   "execution_count": 8,
   "id": "e703963d",
   "metadata": {},
   "outputs": [
    {
     "name": "stderr",
     "output_type": "stream",
     "text": [
      "C:\\Users\\flori\\AppData\\Local\\Temp/ipykernel_1944/2016352250.py:8: DataConversionWarning: A column-vector y was passed when a 1d array was expected. Please change the shape of y to (n_samples,), for example using ravel().\n",
      "  rf.fit(training_scores, training_labels)\n"
     ]
    },
    {
     "name": "stdout",
     "output_type": "stream",
     "text": [
      "Training MSE 0.030181185024703003\n",
      "Validation MSE 0.02890382948325566\n",
      "Variable: chemical_neighbourhood_score Importance: 0.52\n",
      "Variable: mass_similarity      Importance: 0.17\n",
      "Variable: precursor_mz*0.001   Importance: 0.16\n",
      "Variable: s2v_score            Importance: 0.11\n",
      "Variable: average_tanimoto_score_for_chemical_neighbourhood_score Importance: 0.02\n",
      "Variable: ms2ds_score          Importance: 0.01\n",
      "Variable: average_ms2ds_score_for_inchikey14 Importance: 0.0\n",
      "Variable: nr_of_spectra_with_same_inchikey14*0.01 Importance: 0.0\n",
      "Variable: nr_of_spectra_for_chemical_neighbourhood_score*0.01 Importance: 0.0\n"
     ]
    },
    {
     "data": {
      "text/plain": [
       "[None, None, None, None, None, None, None, None, None]"
      ]
     },
     "execution_count": 8,
     "metadata": {},
     "output_type": "execute_result"
    }
   ],
   "source": [
    "from sklearn.ensemble import RandomForestRegressor\n",
    "from sklearn.model_selection import train_test_split\n",
    "from sklearn.metrics import mean_squared_error\n",
    "\n",
    "# train rf using optimised parameters from below\n",
    "num_est = 250\n",
    "rf = RandomForestRegressor(n_estimators = num_est, random_state = 42, max_depth = 5)\n",
    "rf.fit(training_scores, training_labels)\n",
    "\n",
    "# predict on train\n",
    "rf_train_predictions = rf.predict(training_scores)\n",
    "mse_train_rf = mean_squared_error(training_labels, rf_train_predictions)\n",
    "print('Training MSE', mse_train_rf)\n",
    "\n",
    "# predict on test\n",
    "rf_predictions = rf.predict(validation_scores)\n",
    "mse_rf = mean_squared_error(validation_labels, rf_predictions)\n",
    "print('Validation MSE', mse_rf)\n",
    "\n",
    "# get feature importances\n",
    "importances = list(rf.feature_importances_)\n",
    "feature_importances = [(feature, round(importance, 2)) for feature, importance in zip(training_scores.columns, importances)]\n",
    "feature_importances = sorted(feature_importances, key = lambda x: x[1], reverse = True)\n",
    "[print('Variable: {:20} Importance: {}'.format(*pair)) for pair in feature_importances]"
   ]
  },
  {
   "cell_type": "code",
   "execution_count": 9,
   "id": "10f6fb9d",
   "metadata": {},
   "outputs": [],
   "source": [
    "import pickle\n",
    "pickle.dump(rf, open(os.path.join(path_data,\n",
    "                                  \"library_GNPS_15_12\",\n",
    "                                  \"ms2query_random_forest_model.pickle\"), \"wb\"))"
   ]
  },
  {
   "cell_type": "code",
   "execution_count": null,
   "id": "70267705",
   "metadata": {},
   "outputs": [],
   "source": []
  }
 ],
 "metadata": {
  "kernelspec": {
   "display_name": "Python 3 (ipykernel)",
   "language": "python",
   "name": "python3"
  },
  "language_info": {
   "codemirror_mode": {
    "name": "ipython",
    "version": 3
   },
   "file_extension": ".py",
   "mimetype": "text/x-python",
   "name": "python",
   "nbconvert_exporter": "python",
   "pygments_lexer": "ipython3",
   "version": "3.8.12"
  }
 },
 "nbformat": 4,
 "nbformat_minor": 5
}
