{
 "cells": [
  {
   "cell_type": "code",
   "execution_count": 1,
   "id": "3151f10b",
   "metadata": {},
   "outputs": [
    {
     "name": "stderr",
     "output_type": "stream",
     "text": [
      "c:\\users\\jonge094\\anaconda3\\envs\\ms2query\\lib\\site-packages\\gensim\\similarities\\__init__.py:15: UserWarning: The gensim.similarities.levenshtein submodule is disabled, because the optional Levenshtein package <https://pypi.org/project/python-Levenshtein/> is unavailable. Install Levenhstein (e.g. `pip install python-Levenshtein`) to suppress this warning.\n",
      "  warnings.warn(msg)\n"
     ]
    }
   ],
   "source": [
    "import os\n",
    "from ms2query.utils import load_pickled_file\n",
    "from matplotlib import pyplot as plt\n",
    "\n",
    "path_root = os.path.dirname(os.getcwd())\n",
    "path_data = os.path.join(os.path.dirname(path_root), \"data/gnps_24_11_2021/positive_mode/\")\n"
   ]
  },
  {
   "cell_type": "code",
   "execution_count": 2,
   "id": "135be0f7",
   "metadata": {},
   "outputs": [],
   "source": [
    "training_scores, training_labels, validation_scores, validation_labels = load_pickled_file(os.path.join(path_data, \"ms2query_library_files/training_data.pickle\"))"
   ]
  },
  {
   "cell_type": "markdown",
   "id": "349b7fba",
   "metadata": {},
   "source": [
    "### Check if the tanimoto score distribution is relatively equal"
   ]
  },
  {
   "cell_type": "code",
   "execution_count": 3,
   "id": "ee3b00d0",
   "metadata": {},
   "outputs": [
    {
     "data": {
      "image/png": "[encoded data removed]",
      "text/plain": [
       "<Figure size 432x288 with 1 Axes>"
      ]
     },
     "metadata": {
      "needs_background": "light"
     },
     "output_type": "display_data"
    },
    {
     "data": {
      "image/png": "[encoded data removed]",
      "text/plain": [
       "<Figure size 432x288 with 1 Axes>"
      ]
     },
     "metadata": {
      "needs_background": "light"
     },
     "output_type": "display_data"
    }
   ],
   "source": [
    "weight_to_convert_to_percentage = 100/len(training_labels)\n",
    "weights = [weight_to_convert_to_percentage] * len(training_labels)\n",
    "plt.xlabel(\"tanimoto score\")\n",
    "plt.ylabel(\"Percentage (%)\")\n",
    "plt.hist(training_labels, weights = weights, rwidth = 0.9)\n",
    "plt.show()\n",
    "\n",
    "weight_to_convert_to_percentage = 100/len(validation_labels)\n",
    "weights = [weight_to_convert_to_percentage] * len(validation_labels)\n",
    "plt.xlabel(\"tanimoto score\")\n",
    "plt.ylabel(\"Percentage (%)\")\n",
    "plt.hist(validation_labels, weights = weights, rwidth = 0.9)\n",
    "plt.show()"
   ]
  },
  {
   "cell_type": "code",
   "execution_count": 5,
   "id": "e703963d",
   "metadata": {},
   "outputs": [
    {
     "name": "stderr",
     "output_type": "stream",
     "text": [
      "C:\\Users\\jonge094\\AppData\\Local\\Temp/ipykernel_1716/2016352250.py:8: DataConversionWarning: A column-vector y was passed when a 1d array was expected. Please change the shape of y to (n_samples,), for example using ravel().\n",
      "  rf.fit(training_scores, training_labels)\n"
     ]
    },
    {
     "name": "stdout",
     "output_type": "stream",
     "text": [
      "Training MSE 0.02843581342148282\n",
      "Validation MSE 0.02717854535169647\n",
      "Variable: chemical_neighbourhood_score Importance: 0.51\n",
      "Variable: mass_similarity      Importance: 0.2\n",
      "Variable: parent_mass*0.001    Importance: 0.15\n",
      "Variable: s2v_score            Importance: 0.11\n",
      "Variable: ms2ds_score          Importance: 0.01\n",
      "Variable: nr_of_spectra_with_same_inchikey14*0.01 Importance: 0.01\n",
      "Variable: average_tanimoto_score_for_chemical_neighbourhood_score Importance: 0.01\n",
      "Variable: average_ms2ds_score_for_inchikey14 Importance: 0.0\n",
      "Variable: nr_of_spectra_for_chemical_neighbourhood_score*0.01 Importance: 0.0\n"
     ]
    },
    {
     "data": {
      "text/plain": [
       "[None, None, None, None, None, None, None, None, None]"
      ]
     },
     "execution_count": 5,
     "metadata": {},
     "output_type": "execute_result"
    }
   ],
   "source": [
    "from sklearn.ensemble import RandomForestRegressor\n",
    "from sklearn.model_selection import train_test_split\n",
    "from sklearn.metrics import mean_squared_error\n",
    "\n",
    "# train rf using optimised parameters from below\n",
    "num_est = 250\n",
    "rf = RandomForestRegressor(n_estimators = num_est, random_state = 42, max_depth = 5)\n",
    "rf.fit(training_scores, training_labels)\n",
    "\n",
    "# predict on train\n",
    "rf_train_predictions = rf.predict(training_scores)\n",
    "mse_train_rf = mean_squared_error(training_labels, rf_train_predictions)\n",
    "print('Training MSE', mse_train_rf)\n",
    "\n",
    "# predict on test\n",
    "rf_predictions = rf.predict(validation_scores)\n",
    "mse_rf = mean_squared_error(validation_labels, rf_predictions)\n",
    "print('Validation MSE', mse_rf)\n",
    "\n",
    "# get feature importances\n",
    "importances = list(rf.feature_importances_)\n",
    "feature_importances = [(feature, round(importance, 2)) for feature, importance in zip(training_scores.columns, importances)]\n",
    "feature_importances = sorted(feature_importances, key = lambda x: x[1], reverse = True)\n",
    "[print('Variable: {:20} Importance: {}'.format(*pair)) for pair in feature_importances]"
   ]
  },
  {
   "cell_type": "code",
   "execution_count": 6,
   "id": "10f6fb9d",
   "metadata": {},
   "outputs": [],
   "source": [
    "import pickle\n",
    "pickle.dump(rf, open(os.path.join(path_data, \"ms2query_library_files/ms2query_random_forest_model.pickle\"), \"wb\"))"
   ]
  },
  {
   "cell_type": "code",
   "execution_count": null,
   "id": "70267705",
   "metadata": {},
   "outputs": [],
   "source": []
  }
 ],
 "metadata": {
  "kernelspec": {
   "display_name": "Python 3 (ipykernel)",
   "language": "python",
   "name": "python3"
  },
  "language_info": {
   "codemirror_mode": {
    "name": "ipython",
    "version": 3
   },
   "file_extension": ".py",
   "mimetype": "text/x-python",
   "name": "python",
   "nbconvert_exporter": "python",
   "pygments_lexer": "ipython3",
   "version": "3.8.11"
  }
 },
 "nbformat": 4,
 "nbformat_minor": 5
}
