{
 "cells": [
  {
   "cell_type": "markdown",
   "id": "08c945f5",
   "metadata": {},
   "source": [
    "# Calculate tanimoto scores"
   ]
  },
  {
   "cell_type": "code",
   "execution_count": 1,
   "id": "75ac4a5a",
   "metadata": {},
   "outputs": [],
   "source": [
    "import pickle\n",
    "import os\n",
    "root_folder = \"C:/Users/jonge094/PycharmProjects/PhD_MS2Query/ms2query/data/gnps_24_11_2021\"\n",
    "outfile = os.path.join(root_folder, \"ALL_GNPS_24_11_2021_positive_annotated.pickle\")\n",
    "with open(outfile, 'rb') as file:\n",
    "    positive_fully_annotated = pickle.load(file)"
   ]
  },
  {
   "cell_type": "code",
   "execution_count": 2,
   "id": "6b4e1da7",
   "metadata": {},
   "outputs": [],
   "source": [
    "def select_unique_inchikeys(spectra):\n",
    "    inchikey_dict = {}\n",
    "    for spectrum in spectra:\n",
    "        inchikey = spectrum.get(\"inchikey\")[:14]\n",
    "        if inchikey not in inchikey_dict:\n",
    "            inchikey_dict[inchikey] = spectrum\n",
    "    return inchikey_dict\n",
    "\n",
    "unique_inchikeys = select_unique_inchikeys(positive_fully_annotated)\n",
    "spectra_with_unique_inchi = list(unique_inchikeys.values())\n",
    "inchikeys = list(unique_inchikeys.keys())"
   ]
  },
  {
   "cell_type": "code",
   "execution_count": 3,
   "id": "ae53529a",
   "metadata": {},
   "outputs": [
    {
     "name": "stdout",
     "output_type": "stream",
     "text": [
      "20417\n",
      "20417\n"
     ]
    }
   ],
   "source": [
    "print(len(unique_inchikeys))\n",
    "print(len(inchikeys))"
   ]
  },
  {
   "cell_type": "code",
   "execution_count": 4,
   "id": "2cb49203",
   "metadata": {},
   "outputs": [
    {
     "data": {
      "application/vnd.jupyter.widget-view+json": {
       "model_id": "d843d09d68e64d148ff403b31a077235",
       "version_major": 2,
       "version_minor": 0
      },
      "text/plain": [
       "  0%|          | 0/20417 [00:00<?, ?it/s]"
      ]
     },
     "metadata": {},
     "output_type": "display_data"
    },
    {
     "ename": "NameError",
     "evalue": "name 'pd' is not defined",
     "output_type": "error",
     "traceback": [
      "\u001b[1;31m---------------------------------------------------------------------------\u001b[0m",
      "\u001b[1;31mNameError\u001b[0m                                 Traceback (most recent call last)",
      "\u001b[1;32m~\\AppData\\Local\\Temp/ipykernel_8308/2684106019.py\u001b[0m in \u001b[0;36m<module>\u001b[1;34m\u001b[0m\n\u001b[0;32m     11\u001b[0m \u001b[0msimilarity_measure\u001b[0m \u001b[1;33m=\u001b[0m \u001b[0mFingerprintSimilarity\u001b[0m\u001b[1;33m(\u001b[0m\u001b[1;34m\"jaccard\"\u001b[0m\u001b[1;33m)\u001b[0m\u001b[1;33m\u001b[0m\u001b[1;33m\u001b[0m\u001b[0m\n\u001b[0;32m     12\u001b[0m \u001b[0mscores\u001b[0m \u001b[1;33m=\u001b[0m \u001b[0mcalculate_scores\u001b[0m\u001b[1;33m(\u001b[0m\u001b[0mfingerprints\u001b[0m\u001b[1;33m,\u001b[0m \u001b[0mfingerprints\u001b[0m\u001b[1;33m,\u001b[0m \u001b[0msimilarity_measure\u001b[0m\u001b[1;33m,\u001b[0m \u001b[0mis_symmetric\u001b[0m\u001b[1;33m=\u001b[0m\u001b[1;32mTrue\u001b[0m\u001b[1;33m)\u001b[0m\u001b[1;33m\u001b[0m\u001b[1;33m\u001b[0m\u001b[0m\n\u001b[1;32m---> 13\u001b[1;33m \u001b[0mresults\u001b[0m \u001b[1;33m=\u001b[0m \u001b[0mpd\u001b[0m\u001b[1;33m.\u001b[0m\u001b[0mDataFrame\u001b[0m\u001b[1;33m(\u001b[0m\u001b[0mscores\u001b[0m\u001b[1;33m.\u001b[0m\u001b[0mscores\u001b[0m\u001b[1;33m,\u001b[0m \u001b[0mindex\u001b[0m \u001b[1;33m=\u001b[0m \u001b[0minchikeys\u001b[0m\u001b[1;33m,\u001b[0m \u001b[0mcolumns\u001b[0m \u001b[1;33m=\u001b[0m \u001b[0minchikeys\u001b[0m\u001b[1;33m)\u001b[0m\u001b[1;33m\u001b[0m\u001b[1;33m\u001b[0m\u001b[0m\n\u001b[0m",
      "\u001b[1;31mNameError\u001b[0m: name 'pd' is not defined"
     ]
    }
   ],
   "source": [
    "import numpy as np\n",
    "from matchms import calculate_scores\n",
    "from matchms import Spectrum\n",
    "from matchms.filtering import add_fingerprint\n",
    "from matchms.similarity import FingerprintSimilarity\n",
    "from tqdm.notebook import tqdm\n",
    "\n",
    "# Add fingerprints\n",
    "fingerprints = [add_fingerprint(x, nbits=2048) for x in tqdm(spectra_with_unique_inchi)]\n",
    "# Specify type and calculate similarities\n",
    "similarity_measure = FingerprintSimilarity(\"jaccard\")\n",
    "scores = calculate_scores(fingerprints, fingerprints, similarity_measure, is_symmetric=True)\n"
   ]
  },
  {
   "cell_type": "code",
   "execution_count": 5,
   "id": "b875ee1a",
   "metadata": {},
   "outputs": [],
   "source": [
    "import pandas as pd\n",
    "results = pd.DataFrame(scores.scores, index = inchikeys, columns = inchikeys)\n"
   ]
  },
  {
   "cell_type": "code",
   "execution_count": 6,
   "id": "3f90fe10",
   "metadata": {},
   "outputs": [],
   "source": [
    "pickle.dump(results,\n",
    "           open(os.path.join(root_folder, \"GNPS_24_11_2021_pos_tanimoto_scores.pickle\"), \"wb\"))"
   ]
  },
  {
   "cell_type": "code",
   "execution_count": 7,
   "id": "19e080b2",
   "metadata": {},
   "outputs": [
    {
     "name": "stdout",
     "output_type": "stream",
     "text": [
      "                IYDKWWDUBYWQGF  KNGPFNUOXXLKCN  WXDBUBIFYCCNLE  \\\n",
      "IYDKWWDUBYWQGF        1.000000        0.464123        0.375698   \n",
      "KNGPFNUOXXLKCN        0.464123        1.000000        0.442463   \n",
      "WXDBUBIFYCCNLE        0.375698        0.442463        1.000000   \n",
      "CGZKSPLDUIRCIO        0.449640        0.561014        0.397862   \n",
      "USXIYWCPCGVOKF        0.376913        0.525750        0.376478   \n",
      "...                        ...             ...             ...   \n",
      "ILFYYSUCZQEGOL        0.046096        0.050318        0.055388   \n",
      "JEYWNNAZDLFBFF        0.333088        0.350604        0.268169   \n",
      "RLJFTICUTYVZDG        0.322108        0.352771        0.277126   \n",
      "VEUZZDOCACZPRY        0.381818        0.494547        0.345066   \n",
      "DZQSHMPRUIQXPF        0.403950        0.551668        0.405172   \n",
      "\n",
      "                CGZKSPLDUIRCIO  USXIYWCPCGVOKF  WCNJVJCYRBJSLC  \\\n",
      "IYDKWWDUBYWQGF        0.449640        0.376913        0.525466   \n",
      "KNGPFNUOXXLKCN        0.561014        0.525750        0.597118   \n",
      "WXDBUBIFYCCNLE        0.397862        0.376478        0.411209   \n",
      "CGZKSPLDUIRCIO        1.000000        0.435102        0.538462   \n",
      "USXIYWCPCGVOKF        0.435102        1.000000        0.462323   \n",
      "...                        ...             ...             ...   \n",
      "ILFYYSUCZQEGOL        0.047619        0.036013        0.044248   \n",
      "JEYWNNAZDLFBFF        0.386220        0.309411        0.356231   \n",
      "RLJFTICUTYVZDG        0.333739        0.294236        0.364360   \n",
      "VEUZZDOCACZPRY        0.462147        0.407251        0.484454   \n",
      "DZQSHMPRUIQXPF        0.513304        0.442499        0.512568   \n",
      "\n",
      "                NAIKIJSSBJHCBL  GWGKNTICBPKKKW  KZVHAGNFWJIOMX  \\\n",
      "IYDKWWDUBYWQGF        0.295739        0.499241        0.293277   \n",
      "KNGPFNUOXXLKCN        0.251799        0.482596        0.246847   \n",
      "WXDBUBIFYCCNLE        0.288562        0.370609        0.284843   \n",
      "CGZKSPLDUIRCIO        0.250000        0.413174        0.245466   \n",
      "USXIYWCPCGVOKF        0.235077        0.365172        0.228951   \n",
      "...                        ...             ...             ...   \n",
      "ILFYYSUCZQEGOL        0.031148        0.052947        0.030050   \n",
      "JEYWNNAZDLFBFF        0.194595        0.319518        0.192377   \n",
      "RLJFTICUTYVZDG        0.212649        0.346687        0.210526   \n",
      "VEUZZDOCACZPRY        0.217115        0.374760        0.213778   \n",
      "DZQSHMPRUIQXPF        0.236231        0.395122        0.234000   \n",
      "\n",
      "                FFCLYSVFZQXUHI  ...  FUHQSEOSBHASCH  VFIXONREXXFDQV  \\\n",
      "IYDKWWDUBYWQGF        0.464567  ...        0.380400        0.346329   \n",
      "KNGPFNUOXXLKCN        0.339188  ...        0.473047        0.420250   \n",
      "WXDBUBIFYCCNLE        0.301536  ...        0.326309        0.319317   \n",
      "CGZKSPLDUIRCIO        0.287054  ...        0.475745        0.422943   \n",
      "USXIYWCPCGVOKF        0.258922  ...        0.384239        0.381761   \n",
      "...                        ...  ...             ...             ...   \n",
      "ILFYYSUCZQEGOL        0.047354  ...        0.040991        0.048314   \n",
      "JEYWNNAZDLFBFF        0.246988  ...        0.325035        0.327822   \n",
      "RLJFTICUTYVZDG        0.251948  ...        0.319310        0.290413   \n",
      "VEUZZDOCACZPRY        0.260424  ...        0.414321        0.476943   \n",
      "DZQSHMPRUIQXPF        0.291287  ...        0.439554        0.490000   \n",
      "\n",
      "                KDYWOWVAVXEYRU  GLCGPUDWOPXBAY  AAKJLRGGTJKAMG  \\\n",
      "IYDKWWDUBYWQGF        0.470306        0.336986        0.298592   \n",
      "KNGPFNUOXXLKCN        0.578447        0.400675        0.357469   \n",
      "WXDBUBIFYCCNLE        0.430198        0.289617        0.275986   \n",
      "CGZKSPLDUIRCIO        0.572379        0.389649        0.377860   \n",
      "USXIYWCPCGVOKF        0.459490        0.340000        0.304838   \n",
      "...                        ...             ...             ...   \n",
      "ILFYYSUCZQEGOL        0.045828        0.051020        0.046538   \n",
      "JEYWNNAZDLFBFF        0.412437        0.346064        0.279842   \n",
      "RLJFTICUTYVZDG        0.330341        0.378098        0.241167   \n",
      "VEUZZDOCACZPRY        0.476620        0.386022        0.332011   \n",
      "DZQSHMPRUIQXPF        0.535853        0.401858        0.380282   \n",
      "\n",
      "                ILFYYSUCZQEGOL  JEYWNNAZDLFBFF  RLJFTICUTYVZDG  \\\n",
      "IYDKWWDUBYWQGF        0.046096        0.333088        0.322108   \n",
      "KNGPFNUOXXLKCN        0.050318        0.350604        0.352771   \n",
      "WXDBUBIFYCCNLE        0.055388        0.268169        0.277126   \n",
      "CGZKSPLDUIRCIO        0.047619        0.386220        0.333739   \n",
      "USXIYWCPCGVOKF        0.036013        0.309411        0.294236   \n",
      "...                        ...             ...             ...   \n",
      "ILFYYSUCZQEGOL        1.000000        0.041080        0.047393   \n",
      "JEYWNNAZDLFBFF        0.041080        1.000000        0.267843   \n",
      "RLJFTICUTYVZDG        0.047393        0.267843        1.000000   \n",
      "VEUZZDOCACZPRY        0.049100        0.372399        0.312085   \n",
      "DZQSHMPRUIQXPF        0.045521        0.359615        0.319626   \n",
      "\n",
      "                VEUZZDOCACZPRY  DZQSHMPRUIQXPF  \n",
      "IYDKWWDUBYWQGF        0.381818        0.403950  \n",
      "KNGPFNUOXXLKCN        0.494547        0.551668  \n",
      "WXDBUBIFYCCNLE        0.345066        0.405172  \n",
      "CGZKSPLDUIRCIO        0.462147        0.513304  \n",
      "USXIYWCPCGVOKF        0.407251        0.442499  \n",
      "...                        ...             ...  \n",
      "ILFYYSUCZQEGOL        0.049100        0.045521  \n",
      "JEYWNNAZDLFBFF        0.372399        0.359615  \n",
      "RLJFTICUTYVZDG        0.312085        0.319626  \n",
      "VEUZZDOCACZPRY        1.000000        0.503885  \n",
      "DZQSHMPRUIQXPF        0.503885        1.000000  \n",
      "\n",
      "[20417 rows x 20417 columns]\n"
     ]
    }
   ],
   "source": [
    "print(results)"
   ]
  },
  {
   "cell_type": "code",
   "execution_count": null,
   "id": "cab740a9",
   "metadata": {},
   "outputs": [],
   "source": []
  }
 ],
 "metadata": {
  "kernelspec": {
   "display_name": "Python 3 (ipykernel)",
   "language": "python",
   "name": "python3"
  },
  "language_info": {
   "codemirror_mode": {
    "name": "ipython",
    "version": 3
   },
   "file_extension": ".py",
   "mimetype": "text/x-python",
   "name": "python",
   "nbconvert_exporter": "python",
   "pygments_lexer": "ipython3",
   "version": "3.8.11"
  }
 },
 "nbformat": 4,
 "nbformat_minor": 5
}
