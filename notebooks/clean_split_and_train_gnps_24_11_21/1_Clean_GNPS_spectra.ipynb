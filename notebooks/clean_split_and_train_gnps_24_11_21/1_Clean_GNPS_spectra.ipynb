{
 "cells": [
  {
   "cell_type": "markdown",
   "id": "49d44d42",
   "metadata": {},
   "source": [
    "# Load and clean gnps spectra"
   ]
  },
  {
   "cell_type": "markdown",
   "id": "e32ab73e",
   "metadata": {},
   "source": [
    "The gnps spectra are downloaded on 24-11-2021 from https://gnps-external.ucsd.edu/gnpslibrary/ALL_GNPS.mgf\n",
    "\n",
    "The final file created in this notebook, that is used by other notebooks is named: ALL_GNPS_24_11_2021_inchikeys_from_pubchem.pickle \n",
    "In this version, the metadata is cleaned, peaks are normalized and cleaned and missing inchikeys were added by using pubchem. \n",
    "\n",
    "Other in between files are:\n",
    "ALL_GNPS_24_11_2021.mgf Containing the raw spectra of GNPS\n",
    "ALL_GNPS_24_11_2021_raw_spectra.pickle Contains the raw spectra, in pickled matchms spectra.\n",
    "ALL_GNPS_24_11_2021_cleaned_metadata.pickle Contains spectra with filtered metadata. No spectra or peaks have been removed.\n",
    "ALL_GNPS_24_11_2021_removed_peaks.pickle In this version peak and spectra were removed that do not fit within certain criteria (see below).\n",
    "\n",
    "The next step in data preparation is the notebook 2_split_data"
   ]
  },
  {
   "cell_type": "code",
   "execution_count": 1,
   "id": "f9c1d0a3",
   "metadata": {},
   "outputs": [],
   "source": [
    "import os\n",
    "root_folder = \"C:/Users/jonge094/PycharmProjects/PhD_MS2Query/ms2query/data/gnps_24_11_2021/in_between_files_clean_gnps_spectra\"\n",
    "path_to_gnps_spectra = os.path.join(root_folder, \"ALL_GNPS_24_11_2021.mgf\")"
   ]
  },
  {
   "cell_type": "code",
   "execution_count": 7,
   "id": "d26b64af",
   "metadata": {},
   "outputs": [],
   "source": [
    "from matchms.importing import load_from_mgf\n",
    "gnps_spectra = list(load_from_mgf(path_to_gnps_spectra))"
   ]
  },
  {
   "cell_type": "code",
   "execution_count": 8,
   "id": "616ff1a6",
   "metadata": {},
   "outputs": [
    {
     "name": "stdout",
     "output_type": "stream",
     "text": [
      "480863\n"
     ]
    }
   ],
   "source": [
    "print(len(gnps_spectra))"
   ]
  },
  {
   "cell_type": "markdown",
   "id": "fd997e98",
   "metadata": {},
   "source": [
    "Dump spectra in pickle file for quicker loading"
   ]
  },
  {
   "cell_type": "code",
   "execution_count": 11,
   "id": "5866c0eb",
   "metadata": {},
   "outputs": [],
   "source": [
    "import pickle \n",
    "pickle.dump(gnps_spectra,\n",
    "           open(os.path.join(root_folder, \"ALL_GNPS_24_11_2021_raw_spectra.pickle\"), \"wb\"))"
   ]
  },
  {
   "cell_type": "code",
   "execution_count": 3,
   "id": "5676ec2d",
   "metadata": {},
   "outputs": [],
   "source": [
    "import pickle\n",
    "outfile = os.path.join(root_folder, \"ALL_GNPS_24_11_2021_raw_spectra.pickle\")\n",
    "with open(outfile, 'rb') as file:\n",
    "    gnps_spectra = pickle.load(file)"
   ]
  },
  {
   "cell_type": "code",
   "execution_count": 20,
   "id": "80cc10b2",
   "metadata": {},
   "outputs": [],
   "source": [
    "def count_annotations(spectra):\n",
    "    inchi_lst = []\n",
    "    smiles_lst = []\n",
    "    inchikey_lst = []\n",
    "    nr_of_spectra_with_less_than_3_peaks = 0\n",
    "    nr_of_spectra_with_more_than_500_peaks = 0\n",
    "\n",
    "    for i, spec in enumerate(spectra):\n",
    "        inchi_lst.append(spec.get(\"inchi\"))\n",
    "        smiles_lst.append(spec.get(\"smiles\"))\n",
    "        inchikey = spec.get(\"inchikey\")\n",
    "        if inchikey is None:\n",
    "            inchikey = spec.get(\"inchikey_inchi\")\n",
    "        inchikey_lst.append(inchikey)\n",
    "        if len(spec.peaks.mz) < 3:\n",
    "            nr_of_spectra_with_less_than_3_peaks += 1\n",
    "        if len(spec.peaks.mz) > 500:\n",
    "            nr_of_spectra_with_more_than_500_peaks += 1\n",
    "\n",
    "    inchi_count = sum([1 for x in inchi_lst if x])\n",
    "    smiles_count = sum([1 for x in smiles_lst if x])\n",
    "    inchikey_count = sum([1 for x in inchikey_lst if x])\n",
    "    print(\"nr_of_spectra:\", len(spectra))\n",
    "    print(\"Inchis:\", inchi_count, \"--\", len(set(inchi_lst)), \"unique\")\n",
    "    print(\"Smiles:\", smiles_count, \"--\", len(set(smiles_lst)), \"unique\")\n",
    "    print(\"Inchikeys:\", inchikey_count, \"--\", \n",
    "          len(set([x[:14] for x in inchikey_lst if x])), \"unique (first 14 characters)\")\n",
    "    print(\"Spectra with less than 3 peaks:\", nr_of_spectra_with_less_than_3_peaks)\n",
    "    print(\"Spectra with more than 500 peaks:\", nr_of_spectra_with_more_than_500_peaks)\n",
    "    "
   ]
  },
  {
   "cell_type": "code",
   "execution_count": 5,
   "id": "92051d23",
   "metadata": {},
   "outputs": [
    {
     "name": "stdout",
     "output_type": "stream",
     "text": [
      "nr_of_spectra: 480863\n",
      "Inchis: 477239 -- 27333 unique\n",
      "Smiles: 478738 -- 35046 unique\n",
      "Inchikeys: 0 -- 0 unique (first 14 characters)\n"
     ]
    }
   ],
   "source": [
    "count_annotations(gnps_spectra)"
   ]
  },
  {
   "cell_type": "markdown",
   "id": "f3b59f97",
   "metadata": {},
   "source": [
    "## Clean metadata with matchms\n",
    "The metadata is cleaned, no spectra are removed in this step. "
   ]
  },
  {
   "cell_type": "code",
   "execution_count": 6,
   "id": "0ff66a73",
   "metadata": {},
   "outputs": [],
   "source": [
    "from matchms.filtering import default_filters, add_parent_mass, derive_adduct_from_name, \\\n",
    "    harmonize_undefined_inchikey, harmonize_undefined_inchi, harmonize_undefined_smiles, repair_inchi_inchikey_smiles,\\\n",
    "    derive_inchi_from_smiles, derive_smiles_from_inchi, derive_inchikey_from_inchi\n",
    "\n",
    "def apply_metadata_filters(s):\n",
    "    # Default filters\n",
    "    s = default_filters(s)\n",
    "    s = derive_adduct_from_name(s)\n",
    "    s = add_parent_mass(s, estimate_from_adduct=True)\n",
    "    \n",
    "    # Here, undefiend entries will be harmonized (instead of having a huge variation of None,\"\", \"N/A\" etc.)\n",
    "    s = harmonize_undefined_inchikey(s)\n",
    "    s = harmonize_undefined_inchi(s)\n",
    "    s = harmonize_undefined_smiles(s)\n",
    "    # The repair_inchi_inchikey_smiles function will correct misplaced metadata (e.g. inchikeys entered as inchi etc.) and harmonize the entry strings.\n",
    "    s = repair_inchi_inchikey_smiles(s)\n",
    "    # Where possible (and necessary, i.e. missing): Convert between smiles, inchi, inchikey to complete metadata. This is done using functions from rdkit.\n",
    "    s = derive_inchi_from_smiles(s)\n",
    "    s = derive_smiles_from_inchi(s)\n",
    "    s = derive_inchikey_from_inchi(s)\n",
    "    return s\n"
   ]
  },
  {
   "cell_type": "markdown",
   "id": "be2e0af5",
   "metadata": {},
   "source": [
    "Block below was rerun, so not all the printed statements are stored in the notebook. "
   ]
  },
  {
   "cell_type": "code",
   "execution_count": 1,
   "id": "1d4c2c53",
   "metadata": {},
   "outputs": [
    {
     "ename": "NameError",
     "evalue": "name 'gnps_spectra' is not defined",
     "output_type": "error",
     "traceback": [
      "\u001b[1;31m---------------------------------------------------------------------------\u001b[0m",
      "\u001b[1;31mNameError\u001b[0m                                 Traceback (most recent call last)",
      "\u001b[1;32m~\\AppData\\Local\\Temp/ipykernel_18612/2717299090.py\u001b[0m in \u001b[0;36m<module>\u001b[1;34m\u001b[0m\n\u001b[0;32m      1\u001b[0m \u001b[1;32mfrom\u001b[0m \u001b[0mtqdm\u001b[0m\u001b[1;33m.\u001b[0m\u001b[0mnotebook\u001b[0m \u001b[1;32mimport\u001b[0m \u001b[0mtqdm\u001b[0m\u001b[1;33m\u001b[0m\u001b[1;33m\u001b[0m\u001b[0m\n\u001b[0;32m      2\u001b[0m \u001b[1;33m\u001b[0m\u001b[0m\n\u001b[1;32m----> 3\u001b[1;33m \u001b[0mgnps_spectra\u001b[0m \u001b[1;33m=\u001b[0m \u001b[1;33m[\u001b[0m\u001b[0mapply_filters\u001b[0m\u001b[1;33m(\u001b[0m\u001b[0ms\u001b[0m\u001b[1;33m)\u001b[0m \u001b[1;32mfor\u001b[0m \u001b[0ms\u001b[0m \u001b[1;32min\u001b[0m \u001b[0mtqdm\u001b[0m\u001b[1;33m(\u001b[0m\u001b[0mgnps_spectra\u001b[0m\u001b[1;33m)\u001b[0m\u001b[1;33m]\u001b[0m\u001b[1;33m\u001b[0m\u001b[1;33m\u001b[0m\u001b[0m\n\u001b[0m",
      "\u001b[1;31mNameError\u001b[0m: name 'gnps_spectra' is not defined"
     ]
    }
   ],
   "source": [
    "from tqdm.notebook import tqdm\n",
    "\n",
    "gnps_spectra = [apply_metadata_filters(s) for s in tqdm(gnps_spectra)]"
   ]
  },
  {
   "cell_type": "code",
   "execution_count": 9,
   "id": "72f6a7cd",
   "metadata": {},
   "outputs": [],
   "source": [
    "pickle.dump(gnps_spectra,\n",
    "           open(os.path.join(root_folder, \"ALL_GNPS_24_11_2021_cleaned_metadata.pickle\"), \"wb\"))"
   ]
  },
  {
   "cell_type": "code",
   "execution_count": 18,
   "id": "ad8e48a8",
   "metadata": {},
   "outputs": [
    {
     "name": "stdout",
     "output_type": "stream",
     "text": [
      "480863\n",
      "Inchis: 428302 -- 26823 unique\n",
      "Smiles: 427897 -- 37735 unique\n",
      "Inchikeys: 427863 -- 22613 unique (first 14 characters)\n"
     ]
    }
   ],
   "source": [
    "count_annotations(gnps_spectra)"
   ]
  },
  {
   "cell_type": "markdown",
   "id": "822c433a",
   "metadata": {},
   "source": [
    "# remove spectra based on peaks\n",
    "- Peaks are normalized\n",
    "- Peaks with a low relative intensity < 0.001 are removed\n",
    "- Removes all peaks above 1000 Da are removed\n",
    "- For spectra with more than 500 peaks, the least intense peaks are removed (until 500 are left)\n",
    "- Removes all spectra that have < 3 peaks\n"
   ]
  },
  {
   "cell_type": "code",
   "execution_count": 22,
   "id": "7327be91",
   "metadata": {},
   "outputs": [],
   "source": [
    "outfile = os.path.join(root_folder, \"ALL_GNPS_24_11_2021_cleaned_metadata.pickle\")\n",
    "with open(outfile, 'rb') as file:\n",
    "    gnps_spectra = pickle.load(file)"
   ]
  },
  {
   "cell_type": "code",
   "execution_count": 23,
   "id": "481d19d0",
   "metadata": {},
   "outputs": [
    {
     "name": "stdout",
     "output_type": "stream",
     "text": [
      "nr_of_spectra: 480863\n",
      "Inchis: 428302 -- 26823 unique\n",
      "Smiles: 427897 -- 37735 unique\n",
      "Inchikeys: 427863 -- 22613 unique (first 14 characters)\n",
      "Spectra with less than 3 peaks: 76128\n",
      "Spectra with more than 500 peaks: 19695\n"
     ]
    }
   ],
   "source": [
    "count_annotations(gnps_spectra)"
   ]
  },
  {
   "cell_type": "code",
   "execution_count": 8,
   "id": "0d01f935",
   "metadata": {},
   "outputs": [],
   "source": [
    "import numpy as np\n",
    "number_of_peaks = np.array([len(s.peaks) for s in gnps_spectra])"
   ]
  },
  {
   "cell_type": "markdown",
   "id": "b6d206d5",
   "metadata": {},
   "source": [
    "Plot spectrum distribution of spectra with small peaks. "
   ]
  },
  {
   "cell_type": "code",
   "execution_count": 9,
   "id": "a7481cac",
   "metadata": {},
   "outputs": [
    {
     "data": {
      "image/png": "[encoded data removed]",
      "text/plain": [
       "<Figure size 432x288 with 1 Axes>"
      ]
     },
     "metadata": {
      "needs_background": "light"
     },
     "output_type": "display_data"
    }
   ],
   "source": [
    "from matplotlib import pyplot as plt\n",
    "plt.hist(number_of_peaks, np.linspace(0,10,11))\n",
    "plt.show()"
   ]
  },
  {
   "cell_type": "code",
   "execution_count": 10,
   "id": "5a14e8f5",
   "metadata": {},
   "outputs": [],
   "source": [
    "from matplotlib import pyplot as plt \n",
    "\n",
    "def plot_nr_of_peaks_distribution(spectra):\n",
    "    peak_list = []\n",
    "    for spectrum in spectra:\n",
    "        nr_of_peaks = len(spectrum.peaks)\n",
    "        peak_list.append(nr_of_peaks)\n",
    "    plt.hist(peak_list)\n",
    "    plt.show()"
   ]
  },
  {
   "cell_type": "code",
   "execution_count": 11,
   "id": "7e02e575",
   "metadata": {},
   "outputs": [
    {
     "data": {
      "image/png": "[encoded data removed]",
      "text/plain": [
       "<Figure size 432x288 with 1 Axes>"
      ]
     },
     "metadata": {
      "needs_background": "light"
     },
     "output_type": "display_data"
    }
   ],
   "source": [
    "plot_nr_of_peaks_distribution(gnps_spectra)"
   ]
  },
  {
   "cell_type": "code",
   "execution_count": 12,
   "id": "ed1786c4",
   "metadata": {},
   "outputs": [
    {
     "name": "stdout",
     "output_type": "stream",
     "text": [
      "122392 spectra have < 5 peaks\n"
     ]
    }
   ],
   "source": [
    "print(f\"{np.sum(number_of_peaks < 5)} spectra have < 5 peaks\")"
   ]
  },
  {
   "cell_type": "code",
   "execution_count": 13,
   "id": "502bdefe",
   "metadata": {},
   "outputs": [],
   "source": [
    "from matchms.filtering import select_by_mz, normalize_intensities, require_minimum_number_of_peaks, select_by_relative_intensity, reduce_to_number_of_peaks\n",
    "\n",
    "def normalize_and_filter_peaks(spectrum):\n",
    "    spectrum = normalize_intensities(spectrum)\n",
    "    spectrum = select_by_relative_intensity(spectrum, 0.001, 1)\n",
    "    spectrum = select_by_mz(spectrum, mz_from=0.0, mz_to=1000.0)\n",
    "    spectrum = reduce_to_number_of_peaks(spectrum, n_max = 500)\n",
    "    spectrum = require_minimum_number_of_peaks(spectrum, n_required=3)\n",
    "    return spectrum"
   ]
  },
  {
   "cell_type": "code",
   "execution_count": 14,
   "id": "4e3a3dac",
   "metadata": {},
   "outputs": [
    {
     "data": {
      "application/vnd.jupyter.widget-view+json": {
       "model_id": "e36fa008dac7459f85fb53e22f8752e9",
       "version_major": 2,
       "version_minor": 0
      },
      "text/plain": [
       "  0%|          | 0/480863 [00:00<?, ?it/s]"
      ]
     },
     "metadata": {},
     "output_type": "display_data"
    }
   ],
   "source": [
    "from tqdm.notebook import tqdm\n",
    "\n",
    "gnps_spectra = [normalize_and_filter_peaks(s) for s in tqdm(gnps_spectra)]"
   ]
  },
  {
   "cell_type": "code",
   "execution_count": 21,
   "id": "1b713e87",
   "metadata": {},
   "outputs": [
    {
     "name": "stdout",
     "output_type": "stream",
     "text": [
      "nr_of_spectra: 403344\n",
      "Inchis: 351258 -- 26432 unique\n",
      "Smiles: 350852 -- 36829 unique\n",
      "Inchikeys: 350819 -- 22347 unique (first 14 characters)\n",
      "Spectra with less than 3 peaks: 0\n",
      "Spectra with more than 500 peaks: 0\n"
     ]
    }
   ],
   "source": [
    "gnps_spectra = [s for s in gnps_spectra if s is not None]\n",
    "count_annotations(gnps_spectra)"
   ]
  },
  {
   "cell_type": "code",
   "execution_count": 23,
   "id": "65ab544c",
   "metadata": {},
   "outputs": [],
   "source": [
    "pickle.dump(gnps_spectra,\n",
    "           open(os.path.join(root_folder, \"ALL_GNPS_24_11_2021_removed_peaks.pickle\"), \"wb\"))"
   ]
  },
  {
   "cell_type": "code",
   "execution_count": 31,
   "id": "7b905743",
   "metadata": {},
   "outputs": [],
   "source": [
    "plot_nr_of_peaks_distribution(gnps_spectra)"
   ]
  },
  {
   "cell_type": "markdown",
   "id": "3feeecc5",
   "metadata": {},
   "source": [
    "# Use pubchem to add missing inchikeys\n",
    "52561 spectra do not have a inchikey. "
   ]
  },
  {
   "cell_type": "code",
   "execution_count": 1,
   "id": "350e6284",
   "metadata": {},
   "outputs": [],
   "source": [
    "import pickle\n",
    "import os\n",
    "root_folder = \"C:/Users/jonge094/PycharmProjects/PhD_MS2Query/ms2query/data/gnps_24_11_2021\"\n",
    "outfile = os.path.join(root_folder, \"ALL_GNPS_24_11_2021_removed_peaks.pickle\")\n",
    "with open(outfile, 'rb') as file:\n",
    "    gnps_spectra = pickle.load(file)"
   ]
  },
  {
   "cell_type": "code",
   "execution_count": 3,
   "id": "8edc147b",
   "metadata": {},
   "outputs": [
    {
     "name": "stdout",
     "output_type": "stream",
     "text": [
      "nr_of_spectra: 403840\n",
      "Inchis: 351753 -- 26434 unique\n",
      "Smiles: 351347 -- 36832 unique\n",
      "Inchikeys: 351314 -- 22349 unique (first 14 characters)\n"
     ]
    }
   ],
   "source": [
    "count_annotations(gnps_spectra)"
   ]
  },
  {
   "cell_type": "markdown",
   "id": "851f0697",
   "metadata": {},
   "source": [
    "### Select spectra that have no inchikey or smiles:"
   ]
  },
  {
   "cell_type": "code",
   "execution_count": 28,
   "id": "250c89e1",
   "metadata": {},
   "outputs": [
    {
     "name": "stdout",
     "output_type": "stream",
     "text": [
      "52532\n"
     ]
    }
   ],
   "source": [
    "spectra_with_missing_inchi_or_smiles = []\n",
    "for spectrum in gnps_spectra:\n",
    "    inchikey = spectrum.get(\"inchikey\") \n",
    "    if inchikey is None or len(inchikey) < 14:\n",
    "        spectra_with_missing_inchi_or_smiles.append(spectrum)\n",
    "    else:\n",
    "        smiles = spectrum.get(\"smiles\")\n",
    "        if smiles is None or len(smiles) < 1:\n",
    "            spectra_with_missing_inchi_or_smiles.append(spectrum)\n",
    "print(len(spectra_with_missing_inchi_or_smiles))"
   ]
  },
  {
   "cell_type": "code",
   "execution_count": 29,
   "id": "88b08b68",
   "metadata": {},
   "outputs": [
    {
     "name": "stdout",
     "output_type": "stream",
     "text": [
      "nr_of_spectra: 52532\n",
      "Inchis: 445 -- 102 unique\n",
      "Smiles: 39 -- 33 unique\n",
      "Inchikeys: 6 -- 4 unique (first 14 characters)\n"
     ]
    }
   ],
   "source": [
    "count_annotations(spectra_with_missing_inchi_or_smiles)"
   ]
  },
  {
   "cell_type": "code",
   "execution_count": 6,
   "id": "c9df5b3c",
   "metadata": {},
   "outputs": [
    {
     "data": {
      "application/vnd.jupyter.widget-view+json": {
       "model_id": "c34e679fd49f495f8992347f711ad4fb",
       "version_major": 2,
       "version_minor": 0
      },
      "text/plain": [
       "  0%|          | 0/403840 [00:00<?, ?it/s]"
      ]
     },
     "metadata": {},
     "output_type": "display_data"
    },
    {
     "name": "stdout",
     "output_type": "stream",
     "text": [
      "Matching molecular weight (269.2 vs parent mass of 269.0)\n",
      "Matching compound name: 2-nonenyl 4-quinolone\n",
      "Matching molecular weight (271.2 vs parent mass of 271.0)\n",
      "Matching compound name: 2-nonyl 4-quinolone\n",
      "Matching molecular weight (412.0 vs parent mass of 410.0)\n",
      "Matching compound name: Deoxyprepacifenol\n",
      "Matching molecular weight (412.0 vs parent mass of 410.0)\n",
      "Matching compound name: Deoxyprepacifenol\n",
      "Matching molecular weight (290.2 vs parent mass of 290.2)\n",
      "Matching compound name: Ecklonialactone A\n",
      "Matching molecular weight (290.2 vs parent mass of 290.2)\n",
      "Matching compound name: Ecklonialactone A\n",
      "Matching molecular weight (197.2 vs parent mass of 197.2)\n",
      "Matching compound name: N-methylundec-10-enamide\n",
      "Matching molecular weight (337.3 vs parent mass of 337.3)\n",
      "Matching compound name: Palmyrolide A\n",
      "Matching molecular weight (1531.8 vs parent mass of 1531.8)\n",
      "Matching compound name: Portoamide A\n",
      "Matching molecular weight (1531.8 vs parent mass of 1531.8)\n",
      "Matching compound name: Portoamide A\n",
      "Matching molecular weight (1501.8 vs parent mass of 1501.8)\n",
      "Matching compound name: Portoamide B\n",
      "Matching molecular weight (1501.8 vs parent mass of 1501.8)\n",
      "Matching compound name: Portoamide B\n",
      "Matching molecular weight (455.2 vs parent mass of 455.3)\n",
      "Matching compound name: Malyngamide C\n",
      "Matching molecular weight (438.0 vs parent mass of 436.2)\n",
      "Matching compound name: 5-Acetoxypalisadin-B\n",
      "Matching molecular weight (927.5 vs parent mass of 927.5)\n",
      "Matching compound name: Kabiramide B\n",
      "Matching molecular weight (837.4 vs parent mass of 837.5)\n",
      "Matching compound name: Trunkamide A\n",
      "Matching molecular weight (837.4 vs parent mass of 837.5)\n",
      "Matching compound name: Trunkamide A\n",
      "Matching molecular weight (784.5 vs parent mass of 784.5)\n",
      "Matching compound name: Dolastatin 10\n",
      "Matching molecular weight (784.5 vs parent mass of 784.5)\n",
      "Matching compound name: Dolastatin 10\n",
      "Matching molecular weight (315.1 vs parent mass of 315.1)\n",
      "Matching compound name: Renierone\n",
      "Matching molecular weight (488.3 vs parent mass of 488.3)\n",
      "Matching compound name: Heteronemin\n",
      "Matching molecular weight (468.3 vs parent mass of 468.4)\n",
      "Matching compound name: Herbasterol\n",
      "Matching molecular weight (444.3 vs parent mass of 444.3)\n",
      "Matching compound name: Scalarin\n",
      "Matching molecular weight (444.3 vs parent mass of 444.3)\n",
      "Matching compound name: Scalarin\n",
      "Matching molecular weight (426.3 vs parent mass of 426.3)\n",
      "Matching compound name: Stypoldione\n",
      "Matching molecular weight (426.3 vs parent mass of 426.3)\n",
      "Matching compound name: Stypoldione\n",
      "Matching molecular weight (414.3 vs parent mass of 414.3)\n",
      "Matching compound name: tBuO-Glu(Ome)-Val-hexanoate\n",
      "Matching molecular weight (574.3 vs parent mass of 574.1)\n",
      "Matching compound name: Aeruginosamide B\n",
      "Matching molecular weight (673.3 vs parent mass of 673.2)\n",
      "Matching compound name: Aeruginosamide C\n",
      "Matching molecular weight (325.2 vs parent mass of 325.0)\n",
      "Matching compound name: Tumonoic Acid E\n",
      "Matching molecular weight (325.2 vs parent mass of 325.0)\n",
      "Matching compound name: Tumonoic Acid E\n",
      "Matching molecular weight (483.3 vs parent mass of 483.0)\n",
      "Matching compound name: Tumonoic Acid H\n",
      "Matching molecular weight (497.3 vs parent mass of 497.0)\n",
      "Matching compound name: Tumonoic Acid I\n",
      "Matching molecular weight (497.3 vs parent mass of 497.0)\n",
      "Matching compound name: Tumonoic Acid I\n",
      "Matching molecular weight (968.6 vs parent mass of 968.0)\n",
      "Matching compound name: Dolastatin 12\n",
      "Matching molecular weight (968.6 vs parent mass of 968.0)\n",
      "Matching compound name: Dolastatin 12\n",
      "Matching molecular weight (270.2 vs parent mass of 270.0)\n",
      "Matching compound name: (-)-Malyngolide\n",
      "Matching molecular weight (270.2 vs parent mass of 270.0)\n",
      "Matching compound name: (-)-Malyngolide\n",
      "Matching molecular weight (526.1 vs parent mass of 526.0)\n",
      "Matching compound name: Hormothamnione triacetate\n",
      "Matching molecular weight (526.1 vs parent mass of 526.0)\n",
      "Matching compound name: Hormothamnione triacetate\n",
      "Matching molecular weight (484.1 vs parent mass of 484.0)\n",
      "Matching compound name: Hormothamnione diacetate\n",
      "Matching molecular weight (484.1 vs parent mass of 484.0)\n",
      "Matching compound name: Hormothamnione diacetate\n",
      "Matching molecular weight (423.3 vs parent mass of 423.0)\n",
      "Matching compound name: Malyngamide K\n",
      "Matching molecular weight (423.3 vs parent mass of 423.0)\n",
      "Matching compound name: Malyngamide K\n",
      "Matching molecular weight (269.2 vs parent mass of 269.0)\n",
      "Matching compound name: 2-nonenyl 4-quinolone\n",
      "Matching molecular weight (271.2 vs parent mass of 271.0)\n",
      "Matching compound name: 2-nonyl 4-quinolone\n",
      "Matching molecular weight (840.3 vs parent mass of 840.0)\n",
      "Matching compound name: Mureidomycin A\n",
      "Matching molecular weight (852.3 vs parent mass of 852.0)\n",
      "Matching compound name: Napsamycin A\n",
      "Matching molecular weight (852.3 vs parent mass of 852.0)\n",
      "Matching compound name: Napsamycin A\n",
      "Matching molecular weight (852.3 vs parent mass of 852.0)\n",
      "Matching compound name: Napsamycin A\n",
      "Matching molecular weight (854.3 vs parent mass of 854.0)\n",
      "Matching compound name: Napsamycin C\n",
      "Matching molecular weight (1159.6 vs parent mass of 1159.0)\n",
      "Matching compound name: Stenothricin G\n",
      "Matching molecular weight (1159.6 vs parent mass of 1159.0)\n",
      "Matching compound name: Stenothricin G\n",
      "Matching molecular weight (1173.6 vs parent mass of 1173.0)\n",
      "Matching compound name: Stenothricin H\n",
      "Matching molecular weight (282.3 vs parent mass of 282.3)\n",
      "Matching compound name: Octadecenoic acid\n",
      "Matching molecular weight (254.2 vs parent mass of 254.2)\n",
      "Matching compound name: Hexadecenoic acid\n",
      "Matching molecular weight (296.3 vs parent mass of 296.3)\n",
      "Matching compound name: Lactobacillic acid\n",
      "Matching molecular weight (399.1 vs parent mass of 398.1)\n",
      "Matching compound name: S-Adenosyl methionine\n",
      "Matching molecular weight (408.3 vs parent mass of 408.3)\n",
      "Matching compound name: Cholic Acid\n",
      "Matching molecular weight (510.3 vs parent mass of 510.3)\n",
      "Matching compound name: Alteramide A\n",
      "Matching molecular weight (494.3 vs parent mass of 494.4)\n",
      "Matching compound name: Alteramide B\n",
      "Matching molecular weight (494.3 vs parent mass of 494.4)\n",
      "Matching compound name: Alteramide B\n",
      "Matching molecular weight (391.2 vs parent mass of 391.6)\n",
      "Matching compound name: Estatin A\n",
      "Matching molecular weight (407.2 vs parent mass of 407.5)\n",
      "Matching compound name: Estatin B\n",
      "Matching molecular weight (624.4 vs parent mass of 624.4)\n",
      "Matching compound name: Citrinadin A\n",
      "Matching molecular weight (610.4 vs parent mass of 610.4)\n",
      "Matching compound name: Citrinadin C\n",
      "Matching molecular weight (596.4 vs parent mass of 596.3)\n",
      "Matching compound name: Citrinadin D\n",
      "Matching molecular weight (481.3 vs parent mass of 481.7)\n",
      "Matching compound name: Citrinadin B\n",
      "Matching molecular weight (465.3 vs parent mass of 465.3)\n",
      "Matching compound name: Deoxycitrinadin B\n",
      "Matching molecular weight (596.4 vs parent mass of 596.3)\n",
      "Matching compound name: Citrinadin D\n",
      "Matching molecular weight (661.4 vs parent mass of 661.3)\n",
      "Matching compound name: Dragomabin\n",
      "Matching molecular weight (354.2 vs parent mass of 354.5)\n",
      "Matching compound name: Diazaquinomycin A\n",
      "Matching molecular weight (382.2 vs parent mass of 382.5)\n",
      "Matching compound name: Diazaquinomycin H\n",
      "Matching molecular weight (382.2 vs parent mass of 382.2)\n",
      "Matching compound name: Diazaquinomycin C\n",
      "Matching molecular weight (478.2 vs parent mass of 478.1)\n",
      "Matching compound name: Antimycin A6\n",
      "Matching molecular weight (464.2 vs parent mass of 464.9)\n",
      "Matching compound name: Kitamycin A\n",
      "Matching molecular weight (296.1 vs parent mass of 296.4)\n",
      "Matching compound name: N-formylantimycic acid methyl ester\n",
      "Matching molecular weight (184.1 vs parent mass of 184.1)\n",
      "Matching compound name: cyclo(Ala-Leu)\n",
      "Matching molecular weight (154.1 vs parent mass of 154.1)\n",
      "Matching compound name: cyclo-(Pro-Gly)\n",
      "Matching molecular weight (154.1 vs parent mass of 154.1)\n",
      "Matching compound name: cyclo-(Pro-Gly)\n",
      "Matching molecular weight (560.3 vs parent mass of 560.1)\n",
      "Matching compound name: Geldanamycin\n",
      "Matching molecular weight (366.1 vs parent mass of 366.3)\n",
      "Matching compound name: HMP-M2\n",
      "Matching molecular weight (376.1 vs parent mass of 376.7)\n",
      "Matching compound name: Resistomycin\n",
      "Matching molecular weight (376.1 vs parent mass of 376.5)\n",
      "Matching compound name: Resistomycin\n"
     ]
    },
    {
     "name": "stdout",
     "output_type": "stream",
     "text": [
      "Matching molecular weight (415.3 vs parent mass of 415.9)\n",
      "Matching compound name: Piericidin A\n",
      "Matching molecular weight (257.1 vs parent mass of 257.6)\n",
      "Matching compound name: Indolmycin\n",
      "Matching molecular weight (182.1 vs parent mass of 182.1)\n",
      "Matching compound name: 3-ethyl-2,3,6,7,8,8a-hexahydropyrrolo[1,2-a]pyrazine-1,4-dione\n",
      "Matching molecular weight (1639.6 vs parent mass of 1639.0)\n",
      "Matching compound name: Taromycin A\n",
      "Matching molecular weight (369.1 vs parent mass of 369.0)\n",
      "Matching compound name: Ochratoxin B\n",
      "Matching molecular weight (779.3 vs parent mass of 779.0)\n",
      "Matching compound name: Fusigen\n",
      "Matching molecular weight (438.1 vs parent mass of 438.0)\n",
      "Matching compound name: Kotanin\n",
      "Matching molecular weight (705.4 vs parent mass of 705.0)\n",
      "Matching compound name: Fumonisin B2\n",
      "Matching molecular weight (510.2 vs parent mass of 510.0)\n",
      "Matching compound name: Territrem A\n",
      "Matching molecular weight (808.3 vs parent mass of 808.3)\n",
      "Matching compound name: Arenimycin B\n",
      "Matching molecular weight (1128.5 vs parent mass of 1128.5)\n",
      "Matching compound name: Hormaomycin\n",
      "Matching molecular weight (793.4 vs parent mass of 793.4)\n",
      "Matching compound name: onnamide A\n",
      "Matching molecular weight (105.0 vs parent mass of 105.0)\n",
      "Matching compound name: serine\n",
      "Matching molecular weight (117.1 vs parent mass of 117.1)\n",
      "Matching compound name: valine\n",
      "Matching molecular weight (133.0 vs parent mass of 133.0)\n",
      "Matching compound name: aspartate\n",
      "Matching molecular weight (174.1 vs parent mass of 174.1)\n",
      "Matching compound name: arginine\n",
      "Matching molecular weight (147.1 vs parent mass of 147.1)\n",
      "Matching compound name: glutamate\n",
      "Matching molecular weight (146.1 vs parent mass of 146.1)\n",
      "Matching compound name: glutamine\n",
      "Matching molecular weight (132.1 vs parent mass of 132.1)\n",
      "Matching compound name: asparagine\n",
      "Matching molecular weight (115.1 vs parent mass of 115.1)\n",
      "Matching compound name: proline\n",
      "Matching molecular weight (342.1 vs parent mass of 342.1)\n",
      "Matching compound name: sucrose\n",
      "Matching molecular weight (150.1 vs parent mass of 150.1)\n",
      "Matching compound name: arabinose\n",
      "Matching molecular weight (180.1 vs parent mass of 180.1)\n",
      "Matching compound name: glucose\n",
      "Matching molecular weight (182.1 vs parent mass of 182.1)\n",
      "Matching compound name: mannitol\n",
      "Matching molecular weight (342.1 vs parent mass of 342.1)\n",
      "Matching compound name: maltose\n",
      "Matching molecular weight (150.1 vs parent mass of 150.1)\n",
      "Matching compound name: ribose\n",
      "Matching molecular weight (182.1 vs parent mass of 182.1)\n",
      "Matching compound name: sorbitol\n",
      "Matching molecular weight (180.1 vs parent mass of 180.1)\n",
      "Matching compound name: fructose\n",
      "Matching molecular weight (342.1 vs parent mass of 342.1)\n",
      "Matching compound name: trehalose\n",
      "Matching molecular weight (180.1 vs parent mass of 180.1)\n",
      "Matching compound name: inositol\n",
      "Matching molecular weight (342.1 vs parent mass of 342.1)\n",
      "Matching compound name: trehalose\n",
      "Matching molecular weight (342.1 vs parent mass of 342.1)\n",
      "Matching compound name: sucrose\n",
      "Matching molecular weight (150.1 vs parent mass of 150.1)\n",
      "Matching compound name: arabinose\n",
      "Matching molecular weight (180.1 vs parent mass of 180.1)\n",
      "Matching compound name: glucose\n",
      "Matching molecular weight (182.1 vs parent mass of 182.1)\n",
      "Matching compound name: mannitol\n",
      "Matching molecular weight (342.1 vs parent mass of 342.1)\n",
      "Matching compound name: maltose\n",
      "Matching molecular weight (150.1 vs parent mass of 150.1)\n",
      "Matching compound name: ribose\n",
      "Matching molecular weight (180.1 vs parent mass of 180.1)\n",
      "Matching compound name: fructose\n"
     ]
    },
    {
     "ename": "KeyboardInterrupt",
     "evalue": "",
     "output_type": "error",
     "traceback": [
      "\u001b[1;31m---------------------------------------------------------------------------\u001b[0m",
      "\u001b[1;31mKeyboardInterrupt\u001b[0m                         Traceback (most recent call last)",
      "\u001b[1;32m~\\AppData\\Local\\Temp/ipykernel_9900/3929479068.py\u001b[0m in \u001b[0;36m<module>\u001b[1;34m\u001b[0m\n\u001b[0;32m      4\u001b[0m \u001b[0mgnps_spectra_annotated_with_pubchem\u001b[0m \u001b[1;33m=\u001b[0m \u001b[1;33m[\u001b[0m\u001b[1;33m]\u001b[0m\u001b[1;33m\u001b[0m\u001b[1;33m\u001b[0m\u001b[0m\n\u001b[0;32m      5\u001b[0m \u001b[1;32mfor\u001b[0m \u001b[0mi\u001b[0m\u001b[1;33m,\u001b[0m \u001b[0ms\u001b[0m \u001b[1;32min\u001b[0m \u001b[0menumerate\u001b[0m\u001b[1;33m(\u001b[0m\u001b[0mtqdm\u001b[0m\u001b[1;33m(\u001b[0m\u001b[0mgnps_spectra\u001b[0m\u001b[1;33m)\u001b[0m\u001b[1;33m)\u001b[0m\u001b[1;33m:\u001b[0m\u001b[1;33m\u001b[0m\u001b[1;33m\u001b[0m\u001b[0m\n\u001b[1;32m----> 6\u001b[1;33m     \u001b[0mgnps_spectra_annotated_with_pubchem\u001b[0m\u001b[1;33m.\u001b[0m\u001b[0mappend\u001b[0m\u001b[1;33m(\u001b[0m\u001b[0mpubchem_metadata_lookup\u001b[0m\u001b[1;33m(\u001b[0m\u001b[0ms\u001b[0m\u001b[1;33m,\u001b[0m \u001b[0mname_search_depth\u001b[0m\u001b[1;33m=\u001b[0m\u001b[1;36m10\u001b[0m\u001b[1;33m)\u001b[0m\u001b[1;33m)\u001b[0m\u001b[1;33m\u001b[0m\u001b[1;33m\u001b[0m\u001b[0m\n\u001b[0m",
      "\u001b[1;32mc:\\users\\jonge094\\anaconda3\\envs\\ms2query\\lib\\site-packages\\matchmsextras\\pubchem_lookup.py\u001b[0m in \u001b[0;36mpubchem_metadata_lookup\u001b[1;34m(spectrum_in, name_search_depth, match_precursor_mz, formula_search, min_formula_length, formula_search_depth, verbose)\u001b[0m\n\u001b[0;32m     41\u001b[0m \u001b[1;33m\u001b[0m\u001b[0m\n\u001b[0;32m     42\u001b[0m     \u001b[1;31m# 1) Search for matching compound name\u001b[0m\u001b[1;33m\u001b[0m\u001b[1;33m\u001b[0m\u001b[1;33m\u001b[0m\u001b[0m\n\u001b[1;32m---> 43\u001b[1;33m     results_pubchem = pubchem_name_search(compound_name, name_search_depth=name_search_depth,\n\u001b[0m\u001b[0;32m     44\u001b[0m                                           verbose=verbose)\n\u001b[0;32m     45\u001b[0m \u001b[1;33m\u001b[0m\u001b[0m\n",
      "\u001b[1;32mc:\\users\\jonge094\\anaconda3\\envs\\ms2query\\lib\\site-packages\\matchmsextras\\pubchem_lookup.py\u001b[0m in \u001b[0;36mpubchem_name_search\u001b[1;34m(compound_name, name_search_depth, verbose)\u001b[0m\n\u001b[0;32m    214\u001b[0m \u001b[1;32mdef\u001b[0m \u001b[0mpubchem_name_search\u001b[0m\u001b[1;33m(\u001b[0m\u001b[0mcompound_name\u001b[0m\u001b[1;33m:\u001b[0m \u001b[0mstr\u001b[0m\u001b[1;33m,\u001b[0m \u001b[0mname_search_depth\u001b[0m\u001b[1;33m=\u001b[0m\u001b[1;36m10\u001b[0m\u001b[1;33m,\u001b[0m \u001b[0mverbose\u001b[0m\u001b[1;33m=\u001b[0m\u001b[1;36m1\u001b[0m\u001b[1;33m)\u001b[0m\u001b[1;33m:\u001b[0m\u001b[1;33m\u001b[0m\u001b[1;33m\u001b[0m\u001b[0m\n\u001b[0;32m    215\u001b[0m     \u001b[1;34m\"\"\"Search pubmed for compound name\"\"\"\u001b[0m\u001b[1;33m\u001b[0m\u001b[1;33m\u001b[0m\u001b[0m\n\u001b[1;32m--> 216\u001b[1;33m     results_pubchem = pcp.get_compounds(compound_name,\n\u001b[0m\u001b[0;32m    217\u001b[0m                                         \u001b[1;34m'name'\u001b[0m\u001b[1;33m,\u001b[0m\u001b[1;33m\u001b[0m\u001b[1;33m\u001b[0m\u001b[0m\n\u001b[0;32m    218\u001b[0m                                         listkey_count=name_search_depth)\n",
      "\u001b[1;32mc:\\users\\jonge094\\anaconda3\\envs\\ms2query\\lib\\site-packages\\pubchempy.py\u001b[0m in \u001b[0;36mget_compounds\u001b[1;34m(identifier, namespace, searchtype, as_dataframe, **kwargs)\u001b[0m\n\u001b[0;32m    319\u001b[0m                          \u001b[1;33m:\u001b[0m\u001b[1;32mclass\u001b[0m\u001b[1;33m:\u001b[0m\u001b[0;31m`\u001b[0m\u001b[1;33m~\u001b[0m\u001b[0mpandas\u001b[0m\u001b[1;33m.\u001b[0m\u001b[0mDataFrame\u001b[0m\u001b[0;31m`\u001b[0m \u001b[1;32mand\u001b[0m \u001b[1;32mreturn\u001b[0m \u001b[0mthat\u001b[0m\u001b[1;33m.\u001b[0m\u001b[1;33m\u001b[0m\u001b[1;33m\u001b[0m\u001b[0m\n\u001b[0;32m    320\u001b[0m     \"\"\"\n\u001b[1;32m--> 321\u001b[1;33m     \u001b[0mresults\u001b[0m \u001b[1;33m=\u001b[0m \u001b[0mget_json\u001b[0m\u001b[1;33m(\u001b[0m\u001b[0midentifier\u001b[0m\u001b[1;33m,\u001b[0m \u001b[0mnamespace\u001b[0m\u001b[1;33m,\u001b[0m \u001b[0msearchtype\u001b[0m\u001b[1;33m=\u001b[0m\u001b[0msearchtype\u001b[0m\u001b[1;33m,\u001b[0m \u001b[1;33m**\u001b[0m\u001b[0mkwargs\u001b[0m\u001b[1;33m)\u001b[0m\u001b[1;33m\u001b[0m\u001b[1;33m\u001b[0m\u001b[0m\n\u001b[0m\u001b[0;32m    322\u001b[0m     \u001b[0mcompounds\u001b[0m \u001b[1;33m=\u001b[0m \u001b[1;33m[\u001b[0m\u001b[0mCompound\u001b[0m\u001b[1;33m(\u001b[0m\u001b[0mr\u001b[0m\u001b[1;33m)\u001b[0m \u001b[1;32mfor\u001b[0m \u001b[0mr\u001b[0m \u001b[1;32min\u001b[0m \u001b[0mresults\u001b[0m\u001b[1;33m[\u001b[0m\u001b[1;34m'PC_Compounds'\u001b[0m\u001b[1;33m]\u001b[0m\u001b[1;33m]\u001b[0m \u001b[1;32mif\u001b[0m \u001b[0mresults\u001b[0m \u001b[1;32melse\u001b[0m \u001b[1;33m[\u001b[0m\u001b[1;33m]\u001b[0m\u001b[1;33m\u001b[0m\u001b[1;33m\u001b[0m\u001b[0m\n\u001b[0;32m    323\u001b[0m     \u001b[1;32mif\u001b[0m \u001b[0mas_dataframe\u001b[0m\u001b[1;33m:\u001b[0m\u001b[1;33m\u001b[0m\u001b[1;33m\u001b[0m\u001b[0m\n",
      "\u001b[1;32mc:\\users\\jonge094\\anaconda3\\envs\\ms2query\\lib\\site-packages\\pubchempy.py\u001b[0m in \u001b[0;36mget_json\u001b[1;34m(identifier, namespace, domain, operation, searchtype, **kwargs)\u001b[0m\n\u001b[0;32m    297\u001b[0m     \u001b[1;34m\"\"\"Request wrapper that automatically parses JSON response and supresses NotFoundError.\"\"\"\u001b[0m\u001b[1;33m\u001b[0m\u001b[1;33m\u001b[0m\u001b[0m\n\u001b[0;32m    298\u001b[0m     \u001b[1;32mtry\u001b[0m\u001b[1;33m:\u001b[0m\u001b[1;33m\u001b[0m\u001b[1;33m\u001b[0m\u001b[0m\n\u001b[1;32m--> 299\u001b[1;33m         \u001b[1;32mreturn\u001b[0m \u001b[0mjson\u001b[0m\u001b[1;33m.\u001b[0m\u001b[0mloads\u001b[0m\u001b[1;33m(\u001b[0m\u001b[0mget\u001b[0m\u001b[1;33m(\u001b[0m\u001b[0midentifier\u001b[0m\u001b[1;33m,\u001b[0m \u001b[0mnamespace\u001b[0m\u001b[1;33m,\u001b[0m \u001b[0mdomain\u001b[0m\u001b[1;33m,\u001b[0m \u001b[0moperation\u001b[0m\u001b[1;33m,\u001b[0m \u001b[1;34m'JSON'\u001b[0m\u001b[1;33m,\u001b[0m \u001b[0msearchtype\u001b[0m\u001b[1;33m,\u001b[0m \u001b[1;33m**\u001b[0m\u001b[0mkwargs\u001b[0m\u001b[1;33m)\u001b[0m\u001b[1;33m.\u001b[0m\u001b[0mdecode\u001b[0m\u001b[1;33m(\u001b[0m\u001b[1;33m)\u001b[0m\u001b[1;33m)\u001b[0m\u001b[1;33m\u001b[0m\u001b[1;33m\u001b[0m\u001b[0m\n\u001b[0m\u001b[0;32m    300\u001b[0m     \u001b[1;32mexcept\u001b[0m \u001b[0mNotFoundError\u001b[0m \u001b[1;32mas\u001b[0m \u001b[0me\u001b[0m\u001b[1;33m:\u001b[0m\u001b[1;33m\u001b[0m\u001b[1;33m\u001b[0m\u001b[0m\n\u001b[0;32m    301\u001b[0m         \u001b[0mlog\u001b[0m\u001b[1;33m.\u001b[0m\u001b[0minfo\u001b[0m\u001b[1;33m(\u001b[0m\u001b[0me\u001b[0m\u001b[1;33m)\u001b[0m\u001b[1;33m\u001b[0m\u001b[1;33m\u001b[0m\u001b[0m\n",
      "\u001b[1;32mc:\\users\\jonge094\\anaconda3\\envs\\ms2query\\lib\\site-packages\\pubchempy.py\u001b[0m in \u001b[0;36mget\u001b[1;34m(identifier, namespace, domain, operation, output, searchtype, **kwargs)\u001b[0m\n\u001b[0;32m    290\u001b[0m                 \u001b[0mresponse\u001b[0m \u001b[1;33m=\u001b[0m \u001b[0mrequest\u001b[0m\u001b[1;33m(\u001b[0m\u001b[0midentifier\u001b[0m\u001b[1;33m,\u001b[0m \u001b[0mnamespace\u001b[0m\u001b[1;33m,\u001b[0m \u001b[0mdomain\u001b[0m\u001b[1;33m,\u001b[0m \u001b[0moperation\u001b[0m\u001b[1;33m,\u001b[0m \u001b[0moutput\u001b[0m\u001b[1;33m,\u001b[0m \u001b[0msearchtype\u001b[0m\u001b[1;33m,\u001b[0m \u001b[1;33m**\u001b[0m\u001b[0mkwargs\u001b[0m\u001b[1;33m)\u001b[0m\u001b[1;33m.\u001b[0m\u001b[0mread\u001b[0m\u001b[1;33m(\u001b[0m\u001b[1;33m)\u001b[0m\u001b[1;33m\u001b[0m\u001b[1;33m\u001b[0m\u001b[0m\n\u001b[0;32m    291\u001b[0m     \u001b[1;32melse\u001b[0m\u001b[1;33m:\u001b[0m\u001b[1;33m\u001b[0m\u001b[1;33m\u001b[0m\u001b[0m\n\u001b[1;32m--> 292\u001b[1;33m         \u001b[0mresponse\u001b[0m \u001b[1;33m=\u001b[0m \u001b[0mrequest\u001b[0m\u001b[1;33m(\u001b[0m\u001b[0midentifier\u001b[0m\u001b[1;33m,\u001b[0m \u001b[0mnamespace\u001b[0m\u001b[1;33m,\u001b[0m \u001b[0mdomain\u001b[0m\u001b[1;33m,\u001b[0m \u001b[0moperation\u001b[0m\u001b[1;33m,\u001b[0m \u001b[0moutput\u001b[0m\u001b[1;33m,\u001b[0m \u001b[0msearchtype\u001b[0m\u001b[1;33m,\u001b[0m \u001b[1;33m**\u001b[0m\u001b[0mkwargs\u001b[0m\u001b[1;33m)\u001b[0m\u001b[1;33m.\u001b[0m\u001b[0mread\u001b[0m\u001b[1;33m(\u001b[0m\u001b[1;33m)\u001b[0m\u001b[1;33m\u001b[0m\u001b[1;33m\u001b[0m\u001b[0m\n\u001b[0m\u001b[0;32m    293\u001b[0m     \u001b[1;32mreturn\u001b[0m \u001b[0mresponse\u001b[0m\u001b[1;33m\u001b[0m\u001b[1;33m\u001b[0m\u001b[0m\n\u001b[0;32m    294\u001b[0m \u001b[1;33m\u001b[0m\u001b[0m\n",
      "\u001b[1;32mc:\\users\\jonge094\\anaconda3\\envs\\ms2query\\lib\\http\\client.py\u001b[0m in \u001b[0;36mread\u001b[1;34m(self, amt)\u001b[0m\n\u001b[0;32m    464\u001b[0m \u001b[1;33m\u001b[0m\u001b[0m\n\u001b[0;32m    465\u001b[0m             \u001b[1;32mif\u001b[0m \u001b[0mself\u001b[0m\u001b[1;33m.\u001b[0m\u001b[0mchunked\u001b[0m\u001b[1;33m:\u001b[0m\u001b[1;33m\u001b[0m\u001b[1;33m\u001b[0m\u001b[0m\n\u001b[1;32m--> 466\u001b[1;33m                 \u001b[1;32mreturn\u001b[0m \u001b[0mself\u001b[0m\u001b[1;33m.\u001b[0m\u001b[0m_readall_chunked\u001b[0m\u001b[1;33m(\u001b[0m\u001b[1;33m)\u001b[0m\u001b[1;33m\u001b[0m\u001b[1;33m\u001b[0m\u001b[0m\n\u001b[0m\u001b[0;32m    467\u001b[0m \u001b[1;33m\u001b[0m\u001b[0m\n\u001b[0;32m    468\u001b[0m             \u001b[1;32mif\u001b[0m \u001b[0mself\u001b[0m\u001b[1;33m.\u001b[0m\u001b[0mlength\u001b[0m \u001b[1;32mis\u001b[0m \u001b[1;32mNone\u001b[0m\u001b[1;33m:\u001b[0m\u001b[1;33m\u001b[0m\u001b[1;33m\u001b[0m\u001b[0m\n",
      "\u001b[1;32mc:\\users\\jonge094\\anaconda3\\envs\\ms2query\\lib\\http\\client.py\u001b[0m in \u001b[0;36m_readall_chunked\u001b[1;34m(self)\u001b[0m\n\u001b[0;32m    574\u001b[0m                 \u001b[1;32mif\u001b[0m \u001b[0mchunk_left\u001b[0m \u001b[1;32mis\u001b[0m \u001b[1;32mNone\u001b[0m\u001b[1;33m:\u001b[0m\u001b[1;33m\u001b[0m\u001b[1;33m\u001b[0m\u001b[0m\n\u001b[0;32m    575\u001b[0m                     \u001b[1;32mbreak\u001b[0m\u001b[1;33m\u001b[0m\u001b[1;33m\u001b[0m\u001b[0m\n\u001b[1;32m--> 576\u001b[1;33m                 \u001b[0mvalue\u001b[0m\u001b[1;33m.\u001b[0m\u001b[0mappend\u001b[0m\u001b[1;33m(\u001b[0m\u001b[0mself\u001b[0m\u001b[1;33m.\u001b[0m\u001b[0m_safe_read\u001b[0m\u001b[1;33m(\u001b[0m\u001b[0mchunk_left\u001b[0m\u001b[1;33m)\u001b[0m\u001b[1;33m)\u001b[0m\u001b[1;33m\u001b[0m\u001b[1;33m\u001b[0m\u001b[0m\n\u001b[0m\u001b[0;32m    577\u001b[0m                 \u001b[0mself\u001b[0m\u001b[1;33m.\u001b[0m\u001b[0mchunk_left\u001b[0m \u001b[1;33m=\u001b[0m \u001b[1;36m0\u001b[0m\u001b[1;33m\u001b[0m\u001b[1;33m\u001b[0m\u001b[0m\n\u001b[0;32m    578\u001b[0m             \u001b[1;32mreturn\u001b[0m \u001b[1;34mb''\u001b[0m\u001b[1;33m.\u001b[0m\u001b[0mjoin\u001b[0m\u001b[1;33m(\u001b[0m\u001b[0mvalue\u001b[0m\u001b[1;33m)\u001b[0m\u001b[1;33m\u001b[0m\u001b[1;33m\u001b[0m\u001b[0m\n",
      "\u001b[1;32mc:\\users\\jonge094\\anaconda3\\envs\\ms2query\\lib\\http\\client.py\u001b[0m in \u001b[0;36m_safe_read\u001b[1;34m(self, amt)\u001b[0m\n\u001b[0;32m    611\u001b[0m         \u001b[0mIncompleteRead\u001b[0m \u001b[0mexception\u001b[0m \u001b[0mcan\u001b[0m \u001b[0mbe\u001b[0m \u001b[0mused\u001b[0m \u001b[0mto\u001b[0m \u001b[0mdetect\u001b[0m \u001b[0mthe\u001b[0m \u001b[0mproblem\u001b[0m\u001b[1;33m.\u001b[0m\u001b[1;33m\u001b[0m\u001b[1;33m\u001b[0m\u001b[0m\n\u001b[0;32m    612\u001b[0m         \"\"\"\n\u001b[1;32m--> 613\u001b[1;33m         \u001b[0mdata\u001b[0m \u001b[1;33m=\u001b[0m \u001b[0mself\u001b[0m\u001b[1;33m.\u001b[0m\u001b[0mfp\u001b[0m\u001b[1;33m.\u001b[0m\u001b[0mread\u001b[0m\u001b[1;33m(\u001b[0m\u001b[0mamt\u001b[0m\u001b[1;33m)\u001b[0m\u001b[1;33m\u001b[0m\u001b[1;33m\u001b[0m\u001b[0m\n\u001b[0m\u001b[0;32m    614\u001b[0m         \u001b[1;32mif\u001b[0m \u001b[0mlen\u001b[0m\u001b[1;33m(\u001b[0m\u001b[0mdata\u001b[0m\u001b[1;33m)\u001b[0m \u001b[1;33m<\u001b[0m \u001b[0mamt\u001b[0m\u001b[1;33m:\u001b[0m\u001b[1;33m\u001b[0m\u001b[1;33m\u001b[0m\u001b[0m\n\u001b[0;32m    615\u001b[0m             \u001b[1;32mraise\u001b[0m \u001b[0mIncompleteRead\u001b[0m\u001b[1;33m(\u001b[0m\u001b[0mdata\u001b[0m\u001b[1;33m,\u001b[0m \u001b[0mamt\u001b[0m\u001b[1;33m-\u001b[0m\u001b[0mlen\u001b[0m\u001b[1;33m(\u001b[0m\u001b[0mdata\u001b[0m\u001b[1;33m)\u001b[0m\u001b[1;33m)\u001b[0m\u001b[1;33m\u001b[0m\u001b[1;33m\u001b[0m\u001b[0m\n",
      "\u001b[1;32mc:\\users\\jonge094\\anaconda3\\envs\\ms2query\\lib\\socket.py\u001b[0m in \u001b[0;36mreadinto\u001b[1;34m(self, b)\u001b[0m\n\u001b[0;32m    667\u001b[0m         \u001b[1;32mwhile\u001b[0m \u001b[1;32mTrue\u001b[0m\u001b[1;33m:\u001b[0m\u001b[1;33m\u001b[0m\u001b[1;33m\u001b[0m\u001b[0m\n\u001b[0;32m    668\u001b[0m             \u001b[1;32mtry\u001b[0m\u001b[1;33m:\u001b[0m\u001b[1;33m\u001b[0m\u001b[1;33m\u001b[0m\u001b[0m\n\u001b[1;32m--> 669\u001b[1;33m                 \u001b[1;32mreturn\u001b[0m \u001b[0mself\u001b[0m\u001b[1;33m.\u001b[0m\u001b[0m_sock\u001b[0m\u001b[1;33m.\u001b[0m\u001b[0mrecv_into\u001b[0m\u001b[1;33m(\u001b[0m\u001b[0mb\u001b[0m\u001b[1;33m)\u001b[0m\u001b[1;33m\u001b[0m\u001b[1;33m\u001b[0m\u001b[0m\n\u001b[0m\u001b[0;32m    670\u001b[0m             \u001b[1;32mexcept\u001b[0m \u001b[0mtimeout\u001b[0m\u001b[1;33m:\u001b[0m\u001b[1;33m\u001b[0m\u001b[1;33m\u001b[0m\u001b[0m\n\u001b[0;32m    671\u001b[0m                 \u001b[0mself\u001b[0m\u001b[1;33m.\u001b[0m\u001b[0m_timeout_occurred\u001b[0m \u001b[1;33m=\u001b[0m \u001b[1;32mTrue\u001b[0m\u001b[1;33m\u001b[0m\u001b[1;33m\u001b[0m\u001b[0m\n",
      "\u001b[1;32mc:\\users\\jonge094\\anaconda3\\envs\\ms2query\\lib\\ssl.py\u001b[0m in \u001b[0;36mrecv_into\u001b[1;34m(self, buffer, nbytes, flags)\u001b[0m\n\u001b[0;32m   1239\u001b[0m                   \u001b[1;34m\"non-zero flags not allowed in calls to recv_into() on %s\"\u001b[0m \u001b[1;33m%\u001b[0m\u001b[1;33m\u001b[0m\u001b[1;33m\u001b[0m\u001b[0m\n\u001b[0;32m   1240\u001b[0m                   self.__class__)\n\u001b[1;32m-> 1241\u001b[1;33m             \u001b[1;32mreturn\u001b[0m \u001b[0mself\u001b[0m\u001b[1;33m.\u001b[0m\u001b[0mread\u001b[0m\u001b[1;33m(\u001b[0m\u001b[0mnbytes\u001b[0m\u001b[1;33m,\u001b[0m \u001b[0mbuffer\u001b[0m\u001b[1;33m)\u001b[0m\u001b[1;33m\u001b[0m\u001b[1;33m\u001b[0m\u001b[0m\n\u001b[0m\u001b[0;32m   1242\u001b[0m         \u001b[1;32melse\u001b[0m\u001b[1;33m:\u001b[0m\u001b[1;33m\u001b[0m\u001b[1;33m\u001b[0m\u001b[0m\n\u001b[0;32m   1243\u001b[0m             \u001b[1;32mreturn\u001b[0m \u001b[0msuper\u001b[0m\u001b[1;33m(\u001b[0m\u001b[1;33m)\u001b[0m\u001b[1;33m.\u001b[0m\u001b[0mrecv_into\u001b[0m\u001b[1;33m(\u001b[0m\u001b[0mbuffer\u001b[0m\u001b[1;33m,\u001b[0m \u001b[0mnbytes\u001b[0m\u001b[1;33m,\u001b[0m \u001b[0mflags\u001b[0m\u001b[1;33m)\u001b[0m\u001b[1;33m\u001b[0m\u001b[1;33m\u001b[0m\u001b[0m\n",
      "\u001b[1;32mc:\\users\\jonge094\\anaconda3\\envs\\ms2query\\lib\\ssl.py\u001b[0m in \u001b[0;36mread\u001b[1;34m(self, len, buffer)\u001b[0m\n\u001b[0;32m   1097\u001b[0m         \u001b[1;32mtry\u001b[0m\u001b[1;33m:\u001b[0m\u001b[1;33m\u001b[0m\u001b[1;33m\u001b[0m\u001b[0m\n\u001b[0;32m   1098\u001b[0m             \u001b[1;32mif\u001b[0m \u001b[0mbuffer\u001b[0m \u001b[1;32mis\u001b[0m \u001b[1;32mnot\u001b[0m \u001b[1;32mNone\u001b[0m\u001b[1;33m:\u001b[0m\u001b[1;33m\u001b[0m\u001b[1;33m\u001b[0m\u001b[0m\n\u001b[1;32m-> 1099\u001b[1;33m                 \u001b[1;32mreturn\u001b[0m \u001b[0mself\u001b[0m\u001b[1;33m.\u001b[0m\u001b[0m_sslobj\u001b[0m\u001b[1;33m.\u001b[0m\u001b[0mread\u001b[0m\u001b[1;33m(\u001b[0m\u001b[0mlen\u001b[0m\u001b[1;33m,\u001b[0m \u001b[0mbuffer\u001b[0m\u001b[1;33m)\u001b[0m\u001b[1;33m\u001b[0m\u001b[1;33m\u001b[0m\u001b[0m\n\u001b[0m\u001b[0;32m   1100\u001b[0m             \u001b[1;32melse\u001b[0m\u001b[1;33m:\u001b[0m\u001b[1;33m\u001b[0m\u001b[1;33m\u001b[0m\u001b[0m\n\u001b[0;32m   1101\u001b[0m                 \u001b[1;32mreturn\u001b[0m \u001b[0mself\u001b[0m\u001b[1;33m.\u001b[0m\u001b[0m_sslobj\u001b[0m\u001b[1;33m.\u001b[0m\u001b[0mread\u001b[0m\u001b[1;33m(\u001b[0m\u001b[0mlen\u001b[0m\u001b[1;33m)\u001b[0m\u001b[1;33m\u001b[0m\u001b[1;33m\u001b[0m\u001b[0m\n",
      "\u001b[1;31mKeyboardInterrupt\u001b[0m: "
     ]
    }
   ],
   "source": [
    "from matchmsextras.pubchem_lookup import pubchem_metadata_lookup\n",
    "from tqdm.notebook import tqdm\n",
    "\n",
    "gnps_spectra_annotated_with_pubchem = []\n",
    "for i, s in enumerate(tqdm(gnps_spectra)):\n",
    "    gnps_spectra_annotated_with_pubchem.append(pubchem_metadata_lookup(s, name_search_depth=10))"
   ]
  },
  {
   "cell_type": "code",
   "execution_count": null,
   "id": "e22bffe6",
   "metadata": {},
   "outputs": [],
   "source": [
    "pickle.dump(gnps_spectra_annotated_with_pubchem,\n",
    "           open(os.path.join(root_folder, \"ALL_GNPS_24_11_2021_inchikeys_from_pubchem.pickle\"), \"wb\"))"
   ]
  },
  {
   "cell_type": "code",
   "execution_count": null,
   "id": "f8a9153b",
   "metadata": {},
   "outputs": [],
   "source": [
    "count_annotations(gnps_spectra_annotated_with_pubchem)"
   ]
  },
  {
   "cell_type": "markdown",
   "id": "1f5b6941",
   "metadata": {},
   "source": [
    "# Checks that do not change the spectra\n",
    "Checks were performed to make sure the compound names and formulas were indeed formatted in the right way"
   ]
  },
  {
   "cell_type": "code",
   "execution_count": 3,
   "id": "e6aa236f",
   "metadata": {},
   "outputs": [],
   "source": [
    "import pickle\n",
    "import os\n",
    "root_folder = \"C:/Users/jonge094/PycharmProjects/PhD_MS2Query/ms2query/data/gnps_24_11_2021\"\n",
    "outfile = os.path.join(root_folder, \"ALL_GNPS_24_11_2021_cleaned_by_matchm.pickle\")\n",
    "with open(outfile, 'rb') as file:\n",
    "    gnps_spectra = pickle.load(file)"
   ]
  },
  {
   "cell_type": "code",
   "execution_count": 4,
   "id": "ad3739fd",
   "metadata": {},
   "outputs": [],
   "source": [
    "formulas = []\n",
    "name_to_formulas = []\n",
    "for spec in gnps_spectra:\n",
    "    if spec.get(\"formula\"):\n",
    "        formulas.append(spec.get(\"formula\"))\n",
    "        name_to_formulas.append(spec.get(\"compound_name\") + \"---\" + spec.get(\"formula\"))"
   ]
  },
  {
   "cell_type": "code",
   "execution_count": 5,
   "id": "65fa6602",
   "metadata": {},
   "outputs": [
    {
     "name": "stdout",
     "output_type": "stream",
     "text": [
      "['Putative amphotericin-related---C48H77NO17', '---HNP1', '---C16H25NS', '---C16H25NS', '---C16H25NS', '---C16H25NS', 'PC(16:1/0:0);---C24H49N1O7P1', 'PC(16:1/0:0);---C24H49N1O7P1', 'PC(18:2/0:0);---C26H51N1O7P1', 'PC(18:2/0:0);---C26H51N1O7P1']\n"
     ]
    }
   ],
   "source": [
    "print(name_to_formulas[:10])"
   ]
  },
  {
   "cell_type": "code",
   "execution_count": 10,
   "id": "42030e61",
   "metadata": {},
   "outputs": [
    {
     "name": "stdout",
     "output_type": "stream",
     "text": [
      "Salinisporamide A\n",
      "Halimide B\n",
      "Halimide B\n",
      "Orellin B\n",
      "unpublished peptide from CNL 643\n",
      "unpublished peptide from CNL 643\n",
      "unpublished peptide11M4\n",
      "Glucopiericidin\n",
      "Glucopiericidin\n",
      "unpublished ME5.F6\n",
      "Malyngamide C acetate\n",
      "Microsporin C\n",
      "Microsporin C\n",
      "Stypoltrione\n",
      "hydrated Cyanosporaside B\n",
      "Salinisporazine A\n",
      "Salinisporazine A\n",
      "Actinoquinolone A\n",
      "Actinoquinolone A\n",
      "Sagitol B (Putative Analogue)\n",
      "Sagitol B (Putative Analogue)\n",
      "8-Desoxyrifamycin W\n",
      "8-desoxyenterocin\n",
      "Ammosamide\n",
      "Ammosamide\n",
      "BouillonamideB\n",
      "Arenimycin A\n",
      "Arenimycin A\n",
      "BouillonamideB\n",
      "7-OH-staurosporine\n",
      "Antillatoxin B (red)\n",
      "Bouillonamide B\n",
      "Somocystinamide_A_byproduct\n",
      "Janthielamide\n",
      "Janthielamide\n",
      "Dilophic_acid_methyl_ester\n",
      "Dilophic_acid_methyl_ester\n",
      "Hoiamide_A_p-bromobenzoyl_derivative\n",
      "Hoiamide_A_p-bromobenzoyl_derivative\n",
      "Hoiamide_A_p-bromobenzoyl_derivative\n",
      "Hoiamide_A_p-bromobenzoyl_derivative\n",
      "Hoiamide_A_triacetate\n",
      "Hoiamide_A_triacetate\n",
      "Hoiamide_A_triacetate\n",
      "Hoiamide_A_triacetate MS34+Na\n",
      "Kalkitoxin_thioamide_alcohol\n",
      "Kalkitoxin_thioamide_alcohol\n",
      "Trp_derivative\n",
      "Trp_derivative\n",
      "N-phenethyltridecanamide\n",
      "Malyngamide L/T\n",
      "Malyngamide U/V/W\n",
      "A1865_Dolastatin_12\n",
      "Curazole in 3L\n",
      "Bastimolide C\n",
      "Phormidamide\n",
      "Phormidamide\n",
      "Phormidamide\n",
      "Nodularin analog\n",
      "Kimbeamide_A-C (in 1707)\n",
      "Curacin A (in 3L)\n",
      "Carmabin A in 3L\n",
      "Carmabin A in 3L\n",
      "Dudawalamide E\n",
      "Dudawalamide E\n",
      "Lygbyatoxin A\n",
      "Naopopeptin\n",
      "Naopopeptin\n",
      "Microcystein_LR\n",
      "Microcystein_LR\n",
      "Phormidamide\n",
      "2-nonyl-3-hydroxy 4(1H)-quinolone ! 4-hydroxy-2-nonylquinoline N-oxide\n",
      "2-nonenyl 4-quinolone\n",
      "2-nonenyl-3-hydroxy 4(1H)-quinolone ! 4-hydroxy-2-nonenylquinoline N-oxide\n",
      "2-undecenyl 4-quinolone\n",
      "2-undecenyl-3-hydroxy 4(1H)-quinolone ! 4-hydroxy-2-undecenylquinoline N-oxide\n",
      "2-heptyl 4-quinolone\n",
      "2-nonyl 4-quinolone\n",
      "N-methyl phenazine\n",
      "phenazine-1-sulfate\n",
      "2-heptyl-3-hydroxy 4-quinolone ! 4-hydroxy-2-heptylquinoline N-oxide\n",
      "Rha-C8-C10 ! Rha-C10-C8\n",
      "Rha-C10-C10\n",
      "Rha-C10-C12 ! Rha-C12-C10\n",
      "Rha-C10-C12db ! Rha-C12db-C10\n",
      "Rha-Rha-C10-C10\n",
      "Rha-Rha-C10-C12db ! Rha-Rha-C12db-C10\n",
      "Rha-Rha-C10-C12 ! Rha-Rha-C12-C10\n",
      "Triacetylfusarinine C [Al3+]\n",
      "Triacetylfusarinine C [Al3+]\n",
      "Triacetylfusarinine C [Al3+]\n",
      "Triacetylfusarinine C [Fe3+]\n",
      "Triacetylfusarinine C [Fe3+]\n",
      "Triacetylfusarinine C [Fe3+]\n",
      "cyclo(L-Leu-L-4-hydroxy-Pro)\n",
      "cyclo(L-Leu-L-4-hydroxy-Pro)\n",
      "cyclo(L-Leu-L-4-hydroxy-Pro)\n",
      "cyclo(L-Leu-L-4-hydroxy-Pro)\n",
      "cyclo(L-Leu-L-4-hydroxy-Pro)\n",
      "cyclo(L-Phe-D-6-hydroxy-Pro)\n",
      "cyclo(-L-Phe-D-6-Hyp)\n",
      "cyclo(-L-Phe-D-6-Hyp)\n",
      "cyclo(-L-Phe-D-6-Hyp)\n",
      "cyclo(-L-Phe-D-6-Hyp)\n",
      "cyclo(D-Trp-L-Pro)\n",
      "cyclo(D-Trp-L-Pro)\n",
      "cyclo(D-Trp-L-Pro)\n",
      "cyclo(D-Trp-L-Pro)\n",
      "cyclo(Phe-4-hydroxy-Pro)\n",
      "cyclo(Phe-4-hydroxy-Pro)\n",
      "cyclo(Phe-4-hydroxy-Pro)\n",
      "cyclo(Phe-4-hydroxy-Pro)\n",
      "cyclo(Phe-4-hydroxy-Pro)\n",
      "yohimbine A\n",
      "yohimbine A\n",
      "yohimbine A\n",
      "yohimbine A\n",
      "cyclo(L-Phe-D-Pro)\n",
      "cyclo(L-Phe-D-Pro)\n",
      "cyclo(L-Phe-D-Pro)\n",
      "cyclo(L-Phe-D-Pro)\n",
      "cyclo(L-Phe-D-Pro)\n",
      "cyclo(L-Tyr-L-Pro)\n",
      "cyclo(L-Tyr-L-Pro)\n",
      "cyclo(L-Tyr-L-Pro)\n",
      "cyclo(L-Tyr-L-Pro)\n",
      "cyclo(L-Phe-L-4-Hyp)\n",
      "cyclo(L-Phe-L-4-Hyp)\n",
      "cyclo(L-Phe-L-4-Hyp)\n",
      "cyclo(L-Phe-L-4-Hyp)\n",
      "Hoiamide A triacetate\n",
      "Hoiamide A triacetate\n",
      "Tumanoic acid A\n",
      "Tumanoic acid A\n",
      "Tumanoic acid A\n",
      "Tumanoic acid F\n",
      "Tumanoic acid F\n",
      "Tumanoic acid G\n",
      "Tumanoic acid G\n",
      "Epi-Tumanoic acid D\n",
      "Epi-Tumanoic acid D\n",
      "Acylated phloroglucinol\n",
      "Acylated phloroglucinol\n",
      "Stypoltrione\n",
      "Stypoltrione\n",
      "17-Ketostypolhydroperoxide\n",
      "17-Ketostypolhydroperoxide\n",
      "Cymather aldehyde methyl ester\n",
      "Cymather aldehyde methyl ester\n",
      "Deoxyprepacifenol\n",
      "Deoxyprepacifenol\n",
      "Ecklonialactone A\n",
      "Ecklonialactone A\n",
      "Dilophic acid methyl ester\n",
      "N-phenethyltridecanamide\n",
      "Janthielamide\n",
      "\"S-4-benzyl-3-((S)-3-hydroxy-2,2-dimethyloctanoyl)oxazolidin-2-one\"\n",
      "\"R-4-benzyl-3-((R)-3-hydroxy-2,2-dimethyloctanoyl)oxazolidin-2-one\"\n",
      "\"S-4-benzyl-3-((S)-3-hydroxy-2,2-dimethyloctanoyl)-5,5-dimethyloxazolidin-2-one\"\n",
      "\"S-4-benzyl-3-((S)-3-hydroxy-2,2-dimethyloctanoyl)5,5-dimethyloxazolidin-2-one\"\n",
      "\"R-4-benzyl-3-((R)-3-hydroxy-2,2-dimethyloctanoyl)-5,5-dimethyloxazolidin-2-one \"\n",
      "\"R-4-benzyl-3-((R)-3-hydroxy-2,2-dimethyloctanoyl)-5,5-dimethyloxazolidin-2-one \"\n",
      "\"S-4-benzyl-3-((S)-3-hydroxy-2,2-dimethyloct-7-ynoyl)-5,5-dimethyloxazolidin-2-one\"\n",
      "\"S-4-benzyl-3-((S)-3-hydroxy-2,2-dimethyloct-7-ynoyl)-5,5-dimethyloxazolidin-2-one\"\n",
      "\"R-4-benzyl-3-((R)-3-hydroxy-2,2-dimethyloct-7-ynoyl)-5,5-dimethyloxazolidin-2-one\"\n",
      "\"R-4-benzyl-3-((R)-3-hydroxy-2,2-dimethyloct-7-ynoyl)-5,5-dimethyloxazolidin-2-one\"\n",
      "N-methylundec-10-enamide\n",
      "\"(R,E)-S-2-acetamido-13-(methylamino)-13-oxotridec-3-enyl ethanethioate\"\n",
      "\"(2R,4R)-tert-butyl 4-(hydroxymethyl)-2-phenylthiazolidine-3-carboxylate\"\n",
      "\"(2R,4R)-tert-butyl 2-phenyl-4-vinylthiazolidine-3-carboxylate\"\n",
      "\"(2R,4R)-tert-butyl 2-phenyl-4-vinylthiazolidine-3-carboxylate\"\n",
      "Boc-Pro-Phe(NMe)-Gly-Ome\n",
      "Boc-Pro-Phe(NMe)-Gly-Ome\n",
      "Boc-Pro-DVal(NMe)-Val-OMe\n",
      "Boc-Pro-DVal(NMe)-Val-OMe\n",
      "Boc-Phe(NMe)-Pro-Phe(NMe)-Gly-Ome\n",
      "Boc-Phe(NMe)-Pro-Phe(NMe)-Gly-Ome\n",
      "Boc-Phe(NMe)-Gly-Ome\n",
      "Boc-Phe(NMe)-Gly-Ome\n",
      "methyl 2-((tert-butoxycarbonyl)amino)-5-oxohexanoate\n",
      "methyl 2-((tert-butoxycarbonyl)amino)-5-oxohexanoate\n",
      "MeO-Gln(NHMe)-Val-Boc\n",
      "MeO-Gln(NHMe)-Val-Boc\n",
      "MeO-Gln(NMe2)-Val-Boc\n",
      "MeO-Gln(NMe2)-Val-Boc\n",
      "Palmyrolide A\n",
      "Portoamide A\n",
      "Portoamide A\n",
      "Portoamide B\n",
      "Portoamide B\n",
      "Barbamide Cl35\n",
      "Barbamide Cl37\n",
      "Malyngamide C\n",
      "5-Acetoxypalisadin-B\n",
      "Kabiramide B\n",
      "Kabiramide C\n",
      "Kabiramide C\n",
      "Trunkamide A\n",
      "Trunkamide A\n",
      "Dolastatin 10\n",
      "Dolastatin 10\n",
      "Dolastatin 10\n",
      "Renierone\n",
      "Heteronemin\n",
      "Herbasterol\n",
      "Scalarin\n",
      "Scalarin\n",
      "Aerothionin (4Br79)\n",
      "Aerothionin (2Br79/2Br81)\n",
      "Stypoldione\n",
      "Stypoldione\n",
      "Tanikolide_dimer\n",
      "Tanikolide_dimer\n",
      "\"(R,E) S-2-acetamido-13-(methylamino)-13-oxotridec-3-enyl-ethanethioate\"\n",
      "\"(R,E) S-2-acetamido-13-(methylamino)-13-oxotridec-3-enyl-ethanethioate\"\n",
      "Nleu-Val-Boc\n",
      "Nleu-Val-Boc\n",
      "Nleu-Val-hexanoate\n",
      "Nleu-Val-hexanoate\n",
      "tBuO-Glu(Ome)-Val-hexanoate\n",
      "MeO-Glu(NHMe)-Val-hexanoate\n",
      "MeO-Glu(NHMe)-Val-hexanoate\n",
      "MeO-Glu(NMe2)-Val-hexanoate\n",
      "MeO-Glu(NMe2)-Val-hexanoate\n",
      "MeO-Gln(NHMe)-Boc\n",
      "MeO-Gln(NHMe)-Boc\n",
      "MeO-Gln(NMe2)-Boc\n",
      "MeO-Gln(NMe2)-Boc\n",
      "Epoxyketone p-Br-benzoate (Br81)\n",
      "Epoxyketone p-Br-benzoate (Br81)\n",
      "cardiolipin (1'-[18:2/18:2],3'-[18:2/18:2])\n",
      "cardiolipin (1'-[18:2/18:2],3'-[18:2/18:2])\n",
      "cardiolipin (1'-[18:2/18:2],3'-[18:2/18:2])\n",
      "monolysocardiolipin (18:2/18:2/18:2)\n",
      "monolysocardiolipin (18:2/18:2/18:2)\n",
      "monolysocardiolipin (18:2/18:2/18:2)\n",
      "L-a-phosphatidylinositol (18:2/16:0)\n",
      "L-a-phosphatidylinositol (18:2/16:0)\n",
      "[D-Asp3]microcystin-LR\n",
      "Aerucyclamide D\n",
      "Cyanopeptolin 963A\n",
      "Aeruginosamide B\n",
      "Aeruginosamide C\n",
      "Putative Quinolone from Pseudomonas aeurginosa, no known structure for this mass\n",
      "Actinorhodin-unclear if it is correctly identified as there are no ions to the right of the + ion\n",
      "Acyl desferrioxamine 727a\n",
      "Acyl desferrioxamine C10\n",
      "Acyl desferrioxamine C10\n",
      "Acyl desferrioxamine C10\n",
      "Acyl desferrioxamine C11\n",
      "Acyl desferrioxamine C11\n",
      "Acyl desferrioxamine C11\n",
      "Acyl desferrioxamine C12\n",
      "Acyl desferrioxamine C12\n",
      "Acyl desferrioxamine C12\n",
      "Acyl desferrioxamine C13\n",
      "Acyl desferrioxamine C13\n",
      "Acyl desferrioxamine C14\n",
      "Acyl desferrioxamine C14\n",
      "Acyl desferrioxamine C15\n",
      "Acyl desferrioxamine C16\n",
      "Acyl desferrioxamine C17\n",
      "Acyl desferrioxamine C7\n",
      "Acyl desferrioxamine C8\n",
      "Acyl desferrioxamine C9\n",
      "Calcium-dependent antibiotic 2b\n",
      "Calcium-dependent antibiotic 2b\n",
      "Calcium-dependent antibiotic 2b\n",
      "Calcium-dependent antibiotic 2b\n",
      "Calcium-dependent antibiotic 2b\n",
      "Calcium-dependent antibiotic 3a\n",
      "Calcium-dependent antibiotic 3a\n",
      "Calcium-dependent antibiotic 4a\n",
      "Calcium-dependent antibiotic 4a\n",
      "Calcium-dependent antibiotic 4a\n",
      "Calcium-dependent antibiotic 4a\n",
      "Calcium-dependent antibiotic 4a\n",
      "Calcium-dependent antibiotic 4a\n",
      "Calcium-dependent antibiotic 4a\n",
      "Calcium-dependent antibiotic (putative) Unk\n",
      "Calcium-dependent antibiotic (putative) Unk\n",
      "Calcium-dependent antibiotic (putative) Unk\n",
      "Calcium-dependent antibiotic (putative) Unk\n",
      "Calcium-dependent antibiotic (putative) Unk\n",
      "Ceramide C32:1\n",
      "Ceramide C33:1\n",
      "Ceramide C34:1\n",
      "Ceramide C34:2\n",
      "Ceramide C35:2\n",
      "Ceramide C36:2\n",
      "Coproporphyrin I or III\n",
      "Diglycosyl diacylglycerol C29\n",
      "Diglycosyl diacylglycerol C30\n",
      "Diglycosyl diacylglycerol C31\n",
      "Diglycosyl diacylglycerol C32\n",
      "Fatty acid 16:1\n",
      "Fatty acid 16:2\n",
      "Fatty acid 17:1\n",
      "Fatty acid 18:1\n",
      "Glycopeptidolipid IIIa C65\n",
      "Glycopeptidolipid IIIa C66\n",
      "Glycopeptidolipid IIIa C66\n",
      "Glycopeptidolipid IIIa C67\n",
      "Glycopeptidolipid IIIa C67\n",
      "Glycopeptidolipid IIIa C67\n",
      "Glycopeptidolipid IIIa C68\n",
      "Heme B / Porphyrin\n",
      "Heme B / Porphyrin\n",
      "HHQ C12:1\n",
      "Hormaomycin 1 (non-chlorinated)\n",
      "Hormaomycin 1 (non-chlorinated)\n",
      "Hormaomycin 1\n",
      "Hormaomycin 1\n",
      "Hormaomycin J1 or J2\n",
      "Hormaomycin J1 or J2\n",
      "Hormaomycin J3\n",
      "HQNO C11\n",
      "HQNO C13:1\n",
      "HQNO C7:1\n",
      "Lysylphosphatodylglycerol C30\n",
      "Lysylphosphatodylglycerol C31\n",
      "Lysylphosphatodylglycerol C32\n",
      "NHQ C9:1 aka 2-nonyl 4-quinolone with 1 double bond in side chain\n",
      "Nunamycin A\n",
      "Nunamycin A\n",
      "Nunamycin B\n",
      "Nunapeptin A\n",
      "Nunapeptin A\n",
      "Nunapeptin B\n",
      "Nunapeptin B\n",
      "Nunapeptin B\n",
      "Nunapeptin B\n",
      "Nunapeptin B\n",
      "Nunapeptin B\n",
      "Nunapeptin C\n",
      "Phosphatidylethanolamine GOPE or ALPE\n",
      "Phosphatidylethanolamine MSPE or diPPE\n",
      "Phosphatidylethanolamine PoLPE or PLnPE\n",
      "Phosphatidylethanolamine PoOPE or PLPE\n",
      "Phosphatidylethanolamine POPE or PoSPE\n",
      "Phosphatidylethanolamine PSPE or diMaPE\n",
      "Phosphatidylethanolamine PSPE or diMaPE\n",
      "Plipastatin (multiple species) Unk\n",
      "Plipastatin (multiple species) Unk\n",
      "Plipastatin (multiple species) Unk\n",
      "Polysaccharide Agarose x2 (deoxy)\n",
      "Polysaccharide Agarose x3 (deoxy)\n",
      "Polysaccharide Agarose x3\n",
      "Polysaccharide Agarose x4 (deoxy)\n",
      "Polysaccharide Agarose x4\n",
      "Polysaccharide Agarose x5 (deoxy)\n",
      "Polysaccharide Agarose x5\n",
      "Polysaccharide Agarose x6 (deoxy)\n",
      "Polysaccharide Agarose x6\n",
      "Polysaccharide Hexose x1\n",
      "Polysaccharide Hexose x1\n",
      "Polysaccharide Hexose x2\n",
      "Polysaccharide Hexose x2\n",
      "Polysaccharide Hexose x2\n",
      "Polysaccharide Hexose x2\n",
      "Polysaccharide Hexose x3\n",
      "Polysaccharide Hexose x3\n",
      "Polysaccharide Hexose x3\n",
      "Polysaccharide Hexose x3\n",
      "Polysaccharide Hexose x4\n",
      "Polysaccharide Hexose x4\n",
      "Polysaccharide Hexose x4\n",
      "Polysaccharide Hexose x4\n",
      "Polysaccharide Hexose x5\n",
      "Polysaccharide Hexose x5\n",
      "Polysaccharide Hexose x5\n",
      "Polysaccharide Hexose x5\n",
      "Polysaccharide Hexose x6\n",
      "Polysaccharide Hexose x6\n",
      "Polysaccharide Hexose x6\n",
      "Polysaccharide Hexose x7\n",
      "Polysaccharide Hexose x7\n",
      "Polysaccharide Hexose x7\n",
      "Polysaccharide Hexose x8\n",
      "Polysaccharide Hexose x8\n",
      "Polysaccharide Hexose x8\n",
      "PQS-C8 or HQNO-C8\n",
      "PQS-C9:1 or NQNO-C9:1 Unk\n",
      "PQS and HQNO mixture\n",
      "Prodiginine dimer plus phosphate\n",
      "Prodiginine dimer plus phosphate\n",
      "Prodiginine trimer plus phosphate\n",
      "Rhamnolipid Rha-C10-C10\n",
      "Rhamnolipid Rha-C10-C10:1\n",
      "Rhamnolipid Rha-C10-C12\n",
      "Rhamnolipid Rha-Rha-C10-C10\n",
      "Rhamnolipid Rha-Rha-C10-C12\n",
      "Rhamnolipid Rha-Rha-C10-C12:1\n",
      "SCO-2138\n",
      "SCO-2138\n",
      "Sporulation killing factor (SKF)\n",
      "Sporulation killing factor (SKF)\n",
      "Streptorubin\n",
      "Sublancin\n",
      "Surfactin minus Leucine\n",
      "Surfactin minus Leucine\n",
      "Surfactin minus Leucine\n",
      "Surfactin (Putative) Unk\n",
      "Surfactin (Putative) Unk\n",
      "Surfactin (Putative) Unk\n",
      "Surfactin (Putative) Unk\n",
      "Thanapeptin A\n",
      "Thanapeptin A\n",
      "Thanapeptin A\n",
      "Thanapeptin B\n",
      "Thanapeptin B\n",
      "Thanapeptin C\n",
      "Thanapeptin D\n",
      "Thanapeptin D\n",
      "Thanapeptin D\n",
      "Thanapeptin D\n",
      "Thanapeptin D\n",
      "Thanapeptin (Putative) Unk\n",
      "Thanapeptin (Putative) Unk\n",
      "Triacylglycerol (putative) Unk\n",
      "Triacylglycerol (putative) Unk\n",
      "Triacylglycerol (putative) Unk\n",
      "C11:db-UQNO\n",
      "Tumonoic Acid E\n",
      "Tumonoic Acid E\n",
      "Tumonoic Acid H\n",
      "Tumonoic Acid I\n",
      "Tumonoic Acid I\n",
      "Malyngamide C acetate\n",
      "Malyngamide C acetate\n",
      "Somocystinamide A byproduct\n",
      "Somocystinamide A byproduct\n",
      "Dolastatin 12\n",
      "Dolastatin 12\n",
      "N-phenethyltridecanamide\n",
      "N-phenethyltridecanamide\n",
      "Bouillonamide B\n",
      "Bouillonamide B\n",
      "(-)-Malyngolide\n",
      "(-)-Malyngolide\n",
      "Cymathere lactone\n",
      "Cymathere lactone\n",
      "Hormothamnione triacetate\n",
      "Hormothamnione triacetate\n",
      "Hormothamnione diacetate\n",
      "Hormothamnione diacetate\n",
      "Malyngamide K\n",
      "Malyngamide K\n",
      "Quinoline alkaloid\n",
      "Quinoline alkaloid\n",
      "Kalkitoxin thioamide alcohol\n",
      "Kalkitoxin thioamide alcohol\n",
      "\"4S, 5R-antillatoxin A\"\n",
      "\"4S, 5R-antillatoxin A\"\n",
      "2-nonyl-3-hydroxy 4(1H)-quinolone ! 4-hydroxy-2-nonylquinoline N-oxide\n",
      "2-nonenyl 4-quinolone\n",
      "2-nonenyl-3-hydroxy 4(1H)-quinolone ! 4-hydroxy-2-nonenylquinoline N-oxide\n",
      "2-nonyl 4-quinolone\n",
      "phenazine-1-sulfate\n",
      "Triacetylfusarinine C [Al3+]\n",
      "DihydrofusarinC\n",
      "DihydrofusarinC\n",
      "FusarinD\n",
      "epi-FusarinC\n",
      "FusarinC\n",
      "FusarinA\n",
      "FusarinA\n",
      "open-chain_FusarinC\n",
      "open-chain_FusarinC\n",
      "AnhydrocyanobacterinB\n",
      "AnhydrocyanobacterinA\n",
      "Daptomycin A21978C3 anteiso-C13\n",
      "Daptomycin A21978C1 anteiso-C11\n",
      "Daptomycin A21978C2 n-C12\n",
      "Mureidomycin A\n",
      "Mureidomycin C\n",
      "Mureidomycin D\n",
      "Napsamycin A\n",
      "Napsamycin A\n",
      "Napsamycin A\n",
      "Napsamycin C\n",
      "Arylomycin A1 iso-C11\n"
     ]
    }
   ],
   "source": [
    "for spectrum in gnps_spectra[:1000]:\n",
    "    inchikey = spectrum.get(\"inchikey\")\n",
    "    if inchikey is None:\n",
    "        inchikey = spectrum.get(\"inchikey_inchi\")\n",
    "    if inchikey is None or len(inchikey) < 13:\n",
    "        print(spectrum.get(\"compound_name\"))"
   ]
  }
 ],
 "metadata": {
  "kernelspec": {
   "display_name": "Python 3 (ipykernel)",
   "language": "python",
   "name": "python3"
  },
  "language_info": {
   "codemirror_mode": {
    "name": "ipython",
    "version": 3
   },
   "file_extension": ".py",
   "mimetype": "text/x-python",
   "name": "python",
   "nbconvert_exporter": "python",
   "pygments_lexer": "ipython3",
   "version": "3.8.11"
  }
 },
 "nbformat": 4,
 "nbformat_minor": 5
}
