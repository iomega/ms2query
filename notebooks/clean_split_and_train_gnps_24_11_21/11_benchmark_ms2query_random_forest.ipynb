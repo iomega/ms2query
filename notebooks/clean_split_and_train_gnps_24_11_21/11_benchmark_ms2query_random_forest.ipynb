{
 "cells": [
  {
   "cell_type": "code",
   "execution_count": 7,
   "id": "22acf2cf",
   "metadata": {},
   "outputs": [],
   "source": [
    "import os\n",
    "import pickle\n",
    "from ms2query.utils import load_pickled_file\n",
    "from ms2query.ms2library import MS2Library \n",
    "from matplotlib import pyplot as plt\n",
    "\n",
    "file_date = \"15_12_2021\"\n",
    "path_data = \"C:\\\\HSD\\\\OneDrive - Hochschule Düsseldorf\\\\Data\\\\ms2query\"\n",
    "\n",
    "tanimoto_scores_df_file = os.path.join(path_data,\n",
    "                                       f\"GNPS_{file_date}_pos_tanimoto_scores.pickle\")\n",
    "sqlite_file =  os.path.join(path_data,\n",
    "                            \"library_GNPS_15_12\",\n",
    "                            f\"library_GNPS_{file_date}.sqlite\")\n",
    "\n",
    "# Models\n",
    "s2v_model_file = os.path.join(path_data,\n",
    "                              \"trained_models\",\n",
    "                              f\"spec2vec_model_GNPS_{file_date}.model\")\n",
    "ms2ds_model_file = os.path.join(path_data,\n",
    "                                \"trained_models\",\n",
    "                                f\"ms2ds_GNPS_{file_date}.hdf5\")\n",
    "ms2query_rf_model = os.path.join(path_data,\n",
    "                                 \"library_gnps_15_12\",\n",
    "                                 \"ms2query_random_forest_model.pickle\")\n",
    "\n",
    "# Embeddings\n",
    "s2v_embeddings_file = os.path.join(path_data,\n",
    "                                   \"library_gnps_15_12\",\n",
    "                                   f\"library_GNPS_{file_date}_s2v_embeddings.pickle\")\n",
    "ms2ds_embeddings_file =  os.path.join(path_data,\n",
    "                                      \"library_gnps_15_12\",\n",
    "                                      f\"library_GNPS_{file_date}_ms2ds_embeddings.pickle\")\n"
   ]
  },
  {
   "cell_type": "code",
   "execution_count": 5,
   "id": "d7a025c8",
   "metadata": {},
   "outputs": [
    {
     "data": {
      "text/plain": [
       "True"
      ]
     },
     "execution_count": 5,
     "metadata": {},
     "output_type": "execute_result"
    }
   ],
   "source": [
    "os.path.exists(ms2query_rf_model)"
   ]
  },
  {
   "cell_type": "code",
   "execution_count": 30,
   "id": "31248c5d",
   "metadata": {},
   "outputs": [],
   "source": [
    "ms2library = MS2Library(sqlite_file, \n",
    "                        s2v_model_file, \n",
    "                        ms2ds_model_file, \n",
    "                        s2v_embeddings_file, \n",
    "                        ms2ds_embeddings_file,\n",
    "                        ms2query_rf_model)"
   ]
  },
  {
   "cell_type": "code",
   "execution_count": 31,
   "id": "4a22458d",
   "metadata": {},
   "outputs": [],
   "source": [
    "test_spectra_3000 = load_pickled_file(os.path.join(path_data,\n",
    "                                                   \"GNPS_15_12_2021_pos_test_3000_spectra.pickle\"))"
   ]
  },
  {
   "cell_type": "code",
   "execution_count": 32,
   "id": "6b6cb6b3",
   "metadata": {
    "scrolled": true
   },
   "outputs": [
    {
     "name": "stdout",
     "output_type": "stream",
     "text": [
      "Calculating MS2Deepscore embeddings for query spectra\n",
      "Calculating MS2Deepscore between query embeddings and library embeddings\n"
     ]
    },
    {
     "name": "stderr",
     "output_type": "stream",
     "text": [
      "collecting matches info: 3it [00:09,  2.67s/it]"
     ]
    },
    {
     "name": "stdout",
     "output_type": "stream",
     "text": [
      "Found 1 word(s) missing in the model. Weighted missing percentage not covered by the given model is 0.98%.\n"
     ]
    },
    {
     "name": "stderr",
     "output_type": "stream",
     "text": [
      "\r",
      "collecting matches info: 4it [00:11,  2.44s/it]"
     ]
    },
    {
     "name": "stdout",
     "output_type": "stream",
     "text": [
      "Found 1 word(s) missing in the model. Weighted missing percentage not covered by the given model is 0.25%.\n"
     ]
    },
    {
     "name": "stderr",
     "output_type": "stream",
     "text": [
      "collecting matches info: 12it [00:28,  2.08s/it]"
     ]
    },
    {
     "name": "stdout",
     "output_type": "stream",
     "text": [
      "Found 2 word(s) missing in the model. Weighted missing percentage not covered by the given model is 0.44%.\n"
     ]
    },
    {
     "name": "stderr",
     "output_type": "stream",
     "text": [
      "collecting matches info: 15it [00:34,  1.97s/it]"
     ]
    },
    {
     "name": "stdout",
     "output_type": "stream",
     "text": [
      "Found 4 word(s) missing in the model. Weighted missing percentage not covered by the given model is 0.75%.\n"
     ]
    },
    {
     "name": "stderr",
     "output_type": "stream",
     "text": [
      "\r",
      "collecting matches info: 16it [00:36,  2.05s/it]"
     ]
    },
    {
     "name": "stdout",
     "output_type": "stream",
     "text": [
      "Found 2 word(s) missing in the model. Weighted missing percentage not covered by the given model is 1.44%.\n"
     ]
    },
    {
     "name": "stderr",
     "output_type": "stream",
     "text": [
      "\r",
      "collecting matches info: 17it [00:38,  2.08s/it]"
     ]
    },
    {
     "name": "stdout",
     "output_type": "stream",
     "text": [
      "Found 8 word(s) missing in the model. Weighted missing percentage not covered by the given model is 1.68%.\n"
     ]
    },
    {
     "name": "stderr",
     "output_type": "stream",
     "text": [
      "collecting matches info: 19it [00:41,  1.75s/it]"
     ]
    },
    {
     "name": "stdout",
     "output_type": "stream",
     "text": [
      "Found 3 word(s) missing in the model. Weighted missing percentage not covered by the given model is 0.65%.\n"
     ]
    },
    {
     "name": "stderr",
     "output_type": "stream",
     "text": [
      "collecting matches info: 21it [00:45,  1.83s/it]"
     ]
    },
    {
     "name": "stdout",
     "output_type": "stream",
     "text": [
      "Found 3 word(s) missing in the model. Weighted missing percentage not covered by the given model is 0.65%.\n"
     ]
    },
    {
     "name": "stderr",
     "output_type": "stream",
     "text": [
      "collecting matches info: 25it [00:51,  1.58s/it]"
     ]
    },
    {
     "name": "stdout",
     "output_type": "stream",
     "text": [
      "Found 1 word(s) missing in the model. Weighted missing percentage not covered by the given model is 1.39%.\n"
     ]
    },
    {
     "name": "stderr",
     "output_type": "stream",
     "text": [
      "collecting matches info: 41it [01:18,  1.84s/it]"
     ]
    },
    {
     "name": "stdout",
     "output_type": "stream",
     "text": [
      "Found 1 word(s) missing in the model. Weighted missing percentage not covered by the given model is 0.22%.\n"
     ]
    },
    {
     "name": "stderr",
     "output_type": "stream",
     "text": [
      "collecting matches info: 66it [01:54,  1.33s/it]"
     ]
    },
    {
     "name": "stdout",
     "output_type": "stream",
     "text": [
      "Found 1 word(s) missing in the model. Weighted missing percentage not covered by the given model is 0.36%.\n"
     ]
    },
    {
     "name": "stderr",
     "output_type": "stream",
     "text": [
      "\r",
      "collecting matches info: 67it [01:55,  1.40s/it]"
     ]
    },
    {
     "name": "stdout",
     "output_type": "stream",
     "text": [
      "Found 1 word(s) missing in the model. Weighted missing percentage not covered by the given model is 0.27%.\n"
     ]
    },
    {
     "name": "stderr",
     "output_type": "stream",
     "text": [
      "collecting matches info: 84it [02:16,  1.24s/it]"
     ]
    },
    {
     "name": "stdout",
     "output_type": "stream",
     "text": [
      "Found 2 word(s) missing in the model. Weighted missing percentage not covered by the given model is 0.71%.\n"
     ]
    },
    {
     "name": "stderr",
     "output_type": "stream",
     "text": [
      "collecting matches info: 89it [02:22,  1.11s/it]"
     ]
    },
    {
     "name": "stdout",
     "output_type": "stream",
     "text": [
      "Found 2 word(s) missing in the model. Weighted missing percentage not covered by the given model is 0.76%.\n"
     ]
    },
    {
     "name": "stderr",
     "output_type": "stream",
     "text": [
      "collecting matches info: 91it [02:25,  1.32s/it]"
     ]
    },
    {
     "name": "stdout",
     "output_type": "stream",
     "text": [
      "Found 1 word(s) missing in the model. Weighted missing percentage not covered by the given model is 1.41%.\n"
     ]
    },
    {
     "name": "stderr",
     "output_type": "stream",
     "text": [
      "collecting matches info: 95it [02:30,  1.28s/it]"
     ]
    },
    {
     "name": "stdout",
     "output_type": "stream",
     "text": [
      "Found 1 word(s) missing in the model. Weighted missing percentage not covered by the given model is 1.30%.\n"
     ]
    },
    {
     "name": "stderr",
     "output_type": "stream",
     "text": [
      "collecting matches info: 123it [03:09,  1.60s/it]"
     ]
    },
    {
     "name": "stdout",
     "output_type": "stream",
     "text": [
      "Found 3 word(s) missing in the model. Weighted missing percentage not covered by the given model is 1.28%.\n"
     ]
    },
    {
     "name": "stderr",
     "output_type": "stream",
     "text": [
      "collecting matches info: 125it [03:11,  1.41s/it]"
     ]
    },
    {
     "name": "stdout",
     "output_type": "stream",
     "text": [
      "Found 1 word(s) missing in the model. Weighted missing percentage not covered by the given model is 0.39%.\n"
     ]
    },
    {
     "name": "stderr",
     "output_type": "stream",
     "text": [
      "collecting matches info: 128it [03:16,  1.49s/it]"
     ]
    },
    {
     "name": "stdout",
     "output_type": "stream",
     "text": [
      "Found 1 word(s) missing in the model. Weighted missing percentage not covered by the given model is 0.61%.\n"
     ]
    },
    {
     "name": "stderr",
     "output_type": "stream",
     "text": [
      "collecting matches info: 175it [05:34,  1.33s/it]"
     ]
    },
    {
     "name": "stdout",
     "output_type": "stream",
     "text": [
      "Found 2 word(s) missing in the model. Weighted missing percentage not covered by the given model is 1.92%.\n"
     ]
    },
    {
     "name": "stderr",
     "output_type": "stream",
     "text": [
      "collecting matches info: 177it [05:37,  1.40s/it]"
     ]
    },
    {
     "name": "stdout",
     "output_type": "stream",
     "text": [
      "Found 3 word(s) missing in the model. Weighted missing percentage not covered by the given model is 1.25%.\n"
     ]
    },
    {
     "name": "stderr",
     "output_type": "stream",
     "text": [
      "\r",
      "collecting matches info: 178it [05:38,  1.38s/it]"
     ]
    },
    {
     "name": "stdout",
     "output_type": "stream",
     "text": [
      "Found 1 word(s) missing in the model. Weighted missing percentage not covered by the given model is 0.41%.\n"
     ]
    },
    {
     "name": "stderr",
     "output_type": "stream",
     "text": [
      "collecting matches info: 181it [05:42,  1.39s/it]"
     ]
    },
    {
     "name": "stdout",
     "output_type": "stream",
     "text": [
      "Found 2 word(s) missing in the model. Weighted missing percentage not covered by the given model is 1.13%.\n"
     ]
    },
    {
     "name": "stderr",
     "output_type": "stream",
     "text": [
      "\r",
      "collecting matches info: 182it [05:43,  1.30s/it]"
     ]
    },
    {
     "name": "stdout",
     "output_type": "stream",
     "text": [
      "Found 1 word(s) missing in the model. Weighted missing percentage not covered by the given model is 0.47%.\n"
     ]
    },
    {
     "name": "stderr",
     "output_type": "stream",
     "text": [
      "\r",
      "collecting matches info: 183it [05:45,  1.25s/it]"
     ]
    },
    {
     "name": "stdout",
     "output_type": "stream",
     "text": [
      "Found 4 word(s) missing in the model. Weighted missing percentage not covered by the given model is 3.42%.\n"
     ]
    },
    {
     "name": "stderr",
     "output_type": "stream",
     "text": [
      "collecting matches info: 223it [06:33,  1.25s/it]"
     ]
    },
    {
     "name": "stdout",
     "output_type": "stream",
     "text": [
      "Found 1 word(s) missing in the model. Weighted missing percentage not covered by the given model is 3.12%.\n"
     ]
    },
    {
     "name": "stderr",
     "output_type": "stream",
     "text": [
      "collecting matches info: 234it [06:45,  1.06s/it]"
     ]
    },
    {
     "name": "stdout",
     "output_type": "stream",
     "text": [
      "Found 1 word(s) missing in the model. Weighted missing percentage not covered by the given model is 1.61%.\n"
     ]
    },
    {
     "name": "stderr",
     "output_type": "stream",
     "text": [
      "collecting matches info: 239it [06:52,  1.31s/it]"
     ]
    },
    {
     "name": "stdout",
     "output_type": "stream",
     "text": [
      "Found 3 word(s) missing in the model. Weighted missing percentage not covered by the given model is 1.00%.\n"
     ]
    },
    {
     "name": "stderr",
     "output_type": "stream",
     "text": [
      "\r",
      "collecting matches info: 240it [06:54,  1.52s/it]"
     ]
    },
    {
     "name": "stdout",
     "output_type": "stream",
     "text": [
      "Found 1 word(s) missing in the model. Weighted missing percentage not covered by the given model is 0.35%.\n"
     ]
    },
    {
     "name": "stderr",
     "output_type": "stream",
     "text": [
      "collecting matches info: 243it [06:58,  1.36s/it]"
     ]
    },
    {
     "name": "stdout",
     "output_type": "stream",
     "text": [
      "Found 1 word(s) missing in the model. Weighted missing percentage not covered by the given model is 0.39%.\n"
     ]
    },
    {
     "name": "stderr",
     "output_type": "stream",
     "text": [
      "collecting matches info: 245it [07:00,  1.26s/it]"
     ]
    },
    {
     "name": "stdout",
     "output_type": "stream",
     "text": [
      "Found 2 word(s) missing in the model. Weighted missing percentage not covered by the given model is 0.68%.\n"
     ]
    },
    {
     "name": "stderr",
     "output_type": "stream",
     "text": [
      "collecting matches info: 247it [07:02,  1.14s/it]"
     ]
    },
    {
     "name": "stdout",
     "output_type": "stream",
     "text": [
      "Found 1 word(s) missing in the model. Weighted missing percentage not covered by the given model is 0.41%.\n"
     ]
    },
    {
     "name": "stderr",
     "output_type": "stream",
     "text": [
      "\r",
      "collecting matches info: 248it [07:03,  1.06s/it]"
     ]
    },
    {
     "name": "stdout",
     "output_type": "stream",
     "text": [
      "Found 6 word(s) missing in the model. Weighted missing percentage not covered by the given model is 2.33%.\n"
     ]
    },
    {
     "name": "stderr",
     "output_type": "stream",
     "text": [
      "\r",
      "collecting matches info: 249it [07:04,  1.11s/it]"
     ]
    },
    {
     "name": "stdout",
     "output_type": "stream",
     "text": [
      "Found 5 word(s) missing in the model. Weighted missing percentage not covered by the given model is 2.37%.\n"
     ]
    },
    {
     "name": "stderr",
     "output_type": "stream",
     "text": [
      "collecting matches info: 252it [07:08,  1.10s/it]"
     ]
    },
    {
     "name": "stdout",
     "output_type": "stream",
     "text": [
      "Found 1 word(s) missing in the model. Weighted missing percentage not covered by the given model is 0.45%.\n"
     ]
    },
    {
     "name": "stderr",
     "output_type": "stream",
     "text": [
      "collecting matches info: 255it [07:12,  1.26s/it]"
     ]
    },
    {
     "name": "stdout",
     "output_type": "stream",
     "text": [
      "Found 1 word(s) missing in the model. Weighted missing percentage not covered by the given model is 0.28%.\n"
     ]
    },
    {
     "name": "stderr",
     "output_type": "stream",
     "text": [
      "collecting matches info: 261it [07:18,  1.13s/it]"
     ]
    },
    {
     "name": "stdout",
     "output_type": "stream",
     "text": [
      "Found 1 word(s) missing in the model. Weighted missing percentage not covered by the given model is 0.68%.\n"
     ]
    },
    {
     "name": "stderr",
     "output_type": "stream",
     "text": [
      "collecting matches info: 264it [07:22,  1.17s/it]"
     ]
    },
    {
     "name": "stdout",
     "output_type": "stream",
     "text": [
      "Found 1 word(s) missing in the model. Weighted missing percentage not covered by the given model is 0.31%.\n"
     ]
    },
    {
     "name": "stderr",
     "output_type": "stream",
     "text": [
      "collecting matches info: 266it [07:24,  1.27s/it]"
     ]
    },
    {
     "name": "stdout",
     "output_type": "stream",
     "text": [
      "Found 8 word(s) missing in the model. Weighted missing percentage not covered by the given model is 3.94%.\n"
     ]
    },
    {
     "name": "stderr",
     "output_type": "stream",
     "text": [
      "collecting matches info: 268it [07:28,  1.49s/it]"
     ]
    },
    {
     "name": "stdout",
     "output_type": "stream",
     "text": [
      "Found 1 word(s) missing in the model. Weighted missing percentage not covered by the given model is 0.38%.\n"
     ]
    },
    {
     "name": "stderr",
     "output_type": "stream",
     "text": [
      "collecting matches info: 272it [07:33,  1.44s/it]"
     ]
    },
    {
     "name": "stdout",
     "output_type": "stream",
     "text": [
      "Found 1 word(s) missing in the model. Weighted missing percentage not covered by the given model is 0.41%.\n"
     ]
    },
    {
     "name": "stderr",
     "output_type": "stream",
     "text": [
      "\r",
      "collecting matches info: 273it [07:35,  1.56s/it]"
     ]
    },
    {
     "name": "stdout",
     "output_type": "stream",
     "text": [
      "Found 1 word(s) missing in the model. Weighted missing percentage not covered by the given model is 0.27%.\n"
     ]
    },
    {
     "name": "stderr",
     "output_type": "stream",
     "text": [
      "collecting matches info: 275it [07:39,  1.65s/it]"
     ]
    },
    {
     "name": "stdout",
     "output_type": "stream",
     "text": [
      "Found 2 word(s) missing in the model. Weighted missing percentage not covered by the given model is 0.69%.\n"
     ]
    },
    {
     "name": "stderr",
     "output_type": "stream",
     "text": [
      "\r",
      "collecting matches info: 276it [07:40,  1.53s/it]"
     ]
    },
    {
     "name": "stdout",
     "output_type": "stream",
     "text": [
      "Found 1 word(s) missing in the model. Weighted missing percentage not covered by the given model is 1.02%.\n"
     ]
    },
    {
     "name": "stderr",
     "output_type": "stream",
     "text": [
      "collecting matches info: 279it [07:44,  1.49s/it]"
     ]
    },
    {
     "name": "stdout",
     "output_type": "stream",
     "text": [
      "Found 2 word(s) missing in the model. Weighted missing percentage not covered by the given model is 1.60%.\n"
     ]
    },
    {
     "name": "stderr",
     "output_type": "stream",
     "text": [
      "collecting matches info: 286it [07:57,  1.82s/it]"
     ]
    },
    {
     "name": "stdout",
     "output_type": "stream",
     "text": [
      "Found 3 word(s) missing in the model. Weighted missing percentage not covered by the given model is 1.82%.\n"
     ]
    },
    {
     "name": "stderr",
     "output_type": "stream",
     "text": [
      "collecting matches info: 321it [09:50,  3.25s/it]"
     ]
    },
    {
     "name": "stdout",
     "output_type": "stream",
     "text": [
      "Found 1 word(s) missing in the model. Weighted missing percentage not covered by the given model is 0.57%.\n"
     ]
    },
    {
     "name": "stderr",
     "output_type": "stream",
     "text": [
      "collecting matches info: 372it [11:11,  1.20s/it]"
     ]
    },
    {
     "name": "stdout",
     "output_type": "stream",
     "text": [
      "Found 2 word(s) missing in the model. Weighted missing percentage not covered by the given model is 0.67%.\n"
     ]
    },
    {
     "name": "stderr",
     "output_type": "stream",
     "text": [
      "collecting matches info: 394it [11:38,  1.03it/s]"
     ]
    },
    {
     "name": "stdout",
     "output_type": "stream",
     "text": [
      "Found 1 word(s) missing in the model. Weighted missing percentage not covered by the given model is 0.56%.\n"
     ]
    },
    {
     "name": "stderr",
     "output_type": "stream",
     "text": [
      "collecting matches info: 402it [11:48,  1.33s/it]"
     ]
    },
    {
     "name": "stdout",
     "output_type": "stream",
     "text": [
      "Found 1 word(s) missing in the model. Weighted missing percentage not covered by the given model is 1.45%.\n"
     ]
    },
    {
     "name": "stderr",
     "output_type": "stream",
     "text": [
      "collecting matches info: 404it [11:51,  1.30s/it]"
     ]
    },
    {
     "name": "stdout",
     "output_type": "stream",
     "text": [
      "Found 1 word(s) missing in the model. Weighted missing percentage not covered by the given model is 0.77%.\n"
     ]
    },
    {
     "name": "stderr",
     "output_type": "stream",
     "text": [
      "collecting matches info: 415it [12:08,  1.33s/it]"
     ]
    },
    {
     "name": "stdout",
     "output_type": "stream",
     "text": [
      "Found 1 word(s) missing in the model. Weighted missing percentage not covered by the given model is 1.39%.\n"
     ]
    },
    {
     "name": "stderr",
     "output_type": "stream",
     "text": [
      "collecting matches info: 421it [12:16,  1.48s/it]"
     ]
    },
    {
     "name": "stdout",
     "output_type": "stream",
     "text": [
      "Found 2 word(s) missing in the model. Weighted missing percentage not covered by the given model is 0.76%.\n"
     ]
    },
    {
     "name": "stderr",
     "output_type": "stream",
     "text": [
      "collecting matches info: 425it [12:23,  1.77s/it]"
     ]
    },
    {
     "name": "stdout",
     "output_type": "stream",
     "text": [
      "Found 4 word(s) missing in the model. Weighted missing percentage not covered by the given model is 1.67%.\n"
     ]
    },
    {
     "name": "stderr",
     "output_type": "stream",
     "text": [
      "collecting matches info: 436it [12:39,  1.55s/it]"
     ]
    },
    {
     "name": "stdout",
     "output_type": "stream",
     "text": [
      "Found 1 word(s) missing in the model. Weighted missing percentage not covered by the given model is 0.49%.\n"
     ]
    },
    {
     "name": "stderr",
     "output_type": "stream",
     "text": [
      "collecting matches info: 442it [12:50,  1.76s/it]"
     ]
    },
    {
     "name": "stdout",
     "output_type": "stream",
     "text": [
      "Found 1 word(s) missing in the model. Weighted missing percentage not covered by the given model is 0.68%.\n"
     ]
    },
    {
     "name": "stderr",
     "output_type": "stream",
     "text": [
      "collecting matches info: 445it [12:59,  2.76s/it]"
     ]
    },
    {
     "name": "stdout",
     "output_type": "stream",
     "text": [
      "Found 1 word(s) missing in the model. Weighted missing percentage not covered by the given model is 3.70%.\n"
     ]
    },
    {
     "name": "stderr",
     "output_type": "stream",
     "text": [
      "collecting matches info: 455it [13:19,  2.09s/it]"
     ]
    },
    {
     "name": "stdout",
     "output_type": "stream",
     "text": [
      "Found 1 word(s) missing in the model. Weighted missing percentage not covered by the given model is 1.37%.\n"
     ]
    },
    {
     "name": "stderr",
     "output_type": "stream",
     "text": [
      "collecting matches info: 472it [14:03,  2.33s/it]"
     ]
    },
    {
     "name": "stdout",
     "output_type": "stream",
     "text": [
      "Found 1 word(s) missing in the model. Weighted missing percentage not covered by the given model is 0.43%.\n"
     ]
    },
    {
     "name": "stderr",
     "output_type": "stream",
     "text": [
      "\r",
      "collecting matches info: 473it [14:05,  2.23s/it]"
     ]
    },
    {
     "name": "stdout",
     "output_type": "stream",
     "text": [
      "Found 1 word(s) missing in the model. Weighted missing percentage not covered by the given model is 0.53%.\n"
     ]
    },
    {
     "name": "stderr",
     "output_type": "stream",
     "text": [
      "\r",
      "collecting matches info: 474it [14:07,  2.23s/it]"
     ]
    },
    {
     "name": "stdout",
     "output_type": "stream",
     "text": [
      "Found 1 word(s) missing in the model. Weighted missing percentage not covered by the given model is 0.49%.\n"
     ]
    },
    {
     "name": "stderr",
     "output_type": "stream",
     "text": [
      "collecting matches info: 483it [14:27,  2.66s/it]"
     ]
    },
    {
     "name": "stdout",
     "output_type": "stream",
     "text": [
      "Found 1 word(s) missing in the model. Weighted missing percentage not covered by the given model is 0.77%.\n"
     ]
    },
    {
     "name": "stderr",
     "output_type": "stream",
     "text": [
      "collecting matches info: 494it [14:46,  1.70s/it]"
     ]
    },
    {
     "name": "stdout",
     "output_type": "stream",
     "text": [
      "Found 3 word(s) missing in the model. Weighted missing percentage not covered by the given model is 2.36%.\n"
     ]
    },
    {
     "name": "stderr",
     "output_type": "stream",
     "text": [
      "\r",
      "collecting matches info: 495it [14:48,  1.62s/it]"
     ]
    },
    {
     "name": "stdout",
     "output_type": "stream",
     "text": [
      "Found 1 word(s) missing in the model. Weighted missing percentage not covered by the given model is 1.04%.\n"
     ]
    },
    {
     "name": "stderr",
     "output_type": "stream",
     "text": [
      "collecting matches info: 507it [15:04,  1.42s/it]"
     ]
    },
    {
     "name": "stdout",
     "output_type": "stream",
     "text": [
      "Found 1 word(s) missing in the model. Weighted missing percentage not covered by the given model is 0.85%.\n"
     ]
    },
    {
     "name": "stderr",
     "output_type": "stream",
     "text": [
      "\r",
      "collecting matches info: 508it [15:05,  1.49s/it]"
     ]
    },
    {
     "name": "stdout",
     "output_type": "stream",
     "text": [
      "Found 2 word(s) missing in the model. Weighted missing percentage not covered by the given model is 1.36%.\n"
     ]
    },
    {
     "name": "stderr",
     "output_type": "stream",
     "text": [
      "collecting matches info: 517it [15:17,  1.21s/it]"
     ]
    },
    {
     "name": "stdout",
     "output_type": "stream",
     "text": [
      "Found 1 word(s) missing in the model. Weighted missing percentage not covered by the given model is 0.54%.\n"
     ]
    },
    {
     "name": "stderr",
     "output_type": "stream",
     "text": [
      "\r",
      "collecting matches info: 518it [15:20,  1.52s/it]"
     ]
    },
    {
     "name": "stdout",
     "output_type": "stream",
     "text": [
      "Found 1 word(s) missing in the model. Weighted missing percentage not covered by the given model is 0.57%.\n"
     ]
    },
    {
     "name": "stderr",
     "output_type": "stream",
     "text": [
      "collecting matches info: 526it [15:30,  1.30s/it]"
     ]
    },
    {
     "name": "stdout",
     "output_type": "stream",
     "text": [
      "Found 4 word(s) missing in the model. Weighted missing percentage not covered by the given model is 2.23%.\n"
     ]
    },
    {
     "name": "stderr",
     "output_type": "stream",
     "text": [
      "collecting matches info: 528it [15:32,  1.16s/it]"
     ]
    },
    {
     "name": "stdout",
     "output_type": "stream",
     "text": [
      "Found 3 word(s) missing in the model. Weighted missing percentage not covered by the given model is 1.24%.\n"
     ]
    },
    {
     "name": "stderr",
     "output_type": "stream",
     "text": [
      "collecting matches info: 640it [18:56,  3.08s/it]"
     ]
    },
    {
     "name": "stdout",
     "output_type": "stream",
     "text": [
      "Found 1 word(s) missing in the model. Weighted missing percentage not covered by the given model is 0.81%.\n"
     ]
    },
    {
     "name": "stderr",
     "output_type": "stream",
     "text": [
      "collecting matches info: 655it [19:21,  1.49s/it]"
     ]
    },
    {
     "name": "stdout",
     "output_type": "stream",
     "text": [
      "Found 2 word(s) missing in the model. Weighted missing percentage not covered by the given model is 7.69%.\n"
     ]
    },
    {
     "name": "stderr",
     "output_type": "stream",
     "text": [
      "collecting matches info: 658it [19:27,  1.86s/it]"
     ]
    },
    {
     "name": "stdout",
     "output_type": "stream",
     "text": [
      "Found 4 word(s) missing in the model. Weighted missing percentage not covered by the given model is 1.24%.\n"
     ]
    },
    {
     "name": "stderr",
     "output_type": "stream",
     "text": [
      "collecting matches info: 662it [19:34,  1.70s/it]"
     ]
    },
    {
     "name": "stdout",
     "output_type": "stream",
     "text": [
      "Found 3 word(s) missing in the model. Weighted missing percentage not covered by the given model is 1.04%.\n"
     ]
    },
    {
     "name": "stderr",
     "output_type": "stream",
     "text": [
      "collecting matches info: 668it [19:44,  1.42s/it]"
     ]
    },
    {
     "name": "stdout",
     "output_type": "stream",
     "text": [
      "Found 1 word(s) missing in the model. Weighted missing percentage not covered by the given model is 0.79%.\n"
     ]
    },
    {
     "name": "stderr",
     "output_type": "stream",
     "text": [
      "collecting matches info: 680it [19:57,  1.01it/s]"
     ]
    },
    {
     "name": "stdout",
     "output_type": "stream",
     "text": [
      "Found 1 word(s) missing in the model. Weighted missing percentage not covered by the given model is 2.50%.\n"
     ]
    },
    {
     "name": "stderr",
     "output_type": "stream",
     "text": [
      "collecting matches info: 692it [20:07,  1.13it/s]"
     ]
    },
    {
     "name": "stdout",
     "output_type": "stream",
     "text": [
      "Found 1 word(s) missing in the model. Weighted missing percentage not covered by the given model is 0.65%.\n"
     ]
    },
    {
     "name": "stderr",
     "output_type": "stream",
     "text": [
      "collecting matches info: 703it [20:17,  1.12it/s]"
     ]
    },
    {
     "name": "stdout",
     "output_type": "stream",
     "text": [
      "Found 2 word(s) missing in the model. Weighted missing percentage not covered by the given model is 1.23%.\n"
     ]
    },
    {
     "name": "stderr",
     "output_type": "stream",
     "text": [
      "collecting matches info: 707it [20:20,  1.32it/s]"
     ]
    },
    {
     "name": "stdout",
     "output_type": "stream",
     "text": [
      "Found 2 word(s) missing in the model. Weighted missing percentage not covered by the given model is 1.33%.\n"
     ]
    },
    {
     "name": "stderr",
     "output_type": "stream",
     "text": [
      "\r",
      "collecting matches info: 708it [20:21,  1.36it/s]"
     ]
    },
    {
     "name": "stdout",
     "output_type": "stream",
     "text": [
      "Found 3 word(s) missing in the model. Weighted missing percentage not covered by the given model is 2.07%.\n"
     ]
    },
    {
     "name": "stderr",
     "output_type": "stream",
     "text": [
      "collecting matches info: 722it [20:34,  1.07it/s]"
     ]
    },
    {
     "name": "stdout",
     "output_type": "stream",
     "text": [
      "Found 1 word(s) missing in the model. Weighted missing percentage not covered by the given model is 2.78%.\n"
     ]
    },
    {
     "name": "stderr",
     "output_type": "stream",
     "text": [
      "collecting matches info: 725it [20:37,  1.02it/s]"
     ]
    },
    {
     "name": "stdout",
     "output_type": "stream",
     "text": [
      "Found 1 word(s) missing in the model. Weighted missing percentage not covered by the given model is 0.60%.\n"
     ]
    },
    {
     "name": "stderr",
     "output_type": "stream",
     "text": [
      "collecting matches info: 727it [20:39,  1.01it/s]"
     ]
    },
    {
     "name": "stdout",
     "output_type": "stream",
     "text": [
      "Found 1 word(s) missing in the model. Weighted missing percentage not covered by the given model is 1.43%.\n"
     ]
    },
    {
     "name": "stderr",
     "output_type": "stream",
     "text": [
      "collecting matches info: 730it [20:41,  1.03it/s]"
     ]
    },
    {
     "name": "stdout",
     "output_type": "stream",
     "text": [
      "Found 2 word(s) missing in the model. Weighted missing percentage not covered by the given model is 0.90%.\n"
     ]
    },
    {
     "name": "stderr",
     "output_type": "stream",
     "text": [
      "collecting matches info: 740it [20:51,  1.10s/it]"
     ]
    },
    {
     "name": "stdout",
     "output_type": "stream",
     "text": [
      "Found 1 word(s) missing in the model. Weighted missing percentage not covered by the given model is 1.56%.\n"
     ]
    },
    {
     "name": "stderr",
     "output_type": "stream",
     "text": [
      "collecting matches info: 773it [21:17,  1.31it/s]"
     ]
    },
    {
     "name": "stdout",
     "output_type": "stream",
     "text": [
      "Found 5 word(s) missing in the model. Weighted missing percentage not covered by the given model is 2.02%.\n"
     ]
    },
    {
     "name": "stderr",
     "output_type": "stream",
     "text": [
      "collecting matches info: 797it [21:32,  2.34it/s]"
     ]
    },
    {
     "name": "stdout",
     "output_type": "stream",
     "text": [
      "Found 3 word(s) missing in the model. Weighted missing percentage not covered by the given model is 0.89%.\n"
     ]
    },
    {
     "name": "stderr",
     "output_type": "stream",
     "text": [
      "\r",
      "collecting matches info: 798it [21:32,  1.77it/s]"
     ]
    },
    {
     "name": "stdout",
     "output_type": "stream",
     "text": [
      "Found 1 word(s) missing in the model. Weighted missing percentage not covered by the given model is 0.40%.\n"
     ]
    },
    {
     "name": "stderr",
     "output_type": "stream",
     "text": [
      "collecting matches info: 802it [21:36,  1.03s/it]"
     ]
    },
    {
     "name": "stdout",
     "output_type": "stream",
     "text": [
      "Found 9 word(s) missing in the model. Weighted missing percentage not covered by the given model is 1.67%.\n"
     ]
    },
    {
     "name": "stderr",
     "output_type": "stream",
     "text": [
      "collecting matches info: 804it [21:40,  1.36s/it]"
     ]
    },
    {
     "name": "stdout",
     "output_type": "stream",
     "text": [
      "Found 1 word(s) missing in the model. Weighted missing percentage not covered by the given model is 0.35%.\n"
     ]
    },
    {
     "name": "stderr",
     "output_type": "stream",
     "text": [
      "collecting matches info: 808it [21:43,  1.27it/s]"
     ]
    },
    {
     "name": "stdout",
     "output_type": "stream",
     "text": [
      "Found 1 word(s) missing in the model. Weighted missing percentage not covered by the given model is 0.93%.\n"
     ]
    },
    {
     "name": "stderr",
     "output_type": "stream",
     "text": [
      "\r",
      "collecting matches info: 809it [21:43,  1.40it/s]"
     ]
    },
    {
     "name": "stdout",
     "output_type": "stream",
     "text": [
      "Found 1 word(s) missing in the model. Weighted missing percentage not covered by the given model is 1.19%.\n"
     ]
    },
    {
     "name": "stderr",
     "output_type": "stream",
     "text": [
      "collecting matches info: 813it [21:45,  2.00it/s]"
     ]
    },
    {
     "name": "stdout",
     "output_type": "stream",
     "text": [
      "Found 1 word(s) missing in the model. Weighted missing percentage not covered by the given model is 0.99%.\n"
     ]
    },
    {
     "name": "stderr",
     "output_type": "stream",
     "text": [
      "collecting matches info: 815it [21:46,  1.70it/s]"
     ]
    },
    {
     "name": "stdout",
     "output_type": "stream",
     "text": [
      "Found 1 word(s) missing in the model. Weighted missing percentage not covered by the given model is 1.67%.\n"
     ]
    },
    {
     "name": "stderr",
     "output_type": "stream",
     "text": [
      "\r",
      "collecting matches info: 816it [21:48,  1.34it/s]"
     ]
    },
    {
     "name": "stdout",
     "output_type": "stream",
     "text": [
      "Found 1 word(s) missing in the model. Weighted missing percentage not covered by the given model is 2.04%.\n"
     ]
    },
    {
     "name": "stderr",
     "output_type": "stream",
     "text": [
      "collecting matches info: 821it [21:49,  2.68it/s]"
     ]
    },
    {
     "name": "stdout",
     "output_type": "stream",
     "text": [
      "Found 2 word(s) missing in the model. Weighted missing percentage not covered by the given model is 1.29%.\n"
     ]
    },
    {
     "name": "stderr",
     "output_type": "stream",
     "text": [
      "collecting matches info: 826it [21:51,  3.24it/s]"
     ]
    },
    {
     "name": "stdout",
     "output_type": "stream",
     "text": [
      "Found 1 word(s) missing in the model. Weighted missing percentage not covered by the given model is 0.29%.\n"
     ]
    },
    {
     "name": "stderr",
     "output_type": "stream",
     "text": [
      "collecting matches info: 835it [21:55,  2.13it/s]"
     ]
    },
    {
     "name": "stdout",
     "output_type": "stream",
     "text": [
      "Found 1 word(s) missing in the model. Weighted missing percentage not covered by the given model is 0.74%.\n"
     ]
    },
    {
     "name": "stderr",
     "output_type": "stream",
     "text": [
      "collecting matches info: 863it [22:25,  1.68s/it]"
     ]
    },
    {
     "name": "stdout",
     "output_type": "stream",
     "text": [
      "Found 1 word(s) missing in the model. Weighted missing percentage not covered by the given model is 1.20%.\n"
     ]
    },
    {
     "name": "stderr",
     "output_type": "stream",
     "text": [
      "collecting matches info: 869it [22:29,  1.17it/s]"
     ]
    },
    {
     "name": "stdout",
     "output_type": "stream",
     "text": [
      "Found 1 word(s) missing in the model. Weighted missing percentage not covered by the given model is 0.77%.\n"
     ]
    },
    {
     "name": "stderr",
     "output_type": "stream",
     "text": [
      "collecting matches info: 927it [23:41,  1.28s/it]"
     ]
    },
    {
     "name": "stdout",
     "output_type": "stream",
     "text": [
      "Found 5 word(s) missing in the model. Weighted missing percentage not covered by the given model is 5.10%.\n"
     ]
    },
    {
     "name": "stderr",
     "output_type": "stream",
     "text": [
      "collecting matches info: 950it [24:18,  1.56s/it]"
     ]
    },
    {
     "name": "stdout",
     "output_type": "stream",
     "text": [
      "Found 1 word(s) missing in the model. Weighted missing percentage not covered by the given model is 1.92%.\n"
     ]
    },
    {
     "name": "stderr",
     "output_type": "stream",
     "text": [
      "collecting matches info: 982it [25:03,  1.47s/it]"
     ]
    },
    {
     "name": "stdout",
     "output_type": "stream",
     "text": [
      "Found 2 word(s) missing in the model. Weighted missing percentage not covered by the given model is 2.02%.\n"
     ]
    },
    {
     "name": "stderr",
     "output_type": "stream",
     "text": [
      "collecting matches info: 1000it [25:32,  1.76s/it]"
     ]
    },
    {
     "name": "stdout",
     "output_type": "stream",
     "text": [
      "Found 1 word(s) missing in the model. Weighted missing percentage not covered by the given model is 2.17%.\n"
     ]
    },
    {
     "name": "stderr",
     "output_type": "stream",
     "text": [
      "collecting matches info: 1017it [25:58,  1.86s/it]"
     ]
    },
    {
     "name": "stdout",
     "output_type": "stream",
     "text": [
      "Found 1 word(s) missing in the model. Weighted missing percentage not covered by the given model is 1.54%.\n"
     ]
    },
    {
     "name": "stderr",
     "output_type": "stream",
     "text": [
      "collecting matches info: 1085it [28:20,  1.39s/it]"
     ]
    },
    {
     "name": "stdout",
     "output_type": "stream",
     "text": [
      "Found 1 word(s) missing in the model. Weighted missing percentage not covered by the given model is 2.22%.\n"
     ]
    },
    {
     "name": "stderr",
     "output_type": "stream",
     "text": [
      "collecting matches info: 1090it [28:27,  1.40s/it]"
     ]
    },
    {
     "name": "stdout",
     "output_type": "stream",
     "text": [
      "Found 2 word(s) missing in the model. Weighted missing percentage not covered by the given model is 3.39%.\n"
     ]
    },
    {
     "name": "stderr",
     "output_type": "stream",
     "text": [
      "\r",
      "collecting matches info: 1091it [28:28,  1.28s/it]"
     ]
    },
    {
     "name": "stdout",
     "output_type": "stream",
     "text": [
      "Found 1 word(s) missing in the model. Weighted missing percentage not covered by the given model is 1.59%.\n"
     ]
    },
    {
     "name": "stderr",
     "output_type": "stream",
     "text": [
      "collecting matches info: 1106it [28:50,  1.19s/it]"
     ]
    },
    {
     "name": "stdout",
     "output_type": "stream",
     "text": [
      "Found 1 word(s) missing in the model. Weighted missing percentage not covered by the given model is 6.67%.\n"
     ]
    },
    {
     "name": "stderr",
     "output_type": "stream",
     "text": [
      "collecting matches info: 1120it [29:08,  1.26s/it]"
     ]
    },
    {
     "name": "stdout",
     "output_type": "stream",
     "text": [
      "Found 1 word(s) missing in the model. Weighted missing percentage not covered by the given model is 1.19%.\n"
     ]
    },
    {
     "name": "stderr",
     "output_type": "stream",
     "text": [
      "collecting matches info: 1152it [29:46,  1.15s/it]"
     ]
    },
    {
     "name": "stdout",
     "output_type": "stream",
     "text": [
      "Found 1 word(s) missing in the model. Weighted missing percentage not covered by the given model is 4.17%.\n"
     ]
    },
    {
     "name": "stderr",
     "output_type": "stream",
     "text": [
      "\r",
      "collecting matches info: 1153it [29:47,  1.17s/it]"
     ]
    },
    {
     "name": "stdout",
     "output_type": "stream",
     "text": [
      "Found 1 word(s) missing in the model. Weighted missing percentage not covered by the given model is 5.26%.\n"
     ]
    },
    {
     "name": "stderr",
     "output_type": "stream",
     "text": [
      "collecting matches info: 1188it [30:34,  1.52s/it]"
     ]
    },
    {
     "name": "stdout",
     "output_type": "stream",
     "text": [
      "Found 1 word(s) missing in the model. Weighted missing percentage not covered by the given model is 0.90%.\n"
     ]
    },
    {
     "name": "stderr",
     "output_type": "stream",
     "text": [
      "collecting matches info: 1202it [31:07,  2.63s/it]"
     ]
    },
    {
     "name": "stdout",
     "output_type": "stream",
     "text": [
      "Found 5 word(s) missing in the model. Weighted missing percentage not covered by the given model is 3.85%.\n"
     ]
    },
    {
     "name": "stderr",
     "output_type": "stream",
     "text": [
      "collecting matches info: 1205it [31:15,  2.74s/it]"
     ]
    },
    {
     "name": "stdout",
     "output_type": "stream",
     "text": [
      "Found 2 word(s) missing in the model. Weighted missing percentage not covered by the given model is 3.92%.\n"
     ]
    },
    {
     "name": "stderr",
     "output_type": "stream",
     "text": [
      "collecting matches info: 1211it [31:43,  3.54s/it]"
     ]
    },
    {
     "name": "stdout",
     "output_type": "stream",
     "text": [
      "Found 1 word(s) missing in the model. Weighted missing percentage not covered by the given model is 2.27%.\n"
     ]
    },
    {
     "name": "stderr",
     "output_type": "stream",
     "text": [
      "\r",
      "collecting matches info: 1212it [31:46,  3.52s/it]"
     ]
    },
    {
     "name": "stdout",
     "output_type": "stream",
     "text": [
      "Found 1 word(s) missing in the model. Weighted missing percentage not covered by the given model is 3.33%.\n"
     ]
    },
    {
     "name": "stderr",
     "output_type": "stream",
     "text": [
      "\r",
      "collecting matches info: 1213it [31:49,  3.24s/it]"
     ]
    },
    {
     "name": "stdout",
     "output_type": "stream",
     "text": [
      "Found 1 word(s) missing in the model. Weighted missing percentage not covered by the given model is 0.75%.\n"
     ]
    },
    {
     "name": "stderr",
     "output_type": "stream",
     "text": [
      "collecting matches info: 1310it [35:17,  1.95s/it]"
     ]
    },
    {
     "name": "stdout",
     "output_type": "stream",
     "text": [
      "Found 1 word(s) missing in the model. Weighted missing percentage not covered by the given model is 1.20%.\n"
     ]
    },
    {
     "name": "stderr",
     "output_type": "stream",
     "text": [
      "collecting matches info: 1350it [37:39,  2.75s/it]"
     ]
    },
    {
     "name": "stdout",
     "output_type": "stream",
     "text": [
      "Found 1 word(s) missing in the model. Weighted missing percentage not covered by the given model is 4.76%.\n"
     ]
    },
    {
     "name": "stderr",
     "output_type": "stream",
     "text": [
      "collecting matches info: 1430it [41:01,  4.28s/it]"
     ]
    },
    {
     "name": "stdout",
     "output_type": "stream",
     "text": [
      "Found 1 word(s) missing in the model. Weighted missing percentage not covered by the given model is 1.61%.\n"
     ]
    },
    {
     "name": "stderr",
     "output_type": "stream",
     "text": [
      "collecting matches info: 1440it [41:45,  4.19s/it]"
     ]
    },
    {
     "name": "stdout",
     "output_type": "stream",
     "text": [
      "Found 1 word(s) missing in the model. Weighted missing percentage not covered by the given model is 4.55%.\n"
     ]
    },
    {
     "name": "stderr",
     "output_type": "stream",
     "text": [
      "collecting matches info: 1476it [43:05,  2.01s/it]"
     ]
    },
    {
     "name": "stdout",
     "output_type": "stream",
     "text": [
      "Found 1 word(s) missing in the model. Weighted missing percentage not covered by the given model is 5.00%.\n"
     ]
    },
    {
     "name": "stderr",
     "output_type": "stream",
     "text": [
      "collecting matches info: 1487it [43:25,  1.57s/it]"
     ]
    },
    {
     "name": "stdout",
     "output_type": "stream",
     "text": [
      "Found 1 word(s) missing in the model. Weighted missing percentage not covered by the given model is 0.96%.\n"
     ]
    },
    {
     "name": "stderr",
     "output_type": "stream",
     "text": [
      "collecting matches info: 1493it [43:37,  2.07s/it]"
     ]
    },
    {
     "name": "stdout",
     "output_type": "stream",
     "text": [
      "Found 4 word(s) missing in the model. Weighted missing percentage not covered by the given model is 2.48%.\n"
     ]
    },
    {
     "name": "stderr",
     "output_type": "stream",
     "text": [
      "collecting matches info: 1513it [44:16,  1.94s/it]"
     ]
    },
    {
     "name": "stdout",
     "output_type": "stream",
     "text": [
      "Found 2 word(s) missing in the model. Weighted missing percentage not covered by the given model is 2.06%.\n"
     ]
    },
    {
     "name": "stderr",
     "output_type": "stream",
     "text": [
      "\r",
      "collecting matches info: 1514it [44:18,  1.92s/it]"
     ]
    },
    {
     "name": "stdout",
     "output_type": "stream",
     "text": [
      "Found 1 word(s) missing in the model. Weighted missing percentage not covered by the given model is 2.44%.\n"
     ]
    },
    {
     "name": "stderr",
     "output_type": "stream",
     "text": [
      "collecting matches info: 1522it [44:37,  2.39s/it]"
     ]
    },
    {
     "name": "stdout",
     "output_type": "stream",
     "text": [
      "Found 1 word(s) missing in the model. Weighted missing percentage not covered by the given model is 2.63%.\n"
     ]
    },
    {
     "name": "stderr",
     "output_type": "stream",
     "text": [
      "collecting matches info: 1567it [46:57,  2.58s/it]"
     ]
    },
    {
     "name": "stdout",
     "output_type": "stream",
     "text": [
      "Found 1 word(s) missing in the model. Weighted missing percentage not covered by the given model is 2.56%.\n"
     ]
    },
    {
     "name": "stderr",
     "output_type": "stream",
     "text": [
      "collecting matches info: 1593it [47:46,  1.68s/it]"
     ]
    },
    {
     "name": "stdout",
     "output_type": "stream",
     "text": [
      "Found 1 word(s) missing in the model. Weighted missing percentage not covered by the given model is 6.25%.\n"
     ]
    },
    {
     "name": "stderr",
     "output_type": "stream",
     "text": [
      "collecting matches info: 1630it [48:52,  1.99s/it]"
     ]
    },
    {
     "name": "stdout",
     "output_type": "stream",
     "text": [
      "Found 1 word(s) missing in the model. Weighted missing percentage not covered by the given model is 7.14%.\n"
     ]
    },
    {
     "name": "stderr",
     "output_type": "stream",
     "text": [
      "collecting matches info: 1684it [51:33,  2.59s/it]"
     ]
    },
    {
     "name": "stdout",
     "output_type": "stream",
     "text": [
      "Found 2 word(s) missing in the model. Weighted missing percentage not covered by the given model is 6.45%.\n"
     ]
    },
    {
     "name": "stderr",
     "output_type": "stream",
     "text": [
      "collecting matches info: 1702it [52:10,  1.77s/it]"
     ]
    },
    {
     "name": "stdout",
     "output_type": "stream",
     "text": [
      "Found 1 word(s) missing in the model. Weighted missing percentage not covered by the given model is 2.44%.\n"
     ]
    },
    {
     "name": "stderr",
     "output_type": "stream",
     "text": [
      "collecting matches info: 1711it [52:25,  1.89s/it]"
     ]
    },
    {
     "name": "stdout",
     "output_type": "stream",
     "text": [
      "Found 2 word(s) missing in the model. Weighted missing percentage not covered by the given model is 15.38%.\n"
     ]
    },
    {
     "name": "stderr",
     "output_type": "stream",
     "text": [
      "collecting matches info: 1726it [52:53,  1.94s/it]"
     ]
    },
    {
     "name": "stdout",
     "output_type": "stream",
     "text": [
      "Found 1 word(s) missing in the model. Weighted missing percentage not covered by the given model is 5.26%.\n"
     ]
    },
    {
     "name": "stderr",
     "output_type": "stream",
     "text": [
      "collecting matches info: 1745it [53:32,  2.26s/it]"
     ]
    },
    {
     "name": "stdout",
     "output_type": "stream",
     "text": [
      "Found 2 word(s) missing in the model. Weighted missing percentage not covered by the given model is 28.57%.\n"
     ]
    },
    {
     "name": "stderr",
     "output_type": "stream",
     "text": [
      "collecting matches info: 1796it [56:04,  2.08s/it]"
     ]
    },
    {
     "name": "stdout",
     "output_type": "stream",
     "text": [
      "Found 1 word(s) missing in the model. Weighted missing percentage not covered by the given model is 11.11%.\n"
     ]
    },
    {
     "name": "stderr",
     "output_type": "stream",
     "text": [
      "collecting matches info: 1835it [57:26,  2.26s/it]"
     ]
    },
    {
     "name": "stdout",
     "output_type": "stream",
     "text": [
      "Found 1 word(s) missing in the model. Weighted missing percentage not covered by the given model is 25.00%.\n"
     ]
    },
    {
     "name": "stderr",
     "output_type": "stream",
     "text": [
      "\r",
      "collecting matches info: 1836it [57:28,  2.21s/it]"
     ]
    },
    {
     "name": "stdout",
     "output_type": "stream",
     "text": [
      "Found 1 word(s) missing in the model. Weighted missing percentage not covered by the given model is 20.00%.\n"
     ]
    },
    {
     "name": "stderr",
     "output_type": "stream",
     "text": [
      "collecting matches info: 1992it [1:03:33,  2.13s/it]"
     ]
    },
    {
     "name": "stdout",
     "output_type": "stream",
     "text": [
      "Found 2 word(s) missing in the model. Weighted missing percentage not covered by the given model is 6.06%.\n"
     ]
    },
    {
     "name": "stderr",
     "output_type": "stream",
     "text": [
      "collecting matches info: 1997it [1:03:44,  2.43s/it]"
     ]
    },
    {
     "name": "stdout",
     "output_type": "stream",
     "text": [
      "Found 1 word(s) missing in the model. Weighted missing percentage not covered by the given model is 2.78%.\n"
     ]
    },
    {
     "name": "stderr",
     "output_type": "stream",
     "text": [
      "collecting matches info: 2003it [1:04:00,  2.70s/it]"
     ]
    },
    {
     "name": "stdout",
     "output_type": "stream",
     "text": [
      "Found 8 word(s) missing in the model. Weighted missing percentage not covered by the given model is 4.71%.\n"
     ]
    },
    {
     "name": "stderr",
     "output_type": "stream",
     "text": [
      "collecting matches info: 2005it [1:04:06,  2.74s/it]"
     ]
    },
    {
     "name": "stdout",
     "output_type": "stream",
     "text": [
      "Found 3 word(s) missing in the model. Weighted missing percentage not covered by the given model is 2.27%.\n"
     ]
    },
    {
     "name": "stderr",
     "output_type": "stream",
     "text": [
      "\r",
      "collecting matches info: 2006it [1:04:08,  2.60s/it]"
     ]
    },
    {
     "name": "stdout",
     "output_type": "stream",
     "text": [
      "Found 1 word(s) missing in the model. Weighted missing percentage not covered by the given model is 0.61%.\n"
     ]
    },
    {
     "name": "stderr",
     "output_type": "stream",
     "text": [
      "collecting matches info: 2011it [1:04:23,  2.86s/it]"
     ]
    },
    {
     "name": "stdout",
     "output_type": "stream",
     "text": [
      "Found 9 word(s) missing in the model. Weighted missing percentage not covered by the given model is 2.68%.\n"
     ]
    },
    {
     "name": "stderr",
     "output_type": "stream",
     "text": [
      "collecting matches info: 2013it [1:04:28,  2.86s/it]"
     ]
    },
    {
     "name": "stdout",
     "output_type": "stream",
     "text": [
      "Found 4 word(s) missing in the model. Weighted missing percentage not covered by the given model is 1.78%.\n"
     ]
    },
    {
     "name": "stderr",
     "output_type": "stream",
     "text": [
      "collecting matches info: 2023it [1:05:07,  4.10s/it]"
     ]
    },
    {
     "name": "stdout",
     "output_type": "stream",
     "text": [
      "Found 10 word(s) missing in the model. Weighted missing percentage not covered by the given model is 2.90%.\n"
     ]
    },
    {
     "name": "stderr",
     "output_type": "stream",
     "text": [
      "\r",
      "collecting matches info: 2024it [1:05:11,  3.82s/it]"
     ]
    },
    {
     "name": "stdout",
     "output_type": "stream",
     "text": [
      "Found 2 word(s) missing in the model. Weighted missing percentage not covered by the given model is 0.61%.\n"
     ]
    },
    {
     "name": "stderr",
     "output_type": "stream",
     "text": [
      "\r",
      "collecting matches info: 2025it [1:05:15,  3.89s/it]"
     ]
    },
    {
     "name": "stdout",
     "output_type": "stream",
     "text": [
      "Found 1 word(s) missing in the model. Weighted missing percentage not covered by the given model is 3.45%.\n"
     ]
    },
    {
     "name": "stderr",
     "output_type": "stream",
     "text": [
      "\r",
      "collecting matches info: 2026it [1:05:17,  3.52s/it]"
     ]
    },
    {
     "name": "stdout",
     "output_type": "stream",
     "text": [
      "Found 2 word(s) missing in the model. Weighted missing percentage not covered by the given model is 2.15%.\n"
     ]
    },
    {
     "name": "stderr",
     "output_type": "stream",
     "text": [
      "collecting matches info: 2142it [1:09:29,  3.04s/it]"
     ]
    },
    {
     "name": "stdout",
     "output_type": "stream",
     "text": [
      "Found 1 word(s) missing in the model. Weighted missing percentage not covered by the given model is 3.33%.\n"
     ]
    },
    {
     "name": "stderr",
     "output_type": "stream",
     "text": [
      "collecting matches info: 2202it [1:11:43,  1.46s/it]"
     ]
    },
    {
     "name": "stdout",
     "output_type": "stream",
     "text": [
      "Found 1 word(s) missing in the model. Weighted missing percentage not covered by the given model is 1.15%.\n"
     ]
    },
    {
     "name": "stderr",
     "output_type": "stream",
     "text": [
      "collecting matches info: 2558it [1:24:10,  3.80s/it]"
     ]
    },
    {
     "name": "stdout",
     "output_type": "stream",
     "text": [
      "Found 1 word(s) missing in the model. Weighted missing percentage not covered by the given model is 1.64%.\n"
     ]
    },
    {
     "name": "stderr",
     "output_type": "stream",
     "text": [
      "collecting matches info: 2592it [1:25:34,  1.88s/it]"
     ]
    },
    {
     "name": "stdout",
     "output_type": "stream",
     "text": [
      "Found 9 word(s) missing in the model. Weighted missing percentage not covered by the given model is 5.23%.\n"
     ]
    },
    {
     "name": "stderr",
     "output_type": "stream",
     "text": [
      "\r",
      "collecting matches info: 2593it [1:25:36,  1.78s/it]"
     ]
    },
    {
     "name": "stdout",
     "output_type": "stream",
     "text": [
      "Found 1 word(s) missing in the model. Weighted missing percentage not covered by the given model is 0.89%.\n"
     ]
    },
    {
     "name": "stderr",
     "output_type": "stream",
     "text": [
      "collecting matches info: 2617it [1:26:16,  1.58s/it]"
     ]
    },
    {
     "name": "stdout",
     "output_type": "stream",
     "text": [
      "Found 2 word(s) missing in the model. Weighted missing percentage not covered by the given model is 0.83%.\n"
     ]
    },
    {
     "name": "stderr",
     "output_type": "stream",
     "text": [
      "collecting matches info: 2620it [1:26:21,  1.50s/it]"
     ]
    },
    {
     "name": "stdout",
     "output_type": "stream",
     "text": [
      "Found 1 word(s) missing in the model. Weighted missing percentage not covered by the given model is 0.74%.\n"
     ]
    },
    {
     "name": "stderr",
     "output_type": "stream",
     "text": [
      "collecting matches info: 2639it [1:26:42,  1.06it/s]"
     ]
    },
    {
     "name": "stdout",
     "output_type": "stream",
     "text": [
      "Found 2 word(s) missing in the model. Weighted missing percentage not covered by the given model is 0.82%.\n"
     ]
    },
    {
     "name": "stderr",
     "output_type": "stream",
     "text": [
      "collecting matches info: 2644it [1:26:47,  1.10it/s]"
     ]
    },
    {
     "name": "stdout",
     "output_type": "stream",
     "text": [
      "Found 1 word(s) missing in the model. Weighted missing percentage not covered by the given model is 0.39%.\n"
     ]
    },
    {
     "name": "stderr",
     "output_type": "stream",
     "text": [
      "collecting matches info: 2646it [1:26:49,  1.09s/it]"
     ]
    },
    {
     "name": "stdout",
     "output_type": "stream",
     "text": [
      "Found 1 word(s) missing in the model. Weighted missing percentage not covered by the given model is 0.44%.\n"
     ]
    },
    {
     "name": "stderr",
     "output_type": "stream",
     "text": [
      "collecting matches info: 2674it [1:27:18,  1.20s/it]"
     ]
    },
    {
     "name": "stdout",
     "output_type": "stream",
     "text": [
      "Found 2 word(s) missing in the model. Weighted missing percentage not covered by the given model is 0.74%.\n"
     ]
    },
    {
     "name": "stderr",
     "output_type": "stream",
     "text": [
      "\r",
      "collecting matches info: 2675it [1:27:20,  1.33s/it]"
     ]
    },
    {
     "name": "stdout",
     "output_type": "stream",
     "text": [
      "Found 2 word(s) missing in the model. Weighted missing percentage not covered by the given model is 0.72%.\n"
     ]
    },
    {
     "name": "stderr",
     "output_type": "stream",
     "text": [
      "\r",
      "collecting matches info: 2676it [1:27:21,  1.37s/it]"
     ]
    },
    {
     "name": "stdout",
     "output_type": "stream",
     "text": [
      "Found 2 word(s) missing in the model. Weighted missing percentage not covered by the given model is 0.70%.\n"
     ]
    },
    {
     "name": "stderr",
     "output_type": "stream",
     "text": [
      "collecting matches info: 2683it [1:27:30,  1.27s/it]"
     ]
    },
    {
     "name": "stdout",
     "output_type": "stream",
     "text": [
      "Found 1 word(s) missing in the model. Weighted missing percentage not covered by the given model is 0.25%.\n"
     ]
    },
    {
     "name": "stderr",
     "output_type": "stream",
     "text": [
      "collecting matches info: 2685it [1:27:33,  1.33s/it]"
     ]
    },
    {
     "name": "stdout",
     "output_type": "stream",
     "text": [
      "Found 3 word(s) missing in the model. Weighted missing percentage not covered by the given model is 1.71%.\n"
     ]
    },
    {
     "name": "stderr",
     "output_type": "stream",
     "text": [
      "collecting matches info: 2702it [1:27:54,  1.27s/it]"
     ]
    },
    {
     "name": "stdout",
     "output_type": "stream",
     "text": [
      "Found 1 word(s) missing in the model. Weighted missing percentage not covered by the given model is 0.40%.\n"
     ]
    },
    {
     "name": "stderr",
     "output_type": "stream",
     "text": [
      "collecting matches info: 2704it [1:27:57,  1.50s/it]"
     ]
    },
    {
     "name": "stdout",
     "output_type": "stream",
     "text": [
      "Found 1 word(s) missing in the model. Weighted missing percentage not covered by the given model is 0.32%.\n"
     ]
    },
    {
     "name": "stderr",
     "output_type": "stream",
     "text": [
      "\r",
      "collecting matches info: 2705it [1:27:58,  1.49s/it]"
     ]
    },
    {
     "name": "stdout",
     "output_type": "stream",
     "text": [
      "Found 1 word(s) missing in the model. Weighted missing percentage not covered by the given model is 0.85%.\n"
     ]
    },
    {
     "name": "stderr",
     "output_type": "stream",
     "text": [
      "\r",
      "collecting matches info: 2706it [1:28:00,  1.38s/it]"
     ]
    },
    {
     "name": "stdout",
     "output_type": "stream",
     "text": [
      "Found 1 word(s) missing in the model. Weighted missing percentage not covered by the given model is 0.28%.\n"
     ]
    },
    {
     "name": "stderr",
     "output_type": "stream",
     "text": [
      "collecting matches info: 2712it [1:28:08,  1.39s/it]"
     ]
    },
    {
     "name": "stdout",
     "output_type": "stream",
     "text": [
      "Found 1 word(s) missing in the model. Weighted missing percentage not covered by the given model is 0.34%.\n"
     ]
    },
    {
     "name": "stderr",
     "output_type": "stream",
     "text": [
      "collecting matches info: 2714it [1:28:11,  1.55s/it]"
     ]
    },
    {
     "name": "stdout",
     "output_type": "stream",
     "text": [
      "Found 1 word(s) missing in the model. Weighted missing percentage not covered by the given model is 0.37%.\n"
     ]
    },
    {
     "name": "stderr",
     "output_type": "stream",
     "text": [
      "collecting matches info: 2716it [1:28:15,  1.64s/it]"
     ]
    },
    {
     "name": "stdout",
     "output_type": "stream",
     "text": [
      "Found 1 word(s) missing in the model. Weighted missing percentage not covered by the given model is 0.36%.\n"
     ]
    },
    {
     "name": "stderr",
     "output_type": "stream",
     "text": [
      "collecting matches info: 2739it [1:28:53,  2.17s/it]"
     ]
    },
    {
     "name": "stdout",
     "output_type": "stream",
     "text": [
      "Found 2 word(s) missing in the model. Weighted missing percentage not covered by the given model is 0.75%.\n"
     ]
    },
    {
     "name": "stderr",
     "output_type": "stream",
     "text": [
      "collecting matches info: 2743it [1:29:01,  1.92s/it]"
     ]
    },
    {
     "name": "stdout",
     "output_type": "stream",
     "text": [
      "Found 1 word(s) missing in the model. Weighted missing percentage not covered by the given model is 0.35%.\n"
     ]
    },
    {
     "name": "stderr",
     "output_type": "stream",
     "text": [
      "collecting matches info: 2747it [1:29:07,  1.57s/it]"
     ]
    },
    {
     "name": "stdout",
     "output_type": "stream",
     "text": [
      "Found 1 word(s) missing in the model. Weighted missing percentage not covered by the given model is 0.39%.\n"
     ]
    },
    {
     "name": "stderr",
     "output_type": "stream",
     "text": [
      "collecting matches info: 2756it [1:29:20,  1.46s/it]"
     ]
    },
    {
     "name": "stdout",
     "output_type": "stream",
     "text": [
      "Found 2 word(s) missing in the model. Weighted missing percentage not covered by the given model is 0.82%.\n"
     ]
    },
    {
     "name": "stderr",
     "output_type": "stream",
     "text": [
      "collecting matches info: 2779it [1:29:51,  1.08s/it]"
     ]
    },
    {
     "name": "stdout",
     "output_type": "stream",
     "text": [
      "Found 1 word(s) missing in the model. Weighted missing percentage not covered by the given model is 0.43%.\n"
     ]
    },
    {
     "name": "stderr",
     "output_type": "stream",
     "text": [
      "collecting matches info: 2786it [1:30:00,  1.23s/it]"
     ]
    },
    {
     "name": "stdout",
     "output_type": "stream",
     "text": [
      "Found 1 word(s) missing in the model. Weighted missing percentage not covered by the given model is 0.39%.\n"
     ]
    },
    {
     "name": "stderr",
     "output_type": "stream",
     "text": [
      "\r",
      "collecting matches info: 2787it [1:30:01,  1.18s/it]"
     ]
    },
    {
     "name": "stdout",
     "output_type": "stream",
     "text": [
      "Found 1 word(s) missing in the model. Weighted missing percentage not covered by the given model is 0.85%.\n"
     ]
    },
    {
     "name": "stderr",
     "output_type": "stream",
     "text": [
      "\r",
      "collecting matches info: 2788it [1:30:02,  1.10s/it]"
     ]
    },
    {
     "name": "stdout",
     "output_type": "stream",
     "text": [
      "Found 1 word(s) missing in the model. Weighted missing percentage not covered by the given model is 0.96%.\n"
     ]
    },
    {
     "name": "stderr",
     "output_type": "stream",
     "text": [
      "collecting matches info: 2802it [1:30:17,  1.01s/it]"
     ]
    },
    {
     "name": "stdout",
     "output_type": "stream",
     "text": [
      "Found 1 word(s) missing in the model. Weighted missing percentage not covered by the given model is 0.39%.\n"
     ]
    },
    {
     "name": "stderr",
     "output_type": "stream",
     "text": [
      "\r",
      "collecting matches info: 2803it [1:30:18,  1.08s/it]"
     ]
    },
    {
     "name": "stdout",
     "output_type": "stream",
     "text": [
      "Found 1 word(s) missing in the model. Weighted missing percentage not covered by the given model is 0.28%.\n"
     ]
    },
    {
     "name": "stderr",
     "output_type": "stream",
     "text": [
      "collecting matches info: 2815it [1:30:29,  1.06it/s]"
     ]
    },
    {
     "name": "stdout",
     "output_type": "stream",
     "text": [
      "Found 1 word(s) missing in the model. Weighted missing percentage not covered by the given model is 0.34%.\n"
     ]
    },
    {
     "name": "stderr",
     "output_type": "stream",
     "text": [
      "collecting matches info: 2819it [1:30:33,  1.05it/s]"
     ]
    },
    {
     "name": "stdout",
     "output_type": "stream",
     "text": [
      "Found 1 word(s) missing in the model. Weighted missing percentage not covered by the given model is 0.33%.\n"
     ]
    },
    {
     "name": "stderr",
     "output_type": "stream",
     "text": [
      "collecting matches info: 2823it [1:30:37,  1.10s/it]"
     ]
    },
    {
     "name": "stdout",
     "output_type": "stream",
     "text": [
      "Found 1 word(s) missing in the model. Weighted missing percentage not covered by the given model is 0.43%.\n"
     ]
    },
    {
     "name": "stderr",
     "output_type": "stream",
     "text": [
      "\r",
      "collecting matches info: 2824it [1:30:39,  1.23s/it]"
     ]
    },
    {
     "name": "stdout",
     "output_type": "stream",
     "text": [
      "Found 1 word(s) missing in the model. Weighted missing percentage not covered by the given model is 0.28%.\n"
     ]
    },
    {
     "name": "stderr",
     "output_type": "stream",
     "text": [
      "collecting matches info: 2827it [1:30:41,  1.02s/it]"
     ]
    },
    {
     "name": "stdout",
     "output_type": "stream",
     "text": [
      "Found 5 word(s) missing in the model. Weighted missing percentage not covered by the given model is 5.32%.\n"
     ]
    },
    {
     "name": "stderr",
     "output_type": "stream",
     "text": [
      "collecting matches info: 2851it [1:31:07,  1.07s/it]"
     ]
    },
    {
     "name": "stdout",
     "output_type": "stream",
     "text": [
      "Found 1 word(s) missing in the model. Weighted missing percentage not covered by the given model is 0.62%.\n"
     ]
    },
    {
     "name": "stderr",
     "output_type": "stream",
     "text": [
      "collecting matches info: 2856it [1:31:12,  1.15it/s]"
     ]
    },
    {
     "name": "stdout",
     "output_type": "stream",
     "text": [
      "Found 2 word(s) missing in the model. Weighted missing percentage not covered by the given model is 0.50%.\n"
     ]
    },
    {
     "name": "stderr",
     "output_type": "stream",
     "text": [
      "\r",
      "collecting matches info: 2857it [1:31:13,  1.01it/s]"
     ]
    },
    {
     "name": "stdout",
     "output_type": "stream",
     "text": [
      "Found 1 word(s) missing in the model. Weighted missing percentage not covered by the given model is 0.23%.\n"
     ]
    },
    {
     "name": "stderr",
     "output_type": "stream",
     "text": [
      "collecting matches info: 2873it [1:31:35,  1.26s/it]"
     ]
    },
    {
     "name": "stdout",
     "output_type": "stream",
     "text": [
      "Found 1 word(s) missing in the model. Weighted missing percentage not covered by the given model is 0.54%.\n"
     ]
    },
    {
     "name": "stderr",
     "output_type": "stream",
     "text": [
      "collecting matches info: 2914it [1:32:26,  1.60s/it]"
     ]
    },
    {
     "name": "stdout",
     "output_type": "stream",
     "text": [
      "Found 4 word(s) missing in the model. Weighted missing percentage not covered by the given model is 11.11%.\n"
     ]
    },
    {
     "name": "stderr",
     "output_type": "stream",
     "text": [
      "collecting matches info: 2965it [1:34:16,  1.31s/it]"
     ]
    },
    {
     "name": "stdout",
     "output_type": "stream",
     "text": [
      "Found 1 word(s) missing in the model. Weighted missing percentage not covered by the given model is 11.11%.\n"
     ]
    },
    {
     "name": "stderr",
     "output_type": "stream",
     "text": [
      "collecting matches info: 2971it [1:34:26,  1.76s/it]"
     ]
    },
    {
     "name": "stdout",
     "output_type": "stream",
     "text": [
      "Found 1 word(s) missing in the model. Weighted missing percentage not covered by the given model is 6.67%.\n"
     ]
    },
    {
     "name": "stderr",
     "output_type": "stream",
     "text": [
      "collecting matches info: 2973it [1:34:28,  1.57s/it]"
     ]
    },
    {
     "name": "stdout",
     "output_type": "stream",
     "text": [
      "Found 1 word(s) missing in the model. Weighted missing percentage not covered by the given model is 9.09%.\n"
     ]
    },
    {
     "name": "stderr",
     "output_type": "stream",
     "text": [
      "collecting matches info: 2976it [1:34:33,  1.56s/it]"
     ]
    },
    {
     "name": "stdout",
     "output_type": "stream",
     "text": [
      "Found 6 word(s) missing in the model. Weighted missing percentage not covered by the given model is 16.22%.\n"
     ]
    },
    {
     "name": "stderr",
     "output_type": "stream",
     "text": [
      "collecting matches info: 2989it [1:34:55,  1.80s/it]"
     ]
    },
    {
     "name": "stdout",
     "output_type": "stream",
     "text": [
      "Found 2 word(s) missing in the model. Weighted missing percentage not covered by the given model is 1.65%.\n"
     ]
    },
    {
     "name": "stderr",
     "output_type": "stream",
     "text": [
      "collecting matches info: 3000it [1:35:09,  1.90s/it]\n"
     ]
    }
   ],
   "source": [
    "results_3000 = ms2library.analog_search_return_results_tables(test_spectra_3000)"
   ]
  },
  {
   "cell_type": "code",
   "execution_count": 33,
   "id": "c9eff6b0",
   "metadata": {},
   "outputs": [],
   "source": [
    "pickle.dump(results_3000, open(os.path.join(path_data, \"test_3000_results.pickle\"), \"wb\"))"
   ]
  },
  {
   "cell_type": "code",
   "execution_count": 34,
   "id": "28c065dc",
   "metadata": {},
   "outputs": [
    {
     "data": {
      "text/html": [
       "<div>\n",
       "<style scoped>\n",
       "    .dataframe tbody tr th:only-of-type {\n",
       "        vertical-align: middle;\n",
       "    }\n",
       "\n",
       "    .dataframe tbody tr th {\n",
       "        vertical-align: top;\n",
       "    }\n",
       "\n",
       "    .dataframe thead th {\n",
       "        text-align: right;\n",
       "    }\n",
       "</style>\n",
       "<table border=\"1\" class=\"dataframe\">\n",
       "  <thead>\n",
       "    <tr style=\"text-align: right;\">\n",
       "      <th></th>\n",
       "      <th>inchikey</th>\n",
       "      <th>precursor_mz*0.001</th>\n",
       "      <th>mass_similarity</th>\n",
       "      <th>s2v_score</th>\n",
       "      <th>ms2ds_score</th>\n",
       "      <th>average_ms2ds_score_for_inchikey14</th>\n",
       "      <th>nr_of_spectra_with_same_inchikey14*0.01</th>\n",
       "      <th>chemical_neighbourhood_score</th>\n",
       "      <th>average_tanimoto_score_for_chemical_neighbourhood_score</th>\n",
       "      <th>nr_of_spectra_for_chemical_neighbourhood_score*0.01</th>\n",
       "      <th>ms2query_model_prediction</th>\n",
       "    </tr>\n",
       "    <tr>\n",
       "      <th>spectrum_ids</th>\n",
       "      <th></th>\n",
       "      <th></th>\n",
       "      <th></th>\n",
       "      <th></th>\n",
       "      <th></th>\n",
       "      <th></th>\n",
       "      <th></th>\n",
       "      <th></th>\n",
       "      <th></th>\n",
       "      <th></th>\n",
       "      <th></th>\n",
       "    </tr>\n",
       "  </thead>\n",
       "  <tbody>\n",
       "    <tr>\n",
       "      <th>CCMSLIB00006548462</th>\n",
       "      <td>DINQLGRRIYZCPG</td>\n",
       "      <td>0.923390</td>\n",
       "      <td>1.460113e-25</td>\n",
       "      <td>0.231648</td>\n",
       "      <td>0.814298</td>\n",
       "      <td>0.724864</td>\n",
       "      <td>0.58</td>\n",
       "      <td>0.705700</td>\n",
       "      <td>0.977712</td>\n",
       "      <td>4.51</td>\n",
       "      <td>0.633588</td>\n",
       "    </tr>\n",
       "    <tr>\n",
       "      <th>CCMSLIB00005716851</th>\n",
       "      <td>AKFVOKPQHFBYCA</td>\n",
       "      <td>1.649450</td>\n",
       "      <td>6.337272e-96</td>\n",
       "      <td>0.207011</td>\n",
       "      <td>0.841728</td>\n",
       "      <td>0.857065</td>\n",
       "      <td>0.02</td>\n",
       "      <td>0.801332</td>\n",
       "      <td>0.974016</td>\n",
       "      <td>0.14</td>\n",
       "      <td>0.633588</td>\n",
       "    </tr>\n",
       "    <tr>\n",
       "      <th>CCMSLIB00000853154</th>\n",
       "      <td>ZIAXNZCTODBCKW</td>\n",
       "      <td>0.701254</td>\n",
       "      <td>4.915742e-04</td>\n",
       "      <td>0.203499</td>\n",
       "      <td>0.817924</td>\n",
       "      <td>0.704630</td>\n",
       "      <td>0.14</td>\n",
       "      <td>0.733771</td>\n",
       "      <td>0.910282</td>\n",
       "      <td>0.25</td>\n",
       "      <td>0.633588</td>\n",
       "    </tr>\n",
       "    <tr>\n",
       "      <th>CCMSLIB00005716853</th>\n",
       "      <td>AKFVOKPQHFBYCA</td>\n",
       "      <td>0.824739</td>\n",
       "      <td>5.304642e-16</td>\n",
       "      <td>0.221536</td>\n",
       "      <td>0.872403</td>\n",
       "      <td>0.857065</td>\n",
       "      <td>0.02</td>\n",
       "      <td>0.801332</td>\n",
       "      <td>0.974016</td>\n",
       "      <td>0.14</td>\n",
       "      <td>0.633588</td>\n",
       "    </tr>\n",
       "    <tr>\n",
       "      <th>CCMSLIB00005716856</th>\n",
       "      <td>GZXVYCZTRLJOKW</td>\n",
       "      <td>0.817729</td>\n",
       "      <td>2.535101e-15</td>\n",
       "      <td>0.217097</td>\n",
       "      <td>0.805290</td>\n",
       "      <td>0.805290</td>\n",
       "      <td>0.01</td>\n",
       "      <td>0.801334</td>\n",
       "      <td>0.972322</td>\n",
       "      <td>0.14</td>\n",
       "      <td>0.633588</td>\n",
       "    </tr>\n",
       "  </tbody>\n",
       "</table>\n",
       "</div>"
      ],
      "text/plain": [
       "                          inchikey  precursor_mz*0.001  mass_similarity  \\\n",
       "spectrum_ids                                                              \n",
       "CCMSLIB00006548462  DINQLGRRIYZCPG            0.923390     1.460113e-25   \n",
       "CCMSLIB00005716851  AKFVOKPQHFBYCA            1.649450     6.337272e-96   \n",
       "CCMSLIB00000853154  ZIAXNZCTODBCKW            0.701254     4.915742e-04   \n",
       "CCMSLIB00005716853  AKFVOKPQHFBYCA            0.824739     5.304642e-16   \n",
       "CCMSLIB00005716856  GZXVYCZTRLJOKW            0.817729     2.535101e-15   \n",
       "\n",
       "                    s2v_score  ms2ds_score  \\\n",
       "spectrum_ids                                 \n",
       "CCMSLIB00006548462   0.231648     0.814298   \n",
       "CCMSLIB00005716851   0.207011     0.841728   \n",
       "CCMSLIB00000853154   0.203499     0.817924   \n",
       "CCMSLIB00005716853   0.221536     0.872403   \n",
       "CCMSLIB00005716856   0.217097     0.805290   \n",
       "\n",
       "                    average_ms2ds_score_for_inchikey14  \\\n",
       "spectrum_ids                                             \n",
       "CCMSLIB00006548462                            0.724864   \n",
       "CCMSLIB00005716851                            0.857065   \n",
       "CCMSLIB00000853154                            0.704630   \n",
       "CCMSLIB00005716853                            0.857065   \n",
       "CCMSLIB00005716856                            0.805290   \n",
       "\n",
       "                    nr_of_spectra_with_same_inchikey14*0.01  \\\n",
       "spectrum_ids                                                  \n",
       "CCMSLIB00006548462                                     0.58   \n",
       "CCMSLIB00005716851                                     0.02   \n",
       "CCMSLIB00000853154                                     0.14   \n",
       "CCMSLIB00005716853                                     0.02   \n",
       "CCMSLIB00005716856                                     0.01   \n",
       "\n",
       "                    chemical_neighbourhood_score  \\\n",
       "spectrum_ids                                       \n",
       "CCMSLIB00006548462                      0.705700   \n",
       "CCMSLIB00005716851                      0.801332   \n",
       "CCMSLIB00000853154                      0.733771   \n",
       "CCMSLIB00005716853                      0.801332   \n",
       "CCMSLIB00005716856                      0.801334   \n",
       "\n",
       "                    average_tanimoto_score_for_chemical_neighbourhood_score  \\\n",
       "spectrum_ids                                                                  \n",
       "CCMSLIB00006548462                                           0.977712         \n",
       "CCMSLIB00005716851                                           0.974016         \n",
       "CCMSLIB00000853154                                           0.910282         \n",
       "CCMSLIB00005716853                                           0.974016         \n",
       "CCMSLIB00005716856                                           0.972322         \n",
       "\n",
       "                    nr_of_spectra_for_chemical_neighbourhood_score*0.01  \\\n",
       "spectrum_ids                                                              \n",
       "CCMSLIB00006548462                                               4.51     \n",
       "CCMSLIB00005716851                                               0.14     \n",
       "CCMSLIB00000853154                                               0.25     \n",
       "CCMSLIB00005716853                                               0.14     \n",
       "CCMSLIB00005716856                                               0.14     \n",
       "\n",
       "                    ms2query_model_prediction  \n",
       "spectrum_ids                                   \n",
       "CCMSLIB00006548462                   0.633588  \n",
       "CCMSLIB00005716851                   0.633588  \n",
       "CCMSLIB00000853154                   0.633588  \n",
       "CCMSLIB00005716853                   0.633588  \n",
       "CCMSLIB00005716856                   0.633588  "
      ]
     },
     "execution_count": 34,
     "metadata": {},
     "output_type": "execute_result"
    }
   ],
   "source": [
    "results_3000[0].data.head()"
   ]
  },
  {
   "cell_type": "code",
   "execution_count": 35,
   "id": "b2ca65f0",
   "metadata": {},
   "outputs": [
    {
     "data": {
      "text/plain": [
       "(2000, 11)"
      ]
     },
     "execution_count": 35,
     "metadata": {},
     "output_type": "execute_result"
    }
   ],
   "source": [
    "results_3000[0].data.shape"
   ]
  },
  {
   "cell_type": "code",
   "execution_count": null,
   "id": "e880eb44",
   "metadata": {},
   "outputs": [],
   "source": [
    "results_3000 = load_pickled_file(os.path.join(path_data, \"test_3000_results.pickle\"))"
   ]
  },
  {
   "cell_type": "code",
   "execution_count": 36,
   "id": "40b6537e",
   "metadata": {},
   "outputs": [
    {
     "name": "stdout",
     "output_type": "stream",
     "text": [
      "3000\n"
     ]
    }
   ],
   "source": [
    "print(len(results_3000))"
   ]
  },
  {
   "cell_type": "code",
   "execution_count": 37,
   "id": "af160972",
   "metadata": {},
   "outputs": [],
   "source": [
    "from ms2query.query_from_sqlite_database import get_metadata_from_sqlite\n",
    "from tqdm.notebook import tqdm\n",
    "from matplotlib import pyplot as plt\n",
    "import numpy as np\n",
    "\n",
    "\n",
    "def select_best_match_and_calculate_tanimoto_score(\n",
    "        results_tables, tanimoto_scores_file, sqlite_file_location, select_on_MS2Query=True):\n",
    "    \"\"\"Returns a list with all the ms2query scores and tanimoto scores for the best matches\"\"\"\n",
    "\n",
    "    tanimoto_scores = load_pickled_file(tanimoto_scores_file)\n",
    "    ms2query_scores_and_tanimoto = []\n",
    "    for result_table in results_tables: \n",
    "        query_spectrum = result_table.query_spectrum\n",
    "        query_spectrum_id = query_spectrum.get(\"spectrumid\")\n",
    "        query_spectrum_inchikey = query_spectrum.get(\"inchikey\")[:14]\n",
    "\n",
    "        if select_on_MS2Query:\n",
    "            best_match = result_table.data.iloc[0]\n",
    "            best_match_score = best_match.loc[\"ms2query_model_prediction\"]\n",
    "            best_match_spectrum_id = best_match.name\n",
    "\n",
    "        else:\n",
    "            # Selection on highest MS2Deepscore\n",
    "            best_match_spectrum_id = result_table.data[\"ms2ds_score\"].idxmax()\n",
    "            best_match_score = result_table.data[\"ms2ds_score\"].max()\n",
    "        \n",
    "        best_match_inchikey = get_metadata_from_sqlite(\n",
    "            sqlite_file_location, [best_match_spectrum_id], \"spectrumid\")[best_match_spectrum_id][\"inchikey\"][:14]\n",
    "        tanimoto_score = tanimoto_scores.loc[best_match_inchikey, query_spectrum_inchikey]\n",
    "\n",
    "        ms2query_scores_and_tanimoto.append((best_match_score, tanimoto_score))\n",
    "    return ms2query_scores_and_tanimoto\n",
    "        \n",
    "\n",
    "def plot_tanimoto_score_distribution_for_ms2query_cut_offs(ms2query_scores_and_tanimoto, cut_offs, legend_title):\n",
    "    bins = np.linspace(0, 1, 11)\n",
    "\n",
    "    weight_to_convert_to_percentage = 100/len(ms2query_scores_and_tanimoto)\n",
    "\n",
    "    for cut_off in cut_offs:\n",
    "        selected_scores = [scores[1] for scores in ms2query_scores_and_tanimoto if scores[0] > cut_off]\n",
    "        print(\"percentage selected = \" + str(len(selected_scores)/len(ms2query_scores_and_tanimoto)*100))\n",
    "        weights = [weight_to_convert_to_percentage] * len(selected_scores)\n",
    "        \n",
    "        plt.hist(selected_scores, bins, label = f\"{cut_off:.2f}\", weights = weights, histtype = \"step\")\n",
    "    \n",
    "    plt.legend(loc = \"upper center\", title = legend_title, ncol = 3)\n",
    "    plt.xlabel(\"tanimoto_score\")\n",
    "    plt.ylabel(\"Percentage of matches (%)\")\n",
    "#     plt.ylim(0, 25)\n",
    "\n",
    "    plt.show\n",
    "\n",
    "def compare_tanimoto_score_distribution(ms2query_scores_and_tanimoto, ms2deepscore_scores_and_tanimoto, cut_off_ms2q, cut_off_ms2d):\n",
    "    bins = np.linspace(0, 1, 11)\n",
    "\n",
    "    \n",
    "    # Select scores for ms2query\n",
    "    selected_scores_ms2q = [scores[1] for scores in ms2query_scores_and_tanimoto if scores[0] > cut_off_ms2q]\n",
    "    ms2q_percentage_selected = len(selected_scores_ms2q)/len(ms2query_scores_and_tanimoto)*100\n",
    "    print(\"MS2query percentage found\")\n",
    "    print(ms2q_percentage_selected)\n",
    "    weight_to_convert_to_percentage = 100/len(ms2query_scores_and_tanimoto)\n",
    "    weights_ms2q = [weight_to_convert_to_percentage] * len(selected_scores_ms2q)\n",
    "\n",
    "    # Select scores for ms2ds\n",
    "    selected_scores_ms2d = [scores[1] for scores in ms2deepscore_scores_and_tanimoto if scores[0] > cut_off_ms2d]\n",
    "    ms2d_percentage_selected = len(selected_scores_ms2d)/len(ms2deepscore_scores_and_tanimoto)*100\n",
    "    print(\"MS2deepscore percentage found\")\n",
    "\n",
    "    print(ms2d_percentage_selected)\n",
    "    weight_to_convert_to_percentage = 100/len(ms2deepscore_scores_and_tanimoto)\n",
    "    weights_ms2d = [weight_to_convert_to_percentage] * len(selected_scores_ms2d)\n",
    "    \n",
    "    \n",
    "    plt.hist([selected_scores_ms2d, selected_scores_ms2q], bins, \n",
    "             label = [\"MS2Deepscore\", \"MS2Query\"], weights = [weights_ms2d, weights_ms2q])\n",
    "    \n",
    "    plt.legend(loc = \"upper center\", title = \"Select on:\")\n",
    "    plt.xlabel(\"tanimoto_score\")\n",
    "    plt.ylabel(\"Percentage of matches (%)\")\n",
    "#     plt.ylim(0, 15)\n",
    "\n",
    "    plt.show\n",
    "\n",
    "def plot_average_tanimoto_distribution(spectra, tanimoto_scores):\n",
    "    bins = np.linspace(0, 1, 11)\n",
    "\n",
    "    inchikeys = [spectrum.get(\"inchikey\")[:14] for spectrum in spectra]\n",
    "    unique_inchikeys = list(set(inchikeys))\n",
    "    \n",
    "    all_inchikeys = []\n",
    "    for row in tqdm(unique_inchikeys):\n",
    "        all_inchikeys += list(tanimoto_scores[row])\n",
    "        \n",
    "    weight_to_convert_to_percentage = 100/len(all_inchikeys)\n",
    "    \n",
    "    matches = []\n",
    "    \n",
    "#     weights = [weight_to_convert_to_percentage] * len(all_inchikeys)\n",
    "    plt.xlabel(\"tanimoto score\")\n",
    "    plt.ylabel(\"Percentage of matches (%)\")\n",
    "    plt.hist(all_inchikeys, bins = bins)\n",
    "#     plt.ylim(0,80)\n",
    "\n",
    "    plt.show()\n",
    "\n",
    "\n",
    "def plot_best_tanimoto_score_distribution(spectra, tanimoto_scores):\n",
    "    inchikeys = [spectrum.get(\"inchikey\")[:14] for spectrum in spectra]\n",
    "    unique_inchikeys = list(set(inchikeys))\n",
    "    \n",
    "    # remove unique inchikeys from rows\n",
    "    tanimoto_scores_removed = tanimoto_scores[~tanimoto_scores.index.isin(unique_inchikeys)]\n",
    "    highest_tanimoto_list = []\n",
    "    for inchikey in inchikeys:\n",
    "        highest_tanimoto_score = tanimoto_scores_removed[inchikey].max()\n",
    "        highest_tanimoto_list.append(highest_tanimoto_score)\n",
    "    \n",
    "    weight_to_convert_to_percentage = 100/len(spectra)\n",
    "    weights = [weight_to_convert_to_percentage] * len(highest_tanimoto_list)\n",
    "    \n",
    "    average_tanimoto = sum(highest_tanimoto_list)/len(inchikeys)\n",
    "    print(average_tanimoto)\n",
    "    plt.xlabel(\"tanimoto score\")\n",
    "    plt.ylabel(\"Percentage of matches (%)\")\n",
    "    plt.ylim(0,80)\n",
    "    \n",
    "    plt.hist(highest_tanimoto_list, weights = weights, bins = np.linspace(0, 1, 11))\n",
    "    plt.show()\n",
    "\n",
    "def avg_tanimoto_vs_percentage_found(selection_criteria_and_tanimoto, cut_off_maximum, steps, legend_label):\n",
    "    cut_offs = {}\n",
    "    percentages_found = []\n",
    "    average_tanimoto_score = []\n",
    "    for i in range(steps):\n",
    "        cut_off = cut_off_maximum/steps * i\n",
    "        selected_scores = [scores[1] for scores in selection_criteria_and_tanimoto if scores[0] > cut_off]\n",
    "        percentages_found.append(len(selected_scores)/len(selection_criteria_and_tanimoto)*100)\n",
    "        average_tanimoto_score.append(sum(selected_scores)/len(selected_scores))\n",
    "    plt.plot(percentages_found, average_tanimoto_score, label = legend_label)\n",
    "    plt.xlim(100,0)\n",
    "    plt.ylim(0, 1)\n",
    "    plt.xlabel(\"Percentage matches found\")\n",
    "    plt.ylabel(\"Average tanimoto score\")\n",
    "    plt.legend(loc = \"lower right\", title = \"Select on highest:\")\n",
    "    plt.show"
   ]
  },
  {
   "cell_type": "markdown",
   "id": "be486863",
   "metadata": {},
   "source": [
    "# Performance with match in library\n",
    "The test spectra are selected that have at least 1 spectra in the library that has the same inchikey. "
   ]
  },
  {
   "cell_type": "code",
   "execution_count": 38,
   "id": "1459b08b",
   "metadata": {},
   "outputs": [],
   "source": [
    "# Calculate tanimoto scores of found matches based on MS2Query\n",
    "ms2query_and_tanimoto = select_best_match_and_calculate_tanimoto_score(\n",
    "    results_3000, tanimoto_scores_df_file, sqlite_file)\n",
    "\n",
    "# Calculate tanimoto scores of found matches based on MS2Deepscore\n",
    "ms2ds_and_tanimoto = select_best_match_and_calculate_tanimoto_score(\n",
    "    results_3000, tanimoto_scores_df_file, sqlite_file, False)"
   ]
  },
  {
   "cell_type": "markdown",
   "id": "9e09f9a1",
   "metadata": {},
   "source": [
    "### Plot distribution in predicted MS2Query scores"
   ]
  },
  {
   "cell_type": "code",
   "execution_count": 39,
   "id": "783291fc",
   "metadata": {
    "scrolled": true
   },
   "outputs": [
    {
     "data": {
      "text/plain": [
       "(array([   0.,    0.,    0.,   21.,  147.,  133.,  320.,  229., 1774.,\n",
       "         376.]),\n",
       " array([0. , 0.1, 0.2, 0.3, 0.4, 0.5, 0.6, 0.7, 0.8, 0.9, 1. ]),\n",
       " <BarContainer object of 10 artists>)"
      ]
     },
     "execution_count": 39,
     "metadata": {},
     "output_type": "execute_result"
    },
    {
     "data": {
      "image/png": "[encoded data removed]",
      "text/plain": [
       "<Figure size 432x288 with 1 Axes>"
      ]
     },
     "metadata": {
      "needs_background": "light"
     },
     "output_type": "display_data"
    }
   ],
   "source": [
    "ms2query_scores = [x[0] for x in ms2query_and_tanimoto]\n",
    "plt.hist(ms2query_scores, bins = [0,0.1,0.2,0.3,0.4,0.5,0.6,0.7,0.8,0.9, 1.0])"
   ]
  },
  {
   "cell_type": "markdown",
   "id": "06b566c4",
   "metadata": {},
   "source": [
    "## Plot tanimoto distribution results\n",
    "To visualize the performance of MS2Query/MS2Deepscore the distribution of tanimoto scores of the highest scoring suggestions is plotted in a variety of ways. "
   ]
  },
  {
   "cell_type": "code",
   "execution_count": 40,
   "id": "304d89f3",
   "metadata": {},
   "outputs": [
    {
     "name": "stdout",
     "output_type": "stream",
     "text": [
      "percentage selected = 100.0\n"
     ]
    },
    {
     "data": {
      "image/png": "[encoded data removed]",
      "text/plain": [
       "<Figure size 432x288 with 1 Axes>"
      ]
     },
     "metadata": {
      "needs_background": "light"
     },
     "output_type": "display_data"
    }
   ],
   "source": [
    "plot_tanimoto_score_distribution_for_ms2query_cut_offs(ms2query_and_tanimoto, [0], \"Minimal MS2Query score\")"
   ]
  },
  {
   "cell_type": "code",
   "execution_count": 41,
   "id": "8c39be40",
   "metadata": {},
   "outputs": [
    {
     "name": "stdout",
     "output_type": "stream",
     "text": [
      "percentage selected = 100.0\n",
      "percentage selected = 76.5\n",
      "percentage selected = 51.03333333333333\n",
      "percentage selected = 29.7\n"
     ]
    },
    {
     "data": {
      "image/png": "[encoded data removed]",
      "text/plain": [
       "<Figure size 432x288 with 1 Axes>"
      ]
     },
     "metadata": {
      "needs_background": "light"
     },
     "output_type": "display_data"
    }
   ],
   "source": [
    "plot_tanimoto_score_distribution_for_ms2query_cut_offs(ms2ds_and_tanimoto, [0,0.93,0.97, 0.99], \"Minimal MS2Deepscore\")"
   ]
  },
  {
   "cell_type": "code",
   "execution_count": 76,
   "id": "a88be8db",
   "metadata": {},
   "outputs": [
    {
     "name": "stdout",
     "output_type": "stream",
     "text": [
      "50% of results for ms2query have a score >0.853409656716461.\n",
      "50% of results for ms2ds have a score >0.9710008297686457.\n"
     ]
    }
   ],
   "source": [
    "fraction = 0.5\n",
    "\n",
    "a, b = zip(*ms2query_and_tanimoto)\n",
    "top_x_percent_ms2query = np.quantile(a, fraction)\n",
    "\n",
    "a, b = zip(*ms2ds_and_tanimoto)\n",
    "top_x_percent_ms2ds = np.quantile(a, fraction)\n",
    "\n",
    "print(f\"50% of results for ms2query have a score >{top_x_percent_ms2query}.\")\n",
    "print(f\"50% of results for ms2ds have a score >{top_x_percent_ms2ds}.\")"
   ]
  },
  {
   "cell_type": "code",
   "execution_count": 86,
   "id": "743f213f",
   "metadata": {},
   "outputs": [
    {
     "data": {
      "text/plain": [
       "Text(0, 0.5, 'Tanimoto score')"
      ]
     },
     "execution_count": 86,
     "metadata": {},
     "output_type": "execute_result"
    },
    {
     "data": {
      "image/png": "[encoded data removed]",
      "text/plain": [
       "<Figure size 1500x750 with 2 Axes>"
      ]
     },
     "metadata": {
      "needs_background": "light"
     },
     "output_type": "display_data"
    }
   ],
   "source": [
    "fig, (ax1, ax2) = plt.subplots(1,2, figsize=(10,5), dpi=150)\n",
    "\n",
    "a, b = zip(*ms2query_and_tanimoto)\n",
    "ax1.scatter(a, b, alpha=0.5)\n",
    "ax1.set_xlabel(\"MS2Query score\")\n",
    "ax1.set_ylabel(\"Tanimoto score\")\n",
    "\n",
    "a, b = zip(*ms2ds_and_tanimoto)\n",
    "ax2.scatter(a, b, alpha=0.5)\n",
    "ax2.set_xlabel(\"MS2DeepScore\")\n",
    "ax2.set_ylabel(\"Tanimoto score\")"
   ]
  },
  {
   "cell_type": "code",
   "execution_count": 73,
   "id": "e437e124",
   "metadata": {},
   "outputs": [
    {
     "name": "stdout",
     "output_type": "stream",
     "text": [
      "MS2query percentage found\n",
      "49.86666666666667\n",
      "MS2deepscore percentage found\n",
      "50.0\n"
     ]
    },
    {
     "data": {
      "image/png": "[encoded data removed]",
      "text/plain": [
       "<Figure size 432x288 with 1 Axes>"
      ]
     },
     "metadata": {
      "needs_background": "light"
     },
     "output_type": "display_data"
    }
   ],
   "source": [
    "compare_tanimoto_score_distribution(ms2query_and_tanimoto,\n",
    "                                    ms2ds_and_tanimoto,\n",
    "                                    top_x_percent_ms2query,\n",
    "                                    top_x_percent_ms2ds)"
   ]
  },
  {
   "cell_type": "code",
   "execution_count": 88,
   "id": "35ee8614",
   "metadata": {},
   "outputs": [
    {
     "name": "stdout",
     "output_type": "stream",
     "text": [
      "MS2query percentage found\n",
      "100.0\n",
      "MS2deepscore percentage found\n",
      "100.0\n"
     ]
    },
    {
     "data": {
      "image/png": "[encoded data removed]",
      "text/plain": [
       "<Figure size 432x288 with 1 Axes>"
      ]
     },
     "metadata": {
      "needs_background": "light"
     },
     "output_type": "display_data"
    }
   ],
   "source": [
    "compare_tanimoto_score_distribution(ms2query_and_tanimoto, ms2ds_and_tanimoto, 0.0 , 0.0)"
   ]
  },
  {
   "cell_type": "markdown",
   "id": "9c8c2dad",
   "metadata": {},
   "source": [
    "# Plot optimal/random performance\n",
    "To be able to compare the results to the best optimal performance, the tanimoto score distribution of the best possible matches for the test set used is plotted. Also the distribution for tanimoto scores is plotted, when matches would be selected completely at random. "
   ]
  },
  {
   "cell_type": "markdown",
   "id": "a4d424f7",
   "metadata": {},
   "source": [
    "### Optimal results"
   ]
  },
  {
   "cell_type": "code",
   "execution_count": 44,
   "id": "42d22cb5",
   "metadata": {},
   "outputs": [],
   "source": [
    "tanimoto_scores_df = load_pickled_file(tanimoto_scores_df_file)\n"
   ]
  },
  {
   "cell_type": "code",
   "execution_count": 45,
   "id": "4fc308c1",
   "metadata": {},
   "outputs": [
    {
     "name": "stdout",
     "output_type": "stream",
     "text": [
      "0.8457116945812724\n"
     ]
    },
    {
     "data": {
      "image/png": "[encoded data removed]",
      "text/plain": [
       "<Figure size 432x288 with 1 Axes>"
      ]
     },
     "metadata": {
      "needs_background": "light"
     },
     "output_type": "display_data"
    }
   ],
   "source": [
    "plot_best_tanimoto_score_distribution(test_spectra_3000, tanimoto_scores_df)"
   ]
  },
  {
   "cell_type": "markdown",
   "id": "cf74f57a",
   "metadata": {},
   "source": [
    "### Random results"
   ]
  },
  {
   "cell_type": "code",
   "execution_count": 46,
   "id": "01823d87",
   "metadata": {},
   "outputs": [
    {
     "data": {
      "application/vnd.jupyter.widget-view+json": {
       "model_id": "067cfddcf7ad4faa9b82818e95122876",
       "version_major": 2,
       "version_minor": 0
      },
      "text/plain": [
       "  0%|          | 0/3000 [00:00<?, ?it/s]"
      ]
     },
     "metadata": {},
     "output_type": "display_data"
    },
    {
     "data": {
      "image/png": "[encoded data removed]",
      "text/plain": [
       "<Figure size 432x288 with 1 Axes>"
      ]
     },
     "metadata": {
      "needs_background": "light"
     },
     "output_type": "display_data"
    }
   ],
   "source": [
    "plot_average_tanimoto_distribution(test_spectra_3000, tanimoto_scores_df)"
   ]
  },
  {
   "cell_type": "markdown",
   "id": "98036475",
   "metadata": {},
   "source": [
    "# Compare MS2Deepscore to MS2Query\n",
    "To make it easier to compare the performance of MS2Deepscore and MS2Query the recall is plotted versus the average tanimoto score. "
   ]
  },
  {
   "cell_type": "code",
   "execution_count": 47,
   "id": "7f38f343",
   "metadata": {},
   "outputs": [
    {
     "ename": "ZeroDivisionError",
     "evalue": "division by zero",
     "output_type": "error",
     "traceback": [
      "\u001b[1;31m---------------------------------------------------------------------------\u001b[0m",
      "\u001b[1;31mZeroDivisionError\u001b[0m                         Traceback (most recent call last)",
      "\u001b[1;32m~\\AppData\\Local\\Temp/ipykernel_18760/3878974824.py\u001b[0m in \u001b[0;36m<module>\u001b[1;34m\u001b[0m\n\u001b[1;32m----> 1\u001b[1;33m \u001b[0mavg_tanimoto_vs_percentage_found\u001b[0m\u001b[1;33m(\u001b[0m\u001b[0mms2query_and_tanimoto\u001b[0m\u001b[1;33m,\u001b[0m \u001b[1;36m0.94\u001b[0m\u001b[1;33m,\u001b[0m \u001b[1;36m100\u001b[0m\u001b[1;33m,\u001b[0m \u001b[1;34m\"MS2Query score\"\u001b[0m\u001b[1;33m)\u001b[0m\u001b[1;33m\u001b[0m\u001b[1;33m\u001b[0m\u001b[0m\n\u001b[0m\u001b[0;32m      2\u001b[0m \u001b[0mavg_tanimoto_vs_percentage_found\u001b[0m\u001b[1;33m(\u001b[0m\u001b[0mms2ds_and_tanimoto\u001b[0m\u001b[1;33m,\u001b[0m \u001b[1;36m1\u001b[0m\u001b[1;33m,\u001b[0m \u001b[1;36m1000\u001b[0m\u001b[1;33m,\u001b[0m \u001b[1;34m\"MS2Deepscore\"\u001b[0m\u001b[1;33m)\u001b[0m\u001b[1;33m\u001b[0m\u001b[1;33m\u001b[0m\u001b[0m\n",
      "\u001b[1;32m~\\AppData\\Local\\Temp/ipykernel_18760/3573955382.py\u001b[0m in \u001b[0;36mavg_tanimoto_vs_percentage_found\u001b[1;34m(selection_criteria_and_tanimoto, cut_off_maximum, steps, legend_label)\u001b[0m\n\u001b[0;32m    139\u001b[0m         \u001b[0mselected_scores\u001b[0m \u001b[1;33m=\u001b[0m \u001b[1;33m[\u001b[0m\u001b[0mscores\u001b[0m\u001b[1;33m[\u001b[0m\u001b[1;36m1\u001b[0m\u001b[1;33m]\u001b[0m \u001b[1;32mfor\u001b[0m \u001b[0mscores\u001b[0m \u001b[1;32min\u001b[0m \u001b[0mselection_criteria_and_tanimoto\u001b[0m \u001b[1;32mif\u001b[0m \u001b[0mscores\u001b[0m\u001b[1;33m[\u001b[0m\u001b[1;36m0\u001b[0m\u001b[1;33m]\u001b[0m \u001b[1;33m>\u001b[0m \u001b[0mcut_off\u001b[0m\u001b[1;33m]\u001b[0m\u001b[1;33m\u001b[0m\u001b[1;33m\u001b[0m\u001b[0m\n\u001b[0;32m    140\u001b[0m         \u001b[0mpercentages_found\u001b[0m\u001b[1;33m.\u001b[0m\u001b[0mappend\u001b[0m\u001b[1;33m(\u001b[0m\u001b[0mlen\u001b[0m\u001b[1;33m(\u001b[0m\u001b[0mselected_scores\u001b[0m\u001b[1;33m)\u001b[0m\u001b[1;33m/\u001b[0m\u001b[0mlen\u001b[0m\u001b[1;33m(\u001b[0m\u001b[0mselection_criteria_and_tanimoto\u001b[0m\u001b[1;33m)\u001b[0m\u001b[1;33m*\u001b[0m\u001b[1;36m100\u001b[0m\u001b[1;33m)\u001b[0m\u001b[1;33m\u001b[0m\u001b[1;33m\u001b[0m\u001b[0m\n\u001b[1;32m--> 141\u001b[1;33m         \u001b[0maverage_tanimoto_score\u001b[0m\u001b[1;33m.\u001b[0m\u001b[0mappend\u001b[0m\u001b[1;33m(\u001b[0m\u001b[0msum\u001b[0m\u001b[1;33m(\u001b[0m\u001b[0mselected_scores\u001b[0m\u001b[1;33m)\u001b[0m\u001b[1;33m/\u001b[0m\u001b[0mlen\u001b[0m\u001b[1;33m(\u001b[0m\u001b[0mselected_scores\u001b[0m\u001b[1;33m)\u001b[0m\u001b[1;33m)\u001b[0m\u001b[1;33m\u001b[0m\u001b[1;33m\u001b[0m\u001b[0m\n\u001b[0m\u001b[0;32m    142\u001b[0m     \u001b[0mplt\u001b[0m\u001b[1;33m.\u001b[0m\u001b[0mplot\u001b[0m\u001b[1;33m(\u001b[0m\u001b[0mpercentages_found\u001b[0m\u001b[1;33m,\u001b[0m \u001b[0maverage_tanimoto_score\u001b[0m\u001b[1;33m,\u001b[0m \u001b[0mlabel\u001b[0m \u001b[1;33m=\u001b[0m \u001b[0mlegend_label\u001b[0m\u001b[1;33m)\u001b[0m\u001b[1;33m\u001b[0m\u001b[1;33m\u001b[0m\u001b[0m\n\u001b[0;32m    143\u001b[0m     \u001b[0mplt\u001b[0m\u001b[1;33m.\u001b[0m\u001b[0mxlim\u001b[0m\u001b[1;33m(\u001b[0m\u001b[1;36m100\u001b[0m\u001b[1;33m,\u001b[0m\u001b[1;36m0\u001b[0m\u001b[1;33m)\u001b[0m\u001b[1;33m\u001b[0m\u001b[1;33m\u001b[0m\u001b[0m\n",
      "\u001b[1;31mZeroDivisionError\u001b[0m: division by zero"
     ]
    }
   ],
   "source": [
    "avg_tanimoto_vs_percentage_found(ms2query_and_tanimoto, 0.94, 100, \"MS2Query score\")\n",
    "avg_tanimoto_vs_percentage_found(ms2ds_and_tanimoto, 1, 1000, \"MS2Deepscore\")"
   ]
  },
  {
   "cell_type": "code",
   "execution_count": null,
   "id": "644e5294",
   "metadata": {},
   "outputs": [],
   "source": []
  }
 ],
 "metadata": {
  "kernelspec": {
   "display_name": "Python 3 (ipykernel)",
   "language": "python",
   "name": "python3"
  },
  "language_info": {
   "codemirror_mode": {
    "name": "ipython",
    "version": 3
   },
   "file_extension": ".py",
   "mimetype": "text/x-python",
   "name": "python",
   "nbconvert_exporter": "python",
   "pygments_lexer": "ipython3",
   "version": "3.8.12"
  }
 },
 "nbformat": 4,
 "nbformat_minor": 5
}
