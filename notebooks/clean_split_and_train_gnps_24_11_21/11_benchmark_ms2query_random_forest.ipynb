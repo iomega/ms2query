{
 "cells": [
  {
   "cell_type": "code",
   "execution_count": 1,
   "id": "22acf2cf",
   "metadata": {},
   "outputs": [],
   "source": [
    "import os\n",
    "path_root = os.path.dirname(os.getcwd())\n",
    "path_data = os.path.join(os.path.dirname(path_root), \"data/gnps_24_11_2021/positive_mode/\")\n",
    "\n",
    "assert os.path.exists(os.path.join(path_data, \"GNPS_24_11_2021.sqlite\"))\n",
    "assert os.path.exists(os.path.join(path_data, \"spec2vec_models/spec2vec_model_GNPS_24_11_2021.model\"))\n",
    "assert os.path.exists(os.path.join(path_data, \"trained_models/ms2ds_GNPS_25_11_2021.hdf5\"))\n",
    "assert os.path.exists(os.path.join(path_data, \"GNPS_24_11_2021_ms2ds_embeddings.pickle\"))\n",
    "assert os.path.exists(os.path.join(path_data, \"GNPS_24_11_2021_s2v_embeddings.pickle\"))\n",
    "assert os.path.exists(os.path.join(path_data, \"ms2query_library_files/ms2q_train_spectra.pickle\"))\n",
    "assert os.path.exists(os.path.join(path_data, \"ms2query_library_files/ms2q_val_spectra.pickle\"))\n",
    "assert os.path.exists(os.path.join(path_data, \"GNPS_24_11_2021_pos_tanimoto_scores.pickle\"))\n"
   ]
  },
  {
   "cell_type": "code",
   "execution_count": null,
   "id": "f21472e7",
   "metadata": {},
   "outputs": [],
   "source": []
  }
 ],
 "metadata": {
  "kernelspec": {
   "display_name": "Python 3 (ipykernel)",
   "language": "python",
   "name": "python3"
  },
  "language_info": {
   "codemirror_mode": {
    "name": "ipython",
    "version": 3
   },
   "file_extension": ".py",
   "mimetype": "text/x-python",
   "name": "python",
   "nbconvert_exporter": "python",
   "pygments_lexer": "ipython3",
   "version": "3.8.11"
  }
 },
 "nbformat": 4,
 "nbformat_minor": 5
}
