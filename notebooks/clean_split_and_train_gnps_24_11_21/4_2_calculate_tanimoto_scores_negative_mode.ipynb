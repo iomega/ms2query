{
 "cells": [
  {
   "cell_type": "markdown",
   "id": "08c945f5",
   "metadata": {},
   "source": [
    "# Calculate tanimoto scores"
   ]
  },
  {
   "cell_type": "code",
   "execution_count": 1,
   "id": "75ac4a5a",
   "metadata": {},
   "outputs": [],
   "source": [
    "import pickle\n",
    "import os\n",
    "root_folder = \"C:/Users/jonge094/PycharmProjects/PhD_MS2Query/ms2query/data/gnps_24_11_2021/in_between_files_data_split\"\n",
    "outfile = os.path.join(root_folder, \"ALL_GNPS_24_11_2021_negative_annotated.pickle\")\n",
    "with open(outfile, 'rb') as file:\n",
    "    negative_fully_annotated = pickle.load(file)"
   ]
  },
  {
   "cell_type": "code",
   "execution_count": 2,
   "id": "6b4e1da7",
   "metadata": {},
   "outputs": [],
   "source": [
    "def select_unique_inchikeys(spectra):\n",
    "    inchikey_dict = {}\n",
    "    for spectrum in spectra:\n",
    "        inchikey = spectrum.get(\"inchikey\")[:14]\n",
    "        if inchikey not in inchikey_dict:\n",
    "            inchikey_dict[inchikey] = spectrum\n",
    "    return inchikey_dict\n",
    "\n",
    "unique_inchikeys = select_unique_inchikeys(negative_fully_annotated)\n",
    "spectra_with_unique_inchi = list(unique_inchikeys.values())\n",
    "inchikeys = list(unique_inchikeys.keys())"
   ]
  },
  {
   "cell_type": "code",
   "execution_count": 3,
   "id": "ae53529a",
   "metadata": {},
   "outputs": [
    {
     "name": "stdout",
     "output_type": "stream",
     "text": [
      "9780\n",
      "9780\n"
     ]
    }
   ],
   "source": [
    "print(len(unique_inchikeys))\n",
    "print(len(inchikeys))"
   ]
  },
  {
   "cell_type": "code",
   "execution_count": 4,
   "id": "2cb49203",
   "metadata": {},
   "outputs": [
    {
     "data": {
      "application/vnd.jupyter.widget-view+json": {
       "model_id": "6b152f8ef28a45eab5f25e219e2073eb",
       "version_major": 2,
       "version_minor": 0
      },
      "text/plain": [
       "  0%|          | 0/9780 [00:00<?, ?it/s]"
      ]
     },
     "metadata": {},
     "output_type": "display_data"
    }
   ],
   "source": [
    "import numpy as np\n",
    "from matchms import calculate_scores\n",
    "from matchms import Spectrum\n",
    "from matchms.filtering import add_fingerprint\n",
    "from matchms.similarity import FingerprintSimilarity\n",
    "from tqdm.notebook import tqdm\n",
    "\n",
    "# Add fingerprints\n",
    "fingerprints = [add_fingerprint(x, nbits=2048) for x in tqdm(spectra_with_unique_inchi)]\n",
    "# Specify type and calculate similarities\n",
    "similarity_measure = FingerprintSimilarity(\"jaccard\")\n",
    "scores = calculate_scores(fingerprints, fingerprints, similarity_measure, is_symmetric=True)\n"
   ]
  },
  {
   "cell_type": "code",
   "execution_count": 5,
   "id": "b875ee1a",
   "metadata": {},
   "outputs": [],
   "source": [
    "import pandas as pd\n",
    "results = pd.DataFrame(scores.scores, index = inchikeys, columns = inchikeys)\n"
   ]
  },
  {
   "cell_type": "code",
   "execution_count": 6,
   "id": "3f90fe10",
   "metadata": {},
   "outputs": [],
   "source": [
    "pickle.dump(results,\n",
    "           open(os.path.join(root_folder, \"GNPS_24_11_2021_neg_tanimoto_scores.pickle\"), \"wb\"))"
   ]
  },
  {
   "cell_type": "code",
   "execution_count": 7,
   "id": "19e080b2",
   "metadata": {},
   "outputs": [
    {
     "name": "stdout",
     "output_type": "stream",
     "text": [
      "                MGFJRQUGYNFFDQ  REFJWTPEDVJJIY  KZNIFHPLKGYRTM  \\\n",
      "MGFJRQUGYNFFDQ        1.000000        0.421913        0.341191   \n",
      "REFJWTPEDVJJIY        0.421913        1.000000        0.784562   \n",
      "KZNIFHPLKGYRTM        0.341191        0.784562        1.000000   \n",
      "DANYIYRPLHHOCZ        0.348335        0.774521        0.964589   \n",
      "FTODBIPDTXRIGS        0.390909        0.292852        0.251046   \n",
      "...                        ...             ...             ...   \n",
      "SZHOJFHSIKHZHA        0.030201        0.016538        0.019417   \n",
      "UKMSUNONTOPOIO        0.030201        0.016538        0.019417   \n",
      "XEZVDURJDFGERA        0.030201        0.016538        0.019417   \n",
      "SBZWTSHAFILOTE        0.417683        0.293051        0.254112   \n",
      "JBYXPOFIGCOSSB        0.049300        0.028877        0.033333   \n",
      "\n",
      "                DANYIYRPLHHOCZ  FTODBIPDTXRIGS  FTVWIRXFELQLPI  \\\n",
      "MGFJRQUGYNFFDQ        0.348335        0.390909        0.350888   \n",
      "REFJWTPEDVJJIY        0.774521        0.292852        0.266296   \n",
      "KZNIFHPLKGYRTM        0.964589        0.251046        0.239859   \n",
      "DANYIYRPLHHOCZ        1.000000        0.268781        0.258575   \n",
      "FTODBIPDTXRIGS        0.268781        1.000000        0.890663   \n",
      "...                        ...             ...             ...   \n",
      "SZHOJFHSIKHZHA        0.022880        0.037037        0.040053   \n",
      "UKMSUNONTOPOIO        0.022880        0.037037        0.040053   \n",
      "XEZVDURJDFGERA        0.022880        0.037037        0.040053   \n",
      "SBZWTSHAFILOTE        0.270492        0.638340        0.597760   \n",
      "JBYXPOFIGCOSSB        0.036269        0.047290        0.050000   \n",
      "\n",
      "                ORJDDOBAOGKRJV  UINZSMIFSIQGBZ  WEPBGSIAWZTEJR  \\\n",
      "MGFJRQUGYNFFDQ        0.351648        0.628234        0.449881   \n",
      "REFJWTPEDVJJIY        0.266614        0.524382        0.914647   \n",
      "KZNIFHPLKGYRTM        0.241440        0.481612        0.717597   \n",
      "DANYIYRPLHHOCZ        0.261174        0.498233        0.732984   \n",
      "FTODBIPDTXRIGS        0.868357        0.411914        0.306894   \n",
      "...                        ...             ...             ...   \n",
      "SZHOJFHSIKHZHA        0.039630        0.030899        0.021385   \n",
      "UKMSUNONTOPOIO        0.039630        0.030899        0.021385   \n",
      "XEZVDURJDFGERA        0.039630        0.030899        0.021385   \n",
      "SBZWTSHAFILOTE        0.586519        0.454897        0.308759   \n",
      "JBYXPOFIGCOSSB        0.049492        0.047222        0.032673   \n",
      "\n",
      "                KMOUJOKENFFTPU  ...  MEDOAKSPIIOKFU  VGYCHSOZFBOOKO  \\\n",
      "MGFJRQUGYNFFDQ        0.477352  ...        0.359164        0.305556   \n",
      "REFJWTPEDVJJIY        0.618609  ...        0.737758        0.420898   \n",
      "KZNIFHPLKGYRTM        0.640640  ...        0.769134        0.472706   \n",
      "DANYIYRPLHHOCZ        0.661033  ...        0.800502        0.501742   \n",
      "FTODBIPDTXRIGS        0.337847  ...        0.284763        0.230026   \n",
      "...                        ...  ...             ...             ...   \n",
      "SZHOJFHSIKHZHA        0.036178  ...        0.023529        0.027244   \n",
      "UKMSUNONTOPOIO        0.036178  ...        0.023529        0.027244   \n",
      "XEZVDURJDFGERA        0.036178  ...        0.023529        0.027244   \n",
      "SBZWTSHAFILOTE        0.350567  ...        0.280945        0.243267   \n",
      "JBYXPOFIGCOSSB        0.050863  ...        0.037831        0.047692   \n",
      "\n",
      "                IDGXIXSKISLYAC  NXBNYUSXDBHELA  FDRBRRBUPLHXEM  \\\n",
      "MGFJRQUGYNFFDQ        0.255134        0.197809        0.508591   \n",
      "REFJWTPEDVJJIY        0.185811        0.160149        0.593849   \n",
      "KZNIFHPLKGYRTM        0.165709        0.159912        0.590633   \n",
      "DANYIYRPLHHOCZ        0.168391        0.183406        0.610919   \n",
      "FTODBIPDTXRIGS        0.180070        0.291441        0.346338   \n",
      "...                        ...             ...             ...   \n",
      "SZHOJFHSIKHZHA        0.100746        0.026128        0.034276   \n",
      "UKMSUNONTOPOIO        0.100746        0.026128        0.034276   \n",
      "XEZVDURJDFGERA        0.100746        0.026128        0.034276   \n",
      "SBZWTSHAFILOTE        0.187608        0.231855        0.356658   \n",
      "JBYXPOFIGCOSSB        0.149635        0.039648        0.050548   \n",
      "\n",
      "                SZHOJFHSIKHZHA  UKMSUNONTOPOIO  XEZVDURJDFGERA  \\\n",
      "MGFJRQUGYNFFDQ        0.030201        0.030201        0.030201   \n",
      "REFJWTPEDVJJIY        0.016538        0.016538        0.016538   \n",
      "KZNIFHPLKGYRTM        0.019417        0.019417        0.019417   \n",
      "DANYIYRPLHHOCZ        0.022880        0.022880        0.022880   \n",
      "FTODBIPDTXRIGS        0.037037        0.037037        0.037037   \n",
      "...                        ...             ...             ...   \n",
      "SZHOJFHSIKHZHA        1.000000        1.000000        1.000000   \n",
      "UKMSUNONTOPOIO        1.000000        1.000000        1.000000   \n",
      "XEZVDURJDFGERA        1.000000        1.000000        1.000000   \n",
      "SBZWTSHAFILOTE        0.030999        0.030999        0.030999   \n",
      "JBYXPOFIGCOSSB        0.574468        0.574468        0.574468   \n",
      "\n",
      "                SBZWTSHAFILOTE  JBYXPOFIGCOSSB  \n",
      "MGFJRQUGYNFFDQ        0.417683        0.049300  \n",
      "REFJWTPEDVJJIY        0.293051        0.028877  \n",
      "KZNIFHPLKGYRTM        0.254112        0.033333  \n",
      "DANYIYRPLHHOCZ        0.270492        0.036269  \n",
      "FTODBIPDTXRIGS        0.638340        0.047290  \n",
      "...                        ...             ...  \n",
      "SZHOJFHSIKHZHA        0.030999        0.574468  \n",
      "UKMSUNONTOPOIO        0.030999        0.574468  \n",
      "XEZVDURJDFGERA        0.030999        0.574468  \n",
      "SBZWTSHAFILOTE        1.000000        0.042222  \n",
      "JBYXPOFIGCOSSB        0.042222        1.000000  \n",
      "\n",
      "[9780 rows x 9780 columns]\n"
     ]
    }
   ],
   "source": [
    "print(results)"
   ]
  }
 ],
 "metadata": {
  "kernelspec": {
   "display_name": "Python 3 (ipykernel)",
   "language": "python",
   "name": "python3"
  },
  "language_info": {
   "codemirror_mode": {
    "name": "ipython",
    "version": 3
   },
   "file_extension": ".py",
   "mimetype": "text/x-python",
   "name": "python",
   "nbconvert_exporter": "python",
   "pygments_lexer": "ipython3",
   "version": "3.8.11"
  }
 },
 "nbformat": 4,
 "nbformat_minor": 5
}
