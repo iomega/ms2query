{
 "cells": [
  {
   "cell_type": "code",
   "execution_count": 1,
   "metadata": {},
   "outputs": [],
   "source": [
    "import pickle\n",
    "import os\n",
    "from pathlib import Path\n",
    "\n",
    "from matchms.importing import load_from_mgf\n",
    "from tensorflow import keras\n",
    "import pandas as pd\n",
    "\n",
    "from ms2deepscore import SpectrumBinner\n",
    "from ms2deepscore.data_generators import DataGeneratorAllSpectrums\n",
    "from ms2deepscore.models import SiameseModel\n",
    "from ms2deepscore import MS2DeepScore\n",
    "root_folder = \"C:/Users/jonge094/PycharmProjects/PhD_MS2Query/ms2query/data/gnps_24_11_2021/positive_mode\"\n",
    "\n"
   ]
  },
  {
   "cell_type": "markdown",
   "metadata": {},
   "source": [
    "## load in data"
   ]
  },
  {
   "cell_type": "code",
   "execution_count": 2,
   "metadata": {},
   "outputs": [],
   "source": [
    "outfile = os.path.join(root_folder, \"GNPS_24_11_2021_pos_train.pickle\")\n",
    "with open(outfile, 'rb') as file:\n",
    "    training_spectra = pickle.load(file)\n",
    "\n",
    "\n",
    "outfile = os.path.join(root_folder, \"GNPS_24_11_2021_pos_tanimoto_scores.pickle\")\n",
    "with open(outfile, 'rb') as file:\n",
    "    tanimoto_scores = pickle.load(file)\n"
   ]
  },
  {
   "cell_type": "markdown",
   "metadata": {},
   "source": [
    "Add validation data together"
   ]
  },
  {
   "cell_type": "code",
   "execution_count": 3,
   "metadata": {},
   "outputs": [],
   "source": [
    "\n",
    "outfile = os.path.join(root_folder, \"GNPS_24_11_2021_pos_val_250_inchikeys.pickle\")\n",
    "with open(outfile, 'rb') as file:\n",
    "    validation_spectra_250 = pickle.load(file)\n",
    "    \n",
    "outfile = os.path.join(root_folder, \"GNPS_24_11_2021_pos_val_3000_spectra.pickle\")\n",
    "with open(outfile, 'rb') as file:\n",
    "    validation_spectra_3000 = pickle.load(file)\n",
    "\n",
    "validation_spectra = validation_spectra_250 + validation_spectra_3000"
   ]
  },
  {
   "cell_type": "markdown",
   "metadata": {},
   "source": [
    "### Create binned spectra"
   ]
  },
  {
   "cell_type": "code",
   "execution_count": 4,
   "metadata": {},
   "outputs": [
    {
     "name": "stdout",
     "output_type": "stream",
     "text": [
      "Collect spectrum peaks...\n",
      "Calculated embedding dimension: 1001.\n",
      "Convert spectrums to binned spectrums...\n"
     ]
    },
    {
     "name": "stderr",
     "output_type": "stream",
     "text": [
      "Spectrum binning: 100%|██████████████████████████████████████████████████████████████████████████████████████████████████████████████████████| 281469/281469 [00:28<00:00, 9876.14it/s]\n",
      "Create BinnedSpectrum instances: 100%|██████████████████████████████████████████████████████████████████████████████████████████████████████| 281469/281469 [00:04<00:00, 66107.69it/s]\n"
     ]
    }
   ],
   "source": [
    "train_spectrum_binner = SpectrumBinner(1000, mz_min=10.0, mz_max=1000.0, peak_scaling=0.5)\n",
    "binned_train_spectrums = train_spectrum_binner.fit_transform(training_spectra)"
   ]
  },
  {
   "cell_type": "code",
   "execution_count": 5,
   "metadata": {},
   "outputs": [
    {
     "name": "stdout",
     "output_type": "stream",
     "text": [
      "Collect spectrum peaks...\n",
      "Calculated embedding dimension: 991.\n",
      "Convert spectrums to binned spectrums...\n"
     ]
    },
    {
     "name": "stderr",
     "output_type": "stream",
     "text": [
      "Spectrum binning: 100%|██████████████████████████████████████████████████████████████████████████████████████████████████████████████████████████| 6334/6334 [00:00<00:00, 8259.25it/s]\n",
      "Create BinnedSpectrum instances: 100%|██████████████████████████████████████████████████████████████████████████████████████████████████████████| 6334/6334 [00:00<00:00, 54824.67it/s]\n"
     ]
    }
   ],
   "source": [
    "val_spectrum_binner = SpectrumBinner(1000, mz_min=10.0, mz_max=1000.0, peak_scaling=0.5)\n",
    "\n",
    "binned_val_spectrums = val_spectrum_binner.fit_transform(validation_spectra)"
   ]
  },
  {
   "cell_type": "code",
   "execution_count": 6,
   "metadata": {},
   "outputs": [
    {
     "name": "stdout",
     "output_type": "stream",
     "text": [
      "19917 out of 20417 InChIKeys found in selected spectrums.\n"
     ]
    }
   ],
   "source": [
    "dimension = len(train_spectrum_binner.known_bins)\n",
    "train_data_generator = DataGeneratorAllSpectrums(binned_train_spectrums, tanimoto_scores,\n",
    "                                           dim=dimension)"
   ]
  },
  {
   "cell_type": "code",
   "execution_count": 7,
   "metadata": {},
   "outputs": [
    {
     "name": "stdout",
     "output_type": "stream",
     "text": [
      "3250 out of 20417 InChIKeys found in selected spectrums.\n"
     ]
    }
   ],
   "source": [
    "dimension = len(val_spectrum_binner.known_bins)\n",
    "val_data_generator = DataGeneratorAllSpectrums(binned_val_spectrums, tanimoto_scores,\n",
    "                                           dim=dimension)"
   ]
  },
  {
   "cell_type": "code",
   "execution_count": 41,
   "metadata": {},
   "outputs": [
    {
     "name": "stdout",
     "output_type": "stream",
     "text": [
      "Model: \"base\"\n",
      "_________________________________________________________________\n",
      "Layer (type)                 Output Shape              Param #   \n",
      "=================================================================\n",
      "base_input (InputLayer)      [(None, 991)]             0         \n",
      "_________________________________________________________________\n",
      "dense1 (Dense)               (None, 500)               496000    \n",
      "_________________________________________________________________\n",
      "normalization1 (BatchNormali (None, 500)               2000      \n",
      "_________________________________________________________________\n",
      "dense2 (Dense)               (None, 500)               250500    \n",
      "_________________________________________________________________\n",
      "normalization2 (BatchNormali (None, 500)               2000      \n",
      "_________________________________________________________________\n",
      "dropout2 (Dropout)           (None, 500)               0         \n",
      "_________________________________________________________________\n",
      "embedding (Dense)            (None, 200)               100200    \n",
      "=================================================================\n",
      "Total params: 850,700\n",
      "Trainable params: 848,700\n",
      "Non-trainable params: 2,000\n",
      "_________________________________________________________________\n",
      "Model: \"head\"\n",
      "__________________________________________________________________________________________________\n",
      "Layer (type)                    Output Shape         Param #     Connected to                     \n",
      "==================================================================================================\n",
      "input_a (InputLayer)            [(None, 991)]        0                                            \n",
      "__________________________________________________________________________________________________\n",
      "input_b (InputLayer)            [(None, 991)]        0                                            \n",
      "__________________________________________________________________________________________________\n",
      "base (Functional)               (None, 200)          850700      input_a[0][0]                    \n",
      "                                                                 input_b[0][0]                    \n",
      "__________________________________________________________________________________________________\n",
      "cosine_similarity (Dot)         (None, 1)            0           base[0][0]                       \n",
      "                                                                 base[1][0]                       \n",
      "==================================================================================================\n",
      "Total params: 850,700\n",
      "Trainable params: 848,700\n",
      "Non-trainable params: 2,000\n",
      "__________________________________________________________________________________________________\n"
     ]
    }
   ],
   "source": [
    "model = SiameseModel(val_spectrum_binner, base_dims=(500, 500), embedding_dim=200,\n",
    "                     dropout_rate=0.2)\n",
    "model.compile(loss='mse', optimizer=keras.optimizers.Adam(lr=0.001))\n",
    "model.summary()"
   ]
  },
  {
   "cell_type": "code",
   "execution_count": 42,
   "metadata": {},
   "outputs": [
    {
     "name": "stdout",
     "output_type": "stream",
     "text": [
      "197/197 [==============================] - 16s 80ms/step - loss: 0.0659 - val_loss: 0.1396\n",
      "\n",
      "Epoch 00001: val_loss improved from inf to 0.13958, saving model to C:/Users/jonge094/PycharmProjects/PhD_MS2Query/ms2query/data/gnps_24_11_2021/positive_mode\\test_model\n",
      "INFO:tensorflow:Assets written to: C:/Users/jonge094/PycharmProjects/PhD_MS2Query/ms2query/data/gnps_24_11_2021/positive_mode\\test_model\\assets\n"
     ]
    }
   ],
   "source": [
    "from tensorflow.keras.callbacks import EarlyStopping, ModelCheckpoint, TensorBoard\n",
    "\n",
    "earlystopper = EarlyStopping(\n",
    "    monitor='val_loss', mode=\"min\",\n",
    "    patience = 5,\n",
    "    verbose=1\n",
    "    )\n",
    "\n",
    "checkpointer = ModelCheckpoint(\n",
    "    filepath = os.path.join(root_folder, \"test_model\"),\n",
    "    monitor='val_loss', mode=\"min\",\n",
    "    verbose=1,\n",
    "    save_best_only=True\n",
    "    )\n",
    "\n",
    "model.fit(val_data_generator,\n",
    "          validation_data=val_data_generator,\n",
    "          epochs=1, callbacks = [earlystopper, checkpointer])\n",
    "model.save(os.path.join(root_folder, \"test_ms2ds_model.hdf5\"))"
   ]
  },
  {
   "cell_type": "code",
   "execution_count": 44,
   "metadata": {},
   "outputs": [],
   "source": [
    "from ms2deepscore.models import load_model"
   ]
  },
  {
   "cell_type": "code",
   "execution_count": 46,
   "metadata": {},
   "outputs": [
    {
     "name": "stdout",
     "output_type": "stream",
     "text": [
      "<ms2deepscore.models.SiameseModel.SiameseModel object at 0x0000023BB264CF40>\n"
     ]
    }
   ],
   "source": [
    "my_model = load_model(os.path.join(root_folder, \"test_ms2ds_model.hdf5\"))\n",
    "print(my_model)"
   ]
  },
  {
   "cell_type": "code",
   "execution_count": 47,
   "metadata": {},
   "outputs": [
    {
     "name": "stderr",
     "output_type": "stream",
     "text": [
      "Spectrum binning: 100%|█████████████████████████████████████████████████████████████████████████████████████████████████████████████████████████████████████████████████████████████████████████████████| 1/1 [00:00<00:00, 113.95it/s]\n",
      "Create BinnedSpectrum instances: 100%|███████████████████████████████████████████████████████████████████████████████████████████████████████████████████████████████████████████████████████████████████████████| 1/1 [00:00<?, ?it/s]\n",
      "Spectrum binning: 100%|██████████████████████████████████████████████████████████████████████████████████████████████████████████████████████████████████████████████████████████████████████████████████████████| 1/1 [00:00<?, ?it/s]\n",
      "Create BinnedSpectrum instances: 100%|███████████████████████████████████████████████████████████████████████████████████████████████████████████████████████████████████████████████████████████████████████████| 1/1 [00:00<?, ?it/s]"
     ]
    },
    {
     "name": "stdout",
     "output_type": "stream",
     "text": [
      "0.8623855932103395\n"
     ]
    },
    {
     "name": "stderr",
     "output_type": "stream",
     "text": [
      "\n"
     ]
    }
   ],
   "source": [
    "similarity_measure = MS2DeepScore(my_model)\n",
    "score = similarity_measure.pair(training_spectra[0], training_spectra[1])\n",
    "print(score)"
   ]
  },
  {
   "cell_type": "code",
   "execution_count": 48,
   "metadata": {},
   "outputs": [
    {
     "name": "stderr",
     "output_type": "stream",
     "text": [
      "Spectrum binning: 100%|████████████████████████████████████████████████████████████████████████████████████████████████████████████████████████████████████████████████████████████████████████████████| 3/3 [00:00<00:00, 1202.61it/s]\n",
      "Create BinnedSpectrum instances: 100%|███████████████████████████████████████████████████████████████████████████████████████████████████████████████████████████████████████████████████████████████████████████| 3/3 [00:00<?, ?it/s]\n",
      "Calculating vectors of reference spectrums: 100%|████████████████████████████████████████████████████████████████████████████████████████████████████████████████████████████████████████████████████████| 3/3 [00:00<00:00, 24.31it/s]\n",
      "Spectrum binning: 100%|████████████████████████████████████████████████████████████████████████████████████████████████████████████████████████████████████████████████████████████████████████████████| 3/3 [00:00<00:00, 1500.65it/s]\n",
      "Create BinnedSpectrum instances: 100%|███████████████████████████████████████████████████████████████████████████████████████████████████████████████████████████████████████████████████████████████████████████| 3/3 [00:00<?, ?it/s]\n",
      "Calculating vectors of reference spectrums: 100%|████████████████████████████████████████████████████████████████████████████████████████████████████████████████████████████████████████████████████████| 3/3 [00:00<00:00, 35.87it/s]"
     ]
    },
    {
     "name": "stdout",
     "output_type": "stream",
     "text": [
      "[[1.         0.8623856  0.47568729]\n",
      " [0.8623856  1.         0.63020755]\n",
      " [0.47568729 0.63020755 1.        ]]\n"
     ]
    },
    {
     "name": "stderr",
     "output_type": "stream",
     "text": [
      "\n"
     ]
    }
   ],
   "source": [
    "scores = similarity_measure.matrix(training_spectra[:3], training_spectra[:3])\n",
    "print(scores)"
   ]
  },
  {
   "cell_type": "code",
   "execution_count": null,
   "metadata": {},
   "outputs": [],
   "source": []
  }
 ],
 "metadata": {
  "kernelspec": {
   "display_name": "Python 3 (ipykernel)",
   "language": "python",
   "name": "python3"
  },
  "language_info": {
   "codemirror_mode": {
    "name": "ipython",
    "version": 3
   },
   "file_extension": ".py",
   "mimetype": "text/x-python",
   "name": "python",
   "nbconvert_exporter": "python",
   "pygments_lexer": "ipython3",
   "version": "3.8.11"
  }
 },
 "nbformat": 4,
 "nbformat_minor": 4
}
