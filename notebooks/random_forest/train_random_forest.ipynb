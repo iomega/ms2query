{
 "cells": [
  {
   "cell_type": "markdown",
   "metadata": {},
   "source": [
    "# Load in dataset\n",
    "A dataset was created in Create_dataset_for_training_MS2Query_model.ipynb. This dataset contains 4 dataframes with the scores for the top 2000 matches for each query spectrum in a validation and a training set. The scores are pasted after each other, so it can be used directly for training MS2Query models. "
   ]
  },
  {
   "cell_type": "code",
   "execution_count": 16,
   "metadata": {},
   "outputs": [],
   "source": [
    "from ms2query.utils import load_pickled_file\n",
    "training_scores, training_labels, validation_scores, validation_labels = \\\n",
    "    load_pickled_file(\"../../downloads/gnps_210409/train_ms2query_model/ms2q_training_data.pickle\")\n"
   ]
  },
  {
   "cell_type": "markdown",
   "metadata": {},
   "source": [
    "# Select the top 100\n",
    "The top 100 spectra are selected, to get a bit better distribution of tanimoto scores in training data"
   ]
  },
  {
   "cell_type": "code",
   "execution_count": 8,
   "metadata": {},
   "outputs": [],
   "source": [
    "import pandas as pd\n",
    "def select_less_top_spectra(nr_of_spectra_cut_off, dataframe_with_tanimoto_scores, dataframe_with_scores):\n",
    "    nr_of_matches_per_training_spectra = 2000\n",
    "    \n",
    "    tanimoto_df_per_spectrum = []\n",
    "    scores_df_per_spectrum = []\n",
    "    for i in range(0, len(dataframe_with_scores), nr_of_matches_per_training_spectra):\n",
    "        scores_for_one_spectrum = dataframe_with_scores.iloc[i:i+nr_of_spectra_cut_off]\n",
    "        tanimoto_scores_one_spectrum = dataframe_with_tanimoto_scores.iloc[i:i+nr_of_spectra_cut_off]\n",
    "        tanimoto_df_per_spectrum.append(tanimoto_scores_one_spectrum)\n",
    "        scores_df_per_spectrum.append(scores_for_one_spectrum)\n",
    "        \n",
    "    selected_tanimoto_scores = pd.concat(tanimoto_df_per_spectrum)\n",
    "    selected_scores = pd.concat(scores_df_per_spectrum)\n",
    "    \n",
    "    return selected_tanimoto_scores, selected_scores"
   ]
  },
  {
   "cell_type": "code",
   "execution_count": 10,
   "metadata": {},
   "outputs": [
    {
     "data": {
      "text/plain": [
       "(array([ 6.29767442, 14.35844961, 18.48434109, 15.93581395, 11.09085271,\n",
       "         8.46387597,  4.84      ,  4.78666667,  5.74883721,  9.99348837]),\n",
       " array([0. , 0.1, 0.2, 0.3, 0.4, 0.5, 0.6, 0.7, 0.8, 0.9, 1. ],\n",
       "       dtype=float32),\n",
       " <BarContainer object of 10 artists>)"
      ]
     },
     "execution_count": 10,
     "metadata": {},
     "output_type": "execute_result"
    },
    {
     "data": {
      "image/png": "[encoded data removed]",
      "text/plain": [
       "<Figure size 432x288 with 1 Axes>"
      ]
     },
     "metadata": {
      "needs_background": "light"
     },
     "output_type": "display_data"
    }
   ],
   "source": [
    "from matplotlib import pyplot as plt\n",
    " \n",
    "training_labels_top_100, training_scores_top_100 = select_less_top_spectra(100, training_labels, training_scores)\n",
    "validation_labels_top_100, validation_scores_top_100 = select_less_top_spectra(100, validation_labels, validation_scores)\n",
    "\n",
    "weight_to_convert_to_percentage = 100/len(training_labels_top_100)\n",
    "weights = [weight_to_convert_to_percentage] * len(training_labels_top_100)\n",
    "\n",
    "plt.xlabel(\"tanimoto score\")\n",
    "plt.ylabel(\"Percentage (%)\")\n",
    "plt.hist(training_labels_top_100, weights = weights, rwidth = 0.9)"
   ]
  },
  {
   "cell_type": "code",
   "execution_count": 11,
   "metadata": {},
   "outputs": [],
   "source": [
    "from sklearn.ensemble import RandomForestRegressor\n",
    "from sklearn.model_selection import train_test_split\n",
    "from sklearn.metrics import mean_squared_error"
   ]
  },
  {
   "cell_type": "code",
   "execution_count": null,
   "metadata": {},
   "outputs": [],
   "source": [
    "print(training_scores_top_100)"
   ]
  },
  {
   "cell_type": "code",
   "execution_count": 19,
   "metadata": {},
   "outputs": [
    {
     "name": "stderr",
     "output_type": "stream",
     "text": [
      "<ipython-input-19-1491944576e6>:4: DataConversionWarning: A column-vector y was passed when a 1d array was expected. Please change the shape of y to (n_samples,), for example using ravel().\n",
      "  rf.fit(training_scores_top_100, training_labels_top_100)\n"
     ]
    },
    {
     "name": "stdout",
     "output_type": "stream",
     "text": [
      "Training MSE 0.03026257888622508\n",
      "Validation MSE 0.030665551209559425\n",
      "Variable: closely_related_inchikey14s_score Importance: 0.76\n",
      "Variable: mass_similarity      Importance: 0.14\n",
      "Variable: precursor_mz*0.001    Importance: 0.06\n",
      "Variable: s2v_score            Importance: 0.02\n",
      "Variable: ms2ds_score          Importance: 0.01\n",
      "Variable: average_tanimoto_for_closely_related_score Importance: 0.01\n",
      "Variable: average_ms2ds_score_for_inchikey14 Importance: 0.0\n",
      "Variable: nr_of_spectra_with_same_inchikey14*0.01 Importance: 0.0\n",
      "Variable: nr_of_spectra_for_closely_related_score*0.01 Importance: 0.0\n"
     ]
    },
    {
     "data": {
      "text/plain": [
       "[None, None, None, None, None, None, None, None, None]"
      ]
     },
     "execution_count": 19,
     "metadata": {},
     "output_type": "execute_result"
    }
   ],
   "source": [
    "# train rf using optimised parameters from below\n",
    "num_est = 250\n",
    "rf = RandomForestRegressor(n_estimators = num_est, random_state = 42, max_depth = 5)\n",
    "rf.fit(training_scores_top_100, training_labels_top_100)\n",
    "\n",
    "# predict on train\n",
    "rf_train_predictions = rf.predict(training_scores_top_100)\n",
    "mse_train_rf = mean_squared_error(training_labels_top_100, rf_train_predictions)\n",
    "print('Training MSE', mse_train_rf)\n",
    "\n",
    "# predict on test\n",
    "rf_predictions = rf.predict(validation_scores_top_100)\n",
    "mse_rf = mean_squared_error(validation_labels_top_100, rf_predictions)\n",
    "print('Validation MSE', mse_rf)\n",
    "\n",
    "# get feature importances\n",
    "importances = list(rf.feature_importances_)\n",
    "feature_importances = [(feature, round(importance, 2)) for feature, importance in zip(training_scores_top_100.columns, importances)]\n",
    "feature_importances = sorted(feature_importances, key = lambda x: x[1], reverse = True)\n",
    "[print('Variable: {:20} Importance: {}'.format(*pair)) for pair in feature_importances]"
   ]
  },
  {
   "cell_type": "code",
   "execution_count": 26,
   "metadata": {},
   "outputs": [
    {
     "name": "stdout",
     "output_type": "stream",
     "text": [
      "Training MSE 0.03316396794257088\n",
      "Validation MSE 0.03515624371765132\n",
      "Variable: average_ms2ds_score_for_inchikey14 Importance: 0.54\n",
      "Variable: mass_similarity      Importance: 0.13\n",
      "Variable: precursor_mz*0.001    Importance: 0.12\n",
      "Variable: ms2ds_score          Importance: 0.12\n",
      "Variable: average_tanimoto_for_closely_related_score Importance: 0.08\n",
      "Variable: s2v_score            Importance: 0.01\n",
      "Variable: nr_of_spectra_with_same_inchikey14*0.01 Importance: 0.0\n",
      "Variable: nr_of_spectra_for_closely_related_score*0.01 Importance: 0.0\n"
     ]
    },
    {
     "data": {
      "text/plain": [
       "[None, None, None, None, None, None, None, None]"
      ]
     },
     "execution_count": 26,
     "metadata": {},
     "output_type": "execute_result"
    }
   ],
   "source": [
    "training_scores_top_100 = training_scores_top_100.drop([\"closely_related_inchikey14s_score\"], axis = 1)\n",
    "validation_scores_top_100 = validation_scores_top_100.drop([\"closely_related_inchikey14s_score\"], axis = 1)\n",
    "# # train rf using optimised parameters from below\n",
    "num_est = 250\n",
    "rf = RandomForestRegressor(n_estimators = num_est, random_state = 42, max_depth = 5)\n",
    "rf.fit(training_scores_top_100, training_labels_top_100)\n",
    "\n",
    "# predict on train\n",
    "rf_train_predictions = rf.predict(training_scores_top_100)\n",
    "mse_train_rf = mean_squared_error(training_labels_top_100, rf_train_predictions)\n",
    "print('Training MSE', mse_train_rf)\n",
    "\n",
    "# predict on test\n",
    "rf_predictions = rf.predict(validation_scores_top_100)\n",
    "mse_rf = mean_squared_error(validation_labels_top_100, rf_predictions)\n",
    "print('Validation MSE', mse_rf)\n",
    "\n",
    "# get feature importances\n",
    "importances = list(rf.feature_importances_)\n",
    "feature_importances = [(feature, round(importance, 2)) for feature, importance in zip(training_scores_top_100.columns, importances)]\n",
    "feature_importances = sorted(feature_importances, key = lambda x: x[1], reverse = True)\n",
    "[print('Variable: {:20} Importance: {}'.format(*pair)) for pair in feature_importances]"
   ]
  },
  {
   "cell_type": "code",
   "execution_count": 29,
   "metadata": {},
   "outputs": [
    {
     "name": "stderr",
     "output_type": "stream",
     "text": [
      "<ipython-input-29-af263c063955>:9: DataConversionWarning: A column-vector y was passed when a 1d array was expected. Please change the shape of y to (n_samples,), for example using ravel().\n",
      "  rf.fit(training_scores_top_100, training_labels_top_100)\n"
     ]
    },
    {
     "name": "stdout",
     "output_type": "stream",
     "text": [
      "Training MSE 0.04433748071763638\n",
      "Validation MSE 0.0441256720996857\n",
      "Variable: ms2ds_score          Importance: 0.89\n",
      "Variable: s2v_score            Importance: 0.11\n"
     ]
    },
    {
     "data": {
      "text/plain": [
       "[None, None]"
      ]
     },
     "execution_count": 29,
     "metadata": {},
     "output_type": "execute_result"
    }
   ],
   "source": [
    "training_scores_top_100 = training_scores_top_100[[\"s2v_score\", \"ms2ds_score\"]]\n",
    "validation_scores_top_100 = validation_scores_top_100[[\"s2v_score\", \"ms2ds_score\"]]\n",
    "\n",
    "\n",
    "validation_scores_top_100 = validation_scores_top_100\n",
    "# train rf using optimised parameters from below\n",
    "num_est = 250 \n",
    "rf = RandomForestRegressor(n_estimators = num_est, random_state = 42, max_depth = 5)\n",
    "rf.fit(training_scores_top_100, training_labels_top_100)\n",
    "\n",
    "# predict on train\n",
    "rf_train_predictions = rf.predict(training_scores_top_100)\n",
    "mse_train_rf = mean_squared_error(training_labels_top_100, rf_train_predictions)\n",
    "print('Training MSE', mse_train_rf)\n",
    "\n",
    "# predict on test\n",
    "rf_predictions = rf.predict(validation_scores_top_100)\n",
    "mse_rf = mean_squared_error(validation_labels_top_100, rf_predictions)\n",
    "print('Validation MSE', mse_rf)\n",
    "\n",
    "# get feature importances\n",
    "importances = list(rf.feature_importances_)\n",
    "feature_importances = [(feature, round(importance, 2)) for feature, importance in zip(training_scores_top_100.columns, importances)]\n",
    "feature_importances = sorted(feature_importances, key = lambda x: x[1], reverse = True)\n",
    "[print('Variable: {:20} Importance: {}'.format(*pair)) for pair in feature_importances]"
   ]
  },
  {
   "cell_type": "code",
   "execution_count": null,
   "metadata": {},
   "outputs": [],
   "source": []
  },
  {
   "cell_type": "code",
   "execution_count": null,
   "metadata": {},
   "outputs": [],
   "source": []
  }
 ],
 "metadata": {
  "kernelspec": {
   "display_name": "Python 3",
   "language": "python",
   "name": "python3"
  },
  "language_info": {
   "codemirror_mode": {
    "name": "ipython",
    "version": 3
   },
   "file_extension": ".py",
   "mimetype": "text/x-python",
   "name": "python",
   "nbconvert_exporter": "python",
   "pygments_lexer": "ipython3",
   "version": "3.8.5"
  }
 },
 "nbformat": 4,
 "nbformat_minor": 4
}
