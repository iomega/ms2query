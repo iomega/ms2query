{
 "cells": [
  {
   "cell_type": "markdown",
   "id": "cordless-cache",
   "metadata": {},
   "source": [
    "# Post-process and split data "
   ]
  },
  {
   "cell_type": "code",
   "execution_count": 1,
   "id": "significant-coordinator",
   "metadata": {},
   "outputs": [],
   "source": [
    "import os\n",
    "import pickle\n",
    "import pandas as pd\n",
    "from matplotlib import pyplot as plt\n",
    "import numpy as np\n",
    "from ms2deepscore import SpectrumBinner\n",
    "from ms2deepscore.models import SiameseModel\n",
    "\n",
    "path_root = os.path.dirname(os.getcwd())\n",
    "path_data = os.path.join(os.path.dirname(path_root), \"Data\")  # add your local data folder here"
   ]
  },
  {
   "cell_type": "code",
   "execution_count": 2,
   "id": "ideal-benjamin",
   "metadata": {},
   "outputs": [],
   "source": [
    "def count_annotations(spectrums):\n",
    "    inchi_lst = []\n",
    "    smiles_lst = []\n",
    "    inchikey_lst = []\n",
    "    for i, spec in enumerate(spectrums):\n",
    "        inchi_lst.append(spec.get(\"inchi\"))\n",
    "        smiles_lst.append(spec.get(\"smiles\"))\n",
    "        inchikey = spec.get(\"inchikey\")\n",
    "        if inchikey is None:\n",
    "            inchikey = spec.get(\"inchikey_inchi\")\n",
    "        inchikey_lst.append(inchikey)\n",
    "\n",
    "    inchi_count = sum([1 for x in inchi_lst if x])\n",
    "    smiles_count = sum([1 for x in smiles_lst if x])\n",
    "    inchikey_count = sum([1 for x in inchikey_lst if x])\n",
    "    print(\"Inchis:\", inchi_count, \"--\", len(set(inchi_lst)), \"unique\")\n",
    "    print(\"Smiles:\", smiles_count, \"--\", len(set(smiles_lst)), \"unique\")\n",
    "    print(\"Inchikeys:\", inchikey_count, \"--\", \n",
    "          len(set([x[:14] for x in inchikey_lst if x])), \"unique (first 14 characters)\")"
   ]
  },
  {
   "cell_type": "markdown",
   "id": "solar-express",
   "metadata": {},
   "source": [
    "## Load positive ionmode spectrums"
   ]
  },
  {
   "cell_type": "code",
   "execution_count": 3,
   "id": "postal-reception",
   "metadata": {},
   "outputs": [
    {
     "name": "stdout",
     "output_type": "stream",
     "text": [
      "373405 spectra imported.\n"
     ]
    }
   ],
   "source": [
    "filename = os.path.join(path_data, 'GNPS_all', 'ALL_GNPS_210409_positive_cleaned.pickle')\n",
    "with open(filename, 'rb') as file:\n",
    "    spectrums = pickle.load(file)\n",
    "\n",
    "print(f\"{len(spectrums)} spectra imported.\")"
   ]
  },
  {
   "cell_type": "markdown",
   "id": "monetary-final",
   "metadata": {},
   "source": [
    "## Creating a subselection with only fully annotated spectra\n",
    "- all annotated with InChIKey + SMILES and/or InChI\n",
    "- all positive ionization mode"
   ]
  },
  {
   "cell_type": "code",
   "execution_count": 4,
   "id": "stretch-stadium",
   "metadata": {},
   "outputs": [
    {
     "data": {
      "text/plain": [
       "359574"
      ]
     },
     "execution_count": 4,
     "metadata": {},
     "output_type": "execute_result"
    }
   ],
   "source": [
    "spectrums_pos_annotated = []\n",
    "for spec in spectrums:\n",
    "    inchikey = spec.get(\"inchikey\")\n",
    "    if inchikey is not None and len(inchikey) > 13:\n",
    "        if spec.get(\"smiles\") or spec.get(\"inchi\"):\n",
    "            spectrums_pos_annotated.append(spec)\n",
    "\n",
    "len(spectrums_pos_annotated)"
   ]
  },
  {
   "cell_type": "code",
   "execution_count": 5,
   "id": "architectural-cowboy",
   "metadata": {
    "scrolled": true
   },
   "outputs": [
    {
     "name": "stdout",
     "output_type": "stream",
     "text": [
      "Inchis: 359574 -- 21209 unique\n",
      "Smiles: 359574 -- 27823 unique\n",
      "Inchikeys: 359574 -- 17579 unique (first 14 characters)\n"
     ]
    }
   ],
   "source": [
    "count_annotations(spectrums_pos_annotated)"
   ]
  },
  {
   "cell_type": "code",
   "execution_count": 6,
   "id": "aboriginal-patch",
   "metadata": {},
   "outputs": [
    {
     "name": "stdout",
     "output_type": "stream",
     "text": [
      "173051 spectra have < 10 peaks\n",
      "109355 spectra have < 5 peaks\n",
      "43937 spectra have < 2 peaks\n",
      "0 spectra have < 1 peaks\n"
     ]
    }
   ],
   "source": [
    "number_of_peaks = np.array([len(s.peaks) for s in spectrums])\n",
    "\n",
    "print(f\"{np.sum(number_of_peaks < 10)} spectra have < 10 peaks\")\n",
    "print(f\"{np.sum(number_of_peaks < 5)} spectra have < 5 peaks\")\n",
    "print(f\"{np.sum(number_of_peaks < 2)} spectra have < 2 peaks\")\n",
    "print(f\"{np.sum(number_of_peaks < 1)} spectra have < 1 peaks\")"
   ]
  },
  {
   "cell_type": "code",
   "execution_count": 7,
   "id": "bizarre-lincoln",
   "metadata": {},
   "outputs": [],
   "source": [
    "pickle.dump(spectrums_pos_annotated, \n",
    "            open(os.path.join(path_data, 'GNPS_all', 'ALL_GNPS_210409_positive_annotated.pickle'), \"wb\"))"
   ]
  },
  {
   "cell_type": "markdown",
   "id": "presidential-orchestra",
   "metadata": {},
   "source": [
    "# First data exploration\n",
    "\n",
    "## Many spectra contain very few peaks!\n",
    "- We here remove spectra with less than 5 peaks with m/z values in the range between 10.0 and 1000.0 Da\n",
    "- We then make another subselection of only spectra which are fully annotated (InChIKey + SMILES/InChI)"
   ]
  },
  {
   "cell_type": "code",
   "execution_count": 6,
   "id": "parliamentary-zambia",
   "metadata": {},
   "outputs": [
    {
     "name": "stdout",
     "output_type": "stream",
     "text": [
      "173051 spectra have < 10 peaks\n",
      "109355 spectra have < 5 peaks\n",
      "43937 spectra have < 2 peaks\n",
      "0 spectra have < 1 peaks\n"
     ]
    }
   ],
   "source": [
    "number_of_peaks = np.array([len(s.peaks) for s in spectrums])\n",
    "\n",
    "print(f\"{np.sum(number_of_peaks < 10)} spectra have < 10 peaks\")\n",
    "print(f\"{np.sum(number_of_peaks < 5)} spectra have < 5 peaks\")\n",
    "print(f\"{np.sum(number_of_peaks < 2)} spectra have < 2 peaks\")\n",
    "print(f\"{np.sum(number_of_peaks < 1)} spectra have < 1 peaks\")"
   ]
  },
  {
   "cell_type": "markdown",
   "id": "accomplished-weight",
   "metadata": {},
   "source": [
    "## Creating a processed subselection with only fully annotated spectra\n",
    "- all positive ionization mode spectra which are annotated with InChIKey + SMILES and/or InChI\n",
    "- normalize peaks\n",
    "- remove peaks with intensities < 0.001\n",
    "- remove spectra with < 5 peaks with m/z between 10.0 and 1000.0 Da"
   ]
  },
  {
   "cell_type": "code",
   "execution_count": 11,
   "id": "sublime-label",
   "metadata": {},
   "outputs": [],
   "source": [
    "from matchms.filtering import select_by_intensity, select_by_mz\n",
    "from matchms.filtering import normalize_intensities\n",
    "from matchms.filtering import require_minimum_number_of_peaks\n",
    "\n",
    "def minimal_processing(spectrum, max_mz=1000.0, intensity_from=0.001, n_required=5):\n",
    "    spectrum = normalize_intensities(spectrum)\n",
    "    spectrum = select_by_mz(spectrum, mz_from=10.0, mz_to=np.inf)\n",
    "    spectrum = select_by_intensity(spectrum,\n",
    "                                   intensity_from=intensity_from)\n",
    "    if spectrum.peaks.mz[spectrum.peaks.mz < max_mz].size < n_required:\n",
    "        return None\n",
    "    return spectrum"
   ]
  },
  {
   "cell_type": "code",
   "execution_count": 12,
   "id": "funded-terrorist",
   "metadata": {},
   "outputs": [
    {
     "data": {
      "application/vnd.jupyter.widget-view+json": {
       "model_id": "cd88b8dda22b49dd840dd00adb2dfd84",
       "version_major": 2,
       "version_minor": 0
      },
      "text/plain": [
       "  0%|          | 0/359574 [00:00<?, ?it/s]"
      ]
     },
     "metadata": {},
     "output_type": "display_data"
    },
    {
     "name": "stdout",
     "output_type": "stream",
     "text": [
      "Inchis: 250129 -- 20393 unique\n",
      "Smiles: 250129 -- 26755 unique\n",
      "Inchikeys: 250129 -- 17105 unique (first 14 characters)\n"
     ]
    }
   ],
   "source": [
    "from tqdm.notebook import tqdm\n",
    "\n",
    "spectrums_pos_processed = [minimal_processing(s) for s in tqdm(spectrums_pos_annotated)]\n",
    "spectrums_pos_processed = [s for s in spectrums_pos_processed if s is not None]\n",
    "count_annotations(spectrums_pos_processed)"
   ]
  },
  {
   "cell_type": "code",
   "execution_count": 16,
   "id": "selective-classroom",
   "metadata": {},
   "outputs": [
    {
     "data": {
      "text/plain": [
       "250129"
      ]
     },
     "execution_count": 16,
     "metadata": {},
     "output_type": "execute_result"
    }
   ],
   "source": [
    "pickle.dump(spectrums_pos_processed, \n",
    "            open(os.path.join(path_data, 'GNPS_all', 'ALL_GNPS_210409_positive_processed_annotated.pickle'), \"wb\"))\n",
    "len(spectrums_pos_processed)"
   ]
  },
  {
   "cell_type": "code",
   "execution_count": 3,
   "id": "shared-mistress",
   "metadata": {},
   "outputs": [],
   "source": [
    "filename = os.path.join(path_data, 'GNPS_all', 'ALL_GNPS_210409_positive_processed_annotated.pickle')\n",
    "with open(filename, 'rb') as file:\n",
    "    spectrums_pos_processed = pickle.load(file)"
   ]
  },
  {
   "cell_type": "code",
   "execution_count": 17,
   "id": "liked-regard",
   "metadata": {},
   "outputs": [
    {
     "name": "stdout",
     "output_type": "stream",
     "text": [
      "Found 250129 spectrums with inchikey\n"
     ]
    }
   ],
   "source": [
    "# check inchikeys\n",
    "from matchms.utils import is_valid_inchikey\n",
    "\n",
    "inchikey_count = 0\n",
    "for spec in spectrums_pos_processed:\n",
    "    if is_valid_inchikey(spec.get(\"inchikey\")):\n",
    "        inchikey_count += 1\n",
    "\n",
    "print(f\"Found {inchikey_count} spectrums with inchikey\")"
   ]
  },
  {
   "cell_type": "markdown",
   "id": "sufficient-comedy",
   "metadata": {},
   "source": [
    "## Data exploration"
   ]
  },
  {
   "cell_type": "code",
   "execution_count": 18,
   "id": "unsigned-soundtrack",
   "metadata": {},
   "outputs": [
    {
     "data": {
      "text/plain": [
       "17105"
      ]
     },
     "execution_count": 18,
     "metadata": {},
     "output_type": "execute_result"
    }
   ],
   "source": [
    "inchikeys14 = np.array([s.get(\"inchikey\")[:14] for s in spectrums_pos_processed])\n",
    "inchikeys14_unique = list({x for x in inchikeys14})\n",
    "len(inchikeys14_unique)"
   ]
  },
  {
   "cell_type": "code",
   "execution_count": 19,
   "id": "prerequisite-handling",
   "metadata": {},
   "outputs": [
    {
     "data": {
      "text/plain": [
       "Text(0, 0.5, 'cumulative number of spectra')"
      ]
     },
     "execution_count": 19,
     "metadata": {},
     "output_type": "execute_result"
    },
    {
     "data": {
      "image/png": "[encoded data removed]",
      "text/plain": [
       "<Figure size 840x480 with 1 Axes>"
      ]
     },
     "metadata": {
      "needs_background": "light"
     },
     "output_type": "display_data"
    }
   ],
   "source": [
    "inchikey_frequency = []\n",
    "\n",
    "for inchikey14 in inchikeys14_unique:\n",
    "    idx = np.where(inchikeys14 == inchikey14)[0]\n",
    "    inchikey_frequency.append(idx.shape[0])\n",
    "\n",
    "inchikey_frequency = np.array(inchikey_frequency)\n",
    "\n",
    "cumulative = np.cumsum(inchikey_frequency[inchikey_frequency.argsort()][::-1])\n",
    "\n",
    "plt.figure(figsize=(7,4), dpi=120)\n",
    "plt.plot(cumulative, c='teal')\n",
    "plt.xlabel(\"number of unique compounds\")\n",
    "plt.ylabel(\"cumulative number of spectra\")"
   ]
  },
  {
   "cell_type": "code",
   "execution_count": 57,
   "id": "historic-voluntary",
   "metadata": {},
   "outputs": [
    {
     "data": {
      "text/plain": [
       "(0.0, 2000.0)"
      ]
     },
     "execution_count": 57,
     "metadata": {},
     "output_type": "execute_result"
    },
    {
     "data": {
      "image/png": "[encoded data removed]",
      "text/plain": [
       "<Figure size 840x480 with 1 Axes>"
      ]
     },
     "metadata": {
      "needs_background": "light"
     },
     "output_type": "display_data"
    }
   ],
   "source": [
    "plt.figure(figsize=(7,4), dpi=120)\n",
    "plt.plot(100 * cumulative/max(cumulative), c='teal')\n",
    "plt.xlabel(\"number of unique compounds\")\n",
    "plt.ylabel(\"cumulative number of spectra [percent]\")\n",
    "plt.xlim((0, 2000))"
   ]
  },
  {
   "cell_type": "markdown",
   "id": "hearing-debut",
   "metadata": {},
   "source": [
    "### the 1000 most frequent inchikeys make up for 50% of the total spectra"
   ]
  },
  {
   "cell_type": "code",
   "execution_count": 53,
   "id": "urban-contribution",
   "metadata": {},
   "outputs": [
    {
     "data": {
      "image/png": "[encoded data removed]",
      "text/plain": [
       "<Figure size 840x480 with 1 Axes>"
      ]
     },
     "metadata": {
      "needs_background": "light"
     },
     "output_type": "display_data"
    }
   ],
   "source": [
    "bins = [0, 1.1,10.1, 20.1, 30.1, 40.1, 50.1, 100.1, 500.1, 1000]\n",
    "labels = [f\"{bins[i]:.0f} - {bins[i+1]:.0f}\" for i in range(len(bins)-1)]\n",
    "\n",
    "a,b = np.histogram(inchikey_frequency, bins)\n",
    "\n",
    "plt.figure(figsize=(7,4), dpi=120)\n",
    "plt.bar(np.arange(len(a)), a)\n",
    "plt.xticks(np.arange(len(a)), labels, rotation='vertical')\n",
    "plt.ylabel(\"number of inchikey\")\n",
    "plt.xlabel(\"number of spectra per inchikey\")\n",
    "plt.show()"
   ]
  },
  {
   "cell_type": "markdown",
   "id": "numerous-shannon",
   "metadata": {},
   "source": [
    "# Further explore data"
   ]
  },
  {
   "cell_type": "code",
   "execution_count": 66,
   "id": "expensive-balloon",
   "metadata": {},
   "outputs": [
    {
     "data": {
      "text/plain": [
       "(0.0, 100.0)"
      ]
     },
     "execution_count": 66,
     "metadata": {},
     "output_type": "execute_result"
    },
    {
     "data": {
      "image/png": "[encoded data removed]",
      "text/plain": [
       "<Figure size 432x288 with 1 Axes>"
      ]
     },
     "metadata": {
      "needs_background": "light"
     },
     "output_type": "display_data"
    }
   ],
   "source": [
    "numbers_of_peaks = np.array([len(s.peaks) for s in spectrums_pos_annotated])\n",
    "plt.hist(numbers_of_peaks, np.linspace(0,100,101))\n",
    "plt.xlim(0, 100)"
   ]
  },
  {
   "cell_type": "code",
   "execution_count": 110,
   "id": "restricted-french",
   "metadata": {},
   "outputs": [
    {
     "name": "stdout",
     "output_type": "stream",
     "text": [
      "250371 spectra with >= 5 peaks.\n",
      "187147 spectra with >= 10 peaks.\n",
      "151982 spectra with >= 15 peaks.\n",
      "129956 spectra with >= 20 peaks.\n"
     ]
    }
   ],
   "source": [
    "for num in [5, 10, 15, 20]:\n",
    "    print(f\"{np.sum(numbers_of_peaks >= num)} spectra with >= {num} peaks.\")"
   ]
  },
  {
   "cell_type": "code",
   "execution_count": 92,
   "id": "completed-stadium",
   "metadata": {},
   "outputs": [
    {
     "data": {
      "text/plain": [
       "(17106,)"
      ]
     },
     "execution_count": 92,
     "metadata": {},
     "output_type": "execute_result"
    }
   ],
   "source": [
    "inchikeys14.shape"
   ]
  },
  {
   "cell_type": "code",
   "execution_count": 71,
   "id": "adult-pavilion",
   "metadata": {},
   "outputs": [
    {
     "data": {
      "text/plain": [
       "Text(0.5, 0, 'parent mass')"
      ]
     },
     "execution_count": 71,
     "metadata": {},
     "output_type": "execute_result"
    },
    {
     "data": {
      "image/png": "[encoded data removed]",
      "text/plain": [
       "<Figure size 432x288 with 1 Axes>"
      ]
     },
     "metadata": {
      "needs_background": "light"
     },
     "output_type": "display_data"
    }
   ],
   "source": [
    "masses = [s.get(\"parent_mass\") for s in spectrums_pos_annotated]\n",
    "plt.hist(masses, np.linspace(0,1000,100))\n",
    "plt.xlim(0, 1000)\n",
    "plt.xlabel(\"parent mass\")"
   ]
  },
  {
   "cell_type": "code",
   "execution_count": null,
   "id": "further-entertainment",
   "metadata": {},
   "outputs": [],
   "source": [
    "inchikeys14all = np.array([s.get(\"inchikey\")[:14] for s in spectrums_pos_annotated])"
   ]
  },
  {
   "cell_type": "code",
   "execution_count": 84,
   "id": "technical-content",
   "metadata": {},
   "outputs": [],
   "source": [
    "min_num_peaks = 10\n",
    "select_spectra_subset = []\n",
    "select_spectra_ids = []\n",
    "\n",
    "for inchikey in np.unique(inchikeys14all):\n",
    "    idx = np.where(inchikeys14all == inchikey)[0]\n",
    "    lengths = numbers_of_peaks[idx]\n",
    "    select = np.where(lengths >= min_num_peaks)[0]\n",
    "    if select.shape[0] == 0:\n",
    "        select = np.argmax(lengths)\n",
    "    idx_select = idx[select]\n",
    "    if isinstance(idx_select, np.int64):\n",
    "        idx_select = [idx_select]\n",
    "    select_spectra_subset += [idx_select]\n",
    "    select_spectra_ids +=[x for x in idx_select]"
   ]
  },
  {
   "cell_type": "code",
   "execution_count": 104,
   "id": "circular-hartford",
   "metadata": {},
   "outputs": [
    {
     "data": {
      "text/plain": [
       "((16360,), (187147,), (17106,))"
      ]
     },
     "execution_count": 104,
     "metadata": {},
     "output_type": "execute_result"
    }
   ],
   "source": [
    "inchikeys14all_10 = np.array([s.get(\"inchikey\")[:14] for s in spectrums_pos_annotated if len(s.peaks)>=10])\n",
    "np.unique(inchikeys14all_10).shape, inchikeys14all_10.shape, np.unique(inchikeys14all).shape"
   ]
  },
  {
   "cell_type": "code",
   "execution_count": 90,
   "id": "accepted-travel",
   "metadata": {},
   "outputs": [
    {
     "data": {
      "text/plain": [
       "(0.0, 100.0)"
      ]
     },
     "execution_count": 90,
     "metadata": {},
     "output_type": "execute_result"
    },
    {
     "data": {
      "image/png": "[encoded data removed]",
      "text/plain": [
       "<Figure size 432x288 with 1 Axes>"
      ]
     },
     "metadata": {
      "needs_background": "light"
     },
     "output_type": "display_data"
    }
   ],
   "source": [
    "#numbers_of_peaks = np.array([len(s.peaks) for s in spectrums_pos_annotated])\n",
    "plt.hist(numbers_of_peaks[select_spectra_ids], np.linspace(0,100,101))\n",
    "plt.xlim(0, 100)"
   ]
  },
  {
   "cell_type": "code",
   "execution_count": 97,
   "id": "following-monkey",
   "metadata": {},
   "outputs": [
    {
     "data": {
      "text/plain": [
       "(array(['AAABMNXUOFPYQK', 'AAABMNXUOFPYQK', 'AAABMNXUOFPYQK',\n",
       "        'AAABMNXUOFPYQK', 'AAABMNXUOFPYQK', 'AABILZKQMVKFHP',\n",
       "        'AABILZKQMVKFHP', 'AABILZKQMVKFHP', 'AABILZKQMVKFHP',\n",
       "        'AABILZKQMVKFHP'], dtype='<U14'),\n",
       " 17106)"
      ]
     },
     "execution_count": 97,
     "metadata": {},
     "output_type": "execute_result"
    }
   ],
   "source": [
    "inchikeys14all[select_spectra_ids][:10], len(inchikeys14_unique)"
   ]
  },
  {
   "cell_type": "code",
   "execution_count": 98,
   "id": "overhead-discipline",
   "metadata": {},
   "outputs": [
    {
     "data": {
      "text/plain": [
       "Text(0, 0.5, 'cumulative number of spectra')"
      ]
     },
     "execution_count": 98,
     "metadata": {},
     "output_type": "execute_result"
    },
    {
     "data": {
      "image/png": "[encoded data removed]",
      "text/plain": [
       "<Figure size 840x480 with 1 Axes>"
      ]
     },
     "metadata": {
      "needs_background": "light"
     },
     "output_type": "display_data"
    }
   ],
   "source": [
    "inchikey_frequency = []\n",
    "\n",
    "for inchikey14 in inchikeys14_unique:\n",
    "    idx = np.where(inchikeys14all[select_spectra_ids] == inchikey14)[0]\n",
    "    inchikey_frequency.append(idx.shape[0])\n",
    "\n",
    "inchikey_frequency = np.array(inchikey_frequency)\n",
    "\n",
    "cumulative = np.cumsum(inchikey_frequency[inchikey_frequency.argsort()][::-1])\n",
    "\n",
    "plt.figure(figsize=(7,4), dpi=120)\n",
    "plt.plot(cumulative, c='teal')\n",
    "plt.xlabel(\"number of unique compounds\")\n",
    "plt.ylabel(\"cumulative number of spectra\")"
   ]
  },
  {
   "cell_type": "code",
   "execution_count": 103,
   "id": "ready-tender",
   "metadata": {},
   "outputs": [
    {
     "data": {
      "image/png": "[encoded data removed]",
      "text/plain": [
       "<Figure size 840x480 with 1 Axes>"
      ]
     },
     "metadata": {
      "needs_background": "light"
     },
     "output_type": "display_data"
    }
   ],
   "source": [
    "bins = [0, 1.1,10.1, 20.1, 30.1, 40.1, 50.1, 100.1, 200.1, 500.1, 1000]\n",
    "labels = [f\"{bins[i]:.0f} - {bins[i+1]:.0f}\" for i in range(len(bins)-1)]\n",
    "\n",
    "a,b = np.histogram(inchikey_frequency, bins)\n",
    "\n",
    "plt.figure(figsize=(7,4), dpi=120)\n",
    "plt.bar(np.arange(len(a)), a)\n",
    "plt.xticks(np.arange(len(a)), labels, rotation='vertical')\n",
    "plt.ylabel(\"number of inchikey\")\n",
    "plt.xlabel(\"number of spectra per inchikey\")\n",
    "plt.show()"
   ]
  },
  {
   "cell_type": "code",
   "execution_count": 88,
   "id": "identified-strand",
   "metadata": {},
   "outputs": [],
   "source": [
    "select_spectra_ids = []\n",
    "for idx_select in select_spectra_subset:\n",
    "    select_spectra_ids += [x for x in idx_select]"
   ]
  },
  {
   "cell_type": "code",
   "execution_count": 86,
   "id": "isolated-anaheim",
   "metadata": {},
   "outputs": [
    {
     "data": {
      "text/plain": [
       "[array([323, 324, 325, 326, 327], dtype=int64),\n",
       " array([77464, 77521, 77556, 77916, 78100, 78151, 78255, 78264, 78761,\n",
       "        78997, 79093, 79209, 79386, 79558, 79667, 79675, 79972],\n",
       "       dtype=int64),\n",
       " array([584, 585], dtype=int64),\n",
       " array([ 15552, 113272], dtype=int64),\n",
       " array([51655], dtype=int64),\n",
       " array([10837], dtype=int64),\n",
       " array([30778, 30779, 31034, 31035, 31306, 31307, 31562, 31563, 32762,\n",
       "        32763, 34580, 34581, 34902, 34903, 36957, 36958, 37091, 37092,\n",
       "        37239, 37240, 37409, 37410, 37545, 37546, 37653, 37654, 37809,\n",
       "        37810, 37975, 37976, 38381, 38382, 38533, 38534, 38617, 38618,\n",
       "        38879, 38880, 43094, 43095], dtype=int64),\n",
       " array([ 13246, 102927, 102928, 102929, 102930, 102931, 102932, 102933,\n",
       "        102934, 102935, 102936, 102937, 102938], dtype=int64),\n",
       " array([65842, 66123, 67033, 67085, 67579, 67861, 68026, 68333, 68547,\n",
       "        69310], dtype=int64),\n",
       " array([21472, 21724, 21749, 52709, 52710, 52711, 52713, 52714, 52715,\n",
       "        52716, 60390, 74202, 74456, 75848, 76703], dtype=int64)]"
      ]
     },
     "execution_count": 86,
     "metadata": {},
     "output_type": "execute_result"
    }
   ],
   "source": [
    "select_spectra_subset[:10]"
   ]
  },
  {
   "cell_type": "code",
   "execution_count": 89,
   "id": "unexpected-vietnamese",
   "metadata": {},
   "outputs": [
    {
     "data": {
      "text/plain": [
       "187893"
      ]
     },
     "execution_count": 89,
     "metadata": {},
     "output_type": "execute_result"
    }
   ],
   "source": [
    "len(select_spectra_ids)"
   ]
  },
  {
   "cell_type": "code",
   "execution_count": 58,
   "id": "needed-floor",
   "metadata": {},
   "outputs": [
    {
     "name": "stdout",
     "output_type": "stream",
     "text": [
      "[601 602]\n"
     ]
    },
    {
     "ename": "NameError",
     "evalue": "name 'make_stems' is not defined",
     "output_type": "error",
     "traceback": [
      "\u001b[1;31m---------------------------------------------------------------------------\u001b[0m",
      "\u001b[1;31mNameError\u001b[0m                                 Traceback (most recent call last)",
      "\u001b[1;32m<ipython-input-58-d6a2f205bd9c>\u001b[0m in \u001b[0;36m<module>\u001b[1;34m\u001b[0m\n\u001b[0;32m     12\u001b[0m     \u001b[0mmax_mz\u001b[0m \u001b[1;33m=\u001b[0m \u001b[0mmax\u001b[0m\u001b[1;33m(\u001b[0m\u001b[0mmax_mz\u001b[0m\u001b[1;33m,\u001b[0m \u001b[0mspectrums\u001b[0m\u001b[1;33m[\u001b[0m\u001b[0mID\u001b[0m\u001b[1;33m]\u001b[0m\u001b[1;33m.\u001b[0m\u001b[0mpeaks\u001b[0m\u001b[1;33m.\u001b[0m\u001b[0mmz\u001b[0m\u001b[1;33m.\u001b[0m\u001b[0mmax\u001b[0m\u001b[1;33m(\u001b[0m\u001b[1;33m)\u001b[0m\u001b[1;33m)\u001b[0m\u001b[1;33m\u001b[0m\u001b[1;33m\u001b[0m\u001b[0m\n\u001b[0;32m     13\u001b[0m     \u001b[0mmin_mz\u001b[0m \u001b[1;33m=\u001b[0m \u001b[0mmin\u001b[0m\u001b[1;33m(\u001b[0m\u001b[0mmin_mz\u001b[0m\u001b[1;33m,\u001b[0m \u001b[0mspectrums\u001b[0m\u001b[1;33m[\u001b[0m\u001b[0mID\u001b[0m\u001b[1;33m]\u001b[0m\u001b[1;33m.\u001b[0m\u001b[0mpeaks\u001b[0m\u001b[1;33m.\u001b[0m\u001b[0mmz\u001b[0m\u001b[1;33m.\u001b[0m\u001b[0mmin\u001b[0m\u001b[1;33m(\u001b[0m\u001b[1;33m)\u001b[0m\u001b[1;33m)\u001b[0m\u001b[1;33m\u001b[0m\u001b[1;33m\u001b[0m\u001b[0m\n\u001b[1;32m---> 14\u001b[1;33m     \u001b[0mx\u001b[0m\u001b[1;33m,\u001b[0m \u001b[0my\u001b[0m \u001b[1;33m=\u001b[0m \u001b[0mmake_stems\u001b[0m\u001b[1;33m(\u001b[0m\u001b[0mspectrums\u001b[0m\u001b[1;33m[\u001b[0m\u001b[0mID\u001b[0m\u001b[1;33m]\u001b[0m\u001b[1;33m)\u001b[0m\u001b[1;33m\u001b[0m\u001b[1;33m\u001b[0m\u001b[0m\n\u001b[0m\u001b[0;32m     15\u001b[0m     \u001b[0mplt\u001b[0m\u001b[1;33m.\u001b[0m\u001b[0mplot\u001b[0m\u001b[1;33m(\u001b[0m\u001b[0mx\u001b[0m\u001b[1;33m,\u001b[0m \u001b[0my\u001b[0m\u001b[1;33m,\u001b[0m \u001b[0mc\u001b[0m\u001b[1;33m=\u001b[0m\u001b[0mcmap\u001b[0m\u001b[1;33m(\u001b[0m\u001b[0mi\u001b[0m\u001b[1;33m/\u001b[0m\u001b[0mN\u001b[0m\u001b[1;33m)\u001b[0m\u001b[1;33m,\u001b[0m \u001b[0mlinewidth\u001b[0m\u001b[1;33m=\u001b[0m\u001b[1;36m1\u001b[0m\u001b[1;33m,\u001b[0m \u001b[0malpha\u001b[0m\u001b[1;33m=\u001b[0m\u001b[1;36m0.3\u001b[0m\u001b[1;33m)\u001b[0m\u001b[1;33m\u001b[0m\u001b[1;33m\u001b[0m\u001b[0m\n\u001b[0;32m     16\u001b[0m \u001b[0mplt\u001b[0m\u001b[1;33m.\u001b[0m\u001b[0mxlim\u001b[0m\u001b[1;33m(\u001b[0m\u001b[1;33m(\u001b[0m\u001b[0mmin_mz\u001b[0m\u001b[1;33m,\u001b[0m \u001b[0mmax_mz\u001b[0m\u001b[1;33m)\u001b[0m\u001b[1;33m)\u001b[0m\u001b[1;33m\u001b[0m\u001b[1;33m\u001b[0m\u001b[0m\n",
      "\u001b[1;31mNameError\u001b[0m: name 'make_stems' is not defined"
     ]
    },
    {
     "data": {
      "text/plain": [
       "<Figure size 960x720 with 0 Axes>"
      ]
     },
     "metadata": {},
     "output_type": "display_data"
    }
   ],
   "source": [
    "import matplotlib\n",
    "cmap = matplotlib.cm.get_cmap('hsv')\n",
    "\n",
    "idx = np.where(inchikeys14 == inchikeys14[602])[0] #600\n",
    "print(idx)\n",
    "\n",
    "plt.figure(figsize=(8,6), dpi=120)\n",
    "N = idx.shape[0]\n",
    "max_mz = 0.0\n",
    "min_mz = np.inf\n",
    "for i, ID in enumerate(idx):\n",
    "    max_mz = max(max_mz, spectrums[ID].peaks.mz.max())\n",
    "    min_mz = min(min_mz, spectrums[ID].peaks.mz.min())\n",
    "    x, y = make_stems(spectrums[ID])\n",
    "    plt.plot(x, y, c=cmap(i/N), linewidth=1, alpha=0.3)\n",
    "plt.xlim((min_mz, max_mz))\n",
    "plt.show()"
   ]
  },
  {
   "cell_type": "markdown",
   "id": "environmental-regression",
   "metadata": {},
   "source": [
    "### Load Tanimoto scores (=labels)"
   ]
  },
  {
   "cell_type": "code",
   "execution_count": 6,
   "id": "contrary-plant",
   "metadata": {},
   "outputs": [
    {
     "data": {
      "text/html": [
       "<div>\n",
       "<style scoped>\n",
       "    .dataframe tbody tr th:only-of-type {\n",
       "        vertical-align: middle;\n",
       "    }\n",
       "\n",
       "    .dataframe tbody tr th {\n",
       "        vertical-align: top;\n",
       "    }\n",
       "\n",
       "    .dataframe thead th {\n",
       "        text-align: right;\n",
       "    }\n",
       "</style>\n",
       "<table border=\"1\" class=\"dataframe\">\n",
       "  <thead>\n",
       "    <tr style=\"text-align: right;\">\n",
       "      <th></th>\n",
       "      <th>STZYTFJPGGDRJD</th>\n",
       "      <th>SWTDXMBCOHIACK</th>\n",
       "      <th>HJBWJAPEBGSQPR</th>\n",
       "      <th>VQNWOYVWHDVFJY</th>\n",
       "      <th>WFDXOXNFNRHQEC</th>\n",
       "      <th>GZLIPAFSJXROEC</th>\n",
       "      <th>YTZSBJLNMIQROD</th>\n",
       "      <th>FOULCGVQZYQEQM</th>\n",
       "      <th>BPSJMBKZSUTYNF</th>\n",
       "      <th>PZJVSTTVMXPZCJ</th>\n",
       "      <th>...</th>\n",
       "      <th>VLSRUFWCGBMYDJ</th>\n",
       "      <th>SXXHPCVDFDABHW</th>\n",
       "      <th>MRHAPHFJBAUDTR</th>\n",
       "      <th>ZYCWGZVLCXRARB</th>\n",
       "      <th>CGUNOWXWUXNOPE</th>\n",
       "      <th>MGRVRXRGTBOSHW</th>\n",
       "      <th>WELCNKRQSNXMDQ</th>\n",
       "      <th>XFANDVLPSBUGKD</th>\n",
       "      <th>NDTYTMIUWGWIMO</th>\n",
       "      <th>OAUIRSVJXOFAOO</th>\n",
       "    </tr>\n",
       "  </thead>\n",
       "  <tbody>\n",
       "    <tr>\n",
       "      <th>STZYTFJPGGDRJD</th>\n",
       "      <td>1.000000</td>\n",
       "      <td>0.377404</td>\n",
       "      <td>0.124056</td>\n",
       "      <td>0.269856</td>\n",
       "      <td>0.233411</td>\n",
       "      <td>0.258824</td>\n",
       "      <td>0.354221</td>\n",
       "      <td>0.227136</td>\n",
       "      <td>0.277537</td>\n",
       "      <td>0.316971</td>\n",
       "      <td>...</td>\n",
       "      <td>0.112832</td>\n",
       "      <td>0.177950</td>\n",
       "      <td>0.277099</td>\n",
       "      <td>0.308905</td>\n",
       "      <td>0.341988</td>\n",
       "      <td>0.017219</td>\n",
       "      <td>0.274643</td>\n",
       "      <td>0.298611</td>\n",
       "      <td>0.138404</td>\n",
       "      <td>0.270531</td>\n",
       "    </tr>\n",
       "    <tr>\n",
       "      <th>SWTDXMBCOHIACK</th>\n",
       "      <td>0.377404</td>\n",
       "      <td>1.000000</td>\n",
       "      <td>0.158318</td>\n",
       "      <td>0.274962</td>\n",
       "      <td>0.297240</td>\n",
       "      <td>0.324305</td>\n",
       "      <td>0.372534</td>\n",
       "      <td>0.216172</td>\n",
       "      <td>0.274742</td>\n",
       "      <td>0.351300</td>\n",
       "      <td>...</td>\n",
       "      <td>0.140399</td>\n",
       "      <td>0.184380</td>\n",
       "      <td>0.325533</td>\n",
       "      <td>0.353607</td>\n",
       "      <td>0.387618</td>\n",
       "      <td>0.014911</td>\n",
       "      <td>0.364401</td>\n",
       "      <td>0.371447</td>\n",
       "      <td>0.153314</td>\n",
       "      <td>0.366841</td>\n",
       "    </tr>\n",
       "    <tr>\n",
       "      <th>HJBWJAPEBGSQPR</th>\n",
       "      <td>0.124056</td>\n",
       "      <td>0.158318</td>\n",
       "      <td>1.000000</td>\n",
       "      <td>0.159198</td>\n",
       "      <td>0.209205</td>\n",
       "      <td>0.200203</td>\n",
       "      <td>0.133133</td>\n",
       "      <td>0.106944</td>\n",
       "      <td>0.201604</td>\n",
       "      <td>0.157643</td>\n",
       "      <td>...</td>\n",
       "      <td>0.753012</td>\n",
       "      <td>0.152395</td>\n",
       "      <td>0.180529</td>\n",
       "      <td>0.188280</td>\n",
       "      <td>0.147473</td>\n",
       "      <td>0.005848</td>\n",
       "      <td>0.199245</td>\n",
       "      <td>0.234842</td>\n",
       "      <td>0.074725</td>\n",
       "      <td>0.180833</td>\n",
       "    </tr>\n",
       "    <tr>\n",
       "      <th>VQNWOYVWHDVFJY</th>\n",
       "      <td>0.269856</td>\n",
       "      <td>0.274962</td>\n",
       "      <td>0.159198</td>\n",
       "      <td>1.000000</td>\n",
       "      <td>0.270677</td>\n",
       "      <td>0.261011</td>\n",
       "      <td>0.218063</td>\n",
       "      <td>0.237487</td>\n",
       "      <td>0.228497</td>\n",
       "      <td>0.471683</td>\n",
       "      <td>...</td>\n",
       "      <td>0.149272</td>\n",
       "      <td>0.216159</td>\n",
       "      <td>0.591716</td>\n",
       "      <td>0.370402</td>\n",
       "      <td>0.279240</td>\n",
       "      <td>0.014306</td>\n",
       "      <td>0.288416</td>\n",
       "      <td>0.314224</td>\n",
       "      <td>0.100515</td>\n",
       "      <td>0.262040</td>\n",
       "    </tr>\n",
       "    <tr>\n",
       "      <th>WFDXOXNFNRHQEC</th>\n",
       "      <td>0.233411</td>\n",
       "      <td>0.297240</td>\n",
       "      <td>0.209205</td>\n",
       "      <td>0.270677</td>\n",
       "      <td>1.000000</td>\n",
       "      <td>0.329466</td>\n",
       "      <td>0.273837</td>\n",
       "      <td>0.184561</td>\n",
       "      <td>0.258525</td>\n",
       "      <td>0.355102</td>\n",
       "      <td>...</td>\n",
       "      <td>0.194030</td>\n",
       "      <td>0.212011</td>\n",
       "      <td>0.330603</td>\n",
       "      <td>0.312870</td>\n",
       "      <td>0.318026</td>\n",
       "      <td>0.017301</td>\n",
       "      <td>0.319708</td>\n",
       "      <td>0.357045</td>\n",
       "      <td>0.083333</td>\n",
       "      <td>0.351071</td>\n",
       "    </tr>\n",
       "  </tbody>\n",
       "</table>\n",
       "<p>5 rows × 17106 columns</p>\n",
       "</div>"
      ],
      "text/plain": [
       "                STZYTFJPGGDRJD  SWTDXMBCOHIACK  HJBWJAPEBGSQPR  \\\n",
       "STZYTFJPGGDRJD        1.000000        0.377404        0.124056   \n",
       "SWTDXMBCOHIACK        0.377404        1.000000        0.158318   \n",
       "HJBWJAPEBGSQPR        0.124056        0.158318        1.000000   \n",
       "VQNWOYVWHDVFJY        0.269856        0.274962        0.159198   \n",
       "WFDXOXNFNRHQEC        0.233411        0.297240        0.209205   \n",
       "\n",
       "                VQNWOYVWHDVFJY  WFDXOXNFNRHQEC  GZLIPAFSJXROEC  \\\n",
       "STZYTFJPGGDRJD        0.269856        0.233411        0.258824   \n",
       "SWTDXMBCOHIACK        0.274962        0.297240        0.324305   \n",
       "HJBWJAPEBGSQPR        0.159198        0.209205        0.200203   \n",
       "VQNWOYVWHDVFJY        1.000000        0.270677        0.261011   \n",
       "WFDXOXNFNRHQEC        0.270677        1.000000        0.329466   \n",
       "\n",
       "                YTZSBJLNMIQROD  FOULCGVQZYQEQM  BPSJMBKZSUTYNF  \\\n",
       "STZYTFJPGGDRJD        0.354221        0.227136        0.277537   \n",
       "SWTDXMBCOHIACK        0.372534        0.216172        0.274742   \n",
       "HJBWJAPEBGSQPR        0.133133        0.106944        0.201604   \n",
       "VQNWOYVWHDVFJY        0.218063        0.237487        0.228497   \n",
       "WFDXOXNFNRHQEC        0.273837        0.184561        0.258525   \n",
       "\n",
       "                PZJVSTTVMXPZCJ  ...  VLSRUFWCGBMYDJ  SXXHPCVDFDABHW  \\\n",
       "STZYTFJPGGDRJD        0.316971  ...        0.112832        0.177950   \n",
       "SWTDXMBCOHIACK        0.351300  ...        0.140399        0.184380   \n",
       "HJBWJAPEBGSQPR        0.157643  ...        0.753012        0.152395   \n",
       "VQNWOYVWHDVFJY        0.471683  ...        0.149272        0.216159   \n",
       "WFDXOXNFNRHQEC        0.355102  ...        0.194030        0.212011   \n",
       "\n",
       "                MRHAPHFJBAUDTR  ZYCWGZVLCXRARB  CGUNOWXWUXNOPE  \\\n",
       "STZYTFJPGGDRJD        0.277099        0.308905        0.341988   \n",
       "SWTDXMBCOHIACK        0.325533        0.353607        0.387618   \n",
       "HJBWJAPEBGSQPR        0.180529        0.188280        0.147473   \n",
       "VQNWOYVWHDVFJY        0.591716        0.370402        0.279240   \n",
       "WFDXOXNFNRHQEC        0.330603        0.312870        0.318026   \n",
       "\n",
       "                MGRVRXRGTBOSHW  WELCNKRQSNXMDQ  XFANDVLPSBUGKD  \\\n",
       "STZYTFJPGGDRJD        0.017219        0.274643        0.298611   \n",
       "SWTDXMBCOHIACK        0.014911        0.364401        0.371447   \n",
       "HJBWJAPEBGSQPR        0.005848        0.199245        0.234842   \n",
       "VQNWOYVWHDVFJY        0.014306        0.288416        0.314224   \n",
       "WFDXOXNFNRHQEC        0.017301        0.319708        0.357045   \n",
       "\n",
       "                NDTYTMIUWGWIMO  OAUIRSVJXOFAOO  \n",
       "STZYTFJPGGDRJD        0.138404        0.270531  \n",
       "SWTDXMBCOHIACK        0.153314        0.366841  \n",
       "HJBWJAPEBGSQPR        0.074725        0.180833  \n",
       "VQNWOYVWHDVFJY        0.100515        0.262040  \n",
       "WFDXOXNFNRHQEC        0.083333        0.351071  \n",
       "\n",
       "[5 rows x 17106 columns]"
      ]
     },
     "execution_count": 6,
     "metadata": {},
     "output_type": "execute_result"
    }
   ],
   "source": [
    "filename = os.path.join(path_data, 'ALL_GNPS_210409_positive_tanimoto_scores.pickle')\n",
    "tanimoto_df = pd.read_pickle(filename)\n",
    "tanimoto_df.head()"
   ]
  },
  {
   "cell_type": "markdown",
   "id": "aquatic-nomination",
   "metadata": {},
   "source": [
    "---\n",
    "# Split data"
   ]
  },
  {
   "cell_type": "code",
   "execution_count": 7,
   "id": "fifty-fight",
   "metadata": {},
   "outputs": [
    {
     "data": {
      "text/plain": [
       "array(['STZYTFJPGGDRJD', 'SWTDXMBCOHIACK', 'HJBWJAPEBGSQPR',\n",
       "       'VQNWOYVWHDVFJY', 'WFDXOXNFNRHQEC', 'GZLIPAFSJXROEC',\n",
       "       'YTZSBJLNMIQROD', 'FOULCGVQZYQEQM', 'BPSJMBKZSUTYNF',\n",
       "       'PZJVSTTVMXPZCJ'], dtype=object)"
      ]
     },
     "execution_count": 7,
     "metadata": {},
     "output_type": "execute_result"
    }
   ],
   "source": [
    "tanimoto_df.index.to_numpy()[:10]"
   ]
  },
  {
   "cell_type": "code",
   "execution_count": 8,
   "id": "undefined-virus",
   "metadata": {},
   "outputs": [
    {
     "data": {
      "text/plain": [
       "(17106,)"
      ]
     },
     "execution_count": 8,
     "metadata": {},
     "output_type": "execute_result"
    }
   ],
   "source": [
    "inchikeys14 = tanimoto_df.index.to_numpy()\n",
    "inchikeys14.shape"
   ]
  },
  {
   "cell_type": "markdown",
   "id": "raised-genome",
   "metadata": {},
   "source": [
    "## Decide on data split\n",
    "- Split data for MS2DeepScore and Spec2Vec model training"
   ]
  },
  {
   "cell_type": "code",
   "execution_count": 20,
   "id": "presidential-silicon",
   "metadata": {},
   "outputs": [],
   "source": [
    "spectrums = [s for s in spectrums_pos_processed if len(s.peaks) >= 10]"
   ]
  },
  {
   "cell_type": "code",
   "execution_count": 21,
   "id": "minus-norway",
   "metadata": {},
   "outputs": [],
   "source": [
    "inchikeys14 = np.array([s.get(\"inchikey\")[:14] for s in spectrums])"
   ]
  },
  {
   "cell_type": "markdown",
   "id": "indirect-terry",
   "metadata": {},
   "source": [
    "### For MS2Query:\n",
    "Remove 2x (validation + test):\n",
    "- 250 compounds (Inchikeys)\n",
    "- 2000 spectra ( of different InChIKeys), which keep at least 1 copy in the training data "
   ]
  },
  {
   "cell_type": "code",
   "execution_count": 25,
   "id": "armed-reynolds",
   "metadata": {},
   "outputs": [
    {
     "data": {
      "text/plain": [
       "((16346,), 185827)"
      ]
     },
     "execution_count": 25,
     "metadata": {},
     "output_type": "execute_result"
    }
   ],
   "source": [
    "np.unique(inchikeys14).shape, len(spectrums)"
   ]
  },
  {
   "cell_type": "code",
   "execution_count": 22,
   "id": "enclosed-handle",
   "metadata": {},
   "outputs": [
    {
     "name": "stdout",
     "output_type": "stream",
     "text": [
      "Split dataset into train/val/test fractions: 15846 250 250\n"
     ]
    }
   ],
   "source": [
    "# fixed numbers for validation and testset\n",
    "n_label = np.unique(inchikeys14).shape[0]\n",
    "\n",
    "n_val = 250\n",
    "n_test = 250\n",
    "n_train = n_label - n_val - n_test\n",
    "print(\"Split dataset into train/val/test fractions:\", n_train, n_val, n_test)"
   ]
  },
  {
   "cell_type": "code",
   "execution_count": 26,
   "id": "boolean-trace",
   "metadata": {},
   "outputs": [
    {
     "name": "stdout",
     "output_type": "stream",
     "text": [
      "Train + val: 98.471 %\n",
      "Test: 1.529 %\n"
     ]
    }
   ],
   "source": [
    "print(f\"Train + val: {100 * (n_train + n_val)/n_label:.3f} %\")\n",
    "print(f\"Test: {100 * (n_test)/n_label:.3f} %\")"
   ]
  },
  {
   "cell_type": "code",
   "execution_count": 83,
   "id": "floral-oxygen",
   "metadata": {},
   "outputs": [],
   "source": [
    "np.random.seed(1234)\n",
    "inchikey_ids = np.arange(n_label)\n",
    "\n",
    "# Select training, validation, and test IDs:\n",
    "train_inchikeyIDs = np.random.choice(inchikey_ids, n_train, replace=False)\n",
    "val_inchikeyIDs = np.random.choice(list(set(inchikey_ids) - set(train_inchikeyIDs)), n_val, replace=False)\n",
    "test_inchikeyIDs = list(set(inchikey_ids) - set(train_inchikeyIDs) - set(val_inchikeyIDs))"
   ]
  },
  {
   "cell_type": "code",
   "execution_count": 84,
   "id": "diverse-boston",
   "metadata": {},
   "outputs": [
    {
     "data": {
      "text/plain": [
       "(250, 250)"
      ]
     },
     "execution_count": 84,
     "metadata": {},
     "output_type": "execute_result"
    }
   ],
   "source": [
    "len(val_inchikeyIDs), len(test_inchikeyIDs)"
   ]
  },
  {
   "cell_type": "code",
   "execution_count": 85,
   "id": "copyrighted-premium",
   "metadata": {},
   "outputs": [
    {
     "data": {
      "text/plain": [
       "array([ 6121,  5443,  4430, 14241,  2681,  2264, 12238,  6860, 15100,\n",
       "       10171,  4462, 13566,  6674,  8961, 14885,  9026,  4480,  2953,\n",
       "       11639,  2235])"
      ]
     },
     "execution_count": 85,
     "metadata": {},
     "output_type": "execute_result"
    }
   ],
   "source": [
    "train_inchikeyIDs[:20]"
   ]
  },
  {
   "cell_type": "code",
   "execution_count": 86,
   "id": "located-darkness",
   "metadata": {},
   "outputs": [
    {
     "data": {
      "text/plain": [
       "array([11777,  5123,  5124, 15877, 11278,  6671,  4112,  3598,  5138,\n",
       "        7697, 12311,  9247,  6176,  2594,  3107,  6693, 13350,  9767,\n",
       "        4137,  8745])"
      ]
     },
     "execution_count": 86,
     "metadata": {},
     "output_type": "execute_result"
    }
   ],
   "source": [
    "np.array(test_inchikeyIDs[:20])"
   ]
  },
  {
   "cell_type": "code",
   "execution_count": 87,
   "id": "lesser-jaguar",
   "metadata": {},
   "outputs": [],
   "source": [
    "# quick check to see if there's indeed no overlap\n",
    "for idx in train_inchikeyIDs:\n",
    "    assert (idx not in val_inchikeyIDs) and (idx not in test_inchikeyIDs), f\"Found overlap for ID {idx}\"\n",
    "    \n",
    "for idx in val_inchikeyIDs:\n",
    "    assert (idx not in test_inchikeyIDs) and (idx not in train_inchikeyIDs), f\"Found overlap for ID {idx}\"\n",
    "    \n",
    "for idx in test_inchikeyIDs:\n",
    "    assert (idx not in train_inchikeyIDs) and (idx not in val_inchikeyIDs), f\"Found overlap for ID {idx}\""
   ]
  },
  {
   "cell_type": "markdown",
   "id": "artificial-tunisia",
   "metadata": {},
   "source": [
    "### Make selection\n",
    "- collect all IDs which do not have InChIKey from test or val set\n",
    "- collect IDs for inchikeys which have > 1 spectrum in dataset"
   ]
  },
  {
   "cell_type": "code",
   "execution_count": 88,
   "id": "warming-friendship",
   "metadata": {},
   "outputs": [],
   "source": [
    "inchikeys14_training = np.unique(inchikeys14)[train_inchikeyIDs]\n",
    "spectra_with_multiple_copies = []\n",
    "inchikeys_with_multiple_spectra = []\n",
    "\n",
    "np.random.seed(1234)\n",
    "for inchikey in inchikeys14_training:\n",
    "    idx = np.where(inchikeys14 == inchikey)[0]\n",
    "    if idx.shape[0] > 1:\n",
    "        spectra_with_multiple_copies += [x for x in idx]\n",
    "        inchikeys_with_multiple_spectra.append(inchikey)"
   ]
  },
  {
   "cell_type": "code",
   "execution_count": 89,
   "id": "conventional-franklin",
   "metadata": {},
   "outputs": [
    {
     "data": {
      "text/plain": [
       "(10244, 175676)"
      ]
     },
     "execution_count": 89,
     "metadata": {},
     "output_type": "execute_result"
    }
   ],
   "source": [
    "len(inchikeys_with_multiple_spectra), len(spectra_with_multiple_copies)"
   ]
  },
  {
   "cell_type": "code",
   "execution_count": 90,
   "id": "extreme-crawford",
   "metadata": {},
   "outputs": [
    {
     "data": {
      "text/plain": [
       "((2000,), (2000,))"
      ]
     },
     "execution_count": 90,
     "metadata": {},
     "output_type": "execute_result"
    }
   ],
   "source": [
    "np.random.seed(123)\n",
    "pick_inchikeys = np.random.choice(inchikeys_with_multiple_spectra, 4000, replace=False)\n",
    "\n",
    "inchikeys14_val_single_spectrum = pick_inchikeys[:2000]\n",
    "inchikeys14_test_single_spectrum = pick_inchikeys[2000:]\n",
    "inchikeys14_val_single_spectrum.shape, inchikeys14_test_single_spectrum.shape"
   ]
  },
  {
   "cell_type": "code",
   "execution_count": 91,
   "id": "advisory-tackle",
   "metadata": {},
   "outputs": [],
   "source": [
    "inchikeys14_val = np.unique(inchikeys14)[val_inchikeyIDs]\n",
    "\n",
    "np.random.seed(123)\n",
    "valIDs = []\n",
    "for inchikey in inchikeys14_val:\n",
    "    idx = np.where(inchikeys14 == inchikey)[0]\n",
    "    valIDs += {x for x in idx}\n",
    "\n",
    "for inchikey in inchikeys14_val_single_spectrum:\n",
    "    idx = np.where(inchikeys14 == inchikey)[0]\n",
    "    valIDs += {np.random.choice(idx, 1)[0]}"
   ]
  },
  {
   "cell_type": "code",
   "execution_count": 92,
   "id": "average-motivation",
   "metadata": {},
   "outputs": [
    {
     "data": {
      "text/plain": [
       "4299"
      ]
     },
     "execution_count": 92,
     "metadata": {},
     "output_type": "execute_result"
    }
   ],
   "source": [
    "len(valIDs)"
   ]
  },
  {
   "cell_type": "code",
   "execution_count": 93,
   "id": "aquatic-patrol",
   "metadata": {},
   "outputs": [],
   "source": [
    "inchikeys14_test = np.unique(inchikeys14)[test_inchikeyIDs]\n",
    "\n",
    "np.random.seed(123)\n",
    "testIDs = []\n",
    "for inchikey in inchikeys14_test:\n",
    "    idx = np.where(inchikeys14 == inchikey)[0]\n",
    "    testIDs += {x for x in idx}\n",
    "\n",
    "for inchikey in inchikeys14_test_single_spectrum:\n",
    "    idx = np.where(inchikeys14 == inchikey)[0]\n",
    "    testIDs += {np.random.choice(idx, 1)[0]}"
   ]
  },
  {
   "cell_type": "code",
   "execution_count": 94,
   "id": "subtle-trader",
   "metadata": {},
   "outputs": [
    {
     "data": {
      "text/plain": [
       "4250"
      ]
     },
     "execution_count": 94,
     "metadata": {},
     "output_type": "execute_result"
    }
   ],
   "source": [
    "len(testIDs)"
   ]
  },
  {
   "cell_type": "code",
   "execution_count": 95,
   "id": "religious-studio",
   "metadata": {},
   "outputs": [
    {
     "data": {
      "text/plain": [
       "(177278, 4299, 4250)"
      ]
     },
     "execution_count": 95,
     "metadata": {},
     "output_type": "execute_result"
    }
   ],
   "source": [
    "trainIDs = list({i for i in range(len(spectrums))} - set(valIDs) - set(testIDs))\n",
    "len(trainIDs), len(valIDs), len(testIDs)"
   ]
  },
  {
   "cell_type": "code",
   "execution_count": 96,
   "id": "excessive-diagram",
   "metadata": {},
   "outputs": [],
   "source": [
    "assert len(set(trainIDs).intersection(set(valIDs))) == 0\n",
    "assert len(set(valIDs).intersection(set(testIDs))) == 0"
   ]
  },
  {
   "cell_type": "code",
   "execution_count": 97,
   "id": "attractive-gateway",
   "metadata": {},
   "outputs": [
    {
     "name": "stdout",
     "output_type": "stream",
     "text": [
      "177278 spectrums in training data\n"
     ]
    }
   ],
   "source": [
    "spectrums_training = [spectrums[i] for i in trainIDs]\n",
    "print(f\"{len(spectrums_training)} spectrums in training data\")"
   ]
  },
  {
   "cell_type": "code",
   "execution_count": 98,
   "id": "annoying-briefs",
   "metadata": {},
   "outputs": [
    {
     "name": "stdout",
     "output_type": "stream",
     "text": [
      "4299 spectrums in val data\n"
     ]
    }
   ],
   "source": [
    "spectrums_val = [spectrums[i] for i in valIDs]\n",
    "print(f\"{len(spectrums_val)} spectrums in val data\")"
   ]
  },
  {
   "cell_type": "code",
   "execution_count": 99,
   "id": "affiliated-formula",
   "metadata": {},
   "outputs": [
    {
     "name": "stdout",
     "output_type": "stream",
     "text": [
      "4250 spectrums in test data\n"
     ]
    }
   ],
   "source": [
    "spectrums_test = [spectrums[i] for i in testIDs]\n",
    "print(f\"{len(spectrums_test)} spectrums in test data\")"
   ]
  },
  {
   "cell_type": "markdown",
   "id": "recorded-career",
   "metadata": {},
   "source": [
    "### Export splitted datasets"
   ]
  },
  {
   "cell_type": "code",
   "execution_count": 100,
   "id": "regular-modeling",
   "metadata": {},
   "outputs": [],
   "source": [
    "pickle.dump(spectrums_training, \n",
    "            open(os.path.join(path_data, 'GNPS_all', 'ALL_GNPS_210409_train_split.pickle'), \"wb\"))\n",
    "\n",
    "pickle.dump(spectrums_val, \n",
    "            open(os.path.join(path_data, 'GNPS_all', 'ALL_GNPS_210409_val_split.pickle'), \"wb\"))\n",
    "\n",
    "pickle.dump(spectrums_test, \n",
    "            open(os.path.join(path_data, 'GNPS_all', 'ALL_GNPS_210409_test_split.pickle'), \"wb\"))"
   ]
  },
  {
   "cell_type": "markdown",
   "id": "answering-honor",
   "metadata": {},
   "source": [
    "### Spectrum processing..."
   ]
  },
  {
   "cell_type": "code",
   "execution_count": 101,
   "id": "numeric-forwarding",
   "metadata": {},
   "outputs": [
    {
     "data": {
      "text/plain": [
       "'OC(=O)CCC(=O)Nc1ccc(cc1)S(=O)(=O)Nc2nccs2'"
      ]
     },
     "execution_count": 101,
     "metadata": {},
     "output_type": "execute_result"
    }
   ],
   "source": [
    "spectrums_test[0].get(\"smiles\")"
   ]
  },
  {
   "cell_type": "code",
   "execution_count": 41,
   "id": "rotary-hamilton",
   "metadata": {},
   "outputs": [
    {
     "data": {
      "text/plain": [
       "(0.0, 1000.0)"
      ]
     },
     "execution_count": 41,
     "metadata": {},
     "output_type": "execute_result"
    },
    {
     "data": {
      "image/png": "[encoded data removed]",
      "text/plain": [
       "<Figure size 432x288 with 1 Axes>"
      ]
     },
     "metadata": {
      "needs_background": "light"
     },
     "output_type": "display_data"
    }
   ],
   "source": [
    "numbers_of_peaks = [len(s.peaks) for s in spectrums]\n",
    "plt.hist(numbers_of_peaks, np.linspace(0,1000,20))\n",
    "plt.xlim(0, 1000)"
   ]
  },
  {
   "cell_type": "code",
   "execution_count": 42,
   "id": "corrected-inspection",
   "metadata": {},
   "outputs": [
    {
     "data": {
      "text/plain": [
       "(10, 228989)"
      ]
     },
     "execution_count": 42,
     "metadata": {},
     "output_type": "execute_result"
    }
   ],
   "source": [
    "np.min(np.array(numbers_of_peaks)), np.max(np.array(numbers_of_peaks))"
   ]
  }
 ],
 "metadata": {
  "kernelspec": {
   "display_name": "Python 3 (ipykernel)",
   "language": "python",
   "name": "python3"
  },
  "language_info": {
   "codemirror_mode": {
    "name": "ipython",
    "version": 3
   },
   "file_extension": ".py",
   "mimetype": "text/x-python",
   "name": "python",
   "nbconvert_exporter": "python",
   "pygments_lexer": "ipython3",
   "version": "3.8.11"
  }
 },
 "nbformat": 4,
 "nbformat_minor": 5
}
