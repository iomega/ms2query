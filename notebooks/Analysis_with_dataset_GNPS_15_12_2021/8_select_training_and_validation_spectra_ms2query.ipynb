{
 "cells": [
  {
   "cell_type": "markdown",
   "id": "661b809b",
   "metadata": {},
   "source": [
    "# split old validation data\n",
    "The validation spectra used for training ms2deepscore and spec2vec are reused to create the ms2query training and validation data. 1/5th of these spectra are used for creating training data and 4/5th is used for creating testing data."
   ]
  },
  {
   "cell_type": "code",
   "execution_count": 1,
   "id": "557eaf39",
   "metadata": {},
   "outputs": [],
   "source": [
    "import os\n",
    "import pickle\n",
    "\n",
    "# path_root = os.path.dirname(os.getcwd())\n",
    "# path_data = os.path.join(os.path.dirname(path_root), \"data/gnps_24_11_2021/positive_mode/\")\n",
    "path_data = \"C:\\\\HSD\\\\OneDrive - Hochschule Düsseldorf\\\\Data\\\\ms2query\""
   ]
  },
  {
   "cell_type": "code",
   "execution_count": 2,
   "id": "14b7daec",
   "metadata": {},
   "outputs": [],
   "source": [
    "def count_annotations(spectra):\n",
    "    inchi_lst = []\n",
    "    smiles_lst = []\n",
    "    inchikey_lst = []\n",
    "    for i, spec in enumerate(spectra):\n",
    "        inchi_lst.append(spec.get(\"inchi\"))\n",
    "        smiles_lst.append(spec.get(\"smiles\"))\n",
    "        inchikey = spec.get(\"inchikey\")\n",
    "        if inchikey is None:\n",
    "            inchikey = spec.get(\"inchikey_inchi\")\n",
    "        inchikey_lst.append(inchikey)\n",
    "\n",
    "    inchi_count = sum([1 for x in inchi_lst if x])\n",
    "    smiles_count = sum([1 for x in smiles_lst if x])\n",
    "    inchikey_count = sum([1 for x in inchikey_lst if x])\n",
    "    print(\"nr_of_spectra:\", len(spectra))\n",
    "    print(\"Inchis:\", inchi_count, \"--\", len(set(inchi_lst)), \"unique\")\n",
    "    print(\"Smiles:\", smiles_count, \"--\", len(set(smiles_lst)), \"unique\")\n",
    "    print(\"Inchikeys:\", inchikey_count, \"--\", \n",
    "          len(set([x[:14] for x in inchikey_lst if x])), \"unique (first 14 characters)\")"
   ]
  },
  {
   "cell_type": "code",
   "execution_count": 3,
   "id": "6bc77a16",
   "metadata": {},
   "outputs": [],
   "source": [
    "val_spectra_250_inchikeys = pickle.load(open(os.path.join(path_data,\n",
    "                                                          \"GNPS_15_12_2021_pos_val_250_inchikeys.pickle\"), \"rb\"))\n",
    "val_spectra_3000_spectra = pickle.load(open(os.path.join(path_data,\n",
    "                                                         \"GNPS_15_12_2021_pos_val_3000_spectra.pickle\"), \"rb\"))"
   ]
  },
  {
   "cell_type": "code",
   "execution_count": 4,
   "id": "75f2740f",
   "metadata": {},
   "outputs": [
    {
     "name": "stdout",
     "output_type": "stream",
     "text": [
      "nr_of_spectra: 2817\n",
      "Inchis: 2817 -- 306 unique\n",
      "Smiles: 2817 -- 364 unique\n",
      "Inchikeys: 2817 -- 250 unique (first 14 characters)\n",
      "nr_of_spectra: 3000\n",
      "Inchis: 3000 -- 3000 unique\n",
      "Smiles: 3000 -- 3000 unique\n",
      "Inchikeys: 3000 -- 3000 unique (first 14 characters)\n"
     ]
    }
   ],
   "source": [
    "count_annotations(val_spectra_250_inchikeys)\n",
    "count_annotations(val_spectra_3000_spectra)"
   ]
  },
  {
   "cell_type": "markdown",
   "id": "21df8a65",
   "metadata": {},
   "source": [
    "### split 250 inchikeys\n",
    "The inchikeys are split so that the training data uses 200 unique inchikeys and the validation data uses 50 unique inchikeys"
   ]
  },
  {
   "cell_type": "code",
   "execution_count": 5,
   "id": "5149bb2f",
   "metadata": {},
   "outputs": [],
   "source": [
    "import numpy as np\n",
    "\n",
    "np.random.seed(123)\n",
    "inchikey_list = []\n",
    "\n",
    "for spectrum in val_spectra_250_inchikeys:\n",
    "    inchikey = spectrum.get(\"inchikey\")[:14]\n",
    "    inchikey_list.append(inchikey)\n",
    "inchikey_set = set(inchikey_list)\n",
    "unique_inchikeys = list(inchikey_set)\n",
    "np.random.shuffle(unique_inchikeys)\n",
    "\n",
    "ms2q_validation_inchikeys = unique_inchikeys[:50]\n",
    "ms2q_test_inchikeys = unique_inchikeys[50:]"
   ]
  },
  {
   "cell_type": "code",
   "execution_count": 6,
   "id": "113ee46d",
   "metadata": {},
   "outputs": [
    {
     "name": "stdout",
     "output_type": "stream",
     "text": [
      "50\n",
      "200\n"
     ]
    }
   ],
   "source": [
    "print(len(ms2q_validation_inchikeys))\n",
    "print(len(ms2q_test_inchikeys))"
   ]
  },
  {
   "cell_type": "code",
   "execution_count": 7,
   "id": "af968fb8",
   "metadata": {},
   "outputs": [],
   "source": [
    "def select_spectra_with_inchikey(inchikeys, spectra):\n",
    "    selected_spectra = []\n",
    "    for spectrum in spectra:\n",
    "        inchikey = spectrum.get(\"inchikey\")[:14]\n",
    "        if inchikey in inchikeys:\n",
    "            selected_spectra.append(spectrum)\n",
    "    return selected_spectra"
   ]
  },
  {
   "cell_type": "code",
   "execution_count": 8,
   "id": "d5e273ab",
   "metadata": {},
   "outputs": [],
   "source": [
    "ms2q_val_spectra_250_inchi = select_spectra_with_inchikey(ms2q_validation_inchikeys, val_spectra_250_inchikeys)\n",
    "ms2q_train_spectra_250_inchi = select_spectra_with_inchikey(ms2q_test_inchikeys, val_spectra_250_inchikeys)"
   ]
  },
  {
   "cell_type": "code",
   "execution_count": 9,
   "id": "e97d2abf",
   "metadata": {},
   "outputs": [
    {
     "name": "stdout",
     "output_type": "stream",
     "text": [
      "nr_of_spectra: 541\n",
      "Inchis: 541 -- 64 unique\n",
      "Smiles: 541 -- 76 unique\n",
      "Inchikeys: 541 -- 50 unique (first 14 characters)\n",
      "nr_of_spectra: 2276\n",
      "Inchis: 2276 -- 242 unique\n",
      "Smiles: 2276 -- 288 unique\n",
      "Inchikeys: 2276 -- 200 unique (first 14 characters)\n"
     ]
    }
   ],
   "source": [
    "count_annotations(ms2q_val_spectra_250_inchi)\n",
    "count_annotations(ms2q_train_spectra_250_inchi)"
   ]
  },
  {
   "cell_type": "markdown",
   "id": "0ea70221",
   "metadata": {},
   "source": [
    "# split 3000 spectra\n"
   ]
  },
  {
   "cell_type": "code",
   "execution_count": 10,
   "id": "bfac2c52",
   "metadata": {},
   "outputs": [],
   "source": [
    "np.random.seed(123)\n",
    "np.random.shuffle(val_spectra_3000_spectra)\n",
    "\n",
    "ms2q_validation_spectra_3000 = val_spectra_3000_spectra[:600]\n",
    "ms2q_train_spectra_3000 = val_spectra_3000_spectra[600:]"
   ]
  },
  {
   "cell_type": "code",
   "execution_count": 11,
   "id": "4139c8c0",
   "metadata": {},
   "outputs": [
    {
     "name": "stdout",
     "output_type": "stream",
     "text": [
      "600\n",
      "2400\n"
     ]
    }
   ],
   "source": [
    "print(len(ms2q_validation_spectra_3000))\n",
    "print(len(ms2q_train_spectra_3000))"
   ]
  },
  {
   "cell_type": "code",
   "execution_count": 12,
   "id": "08201ccf",
   "metadata": {},
   "outputs": [],
   "source": [
    "ms2q_val_spectra = ms2q_validation_spectra_3000 + ms2q_val_spectra_250_inchi\n",
    "ms2q_train_spectra = ms2q_train_spectra_3000 + ms2q_train_spectra_250_inchi\n"
   ]
  },
  {
   "cell_type": "code",
   "execution_count": 13,
   "id": "4291caf5",
   "metadata": {},
   "outputs": [
    {
     "name": "stdout",
     "output_type": "stream",
     "text": [
      "nr_of_spectra: 1141\n",
      "Inchis: 1141 -- 664 unique\n",
      "Smiles: 1141 -- 676 unique\n",
      "Inchikeys: 1141 -- 650 unique (first 14 characters)\n",
      "nr_of_spectra: 4676\n",
      "Inchis: 4676 -- 2642 unique\n",
      "Smiles: 4676 -- 2688 unique\n",
      "Inchikeys: 4676 -- 2600 unique (first 14 characters)\n"
     ]
    }
   ],
   "source": [
    "count_annotations(ms2q_val_spectra)\n",
    "count_annotations(ms2q_train_spectra)\n",
    "\n",
    "pickle.dump(ms2q_val_spectra, open(os.path.join(path_data,\n",
    "                                                \"ms2q_val_spectra.pickle\"),\"wb\"))\n",
    "pickle.dump(ms2q_train_spectra, open(os.path.join(path_data,\n",
    "                                                  \"ms2q_train_spectra.pickle\"),\"wb\"))"
   ]
  },
  {
   "cell_type": "code",
   "execution_count": null,
   "id": "872b3357",
   "metadata": {},
   "outputs": [],
   "source": []
  }
 ],
 "metadata": {
  "kernelspec": {
   "display_name": "Python 3 (ipykernel)",
   "language": "python",
   "name": "python3"
  },
  "language_info": {
   "codemirror_mode": {
    "name": "ipython",
    "version": 3
   },
   "file_extension": ".py",
   "mimetype": "text/x-python",
   "name": "python",
   "nbconvert_exporter": "python",
   "pygments_lexer": "ipython3",
   "version": "3.8.12"
  }
 },
 "nbformat": 4,
 "nbformat_minor": 5
}
