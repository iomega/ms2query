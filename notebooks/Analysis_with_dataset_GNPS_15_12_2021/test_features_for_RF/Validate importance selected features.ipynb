{
 "cells": [
  {
   "cell_type": "markdown",
   "id": "53011a38",
   "metadata": {},
   "source": [
    "# Test importance features random forest model\n",
    "In this notebook the importance of the features used in the final model are tested, so no new features are added. Adding of new unused features can be found in test_random_forest_with_49_features."
   ]
  },
  {
   "cell_type": "code",
   "execution_count": 1,
   "id": "96b19414",
   "metadata": {},
   "outputs": [
    {
     "name": "stderr",
     "output_type": "stream",
     "text": [
      "c:\\users\\jonge094\\anaconda3\\envs\\ms2query\\lib\\site-packages\\gensim\\similarities\\__init__.py:15: UserWarning: The gensim.similarities.levenshtein submodule is disabled, because the optional Levenshtein package <https://pypi.org/project/python-Levenshtein/> is unavailable. Install Levenhstein (e.g. `pip install python-Levenshtein`) to suppress this warning.\n",
      "  warnings.warn(msg)\n"
     ]
    }
   ],
   "source": [
    "import os\n",
    "from ms2query.utils import load_pickled_file\n",
    "from matplotlib import pyplot as plt\n",
    "training_scores, training_labels, validation_scores, validation_labels = load_pickled_file(\"C:/Users/jonge094/PycharmProjects/PhD_MS2Query/ms2query/data/libraries_and_models/gnps_15_12_2021/ms2q_training_data_with_additional_weigthing_scores.pickle\")"
   ]
  },
  {
   "cell_type": "code",
   "execution_count": 2,
   "id": "4e33046e",
   "metadata": {},
   "outputs": [],
   "source": [
    "from sklearn.ensemble import RandomForestRegressor\n",
    "from sklearn.model_selection import train_test_split\n",
    "from sklearn.metrics import mean_squared_error\n",
    "\n",
    "def train_random_forest(selection_of_training_scores, selection_of_validation_scores):\n",
    "    # train rf using optimised parameters from below\n",
    "\n",
    "    rf = RandomForestRegressor(n_estimators = 250, \n",
    "                               random_state = 42, \n",
    "                               max_depth = 5, \n",
    "                               verbose=1,\n",
    "                               min_samples_leaf=50,\n",
    "                               n_jobs=7)\n",
    "    rf.fit(selection_of_training_scores, training_labels)\n",
    "\n",
    "    # predict on train\n",
    "    rf_train_predictions = rf.predict(selection_of_training_scores)\n",
    "    mse_train_rf = mean_squared_error(training_labels, rf_train_predictions)\n",
    "    print('Training MSE', mse_train_rf)\n",
    "\n",
    "    # predict on test\n",
    "    rf_predictions = rf.predict(selection_of_validation_scores)\n",
    "    mse_rf = mean_squared_error(validation_labels, rf_predictions)\n",
    "    print('Validation MSE', mse_rf)\n",
    "\n",
    "    # get feature importances\n",
    "    importances = list(rf.feature_importances_)\n",
    "    feature_importances = [(feature, round(importance, 2)) for feature, importance in zip(selection_of_training_scores.columns, importances)]\n",
    "    feature_importances = sorted(feature_importances, key = lambda x: x[1], reverse = True)\n",
    "    [print('Variable: {:20} Importance: {}'.format(*pair)) for pair in feature_importances]"
   ]
  },
  {
   "cell_type": "markdown",
   "id": "7890738f",
   "metadata": {},
   "source": [
    "# Final model"
   ]
  },
  {
   "cell_type": "code",
   "execution_count": 3,
   "id": "4cfaf0e5",
   "metadata": {},
   "outputs": [
    {
     "name": "stderr",
     "output_type": "stream",
     "text": [
      "C:\\Users\\jonge094\\AppData\\Local\\Temp/ipykernel_12188/1964395954.py:14: DataConversionWarning: A column-vector y was passed when a 1d array was expected. Please change the shape of y to (n_samples,), for example using ravel().\n",
      "  rf.fit(selection_of_training_scores, training_labels)\n",
      "[Parallel(n_jobs=7)]: Using backend ThreadingBackend with 7 concurrent workers.\n",
      "[Parallel(n_jobs=7)]: Done  36 tasks      | elapsed:    6.6s\n",
      "[Parallel(n_jobs=7)]: Done 186 tasks      | elapsed:   44.4s\n",
      "[Parallel(n_jobs=7)]: Done 250 out of 250 | elapsed:  1.0min finished\n",
      "[Parallel(n_jobs=7)]: Using backend ThreadingBackend with 7 concurrent workers.\n",
      "[Parallel(n_jobs=7)]: Done  36 tasks      | elapsed:    0.1s\n",
      "[Parallel(n_jobs=7)]: Done 186 tasks      | elapsed:    0.7s\n",
      "[Parallel(n_jobs=7)]: Done 250 out of 250 | elapsed:    1.0s finished\n",
      "[Parallel(n_jobs=7)]: Using backend ThreadingBackend with 7 concurrent workers.\n",
      "[Parallel(n_jobs=7)]: Done  36 tasks      | elapsed:    0.0s\n"
     ]
    },
    {
     "name": "stdout",
     "output_type": "stream",
     "text": [
      "Training MSE 0.028182306482397588\n",
      "Validation MSE 0.025457846784072757\n",
      "Variable: chemical_neighbourhood_no_spectrum_nr_tanimoto_power0 Importance: 0.62\n",
      "Variable: precursor_mz_difference Importance: 0.18\n",
      "Variable: query_precursor_mz   Importance: 0.14\n",
      "Variable: s2v_score            Importance: 0.05\n",
      "Variable: average_tanimoto_score_for_chemical_neighbourhood_score Importance: 0.01\n"
     ]
    },
    {
     "name": "stderr",
     "output_type": "stream",
     "text": [
      "[Parallel(n_jobs=7)]: Done 186 tasks      | elapsed:    0.1s\n",
      "[Parallel(n_jobs=7)]: Done 250 out of 250 | elapsed:    0.2s finished\n"
     ]
    }
   ],
   "source": [
    "subselection_of_features = [\"query_precursor_mz\",\n",
    "                            \"precursor_mz_difference\",\n",
    "                            \"s2v_score\",\n",
    "                            \"chemical_neighbourhood_no_spectrum_nr_tanimoto_power0\",\n",
    "                            \"average_tanimoto_score_for_chemical_neighbourhood_score\"]\n",
    "selection_of_training_scores = training_scores[subselection_of_features]\n",
    "selection_of_validation_scores = validation_scores[subselection_of_features]\n",
    "train_random_forest(selection_of_training_scores, selection_of_validation_scores)"
   ]
  },
  {
   "cell_type": "markdown",
   "id": "2cd14b04",
   "metadata": {},
   "source": [
    "# Show imporance average of multiple library spectra\n",
    "To show the importance of this score, the model is trained without and a model is trained were only the spectra of 1 library structure is used, instead of 10 "
   ]
  },
  {
   "cell_type": "code",
   "execution_count": 9,
   "id": "8a530a90",
   "metadata": {},
   "outputs": [
    {
     "name": "stderr",
     "output_type": "stream",
     "text": [
      "C:\\Users\\jonge094\\AppData\\Local\\Temp/ipykernel_12188/1964395954.py:14: DataConversionWarning: A column-vector y was passed when a 1d array was expected. Please change the shape of y to (n_samples,), for example using ravel().\n",
      "  rf.fit(selection_of_training_scores, training_labels)\n",
      "[Parallel(n_jobs=7)]: Using backend ThreadingBackend with 7 concurrent workers.\n",
      "[Parallel(n_jobs=7)]: Done  36 tasks      | elapsed:    5.0s\n",
      "[Parallel(n_jobs=7)]: Done 186 tasks      | elapsed:   31.9s\n",
      "[Parallel(n_jobs=7)]: Done 250 out of 250 | elapsed:   44.1s finished\n",
      "[Parallel(n_jobs=7)]: Using backend ThreadingBackend with 7 concurrent workers.\n",
      "[Parallel(n_jobs=7)]: Done  36 tasks      | elapsed:    0.1s\n",
      "[Parallel(n_jobs=7)]: Done 186 tasks      | elapsed:    0.8s\n",
      "[Parallel(n_jobs=7)]: Done 250 out of 250 | elapsed:    1.1s finished\n",
      "[Parallel(n_jobs=7)]: Using backend ThreadingBackend with 7 concurrent workers.\n",
      "[Parallel(n_jobs=7)]: Done  36 tasks      | elapsed:    0.0s\n"
     ]
    },
    {
     "name": "stdout",
     "output_type": "stream",
     "text": [
      "Training MSE 0.03388704628409759\n",
      "Validation MSE 0.03305303276407407\n",
      "Variable: query_precursor_mz   Importance: 0.41\n",
      "Variable: precursor_mz_difference Importance: 0.29\n",
      "Variable: s2v_score            Importance: 0.19\n",
      "Variable: average_tanimoto_score_for_chemical_neighbourhood_score Importance: 0.1\n"
     ]
    },
    {
     "name": "stderr",
     "output_type": "stream",
     "text": [
      "[Parallel(n_jobs=7)]: Done 186 tasks      | elapsed:    0.1s\n",
      "[Parallel(n_jobs=7)]: Done 250 out of 250 | elapsed:    0.2s finished\n"
     ]
    }
   ],
   "source": [
    "subselection_of_features = [\"query_precursor_mz\",\n",
    "                            \"precursor_mz_difference\",\n",
    "                            \"s2v_score\",\n",
    "                            \"average_tanimoto_score_for_chemical_neighbourhood_score\"]\n",
    "selection_of_training_scores = training_scores[subselection_of_features]\n",
    "selection_of_validation_scores = validation_scores[subselection_of_features]\n",
    "train_random_forest(selection_of_training_scores, selection_of_validation_scores)"
   ]
  },
  {
   "cell_type": "code",
   "execution_count": 6,
   "id": "f6855e0a",
   "metadata": {},
   "outputs": [
    {
     "name": "stderr",
     "output_type": "stream",
     "text": [
      "C:\\Users\\jonge094\\AppData\\Local\\Temp/ipykernel_18392/843284625.py:14: DataConversionWarning: A column-vector y was passed when a 1d array was expected. Please change the shape of y to (n_samples,), for example using ravel().\n",
      "  rf.fit(selection_of_training_scores, training_labels)\n",
      "[Parallel(n_jobs=7)]: Using backend ThreadingBackend with 7 concurrent workers.\n",
      "[Parallel(n_jobs=7)]: Done  36 tasks      | elapsed:   11.1s\n",
      "[Parallel(n_jobs=7)]: Done 186 tasks      | elapsed:   53.0s\n",
      "[Parallel(n_jobs=7)]: Done 250 out of 250 | elapsed:  1.2min finished\n",
      "[Parallel(n_jobs=7)]: Using backend ThreadingBackend with 7 concurrent workers.\n",
      "[Parallel(n_jobs=7)]: Done  36 tasks      | elapsed:    0.0s\n",
      "[Parallel(n_jobs=7)]: Done 186 tasks      | elapsed:    0.5s\n",
      "[Parallel(n_jobs=7)]: Done 250 out of 250 | elapsed:    0.7s finished\n",
      "[Parallel(n_jobs=7)]: Using backend ThreadingBackend with 7 concurrent workers.\n",
      "[Parallel(n_jobs=7)]: Done  36 tasks      | elapsed:    0.0s\n"
     ]
    },
    {
     "name": "stdout",
     "output_type": "stream",
     "text": [
      "Training MSE 0.03376154641110877\n",
      "Validation MSE 0.0320487802629392\n",
      "Variable: query_precursor_mz   Importance: 0.32\n",
      "Variable: ms2ds_score          Importance: 0.25\n",
      "Variable: precursor_mz_difference Importance: 0.23\n",
      "Variable: s2v_score            Importance: 0.12\n",
      "Variable: average_tanimoto_score_for_chemical_neighbourhood_score Importance: 0.07\n"
     ]
    },
    {
     "name": "stderr",
     "output_type": "stream",
     "text": [
      "[Parallel(n_jobs=7)]: Done 186 tasks      | elapsed:    0.1s\n",
      "[Parallel(n_jobs=7)]: Done 250 out of 250 | elapsed:    0.2s finished\n"
     ]
    }
   ],
   "source": [
    "subselection_of_features = [\"query_precursor_mz\",\n",
    "                            \"precursor_mz_difference\",\n",
    "                            \"s2v_score\",\n",
    "                            \"ms2ds_score\",\n",
    "                            \"average_tanimoto_score_for_chemical_neighbourhood_score\"]\n",
    "selection_of_training_scores = training_scores[subselection_of_features]\n",
    "selection_of_validation_scores = validation_scores[subselection_of_features]\n",
    "train_random_forest(selection_of_training_scores, selection_of_validation_scores)"
   ]
  },
  {
   "cell_type": "code",
   "execution_count": 5,
   "id": "856473b0",
   "metadata": {},
   "outputs": [
    {
     "name": "stderr",
     "output_type": "stream",
     "text": [
      "C:\\Users\\jonge094\\AppData\\Local\\Temp/ipykernel_18392/843284625.py:14: DataConversionWarning: A column-vector y was passed when a 1d array was expected. Please change the shape of y to (n_samples,), for example using ravel().\n",
      "  rf.fit(selection_of_training_scores, training_labels)\n",
      "[Parallel(n_jobs=7)]: Using backend ThreadingBackend with 7 concurrent workers.\n",
      "[Parallel(n_jobs=7)]: Done  36 tasks      | elapsed:   10.4s\n",
      "[Parallel(n_jobs=7)]: Done 186 tasks      | elapsed:   55.3s\n",
      "[Parallel(n_jobs=7)]: Done 250 out of 250 | elapsed:  1.2min finished\n",
      "[Parallel(n_jobs=7)]: Using backend ThreadingBackend with 7 concurrent workers.\n",
      "[Parallel(n_jobs=7)]: Done  36 tasks      | elapsed:    0.0s\n",
      "[Parallel(n_jobs=7)]: Done 186 tasks      | elapsed:    0.7s\n",
      "[Parallel(n_jobs=7)]: Done 250 out of 250 | elapsed:    1.1s finished\n",
      "[Parallel(n_jobs=7)]: Using backend ThreadingBackend with 7 concurrent workers.\n",
      "[Parallel(n_jobs=7)]: Done  36 tasks      | elapsed:    0.0s\n"
     ]
    },
    {
     "name": "stdout",
     "output_type": "stream",
     "text": [
      "Training MSE 0.03264100050590641\n",
      "Validation MSE 0.030927552294164298\n",
      "Variable: average_ms2ds_score_for_inchikey14 Importance: 0.38\n",
      "Variable: query_precursor_mz   Importance: 0.27\n",
      "Variable: precursor_mz_difference Importance: 0.19\n",
      "Variable: s2v_score            Importance: 0.14\n",
      "Variable: ms2ds_score          Importance: 0.02\n"
     ]
    },
    {
     "name": "stderr",
     "output_type": "stream",
     "text": [
      "[Parallel(n_jobs=7)]: Done 186 tasks      | elapsed:    0.1s\n",
      "[Parallel(n_jobs=7)]: Done 250 out of 250 | elapsed:    0.2s finished\n"
     ]
    }
   ],
   "source": [
    "subselection_of_features = [\"query_precursor_mz\",\n",
    "                            \"precursor_mz_difference\",\n",
    "                            \"s2v_score\",\n",
    "                            \"ms2ds_score\",\n",
    "                            \"average_ms2ds_score_for_inchikey14\",\n",
    "                            \"average_tanimoto_score_for_chemical_neighbourhood_score\"]\n",
    "selection_of_training_scores = training_scores[subselection_of_features]\n",
    "selection_of_validation_scores = validation_scores[subselection_of_features]\n",
    "train_random_forest(selection_of_training_scores, selection_of_validation_scores)"
   ]
  },
  {
   "cell_type": "markdown",
   "id": "b3ea7a36",
   "metadata": {},
   "source": [
    "# Remove MS2Deepscore"
   ]
  },
  {
   "cell_type": "code",
   "execution_count": 7,
   "id": "e3c4c95e",
   "metadata": {},
   "outputs": [
    {
     "name": "stderr",
     "output_type": "stream",
     "text": [
      "C:\\Users\\jonge094\\AppData\\Local\\Temp/ipykernel_18392/843284625.py:14: DataConversionWarning: A column-vector y was passed when a 1d array was expected. Please change the shape of y to (n_samples,), for example using ravel().\n",
      "  rf.fit(selection_of_training_scores, training_labels)\n",
      "[Parallel(n_jobs=7)]: Using backend ThreadingBackend with 7 concurrent workers.\n",
      "[Parallel(n_jobs=7)]: Done  36 tasks      | elapsed:    7.1s\n",
      "[Parallel(n_jobs=7)]: Done 186 tasks      | elapsed:   46.4s\n",
      "[Parallel(n_jobs=7)]: Done 250 out of 250 | elapsed:  1.1min finished\n",
      "[Parallel(n_jobs=7)]: Using backend ThreadingBackend with 7 concurrent workers.\n",
      "[Parallel(n_jobs=7)]: Done  36 tasks      | elapsed:    0.1s\n",
      "[Parallel(n_jobs=7)]: Done 186 tasks      | elapsed:    0.9s\n",
      "[Parallel(n_jobs=7)]: Done 250 out of 250 | elapsed:    1.3s finished\n",
      "[Parallel(n_jobs=7)]: Using backend ThreadingBackend with 7 concurrent workers.\n",
      "[Parallel(n_jobs=7)]: Done  36 tasks      | elapsed:    0.0s\n"
     ]
    },
    {
     "name": "stdout",
     "output_type": "stream",
     "text": [
      "Training MSE 0.028182306482397588\n",
      "Validation MSE 0.025457846784072757\n",
      "Variable: chemical_neighbourhood_no_spectrum_nr_tanimoto_power0 Importance: 0.62\n",
      "Variable: precursor_mz_difference Importance: 0.18\n",
      "Variable: query_precursor_mz   Importance: 0.14\n",
      "Variable: s2v_score            Importance: 0.05\n",
      "Variable: average_tanimoto_score_for_chemical_neighbourhood_score Importance: 0.01\n"
     ]
    },
    {
     "name": "stderr",
     "output_type": "stream",
     "text": [
      "[Parallel(n_jobs=7)]: Done 186 tasks      | elapsed:    0.1s\n",
      "[Parallel(n_jobs=7)]: Done 250 out of 250 | elapsed:    0.2s finished\n"
     ]
    }
   ],
   "source": [
    "subselection_of_features = [\"query_precursor_mz\",\n",
    "                            \"precursor_mz_difference\",\n",
    "                            \"s2v_score\",\n",
    "                            \"chemical_neighbourhood_no_spectrum_nr_tanimoto_power0\",\n",
    "                            \"average_tanimoto_score_for_chemical_neighbourhood_score\"]\n",
    "selection_of_training_scores = training_scores[subselection_of_features]\n",
    "selection_of_validation_scores = validation_scores[subselection_of_features]\n",
    "train_random_forest(selection_of_training_scores, selection_of_validation_scores)"
   ]
  },
  {
   "cell_type": "markdown",
   "id": "72e73771",
   "metadata": {},
   "source": [
    "# Remove average tanimoto score"
   ]
  },
  {
   "cell_type": "code",
   "execution_count": 13,
   "id": "91c5c992",
   "metadata": {},
   "outputs": [
    {
     "name": "stderr",
     "output_type": "stream",
     "text": [
      "C:\\Users\\jonge094\\AppData\\Local\\Temp/ipykernel_18392/843284625.py:14: DataConversionWarning: A column-vector y was passed when a 1d array was expected. Please change the shape of y to (n_samples,), for example using ravel().\n",
      "  rf.fit(selection_of_training_scores, training_labels)\n",
      "[Parallel(n_jobs=7)]: Using backend ThreadingBackend with 7 concurrent workers.\n",
      "[Parallel(n_jobs=7)]: Done  36 tasks      | elapsed:    7.6s\n",
      "[Parallel(n_jobs=7)]: Done 186 tasks      | elapsed:   41.9s\n",
      "[Parallel(n_jobs=7)]: Done 250 out of 250 | elapsed:   56.2s finished\n",
      "[Parallel(n_jobs=7)]: Using backend ThreadingBackend with 7 concurrent workers.\n",
      "[Parallel(n_jobs=7)]: Done  36 tasks      | elapsed:    0.0s\n",
      "[Parallel(n_jobs=7)]: Done 186 tasks      | elapsed:    0.6s\n",
      "[Parallel(n_jobs=7)]: Done 250 out of 250 | elapsed:    0.9s finished\n",
      "[Parallel(n_jobs=7)]: Using backend ThreadingBackend with 7 concurrent workers.\n",
      "[Parallel(n_jobs=7)]: Done  36 tasks      | elapsed:    0.0s\n"
     ]
    },
    {
     "name": "stdout",
     "output_type": "stream",
     "text": [
      "Training MSE 0.028298095713427826\n",
      "Validation MSE 0.02558334805199175\n",
      "Variable: chemical_neighbourhood_no_spectrum_nr_tanimoto_power0 Importance: 0.63\n",
      "Variable: precursor_mz_difference Importance: 0.18\n",
      "Variable: query_precursor_mz   Importance: 0.14\n",
      "Variable: s2v_score            Importance: 0.05\n"
     ]
    },
    {
     "name": "stderr",
     "output_type": "stream",
     "text": [
      "[Parallel(n_jobs=7)]: Done 186 tasks      | elapsed:    0.1s\n",
      "[Parallel(n_jobs=7)]: Done 250 out of 250 | elapsed:    0.2s finished\n"
     ]
    }
   ],
   "source": [
    "subselection_of_features = [\"query_precursor_mz\",\n",
    "                            \"precursor_mz_difference\",\n",
    "                            \"s2v_score\",\n",
    "                            \"chemical_neighbourhood_no_spectrum_nr_tanimoto_power0\"]\n",
    "selection_of_training_scores = training_scores[subselection_of_features]\n",
    "selection_of_validation_scores = validation_scores[subselection_of_features]\n",
    "train_random_forest(selection_of_training_scores, selection_of_validation_scores)"
   ]
  },
  {
   "cell_type": "markdown",
   "id": "22f6ac1c",
   "metadata": {},
   "source": [
    "# Without s2v"
   ]
  },
  {
   "cell_type": "code",
   "execution_count": 5,
   "id": "585ff1dc",
   "metadata": {},
   "outputs": [
    {
     "name": "stderr",
     "output_type": "stream",
     "text": [
      "C:\\Users\\jonge094\\AppData\\Local\\Temp/ipykernel_12188/1964395954.py:14: DataConversionWarning: A column-vector y was passed when a 1d array was expected. Please change the shape of y to (n_samples,), for example using ravel().\n",
      "  rf.fit(selection_of_training_scores, training_labels)\n",
      "[Parallel(n_jobs=7)]: Using backend ThreadingBackend with 7 concurrent workers.\n",
      "[Parallel(n_jobs=7)]: Done  36 tasks      | elapsed:    4.9s\n",
      "[Parallel(n_jobs=7)]: Done 186 tasks      | elapsed:   28.4s\n",
      "[Parallel(n_jobs=7)]: Done 250 out of 250 | elapsed:   40.0s finished\n",
      "[Parallel(n_jobs=7)]: Using backend ThreadingBackend with 7 concurrent workers.\n",
      "[Parallel(n_jobs=7)]: Done  36 tasks      | elapsed:    0.1s\n",
      "[Parallel(n_jobs=7)]: Done 186 tasks      | elapsed:    0.8s\n",
      "[Parallel(n_jobs=7)]: Done 250 out of 250 | elapsed:    1.1s finished\n",
      "[Parallel(n_jobs=7)]: Using backend ThreadingBackend with 7 concurrent workers.\n",
      "[Parallel(n_jobs=7)]: Done  36 tasks      | elapsed:    0.0s\n"
     ]
    },
    {
     "name": "stdout",
     "output_type": "stream",
     "text": [
      "Training MSE 0.028983948368223638\n",
      "Validation MSE 0.027243584423754196\n",
      "Variable: chemical_neighbourhood_no_spectrum_nr_tanimoto_power0 Importance: 0.64\n",
      "Variable: precursor_mz_difference Importance: 0.21\n",
      "Variable: query_precursor_mz   Importance: 0.14\n",
      "Variable: average_tanimoto_score_for_chemical_neighbourhood_score Importance: 0.01\n"
     ]
    },
    {
     "name": "stderr",
     "output_type": "stream",
     "text": [
      "[Parallel(n_jobs=7)]: Done 186 tasks      | elapsed:    0.1s\n",
      "[Parallel(n_jobs=7)]: Done 250 out of 250 | elapsed:    0.2s finished\n"
     ]
    }
   ],
   "source": [
    "subselection_of_features = [\"query_precursor_mz\",\n",
    "                            \"precursor_mz_difference\",\n",
    "                            \"chemical_neighbourhood_no_spectrum_nr_tanimoto_power0\",\n",
    "                            \"average_tanimoto_score_for_chemical_neighbourhood_score\"]\n",
    "selection_of_training_scores = training_scores[subselection_of_features]\n",
    "selection_of_validation_scores = validation_scores[subselection_of_features]\n",
    "train_random_forest(selection_of_training_scores, selection_of_validation_scores)"
   ]
  },
  {
   "cell_type": "markdown",
   "id": "d85d68ed",
   "metadata": {},
   "source": [
    "# Without mass difference"
   ]
  },
  {
   "cell_type": "code",
   "execution_count": 8,
   "id": "6aea5296",
   "metadata": {},
   "outputs": [
    {
     "name": "stderr",
     "output_type": "stream",
     "text": [
      "C:\\Users\\jonge094\\AppData\\Local\\Temp/ipykernel_12188/1964395954.py:14: DataConversionWarning: A column-vector y was passed when a 1d array was expected. Please change the shape of y to (n_samples,), for example using ravel().\n",
      "  rf.fit(selection_of_training_scores, training_labels)\n",
      "[Parallel(n_jobs=7)]: Using backend ThreadingBackend with 7 concurrent workers.\n",
      "[Parallel(n_jobs=7)]: Done  36 tasks      | elapsed:    9.1s\n",
      "[Parallel(n_jobs=7)]: Done 186 tasks      | elapsed:   41.0s\n",
      "[Parallel(n_jobs=7)]: Done 250 out of 250 | elapsed:   53.9s finished\n",
      "[Parallel(n_jobs=7)]: Using backend ThreadingBackend with 7 concurrent workers.\n",
      "[Parallel(n_jobs=7)]: Done  36 tasks      | elapsed:    0.1s\n",
      "[Parallel(n_jobs=7)]: Done 186 tasks      | elapsed:    0.8s\n",
      "[Parallel(n_jobs=7)]: Done 250 out of 250 | elapsed:    1.1s finished\n",
      "[Parallel(n_jobs=7)]: Using backend ThreadingBackend with 7 concurrent workers.\n",
      "[Parallel(n_jobs=7)]: Done  36 tasks      | elapsed:    0.0s\n"
     ]
    },
    {
     "name": "stdout",
     "output_type": "stream",
     "text": [
      "Training MSE 0.031120032938933288\n",
      "Validation MSE 0.028257028114222277\n",
      "Variable: chemical_neighbourhood_no_spectrum_nr_tanimoto_power0 Importance: 0.75\n",
      "Variable: s2v_score            Importance: 0.15\n",
      "Variable: query_precursor_mz   Importance: 0.09\n",
      "Variable: average_tanimoto_score_for_chemical_neighbourhood_score Importance: 0.02\n"
     ]
    },
    {
     "name": "stderr",
     "output_type": "stream",
     "text": [
      "[Parallel(n_jobs=7)]: Done 186 tasks      | elapsed:    0.1s\n",
      "[Parallel(n_jobs=7)]: Done 250 out of 250 | elapsed:    0.2s finished\n"
     ]
    }
   ],
   "source": [
    "subselection_of_features = [\"query_precursor_mz\",\n",
    "                            \"s2v_score\",\n",
    "                            \"chemical_neighbourhood_no_spectrum_nr_tanimoto_power0\",\n",
    "                            \"average_tanimoto_score_for_chemical_neighbourhood_score\"]\n",
    "selection_of_training_scores = training_scores[subselection_of_features]\n",
    "selection_of_validation_scores = validation_scores[subselection_of_features]\n",
    "train_random_forest(selection_of_training_scores, selection_of_validation_scores)"
   ]
  },
  {
   "cell_type": "markdown",
   "id": "60a7ba7e",
   "metadata": {},
   "source": [
    "# Without query precursor mz"
   ]
  },
  {
   "cell_type": "code",
   "execution_count": 7,
   "id": "e52f4f08",
   "metadata": {},
   "outputs": [
    {
     "name": "stderr",
     "output_type": "stream",
     "text": [
      "C:\\Users\\jonge094\\AppData\\Local\\Temp/ipykernel_12188/1964395954.py:14: DataConversionWarning: A column-vector y was passed when a 1d array was expected. Please change the shape of y to (n_samples,), for example using ravel().\n",
      "  rf.fit(selection_of_training_scores, training_labels)\n",
      "[Parallel(n_jobs=7)]: Using backend ThreadingBackend with 7 concurrent workers.\n",
      "[Parallel(n_jobs=7)]: Done  36 tasks      | elapsed:    8.9s\n",
      "[Parallel(n_jobs=7)]: Done 186 tasks      | elapsed:   42.0s\n",
      "[Parallel(n_jobs=7)]: Done 250 out of 250 | elapsed:   56.7s finished\n",
      "[Parallel(n_jobs=7)]: Using backend ThreadingBackend with 7 concurrent workers.\n",
      "[Parallel(n_jobs=7)]: Done  36 tasks      | elapsed:    0.1s\n",
      "[Parallel(n_jobs=7)]: Done 186 tasks      | elapsed:    0.8s\n",
      "[Parallel(n_jobs=7)]: Done 250 out of 250 | elapsed:    1.1s finished\n",
      "[Parallel(n_jobs=7)]: Using backend ThreadingBackend with 7 concurrent workers.\n",
      "[Parallel(n_jobs=7)]: Done  36 tasks      | elapsed:    0.0s\n"
     ]
    },
    {
     "name": "stdout",
     "output_type": "stream",
     "text": [
      "Training MSE 0.0298760487279545\n",
      "Validation MSE 0.02653991857407557\n",
      "Variable: chemical_neighbourhood_no_spectrum_nr_tanimoto_power0 Importance: 0.72\n",
      "Variable: precursor_mz_difference Importance: 0.19\n",
      "Variable: s2v_score            Importance: 0.06\n",
      "Variable: average_tanimoto_score_for_chemical_neighbourhood_score Importance: 0.03\n"
     ]
    },
    {
     "name": "stderr",
     "output_type": "stream",
     "text": [
      "[Parallel(n_jobs=7)]: Done 186 tasks      | elapsed:    0.1s\n",
      "[Parallel(n_jobs=7)]: Done 250 out of 250 | elapsed:    0.2s finished\n"
     ]
    }
   ],
   "source": [
    "subselection_of_features = [\"precursor_mz_difference\",\n",
    "                            \"s2v_score\",\n",
    "                            \"chemical_neighbourhood_no_spectrum_nr_tanimoto_power0\",\n",
    "                            \"average_tanimoto_score_for_chemical_neighbourhood_score\"]\n",
    "selection_of_training_scores = training_scores[subselection_of_features]\n",
    "selection_of_validation_scores = validation_scores[subselection_of_features]\n",
    "train_random_forest(selection_of_training_scores, selection_of_validation_scores)"
   ]
  },
  {
   "cell_type": "code",
   "execution_count": null,
   "id": "a19b2f37",
   "metadata": {},
   "outputs": [],
   "source": []
  }
 ],
 "metadata": {
  "kernelspec": {
   "display_name": "Python 3 (ipykernel)",
   "language": "python",
   "name": "python3"
  },
  "language_info": {
   "codemirror_mode": {
    "name": "ipython",
    "version": 3
   },
   "file_extension": ".py",
   "mimetype": "text/x-python",
   "name": "python",
   "nbconvert_exporter": "python",
   "pygments_lexer": "ipython3",
   "version": "3.8.11"
  }
 },
 "nbformat": 4,
 "nbformat_minor": 5
}
