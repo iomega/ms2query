{
 "cells": [
  {
   "cell_type": "markdown",
   "id": "e295a658",
   "metadata": {},
   "source": [
    "# Generate predictions\n",
    "The predictions are generated and compared to the correct results. \n",
    "\n",
    "This is done on 2 test sets:\n",
    "- 3000 spectra with an exact match\n",
    "- spectra of 250 inchikeys without an exact match\n",
    "\n",
    "This is done using 3 different methods:\n",
    "- MS2Query\n",
    "- MS2Deepscore\n",
    "- Cosine score\n",
    "\n",
    "The output stores the scores for the highest library hit for each test spectrum. The results are stored in the following format:\n",
    "[(highest_scoring_spectrum_id, predicted_score)]\n",
    "THe highest scoring spectrum id is used to later identify the best hit. The predicted score is the MS2Query score, MS2Deepscore score or (modified) cosine score. "
   ]
  },
  {
   "cell_type": "code",
   "execution_count": 1,
   "id": "49e7a3aa",
   "metadata": {},
   "outputs": [],
   "source": [
    "import os\n",
    "from ms2query.utils import load_pickled_file\n",
    "path_data = \"C:/Users/jonge094/PycharmProjects/PhD_MS2Query/ms2query/data\"\n",
    "\n",
    "test_spectra_3000 = load_pickled_file(os.path.join(path_data,\n",
    "                                                   \"libraries_and_models/gnps_15_12_2021/in_between_files/GNPS_15_12_2021_pos_test_3000_spectra.pickle\"))\n",
    "test_spectra_250 = load_pickled_file(os.path.join(path_data,\n",
    "                                                   \"libraries_and_models/gnps_15_12_2021/in_between_files/GNPS_15_12_2021_pos_test_250_inchikeys.pickle\"))\n"
   ]
  },
  {
   "cell_type": "markdown",
   "id": "b0bad1b5",
   "metadata": {},
   "source": [
    "# MS2Query\n",
    "The code below was run on the server and the results are loaded"
   ]
  },
  {
   "cell_type": "code",
   "execution_count": 2,
   "id": "6caf8dcd",
   "metadata": {},
   "outputs": [],
   "source": [
    "import os\n",
    "from ms2query.run_ms2query import run_complete_folder\n",
    "from ms2query.ms2library import MS2Library\n",
    "\n",
    "path_root = os.path.dirname(os.getcwd())\n",
    "path_library = os.path.join(path_root, \"../../data/libraries_and_models/gnps_15_12_2021/library_gnps_15_12/\")\n",
    "ms2_spectra_directory = os.path.join(path_root, \"../../data/libraries_and_models/gnps_15_12_2021/test_spectra/\")\n",
    "\n",
    "# todo rename msds file name for end file.\n",
    "# Create a MS2Library object\n",
    "ms2library = MS2Library(sqlite_file_name=os.path.join(path_library, \"library_GNPS_15_12_2021.sqlite\"),\n",
    "                        s2v_model_file_name=os.path.join(path_library, \"spec2vec_model_GNPS_15_12_2021.model\"),\n",
    "                        ms2ds_model_file_name=os.path.join(path_library, \"ms2ds_model_GNPS_15_12_2021.hdf5\"),\n",
    "                        pickled_s2v_embeddings_file_name=os.path.join(path_library, \"library_GNPS_15_12_2021_s2v_embeddings.pickle\"),\n",
    "                        pickled_ms2ds_embeddings_file_name=os.path.join(path_library, \"library_GNPS_15_12_2021_ms2ds_embeddings.pickle\"),\n",
    "                        ms2query_model_file_name=os.path.join(path_library, \"ms2query_random_forest_model.pickle\"),\n",
    "                        classifier_csv_file_name=os.path.join(path_root, \"../data/libraries_and_models/gnps_09_04_2021/ALL_GNPS_210409_positive_processed_annotated_CF_NPC_classes.txt\"))\n",
    "\n",
    "# Run library search and analog search on your files.\n",
    "run_complete_folder(ms2library, ms2_spectra_directory)\n"
   ]
  },
  {
   "cell_type": "markdown",
   "id": "553ac416",
   "metadata": {},
   "source": [
    "# MS2Deepscore"
   ]
  },
  {
   "cell_type": "markdown",
   "id": "3ea1df2b",
   "metadata": {},
   "source": [
    "MS2Deepscore is selected "
   ]
  },
  {
   "cell_type": "code",
   "execution_count": 2,
   "id": "26bc40bd",
   "metadata": {},
   "outputs": [],
   "source": [
    "from ms2deepscore.models import load_model as load_ms2ds_model\n",
    "import pandas as pd\n",
    "from ms2deepscore import MS2DeepScore\n",
    "from spec2vec.vector_operations import calc_vector, cosine_similarity_matrix\n",
    "\n",
    "\n",
    "def get_all_ms2ds_scores(ms2ds_model_file_name, ms2ds_embeddings_file_name, query_spectra\n",
    "                          ) -> pd.DataFrame:\n",
    "    \"\"\"Returns a dataframe with the ms2deepscore similarity scores\n",
    "\n",
    "    The similarity scores are calculated between the query_spectra and all\n",
    "    library spectra.\n",
    "\n",
    "    query_spectra\n",
    "        Spectra for which similarity scores should be calculated for all\n",
    "        spectra in the ms2ds embeddings file.\n",
    "    \"\"\"\n",
    "    ms2ds_embeddings = load_pickled_file(pickled_ms2ds_embeddings_file_name)\n",
    "    ms2ds_model = load_ms2ds_model(ms2ds_model_file_name)\n",
    "    ms2ds = MS2DeepScore(ms2ds_model, progress_bar=False)\n",
    "    query_embeddings = ms2ds.calculate_vectors(query_spectra)\n",
    "    library_ms2ds_embeddings_numpy = ms2ds_embeddings.to_numpy()\n",
    "\n",
    "    ms2ds_scores = cosine_similarity_matrix(library_ms2ds_embeddings_numpy,\n",
    "                                            query_embeddings)\n",
    "    similarity_matrix_dataframe = pd.DataFrame(\n",
    "        ms2ds_scores,\n",
    "        index=ms2ds_embeddings.index)\n",
    "    return similarity_matrix_dataframe\n"
   ]
  },
  {
   "cell_type": "code",
   "execution_count": 5,
   "id": "08a3129a",
   "metadata": {},
   "outputs": [],
   "source": [
    "path_data = \"C:/Users/jonge094/PycharmProjects/PhD_MS2Query/ms2query/data\"\n",
    "path_library = os.path.join(path_data, \"libraries_and_models/gnps_15_12_2021/library_gnps_15_12/\")\n",
    "pickled_ms2ds_embeddings_file_name = os.path.join(path_library, \"library_GNPS_15_12_2021_ms2ds_embeddings.pickle\")\n",
    "ms2ds_model_file_name=os.path.join(path_library, \"ms2ds_model_GNPS_15_12_2021.hdf5\")\n",
    "ms2deepscores = get_all_ms2ds_scores(ms2ds_model_file_name, pickled_ms2ds_embeddings_file_name, test_spectra_250)"
   ]
  },
  {
   "cell_type": "code",
   "execution_count": 21,
   "id": "03e049eb",
   "metadata": {},
   "outputs": [
    {
     "data": {
      "application/vnd.jupyter.widget-view+json": {
       "model_id": "5301677b63c14f6c81430b77dc93a52e",
       "version_major": 2,
       "version_minor": 0
      },
      "text/plain": [
       "0it [00:00, ?it/s]"
      ]
     },
     "metadata": {},
     "output_type": "display_data"
    }
   ],
   "source": [
    "from ms2query.query_from_sqlite_database import get_precursor_mz_within_range\n",
    "from tqdm.notebook import tqdm\n",
    "\n",
    "def select_highest_ms2ds_in_mass_range(ms2deepscores, test_spectra, sqlite_file_location, allowed_mass_diff):\n",
    "    highest_ms2_deepscore_in_mass_range = []\n",
    "    for i, spectrum in tqdm(enumerate(test_spectra)):\n",
    "        precursor_mz_query_spectrum = spectrum.get(\"precursor_mz\")\n",
    "        spectra_and_mass = get_precursor_mz_within_range(sqlite_file_location, precursor_mz_query_spectrum-allowed_mass_diff, precursor_mz_query_spectrum+allowed_mass_diff)\n",
    "        spectra = [spectrum_and_mass[0] for spectrum_and_mass in spectra_and_mass]\n",
    "        highest_ms2_deepscore_in_mass_range.append(ms2deepscores[i].loc[spectra].idxmax())\n",
    "    return highest_ms2_deepscore_in_mass_range\n",
    "    \n",
    "highest_ms2deepscore_within_100_Da = select_highest_ms2ds_in_mass_range(ms2deepscores, test_spectra_250, os.path.join(path_library, \"library_GNPS_15_12_2021.sqlite\"), 100)"
   ]
  },
  {
   "cell_type": "markdown",
   "id": "61d33000",
   "metadata": {},
   "source": [
    "The MS2Deepscore is also stored, to potentially use as as a threshold in a later state."
   ]
  },
  {
   "cell_type": "code",
   "execution_count": 31,
   "id": "d958892b",
   "metadata": {},
   "outputs": [],
   "source": [
    "best_spectrum_and_ms2deepscore = []\n",
    "for i, spectrum_id in enumerate(highest_ms2deepscore_within_100_Da):\n",
    "    selected_ms2deepscore = ms2deepscores[i].loc[spectrum_id]\n",
    "    best_spectrum_and_ms2deepscore.append((spectrum_id, selected_ms2deepscore))"
   ]
  },
  {
   "cell_type": "code",
   "execution_count": 33,
   "id": "522145e8",
   "metadata": {},
   "outputs": [],
   "source": [
    "import pickle\n",
    "pickle.dump(best_spectrum_and_ms2deepscore, open(os.path.join(path_data, \"libraries_and_models/gnps_15_12_2021/benchmarking/ms2deepscores_within_100_Da_test_spectra_250.pickle\"),\"wb\"))"
   ]
  },
  {
   "cell_type": "markdown",
   "id": "2d1acde0",
   "metadata": {},
   "source": [
    "# Modified Cosine"
   ]
  },
  {
   "cell_type": "markdown",
   "id": "2f99e9cb",
   "metadata": {},
   "source": [
    "The following code was run on the server"
   ]
  },
  {
   "cell_type": "code",
   "execution_count": null,
   "id": "9c39bf6a",
   "metadata": {},
   "outputs": [],
   "source": [
    "import os\n",
    "import pickle\n",
    "from matchms.calculate_scores import calculate_scores\n",
    "from matchms.similarity.ModifiedCosine import ModifiedCosine\n",
    "from tqdm import tqdm\n",
    "from ms2query.query_from_sqlite_database import get_spectra_from_sqlite\n",
    "from ms2query.utils import load_pickled_file\n",
    "\n",
    "def select_spectra_within_mass_range(spectra, lower_bound, upper_bound):\n",
    "    selected_spectra = []\n",
    "    for spectrum in spectra:\n",
    "        precursor_mz = spectrum.get('precursor_mz')\n",
    "        if precursor_mz <= upper_bound and precursor_mz >= lower_bound:\n",
    "            selected_spectra.append(spectrum)\n",
    "    return selected_spectra\n",
    "\n",
    "def analogue_search(lib_spectra, test_spectra, mass_tolerance = 100):\n",
    "    best_matches_for_test_spectra = []\n",
    "    for test_spectrum in tqdm(test_spectra):\n",
    "        precursor_mz = test_spectrum.get(\"precursor_mz\")\n",
    "        selected_lib_spectra = select_spectra_within_mass_range(lib_spectra, precursor_mz-mass_tolerance, precursor_mz+mass_tolerance)\n",
    "        scores_list = calculate_scores(selected_lib_spectra, [test_spectrum], ModifiedCosine()).scores_by_query(test_spectrum)\n",
    "        cosine_scores = [scores_tuple[1][0] for scores_tuple in scores_list]\n",
    "        highest_cosine_score = max(cosine_scores)\n",
    "        highest_scoring_spectrum = scores_list[cosine_scores.index(highest_cosine_score)][0]\n",
    "        highest_scoring_spectrum_id = highest_scoring_spectrum.get(\"spectrumid\")\n",
    "        best_matches_for_test_spectra.append((highest_scoring_spectrum_id, highest_cosine_score))\n",
    "    return best_matches_for_test_spectra\n",
    "\n",
    "path_root = os.path.dirname(os.getcwd())\n",
    "path_library = os.path.join(path_root, \"../../data/libraries_and_models/gnps_15_12_2021/library_gnps_15_12/\")\n",
    "\n",
    "test_spectra_250 = load_pickled_file(os.path.join(path_root,\n",
    "                                                   \"../../data/libraries_and_models/gnps_15_12_2021/in_between_files/GNPS_15_12_2021_pos_test_250_inchikeys.pickle\"))\n",
    "# Load all library spectra in memory\n",
    "all_lib_spectra = get_spectra_from_sqlite(os.path.join(path_library, \"library_GNPS_15_12_2021.sqlite\"), [], get_all_spectra=True)\n",
    "results = analogue_search(all_lib_spectra, test_spectra_250, mass_tolerance=100)\n",
    "\n",
    "pickle.dump(results, open(os.path.join(path_root, \"../../data/libraries_and_models/gnps_15_12_2021/benchmarking/highest_mod_cosine_mass_tol_100_test_spectra_250.pickle\"), \"wb\"))"
   ]
  },
  {
   "cell_type": "code",
   "execution_count": null,
   "id": "5695e045",
   "metadata": {},
   "outputs": [],
   "source": []
  }
 ],
 "metadata": {
  "kernelspec": {
   "display_name": "Python 3 (ipykernel)",
   "language": "python",
   "name": "python3"
  },
  "language_info": {
   "codemirror_mode": {
    "name": "ipython",
    "version": 3
   },
   "file_extension": ".py",
   "mimetype": "text/x-python",
   "name": "python",
   "nbconvert_exporter": "python",
   "pygments_lexer": "ipython3",
   "version": "3.8.10"
  }
 },
 "nbformat": 4,
 "nbformat_minor": 5
}
