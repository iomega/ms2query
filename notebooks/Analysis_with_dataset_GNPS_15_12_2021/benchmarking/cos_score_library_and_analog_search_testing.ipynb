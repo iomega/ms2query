{
 "cells": [
  {
   "cell_type": "code",
   "execution_count": 1,
   "id": "cf8808fd",
   "metadata": {},
   "outputs": [
    {
     "name": "stderr",
     "output_type": "stream",
     "text": [
      "c:\\users\\jonge094\\anaconda3\\envs\\ms2query\\lib\\site-packages\\gensim\\similarities\\__init__.py:15: UserWarning: The gensim.similarities.levenshtein submodule is disabled, because the optional Levenshtein package <https://pypi.org/project/python-Levenshtein/> is unavailable. Install Levenhstein (e.g. `pip install python-Levenshtein`) to suppress this warning.\n",
      "  warnings.warn(msg)\n"
     ]
    }
   ],
   "source": [
    "from ms2query.ms2library import MS2Library\n",
    "from ms2query.utils import load_pickled_file\n",
    "import os\n",
    "\n",
    "root_path = \"C:/Users/jonge094/PycharmProjects/PhD_MS2Query/ms2query/data/libraries_and_models/gnps_15_12_2021\"\n",
    "\n",
    "test_spectra_3000 = load_pickled_file(os.path.join(root_path, \"in_between_files\", \"GNPS_15_12_2021_pos_test_3000_spectra.pickle\"))\n",
    "test_spectra_250 = load_pickled_file(os.path.join(root_path, \"in_between_files\", \"GNPS_15_12_2021_pos_test_250_inchikeys.pickle\"))\n",
    "\n",
    "tanimoto_scores_df_file = os.path.join(root_path, \"in_between_files\", \"GNPS_15_12_2021_pos_tanimoto_scores.pickle\")\n",
    "sqlite_file = os.path.join(root_path, \"library_gnps_15_12\", \"library_GNPS_15_12_2021.sqlite\")\n"
   ]
  },
  {
   "cell_type": "markdown",
   "id": "c299ac4e",
   "metadata": {},
   "source": [
    "# Generating data"
   ]
  },
  {
   "cell_type": "markdown",
   "id": "3adbb416",
   "metadata": {},
   "source": [
    "### Library search using cosine score"
   ]
  },
  {
   "cell_type": "code",
   "execution_count": 1,
   "id": "1b2fd05c",
   "metadata": {},
   "outputs": [
    {
     "name": "stderr",
     "output_type": "stream",
     "text": [
      "c:\\users\\jonge094\\anaconda3\\envs\\ms2query\\lib\\site-packages\\gensim\\similarities\\__init__.py:15: UserWarning: The gensim.similarities.levenshtein submodule is disabled, because the optional Levenshtein package <https://pypi.org/project/python-Levenshtein/> is unavailable. Install Levenhstein (e.g. `pip install python-Levenshtein`) to suppress this warning.\n",
      "  warnings.warn(msg)\n"
     ]
    },
    {
     "ename": "NameError",
     "evalue": "name 'test_spectra_3000' is not defined",
     "output_type": "error",
     "traceback": [
      "\u001b[1;31m---------------------------------------------------------------------------\u001b[0m",
      "\u001b[1;31mNameError\u001b[0m                                 Traceback (most recent call last)",
      "\u001b[1;32m~\\AppData\\Local\\Temp/ipykernel_16728/891993740.py\u001b[0m in \u001b[0;36m<module>\u001b[1;34m\u001b[0m\n\u001b[0;32m     10\u001b[0m \u001b[1;33m\u001b[0m\u001b[0m\n\u001b[0;32m     11\u001b[0m \u001b[0mmatches_for_test_spectra\u001b[0m\u001b[1;33m=\u001b[0m \u001b[1;33m[\u001b[0m\u001b[1;33m]\u001b[0m\u001b[1;33m\u001b[0m\u001b[1;33m\u001b[0m\u001b[0m\n\u001b[1;32m---> 12\u001b[1;33m \u001b[1;32mfor\u001b[0m \u001b[0mtest_spectrum\u001b[0m \u001b[1;32min\u001b[0m \u001b[0mtqdm\u001b[0m\u001b[1;33m(\u001b[0m\u001b[0mtest_spectra_3000\u001b[0m\u001b[1;33m)\u001b[0m\u001b[1;33m:\u001b[0m\u001b[1;33m\u001b[0m\u001b[1;33m\u001b[0m\u001b[0m\n\u001b[0m\u001b[0;32m     13\u001b[0m     \u001b[1;31m# Select spectra within mass tolerance\u001b[0m\u001b[1;33m\u001b[0m\u001b[1;33m\u001b[0m\u001b[1;33m\u001b[0m\u001b[0m\n\u001b[0;32m     14\u001b[0m     \u001b[0mprecursor_mz\u001b[0m \u001b[1;33m=\u001b[0m \u001b[0mtest_spectrum\u001b[0m\u001b[1;33m.\u001b[0m\u001b[0mget\u001b[0m\u001b[1;33m(\u001b[0m\u001b[1;34m\"precursor_mz\"\u001b[0m\u001b[1;33m)\u001b[0m\u001b[1;33m\u001b[0m\u001b[1;33m\u001b[0m\u001b[0m\n",
      "\u001b[1;31mNameError\u001b[0m: name 'test_spectra_3000' is not defined"
     ]
    }
   ],
   "source": [
    "from ms2query.query_from_sqlite_database import get_precursor_mz_within_range, get_spectra_from_sqlite\n",
    "from matchms.calculate_scores import calculate_scores\n",
    "from matchms.similarity.CosineGreedy import CosineGreedy\n",
    "from tqdm.notebook import tqdm\n",
    "import numpy as np\n",
    "\n",
    "MASS_TOLERANCE = 1\n",
    "MINIMAL_COS = 0.6\n",
    "\n",
    "\n",
    "matches_for_test_spectra= []\n",
    "for test_spectrum in tqdm(test_spectra_3000):\n",
    "    # Select spectra within mass tolerance\n",
    "    precursor_mz = test_spectrum.get(\"precursor_mz\")\n",
    "    selected_lib_spec_and_mass = get_precursor_mz_within_range(sqlite_file, precursor_mz-MASS_TOLERANCE, precursor_mz+MASS_TOLERANCE)\n",
    "    selected_lib_spec_ids = [spectrum_id[0] for spectrum_id in selected_lib_spec_and_mass]\n",
    "    selected_lib_spectra = get_spectra_from_sqlite(sqlite_file, selected_lib_spec_ids)\n",
    "    # Calculate cosine score\n",
    "    scores = calculate_scores(selected_lib_spectra, [test_spectrum], CosineGreedy())\n",
    "    \n",
    "    matches = []\n",
    "    for score in scores:\n",
    "        (reference, query, score) = score\n",
    "        if score[\"score\"] >= MINIMAL_COS:\n",
    "            matches.append([reference, score[\"score\"]])\n",
    "    matches_for_test_spectra.append(matches)"
   ]
  },
  {
   "cell_type": "code",
   "execution_count": 4,
   "id": "fe69e86d",
   "metadata": {},
   "outputs": [],
   "source": [
    "import pickle\n",
    "pickle.dump(matches_for_test_spectra, open(os.path.join(root_path, \"test_results_lib_search_using_cos_score.pickle\"), \"wb\"))"
   ]
  },
  {
   "cell_type": "code",
   "execution_count": null,
   "id": "2f16126c",
   "metadata": {},
   "outputs": [],
   "source": [
    "def select_best_match_and_calculate_tanimoto_score(query_spectra,\n",
    "                                                   results, \n",
    "                                                   tanimoto_scores_file, \n",
    "                                                   sqlite_file_location):\n",
    "    \"\"\"Returns a list with all the cosine scores and tanimoto scores for the best matches\"\"\"\n",
    "\n",
    "    tanimoto_scores = load_pickled_file(tanimoto_scores_file)\n",
    "    ms2query_scores_and_tanimoto = []\n",
    "    \n",
    "    for query_spectrum_id, result in enumerate(results): \n",
    "        query_spectrum = query_spectra[query_spectrum_id]\n",
    "        query_spectrum_inchikey = query_spectrum.get(\"inchikey\")[:14]\n",
    "\n",
    "        # select highest scoring match\n",
    "        \n",
    "        best_match_inchikey = get_metadata_from_sqlite(\n",
    "            sqlite_file_location, [best_match_spectrum_id], \"spectrumid\")[best_match_spectrum_id][\"inchikey\"][:14]\n",
    "        tanimoto_score = tanimoto_scores.loc[best_match_inchikey, query_spectrum_inchikey]\n",
    "\n",
    "        ms2query_scores_and_tanimoto.append((best_match_score, tanimoto_score))\n",
    "    return ms2query_scores_and_tanimoto"
   ]
  },
  {
   "cell_type": "markdown",
   "id": "15c3504e",
   "metadata": {},
   "source": [
    "### Analog search using modified cosine score"
   ]
  },
  {
   "cell_type": "code",
   "execution_count": 3,
   "id": "ec137af0",
   "metadata": {},
   "outputs": [
    {
     "ename": "NameError",
     "evalue": "name 'selected_lib_spectra' is not defined",
     "output_type": "error",
     "traceback": [
      "\u001b[1;31m---------------------------------------------------------------------------\u001b[0m",
      "\u001b[1;31mNameError\u001b[0m                                 Traceback (most recent call last)",
      "\u001b[1;32m~\\AppData\\Local\\Temp/ipykernel_22808/585883542.py\u001b[0m in \u001b[0;36m<module>\u001b[1;34m\u001b[0m\n\u001b[0;32m      2\u001b[0m \u001b[1;33m\u001b[0m\u001b[0m\n\u001b[0;32m      3\u001b[0m \u001b[0mall_lib_spectra\u001b[0m \u001b[1;33m=\u001b[0m \u001b[0mget_spectra_from_sqlite\u001b[0m\u001b[1;33m(\u001b[0m\u001b[0msqlite_file\u001b[0m\u001b[1;33m,\u001b[0m \u001b[1;33m[\u001b[0m\u001b[1;33m]\u001b[0m\u001b[1;33m,\u001b[0m \u001b[0mget_all_spectra\u001b[0m\u001b[1;33m=\u001b[0m\u001b[1;32mTrue\u001b[0m\u001b[1;33m)\u001b[0m\u001b[1;33m\u001b[0m\u001b[1;33m\u001b[0m\u001b[0m\n\u001b[1;32m----> 4\u001b[1;33m \u001b[0mprint\u001b[0m\u001b[1;33m(\u001b[0m\u001b[0mlen\u001b[0m\u001b[1;33m(\u001b[0m\u001b[0mselected_lib_spectra\u001b[0m\u001b[1;33m)\u001b[0m\u001b[1;33m)\u001b[0m\u001b[1;33m\u001b[0m\u001b[1;33m\u001b[0m\u001b[0m\n\u001b[0m",
      "\u001b[1;31mNameError\u001b[0m: name 'selected_lib_spectra' is not defined"
     ]
    }
   ],
   "source": [
    "from ms2query.query_from_sqlite_database import get_spectra_from_sqlite\n",
    "\n",
    "all_lib_spectra = get_spectra_from_sqlite(sqlite_file, [], get_all_spectra=True)"
   ]
  },
  {
   "cell_type": "markdown",
   "id": "82990ec8",
   "metadata": {},
   "source": [
    "## The code below was run in a python script instead"
   ]
  },
  {
   "cell_type": "code",
   "execution_count": 17,
   "id": "e427a971",
   "metadata": {},
   "outputs": [],
   "source": [
    "from matchms.calculate_scores import calculate_scores\n",
    "from matchms.similarity.ModifiedCosine import ModifiedCosine\n",
    "from tqdm.notebook import tqdm\n",
    "\n",
    "\n",
    "def select_spectra_within_mass_range(spectra, lower_bound, upper_bound):\n",
    "    selected_spectra = []\n",
    "    for spectrum in spectra:\n",
    "        precursor_mz = spectrum.get('precursor_mz')\n",
    "        if precursor_mz <= upper_bound and precursor_mz >= lower_bound:\n",
    "            selected_spectra.append(spectrum)\n",
    "    return selected_spectra\n",
    "\n",
    "def analogue_search(lib_spectra, test_spectra, mass_tolerance = 100, minimal_mod_cos = 0.7):\n",
    "    matches_for_test_spectra = []\n",
    "    for test_spectrum in tqdm(test_spectra):\n",
    "        precursor_mz = test_spectrum.get(\"precursor_mz\")\n",
    "        selected_lib_spectra = select_spectra_within_mass_range(lib_spectra, precursor_mz-mass_tolerance, precursor_mz+mass_tolerance)\n",
    "        scores = calculate_scores(selected_lib_spectra, [test_spectrum], ModifiedCosine())\n",
    "        matches = []\n",
    "        for score in scores:\n",
    "            (reference, query, score) = score\n",
    "            if score[\"score\"] >= minimal_mod_cos:\n",
    "                matches.append([reference, score[\"score\"]])\n",
    "        matches_for_test_spectra.append(matches)\n",
    "    return matches_for_test_spectra"
   ]
  },
  {
   "cell_type": "markdown",
   "id": "c5e5e5dd",
   "metadata": {},
   "source": [
    "# Plot results"
   ]
  },
  {
   "cell_type": "code",
   "execution_count": 1,
   "id": "e3a91a06",
   "metadata": {},
   "outputs": [
    {
     "name": "stderr",
     "output_type": "stream",
     "text": [
      "c:\\users\\jonge094\\anaconda3\\envs\\ms2query\\lib\\site-packages\\gensim\\similarities\\__init__.py:15: UserWarning: The gensim.similarities.levenshtein submodule is disabled, because the optional Levenshtein package <https://pypi.org/project/python-Levenshtein/> is unavailable. Install Levenhstein (e.g. `pip install python-Levenshtein`) to suppress this warning.\n",
      "  warnings.warn(msg)\n"
     ]
    }
   ],
   "source": [
    "from ms2query.utils import load_pickled_file\n",
    "\n",
    "results_analogue_search = load_pickled_file(\"C:/Users/jonge094/PycharmProjects/PhD_MS2Query/ms2query/data/libraries_and_models/gnps_15_12_2021/benchmarking/test_results_analog_search_mod_cos.pickle\")"
   ]
  },
  {
   "cell_type": "code",
   "execution_count": 5,
   "id": "3885662c",
   "metadata": {},
   "outputs": [],
   "source": [
    "import os\n",
    "root_path = \"C:/Users/jonge094/PycharmProjects/PhD_MS2Query/ms2query/data/libraries_and_models/gnps_15_12_2021\"\n",
    "test_spectra_250 = load_pickled_file(os.path.join(root_path, \"in_between_files\", \"GNPS_15_12_2021_pos_test_250_inchikeys.pickle\"))\n"
   ]
  },
  {
   "cell_type": "code",
   "execution_count": 14,
   "id": "8493b737",
   "metadata": {},
   "outputs": [],
   "source": [
    "def select_highest_scoring_matches(results_analogue_search):\n",
    "    best_matches = []\n",
    "    for result in results_analogue_search:\n",
    "        if len(result) > 0:\n",
    "            cos_scores = [single_match[1] for single_match in result]\n",
    "            index_max = cos_scores.index(max(cos_scores))\n",
    "            highest_scoring_lib_spec = result[index_max][0]\n",
    "            best_matches.append(highest_scoring_lib_spec)\n",
    "        else:\n",
    "            best_matches.append(None)\n",
    "    return best_matches"
   ]
  },
  {
   "cell_type": "code",
   "execution_count": 15,
   "id": "3379df47",
   "metadata": {},
   "outputs": [],
   "source": [
    "highest_scoring_matches = select_highest_scoring_matches(results_analogue_search)"
   ]
  },
  {
   "cell_type": "code",
   "execution_count": 20,
   "id": "8cb94d98",
   "metadata": {},
   "outputs": [],
   "source": [
    "tanimoto_scores = load_pickled_file(os.path.join(root_path, \"in_between_files\", \"GNPS_15_12_2021_pos_tanimoto_scores.pickle\"))"
   ]
  },
  {
   "cell_type": "code",
   "execution_count": 25,
   "id": "14638bc2",
   "metadata": {},
   "outputs": [],
   "source": [
    "from tqdm.notebook import tqdm\n",
    "\n",
    "def calculate_tanimoto_score(query_spectra, matches, tanimoto_scores):\n",
    "    results = []\n",
    "    for i in tqdm(range(len(query_spectra))):\n",
    "        query_spectrum = query_spectra[i]\n",
    "        lib_spectrum = matches[i]\n",
    "        if lib_spectrum is None:\n",
    "            tanimoto_scores.append(None)\n",
    "        else:\n",
    "            query_inchikey = query_spectrum.get(\"inchikey\")[:14]\n",
    "            lib_inchikey = lib_spectrum.get('inchikey') [:14]\n",
    "            tanimoto_score = tanimoto_scores.loc[query_inchikey, lib_inchikey]\n",
    "            results.append(tanimoto_score)\n",
    "    return results"
   ]
  },
  {
   "cell_type": "code",
   "execution_count": 26,
   "id": "4e5fec36",
   "metadata": {},
   "outputs": [
    {
     "data": {
      "application/vnd.jupyter.widget-view+json": {
       "model_id": "db88185325514c4b9202fa0d066bed7a",
       "version_major": 2,
       "version_minor": 0
      },
      "text/plain": [
       "  0%|          | 0/2987 [00:00<?, ?it/s]"
      ]
     },
     "metadata": {},
     "output_type": "display_data"
    }
   ],
   "source": [
    "resulting_scores = calculate_tanimoto_score(test_spectra_250, highest_scoring_matches, tanimoto_scores)"
   ]
  },
  {
   "cell_type": "code",
   "execution_count": 28,
   "id": "4180c6ec",
   "metadata": {},
   "outputs": [],
   "source": [
    "import pickle\n",
    "pickle.dump(resulting_scores, open(os.path.join(root_path, \"benchmarking\", \"tanimoto_scores_benchmarking_mod_cos_analog_search.pickle\"), \"wb\"))"
   ]
  },
  {
   "cell_type": "code",
   "execution_count": 38,
   "id": "fee3ecd5",
   "metadata": {},
   "outputs": [
    {
     "name": "stdout",
     "output_type": "stream",
     "text": [
      "176\n"
     ]
    }
   ],
   "source": [
    "i = 0\n",
    "for result in highest_scoring_matches:\n",
    "    if result is None:\n",
    "        i += 1\n",
    "print(i)"
   ]
  },
  {
   "cell_type": "code",
   "execution_count": 36,
   "id": "aa79a3a0",
   "metadata": {},
   "outputs": [
    {
     "name": "stdout",
     "output_type": "stream",
     "text": [
      "2811\n"
     ]
    }
   ],
   "source": [
    "print(len(resulting_scores))"
   ]
  },
  {
   "cell_type": "code",
   "execution_count": 39,
   "id": "71a03a91",
   "metadata": {},
   "outputs": [
    {
     "name": "stdout",
     "output_type": "stream",
     "text": [
      "2987\n"
     ]
    }
   ],
   "source": [
    "print(len(test_spectra_250))"
   ]
  },
  {
   "cell_type": "code",
   "execution_count": 42,
   "id": "f481919a",
   "metadata": {},
   "outputs": [],
   "source": [
    "import numpy as np\n",
    "from matplotlib import pyplot as plt\n",
    "\n",
    "def compare_tanimoto_score_distribution(tanimoto_scores, total_spectra):\n",
    "    bins = np.linspace(0, 1, 11)\n",
    "    \n",
    "    # remove Nones\n",
    "    tanimoto_scores = [score for score in tanimoto_scores if score is not None]\n",
    "    percentage_selected = len(tanimoto_scores)/total_spectra*100\n",
    "    print(\"MS2query percentage found\")\n",
    "    print(percentage_selected)\n",
    "    weight_to_convert_to_percentage = 100/total_spectra\n",
    "    weights = [weight_to_convert_to_percentage] * len(tanimoto_scores)\n",
    "    \n",
    "    plt.hist([tanimoto_scores], bins, \n",
    "             label = [\"modified cosine score\"], weights = [weights])\n",
    "    \n",
    "    plt.legend(loc = \"upper center\", title = \"Select on:\")\n",
    "    plt.xlabel(\"tanimoto_score\")\n",
    "    plt.ylabel(\"Percentage of matches (%)\")\n",
    "    plt.ylim(0, 25)\n",
    "\n",
    "    plt.show"
   ]
  },
  {
   "cell_type": "code",
   "execution_count": 43,
   "id": "75e36fd8",
   "metadata": {},
   "outputs": [
    {
     "name": "stdout",
     "output_type": "stream",
     "text": [
      "MS2query percentage found\n",
      "94.10780046869769\n"
     ]
    },
    {
     "data": {
      "image/png": "[encoded data removed]",
      "text/plain": [
       "<Figure size 432x288 with 1 Axes>"
      ]
     },
     "metadata": {
      "needs_background": "light"
     },
     "output_type": "display_data"
    }
   ],
   "source": [
    "compare_tanimoto_score_distribution(resulting_scores, 2987)"
   ]
  },
  {
   "cell_type": "code",
   "execution_count": null,
   "id": "112e84ab",
   "metadata": {},
   "outputs": [],
   "source": []
  },
  {
   "cell_type": "markdown",
   "id": "db6a17f1",
   "metadata": {},
   "source": [
    "# to do\n",
    "Maybe rerun, but only select the top hit, to make comparison accross the whole range. \n",
    "Also run tests for MS2Deepscore and MS2Query\n",
    "MS2Deepscore + precursor m/z difference? \n"
   ]
  },
  {
   "cell_type": "code",
   "execution_count": null,
   "id": "520f1b5a",
   "metadata": {},
   "outputs": [],
   "source": []
  }
 ],
 "metadata": {
  "kernelspec": {
   "display_name": "Python 3 (ipykernel)",
   "language": "python",
   "name": "python3"
  },
  "language_info": {
   "codemirror_mode": {
    "name": "ipython",
    "version": 3
   },
   "file_extension": ".py",
   "mimetype": "text/x-python",
   "name": "python",
   "nbconvert_exporter": "python",
   "pygments_lexer": "ipython3",
   "version": "3.8.11"
  }
 },
 "nbformat": 4,
 "nbformat_minor": 5
}
