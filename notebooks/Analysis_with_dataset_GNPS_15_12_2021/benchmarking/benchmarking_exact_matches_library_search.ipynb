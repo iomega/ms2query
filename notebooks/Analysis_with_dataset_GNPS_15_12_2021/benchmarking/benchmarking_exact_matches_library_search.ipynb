{
 "cells": [
  {
   "cell_type": "markdown",
   "id": "f944e4c1",
   "metadata": {},
   "source": [
    "# Benchmarking results exact matches library search\n",
    "The results of running MS2Query, MS2Deepscore and  cosine on the test spectra of all spectra from 3000 spectra, that do have at least 1 exact library hit is visualized below. In the file generate_predictions_for_test_data the predictions are generated and stored in the format: List[Tuple(best_spectrum_id, predicted_score)] None is given for spectra that fall outside of the set mass tolerance."
   ]
  },
  {
   "cell_type": "code",
   "execution_count": 63,
   "id": "82719dbc",
   "metadata": {},
   "outputs": [],
   "source": [
    "import os\n",
    "import pandas as pd\n",
    "import numpy as np\n",
    "from matplotlib import pyplot as plt\n",
    "from ms2query.utils import load_pickled_file\n",
    "\n",
    "# General file locations\n",
    "data_folder = \"C:/Users/jonge094/PycharmProjects/PhD_MS2Query/ms2query/data\"\n",
    "benchmarking_results_folder = os.path.join(data_folder, \"libraries_and_models/gnps_15_12_2021/benchmarking\")\n",
    "library_folder = os.path.join(data_folder, \"libraries_and_models/gnps_15_12_2021/\")\n",
    "sqlite_file_location = os.path.join(library_folder, \"library_gnps_15_12/library_GNPS_15_12_2021.sqlite\")\n",
    "\n",
    "test_spectra_3000 = load_pickled_file(os.path.join(library_folder,\n",
    "                                                   \"in_between_files/GNPS_15_12_2021_pos_test_3000_spectra.pickle\"))\n",
    "\n",
    "# Load in predictions:\n",
    "df_results_ms2query = pd.read_csv(os.path.join(benchmarking_results_folder, \"GNPS_15_12_2021_pos_test_3000_spectra.csv\"))\n",
    "results_cosine_min_match_0 = load_pickled_file(os.path.join(benchmarking_results_folder, \"highest_cosine_mass_tol_025_fragment_005_min_matched_0_test_spectra_3000.pickle\"))\n",
    "results_cosine = load_pickled_file(os.path.join(benchmarking_results_folder, \"highest_cosine_mass_tol_025_fragment_005_min_matched_3_test_spectra_3000.pickle\"))\n",
    "results_ms2deepscore = load_pickled_file(os.path.join(benchmarking_results_folder, \"ms2deepscores_within_0_25_Da_test_spectra_3000.pickle\"))\n"
   ]
  },
  {
   "cell_type": "code",
   "execution_count": 64,
   "id": "4eedbbc0",
   "metadata": {},
   "outputs": [],
   "source": [
    "# convert to list with tuple format and add spectrum objects\n",
    "results_ms2query_3000 = [(x[0], x[1], test_spectra_3000[x[2]-1]) for x in df_results_ms2query[[\"spectrum_ids\", \"ms2query_model_prediction\", \"query_spectrum_nr\"]].to_numpy()]\n",
    "results_cosine_3000 = [(results_cosine[i][0], results_cosine[i][1], test_spectra_3000[i]) for i in range(len(test_spectra_3000))]\n",
    "results_cosine_3000_min_match_0 = [(results_cosine_min_match_0[i][0], results_cosine_min_match_0[i][1], test_spectra_3000[i]) for i in range(len(test_spectra_3000))]\n",
    "results_ms2deepscore_3000 = [(results_ms2deepscore[i][0], results_ms2deepscore[i][1], test_spectra_3000[i]) for i in range(len(test_spectra_3000))]"
   ]
  },
  {
   "cell_type": "code",
   "execution_count": 65,
   "id": "91ce5d65",
   "metadata": {},
   "outputs": [],
   "source": [
    "from ms2query.query_from_sqlite_database import get_metadata_from_sqlite\n",
    "from tqdm.notebook import tqdm\n",
    "\n",
    "def assert_correct_match(results, sqlite_file_location):\n",
    "    correct_match_list = []\n",
    "    for best_match_spectrum_id, predicted_score, test_spectrum in tqdm(results):\n",
    "        if best_match_spectrum_id is not None:\n",
    "            test_spectrum_inchikey = test_spectrum.get(\"inchikey\")[:14]\n",
    "            best_match_inchikey = get_metadata_from_sqlite(sqlite_file_location, [best_match_spectrum_id], \"spectrumid\")[best_match_spectrum_id][\"inchikey\"][:14]\n",
    "            true_match = best_match_inchikey == test_spectrum_inchikey\n",
    "            correct_match_list.append((true_match, predicted_score))\n",
    "    return correct_match_list\n"
   ]
  },
  {
   "cell_type": "code",
   "execution_count": 66,
   "id": "fa652e94",
   "metadata": {},
   "outputs": [
    {
     "data": {
      "application/vnd.jupyter.widget-view+json": {
       "model_id": "b0568e3655b048b38c87ba92d9af9fab",
       "version_major": 2,
       "version_minor": 0
      },
      "text/plain": [
       "  0%|          | 0/3000 [00:00<?, ?it/s]"
      ]
     },
     "metadata": {},
     "output_type": "display_data"
    },
    {
     "data": {
      "application/vnd.jupyter.widget-view+json": {
       "model_id": "8a692594e56c411bb0095b702fa1e1d6",
       "version_major": 2,
       "version_minor": 0
      },
      "text/plain": [
       "  0%|          | 0/3000 [00:00<?, ?it/s]"
      ]
     },
     "metadata": {},
     "output_type": "display_data"
    },
    {
     "data": {
      "application/vnd.jupyter.widget-view+json": {
       "model_id": "1169cc69dff44fceb2a108ed01431945",
       "version_major": 2,
       "version_minor": 0
      },
      "text/plain": [
       "  0%|          | 0/3000 [00:00<?, ?it/s]"
      ]
     },
     "metadata": {},
     "output_type": "display_data"
    },
    {
     "data": {
      "application/vnd.jupyter.widget-view+json": {
       "model_id": "b04d1ca779c7420a81706e3b6c218a7e",
       "version_major": 2,
       "version_minor": 0
      },
      "text/plain": [
       "  0%|          | 0/3000 [00:00<?, ?it/s]"
      ]
     },
     "metadata": {},
     "output_type": "display_data"
    }
   ],
   "source": [
    "results_ms2query = assert_correct_match(results_ms2query_3000, sqlite_file_location)\n",
    "results_cosine = assert_correct_match(results_cosine_3000, sqlite_file_location)\n",
    "results_cosine_min_match_0 = assert_correct_match(results_cosine_3000_min_match_0, sqlite_file_location)\n",
    "results_ms2deepscore = assert_correct_match(results_ms2deepscore_3000, sqlite_file_location)"
   ]
  },
  {
   "cell_type": "code",
   "execution_count": 48,
   "id": "c345d3b5",
   "metadata": {},
   "outputs": [],
   "source": [
    "def count_true_per_threshold(results, threshold):\n",
    "    count = 0\n",
    "    total = 0\n",
    "    for correct, score in results:\n",
    "        if score >= threshold:\n",
    "            total += 1\n",
    "            if correct:\n",
    "                count +=1\n",
    "    recall = total/3000\n",
    "    print(count)\n",
    "    print(round(count/total, 3))\n",
    "    print(round(recall, 3))"
   ]
  },
  {
   "cell_type": "code",
   "execution_count": 70,
   "id": "51dd0646",
   "metadata": {},
   "outputs": [
    {
     "data": {
      "image/png": "[encoded data removed]",
      "text/plain": [
       "<Figure size 432x288 with 1 Axes>"
      ]
     },
     "metadata": {
      "needs_background": "light"
     },
     "output_type": "display_data"
    }
   ],
   "source": [
    "import pandas as pd\n",
    "import numpy as np\n",
    "from matplotlib import pyplot as plt\n",
    "\n",
    "def accuracy_vs_recall(results, legend_label, nr_of_spectra):\n",
    "    \"\"\"Plots the average tanimoto vs recall\"\"\"\n",
    "    percentages_found = []\n",
    "    percentage_true = []\n",
    "    sorted_scores = sorted(results, key=lambda tup: tup[1])\n",
    "    for i in range(len(sorted_scores)):\n",
    "        selected_scores = [scores[0] for scores in sorted_scores[i:]]\n",
    "        # Count true positives\n",
    "        true_positive = sum(selected_scores)\n",
    "        false_postive = len(selected_scores) - true_positive\n",
    "        \n",
    "        percentages_found.append(len(selected_scores)/nr_of_spectra*100)\n",
    "        percentage_true.append(true_positive/len(selected_scores)*100)\n",
    "    plt.plot(percentages_found, percentage_true, label = legend_label)\n",
    "    plt.xlim(100,10)\n",
    "#     plt.ylim(0.4, 1)\n",
    "    plt.xlabel(\"Recall (%)\")\n",
    "    plt.ylabel(\"True positive (%)\")\n",
    "    plt.legend(loc = \"lower left\", \n",
    "#                title = \"Select on highest:\"\n",
    "              )\n",
    "accuracy_vs_recall(results_ms2query, \"MS2Query\", 3000)\n",
    "# accuracy_vs_recall(results_cosine, \"Cosine\", 3000)\n",
    "accuracy_vs_recall(results_ms2deepscore, \"MS2Deepscore\", 3000)\n",
    "accuracy_vs_recall(results_cosine_min_match_0, \"Cosine\", 3000)"
   ]
  },
  {
   "cell_type": "code",
   "execution_count": 60,
   "id": "a812fe92",
   "metadata": {},
   "outputs": [
    {
     "name": "stdout",
     "output_type": "stream",
     "text": [
      "1954\n",
      "0.651\n",
      "1.0\n",
      "158\n",
      "0.055\n",
      "0.956\n",
      "1922\n",
      "0.642\n",
      "0.999\n"
     ]
    }
   ],
   "source": [
    "count_true_per_threshold(results_ms2query, 0)\n",
    "count_true_per_threshold(results_cosine, 0)\n",
    "count_true_per_threshold(results_ms2deepscore, 0)"
   ]
  }
 ],
 "metadata": {
  "kernelspec": {
   "display_name": "Python 3",
   "language": "python",
   "name": "python3"
  },
  "language_info": {
   "codemirror_mode": {
    "name": "ipython",
    "version": 3
   },
   "file_extension": ".py",
   "mimetype": "text/x-python",
   "name": "python",
   "nbconvert_exporter": "python",
   "pygments_lexer": "ipython3",
   "version": "3.8.8"
  }
 },
 "nbformat": 4,
 "nbformat_minor": 5
}
