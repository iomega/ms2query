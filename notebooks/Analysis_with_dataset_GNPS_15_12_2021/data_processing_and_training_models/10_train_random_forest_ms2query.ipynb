{
 "cells": [
  {
   "cell_type": "code",
   "execution_count": 1,
   "id": "3151f10b",
   "metadata": {},
   "outputs": [],
   "source": [
    "import os\n",
    "from matplotlib import pyplot as plt\n",
    "from ms2query.utils import load_pickled_file\n",
    "\n",
    "path_data = \"C:/Users/jonge094/PycharmProjects/PhD_MS2Query/ms2query/data/libraries_and_models/gnps_15_12_2021/\"\n"
   ]
  },
  {
   "cell_type": "code",
   "execution_count": 2,
   "id": "135be0f7",
   "metadata": {},
   "outputs": [],
   "source": [
    "training_scores, training_labels, validation_scores, validation_labels = load_pickled_file(os.path.join(path_data,\n",
    "                                                                                                        \"final_ms2q_training_data.pickle\"))"
   ]
  },
  {
   "cell_type": "code",
   "execution_count": 3,
   "id": "6e6f27b8",
   "metadata": {},
   "outputs": [
    {
     "name": "stdout",
     "output_type": "stream",
     "text": [
      "<class 'pandas.core.frame.DataFrame'>\n",
      "RangeIndex: 467600 entries, 0 to 467599\n",
      "Data columns (total 5 columns):\n",
      " #   Column                                            Non-Null Count   Dtype  \n",
      "---  ------                                            --------------   -----  \n",
      " 0   precursor_mz_library_spectrum                     467600 non-null  float64\n",
      " 1   precursor_mz_difference                           467600 non-null  float64\n",
      " 2   s2v_score                                         467600 non-null  float64\n",
      " 3   average_ms2deepscore_multiple_library_structures  467600 non-null  float64\n",
      " 4   average_tanimoto_score_library_structures         467600 non-null  float64\n",
      "dtypes: float64(5)\n",
      "memory usage: 17.8 MB\n"
     ]
    }
   ],
   "source": [
    "training_scores.info()"
   ]
  },
  {
   "cell_type": "markdown",
   "id": "349b7fba",
   "metadata": {},
   "source": [
    "### Check if the tanimoto score distribution is relatively equal"
   ]
  },
  {
   "cell_type": "code",
   "execution_count": 4,
   "id": "ee3b00d0",
   "metadata": {},
   "outputs": [
    {
     "data": {
      "image/png": "[encoded data removed]",
      "text/plain": [
       "<Figure size 432x288 with 1 Axes>"
      ]
     },
     "metadata": {
      "needs_background": "light"
     },
     "output_type": "display_data"
    },
    {
     "data": {
      "image/png": "[encoded data removed]",
      "text/plain": [
       "<Figure size 432x288 with 1 Axes>"
      ]
     },
     "metadata": {
      "needs_background": "light"
     },
     "output_type": "display_data"
    }
   ],
   "source": [
    "weight_to_convert_to_percentage = 100/len(training_labels)\n",
    "weights = [weight_to_convert_to_percentage] * len(training_labels)\n",
    "plt.xlabel(\"tanimoto score\")\n",
    "plt.ylabel(\"Percentage (%)\")\n",
    "plt.hist(training_labels, weights = weights, rwidth = 0.9)\n",
    "plt.show()\n",
    "\n",
    "weight_to_convert_to_percentage = 100/len(validation_labels)\n",
    "weights = [weight_to_convert_to_percentage] * len(validation_labels)\n",
    "plt.xlabel(\"tanimoto score\")\n",
    "plt.ylabel(\"Percentage (%)\")\n",
    "plt.hist(validation_labels, weights = weights, rwidth = 0.9)\n",
    "plt.show()"
   ]
  },
  {
   "cell_type": "code",
   "execution_count": 6,
   "id": "18f7d1d3",
   "metadata": {},
   "outputs": [],
   "source": [
    "from sklearn.ensemble import RandomForestRegressor\n",
    "from sklearn.model_selection import train_test_split\n",
    "from sklearn.metrics import mean_squared_error\n",
    "\n",
    "def train_random_forest(selection_of_training_scores, selection_of_validation_scores, training_labels, validation_labels):\n",
    "    # train rf using optimised parameters from below\n",
    "\n",
    "    rf = RandomForestRegressor(n_estimators = 250, \n",
    "                               random_state = 42, \n",
    "                               max_depth = 5, \n",
    "                               min_samples_leaf=50,\n",
    "                               n_jobs=7)\n",
    "    rf.fit(selection_of_training_scores, training_labels)\n",
    "\n",
    "    # predict on train\n",
    "    rf_train_predictions = rf.predict(selection_of_training_scores)\n",
    "    mse_train_rf = mean_squared_error(training_labels, rf_train_predictions)\n",
    "    print('Training MSE', mse_train_rf)\n",
    "\n",
    "    # predict on test\n",
    "    rf_predictions = rf.predict(selection_of_validation_scores)\n",
    "    mse_rf = mean_squared_error(validation_labels, rf_predictions)\n",
    "    print('Validation MSE', mse_rf)\n",
    "\n",
    "    # get feature importances\n",
    "    importances = list(rf.feature_importances_)\n",
    "    feature_importances = [(feature, round(importance, 2)) for feature, importance in zip(selection_of_training_scores.columns, importances)]\n",
    "    feature_importances = sorted(feature_importances, key = lambda x: x[1], reverse = True)\n",
    "    [print('Variable: {:20} Importance: {}'.format(*pair)) for pair in feature_importances]\n",
    "    return rf"
   ]
  },
  {
   "cell_type": "code",
   "execution_count": 7,
   "id": "eb14e695",
   "metadata": {},
   "outputs": [
    {
     "name": "stderr",
     "output_type": "stream",
     "text": [
      "C:\\Users\\jonge094\\AppData\\Local\\Temp/ipykernel_4020/2986992357.py:13: DataConversionWarning: A column-vector y was passed when a 1d array was expected. Please change the shape of y to (n_samples,), for example using ravel().\n",
      "  rf.fit(selection_of_training_scores, training_labels)\n"
     ]
    },
    {
     "name": "stdout",
     "output_type": "stream",
     "text": [
      "Training MSE 0.028179792974096594\n",
      "Validation MSE 0.02528175613934737\n",
      "Variable: average_ms2deepscore_multiple_library_structures Importance: 0.62\n",
      "Variable: precursor_mz_difference Importance: 0.18\n",
      "Variable: precursor_mz_library_spectrum Importance: 0.13\n",
      "Variable: s2v_score            Importance: 0.05\n",
      "Variable: average_tanimoto_score_library_structures Importance: 0.02\n"
     ]
    }
   ],
   "source": [
    "rf = train_random_forest(training_scores, validation_scores, training_labels, validation_labels)"
   ]
  },
  {
   "cell_type": "code",
   "execution_count": 8,
   "id": "10f6fb9d",
   "metadata": {},
   "outputs": [],
   "source": [
    "import pickle\n",
    "pickle.dump(rf, open(os.path.join(path_data,\n",
    "                                  \"ms2query_random_forest_model.pickle\"), \"wb\"))"
   ]
  },
  {
   "cell_type": "code",
   "execution_count": null,
   "id": "9cb111f3",
   "metadata": {},
   "outputs": [],
   "source": []
  }
 ],
 "metadata": {
  "kernelspec": {
   "display_name": "Python 3 (ipykernel)",
   "language": "python",
   "name": "python3"
  },
  "language_info": {
   "codemirror_mode": {
    "name": "ipython",
    "version": 3
   },
   "file_extension": ".py",
   "mimetype": "text/x-python",
   "name": "python",
   "nbconvert_exporter": "python",
   "pygments_lexer": "ipython3",
   "version": "3.8.11"
  }
 },
 "nbformat": 4,
 "nbformat_minor": 5
}
