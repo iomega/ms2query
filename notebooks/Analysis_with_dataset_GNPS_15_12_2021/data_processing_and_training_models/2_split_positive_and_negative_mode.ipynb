{
 "cells": [
  {
   "cell_type": "markdown",
   "id": "4ddce5d4",
   "metadata": {},
   "source": [
    "# Split data\n",
    "In this notebook the data that was cleaned in 1_Clean_GNPS_spectra is split into different subsets. \n"
   ]
  },
  {
   "cell_type": "code",
   "execution_count": 1,
   "id": "4946230a",
   "metadata": {},
   "outputs": [],
   "source": [
    "import pickle\n",
    "import os\n",
    "path_data = \"C:\\\\HSD\\\\OneDrive - Hochschule Düsseldorf\\\\Data\\\\ms2query\""
   ]
  },
  {
   "cell_type": "code",
   "execution_count": 3,
   "id": "6b9eb47e",
   "metadata": {},
   "outputs": [],
   "source": [
    "file_data = os.path.join(path_data,\n",
    "                         \"ALL_GNPS_15_12_2021_inchikeys_from_pubchem.pickle\")\n",
    "with open(file_data, 'rb') as file:\n",
    "    gnps_spectra = pickle.load(file)"
   ]
  },
  {
   "cell_type": "code",
   "execution_count": 4,
   "id": "51bf10e4",
   "metadata": {},
   "outputs": [],
   "source": [
    "def count_annotations(spectra):\n",
    "    inchi_lst = []\n",
    "    smiles_lst = []\n",
    "    inchikey_lst = []\n",
    "    nr_of_spectra_with_less_than_3_peaks = 0\n",
    "    nr_of_spectra_with_more_than_500_peaks = 0\n",
    "\n",
    "    for i, spec in enumerate(spectra):\n",
    "        inchi_lst.append(spec.get(\"inchi\"))\n",
    "        smiles_lst.append(spec.get(\"smiles\"))\n",
    "        inchikey = spec.get(\"inchikey\")\n",
    "        if inchikey is None:\n",
    "            inchikey = spec.get(\"inchikey_inchi\")\n",
    "        inchikey_lst.append(inchikey)\n",
    "        if len(spec.peaks.mz) < 3:\n",
    "            nr_of_spectra_with_less_than_3_peaks += 1\n",
    "        if len(spec.peaks.mz) > 500:\n",
    "            nr_of_spectra_with_more_than_500_peaks += 1\n",
    "\n",
    "    inchi_count = sum([1 for x in inchi_lst if x])\n",
    "    smiles_count = sum([1 for x in smiles_lst if x])\n",
    "    inchikey_count = sum([1 for x in inchikey_lst if x])\n",
    "    print(\"nr_of_spectra:\", len(spectra))\n",
    "    print(\"Inchis:\", inchi_count, \"--\", len(set(inchi_lst)), \"unique\")\n",
    "    print(\"Smiles:\", smiles_count, \"--\", len(set(smiles_lst)), \"unique\")\n",
    "    print(\"Inchikeys:\", inchikey_count, \"--\", \n",
    "          len(set([x[:14] for x in inchikey_lst if x])), \"unique (first 14 characters)\")\n",
    "    print(\"Spectra with less than 3 peaks:\", nr_of_spectra_with_less_than_3_peaks)\n",
    "    print(\"Spectra with more than 500 peaks:\", nr_of_spectra_with_more_than_500_peaks)"
   ]
  },
  {
   "cell_type": "code",
   "execution_count": 5,
   "id": "91839414",
   "metadata": {},
   "outputs": [
    {
     "name": "stdout",
     "output_type": "stream",
     "text": [
      "nr_of_spectra: 403427\n",
      "Inchis: 384849 -- 27780 unique\n",
      "Smiles: 384826 -- 37965 unique\n",
      "Inchikeys: 384805 -- 23122 unique (first 14 characters)\n",
      "Spectra with less than 3 peaks: 0\n",
      "Spectra with more than 500 peaks: 0\n"
     ]
    }
   ],
   "source": [
    "count_annotations(gnps_spectra)"
   ]
  },
  {
   "cell_type": "markdown",
   "id": "f62ee1ae",
   "metadata": {},
   "source": [
    "## split into negative and positive mode"
   ]
  },
  {
   "cell_type": "code",
   "execution_count": 6,
   "id": "6921442e",
   "metadata": {},
   "outputs": [],
   "source": [
    "spectrums_positive = []\n",
    "spectrums_negative = []\n",
    "spectrums_unknown = []\n",
    "\n",
    "logs = []\n",
    "\n",
    "for i, spec in enumerate(gnps_spectra):\n",
    "    if spec.get(\"ionmode\") == \"positive\":\n",
    "        spectrums_positive.append(spec)\n",
    "    elif spec.get(\"ionmode\") == \"negative\":\n",
    "        spectrums_negative.append(spec)\n",
    "    else:\n",
    "        logs.append((i, spec.get('ionmode'),\n",
    "                     spec.get(\"compound_name\"), \n",
    "                     spec.get(\"inchikey\")))\n",
    "        spectrums_unknown.append(spec)"
   ]
  },
  {
   "cell_type": "code",
   "execution_count": 7,
   "id": "19c7b4c2",
   "metadata": {},
   "outputs": [
    {
     "name": "stdout",
     "output_type": "stream",
     "text": [
      "Total nr of spectra: 403427\n",
      "positive_mode_spectra: 328226\n",
      "negative_mode_spectra: 75175\n",
      "spectra_without_ionmode: 26\n"
     ]
    }
   ],
   "source": [
    "print(\"Total nr of spectra:\", len(gnps_spectra))\n",
    "print(\"positive_mode_spectra:\", len(spectrums_positive))\n",
    "print(\"negative_mode_spectra:\", len(spectrums_negative))\n",
    "print(\"spectra_without_ionmode:\", len(gnps_spectra)-len(spectrums_positive)-len(spectrums_negative))"
   ]
  },
  {
   "cell_type": "code",
   "execution_count": 8,
   "id": "2c4dddc0",
   "metadata": {},
   "outputs": [],
   "source": [
    "pickle.dump(spectrums_positive,\n",
    "           open(os.path.join(path_data,\n",
    "                             \"ALL_GNPS_15_12_2021_positive_all.pickle\"), \"wb\"))\n",
    "pickle.dump(spectrums_negative,\n",
    "           open(os.path.join(path_data,\n",
    "                             \"ALL_GNPS_15_12_2021_negative_all.pickle\"), \"wb\"))"
   ]
  },
  {
   "cell_type": "markdown",
   "id": "f6456a95",
   "metadata": {},
   "source": [
    "## Remove not fully annoated spectra\n",
    "The not annotated spectra are not used as validation or test spectra, but are used to train Spec2Vec"
   ]
  },
  {
   "cell_type": "code",
   "execution_count": 6,
   "id": "c28a7f17",
   "metadata": {},
   "outputs": [],
   "source": [
    "outfile = os.path.join(path_data, \"ALL_GNPS_15_12_2021_positive_all.pickle\")\n",
    "with open(outfile, 'rb') as file:\n",
    "    spectrums_positive = pickle.load(file)\n",
    "    \n",
    "outfile = os.path.join(path_data, \"ALL_GNPS_15_12_2021_negative_all.pickle\")\n",
    "with open(outfile, 'rb') as file:\n",
    "    spectrums_negative = pickle.load(file)"
   ]
  },
  {
   "cell_type": "code",
   "execution_count": 9,
   "id": "50c06a7c",
   "metadata": {},
   "outputs": [],
   "source": [
    "def select_fully_annotated_spectra(spectra):\n",
    "    fully_annotated_spectra =[]\n",
    "    not_fully_annotated_spectra =[]\n",
    "    for spectrum in spectra:\n",
    "        inchikey = spectrum.get(\"inchikey\")\n",
    "        if inchikey is not None and len(inchikey) > 13:\n",
    "            smiles = spectrum.get(\"smiles\")\n",
    "            inchi = spectrum.get(\"inchi\")\n",
    "            if smiles is not None and len(smiles)>0:\n",
    "                if inchi is not None and len(inchi) >0:\n",
    "                    fully_annotated_spectra.append(spectrum)\n",
    "                else: \n",
    "                    not_fully_annotated_spectra.append(spectrum)\n",
    "#                     print(smiles)\n",
    "#                     print(inchi)\n",
    "#                     print(inchikey)\n",
    "            else: \n",
    "                not_fully_annotated_spectra.append(spectrum)\n",
    "#                 print(smiles)\n",
    "#                 print(inchi)\n",
    "#                 print(inchikey)\n",
    "        else: \n",
    "            not_fully_annotated_spectra.append(spectrum)\n",
    "    return fully_annotated_spectra, not_fully_annotated_spectra"
   ]
  },
  {
   "cell_type": "code",
   "execution_count": 11,
   "id": "614be193",
   "metadata": {},
   "outputs": [
    {
     "name": "stdout",
     "output_type": "stream",
     "text": [
      "314318\n",
      "13908\n"
     ]
    }
   ],
   "source": [
    "complete_spectra_pos, incomplete_spectra_pos = select_fully_annotated_spectra(spectrums_positive)\n",
    "print(len(complete_spectra_pos))\n",
    "print(len(incomplete_spectra_pos))\n",
    "pickle.dump(complete_spectra_pos,\n",
    "           open(os.path.join(path_data,\n",
    "                             \"ALL_GNPS_15_12_2021_positive_annotated.pickle\"), \"wb\"))\n",
    "pickle.dump(incomplete_spectra_pos,\n",
    "           open(os.path.join(path_data,\n",
    "                             \"ALL_GNPS_15_12_2021_positive_not_annotated.pickle\"), \"wb\"))"
   ]
  },
  {
   "cell_type": "code",
   "execution_count": 12,
   "id": "248b595f",
   "metadata": {},
   "outputs": [
    {
     "name": "stdout",
     "output_type": "stream",
     "text": [
      "70455\n",
      "4720\n"
     ]
    }
   ],
   "source": [
    "complete_spectra_neg, incomplete_spectra_neg = select_fully_annotated_spectra(spectrums_negative)\n",
    "print(len(complete_spectra_neg))\n",
    "print(len(incomplete_spectra_neg))\n",
    "pickle.dump(complete_spectra_neg,\n",
    "           open(os.path.join(path_data, \"ALL_GNPS_15_12_2021_negative_annotated.pickle\"), \"wb\"))\n",
    "pickle.dump(incomplete_spectra_neg,\n",
    "           open(os.path.join(path_data, \"ALL_GNPS_15_12_2021_negative_not_annotated.pickle\"), \"wb\"))"
   ]
  },
  {
   "cell_type": "code",
   "execution_count": null,
   "id": "6bc2decb",
   "metadata": {},
   "outputs": [],
   "source": []
  }
 ],
 "metadata": {
  "kernelspec": {
   "display_name": "Python 3 (ipykernel)",
   "language": "python",
   "name": "python3"
  },
  "language_info": {
   "codemirror_mode": {
    "name": "ipython",
    "version": 3
   },
   "file_extension": ".py",
   "mimetype": "text/x-python",
   "name": "python",
   "nbconvert_exporter": "python",
   "pygments_lexer": "ipython3",
   "version": "3.8.12"
  }
 },
 "nbformat": 4,
 "nbformat_minor": 5
}
