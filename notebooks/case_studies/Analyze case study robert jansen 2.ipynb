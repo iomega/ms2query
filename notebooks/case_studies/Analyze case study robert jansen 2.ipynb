{
 "cells": [
  {
   "cell_type": "code",
   "execution_count": 40,
   "id": "fb1496bb",
   "metadata": {},
   "outputs": [
    {
     "ename": "ImportError",
     "evalue": "cannot import name 'convert_files_to_matchms_spectrum_objects' from 'ms2query.utils' (c:\\users\\jonge094\\pycharmprojects\\phd_ms2query\\ms2query\\ms2query\\utils.py)",
     "output_type": "error",
     "traceback": [
      "\u001b[1;31m---------------------------------------------------------------------------\u001b[0m",
      "\u001b[1;31mImportError\u001b[0m                               Traceback (most recent call last)",
      "\u001b[1;32m~\\AppData\\Local\\Temp/ipykernel_24688/3048721550.py\u001b[0m in \u001b[0;36m<module>\u001b[1;34m\u001b[0m\n\u001b[0;32m      1\u001b[0m \u001b[1;32mfrom\u001b[0m \u001b[0mmatplotlib\u001b[0m \u001b[1;32mimport\u001b[0m \u001b[0mpyplot\u001b[0m \u001b[1;32mas\u001b[0m \u001b[0mplt\u001b[0m\u001b[1;33m\u001b[0m\u001b[1;33m\u001b[0m\u001b[0m\n\u001b[1;32m----> 2\u001b[1;33m \u001b[1;32mfrom\u001b[0m \u001b[0mms2query\u001b[0m\u001b[1;33m.\u001b[0m\u001b[0mutils\u001b[0m \u001b[1;32mimport\u001b[0m \u001b[0mload_pickled_file\u001b[0m\u001b[1;33m,\u001b[0m \u001b[0mconvert_files_to_matchms_spectrum_objects\u001b[0m\u001b[1;33m\u001b[0m\u001b[1;33m\u001b[0m\u001b[0m\n\u001b[0m\u001b[0;32m      3\u001b[0m \u001b[1;32mimport\u001b[0m \u001b[0mos\u001b[0m\u001b[1;33m\u001b[0m\u001b[1;33m\u001b[0m\u001b[0m\n\u001b[0;32m      4\u001b[0m \u001b[1;33m\u001b[0m\u001b[0m\n\u001b[0;32m      5\u001b[0m \u001b[1;32mdef\u001b[0m \u001b[0mprint_statistics\u001b[0m\u001b[1;33m(\u001b[0m\u001b[0mlist_of_lines\u001b[0m\u001b[1;33m)\u001b[0m\u001b[1;33m:\u001b[0m\u001b[1;33m\u001b[0m\u001b[1;33m\u001b[0m\u001b[0m\n",
      "\u001b[1;31mImportError\u001b[0m: cannot import name 'convert_files_to_matchms_spectrum_objects' from 'ms2query.utils' (c:\\users\\jonge094\\pycharmprojects\\phd_ms2query\\ms2query\\ms2query\\utils.py)"
     ]
    }
   ],
   "source": [
    "from matplotlib import pyplot as plt\n",
    "from ms2query.utils import load_pickled_file, convert_files_to_matchms_spectrum_objects\n",
    "import os\n",
    "\n",
    "def print_statistics(list_of_lines):\n",
    "    print(\"Nr of analogs with ms2query => 0.7 = \" + str(len(list_of_lines)-1))\n",
    "    \n",
    "\n",
    "def analyse_results_directory(dirname_results, dirname_raw_data):\n",
    "    for file in os.listdir(dirname_results):\n",
    "        print(file)\n",
    "        if file.endswith(\".csv\"):\n",
    "            \n",
    "            filename = os.path.join(dirname_results, file)\n",
    "            with open(filename, \"r\") as current_file:\n",
    "                    lines = current_file.readlines()\n",
    "                    print_statistics(lines)\n",
    "            spectra = convert_files_to_matchms_spectrum_objects(os.path.join(dirname_raw_data, file[:-4] + \".mzML\"))\n",
    "            \n",
    "                \n"
   ]
  },
  {
   "cell_type": "code",
   "execution_count": 38,
   "id": "04876bce",
   "metadata": {},
   "outputs": [
    {
     "name": "stdout",
     "output_type": "stream",
     "text": [
      "404020-POS-5.csv\n",
      "Nr of analogs with ms2query => 0.7 = 39\n",
      "C:/Users/jonge094/PycharmProjects/PhD_MS2Query/ms2query/data/case_studies/robert_jansen2/raw_data\\404020-POS-5mzML\n",
      "404020-POS-7.csv\n",
      "Nr of analogs with ms2query => 0.7 = 36\n",
      "C:/Users/jonge094/PycharmProjects/PhD_MS2Query/ms2query/data/case_studies/robert_jansen2/raw_data\\404020-POS-7mzML\n",
      "404020-POS-9.csv\n",
      "Nr of analogs with ms2query => 0.7 = 33\n",
      "C:/Users/jonge094/PycharmProjects/PhD_MS2Query/ms2query/data/case_studies/robert_jansen2/raw_data\\404020-POS-9mzML\n",
      "Brocadia-Excl1-POS-1.csv\n",
      "Nr of analogs with ms2query => 0.7 = 104\n",
      "C:/Users/jonge094/PycharmProjects/PhD_MS2Query/ms2query/data/case_studies/robert_jansen2/raw_data\\Brocadia-Excl1-POS-1mzML\n",
      "Brocadia-Excl1-POS-2.csv\n",
      "Nr of analogs with ms2query => 0.7 = 90\n",
      "C:/Users/jonge094/PycharmProjects/PhD_MS2Query/ms2query/data/case_studies/robert_jansen2/raw_data\\Brocadia-Excl1-POS-2mzML\n",
      "Brocadia-Excl1-POS-3.csv\n",
      "Nr of analogs with ms2query => 0.7 = 89\n",
      "C:/Users/jonge094/PycharmProjects/PhD_MS2Query/ms2query/data/case_studies/robert_jansen2/raw_data\\Brocadia-Excl1-POS-3mzML\n",
      "Kuenenia-Excl1-POS-1.csv\n",
      "Nr of analogs with ms2query => 0.7 = 92\n",
      "C:/Users/jonge094/PycharmProjects/PhD_MS2Query/ms2query/data/case_studies/robert_jansen2/raw_data\\Kuenenia-Excl1-POS-1mzML\n",
      "Kuenenia-Excl1-POS-2.csv\n",
      "Nr of analogs with ms2query => 0.7 = 90\n",
      "C:/Users/jonge094/PycharmProjects/PhD_MS2Query/ms2query/data/case_studies/robert_jansen2/raw_data\\Kuenenia-Excl1-POS-2mzML\n",
      "Kuenenia-Excl1-POS-3.csv\n",
      "Nr of analogs with ms2query => 0.7 = 96\n",
      "C:/Users/jonge094/PycharmProjects/PhD_MS2Query/ms2query/data/case_studies/robert_jansen2/raw_data\\Kuenenia-Excl1-POS-3mzML\n",
      "Scalindua-Excl1-POS-1.csv\n",
      "Nr of analogs with ms2query => 0.7 = 49\n",
      "C:/Users/jonge094/PycharmProjects/PhD_MS2Query/ms2query/data/case_studies/robert_jansen2/raw_data\\Scalindua-Excl1-POS-1mzML\n",
      "Scalindua-Excl1-POS-2.csv\n",
      "Nr of analogs with ms2query => 0.7 = 48\n",
      "C:/Users/jonge094/PycharmProjects/PhD_MS2Query/ms2query/data/case_studies/robert_jansen2/raw_data\\Scalindua-Excl1-POS-2mzML\n",
      "Scalindua-Excl1-POS-3.csv\n",
      "Nr of analogs with ms2query => 0.7 = 51\n",
      "C:/Users/jonge094/PycharmProjects/PhD_MS2Query/ms2query/data/case_studies/robert_jansen2/raw_data\\Scalindua-Excl1-POS-3mzML\n"
     ]
    }
   ],
   "source": [
    "analyse_results_directory(\"C:/Users/jonge094/PycharmProjects/PhD_MS2Query/ms2query/data/case_studies/robert_jansen2/results/analog_search\",\n",
    "                         \"C:/Users/jonge094/PycharmProjects/PhD_MS2Query/ms2query/data/case_studies/robert_jansen2/raw_data\")"
   ]
  },
  {
   "cell_type": "code",
   "execution_count": null,
   "id": "281f3563",
   "metadata": {},
   "outputs": [],
   "source": []
  }
 ],
 "metadata": {
  "kernelspec": {
   "display_name": "Python 3 (ipykernel)",
   "language": "python",
   "name": "python3"
  },
  "language_info": {
   "codemirror_mode": {
    "name": "ipython",
    "version": 3
   },
   "file_extension": ".py",
   "mimetype": "text/x-python",
   "name": "python",
   "nbconvert_exporter": "python",
   "pygments_lexer": "ipython3",
   "version": "3.8.11"
  }
 },
 "nbformat": 4,
 "nbformat_minor": 5
}
