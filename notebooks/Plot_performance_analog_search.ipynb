{
 "cells": [
  {
   "cell_type": "markdown",
   "metadata": {},
   "source": [
    "# Test quality of matches"
   ]
  },
  {
   "cell_type": "markdown",
   "metadata": {},
   "source": [
    "Import files"
   ]
  },
  {
   "cell_type": "code",
   "execution_count": 1,
   "metadata": {},
   "outputs": [],
   "source": [
    "# The sys.stdout statements is to resolve proplems with printing statements in jupyter notebook, \n",
    "# when removed progress updates printed are not shown in the notebookr\n",
    "import sys\n",
    "stdout = sys.stdout\n",
    "\n",
    "from ms2query.ms2library import MS2Library\n",
    "sys.stdout = stdout\n",
    "\n",
    "tanimoto_scores_df_file = \"../downloads/gnps_210409/ALL_GNPS_210409_positive_tanimoto_scores.pickle\"\n",
    "sqlite_file =  \"../downloads/gnps_210409/spectra/ALL_GNPS_210409_train_split.sqlite\"\n",
    "\n",
    "# Models\n",
    "s2v_model_file = \"../downloads/gnps_210409/models/ALL_GNPS_210409_Spec2Vec_ms2query.model\"\n",
    "ms2ds_model_file = \"../downloads/gnps_210409/models/ms2ds_20210420-141937_data210409_10k_500_500_200.hdf5\"\n",
    "\n",
    "# Embeddings\n",
    "s2v_embeddings_file =  \"../downloads/gnps_210409/embeddings/s2v_embeddings_train_spectra_210426.pickle\"\n",
    "ms2ds_embeddings_file =  \"../downloads/gnps_210409/embeddings/ms2ds_embeddings_train_spectra_210426.pickle\"\n"
   ]
  },
  {
   "cell_type": "markdown",
   "metadata": {},
   "source": [
    "### Split validation spectra into spectra with library matches and spectra without library matches\n",
    "The validation spectra contain 2299 spectra (of 250 inchikeys) that do not have any match in the library and 2000 spectra that have at least one match in the library. "
   ]
  },
  {
   "cell_type": "code",
   "execution_count": 3,
   "metadata": {},
   "outputs": [],
   "source": [
    "from ms2query.utils import load_pickled_file\n",
    "\n",
    "test_spectra = load_pickled_file(\"../downloads/gnps_210409/spectra/ALL_GNPS_210409_test_split.pickle\")\n",
    "test_spectra_without_match = test_spectra[:2250]\n",
    "# validation_spectra = load_pickled_file(\"../downloads/gnps_210409/spectra/ALL_GNPS_210409_val_split.pickle\")"
   ]
  },
  {
   "cell_type": "markdown",
   "metadata": {},
   "source": [
    "# Plot tanimoto distribution results\n",
    "To analyse the performance the tanimoto scores for the found matches are calculated. And the distribution is plotted to visualise the quality of the matches. "
   ]
  },
  {
   "cell_type": "code",
   "execution_count": 21,
   "metadata": {},
   "outputs": [],
   "source": [
    "from ms2query.query_from_sqlite_database import get_metadata_from_sqlite\n",
    "from matplotlib import pyplot as plt\n",
    "import numpy as np\n",
    "\n",
    "def select_best_match_and_calculate_tanimoto_score(\n",
    "    result_matches, tanimoto_scores_file, query_spectra, sqlite_file_location, select_on_MS2Query = True):\n",
    "    \"\"\"Returns a list with all the ms2query scores and tanimoto scores for the best matches\"\"\"\n",
    "    \n",
    "    tanimoto_scores = load_pickled_file(tanimoto_scores_file)\n",
    "    ms2query_scores_and_tanimoto = []\n",
    "    \n",
    "    for query_spectrum in query_spectra:\n",
    "        query_spectrum_id = query_spectrum.get(\"spectrumid\")\n",
    "        query_spectrum_inchikey = query_spectrum.get(\"inchikey\")[:14]\n",
    "        \n",
    "        if select_on_MS2Query:\n",
    "            best_match = result_matches[query_spectrum_id].iloc[0]\n",
    "            best_match_score = best_match.loc[\"ms2query_model_prediction\"]\n",
    "            best_match_spectrum_id = best_match.name\n",
    "\n",
    "        else:\n",
    "            # Selection on highest MS2Deepscore\n",
    "            best_match_spectrum_id = result_matches[query_spectrum_id][\"ms2ds_score\"].idxmax()\n",
    "            best_match_score = result_matches[query_spectrum_id][\"ms2ds_score\"].max()\n",
    "\n",
    "        best_match_inchikey = get_metadata_from_sqlite(\n",
    "            sqlite_file_location, [best_match_spectrum_id], \"spectrumid\")[best_match_spectrum_id][\"inchikey\"][:14]\n",
    "        tanimoto_score = tanimoto_scores.loc[best_match_inchikey, query_spectrum_inchikey]\n",
    "        \n",
    "        ms2query_scores_and_tanimoto.append((best_match_score, tanimoto_score))\n",
    "    return ms2query_scores_and_tanimoto\n",
    "        \n",
    "\n",
    "def plot_tanimoto_score_distribution_for_ms2query_cut_offs(ms2query_scores_and_tanimoto, cut_offs, legend_title):\n",
    "    bins = np.linspace(0, 1, 11)\n",
    "\n",
    "    weight_to_convert_to_percentage = 100/len(ms2query_scores_and_tanimoto)\n",
    "\n",
    "    for cut_off in cut_offs:\n",
    "        selected_scores = [scores[1] for scores in ms2query_scores_and_tanimoto if scores[0] > cut_off]\n",
    "        print(len(selected_scores)/len(ms2query_scores_and_tanimoto))\n",
    "        weights = [weight_to_convert_to_percentage] * len(selected_scores)\n",
    "        \n",
    "        plt.hist(selected_scores, bins, label = f\"{cut_off:.2f}\", weights = weights, histtype = \"step\")\n",
    "    \n",
    "    plt.legend(loc = \"upper center\", title = legend_title, ncol = 3)\n",
    "    plt.xlabel(\"tanimoto_score\")\n",
    "    plt.ylabel(\"Percentage of matches (%)\")\n",
    "    plt.ylim(0, 25)\n",
    "\n",
    "    plt.show\n",
    "\n",
    "def compare_tanimoto_score_distribution(ms2query_scores_and_tanimoto, ms2deepscore_scores_and_tanimoto, cut_off_ms2q, cut_off_ms2d):\n",
    "    bins = np.linspace(0, 1, 11)\n",
    "\n",
    "    \n",
    "    # Select scores for ms2query\n",
    "    selected_scores_ms2q = [scores[1] for scores in ms2query_scores_and_tanimoto if scores[0] > cut_off_ms2q]\n",
    "    ms2q_percentage_selected = len(selected_scores_ms2q)/len(ms2query_scores_and_tanimoto)*100\n",
    "    print(ms2q_percentage_selected)\n",
    "    weight_to_convert_to_percentage = 100/len(ms2query_scores_and_tanimoto)\n",
    "    weights_ms2q = [weight_to_convert_to_percentage] * len(selected_scores_ms2q)\n",
    "\n",
    "    # Select scores for ms2ds\n",
    "    selected_scores_ms2d = [scores[1] for scores in ms2deepscore_scores_and_tanimoto if scores[0] > cut_off_ms2d]\n",
    "    ms2d_percentage_selected = len(selected_scores_ms2d)/len(ms2deepscore_scores_and_tanimoto)*100\n",
    "    print(ms2d_percentage_selected)\n",
    "    weight_to_convert_to_percentage = 100/len(ms2deepscore_scores_and_tanimoto)\n",
    "    weights_ms2d = [weight_to_convert_to_percentage] * len(selected_scores_ms2d)\n",
    "    \n",
    "    \n",
    "    plt.hist([selected_scores_ms2d, selected_scores_ms2q], bins, label = [\"MS2Deepscore\", \"MS2Query\"], weights = [weights_ms2d, weights_ms2q])\n",
    "    \n",
    "    plt.legend(loc = \"upper center\", title = \"Select on:\")\n",
    "    plt.xlabel(\"tanimoto_score\")\n",
    "    plt.ylabel(\"Percentage of matches (%)\")\n",
    "    plt.ylim(0, 15)\n",
    "\n",
    "    plt.show"
   ]
  },
  {
   "cell_type": "code",
   "execution_count": 4,
   "metadata": {},
   "outputs": [],
   "source": [
    "# results_test_spectra_file = \"../downloads/gnps_210409/train_ms2query_model/results_with_match_all_scores_test_spectra.pickle\"\n",
    "results_test_spectra_file = \"../downloads/gnps_210409/train_ms2query_model/results_with_match_all_scores_test_spectra_dropout_reg.pickle\"\n",
    "\n",
    "results = load_pickled_file(results_test_spectra_file)\n",
    "\n",
    "# Calculate tanimoto scores of found matches based on MS2Query\n",
    "ms2query_and_tanimoto = select_best_match_and_calculate_tanimoto_score(\n",
    "    results, tanimoto_scores_df_file, test_spectra_without_match, sqlite_file)\n",
    "# Calculate tanimoto scores of found matches based on MS2Deepscore\n",
    "ms2ds_and_tanimoto = select_best_match_and_calculate_tanimoto_score(\n",
    "    results, tanimoto_scores_df_file, test_spectra_without_match, sqlite_file, False)"
   ]
  },
  {
   "cell_type": "code",
   "execution_count": 57,
   "metadata": {},
   "outputs": [
    {
     "name": "stdout",
     "output_type": "stream",
     "text": [
      "20.044444444444444\n",
      "19.955555555555556\n"
     ]
    },
    {
     "data": {
      "image/png": "[encoded data removed]",
      "text/plain": [
       "<Figure size 432x288 with 1 Axes>"
      ]
     },
     "metadata": {
      "needs_background": "light"
     },
     "output_type": "display_data"
    }
   ],
   "source": [
    "# plot_tanimoto_score_distribution_for_ms2query_cut_offs(ms2query_and_tanimoto, [0,0.6,0.75,0.9], \"Minimal MS2Query score\")\n",
    "# plot_tanimoto_score_distribution_for_ms2query_cut_offs(ms2ds_and_tanimoto, [0,0.93,0.97, 0.99], \"Minimal MS2Deepscore\")\n",
    "# plot_tanimoto_score_distribution_for_ms2query_cut_offs(ms2query_and_tanimoto, [0.753], \"Minimal MS2Query score\")\n",
    "# plot_tanimoto_score_distribution_for_ms2query_cut_offs(ms2ds_and_tanimoto, [0.9415], \"Minimal MS2Deepscore\")\n",
    "# plot_tanimoto_score_distribution_for_ms2query_cut_offs(ms2query_and_tanimoto, [0.903], \"Minimal MS2Query score\")\n",
    "# plot_tanimoto_score_distribution_for_ms2query_cut_offs(ms2ds_and_tanimoto, [0.9745], \"Minimal MS2Deepscore\")\n",
    "# compare_tanimoto_score_distribution(ms2query_and_tanimoto, ms2ds_and_tanimoto, 0.619, 0.939)\n",
    "# compare_tanimoto_score_distribution(ms2query_and_tanimoto, ms2ds_and_tanimoto, 0.696, 0.958)\n",
    "compare_tanimoto_score_distribution(ms2query_and_tanimoto, ms2ds_and_tanimoto, 0.795, 0.9812)\n",
    "# compare_tanimoto_score_distribution(ms2query_and_tanimoto, ms2ds_and_tanimoto, 0.896, 0.9935)"
   ]
  },
  {
   "cell_type": "markdown",
   "metadata": {},
   "source": [
    "# Plot optimal/random performance\n",
    "To be able to compare the results to the best optimal performance, the tanimoto score distribution of the best possible matches for the test set used is plotted. Also the distribution for tanimoto scores is plotted, when matches would be selected completely at random. "
   ]
  },
  {
   "cell_type": "code",
   "execution_count": 36,
   "metadata": {},
   "outputs": [],
   "source": [
    "def plot_average_tanimoto_distribution(spectra, tanimoto_scores):\n",
    "    bins = np.linspace(0, 1, 11)\n",
    "\n",
    "    inchikeys = [spectrum.get(\"inchikey\")[:14] for spectrum in spectra]\n",
    "    unique_inchikeys = list(set(inchikeys))\n",
    "    \n",
    "    all_inchikeys = []\n",
    "    for row in unique_inchikeys:\n",
    "        all_inchikeys += list(tanimoto_scores[row])\n",
    "        \n",
    "    weight_to_convert_to_percentage = 100/len(all_inchikeys)\n",
    "    weights = [weight_to_convert_to_percentage] * len(all_inchikeys)\n",
    "    plt.xlabel(\"tanimoto score\")\n",
    "    plt.ylabel(\"Percentage of matches (%)\")\n",
    "    plt.hist(all_inchikeys, weights = weights, bins = bins)\n",
    "    plt.ylim(0,80)\n",
    "\n",
    "    plt.show()\n",
    "\n",
    "\n",
    "def plot_best_tanimoto_score_distribution(spectra, tanimoto_scores):\n",
    "    inchikeys = [spectrum.get(\"inchikey\")[:14] for spectrum in spectra]\n",
    "    unique_inchikeys = list(set(inchikeys))\n",
    "    \n",
    "    # remove unique inchikeys from rows\n",
    "    tanimoto_scores_removed = tanimoto_scores[~tanimoto_scores.index.isin(unique_inchikeys)]\n",
    "    highest_tanimoto_list = []\n",
    "    for inchikey in inchikeys:\n",
    "        highest_tanimoto_score = tanimoto_scores_removed[inchikey].max()\n",
    "        highest_tanimoto_list.append(highest_tanimoto_score)\n",
    "    \n",
    "    weight_to_convert_to_percentage = 100/len(spectra)\n",
    "    weights = [weight_to_convert_to_percentage] * len(highest_tanimoto_list)\n",
    "    \n",
    "    average_tanimoto = sum(highest_tanimoto_list)/len(inchikeys)\n",
    "    print(average_tanimoto)\n",
    "    plt.xlabel(\"tanimoto score\")\n",
    "    plt.ylabel(\"Percentage of matches (%)\")\n",
    "    plt.ylim(0,80)\n",
    "    \n",
    "    plt.hist(highest_tanimoto_list, weights = weights, bins = np.linspace(0, 1, 11))\n",
    "    plt.show()"
   ]
  },
  {
   "cell_type": "markdown",
   "metadata": {},
   "source": [
    "### Optimal results"
   ]
  },
  {
   "cell_type": "code",
   "execution_count": 37,
   "metadata": {},
   "outputs": [
    {
     "name": "stdout",
     "output_type": "stream",
     "text": [
      "0.8793516428255147\n"
     ]
    },
    {
     "data": {
      "image/png": "[encoded data removed]",
      "text/plain": [
       "<Figure size 432x288 with 1 Axes>"
      ]
     },
     "metadata": {
      "needs_background": "light"
     },
     "output_type": "display_data"
    }
   ],
   "source": [
    "tanimoto_scores_df = load_pickled_file(tanimoto_scores_df_file)\n",
    "plot_best_tanimoto_score_distribution(test_spectra_without_match, tanimoto_scores_df)"
   ]
  },
  {
   "cell_type": "markdown",
   "metadata": {},
   "source": [
    "### Random results"
   ]
  },
  {
   "cell_type": "code",
   "execution_count": 38,
   "metadata": {},
   "outputs": [
    {
     "data": {
      "image/png": "[encoded data removed]",
      "text/plain": [
       "<Figure size 432x288 with 1 Axes>"
      ]
     },
     "metadata": {
      "needs_background": "light"
     },
     "output_type": "display_data"
    }
   ],
   "source": [
    "plot_average_tanimoto_distribution(test_spectra_without_match, tanimoto_scores_df)"
   ]
  },
  {
   "cell_type": "markdown",
   "metadata": {},
   "source": [
    "# Compare MS2Deepscore to MS2Query\n",
    "To make it easier to compare the performance of MS2Deepscore and MS2Query the recall is plotted versus the average tanimoto score. "
   ]
  },
  {
   "cell_type": "code",
   "execution_count": 39,
   "metadata": {},
   "outputs": [],
   "source": [
    "def avg_tanimoto_vs_percentage_found(selection_criteria_and_tanimoto, cut_off_maximum, steps, legend_label):\n",
    "    cut_offs = {}\n",
    "    percentages_found = []\n",
    "    average_tanimoto_score = []\n",
    "    for i in range(steps):\n",
    "        cut_off = cut_off_maximum/steps * i\n",
    "        selected_scores = [scores[1] for scores in selection_criteria_and_tanimoto if scores[0] > cut_off]\n",
    "        percentages_found.append(len(selected_scores)/len(selection_criteria_and_tanimoto)*100)\n",
    "        average_tanimoto_score.append(sum(selected_scores)/len(selected_scores))\n",
    "    plt.plot(percentages_found, average_tanimoto_score, label = legend_label)\n",
    "    plt.xlim(100,0)\n",
    "    plt.ylim(0, 1)\n",
    "    plt.xlabel(\"Percentage matches found\")\n",
    "    plt.ylabel(\"Average tanimoto score\")\n",
    "    plt.legend(loc = \"lower right\", title = \"Select on highest:\")\n",
    "    plt.show"
   ]
  },
  {
   "cell_type": "code",
   "execution_count": 40,
   "metadata": {},
   "outputs": [
    {
     "data": {
      "image/png": "[encoded data removed]",
      "text/plain": [
       "<Figure size 432x288 with 1 Axes>"
      ]
     },
     "metadata": {
      "needs_background": "light"
     },
     "output_type": "display_data"
    }
   ],
   "source": [
    "avg_tanimoto_vs_percentage_found(ms2query_and_tanimoto, 1.0, 100, \"MS2Query score\")\n",
    "avg_tanimoto_vs_percentage_found(ms2ds_and_tanimoto, 1, 1000, \"MS2Deepscore\")"
   ]
  },
  {
   "cell_type": "markdown",
   "metadata": {},
   "source": [
    "# Plot effect of preselection\n",
    "As preselection MS2Deepscore is used. The number of spectra preselected with MS2Deepscore can be varried. The quality of matches found is plotted vs the number of spectra in the preselection. "
   ]
  },
  {
   "cell_type": "code",
   "execution_count": 58,
   "metadata": {},
   "outputs": [
    {
     "name": "stderr",
     "output_type": "stream",
     "text": [
      "  1%|█▌                                                                                                                                                           | 1/100 [00:16<27:15, 16.53s/it]"
     ]
    },
    {
     "name": "stdout",
     "output_type": "stream",
     "text": [
      "0.4775700647980642\n"
     ]
    },
    {
     "name": "stderr",
     "output_type": "stream",
     "text": [
      "\r",
      "  2%|███▏                                                                                                                                                         | 2/100 [00:31<25:21, 15.53s/it]"
     ]
    },
    {
     "name": "stdout",
     "output_type": "stream",
     "text": [
      "0.5007966808146282\n"
     ]
    },
    {
     "name": "stderr",
     "output_type": "stream",
     "text": [
      "\r",
      "  3%|████▋                                                                                                                                                        | 3/100 [00:40<20:35, 12.74s/it]"
     ]
    },
    {
     "name": "stdout",
     "output_type": "stream",
     "text": [
      "0.49999087853693747\n"
     ]
    },
    {
     "name": "stderr",
     "output_type": "stream",
     "text": [
      "\r",
      "  4%|██████▎                                                                                                                                                      | 4/100 [00:48<16:55, 10.57s/it]"
     ]
    },
    {
     "name": "stdout",
     "output_type": "stream",
     "text": [
      "0.4994966493749956\n"
     ]
    },
    {
     "name": "stderr",
     "output_type": "stream",
     "text": [
      "\r",
      "  5%|███████▊                                                                                                                                                     | 5/100 [00:55<14:43,  9.29s/it]"
     ]
    },
    {
     "name": "stdout",
     "output_type": "stream",
     "text": [
      "0.4997751534172484\n"
     ]
    },
    {
     "name": "stderr",
     "output_type": "stream",
     "text": [
      "\r",
      "  6%|█████████▍                                                                                                                                                   | 6/100 [01:02<13:21,  8.53s/it]"
     ]
    },
    {
     "name": "stdout",
     "output_type": "stream",
     "text": [
      "0.49995010949168156\n"
     ]
    },
    {
     "name": "stderr",
     "output_type": "stream",
     "text": [
      "\r",
      "  7%|██████████▉                                                                                                                                                  | 7/100 [01:09<12:44,  8.22s/it]"
     ]
    },
    {
     "name": "stdout",
     "output_type": "stream",
     "text": [
      "0.4988803920805926\n"
     ]
    },
    {
     "name": "stderr",
     "output_type": "stream",
     "text": [
      "\r",
      "  8%|████████████▌                                                                                                                                                | 8/100 [01:17<12:24,  8.10s/it]"
     ]
    },
    {
     "name": "stdout",
     "output_type": "stream",
     "text": [
      "0.49948030460808374\n"
     ]
    },
    {
     "name": "stderr",
     "output_type": "stream",
     "text": [
      "\r",
      "  9%|██████████████▏                                                                                                                                              | 9/100 [01:24<11:56,  7.87s/it]"
     ]
    },
    {
     "name": "stdout",
     "output_type": "stream",
     "text": [
      "0.49840120491724155\n"
     ]
    },
    {
     "name": "stderr",
     "output_type": "stream",
     "text": [
      "\r",
      " 10%|███████████████▌                                                                                                                                            | 10/100 [01:32<11:37,  7.75s/it]"
     ]
    },
    {
     "name": "stdout",
     "output_type": "stream",
     "text": [
      "0.4985836643895577\n"
     ]
    },
    {
     "name": "stderr",
     "output_type": "stream",
     "text": [
      "\r",
      " 11%|█████████████████▏                                                                                                                                          | 11/100 [01:39<11:16,  7.60s/it]"
     ]
    },
    {
     "name": "stdout",
     "output_type": "stream",
     "text": [
      "0.4978709844801212\n"
     ]
    },
    {
     "name": "stderr",
     "output_type": "stream",
     "text": [
      "\r",
      " 12%|██████████████████▋                                                                                                                                         | 12/100 [01:46<10:55,  7.45s/it]"
     ]
    },
    {
     "name": "stdout",
     "output_type": "stream",
     "text": [
      "0.4984386026891225\n"
     ]
    },
    {
     "name": "stderr",
     "output_type": "stream",
     "text": [
      "\r",
      " 13%|████████████████████▎                                                                                                                                       | 13/100 [01:54<10:54,  7.52s/it]"
     ]
    },
    {
     "name": "stdout",
     "output_type": "stream",
     "text": [
      "0.4994795717059228\n"
     ]
    },
    {
     "name": "stderr",
     "output_type": "stream",
     "text": [
      "\r",
      " 14%|█████████████████████▊                                                                                                                                      | 14/100 [02:03<11:28,  8.00s/it]"
     ]
    },
    {
     "name": "stdout",
     "output_type": "stream",
     "text": [
      "0.49942815880420693\n"
     ]
    },
    {
     "name": "stderr",
     "output_type": "stream",
     "text": [
      "\r",
      " 15%|███████████████████████▍                                                                                                                                    | 15/100 [02:12<11:35,  8.19s/it]"
     ]
    },
    {
     "name": "stdout",
     "output_type": "stream",
     "text": [
      "0.49977780022641227\n"
     ]
    },
    {
     "name": "stderr",
     "output_type": "stream",
     "text": [
      "\r",
      " 16%|████████████████████████▉                                                                                                                                   | 16/100 [02:19<11:10,  7.98s/it]"
     ]
    },
    {
     "name": "stdout",
     "output_type": "stream",
     "text": [
      "0.49978914943165564\n"
     ]
    },
    {
     "name": "stderr",
     "output_type": "stream",
     "text": [
      "\r",
      " 17%|██████████████████████████▌                                                                                                                                 | 17/100 [02:27<10:51,  7.85s/it]"
     ]
    },
    {
     "name": "stdout",
     "output_type": "stream",
     "text": [
      "0.500736434313897\n"
     ]
    },
    {
     "name": "stderr",
     "output_type": "stream",
     "text": [
      "\r",
      " 18%|████████████████████████████                                                                                                                                | 18/100 [02:35<10:49,  7.92s/it]"
     ]
    },
    {
     "name": "stdout",
     "output_type": "stream",
     "text": [
      "0.501386455449673\n"
     ]
    },
    {
     "name": "stderr",
     "output_type": "stream",
     "text": [
      "\r",
      " 19%|█████████████████████████████▋                                                                                                                              | 19/100 [02:43<10:40,  7.91s/it]"
     ]
    },
    {
     "name": "stdout",
     "output_type": "stream",
     "text": [
      "0.5018042471718263\n"
     ]
    },
    {
     "name": "stderr",
     "output_type": "stream",
     "text": [
      "\r",
      " 20%|███████████████████████████████▏                                                                                                                            | 20/100 [02:51<10:32,  7.90s/it]"
     ]
    },
    {
     "name": "stdout",
     "output_type": "stream",
     "text": [
      "0.5016934104933086\n"
     ]
    },
    {
     "name": "stderr",
     "output_type": "stream",
     "text": [
      "\r",
      " 21%|████████████████████████████████▊                                                                                                                           | 21/100 [02:58<10:21,  7.87s/it]"
     ]
    },
    {
     "name": "stdout",
     "output_type": "stream",
     "text": [
      "0.5025185030681624\n"
     ]
    },
    {
     "name": "stderr",
     "output_type": "stream",
     "text": [
      "\r",
      " 22%|██████████████████████████████████▎                                                                                                                         | 22/100 [03:08<10:56,  8.42s/it]"
     ]
    },
    {
     "name": "stdout",
     "output_type": "stream",
     "text": [
      "0.5029290233207642\n"
     ]
    },
    {
     "name": "stderr",
     "output_type": "stream",
     "text": [
      "\r",
      " 23%|███████████████████████████████████▉                                                                                                                        | 23/100 [03:17<10:57,  8.53s/it]"
     ]
    },
    {
     "name": "stdout",
     "output_type": "stream",
     "text": [
      "0.5034041109244871\n"
     ]
    },
    {
     "name": "stderr",
     "output_type": "stream",
     "text": [
      "\r",
      " 24%|█████████████████████████████████████▍                                                                                                                      | 24/100 [03:25<10:38,  8.39s/it]"
     ]
    },
    {
     "name": "stdout",
     "output_type": "stream",
     "text": [
      "0.5042823473530144\n"
     ]
    },
    {
     "name": "stderr",
     "output_type": "stream",
     "text": [
      "\r",
      " 25%|███████████████████████████████████████                                                                                                                     | 25/100 [03:33<10:13,  8.18s/it]"
     ]
    },
    {
     "name": "stdout",
     "output_type": "stream",
     "text": [
      "0.503535656914244\n"
     ]
    },
    {
     "name": "stderr",
     "output_type": "stream",
     "text": [
      "\r",
      " 26%|████████████████████████████████████████▌                                                                                                                   | 26/100 [03:41<09:59,  8.10s/it]"
     ]
    },
    {
     "name": "stdout",
     "output_type": "stream",
     "text": [
      "0.5039323125891885\n"
     ]
    },
    {
     "name": "stderr",
     "output_type": "stream",
     "text": [
      "\r",
      " 27%|██████████████████████████████████████████                                                                                                                  | 27/100 [03:48<09:41,  7.96s/it]"
     ]
    },
    {
     "name": "stdout",
     "output_type": "stream",
     "text": [
      "0.5053167039443113\n"
     ]
    },
    {
     "name": "stderr",
     "output_type": "stream",
     "text": [
      "\r",
      " 28%|███████████████████████████████████████████▋                                                                                                                | 28/100 [03:56<09:29,  7.91s/it]"
     ]
    },
    {
     "name": "stdout",
     "output_type": "stream",
     "text": [
      "0.505705926654024\n"
     ]
    },
    {
     "name": "stderr",
     "output_type": "stream",
     "text": [
      "\r",
      " 29%|█████████████████████████████████████████████▏                                                                                                              | 29/100 [04:05<09:36,  8.12s/it]"
     ]
    },
    {
     "name": "stdout",
     "output_type": "stream",
     "text": [
      "0.50520612780602\n"
     ]
    },
    {
     "name": "stderr",
     "output_type": "stream",
     "text": [
      "\r",
      " 30%|██████████████████████████████████████████████▊                                                                                                             | 30/100 [04:13<09:31,  8.16s/it]"
     ]
    },
    {
     "name": "stdout",
     "output_type": "stream",
     "text": [
      "0.5051611797888473\n"
     ]
    },
    {
     "name": "stderr",
     "output_type": "stream",
     "text": [
      "\r",
      " 31%|████████████████████████████████████████████████▎                                                                                                           | 31/100 [04:20<09:11,  7.99s/it]"
     ]
    },
    {
     "name": "stdout",
     "output_type": "stream",
     "text": [
      "0.5046568473620815\n"
     ]
    },
    {
     "name": "stderr",
     "output_type": "stream",
     "text": [
      "\r",
      " 32%|█████████████████████████████████████████████████▉                                                                                                          | 32/100 [04:28<08:48,  7.77s/it]"
     ]
    },
    {
     "name": "stdout",
     "output_type": "stream",
     "text": [
      "0.5050514316554329\n"
     ]
    },
    {
     "name": "stderr",
     "output_type": "stream",
     "text": [
      "\r",
      " 33%|███████████████████████████████████████████████████▍                                                                                                        | 33/100 [04:35<08:32,  7.65s/it]"
     ]
    },
    {
     "name": "stdout",
     "output_type": "stream",
     "text": [
      "0.5053598294254319\n"
     ]
    },
    {
     "name": "stderr",
     "output_type": "stream",
     "text": [
      "\r",
      " 34%|█████████████████████████████████████████████████████                                                                                                       | 34/100 [04:43<08:27,  7.70s/it]"
     ]
    },
    {
     "name": "stdout",
     "output_type": "stream",
     "text": [
      "0.5059979624560111\n"
     ]
    },
    {
     "name": "stderr",
     "output_type": "stream",
     "text": [
      "\r",
      " 35%|██████████████████████████████████████████████████████▌                                                                                                     | 35/100 [04:50<08:16,  7.64s/it]"
     ]
    },
    {
     "name": "stdout",
     "output_type": "stream",
     "text": [
      "0.5056520170467846\n"
     ]
    },
    {
     "name": "stderr",
     "output_type": "stream",
     "text": [
      "\r",
      " 36%|████████████████████████████████████████████████████████▏                                                                                                   | 36/100 [04:59<08:20,  7.82s/it]"
     ]
    },
    {
     "name": "stdout",
     "output_type": "stream",
     "text": [
      "0.5059574065381275\n"
     ]
    },
    {
     "name": "stderr",
     "output_type": "stream",
     "text": [
      "\r",
      " 37%|█████████████████████████████████████████████████████████▋                                                                                                  | 37/100 [05:06<08:02,  7.66s/it]"
     ]
    },
    {
     "name": "stdout",
     "output_type": "stream",
     "text": [
      "0.5065203667158655\n"
     ]
    },
    {
     "name": "stderr",
     "output_type": "stream",
     "text": [
      "\r",
      " 38%|███████████████████████████████████████████████████████████▎                                                                                                | 38/100 [05:15<08:22,  8.10s/it]"
     ]
    },
    {
     "name": "stdout",
     "output_type": "stream",
     "text": [
      "0.5079058021132284\n"
     ]
    },
    {
     "name": "stderr",
     "output_type": "stream",
     "text": [
      "\r",
      " 39%|████████████████████████████████████████████████████████████▊                                                                                               | 39/100 [05:23<08:04,  7.94s/it]"
     ]
    },
    {
     "name": "stdout",
     "output_type": "stream",
     "text": [
      "0.5079917957634681\n"
     ]
    },
    {
     "name": "stderr",
     "output_type": "stream",
     "text": [
      "\r",
      " 40%|██████████████████████████████████████████████████████████████▍                                                                                             | 40/100 [05:29<07:37,  7.62s/it]"
     ]
    },
    {
     "name": "stdout",
     "output_type": "stream",
     "text": [
      "0.5080612951746026\n"
     ]
    },
    {
     "name": "stderr",
     "output_type": "stream",
     "text": [
      "\r",
      " 41%|███████████████████████████████████████████████████████████████▉                                                                                            | 41/100 [05:40<08:24,  8.55s/it]"
     ]
    },
    {
     "name": "stdout",
     "output_type": "stream",
     "text": [
      "0.5085761883669334\n"
     ]
    },
    {
     "name": "stderr",
     "output_type": "stream",
     "text": [
      "\r",
      " 42%|█████████████████████████████████████████████████████████████████▌                                                                                          | 42/100 [05:48<08:06,  8.40s/it]"
     ]
    },
    {
     "name": "stdout",
     "output_type": "stream",
     "text": [
      "0.5082301888758698\n"
     ]
    },
    {
     "name": "stderr",
     "output_type": "stream",
     "text": [
      "\r",
      " 43%|███████████████████████████████████████████████████████████████████                                                                                         | 43/100 [05:58<08:28,  8.92s/it]"
     ]
    },
    {
     "name": "stdout",
     "output_type": "stream",
     "text": [
      "0.5085218635976481\n"
     ]
    },
    {
     "name": "stderr",
     "output_type": "stream",
     "text": [
      "\r",
      " 44%|████████████████████████████████████████████████████████████████████▋                                                                                       | 44/100 [06:07<08:15,  8.85s/it]"
     ]
    },
    {
     "name": "stdout",
     "output_type": "stream",
     "text": [
      "0.5085193801220432\n"
     ]
    },
    {
     "name": "stderr",
     "output_type": "stream",
     "text": [
      "\r",
      " 45%|██████████████████████████████████████████████████████████████████████▏                                                                                     | 45/100 [06:15<07:50,  8.56s/it]"
     ]
    },
    {
     "name": "stdout",
     "output_type": "stream",
     "text": [
      "0.5080563034835189\n"
     ]
    },
    {
     "name": "stderr",
     "output_type": "stream",
     "text": [
      "\r",
      " 46%|███████████████████████████████████████████████████████████████████████▊                                                                                    | 46/100 [06:23<07:30,  8.35s/it]"
     ]
    },
    {
     "name": "stdout",
     "output_type": "stream",
     "text": [
      "0.5077197104153364\n"
     ]
    },
    {
     "name": "stderr",
     "output_type": "stream",
     "text": [
      "\r",
      " 47%|█████████████████████████████████████████████████████████████████████████▎                                                                                  | 47/100 [06:30<07:11,  8.15s/it]"
     ]
    },
    {
     "name": "stdout",
     "output_type": "stream",
     "text": [
      "0.5079739161009706\n"
     ]
    },
    {
     "name": "stderr",
     "output_type": "stream",
     "text": [
      "\r",
      " 48%|██████████████████████████████████████████████████████████████████████████▉                                                                                 | 48/100 [06:38<06:58,  8.05s/it]"
     ]
    },
    {
     "name": "stdout",
     "output_type": "stream",
     "text": [
      "0.5089329706760402\n"
     ]
    },
    {
     "name": "stderr",
     "output_type": "stream",
     "text": [
      "\r",
      " 49%|████████████████████████████████████████████████████████████████████████████▍                                                                               | 49/100 [06:47<06:53,  8.11s/it]"
     ]
    },
    {
     "name": "stdout",
     "output_type": "stream",
     "text": [
      "0.509014819689049\n"
     ]
    },
    {
     "name": "stderr",
     "output_type": "stream",
     "text": [
      "\r",
      " 50%|██████████████████████████████████████████████████████████████████████████████                                                                              | 50/100 [06:56<07:00,  8.41s/it]"
     ]
    },
    {
     "name": "stdout",
     "output_type": "stream",
     "text": [
      "0.5093993440380076\n"
     ]
    },
    {
     "name": "stderr",
     "output_type": "stream",
     "text": [
      "\r",
      " 51%|███████████████████████████████████████████████████████████████████████████████▌                                                                            | 51/100 [07:04<06:46,  8.30s/it]"
     ]
    },
    {
     "name": "stdout",
     "output_type": "stream",
     "text": [
      "0.5099724587634673\n"
     ]
    },
    {
     "name": "stderr",
     "output_type": "stream",
     "text": [
      "\r",
      " 52%|█████████████████████████████████████████████████████████████████████████████████                                                                           | 52/100 [07:12<06:33,  8.20s/it]"
     ]
    },
    {
     "name": "stdout",
     "output_type": "stream",
     "text": [
      "0.509751651897673\n"
     ]
    },
    {
     "name": "stderr",
     "output_type": "stream",
     "text": [
      "\r",
      " 53%|██████████████████████████████████████████████████████████████████████████████████▋                                                                         | 53/100 [07:19<06:20,  8.09s/it]"
     ]
    },
    {
     "name": "stdout",
     "output_type": "stream",
     "text": [
      "0.5096853447335289\n"
     ]
    },
    {
     "name": "stderr",
     "output_type": "stream",
     "text": [
      "\r",
      " 54%|████████████████████████████████████████████████████████████████████████████████████▏                                                                       | 54/100 [07:28<06:14,  8.14s/it]"
     ]
    },
    {
     "name": "stdout",
     "output_type": "stream",
     "text": [
      "0.5103438461049068\n"
     ]
    },
    {
     "name": "stderr",
     "output_type": "stream",
     "text": [
      "\r",
      " 55%|█████████████████████████████████████████████████████████████████████████████████████▊                                                                      | 55/100 [07:35<06:00,  8.01s/it]"
     ]
    },
    {
     "name": "stdout",
     "output_type": "stream",
     "text": [
      "0.5109542396261643\n"
     ]
    },
    {
     "name": "stderr",
     "output_type": "stream",
     "text": [
      "\r",
      " 56%|███████████████████████████████████████████████████████████████████████████████████████▎                                                                    | 56/100 [07:43<05:51,  8.00s/it]"
     ]
    },
    {
     "name": "stdout",
     "output_type": "stream",
     "text": [
      "0.5110690560874861\n"
     ]
    },
    {
     "name": "stderr",
     "output_type": "stream",
     "text": [
      "\r",
      " 57%|████████████████████████████████████████████████████████████████████████████████████████▉                                                                   | 57/100 [07:53<06:03,  8.45s/it]"
     ]
    },
    {
     "name": "stdout",
     "output_type": "stream",
     "text": [
      "0.5109444307215242\n"
     ]
    },
    {
     "name": "stderr",
     "output_type": "stream",
     "text": [
      "\r",
      " 58%|██████████████████████████████████████████████████████████████████████████████████████████▍                                                                 | 58/100 [08:02<06:00,  8.58s/it]"
     ]
    },
    {
     "name": "stdout",
     "output_type": "stream",
     "text": [
      "0.5109597886111205\n"
     ]
    },
    {
     "name": "stderr",
     "output_type": "stream",
     "text": [
      "\r",
      " 59%|████████████████████████████████████████████████████████████████████████████████████████████                                                                | 59/100 [08:10<05:48,  8.49s/it]"
     ]
    },
    {
     "name": "stdout",
     "output_type": "stream",
     "text": [
      "0.5110116201889415\n"
     ]
    },
    {
     "name": "stderr",
     "output_type": "stream",
     "text": [
      "\r",
      " 60%|█████████████████████████████████████████████████████████████████████████████████████████████▌                                                              | 60/100 [08:19<05:40,  8.51s/it]"
     ]
    },
    {
     "name": "stdout",
     "output_type": "stream",
     "text": [
      "0.5108403548134768\n"
     ]
    },
    {
     "name": "stderr",
     "output_type": "stream",
     "text": [
      "\r",
      " 61%|███████████████████████████████████████████████████████████████████████████████████████████████▏                                                            | 61/100 [08:27<05:30,  8.48s/it]"
     ]
    },
    {
     "name": "stdout",
     "output_type": "stream",
     "text": [
      "0.5110485383400813\n"
     ]
    },
    {
     "name": "stderr",
     "output_type": "stream",
     "text": [
      "\r",
      " 62%|████████████████████████████████████████████████████████████████████████████████████████████████▋                                                           | 62/100 [08:35<05:14,  8.28s/it]"
     ]
    },
    {
     "name": "stdout",
     "output_type": "stream",
     "text": [
      "0.511258139944055\n"
     ]
    },
    {
     "name": "stderr",
     "output_type": "stream",
     "text": [
      "\r",
      " 63%|██████████████████████████████████████████████████████████████████████████████████████████████████▎                                                         | 63/100 [08:45<05:22,  8.70s/it]"
     ]
    },
    {
     "name": "stdout",
     "output_type": "stream",
     "text": [
      "0.5112784837054304\n"
     ]
    },
    {
     "name": "stderr",
     "output_type": "stream",
     "text": [
      "\r",
      " 64%|███████████████████████████████████████████████████████████████████████████████████████████████████▊                                                        | 64/100 [08:53<05:06,  8.52s/it]"
     ]
    },
    {
     "name": "stdout",
     "output_type": "stream",
     "text": [
      "0.5114651889778954\n"
     ]
    },
    {
     "name": "stderr",
     "output_type": "stream",
     "text": [
      "\r",
      " 65%|█████████████████████████████████████████████████████████████████████████████████████████████████████▍                                                      | 65/100 [09:00<04:50,  8.30s/it]"
     ]
    },
    {
     "name": "stdout",
     "output_type": "stream",
     "text": [
      "0.5112080144755643\n"
     ]
    },
    {
     "name": "stderr",
     "output_type": "stream",
     "text": [
      "\r",
      " 66%|██████████████████████████████████████████████████████████████████████████████████████████████████████▉                                                     | 66/100 [09:08<04:38,  8.19s/it]"
     ]
    },
    {
     "name": "stdout",
     "output_type": "stream",
     "text": [
      "0.5116945340575747\n"
     ]
    },
    {
     "name": "stderr",
     "output_type": "stream",
     "text": [
      "\r",
      " 67%|████████████████████████████████████████████████████████████████████████████████████████████████████████▌                                                   | 67/100 [09:16<04:27,  8.12s/it]"
     ]
    },
    {
     "name": "stdout",
     "output_type": "stream",
     "text": [
      "0.5118299854222235\n"
     ]
    },
    {
     "name": "stderr",
     "output_type": "stream",
     "text": [
      "\r",
      " 68%|██████████████████████████████████████████████████████████████████████████████████████████████████████████                                                  | 68/100 [09:24<04:17,  8.06s/it]"
     ]
    },
    {
     "name": "stdout",
     "output_type": "stream",
     "text": [
      "0.5118980471198256\n"
     ]
    },
    {
     "name": "stderr",
     "output_type": "stream",
     "text": [
      "\r",
      " 69%|███████████████████████████████████████████████████████████████████████████████████████████████████████████▋                                                | 69/100 [09:32<04:11,  8.10s/it]"
     ]
    },
    {
     "name": "stdout",
     "output_type": "stream",
     "text": [
      "0.5124115477180904\n"
     ]
    },
    {
     "name": "stderr",
     "output_type": "stream",
     "text": [
      "\r",
      " 70%|█████████████████████████████████████████████████████████████████████████████████████████████████████████████▏                                              | 70/100 [09:42<04:18,  8.63s/it]"
     ]
    },
    {
     "name": "stdout",
     "output_type": "stream",
     "text": [
      "0.5128369182108627\n"
     ]
    },
    {
     "name": "stderr",
     "output_type": "stream",
     "text": [
      "\r",
      " 71%|██████████████████████████████████████████████████████████████████████████████████████████████████████████████▊                                             | 71/100 [09:50<04:05,  8.47s/it]"
     ]
    },
    {
     "name": "stdout",
     "output_type": "stream",
     "text": [
      "0.513071747251989\n"
     ]
    },
    {
     "name": "stderr",
     "output_type": "stream",
     "text": [
      "\r",
      " 72%|████████████████████████████████████████████████████████████████████████████████████████████████████████████████▎                                           | 72/100 [09:59<03:56,  8.44s/it]"
     ]
    },
    {
     "name": "stdout",
     "output_type": "stream",
     "text": [
      "0.5133242131323953\n"
     ]
    },
    {
     "name": "stderr",
     "output_type": "stream",
     "text": [
      "\r",
      " 73%|█████████████████████████████████████████████████████████████████████████████████████████████████████████████████▉                                          | 73/100 [10:07<03:45,  8.37s/it]"
     ]
    },
    {
     "name": "stdout",
     "output_type": "stream",
     "text": [
      "0.5133363362467467\n"
     ]
    },
    {
     "name": "stderr",
     "output_type": "stream",
     "text": [
      "\r",
      " 74%|███████████████████████████████████████████████████████████████████████████████████████████████████████████████████▍                                        | 74/100 [10:15<03:38,  8.39s/it]"
     ]
    },
    {
     "name": "stdout",
     "output_type": "stream",
     "text": [
      "0.5130512479270394\n"
     ]
    },
    {
     "name": "stderr",
     "output_type": "stream",
     "text": [
      "\r",
      " 75%|█████████████████████████████████████████████████████████████████████████████████████████████████████████████████████                                       | 75/100 [10:24<03:28,  8.34s/it]"
     ]
    },
    {
     "name": "stdout",
     "output_type": "stream",
     "text": [
      "0.5136866681530472\n"
     ]
    },
    {
     "name": "stderr",
     "output_type": "stream",
     "text": [
      "\r",
      " 76%|██████████████████████████████████████████████████████████████████████████████████████████████████████████████████████▌                                     | 76/100 [10:32<03:18,  8.26s/it]"
     ]
    },
    {
     "name": "stdout",
     "output_type": "stream",
     "text": [
      "0.5136504513629488\n"
     ]
    },
    {
     "name": "stderr",
     "output_type": "stream",
     "text": [
      "\r",
      " 77%|████████████████████████████████████████████████████████████████████████████████████████████████████████████████████████                                    | 77/100 [10:41<03:19,  8.65s/it]"
     ]
    },
    {
     "name": "stdout",
     "output_type": "stream",
     "text": [
      "0.5133275627317444\n"
     ]
    },
    {
     "name": "stderr",
     "output_type": "stream",
     "text": [
      "\r",
      " 78%|█████████████████████████████████████████████████████████████████████████████████████████████████████████████████████████▋                                  | 78/100 [10:50<03:08,  8.58s/it]"
     ]
    },
    {
     "name": "stdout",
     "output_type": "stream",
     "text": [
      "0.5134760198366509\n"
     ]
    },
    {
     "name": "stderr",
     "output_type": "stream",
     "text": [
      "\r",
      " 79%|███████████████████████████████████████████████████████████████████████████████████████████████████████████████████████████▏                                | 79/100 [10:58<02:57,  8.47s/it]"
     ]
    },
    {
     "name": "stdout",
     "output_type": "stream",
     "text": [
      "0.513336793655859\n"
     ]
    },
    {
     "name": "stderr",
     "output_type": "stream",
     "text": [
      "\r",
      " 80%|████████████████████████████████████████████████████████████████████████████████████████████████████████████████████████████▊                               | 80/100 [11:06<02:47,  8.39s/it]"
     ]
    },
    {
     "name": "stdout",
     "output_type": "stream",
     "text": [
      "0.513222969837489\n"
     ]
    },
    {
     "name": "stderr",
     "output_type": "stream",
     "text": [
      "\r",
      " 81%|██████████████████████████████████████████████████████████████████████████████████████████████████████████████████████████████▎                             | 81/100 [11:15<02:41,  8.49s/it]"
     ]
    },
    {
     "name": "stdout",
     "output_type": "stream",
     "text": [
      "0.5128997688007189\n"
     ]
    },
    {
     "name": "stderr",
     "output_type": "stream",
     "text": [
      "\r",
      " 82%|███████████████████████████████████████████████████████████████████████████████████████████████████████████████████████████████▉                            | 82/100 [11:23<02:31,  8.39s/it]"
     ]
    },
    {
     "name": "stdout",
     "output_type": "stream",
     "text": [
      "0.5122666702085218\n"
     ]
    },
    {
     "name": "stderr",
     "output_type": "stream",
     "text": [
      "\r",
      " 83%|█████████████████████████████████████████████████████████████████████████████████████████████████████████████████████████████████▍                          | 83/100 [11:31<02:21,  8.30s/it]"
     ]
    },
    {
     "name": "stdout",
     "output_type": "stream",
     "text": [
      "0.5126671180971168\n"
     ]
    },
    {
     "name": "stderr",
     "output_type": "stream",
     "text": [
      "\r",
      " 84%|███████████████████████████████████████████████████████████████████████████████████████████████████████████████████████████████████                         | 84/100 [11:41<02:20,  8.81s/it]"
     ]
    },
    {
     "name": "stdout",
     "output_type": "stream",
     "text": [
      "0.512452732442798\n"
     ]
    },
    {
     "name": "stderr",
     "output_type": "stream",
     "text": [
      "\r",
      " 85%|████████████████████████████████████████████████████████████████████████████████████████████████████████████████████████████████████▌                       | 85/100 [11:50<02:11,  8.75s/it]"
     ]
    },
    {
     "name": "stdout",
     "output_type": "stream",
     "text": [
      "0.5125669588584086\n"
     ]
    },
    {
     "name": "stderr",
     "output_type": "stream",
     "text": [
      "\r",
      " 86%|██████████████████████████████████████████████████████████████████████████████████████████████████████████████████████████████████████▏                     | 86/100 [11:58<02:01,  8.68s/it]"
     ]
    },
    {
     "name": "stdout",
     "output_type": "stream",
     "text": [
      "0.5121692795633502\n"
     ]
    },
    {
     "name": "stderr",
     "output_type": "stream",
     "text": [
      "\r",
      " 87%|███████████████████████████████████████████████████████████████████████████████████████████████████████████████████████████████████████▋                    | 87/100 [12:07<01:53,  8.72s/it]"
     ]
    },
    {
     "name": "stdout",
     "output_type": "stream",
     "text": [
      "0.5121832768506891\n"
     ]
    },
    {
     "name": "stderr",
     "output_type": "stream",
     "text": [
      "\r",
      " 88%|█████████████████████████████████████████████████████████████████████████████████████████████████████████████████████████████████████████▎                  | 88/100 [12:15<01:43,  8.60s/it]"
     ]
    },
    {
     "name": "stdout",
     "output_type": "stream",
     "text": [
      "0.5122968900277036\n"
     ]
    },
    {
     "name": "stderr",
     "output_type": "stream",
     "text": [
      "\r",
      " 89%|██████████████████████████████████████████████████████████████████████████████████████████████████████████████████████████████████████████▊                 | 89/100 [12:24<01:34,  8.56s/it]"
     ]
    },
    {
     "name": "stdout",
     "output_type": "stream",
     "text": [
      "0.5125025760994053\n"
     ]
    },
    {
     "name": "stderr",
     "output_type": "stream",
     "text": [
      "\r",
      " 90%|████████████████████████████████████████████████████████████████████████████████████████████████████████████████████████████████████████████▍               | 90/100 [12:34<01:29,  8.97s/it]"
     ]
    },
    {
     "name": "stdout",
     "output_type": "stream",
     "text": [
      "0.5128828118171347\n"
     ]
    },
    {
     "name": "stderr",
     "output_type": "stream",
     "text": [
      "\r",
      " 91%|█████████████████████████████████████████████████████████████████████████████████████████████████████████████████████████████████████████████▉              | 91/100 [12:42<01:19,  8.78s/it]"
     ]
    },
    {
     "name": "stdout",
     "output_type": "stream",
     "text": [
      "0.5126760065566414\n"
     ]
    },
    {
     "name": "stderr",
     "output_type": "stream",
     "text": [
      "\r",
      " 92%|███████████████████████████████████████████████████████████████████████████████████████████████████████████████████████████████████████████████▌            | 92/100 [12:51<01:10,  8.75s/it]"
     ]
    },
    {
     "name": "stdout",
     "output_type": "stream",
     "text": [
      "0.5122267470685645\n"
     ]
    },
    {
     "name": "stderr",
     "output_type": "stream",
     "text": [
      "\r",
      " 93%|█████████████████████████████████████████████████████████████████████████████████████████████████████████████████████████████████████████████████           | 93/100 [12:59<01:00,  8.67s/it]"
     ]
    },
    {
     "name": "stdout",
     "output_type": "stream",
     "text": [
      "0.5121290153023454\n"
     ]
    },
    {
     "name": "stderr",
     "output_type": "stream",
     "text": [
      "\r",
      " 94%|██████████████████████████████████████████████████████████████████████████████████████████████████████████████████████████████████████████████████▋         | 94/100 [13:08<00:52,  8.67s/it]"
     ]
    },
    {
     "name": "stdout",
     "output_type": "stream",
     "text": [
      "0.5120627435849535\n"
     ]
    },
    {
     "name": "stderr",
     "output_type": "stream",
     "text": [
      "\r",
      " 95%|████████████████████████████████████████████████████████████████████████████████████████████████████████████████████████████████████████████████████▏       | 95/100 [13:18<00:44,  9.00s/it]"
     ]
    },
    {
     "name": "stdout",
     "output_type": "stream",
     "text": [
      "0.5127259015421515\n"
     ]
    },
    {
     "name": "stderr",
     "output_type": "stream",
     "text": [
      "\r",
      " 96%|█████████████████████████████████████████████████████████████████████████████████████████████████████████████████████████████████████████████████████▊      | 96/100 [13:28<00:37,  9.50s/it]"
     ]
    },
    {
     "name": "stdout",
     "output_type": "stream",
     "text": [
      "0.5127628883757758\n"
     ]
    },
    {
     "name": "stderr",
     "output_type": "stream",
     "text": [
      "\r",
      " 97%|███████████████████████████████████████████████████████████████████████████████████████████████████████████████████████████████████████████████████████▎    | 97/100 [13:40<00:30, 10.16s/it]"
     ]
    },
    {
     "name": "stdout",
     "output_type": "stream",
     "text": [
      "0.5125524320065175\n"
     ]
    },
    {
     "name": "stderr",
     "output_type": "stream",
     "text": [
      "\r",
      " 98%|████████████████████████████████████████████████████████████████████████████████████████████████████████████████████████████████████████████████████████▉   | 98/100 [13:49<00:19,  9.83s/it]"
     ]
    },
    {
     "name": "stdout",
     "output_type": "stream",
     "text": [
      "0.512312689684276\n"
     ]
    },
    {
     "name": "stderr",
     "output_type": "stream",
     "text": [
      "\r",
      " 99%|██████████████████████████████████████████████████████████████████████████████████████████████████████████████████████████████████████████████████████████▍ | 99/100 [13:58<00:09,  9.63s/it]"
     ]
    },
    {
     "name": "stdout",
     "output_type": "stream",
     "text": [
      "0.5130822518523591\n"
     ]
    },
    {
     "name": "stderr",
     "output_type": "stream",
     "text": [
      "100%|███████████████████████████████████████████████████████████████████████████████████████████████████████████████████████████████████████████████████████████| 100/100 [14:07<00:00,  8.48s/it]"
     ]
    },
    {
     "name": "stdout",
     "output_type": "stream",
     "text": [
      "0.5129329887724577\n",
      "[0.4775700647980642, 0.5007966808146282, 0.49999087853693747, 0.4994966493749956, 0.4997751534172484, 0.49995010949168156, 0.4988803920805926, 0.49948030460808374, 0.49840120491724155, 0.4985836643895577, 0.4978709844801212, 0.4984386026891225, 0.4994795717059228, 0.49942815880420693, 0.49977780022641227, 0.49978914943165564, 0.500736434313897, 0.501386455449673, 0.5018042471718263, 0.5016934104933086, 0.5025185030681624, 0.5029290233207642, 0.5034041109244871, 0.5042823473530144, 0.503535656914244, 0.5039323125891885, 0.5053167039443113, 0.505705926654024, 0.50520612780602, 0.5051611797888473, 0.5046568473620815, 0.5050514316554329, 0.5053598294254319, 0.5059979624560111, 0.5056520170467846, 0.5059574065381275, 0.5065203667158655, 0.5079058021132284, 0.5079917957634681, 0.5080612951746026, 0.5085761883669334, 0.5082301888758698, 0.5085218635976481, 0.5085193801220432, 0.5080563034835189, 0.5077197104153364, 0.5079739161009706, 0.5089329706760402, 0.509014819689049, 0.5093993440380076, 0.5099724587634673, 0.509751651897673, 0.5096853447335289, 0.5103438461049068, 0.5109542396261643, 0.5110690560874861, 0.5109444307215242, 0.5109597886111205, 0.5110116201889415, 0.5108403548134768, 0.5110485383400813, 0.511258139944055, 0.5112784837054304, 0.5114651889778954, 0.5112080144755643, 0.5116945340575747, 0.5118299854222235, 0.5118980471198256, 0.5124115477180904, 0.5128369182108627, 0.513071747251989, 0.5133242131323953, 0.5133363362467467, 0.5130512479270394, 0.5136866681530472, 0.5136504513629488, 0.5133275627317444, 0.5134760198366509, 0.513336793655859, 0.513222969837489, 0.5128997688007189, 0.5122666702085218, 0.5126671180971168, 0.512452732442798, 0.5125669588584086, 0.5121692795633502, 0.5121832768506891, 0.5122968900277036, 0.5125025760994053, 0.5128828118171347, 0.5126760065566414, 0.5122267470685645, 0.5121290153023454, 0.5120627435849535, 0.5127259015421515, 0.5127628883757758, 0.5125524320065175, 0.512312689684276, 0.5130822518523591, 0.5129329887724577]\n",
      "[1, 21, 41, 61, 81, 101, 121, 141, 161, 181, 201, 221, 241, 261, 281, 301, 321, 341, 361, 381, 401, 421, 441, 461, 481, 501, 521, 541, 561, 581, 601, 621, 641, 661, 681, 701, 721, 741, 761, 781, 801, 821, 841, 861, 881, 901, 921, 941, 961, 981, 1001, 1021, 1041, 1061, 1081, 1101, 1121, 1141, 1161, 1181, 1201, 1221, 1241, 1261, 1281, 1301, 1321, 1341, 1361, 1381, 1401, 1421, 1441, 1461, 1481, 1501, 1521, 1541, 1561, 1581, 1601, 1621, 1641, 1661, 1681, 1701, 1721, 1741, 1761, 1781, 1801, 1821, 1841, 1861, 1881, 1901, 1921, 1941, 1961, 1981]\n"
     ]
    },
    {
     "name": "stderr",
     "output_type": "stream",
     "text": [
      "\n"
     ]
    },
    {
     "data": {
      "image/png": "[encoded data removed]",
      "text/plain": [
       "<Figure size 432x288 with 1 Axes>"
      ]
     },
     "metadata": {
      "needs_background": "light"
     },
     "output_type": "display_data"
    }
   ],
   "source": [
    "from tqdm import tqdm\n",
    "def average_tanimoto_for_nr_preselected(scores, nr_of_spectra_preselection):\n",
    "    selected_matches = {}\n",
    "    for query_spectrum_id in scores:\n",
    "        scores_df = scores[query_spectrum_id]\n",
    "        selected_matches[query_spectrum_id] = scores_df.loc[scores_df[\"ms2ds_score\"].nlargest(nr_of_spectra_preselection).index].sort_values(\"ms2query_model_prediction\", ascending = False)\n",
    "    tanimoto_scores = select_best_match_and_calculate_tanimoto_score(selected_matches, tanimoto_scores_df_file, test_spectra_without_match, sqlite_file)\n",
    "    average_tanimoto_score = sum([scores[1] for scores in tanimoto_scores])/len(tanimoto_scores)\n",
    "    return average_tanimoto_score \n",
    "\n",
    "def plot_dependency_on_nr_preselected(results):\n",
    "    average_tanimoto_list = []\n",
    "    cut_off = []\n",
    "    for i in tqdm(range(1, 2000, 20)):\n",
    "        average_tanimoto = average_tanimoto_for_nr_preselected(results, i)\n",
    "        average_tanimoto_list.append(average_tanimoto)\n",
    "        cut_off.append(i)\n",
    "        print(average_tanimoto)\n",
    "    print(average_tanimoto_list)\n",
    "    print(cut_off)\n",
    "    plt.plot(cut_off, average_tanimoto_list)\n",
    "\n",
    "results_top_2000 = load_pickled_file(\"../downloads/gnps_210409/train_ms2query_model/results_with_match_all_scores_test_spectra_dropout_reg_top_2000.pickle\")\n",
    "plot_dependency_on_nr_preselected(results_top_2000)\n"
   ]
  },
  {
   "cell_type": "code",
   "execution_count": 61,
   "metadata": {},
   "outputs": [
    {
     "data": {
      "image/png": "[encoded data removed]",
      "text/plain": [
       "<Figure size 432x288 with 1 Axes>"
      ]
     },
     "metadata": {
      "needs_background": "light"
     },
     "output_type": "display_data"
    }
   ],
   "source": [
    "tanimoto_scores = [0.4775700647980642, 0.5007966808146282, 0.49999087853693747, 0.4994966493749956, 0.4997751534172484, 0.49995010949168156, 0.4988803920805926, 0.49948030460808374, 0.49840120491724155, 0.4985836643895577, 0.4978709844801212, 0.4984386026891225, 0.4994795717059228, 0.49942815880420693, 0.49977780022641227, 0.49978914943165564, 0.500736434313897, 0.501386455449673, 0.5018042471718263, 0.5016934104933086, 0.5025185030681624, 0.5029290233207642, 0.5034041109244871, 0.5042823473530144, 0.503535656914244, 0.5039323125891885, 0.5053167039443113, 0.505705926654024, 0.50520612780602, 0.5051611797888473, 0.5046568473620815, 0.5050514316554329, 0.5053598294254319, 0.5059979624560111, 0.5056520170467846, 0.5059574065381275, 0.5065203667158655, 0.5079058021132284, 0.5079917957634681, 0.5080612951746026, 0.5085761883669334, 0.5082301888758698, 0.5085218635976481, 0.5085193801220432, 0.5080563034835189, 0.5077197104153364, 0.5079739161009706, 0.5089329706760402, 0.509014819689049, 0.5093993440380076, 0.5099724587634673, 0.509751651897673, 0.5096853447335289, 0.5103438461049068, 0.5109542396261643, 0.5110690560874861, 0.5109444307215242, 0.5109597886111205, 0.5110116201889415, 0.5108403548134768, 0.5110485383400813, 0.511258139944055, 0.5112784837054304, 0.5114651889778954, 0.5112080144755643, 0.5116945340575747, 0.5118299854222235, 0.5118980471198256, 0.5124115477180904, 0.5128369182108627, 0.513071747251989, 0.5133242131323953, 0.5133363362467467, 0.5130512479270394, 0.5136866681530472, 0.5136504513629488, 0.5133275627317444, 0.5134760198366509, 0.513336793655859, 0.513222969837489, 0.5128997688007189, 0.5122666702085218, 0.5126671180971168, 0.512452732442798, 0.5125669588584086, 0.5121692795633502, 0.5121832768506891, 0.5122968900277036, 0.5125025760994053, 0.5128828118171347, 0.5126760065566414, 0.5122267470685645, 0.5121290153023454, 0.5120627435849535, 0.5127259015421515, 0.5127628883757758, 0.5125524320065175, 0.512312689684276, 0.5130822518523591, 0.5129329887724577]\n",
    "nr_of_spectra_selected = [1, 21, 41, 61, 81, 101, 121, 141, 161, 181, 201, 221, 241, 261, 281, 301, 321, 341, 361, 381, 401, 421, 441, 461, 481, 501, 521, 541, 561, 581, 601, 621, 641, 661, 681, 701, 721, 741, 761, 781, 801, 821, 841, 861, 881, 901, 921, 941, 961, 981, 1001, 1021, 1041, 1061, 1081, 1101, 1121, 1141, 1161, 1181, 1201, 1221, 1241, 1261, 1281, 1301, 1321, 1341, 1361, 1381, 1401, 1421, 1441, 1461, 1481, 1501, 1521, 1541, 1561, 1581, 1601, 1621, 1641, 1661, 1681, 1701, 1721, 1741, 1761, 1781, 1801, 1821, 1841, 1861, 1881, 1901, 1921, 1941, 1961, 1981]\n",
    "plt.xlabel(\"Nr of spectra in preselection\")\n",
    "plt.ylabel(\"Average tanimoto score\")\n",
    "plt.ylim(0.45,0.55)\n",
    "plt.plot(nr_of_spectra_selected, tanimoto_scores)\n",
    "plt.show()"
   ]
  },
  {
   "cell_type": "code",
   "execution_count": 37,
   "metadata": {},
   "outputs": [
    {
     "name": "stdout",
     "output_type": "stream",
     "text": [
      "1.0\n"
     ]
    },
    {
     "data": {
      "image/png": "[encoded data removed]",
      "text/plain": [
       "<Figure size 432x288 with 1 Axes>"
      ]
     },
     "metadata": {
      "needs_background": "light"
     },
     "output_type": "display_data"
    }
   ],
   "source": [
    "plot_tanimoto_score_distribution_for_ms2query_cut_offs(ms2ds_and_tanimoto, [0], \"Minimal MS2Deepscore\")\n"
   ]
  },
  {
   "cell_type": "markdown",
   "metadata": {},
   "source": [
    "# Format graphs with constant axises for report"
   ]
  },
  {
   "cell_type": "code",
   "execution_count": 49,
   "metadata": {},
   "outputs": [
    {
     "data": {
      "image/png": "[encoded data removed]",
      "text/plain": [
       "<Figure size 432x288 with 1 Axes>"
      ]
     },
     "metadata": {
      "needs_background": "light"
     },
     "output_type": "display_data"
    }
   ],
   "source": [
    "bins = np.linspace(0, 1, 11)\n",
    "\n",
    "weight_to_convert_to_percentage = 100/len(ms2query_and_tanimoto)\n",
    "\n",
    "\n",
    "selected_scores = [scores[1] for scores in ms2query_and_tanimoto]\n",
    "weights = [weight_to_convert_to_percentage] * len(selected_scores)\n",
    "\n",
    "plt.hist(selected_scores, bins, weights = weights)\n",
    "\n",
    "plt.xlabel(\"tanimoto_score\")\n",
    "plt.ylabel(\"Percentage of matches (%)\")\n",
    "plt.ylim(0, 80)\n",
    "plt.show()"
   ]
  },
  {
   "cell_type": "code",
   "execution_count": 51,
   "metadata": {},
   "outputs": [
    {
     "data": {
      "image/png": "[encoded data removed]",
      "text/plain": [
       "<Figure size 432x288 with 1 Axes>"
      ]
     },
     "metadata": {
      "needs_background": "light"
     },
     "output_type": "display_data"
    }
   ],
   "source": [
    "bins = np.linspace(0, 1, 11)\n",
    "\n",
    "weight_to_convert_to_percentage = 100/len(ms2ds_and_tanimoto)\n",
    "\n",
    "\n",
    "selected_scores = [scores[1] for scores in ms2ds_and_tanimoto]\n",
    "weights = [weight_to_convert_to_percentage] * len(selected_scores)\n",
    "\n",
    "plt.hist(selected_scores, bins, weights = weights)\n",
    "\n",
    "plt.xlabel(\"tanimoto_score\")\n",
    "plt.ylabel(\"Percentage of matches (%)\")\n",
    "plt.ylim(0, 80)\n",
    "plt.show()"
   ]
  },
  {
   "cell_type": "code",
   "execution_count": 65,
   "metadata": {},
   "outputs": [
    {
     "data": {
      "text/plain": [
       "<matplotlib.collections.PathCollection at 0x278bf9d9580>"
      ]
     },
     "execution_count": 65,
     "metadata": {},
     "output_type": "execute_result"
    },
    {
     "data": {
      "image/png": "[encoded data removed]",
      "text/plain": [
       "<Figure size 432x288 with 1 Axes>"
      ]
     },
     "metadata": {
      "needs_background": "light"
     },
     "output_type": "display_data"
    }
   ],
   "source": [
    "ms2query_list = []\n",
    "tanimoto_list = []\n",
    "for ms2query, tanimoto in ms2query_and_tanimoto:\n",
    "    ms2query_list.append(ms2query)\n",
    "    tanimoto_list.append(tanimoto)\n",
    "plt.scatter(ms2query_list, tanimoto_list, s = 1)"
   ]
  },
  {
   "cell_type": "code",
   "execution_count": 16,
   "metadata": {},
   "outputs": [
    {
     "data": {
      "text/plain": [
       "<matplotlib.collections.PathCollection at 0x20e4dbd36a0>"
      ]
     },
     "execution_count": 16,
     "metadata": {},
     "output_type": "execute_result"
    },
    {
     "data": {
      "image/png": "[encoded data removed]",
      "text/plain": [
       "<Figure size 432x288 with 1 Axes>"
      ]
     },
     "metadata": {
      "needs_background": "light"
     },
     "output_type": "display_data"
    }
   ],
   "source": [
    "ms2ds_list = []\n",
    "tanimoto_list = []\n",
    "for ms2ds, tanimoto in ms2ds_and_tanimoto:\n",
    "    ms2ds_list.append(ms2ds)\n",
    "    tanimoto_list.append(tanimoto)\n",
    "plt.scatter(ms2ds_list, tanimoto_list, s = 1)"
   ]
  },
  {
   "cell_type": "markdown",
   "metadata": {},
   "source": [
    "# Select spectra to show examples"
   ]
  },
  {
   "cell_type": "code",
   "execution_count": 55,
   "metadata": {},
   "outputs": [
    {
     "name": "stdout",
     "output_type": "stream",
     "text": [
      "Query smile:\n",
      "O=C1OC=2C=C(O)C=CC2C=C1\n",
      "O=C1OC=2C=CC=CC2C(O)=C1\n",
      "0.8032345013477089\n",
      "0.8086315989494324\n",
      "Query smile:\n",
      "CC1OC(O[C@H]2CC[C@@]3(C)C(CC[C@]4(C)C3CC=C3C5CC(C)(C)CC[C@]5(C(=O)OC5OC(CO)C(OC6OC(COC7OCC(O)C(O)C7O)C(O)C(O)C6O)C(O)C5O)CC[C@]34C)C2(C)C)C(O)C(O)C1OC1OCC(OC2OCC(O)C(O)C2O)C(O)C1O\n",
      "C[C@@H]1O[C@@H](O[C@@H]2[C@@H](O)[C@H](O[C@@H]3OC[C@@H](O)[C@H](O)[C@H]3O)[C@@H](CO)O[C@H]2O[C@H]2CC[C@@]3(C)C(CC[C@]4(C)C3CC=C3[C@@H]5CC(C)(C)CC[C@]5(C(=O)O[C@@H]5OC[C@H](O)[C@H](O)[C@H]5O[C@@H]5O[C@@H](C)[C@H](O[C@@H]6O[C@H](CO)[C@@H](O)[C@H](O)[C@H]6O)[C@H](O)[C@H]5O)CC[C@]34C)C2(C)C)[C@H](O)[C@H](O)[C@H]1O\n",
      "0.9687875150060024\n",
      "0.8603425025939941\n",
      "Query smile:\n",
      "CC1OC(O[C@H]2CC[C@@]3(C)C(CC[C@]4(C)C3C\\C=C/5C6CC(C)(C)CC[C@@]6(CC[C@@]45C)C(=O)OC7OC(CO)C(OC8OC(COC9OCC(O)C(O)C9O)C(O)C(O)C8O)C(O)C7O)C2(C)C)C(O)C(O)C1OC%10OCC(OC%11OCC(O)C(O)C%11O)C(O)C%10O\n",
      "C[C@@H]1O[C@@H](O[C@@H]2[C@@H](O)[C@H](O[C@@H]3OC[C@@H](O)[C@H](O)[C@H]3O)[C@@H](CO)O[C@H]2O[C@H]2CC[C@@]3(C)C(CC[C@]4(C)C3CC=C3[C@@H]5CC(C)(C)CC[C@]5(C(=O)O[C@@H]5OC[C@H](O)[C@H](O)[C@H]5O[C@@H]5O[C@@H](C)[C@H](O[C@@H]6O[C@H](CO)[C@@H](O)[C@H](O)[C@H]6O)[C@H](O)[C@H]5O)CC[C@]34C)C2(C)C)[C@H](O)[C@H](O)[C@H]1O\n",
      "0.9687875150060024\n",
      "0.8001250624656677\n",
      "Query smile:\n",
      "[H]OC([H])(C([H])([H])C(=O)C([H])([H])C([H])([H])[H])C([H])([H])[C@@]([H])(C([H])([H])[H])C([H])([H])[C@@]([H])(N([H])C(=O)[C@@]1([H])N(C(=O)C(\\[H])=C(/[H])[C@]([H])(C([H])([H])[H])C([H])([H])C([H])([H])[H])C([H])([H])[C@@]([H])(C([H])([H])[H])C1([H])[H])C(=O)N([H])[C@]([H])(C(=O)N([H])C(C(=O)N([H])[C@]([H])(C(=O)N([H])[C@@]([H])(C(=O)N([H])C(C(=O)N([H])C(C(=O)N([H])C([H])([H])C([H])([H])C(=O)N([H])[C@@]([H])(C([H])([H])[H])C([H])([H])N(C([H])([H])[H])C([H])([H])[H])(C([H])([H])[H])C([H])([H])[H])(C([H])([H])[H])C([H])([H])[H])C([H])([H])C([H])(C([H])([H])[H])C([H])([H])[H])C([H])([H])C([H])(C([H])([H])[H])C([H])([H])[H])(C([H])([H])[H])C([H])([H])[H])[C@]([H])(O[H])C([H])(C([H])([H])[H])C([H])([H])[H]\n",
      "[H]OC([H])(C([H])([H])[H])[C@]1([H])N([H])C(=O)[C@@]([H])(N(C(=O)[C@@]([H])(N(C(=O)[C@@]([H])(N([H])C(=O)[C@@]([H])(N(C(=O)[C@]([H])(N([H])C(=O)[C@@]([H])(N([H])C(=O)[C@@]([H])(N(C(=O)[C@@]([H])(N([H])C(=O)[C@@]([H])(N(C(=O)C([H])([H])N(C1=O)C([H])([H])[H])C([H])([H])[H])C([H])([H])C([H])(C([H])([H])[H])C([H])([H])[H])C([H])([H])C([H])(C([H])([H])[H])C([H])([H])[H])C([H])([H])[H])C([H])([H])C([H])(C([H])([H])[H])C([H])([H])[H])C([H])([H])[H])C([H])([H])[H])C([H])([H])[H])C([H])([H])C([H])(C([H])([H])[H])C([H])([H])[H])C([H])([H])C([H])(C([H])([H])[H])C([H])([H])[H])C([H])([H])[H])C([H])(C([H])([H])[H])C([H])([H])[H])C([H])([H])[H])C([H])(O[H])C([H])(C([H])([H])[H])C([H])([H])C(\\[H])=C(/[H])C([H])([H])[H]\n",
      "0.6434108527131783\n",
      "0.848554253578186\n",
      "Query smile:\n",
      "CN(C)C[C@H](C)NC(=O)CCNC(=O)C(C)(C)NC(=O)C(C)(C)NC(=O)[C@H](CC(C)C)NC(=O)[C@H](CC(C)C)NC(=O)C(C)(C)NC(=O)[C@@H](NC(=O)[C@H](C[C@H](C)C[C@@H](O)CC(=O)CC)NC(=O)[C@@H]1C[C@H](C)CN1C(=O)/C=C/[C@@H](C)CC)[C@H](O)C(C)C\n",
      "O=C(O)C(C)NC(=O)CCNC(=O)C(C)(C)NC(=O)C(C)(C)NC(=O)[C@H](CC(C)C)NC(=O)[C@H](CC(C)C)NC(=O)C(C)(C)NC(=O)[C@@H](NC(=O)[C@H](CC(C)CC(O)CC(=O)CC)NC(=O)[C@@H]1C[C@H](C)CN1C(=O)/C=C/C(C)CC)C(O)C(C)C\n",
      "0.9840881272949816\n",
      "0.8025225400924683\n",
      "Query smile:\n",
      "CC[C@@H](C)/C=C/C(=O)N1C[C@H](C[C@H]1C(=O)N[C@@H](C[C@H](C)CC(CC(=O)CC)O)C(=O)N[C@@H]([C@@H](C(C)C)O)C(=O)NC(C)(C)C(=O)N[C@@H](CC(C)C)C(=O)N[C@@H](CC(C)C)C(=O)NC(C)(C)C(=O)NC(C)(C)C(=O)NCCC(=O)N[C@@H](C)CN(C)C)C\n",
      "N1([C@H](C(=O)N[C@@H](C(=O)N[C@H](C(=O)NC(C(=O)N[C@H](C(=O)N[C@@H](C(=O)NC(C(=O)NC(C(=O)NCCC(=O)N[C@H](C[N+]([O-])(C)C)C)(C)C)(C)C)CC(C)C)CC(C)C)(C)C)[C@@H](C(C)C)O)C[C@@H](CC(CC(=O)CC)O)C)C[C@@H](C1)C)C(=O)/C=C/[C@@H](CC)C\n",
      "0.9572953736654805\n",
      "0.8093353509902954\n",
      "Query smile:\n",
      "C[C@]12CC[C@H]3[C@@H](CCC4=C3C=CC(O)=C4)[C@@H]1CC[C@H]2O\n",
      "CC1C(C)(C)c2cc3C(C)COC(=O)c3cc2C1(C)C\n",
      "0.3711967545638945\n",
      "0.871430516242981\n",
      "Query smile:\n",
      "C[C@]12CC[C@H]3[C@@H](CCC4=CC(O)=CC=C34)[C@@H]1CC[C@@H]2O\n",
      "CC1C(C)(C)c2cc3C(C)COC(=O)c3cc2C1(C)C\n",
      "0.3711967545638945\n",
      "0.8544310331344604\n",
      "Query smile:\n",
      "C[C@H]([C@@H](C(=O)O)NC(=O)[C@H](CC1=CC=CC=C1)N)O\n",
      "C[C@H]([C@@H](C(=O)N[C@@H](CC1=CC=CC=C1)C(=O)O)N)O\n",
      "0.6020942408376964\n",
      "0.8507156372070312\n",
      "Query smile:\n",
      "CC(=O)CCSC[C@@H](C(=O)NCC(=O)O)NC(=O)CC[C@@H](C(=O)O)N\n",
      "O=C(N[C@@H](CSC(C)CC=O)C(=O)NCC(=O)O)CC[C@H](N)C(=O)O\n",
      "0.9240506329113924\n",
      "0.8353530168533325\n",
      "Query smile:\n",
      "OC1=CC=C(C=C1)CC2C3=CC(OC)=C(O)C=C3CC[N+]2(C)C\n",
      "OC1=CC=C(C=C1)CC2C3=CC(O)=C(OC)C=C3CC[N+]2(C)C\n",
      "0.9843971631205674\n",
      "0.8830463886260986\n",
      "Query smile:\n",
      "CCCCCCCCCCCCCC(=O)OC[C@@H](COC(=O)CCCCCCC/C=C\\C/C=C\\CCCCC)OC(=O)CCCCCCC/C=C\\C/C=C\\CCCCC\n",
      "CCCCCC/C=C\\CCCCCCCC(=O)OC[C@@H](COC(=O)CCCCCCC/C=C\\C/C=C\\CCCCC)OC(=O)CCCCCCC/C=C\\CCCCCC\n",
      "1.0\n",
      "1.0247045755386353\n",
      "Query smile:\n",
      "C[C@H]1CC[C@@H]2[C@@H](OC(=O)C2=C)C(C)(O)[C@@]13CCC(=O)O3\n",
      "CC(C)C1CCC2=C(C(=O)OC2)C1/C=C(\\CO)C(=O)O\n",
      "0.37093275488069416\n",
      "0.9443694353103638\n",
      "Query smile:\n",
      "CC(=O)N[C@@H]1[C@@H](O)[C@H](O)[C@@H](CO[C@@H]2OC[C@H](O)[C@H](O)[C@H]2O[C@@H]3OC[C@@H](O)[C@H](O)[C@H]3O)O[C@H]1O[C@H]4CC[C@@]5(C)C(CC[C@]6(C)C5C\\C=C/7C8CC(C)(C)CC[C@@]8([C@H](O)C[C@@]67C)C(O)=O)C4(C)C\n",
      "CC(=O)NC1C(O)C(O)C(CO)OC1OC2CCC3(C)C(CCC4(C)C3C\\C=C5\\C6CC(C)(C)CCC6(C(O)CC45C)C(O)=O)C2(C)C\n",
      "0.9544103072348861\n",
      "0.8272625207901001\n",
      "Query smile:\n",
      "COC1C(O)C(CO)OC1N1C=NC2=C(N)N=CN=C12\n",
      "OCC1OC(N2C=NC=3C(=NC=NC32)N)C(O)C1O\n",
      "0.9557761732851986\n",
      "0.8114625215530396\n",
      "Query smile:\n",
      "COC(=O)C[C@H]1C(C)(C)[C@H](OC(=O)C(C)C)C2CC/3=C/4CC(=O)O[C@@H](C5=COC=C5)[C@]4(C)CCC3[C@@]1(C)C2=O\n",
      "COC(=O)C[C@H]1[C@@]/2(C)[C@H](O[C@@H]3C[C@H](\\C(=C23)C)C4=COC=C4)[C@H](OC(C)=O)C5[C@@](C)(\\C=C/C(=O)[C@]15C)C(=O)OC\n",
      "0.600400266844563\n",
      "0.9167647361755371\n",
      "Query smile:\n",
      "CC(=O)OCC1OC(O[C@H]2CC[C@]34C[C@]35CC(O)[C@]3(C)[C@@H]([C@H](C)CC/C=C(\\C)C(=O)O)C(O)C[C@@]3(C)C5CC[C@H]4C2(C)C)C(O)C(O)C1OC1OCC(O)C(O)C1O\n",
      "CC1(C)CC[C@]2(C(=O)O[C@@H]3O[C@H](CO)[C@@H](O)[C@H](O)[C@H]3O)CC[C@]3(C)C(=CCC4[C@@]5(C)C[C@H](O)[C@H](O[C@@H]6O[C@H](C(=O)O)[C@@H](O)[C@H](O)[C@H]6O)[C@](C)(C=O)C5CC[C@]43C)[C@@H]2C1\n",
      "0.6056338028169014\n",
      "0.8268177509307861\n",
      "Query smile:\n",
      "COc1ccc2[nH]c3c(CCN4C(=O)N([C@@H](C)C(=O)NCCc5ccc(F)cc5)C(=O)[C@@]43C)c2c1\n",
      "COc1ccc2[nH]c3c(CCN4C(=O)N([C@@H](C)C(=O)NC5CC5)C(=O)[C@@]43C)c2c1\n",
      "0.9866497139224412\n",
      "0.8648604154586792\n",
      "Query smile:\n",
      "OCC1OC(C(O)C(O)C1O)C2=C(O)C(C3OC(CO)C(O)C(O)C3O)=C4OC=C(C(=O)C4=C2O)C5=CC=C(O)C=C5\n",
      "OCC1OC(C(O)C(O)C1O)C2=C(O)C(C3OC(CO)C(O)C(O)C3O)=C4OC(=CC(=O)C4=C2O)C5=CC=C(O)C=C5\n",
      "0.9177820267686424\n",
      "0.9884706735610962\n",
      "Query smile:\n",
      "CCSCC1=CC=CC=C1OC(=O)NC\n",
      "O=C(Oc1cc(c(SC)c(c1)C)C)NC\n",
      "0.3888888888888889\n",
      "0.9645359516143799\n",
      "Query smile:\n",
      "CC(C)(C)C1=CC(O)=C(O)C=C1\n",
      "CCCCCC1=CC=CC(=O)O1\n",
      "0.11163895486935867\n",
      "0.956015944480896\n",
      "Query smile:\n",
      "O1C([C@@](C2=C(C1)C(N3C(=C2)C4=C(C3)C=C5C(=N4)C=CC=C5)=O)(CC)O)=O\n",
      "C[C@@H]1OC=C(C(OC)=O)[C@@]([C@]1([H])C2)([H])CC3=[N+]2C=CC4=C3NC5=C4C=CC=C5\n",
      "0.5394594594594595\n",
      "0.8262062668800354\n",
      "Query smile:\n",
      "[H]O[C@]([H])([C@]([H])(C([H])([H])[H])C([H])([H])C(\\[H])=C(/[H])C([H])([H])[H])[C@]1([H])N(C(=O)[C@]([H])(N(C(=O)[C@@]([H])(N(C(=O)[C@@]([H])(N(C(=O)[C@]([H])(N([H])C(=O)[C@@]([H])(N([H])C(=O)[C@]([H])(N(C(=O)[C@@]([H])(N([H])C(=O)[C@@]([H])(N(C(=O)C([H])([H])N(C(=O)C([H])(N([H])C1=O)C([H])([H])[H])C([H])([H])[H])C([H])([H])[H])C([H])([H])C([H])(C([H])([H])[H])C([H])([H])[H])C([H])(C([H])([H])[H])C([H])([H])[H])C([H])([H])[H])C([H])([H])C([H])(C([H])([H])[H])C([H])([H])[H])C([H])([H])[H])C([H])([H])[H])C([H])([H])[H])C([H])([H])C([H])(C([H])([H])[H])C([H])([H])[H])C([H])([H])[H])C([H])([H])C([H])(C([H])([H])[H])C([H])([H])[H])C([H])([H])[H])C([H])(C([H])([H])[H])C([H])([H])[H])C([H])([H])[H]\n",
      "[H]O[C@]([H])([C@]([H])(C([H])([H])[H])C([H])([H])C(\\[H])=C(/[H])C([H])([H])[H])[C@]1([H])N(C(=O)[C@]([H])(N(C(=O)[C@@]([H])(N(C(=O)[C@@]([H])(N(C(=O)[C@]([H])(N([H])C(=O)[C@@]([H])(N([H])C(=O)[C@]([H])(N([H])C(=O)[C@@]([H])(N([H])C(=O)[C@@]([H])(N(C(=O)C([H])([H])N(C(=O)[C@]([H])(N([H])C1=O)C([H])([H])C([H])([H])[H])C([H])([H])[H])C([H])([H])[H])C([H])([H])C([H])(C([H])([H])[H])C([H])([H])[H])C([H])(C([H])([H])[H])C([H])([H])[H])C([H])([H])C([H])(C([H])([H])[H])C([H])([H])[H])C([H])([H])[H])C([H])([H])[H])C([H])([H])[H])C([H])([H])C([H])(C([H])([H])[H])C([H])([H])[H])C([H])([H])[H])C([H])([H])C([H])(C([H])([H])[H])C([H])([H])[H])C([H])([H])[H])C([H])(C([H])([H])[H])C([H])([H])[H])C([H])([H])[H]\n",
      "1.0\n",
      "0.9515467882156372\n",
      "Query smile:\n",
      "CCCCCCCCCCCCCCCCCCCCCCCC(=O)OC[C@H](COP(=O)(O)OCCN)OC(=O)CCCCCCC/C=C\\CCCCCCCC\n",
      "CCCCCCCCCCCCCCCC(=O)OC[C@H](COP(=O)(O)OCCN)OC(=O)CCCCCCC/C=C\\CCCCCCCC\n",
      "1.0\n",
      "0.9182062149047852\n",
      "Query smile:\n",
      "C/C1=C\\CC[C@H](C)CCO[C@@H]2O[C@H](CO[C@@H]3OC[C@](O)(COC1=O)[C@H]3O)[C@@H](O)[C@H](O)[C@H]2O\n",
      "C/C1=C\\CCC(C)CCO[C@@H]2O[C@H](CO[C@@H]3OC[C@H](O)[C@H](O)[C@H]3OC1=O)[C@@H](O)[C@H](O)[C@H]2O\n",
      "0.7847730600292826\n",
      "0.8502009510993958\n",
      "Query smile:\n",
      "O=C(/C=C/c1ccc(O)cc1)OC[C@H]1O[C@@H](OC(=O)/C=C/c2ccc(O)cc2)[C@H](O)[C@@H](O)[C@@H]1O\n",
      "O=C(/C=C/c1ccc(O)cc1)OC[C@H]1O[C@@H](OC(=Cc2ccccc2)C(=O)O)[C@H](O)[C@@H](O)[C@@H]1O\n",
      "0.7338308457711443\n",
      "0.8146922588348389\n",
      "Query smile:\n",
      "[H]OC(=O)C([H])([H])C1([H])N([H])C(=O)C([H])(N([H])C(=O)C([H])(N([H])C(=O)C([H])(N([H])C(=O)C([H])(N([H])C(=O)C([H])([H])C([H])(OC(=O)C([H])(N([H])C(=O)C([H])(N([H])C1=O)C([H])([H])C([H])(C([H])([H])[H])C([H])([H])[H])C([H])(C([H])([H])[H])C([H])([H])[H])C([H])([H])C([H])([H])C([H])([H])C([H])([H])C([H])([H])C([H])([H])C([H])([H])C([H])([H])C([H])(C([H])([H])[H])C([H])([H])[H])C([H])([H])C([H])([H])C(=O)N([H])[H])C([H])([H])C([H])(C([H])([H])[H])C([H])([H])[H])C([H])([H])C([H])(C([H])([H])[H])C([H])([H])[H])C([H])(C([H])([H])[H])C([H])([H])[H]\n",
      "[H]OC(=O)C([H])([H])C1([H])N([H])C(=O)C([H])(N([H])C(=O)C([H])(N([H])C(=O)C([H])(N([H])C(=O)C([H])(N([H])C(=O)C([H])([H])C([H])(OC(=O)C([H])(N([H])C(=O)C([H])(N([H])C1=O)C([H])([H])C([H])(C([H])([H])[H])C([H])([H])[H])C([H])(C([H])([H])[H])C([H])([H])C([H])([H])[H])C([H])([H])C([H])([H])C([H])([H])C([H])([H])C([H])([H])C([H])([H])C([H])([H])C([H])([H])C([H])([H])C([H])([H])[H])C([H])([H])C([H])([H])C(=O)N([H])[H])C([H])([H])C([H])(C([H])([H])[H])C([H])([H])[H])C([H])([H])C([H])(C([H])([H])[H])C([H])([H])[H])C([H])(C([H])([H])[H])C([H])([H])[H]\n",
      "0.9663978494623656\n",
      "0.904829740524292\n",
      "Query smile:\n",
      "OC[C@@]1(O)CO[C@@H](OC[C@H]2O[C@@H](OCCc3ccc(O)cc3)[C@H](O)[C@@H](O)[C@@H]2O)[C@@H]1O\n",
      "OC[C@H]1O[C@@H](OCCc2ccc(O)cc2)[C@H](O[C@@H]2OC[C@](O)(CO)[C@H]2O)[C@@H](O)[C@@H]1O\n",
      "0.9546191247974068\n",
      "0.8386664986610413\n",
      "Query smile:\n",
      "C1CCC(CC1)C(=O)CCCCCCCCCCCCCCCN\n",
      "CCCCCCCC/C=C\\CCCCCCCCCCCC(=O)N\n",
      "0.31343283582089554\n",
      "0.9110934734344482\n",
      "Query smile:\n",
      "CCN(CCCC(=O)N1CCC(CC1)C(=O)N(C)C)[C@@H](C)CC2=CC=C(C=C2)OC\n",
      "CCCCCCCCCCOc1cc2c(cc1OCC)ncc(c2O)C(=O)OCC\n",
      "0.23483365949119372\n",
      "0.8343778848648071\n",
      "Query smile:\n",
      "O=c1cc(-c2ccc(O)c(O)c2O)oc2cc(O)cc(O)c12\n",
      "COc1ccc(C2CC(=O)c3c(O)cc(O)cc3O2)cc1O\n",
      "0.26890101325019483\n",
      "0.8273719549179077\n",
      "Query smile:\n",
      "CCCCCCCCCCCCCCCC(=O)OC[C@@H](COC(=O)CCCCCCCCCCCC)OC(=O)CCCCCCCCCCCCCCC\n",
      "CCCCCCCCCCCCCCCC(=O)OC[C@@H](COC(=O)CCCCCCCCCCCCC)OC(=O)CCCCCCCCCCCCCC\n",
      "1.0\n",
      "1.0063655376434326\n",
      "Query smile:\n",
      "CCC(C(=O)N1C[C@H]2C[C@@H](C1)c3cccc(=O)n3C2)c4ccccc4\n",
      "O=C(CCc1ccccc1)N2C[C@H]3C[C@@H](C2)c4cccc(=O)n4C3\n",
      "0.9214611872146119\n",
      "0.8390452861785889\n",
      "Query smile:\n",
      "COc1cccc(CNC(=O)CCC(=O)N2C[C@H]3C[C@H](C2)c4cccc(=O)n4C3)c1OC\n",
      "COc1ccc(CNC(=O)CCC(=O)N2C[C@H]3C[C@H](C2)c4cccc(=O)n4C3)cc1OC\n",
      "0.9349794238683128\n",
      "0.8976192474365234\n",
      "Query smile:\n",
      "CCCCCC/C=C\\CCCCCCCC(=O)OC[C@H](COP(=O)([O-])OCC[N+](C)(C)C)OC(=O)CCCCCCC/C=C\\CCCCCC\n",
      "CCCCCCCCCCCCCCCC(=O)O[C@H](COC(=O)CCCCCCC/C=C\\CCCCCCCC)COP(=O)([O-])OCC[N+](C)(C)C\n",
      "1.0\n",
      "0.918096661567688\n",
      "Query smile:\n",
      "CCCCCC\\C=C/CCCCCCCC(=O)OC[C@]([H])(COP([O-])(=O)OCC[N+](C)(C)C)OC(=O)CCCCCCC\\C=C/CCCCCC\n",
      "CCCCCCCC\\C=C/CCCCCCCC(=O)O[C@]([H])(COC(=O)CCCCCCC\\C=C/CCCCCC)COP([O-])(=O)OCC[N+](C)(C)C\n",
      "1.0\n",
      "0.9258663654327393\n",
      "Query smile:\n",
      "CC1(C)CC[C@]2(C(=O)O[C@@H]3O[C@H](CO)[C@@H](O)[C@H](O)[C@H]3O)CC[C@]3(C)C(=CCC4[C@@]5(C)CC[C@H](O[C@@H]6O[C@H](C(=O)O)[C@@H](O[C@@H]7O[C@H](CO)[C@@H](O)[C@H](O)[C@H]7O)[C@H](O)[C@H]6O[C@@H]6O[C@H](CO)[C@@H](O)[C@H](O)[C@H]6O)C(C)(C)C5CC[C@]43C)C2C1\n",
      "C[C@@H]1O[C@@H](OC2C(O[C@@H]3[C@@H](O)[C@H](O)[C@@H](C(=O)O)O[C@H]3O[C@H]3CC[C@@]4(C)C(CC[C@]5(C)C4CC=C4C6CC(C)(C)CC(O)[C@]6(C)CC[C@]45C)C3(C)C)OC(CO)C(O)C2O)[C@H](O)[C@H](O)[C@H]1O\n",
      "0.8409090909090909\n",
      "0.8530226945877075\n",
      "Query smile:\n",
      "CN(CCc1c2)C(Cc3cc(Oc4c(C(Cc5cccc(OC)c5O5)N(C)CC6)c6cc(O)c4OC)ccc3)c1cc5c2OC\n",
      "OC1=C(OC)C=C2C3=C1OC=4C=C5C(=CC4OC)CCN(C)C5CC6=CC=C(OC7=CC(=CC=C7OC)CC3N(C)CC2)C=C6\n",
      "0.9495327102803738\n",
      "0.8563293814659119\n",
      "Query smile:\n",
      "COC1=C(OC)C2=CC(=C1O)CCCCC(O)CCC3=CC2=C(O)C=C3\n",
      "COC1=C(O)C2=CC(=C1OC)CCCCC(O)CCC3=CC=C(O)C2=C3\n",
      "0.9072426937738246\n",
      "0.9142519235610962\n",
      "Query smile:\n",
      "O=C1CC2(CCCC2)CC(=O)N1CCCCN3CCN(CC3)c4ncccn4.Cl\n",
      "C1CCC2(C1)CC(=O)N(C(=O)C2)CCCCN3CCN(CC3)C4=NC=CC=N4\n",
      "1.0\n",
      "0.9999133348464966\n",
      "Query smile:\n",
      "CCCCCC/C=C\\CCCCCCCC(=O)OC[C@@H](COC(=O)CCCCCCC/C=C\\C/C=C\\CCCCC)OC(=O)CCCCCCC/C=C\\C/C=C\\CCCCC\n",
      "CCCCCCCCCCCCCCCC(=O)OC[C@@H](COC(=O)CCCCCCC/C=C\\C/C=C\\CCCCC)OC(=O)CCCCCCC/C=C\\C/C=C\\CCCCC\n",
      "1.0\n",
      "0.9695723056793213\n",
      "Query smile:\n",
      "COC1=CC(O)=C2C(=O)C(OC3OC(COC4OC(C)C(O)C(OC5OC(C)C(O)C(O)C5O)C4O)C(O)C(O)C3O)=C(OC2=C1)C1=CC(O)=C(O)C=C1\n",
      "COC1=C(O)C=CC(=C1)C2=C(O[C@@H]3O[C@H](CO)[C@@H](O)[C@H](O)[C@H]3O[C@@H]4O[C@@H](C)[C@H](O)[C@@H](O)[C@H]4O)C(=O)C5=C(O)C=C(O)C=C5O2\n",
      "0.962800875273523\n",
      "0.8484312295913696\n",
      "Query smile:\n",
      "COC1=CC2=C(C(=O)C(O[C@@H]3O[C@H](CO[C@@H]4O[C@@H](C)[C@H](O)[C@@H](O[C@@H]5O[C@@H](C)[C@H](O)[C@@H](O)[C@H]5O)[C@H]4O)[C@H](O)[C@H](O)[C@H]3O)=C(O2)C6=CC(O)=C(O)C=C6)C(O)=C1\n",
      "C[C@@H]1O[C@@H](OC2=C(OC3=CC(O)=CC(O)=C3C2=O)C4=CC=C(O)C=C4)[C@H](O[C@@H]5O[C@H](CO)[C@@H](O)[C@H](O)[C@H]5O)[C@H](O)[C@H]1O\n",
      "0.9484536082474226\n",
      "0.8986834287643433\n",
      "Query smile:\n",
      "COc1cc(O)c2c(=O)c(O[C@@H]3O[C@H](CO[C@@H]4O[C@@H](C)[C@H](O)[C@@H](O[C@@H]5O[C@@H](C)[C@H](O)[C@@H](O)[C@H]5O)[C@H]4O)[C@H](O)[C@H](O)[C@H]3O)c(-c3ccc(O)c(O)c3)oc2c1\n",
      "C[C@@H]1O[C@@H](OC2=C(OC3=CC(O)=CC(O)=C3C2=O)C4=CC=C(O)C=C4)[C@H](O[C@@H]5O[C@H](CO)[C@@H](O)[C@H](O)[C@H]5O)[C@H](O)[C@H]1O\n",
      "0.9484536082474226\n",
      "0.899469256401062\n",
      "Query smile:\n",
      "O(C(OCC(C(O)6)OC(C(O)C(O)6)OC(C(=O)3)=C(c(c5)cc(c(c5)O)O)Oc(c4)c3c(O)cc(OC)4)1)C(C)C(O)C(OC(C2O)OC(C)C(C2O)O)C1O\n",
      "C[C@@H]1O[C@@H](OC2=C(OC3=CC(O)=CC(O)=C3C2=O)C4=CC=C(O)C=C4)[C@H](O[C@@H]5O[C@H](CO)[C@@H](O)[C@H](O)[C@H]5O)[C@H](O)[C@H]1O\n",
      "0.9484536082474226\n",
      "0.853900671005249\n",
      "Query smile:\n",
      "COC1=CC2=C(C(O)=C1)C(=O)C(OC1OC(COC3OC(C)C(O)C(OC4OC(C)C(O)C(O)C4O)C3O)C(O)C(O)C1O)=C(O2)C1=CC=C(O)C(O)=C1\n",
      "C[C@@H]1O[C@@H](OC2=C(OC3=CC(O)=CC(O)=C3C2=O)C4=CC=C(O)C=C4)[C@H](O[C@@H]5O[C@H](CO)[C@@H](O)[C@H](O)[C@H]5O)[C@H](O)[C@H]1O\n",
      "0.9484536082474226\n",
      "0.8694478273391724\n",
      "Query smile:\n",
      "O=C1C(OC)=C(OC=2C=C(OC)C(OC)=C(O)C12)C=3C=CC(OC)=C(OC)C3\n",
      "O=C1C=C(OC2=C(OC)C(OC)=C(OC)C(O)=C12)C=3C=CC(OC)=C(OC)C3\n",
      "0.8456735057983943\n",
      "0.8983364105224609\n",
      "Query smile:\n",
      "[H][C@](N1CC2)(C[C@@](C[C@@]3([H])NCCC4=C3NC5=C4C=CC=C5)([H])[C@@H](CC)C1)C6=C2C7=C(N6)C=CC=C7\n",
      "COC(=O)[C@H]1[C@@H](O)CC[C@H]2CN3CCc4c([nH]c5ccccc45)[C@@H]3C[C@H]12.Cl\n",
      "0.8745874587458746\n",
      "0.8895980715751648\n",
      "Query smile:\n",
      "C[C@@H]1O[C@@H](O[C@H]2[C@H](OC(=O)[C@]34CCC(C)(C)C[C@H]3C3=CCC5[C@@]6(C)C[C@@H](O)[C@@H](O[C@@H]7O[C@H](CO)[C@@H](O)[C@H](O)[C@H]7O)[C@@](C)(CO)C6[C@H](O)C[C@@]5(C)[C@]3(C)CC4)OC[C@H](O)[C@@H]2O)[C@H](O)[C@H](O[C@@H]2OC[C@](O)(CO)[C@H]2O)[C@H]1O[C@@H]1OC[C@@H](O)[C@H](O[C@H]2O[C@H](C)[C@@H](O)[C@H](O)[C@@H]2O)[C@H]1O\n",
      "CC1OC(OC2C(O[C@H]3OC[C@](O)(CO)[C@H]3O)COC(O[C@H]3[C@H](C)O[C@@H](OC4C(OC(=O)[C@]56CCC(C)(C)CC5C5=CCC7[C@@]8(C)C[C@H](O)[C@H](OC9OC(CO)C(O)C(O)C9O)[C@@](C)(CO)C8[C@H](O)C[C@@]7(C)[C@]5(C)CC6)OCC(O)C4O)[C@H](O)[C@@H]3O)C2O)C(O)C(O)C1O\n",
      "1.0\n",
      "1.0018203258514404\n",
      "Query smile:\n",
      "C[C@H]1O[C@H](O[C@H]2[C@H](O)CO[C@@H](O[C@H]3[C@H](C)O[C@@H](O[C@@H]4[C@@H](O)[C@@H](O)CO[C@H]4OC(=O)[C@]56CCC(C)(C)C[C@H]5C/7=C/CC8[C@@]9(C)C[C@@H](O)[C@@H](O[C@@H]%10O[C@H](CO)[C@@H](O)[C@H](O)[C@H]%10O)[C@@](C)(CO)C9[C@H](O)C[C@@]8(C)[C@]7(C)CC6)[C@H](O)[C@@H]3O[C@@H]%11OC[C@](O)(CO)[C@H]%11O)[C@@H]2O)[C@@H](O)[C@@H](O)[C@@H]1O\n",
      "CC1OC(O[C@H]2[C@@H](O)C[C@@]3(C)C([C@H](O)C[C@]4(C)C3CC=C3C5CC(C)(C)CC[C@]5(C(=O)OC5OC(CO)C(O)C(O)C5OC5OCC(OC6OCC(OC7OCC(O)C(O)C7O)C(O)C6O)C(OC6OCC(O)(CO)C6O)C5O)CC[C@]34C)[C@]2(C)CO)C(O)C(O)C1O\n",
      "0.9978046103183315\n",
      "0.8769399523735046\n",
      "Query smile:\n",
      "O=C2C(OC1OC(CO)C(O)C(O)C1(O))=C(OC3=CC(O)=CC(O)=C23)C5=CC(O)=C(O)C(OC4OC(CO)C(O)C(O)C4(O))=C5\n",
      "O=C1C2=C(O)C=C(O)C=C2OC(C3=CC(O)=C(O)C(O)=C3)=C1O[C@@H]4O[C@H](CO[C@H]5[C@H](O)[C@H](O)[C@@H](O)[C@H](C)O5)[C@@H](O)[C@H](O)[C@H]4O\n",
      "0.9446064139941691\n",
      "0.8500945568084717\n",
      "Query smile:\n",
      "CC1CC[C@@]2(CC[C@]3(C(O)=O)\\C(=C/CC4[C@@]5(C)CC[C@H](OC6OC(C)C(O)C(OC7OC(CO)C(O)C(O)C7O)C6O)C(C)(C)C5CC[C@@]34C)C2C1C)C(O)=O\n",
      "CC1CCC2(C(=O)OC3OC(CO)C(O)C(O)C3O)CCC3(C(=O)O)C(=CCC4C5(C)CCC(OC6OC(C)C(O)C(O)C6O)C(C)(C)C5CCC43C)C2C1C\n",
      "0.8940774487471527\n",
      "0.8014947175979614\n",
      "Query smile:\n",
      "O=C(C=1C=CC=C(C1)NC(=O)COC2=CC=C(OC)C=C2)C3=CC=4C(OC)=C5OCOC5=C(Br)C4CCN3C\n",
      "O=C(OCC1OC(OC=2C(=O)C=3C(O)=CC(O)=CC3OC2C=4C=CC(O)=CC4)C(O)C(O)C1O)C=CC5=CC=C(O)C=C5\n",
      "0.5189801699716714\n",
      "0.8002766370773315\n",
      "Query smile:\n",
      "COc1cc([C@H]2Oc3cc([C@H]4Oc5cc(O)cc(O)c5C(=O)[C@@H]4O)ccc3O[C@@H]2CO)ccc1O\n",
      "COc(c(O)5)cc(cc5)C(O1)C(CO)Oc(c2)c(ccc2C(O3)C(O)C(=O)c(c(O)4)c(cc(O)c4)3)1\n",
      "0.9920564872021183\n",
      "0.8795545101165771\n",
      "Query smile:\n",
      "COc1cc(ccc1O)C2Oc3cc(ccc3OC2CO)C4Oc5cc(O)cc(O)c5C(=O)C4O\n",
      "COC1=C(O)C=CC(=C1)[C@@H]1OC2=C(C=C(C=C2O)[C@H]2OC3=CC(O)=CC(O)=C3C(=O)[C@@H]2O)[C@H]1CO\n",
      "0.7969924812030075\n",
      "0.8659611940383911\n",
      "Query smile:\n",
      "COC1=C(O)C=CC(=C1)[C@H]2OC3=C(O[C@@H]2CO)C=CC(=C3)[C@H]4OC5=C(C(=O)[C@@H]4O)C(O)=CC(O)=C5\n",
      "COc(c(O)5)cc(cc5)C(O1)C(CO)Oc(c2)c(ccc2C(O3)C(O)C(=O)c(c(O)4)c(cc(O)c4)3)1\n",
      "0.9920564872021183\n",
      "0.8165508508682251\n",
      "Query smile:\n",
      "COC1=C(C=CC(=C1)[C@@H]2[C@H](OC3=C(O2)C=C(C=C3)[C@@H]4[C@H](C(=O)C5=C(C=C(C=C5O4)O)O)O)CO)O\n",
      "COc(c(O)5)cc(cc5)C(O1)C(CO)Oc(c2)c(ccc2[C@@H](O3)[C@@H](O)C(=O)c(c(O)4)c(cc(O)c4)3)1\n",
      "0.9920564872021183\n",
      "0.8629696369171143\n",
      "Query smile:\n",
      "COc1cc(ccc1O)[C@H]2Oc3cc(ccc3O[C@@H]2CO)[C@H]4Oc5cc(O)cc(O)c5C(=O)[C@@H]4O\n",
      "COC1=C(O)C=CC(=C1)[C@@H]1OC2=C(C=C(C=C2O)[C@H]2OC3=CC(O)=CC(O)=C3C(=O)[C@@H]2O)[C@H]1CO\n",
      "0.7969924812030075\n",
      "0.8631666898727417\n",
      "Query smile:\n",
      "COc(c(O)5)cc(cc5)C(O1)C(CO)Oc(c4)c(cc(c4)C(O2)C(O)C(=O)c(c(O)3)c(cc(O)c3)2)1\n",
      "COc(c(O)5)cc(cc5)C(O1)C(CO)Oc(c2)c(ccc2[C@@H](O3)[C@@H](O)C(=O)c(c(O)4)c(cc(O)c4)3)1\n",
      "0.9920564872021183\n",
      "0.9956351518630981\n",
      "Query smile:\n",
      "O=C1C=2C(O)=CC(O)=CC2OC(C3=CC=C4OC(CO)C(OC4=C3)C5=CC=C(O)C(OC)=C5)C1O\n",
      "O=C1C=2C(O)=CC(O)=CC2OC(C3=CC=C4OC(C5=CC=C(OC)C(O)=C5)C(OC4=C3)CO)C1O\n",
      "0.9920564872021183\n",
      "0.8289960622787476\n",
      "Query smile:\n",
      "CC(CCC1(O)OC2CC3C4CCC5CC(O[C@@H]6O[C@H](CO)[C@@H](O)[C@H](O)[C@H]6O[C@@H]7OC[C@@H](O)[C@H](O)[C@H]7O)C(O)CC5(C)C4CCC3(C)C2C1C)CO[C@@H]8O[C@H](CO)[C@@H](O)[C@H](O)[C@H]8O\n",
      "CC(CCC1(O)OC2CC3C4CCC5CC(O[C@@H]6O[C@H](CO)[C@@H](O)[C@H](O)[C@H]6O[C@@H]7O[C@@H](C)[C@H](O)[C@@H](O)[C@H]7O)C(O)CC5(C)C4CCC3(C)C2C1C)CO[C@@H]8O[C@H](CO)[C@@H](O)[C@H](O)[C@H]8O\n",
      "1.0\n",
      "0.8221223950386047\n",
      "Query smile:\n",
      "CC1(C)O[C@@H]2C[C@H]3[C@@H]4CCC5=CC(=O)C=C[C@]5(C)[C@H]4[C@@H](O)C[C@]3(C)[C@@]2(O1)C(=O)CO\n",
      "C[C@H]1C[C@H]2[C@@H]3CC[C@](O)(C(=O)COC(=O)C)[C@@]3(C)C[C@H](O)[C@@H]2[C@@]4(C)C=CC(=O)C=C14\n",
      "0.6799580272822665\n",
      "0.8902196288108826\n",
      "Query smile:\n",
      "C1C(C=C2[C@](C=1)([C@]3([C@@](CC2)([C@]4([C@](C[C@H]3O)([C@@]5([C@@](C4)(OC(O5)(C)C)[H])C(CO)=O)C)[H])[H])[H])C)=O\n",
      "C[C@H]1C[C@H]2[C@@H]3CC[C@](O)(C(=O)COC(=O)C)[C@@]3(C)C[C@H](O)[C@@H]2[C@@]4(C)C=CC(=O)C=C14\n",
      "0.6799580272822665\n",
      "0.8831123113632202\n",
      "Query smile:\n",
      "CC(C)C(=O)OC1CC2C3(C)C(CC(OC(=O)C(C)C)C2(C)C45OC4CC(C6=COC=C6)C15C)C(C)(C)OC(=O)CC3OC(C)=O\n",
      "CC(C)(CCC(O)C(C)(O)C1CCC2(O)C3=CC(=O)C4CC(O)C(O)CC4(C)C3CCC12C)OC5OC(CO)C(O)C(O)C5O\n",
      "0.41738449490994517\n",
      "0.8549951314926147\n",
      "Query smile:\n",
      "CCCCCCCCCCCCCCCCOC[C@H](COP(=O)([O-])OCC[N+](C)(C)C)OC(=O)CCCCCCCC(=O)O\n",
      "CCCCCCCCCCCCCC/C=C/[C@H]([C@H](COP(=O)([O-])OCC[N+](C)(C)C)NC(=O)CCCCCCC/C=C\\CCCCCCC)O\n",
      "0.3456221198156682\n",
      "0.9617953300476074\n",
      "Query smile:\n",
      "CC1=C2C=C(CO)C(CO)CCC2(C)CCC1=O\n",
      "CC1=C2[C@H](/C=C(\\C)C(=O)O)CC[C@@H](C)[C@H]2[C@H](O)C1\n",
      "0.4688473520249221\n",
      "0.8410331010818481\n",
      "Query smile:\n",
      "CC/1=C2\\C=C(CO)/C(CO)CCC2(C)CCC1=O\n",
      "C[C@H]1[C@H](O)CC\\C2=C\\[C@@H](O)[C@@]3(O[C@@H]3[C@]12C)C(C)=C\n",
      "0.332624867162593\n",
      "0.9361544847488403\n",
      "Query smile:\n",
      "C[C@H](N1C(=O)N2CCc3c([nH]c4ccccc34)[C@@]2(C)C1=O)C(=O)NC5CCCC5\n",
      "C[C@H](N1C(=O)N2CCc3c([nH]c4ccccc34)[C@@]2(C)C1=O)C(=O)NCCc5ccccc5\n",
      "0.9855926653569089\n",
      "0.8775717616081238\n",
      "Query smile:\n",
      "CC/C=C\\C/C=C\\C/C=C\\CC1C(O1)C/C=C\\CCCC(=O)O\n",
      "CC/C=C\\CC1C(O1)C/C=C\\C/C=C\\C/C=C\\CCCC(=O)O\n",
      "1.0\n",
      "0.9747865200042725\n",
      "Query smile:\n",
      "C[C@H]1C[C@@]2(OC(C)=O)[C@]([C@@H](OC(C)=O)[C@@]([C@H](OC(C3=CC=CC=C3)=O)C=C[C@@H]4C(C)=C)(CO5)[C@]4([H])[C@]5(C)[C@@H]2OC(C6=CN=CC=C6)=O)([H])[C@H]1OC(C)=O\n",
      "C[C@H]1C[C@@]2(OC(C)=O)[C@]([C@@H](OC(C)=O)[C@@]([C@H](OC(C3=CC=CC=C3)=O)C=C[C@@H]4C(C)=C)(CO5)[C@]4([H])[C@]5(C)[C@@H]2OC(C6=CC=CC=C6)=O)([H])[C@H]1OC(C)=O\n",
      "0.9251439539347409\n",
      "0.8725241422653198\n",
      "Query smile:\n",
      "C[C@@H]1O[C@@H](O[C@H]2[C@H](OC(=O)[C@]34CCC(C)(C)C[C@H]3C3=CCC5[C@@]6(C)C[C@H](O)[C@H](O[C@@H]7O[C@H](CO)[C@@H](O[C@H]8OC[C@](O)(CO)[C@H]8O)[C@H](O)[C@H]7O)[C@@](C)(CO)C6[C@H](O)C[C@@]5(C)[C@]3(C)C[C@H]4O)OC[C@H](O)[C@@H]2O)[C@H](O)[C@H](O)[C@H]1O[C@@H]1OC[C@@H](O)[C@H](O[C@@H]2OC[C@](O)(CO)[C@H]2O)[C@H]1O\n",
      "CC1OC(OC2C(O[C@H]3OC[C@](O)(CO)[C@H]3O)COC(O[C@H]3[C@H](C)O[C@@H](OC4C(OC(=O)[C@]56CCC(C)(C)CC5C5=CCC7[C@@]8(C)C[C@H](O)[C@H](OC9OC(CO)C(O)C(O)C9O)[C@@](C)(CO)C8[C@H](O)C[C@@]7(C)[C@]5(C)CC6)OCC(O)C4O)[C@H](O)[C@@H]3O)C2O)C(O)C(O)C1O\n",
      "0.9619047619047619\n",
      "0.9035567045211792\n",
      "Query smile:\n",
      "C[C@@H]1O[C@@H](O[C@@H]2C=C3CC[C@@H]4C(CC[C@]5(C)[C@@H](c6ccc(=O)oc6)CC[C@]45O)[C@@]3(C)CC2)[C@H](O)[C@H](O)[C@H]1O\n",
      "C[C@@H]1[C@@H]2C(=O)O[C@@H]3[C@H](O)C4[C@](C)(O)C=C[C@@H](O[C@@H]5O[C@H](CO)[C@@H](O)[C@H](O)[C@H]5O)[C@]4(C)C([C@@H](O)[C@@H]1O)[C@@]32C\n",
      "0.5542763157894737\n",
      "0.8863581418991089\n",
      "Query smile:\n",
      "CCCCCC/C=C\\CCCCCCCc1cc(O)cc(O)c1\n",
      "CCCCCC/C=C\\CCCCCCCc1cccc(O)c1O\n",
      "0.6897689768976898\n",
      "0.9071558713912964\n",
      "Query smile:\n",
      "CC(C)(C=C)C12CC3N(C1NC4=C2C=CC=C4)C(=O)C5CC6(C(NC7=CC=CC=C67)N5C3=O)C(C)(C)C=C\n",
      "CC(C=C)(C)C1=C(C[C@@H]2NC([C@H](CC3=CN(C(C)(C)C=C)C4=C3C=CC=C4)NC2=O)=O)C5=CC=CC=C5N1\n",
      "0.5136707388016288\n",
      "0.9710065126419067\n",
      "Query smile:\n",
      "OC1CCC2(COC)CN(CC)C3C4C(OC)C2C13C5CC6C(O)C5C4(O)CC6OC\n",
      "OC1C2CC3C1C(O)(C(O)C2OC)C4C(OC)C5C6(COC)CN(CC)C4C35C(O)CC6\n",
      "0.9337016574585635\n",
      "0.8026746511459351\n",
      "Query smile:\n",
      "COC(=O)C12C(=O)C(C)(O)C(=O)C1(C)\\C(=C/C3C2(C)CCC4C(C)(C)C5CCC34C(=O)O5)C\n",
      "COC(=O)C12C(=C)C(C)(CC3C1(C)CCC4C(C)(C)OC(=O)\\C=C/C34C)C(=O)C(C)(O)C2=O\n",
      "0.7551867219917012\n",
      "0.809477686882019\n",
      "Query smile:\n",
      "C[C@H](N1C(=O)N2CCc3c([nH]c4ccccc34)[C@@]2(C)C1=O)C(=O)NCc5ccco5\n",
      "C[C@H](N1C(=O)N2CCc3c([nH]c4ccccc34)[C@@]2(C)C1=O)C(=O)NCC5CCCO5\n",
      "0.9544303797468354\n",
      "0.8193751573562622\n",
      "Query smile:\n",
      "OCC1OC(OC2CC3=CCC4C(CCC5(C)C4CC6OC7(OCC(C)CC7)C(C)C65)C3(C)CC2)C(OC8OC(C)C(O)C(O)C8O)C(OC9OCC(O)C(O)C9O)C1O\n",
      "O=C1C(OC2OC(C)C(O)C(O)C2OC3OC(C)C(O)C(O)C3O)=C(OC=4C1=C(O)C=C(OC5OC(CO)C(O)C(O)C5O)C4CC=C(C)C)C=6C=CC(O)=CC6\n",
      "0.40434520217260106\n",
      "0.8053375482559204\n",
      "Query smile:\n",
      "C[C@@H]1O[C@@H](O[C@@H]2[C@@H](O)[C@H](O)CO[C@H]2O[C@@H]3[C@@H](O)[C@H](O)[C@@H](CO)O[C@H]3O[C@H]4CC[C@@]5(C)C(CC[C@]6(C)C5C\\C=C/7[C@@H]8CC(C)(C)CC[C@@]8(CC[C@@]67C)C(O)=O)[C@]4(C)CO)[C@H](O)[C@H](O)[C@H]1O[C@@H]9OC[C@@H](O)[C@H](OC(C)=O)[C@H]9O\n",
      "C[C@@H]1O[C@@H](O[C@@H]2[C@@H](O)[C@@H](O)CO[C@@H]2OC(=O)[C@]34CCC(C)(C)CC3\\C5=C\\CC6[C@@]7(C)C[C@H](O)[C@H](O[C@@H]8O[C@@H]([C@@H](O)[C@H](O)[C@H]8O)C(O)=O)[C@](C)(C7CC[C@@]6(C)[C@]5(C)CC4)C(O)=O)[C@H](O)[C@H](O)[C@H]1O[C@@H]9OC[C@@H](O)[C@H](O)[C@H]9O\n",
      "0.7952917093142272\n",
      "0.8729866743087769\n",
      "Query smile:\n",
      "O=C(C1=C2C3(CC(Br)C(C(Br)=C3)=O)C=CN1)C4=C5C2=[NH+]CCC5=CN4\n",
      "O=C(C1=C2C3(C=C(Br)C(C(Br)=C3)=O)CCN1)C4=C5C2=[NH+]CCC5=CN4\n",
      "0.9186800235710076\n",
      "0.9031954407691956\n",
      "Query smile:\n",
      "CCCCCCCCCCCCCCCC(=O)OC[C@@H](COC(=O)CCCCCCCCC/C=C\\CCCCCCCC)OC(=O)CCCCCCCCCCCCCCC\n",
      "CCCCCCCCCCCCCCCCCC(=O)O[C@H](COC(=O)CCCCCCCCCCCCCCC)COC(=O)CCCCCCC/C=C\\CCCCCCCC\n",
      "1.0\n",
      "1.0756287574768066\n",
      "Query smile:\n",
      "CCC=CCC1=C(CCCCC(CCC(=O)O)OC(C)=O)CCC1=O\n",
      "CC(CCC1(C)C(C)CCC2(C)C(C(=O)O)=CC(=O)CC21)CC(=O)O\n",
      "0.3132137030995106\n",
      "0.8692613840103149\n",
      "Query smile:\n",
      "CCCCCCCCCCCCCCCC(=O)OC[C@H](CO[C@H]1C(C([C@H]([C@H](O1)CO[C@@H]2C(C([C@H]([C@H](O2)CO)O)O)O)O)O)O)OC(=O)CCCCCCCCCCCCCCC\n",
      "CCCCCCCCCCCCCCCC(=O)OC[C@H](CO)OC(=O)CCCCCCC/C=C\\C/C=C\\CCCCC\n",
      "0.4110169491525424\n",
      "0.8383186459541321\n",
      "Query smile:\n",
      "CCCCc1cc(=O)oc2cc(C)cc(OCC(=O)NC(Cc3ccc(Cl)cc3)C(=O)O)c12\n",
      "CCCc1cc(=O)oc2cc(C)cc(OCC(=O)N3CCC(CC3)C(=O)O)c12\n",
      "0.7846441947565543\n",
      "0.8106285333633423\n",
      "Query smile:\n",
      "CC1=CC=C(C=C1)C(=O)C1=CC=CC=C1\n",
      "O=C(CC1=CC=CC=C1)C1=CC=CC=C1\n",
      "0.24113475177304963\n",
      "0.8634233474731445\n",
      "Query smile:\n",
      "CCCCCCCCCCCCCC(=O)OCC(COC(=O)CC/C=C\\C/C=C\\C/C=C\\CCCCCCC)OC(=O)CC/C=C\\CCCCCCCCCCC\n",
      "CCCCCCCCCCCCCCCCCCCC(=O)OC[C@H](COC(=O)CCCCCCCCCCCCCCCCC)OC(=O)CCCCCCC/C=C\\C/C=C\\CCCCC\n",
      "0.9011857707509882\n",
      "0.9237397909164429\n",
      "Query smile:\n",
      "CC12C(=O)C(=C(C=C1Oc1c2c(O)c(C)c(O)c1C(=O)C)O)C(=O)C\n",
      "Cc1c(c(C(=O)C)c(c2c1OC1=CC(=C(C(=O)C21C)C(=O)C)O)O)O\n",
      "0.9858585858585859\n",
      "0.9016063213348389\n",
      "Query smile:\n",
      "O=C1OC(CC(C(O)C)C1C)C(O)(C)C2CCC3(O)C4=CC(=O)C5CC(O)C(O)CC5(C)C4CCC23C\n",
      "O=C1OC(C)C(CC(O)C(O)(C)C2CCC3(O)C4=CC(=O)C5CC(O)C(O)CC5(C)C4CCC23C)C1C\n",
      "0.8833535844471446\n",
      "0.8942927122116089\n",
      "Query smile:\n",
      "CC1=CC(C2=C(C=C3C(C(OC)=CC(C3=O)=O)=C2OC)O1)=O\n",
      "COC1=C(O)C2=C(OC=C(C2=O)C2=CC=C(O)C=C2)C=C1O\n",
      "0.4249834765366821\n",
      "0.8007928133010864\n",
      "Query smile:\n",
      "Cc1cc(=O)c2c(cc3c(C(=CC(=O)C3=O)OC)c2OC)o1\n",
      "Cc1cc(c2c(c1)C(=O)c1c(C2=O)c(ccc1)O)O\n",
      "0.27946127946127947\n",
      "0.8638896942138672\n",
      "Query smile:\n",
      "COC1=C(O[C@@H]2O[C@@H]([C@@H](O)[C@H](O)[C@H]2O)C(O)=O)C=C3OC(=CC(=O)C3=C1O)C4=CC=CC=C4\n",
      "COC1=C2OC(=CC(=O)C2=C(O)C=C1O[C@@H]3O[C@H](CO)[C@@H](O)[C@H](O)[C@H]3O)C4=CC=CC=C4\n",
      "0.854875283446712\n",
      "0.8127718567848206\n",
      "Query smile:\n",
      "COC1=C(C=C2C(=C1O)C(=O)C=C(O2)C3=CC=CC=C3)OC4C(C(C(C(O4)C(=O)O)O)O)O\n",
      "COC1=C(C=C(C2=C1OC(=CC2=O)C3=CC=CC=C3)O)OC4C(C(C(C(O4)C(=O)O)O)O)O\n",
      "0.9145880574452003\n",
      "0.8467651605606079\n",
      "Query smile:\n",
      "CN(C)CC/C=C/1\\c2ccccc2COc3ccccc13.Cl\n",
      "CN(C)CCC=C1C2=CC=CC=C2COC3=CC=CC=C31\n",
      "1.0\n",
      "0.9108659029006958\n",
      "Query smile:\n",
      "O=C(COc1ccc2c3CCCc3c(=O)oc2c1)N4C[C@H]5C[C@@H](C4)c6cccc(=O)n6C5\n",
      "Cc1c(OCC(=O)N2C[C@H]3C[C@@H](C2)c4cccc(=O)n4C3)ccc5c6CCCCc6c(=O)oc15\n",
      "0.9360852197070573\n",
      "0.9036693572998047\n",
      "Query smile:\n",
      "CC(=O)O[C@@H]1C[C@H](O)[C@@]23CO[C@H](O)[C@]1(C)C2C[C@@H](O)[C@]4(C)C3C(=O)[C@H](OC(C)=O)[C@@]5(C)[C@@H](C[C@H]6O[C@@]456)C7=COC=C7\n",
      "COC(=O)C[C@H]1C(C)(C)[C@H](OC(=O)C2=CC=CC=C2)C3CC/4=C/5CC(=O)O[C@@H](C6=COC=C6)[C@]5(C)CCC4[C@@]1(C)C3=O\n",
      "0.5105960264900662\n",
      "0.9531632661819458\n",
      "Query smile:\n",
      "COc1cc(-c2cc(=O)c3c(O[C@@H]4O[C@H](CO)[C@@H](O)[C@H](O)[C@H]4O)cc(O)cc3o2)cc(OC)c1O\n",
      "OC1=C(C(C(OC)=C(C2=CC(O)=C(OC)C(OC)=C2)O3)=O)C3=CC(O)=C1OC\n",
      "0.6644144144144144\n",
      "0.8091979026794434\n",
      "Query smile:\n",
      "COC1=CC(=CC(OC)=C1O)C2=CC(=O)C3=C(O[C@@H]4O[C@H](CO)[C@@H](O)[C@H](O)[C@H]4O)C=C(O)C=C3O2\n",
      "COC1=C(O)C=CC(=C1)C2=C(OC3OC(C(O)C(O)C3O)C(O)=O)C(=O)C4=C(O)C=C(O)C=C4O2\n",
      "0.7793296089385475\n",
      "0.8524206876754761\n",
      "Query smile:\n",
      "Cc1c(OCC(=O)N2CCC(CC2)C(=O)O)ccc3c4CCCc4c(=O)oc13\n",
      "Cc1cc(OCC(=O)N2CCC(CC2)C(=O)O)c3c4CCCc4c(=O)oc3c1\n",
      "0.8212520593080724\n",
      "0.9280859231948853\n",
      "Query smile:\n",
      "COc1c(O)cc(-c2oc3cc(O)cc(O)c3c(=O)c2O[C@@H]2O[C@@H](C)[C@H](O)[C@@H](O)[C@H]2O)cc1O\n",
      "COC1=CC(O)=C2C(=O)C(OC3OC(CO)C(O)C(O)C3O)=C(OC2=C1)C4=CC(O)=C(O)C=C4\n",
      "0.9771689497716894\n",
      "0.8647471070289612\n",
      "Query smile:\n",
      "COC1=C(O)C=C(C=C1O)C2=C(O[C@@H]3O[C@@H](C)[C@H](O)[C@@H](O)[C@H]3O)C(=O)C4=C(O2)C=C(O)C=C4O\n",
      "COC1=C(O)C=C(C=C1O)C2=C(O[C@@H]3O[C@@H](C)[C@H](OC(C)=O)[C@@H](O)[C@H]3O)C(=O)C4=C(O2)C=C(O)C=C4O\n",
      "0.9607698001480385\n",
      "0.8840246796607971\n",
      "Query smile:\n",
      "C[C@H]([C@H]([C@@H]([C@@H]1O)O)O)O[C@@H]1OC1=C(c(cc2O)cc(O)c2OC)Oc(cc(cc2O)O)c2C1=O\n",
      "C[C@@H]1O[C@@H](OC2=C(OC3=CC(O)=CC(O)=C3C2=O)C4=CC=C(O)C=C4)[C@H](O[C@@H]5O[C@H](CO)[C@@H](O)[C@H](O)[C@H]5O)[C@H](O)[C@H]1O\n",
      "0.925351071692535\n",
      "0.8758056163787842\n",
      "Query smile:\n",
      "C(O)(C1)C(C(C=CC(C)=CC=CC(=CC=CC=C(C)C=CC=C(C=CC(=C2C)C(C(O)CC2)(C)C)C)C)=C(C1)C)(C)C\n",
      "C(C(=C2C)C(CCC(O)2)(C)C)=CC(=CC=CC(=CC=CC=C(C)C=CC=C(C)C=CC(=C1C)C(CCC(O)1)(C)C)C)C\n",
      "0.6703786191536748\n",
      "0.9142307043075562\n",
      "Query smile:\n",
      "O=C(NC=1C=CC=2N=C(O)C3N(C(=O)C2C1)CCC3)CCN4C=CC=5C(OC)=CC=CC54\n",
      "O=C1C=C(OC2=CC(OC3OC(CO)C(O)C(O)C3O)=C(O)C(O)=C12)C=4C=CC=CC4\n",
      "0.43550295857988164\n",
      "0.8118927478790283\n",
      "Query smile:\n",
      "CCCCCCCCCCCCCCC(=O)OC[C@H](COP(=O)([O-])OCC[N+](C)(C)C)OC(=O)CCCCCCCCCCC/C=C\\C/C=C\\CCCCC\n",
      "CCCCCCCCCCCCCCCCCCCCCCC(=O)N[C@@H](COP(=O)([O-])OCC[N+](C)(C)C)[C@@H](/C=C/CCCCCCCCCCCCC)O\n",
      "0.3664688427299703\n",
      "0.945831298828125\n",
      "Query smile:\n",
      "CCCCC/C=C\\C/C=C\\CCCCCCCC(=O)OC[C@@H](COC(=O)CC/C=C\\C/C=C\\C/C=C\\C/C=C\\C/C=C\\C/C=C\\CC)OC(=O)CCCCCCC/C=C\\C/C=C\\CCCCC\n",
      "CCCCCC/C=C\\CCCCCCCC(=O)OC[C@@H](COC(=O)CC/C=C\\C/C=C\\C/C=C\\C/C=C\\C/C=C\\C/C=C\\CC)OC(=O)CCCCCCC/C=C\\C/C=C\\CCCCC\n",
      "1.0\n",
      "0.9243584871292114\n",
      "Query smile:\n",
      "COc1ccc(/C=C/C(=O)/C=C/c2ccc(OC)cc2)cc1\n",
      "Cc1coc2c1C(=O)C(=O)c1c-2ccc2c1CCCC2(C)C\n",
      "0.12287480680061824\n",
      "0.8445456027984619\n"
     ]
    }
   ],
   "source": [
    "from ms2query.query_from_sqlite_database import get_metadata_from_sqlite\n",
    "results = load_pickled_file(\"../downloads/gnps_210409/train_ms2query_model/results_with_match_all_scores_test_spectra_dropout_reg.pickle\")\n",
    "\n",
    "tanimoto_scores = load_pickled_file(tanimoto_scores_df_file)\n",
    "\n",
    "\n",
    "query_smiles = {}\n",
    "for query_spectrum in test_spectra_without_match:\n",
    "    query_spectrum_id = query_spectrum.get(\"spectrum_id\")\n",
    "    best_result = results[query_spectrum_id].iloc[0]\n",
    "    if best_result[\"ms2query_model_prediction\"] > 0.8:\n",
    "        best_analog = best_result.name\n",
    "        query_spectrum_smiles = query_spectrum.get(\"smiles\")\n",
    "        query_spectrum_inchikey = query_spectrum.get(\"inchikey\")[:14]\n",
    "        \n",
    "        analog_metadata = get_metadata_from_sqlite(sqlite_file, [best_analog])[best_analog]\n",
    "        analog_smiles = analog_metadata[\"smiles\"]\n",
    "        analog_inchikey = analog_metadata[\"inchikey\"][:14]\n",
    "        \n",
    "        tanimoto_score = tanimoto_scores.loc[query_spectrum_inchikey, analog_inchikey]\n",
    "        \n",
    "        query_smiles[query_spectrum_smiles] = (analog_smiles, tanimoto_score, best_result[\"ms2query_model_prediction\"])\n",
    "\n",
    "for query_smile in query_smiles:\n",
    "    print(\"Query smile:\")\n",
    "    print(query_smile)\n",
    "    print(query_smiles[query_smile][0])\n",
    "    print(query_smiles[query_smile][1])\n",
    "    print(query_smiles[query_smile][2])\n"
   ]
  },
  {
   "cell_type": "code",
   "execution_count": null,
   "metadata": {},
   "outputs": [],
   "source": []
  }
 ],
 "metadata": {
  "kernelspec": {
   "display_name": "Python 3",
   "language": "python",
   "name": "python3"
  },
  "language_info": {
   "codemirror_mode": {
    "name": "ipython",
    "version": 3
   },
   "file_extension": ".py",
   "mimetype": "text/x-python",
   "name": "python",
   "nbconvert_exporter": "python",
   "pygments_lexer": "ipython3",
   "version": "3.8.5"
  }
 },
 "nbformat": 4,
 "nbformat_minor": 4
}
