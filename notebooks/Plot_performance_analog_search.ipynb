{
 "cells": [
  {
   "cell_type": "markdown",
   "metadata": {},
   "source": [
    "# Test quality of matches"
   ]
  },
  {
   "cell_type": "markdown",
   "metadata": {},
   "source": [
    "Import files"
   ]
  },
  {
   "cell_type": "code",
   "execution_count": 5,
   "metadata": {},
   "outputs": [],
   "source": [
    "from ms2query.ms2library import MS2Library\n",
    "\n",
    "\n",
    "validation_spectra_file = \"../downloads/gnps_210409/spectra/ALL_GNPS_210409_val_split.pickle\"\n",
    "tanimoto_scores_df_file = \"../downloads/gnps_210409/ALL_GNPS_210409_positive_tanimoto_scores.pickle\"\n",
    "\n",
    "\n",
    "sqlite_file =  \"../downloads/gnps_210409/spectra/ALL_GNPS_210409_train_split.sqlite\"\n",
    "\n",
    "# Models\n",
    "s2v_model_file = \"../downloads/gnps_210409/models/ALL_GNPS_210409_Spec2Vec_ms2query.model\"\n",
    "ms2ds_model_file = \"../downloads/gnps_210409/models/ms2ds_20210420-141937_data210409_10k_500_500_200.hdf5\"\n",
    "\n",
    "# Embeddings\n",
    "s2v_embeddings_file =  \"../downloads/gnps_210409/embeddings/s2v_embeddings_train_spectra_210426.pickle\"\n",
    "ms2ds_embeddings_file =  \"../downloads/gnps_210409/embeddings/ms2ds_embeddings_train_spectra_210426.pickle\"\n"
   ]
  },
  {
   "cell_type": "markdown",
   "metadata": {},
   "source": [
    "### Split validation spectra into spectra with library matches and spectra without library matches\n",
    "The validation spectra contain 2299 spectra (of 250 inchikeys) that do not have any match in the library and 2000 spectra that have at least one match in the library. "
   ]
  },
  {
   "cell_type": "code",
   "execution_count": 3,
   "metadata": {},
   "outputs": [],
   "source": [
    "from ms2query.utils import load_pickled_file\n",
    "\n",
    "validation_spectra = load_pickled_file(validation_spectra_file)\n",
    "validation_spectra_without_match = validation_spectra[:2299]\n",
    "# validation_spectra_with_match = validation_spectra[2299:]"
   ]
  },
  {
   "cell_type": "markdown",
   "metadata": {},
   "source": [
    "Get matches for validation spectra without match"
   ]
  },
  {
   "cell_type": "code",
   "execution_count": 5,
   "metadata": {},
   "outputs": [
    {
     "name": "stdout",
     "output_type": "stream",
     "text": [
      "Calculating all MS2DS scores\n"
     ]
    },
    {
     "name": "stderr",
     "output_type": "stream",
     "text": [
      "collecting matches info:   0%|▎                                                                                                                                | 5/2299 [00:14<1:27:55,  2.30s/it]"
     ]
    },
    {
     "name": "stdout",
     "output_type": "stream",
     "text": [
      "Found 1 word(s) missing in the model. Weighted missing percentage not covered by the given model is 1.01%.\n"
     ]
    },
    {
     "name": "stderr",
     "output_type": "stream",
     "text": [
      "collecting matches info:   1%|▋                                                                                                                               | 13/2299 [00:28<1:10:05,  1.84s/it]"
     ]
    },
    {
     "name": "stdout",
     "output_type": "stream",
     "text": [
      "Found 2 word(s) missing in the model. Weighted missing percentage not covered by the given model is 3.57%.\n"
     ]
    },
    {
     "name": "stderr",
     "output_type": "stream",
     "text": [
      "collecting matches info:   3%|███▊                                                                                                                            | 68/2299 [02:08<1:08:02,  1.83s/it]"
     ]
    },
    {
     "name": "stdout",
     "output_type": "stream",
     "text": [
      "Found 1 word(s) missing in the model. Weighted missing percentage not covered by the given model is 0.33%.\n"
     ]
    },
    {
     "name": "stderr",
     "output_type": "stream",
     "text": [
      "collecting matches info:   3%|███▉                                                                                                                            | 70/2299 [02:12<1:07:30,  1.82s/it]"
     ]
    },
    {
     "name": "stdout",
     "output_type": "stream",
     "text": [
      "Found 1 word(s) missing in the model. Weighted missing percentage not covered by the given model is 1.32%.\n"
     ]
    },
    {
     "name": "stderr",
     "output_type": "stream",
     "text": [
      "collecting matches info:   3%|████▎                                                                                                                           | 77/2299 [02:25<1:07:29,  1.82s/it]"
     ]
    },
    {
     "name": "stdout",
     "output_type": "stream",
     "text": [
      "Found 1 word(s) missing in the model. Weighted missing percentage not covered by the given model is 0.59%.\n"
     ]
    },
    {
     "name": "stderr",
     "output_type": "stream",
     "text": [
      "\r",
      "collecting matches info:   3%|████▎                                                                                                                           | 78/2299 [02:27<1:07:19,  1.82s/it]"
     ]
    },
    {
     "name": "stdout",
     "output_type": "stream",
     "text": [
      "Found 1 word(s) missing in the model. Weighted missing percentage not covered by the given model is 0.44%.\n"
     ]
    },
    {
     "name": "stderr",
     "output_type": "stream",
     "text": [
      "collecting matches info:   4%|█████▏                                                                                                                          | 93/2299 [02:53<1:06:06,  1.80s/it]"
     ]
    },
    {
     "name": "stdout",
     "output_type": "stream",
     "text": [
      "Found 1 word(s) missing in the model. Weighted missing percentage not covered by the given model is 0.87%.\n"
     ]
    },
    {
     "name": "stderr",
     "output_type": "stream",
     "text": [
      "collecting matches info:   4%|█████▋                                                                                                                         | 102/2299 [03:10<1:06:47,  1.82s/it]"
     ]
    },
    {
     "name": "stdout",
     "output_type": "stream",
     "text": [
      "Found 1 word(s) missing in the model. Weighted missing percentage not covered by the given model is 0.53%.\n"
     ]
    },
    {
     "name": "stderr",
     "output_type": "stream",
     "text": [
      "\r",
      "collecting matches info:   4%|█████▋                                                                                                                         | 103/2299 [03:12<1:06:30,  1.82s/it]"
     ]
    },
    {
     "name": "stdout",
     "output_type": "stream",
     "text": [
      "Found 1 word(s) missing in the model. Weighted missing percentage not covered by the given model is 1.10%.\n"
     ]
    },
    {
     "name": "stderr",
     "output_type": "stream",
     "text": [
      "collecting matches info:   5%|█████▊                                                                                                                         | 105/2299 [03:15<1:05:48,  1.80s/it]"
     ]
    },
    {
     "name": "stdout",
     "output_type": "stream",
     "text": [
      "Found 1 word(s) missing in the model. Weighted missing percentage not covered by the given model is 1.11%.\n"
     ]
    },
    {
     "name": "stderr",
     "output_type": "stream",
     "text": [
      "collecting matches info:   6%|███████▍                                                                                                                       | 135/2299 [04:09<1:04:32,  1.79s/it]"
     ]
    },
    {
     "name": "stdout",
     "output_type": "stream",
     "text": [
      "Found 5 word(s) missing in the model. Weighted missing percentage not covered by the given model is 8.47%.\n"
     ]
    },
    {
     "name": "stderr",
     "output_type": "stream",
     "text": [
      "collecting matches info:   6%|████████                                                                                                                       | 146/2299 [04:29<1:03:55,  1.78s/it]"
     ]
    },
    {
     "name": "stdout",
     "output_type": "stream",
     "text": [
      "Found 1 word(s) missing in the model. Weighted missing percentage not covered by the given model is 0.43%.\n"
     ]
    },
    {
     "name": "stderr",
     "output_type": "stream",
     "text": [
      "\r",
      "collecting matches info:   6%|████████                                                                                                                       | 147/2299 [04:30<1:04:18,  1.79s/it]"
     ]
    },
    {
     "name": "stdout",
     "output_type": "stream",
     "text": [
      "Found 1 word(s) missing in the model. Weighted missing percentage not covered by the given model is 0.45%.\n"
     ]
    },
    {
     "name": "stderr",
     "output_type": "stream",
     "text": [
      "collecting matches info:   7%|█████████▏                                                                                                                     | 167/2299 [05:07<1:04:07,  1.80s/it]"
     ]
    },
    {
     "name": "stdout",
     "output_type": "stream",
     "text": [
      "Found 1 word(s) missing in the model. Weighted missing percentage not covered by the given model is 0.58%.\n"
     ]
    },
    {
     "name": "stderr",
     "output_type": "stream",
     "text": [
      "\r",
      "collecting matches info:   7%|█████████▎                                                                                                                     | 168/2299 [05:08<1:04:10,  1.81s/it]"
     ]
    },
    {
     "name": "stdout",
     "output_type": "stream",
     "text": [
      "Found 1 word(s) missing in the model. Weighted missing percentage not covered by the given model is 0.28%.\n"
     ]
    },
    {
     "name": "stderr",
     "output_type": "stream",
     "text": [
      "collecting matches info:   7%|█████████▍                                                                                                                     | 171/2299 [05:14<1:03:51,  1.80s/it]"
     ]
    },
    {
     "name": "stdout",
     "output_type": "stream",
     "text": [
      "Found 3 word(s) missing in the model. Weighted missing percentage not covered by the given model is 1.47%.\n"
     ]
    },
    {
     "name": "stderr",
     "output_type": "stream",
     "text": [
      "collecting matches info:   9%|███████████▍                                                                                                                   | 207/2299 [06:19<1:03:59,  1.84s/it]"
     ]
    },
    {
     "name": "stdout",
     "output_type": "stream",
     "text": [
      "Found 1 word(s) missing in the model. Weighted missing percentage not covered by the given model is 1.39%.\n"
     ]
    },
    {
     "name": "stderr",
     "output_type": "stream",
     "text": [
      "collecting matches info:   9%|███████████▊                                                                                                                   | 213/2299 [06:31<1:07:02,  1.93s/it]"
     ]
    },
    {
     "name": "stdout",
     "output_type": "stream",
     "text": [
      "Found 1 word(s) missing in the model. Weighted missing percentage not covered by the given model is 0.24%.\n"
     ]
    },
    {
     "name": "stderr",
     "output_type": "stream",
     "text": [
      "collecting matches info:   9%|███████████▉                                                                                                                   | 217/2299 [06:38<1:03:22,  1.83s/it]"
     ]
    },
    {
     "name": "stdout",
     "output_type": "stream",
     "text": [
      "Found 1 word(s) missing in the model. Weighted missing percentage not covered by the given model is 0.59%.\n"
     ]
    },
    {
     "name": "stderr",
     "output_type": "stream",
     "text": [
      "collecting matches info:  10%|████████████▋                                                                                                                  | 229/2299 [06:59<1:01:44,  1.79s/it]"
     ]
    },
    {
     "name": "stdout",
     "output_type": "stream",
     "text": [
      "Found 1 word(s) missing in the model. Weighted missing percentage not covered by the given model is 1.92%.\n"
     ]
    },
    {
     "name": "stderr",
     "output_type": "stream",
     "text": [
      "collecting matches info:  12%|███████████████▋                                                                                                               | 284/2299 [22:27<2:13:17,  3.97s/it]"
     ]
    },
    {
     "name": "stdout",
     "output_type": "stream",
     "text": [
      "Found 3 word(s) missing in the model. Weighted missing percentage not covered by the given model is 2.48%.\n"
     ]
    },
    {
     "name": "stderr",
     "output_type": "stream",
     "text": [
      "\r",
      "collecting matches info:  12%|███████████████▋                                                                                                               | 285/2299 [22:29<1:51:12,  3.31s/it]"
     ]
    },
    {
     "name": "stdout",
     "output_type": "stream",
     "text": [
      "Found 12 word(s) missing in the model. Weighted missing percentage not covered by the given model is 7.36%.\n"
     ]
    },
    {
     "name": "stderr",
     "output_type": "stream",
     "text": [
      "collecting matches info:  12%|███████████████▊                                                                                                               | 287/2299 [22:33<1:24:52,  2.53s/it]"
     ]
    },
    {
     "name": "stdout",
     "output_type": "stream",
     "text": [
      "Found 1 word(s) missing in the model. Weighted missing percentage not covered by the given model is 6.67%.\n"
     ]
    },
    {
     "name": "stderr",
     "output_type": "stream",
     "text": [
      "\r",
      "collecting matches info:  13%|███████████████▉                                                                                                               | 288/2299 [22:34<1:17:13,  2.30s/it]"
     ]
    },
    {
     "name": "stdout",
     "output_type": "stream",
     "text": [
      "Found 6 word(s) missing in the model. Weighted missing percentage not covered by the given model is 4.80%.\n"
     ]
    },
    {
     "name": "stderr",
     "output_type": "stream",
     "text": [
      "\r",
      "collecting matches info:  13%|███████████████▉                                                                                                               | 289/2299 [22:36<1:12:01,  2.15s/it]"
     ]
    },
    {
     "name": "stdout",
     "output_type": "stream",
     "text": [
      "Found 8 word(s) missing in the model. Weighted missing percentage not covered by the given model is 5.16%.\n"
     ]
    },
    {
     "name": "stderr",
     "output_type": "stream",
     "text": [
      "collecting matches info:  13%|████████████████▎                                                                                                              | 295/2299 [22:47<1:01:21,  1.84s/it]"
     ]
    },
    {
     "name": "stdout",
     "output_type": "stream",
     "text": [
      "Found 2 word(s) missing in the model. Weighted missing percentage not covered by the given model is 6.06%.\n"
     ]
    },
    {
     "name": "stderr",
     "output_type": "stream",
     "text": [
      "collecting matches info:  13%|████████████████▍                                                                                                              | 297/2299 [22:51<1:00:16,  1.81s/it]"
     ]
    },
    {
     "name": "stdout",
     "output_type": "stream",
     "text": [
      "Found 1 word(s) missing in the model. Weighted missing percentage not covered by the given model is 4.35%.\n"
     ]
    },
    {
     "name": "stderr",
     "output_type": "stream",
     "text": [
      "collecting matches info:  13%|████████████████▊                                                                                                              | 305/2299 [23:09<1:19:11,  2.38s/it]"
     ]
    },
    {
     "name": "stdout",
     "output_type": "stream",
     "text": [
      "Found 1 word(s) missing in the model. Weighted missing percentage not covered by the given model is 4.55%.\n"
     ]
    },
    {
     "name": "stderr",
     "output_type": "stream",
     "text": [
      "collecting matches info:  14%|█████████████████▌                                                                                                             | 317/2299 [23:35<1:04:34,  1.95s/it]"
     ]
    },
    {
     "name": "stdout",
     "output_type": "stream",
     "text": [
      "Found 1 word(s) missing in the model. Weighted missing percentage not covered by the given model is 0.61%.\n"
     ]
    },
    {
     "name": "stderr",
     "output_type": "stream",
     "text": [
      "\r",
      "collecting matches info:  14%|█████████████████▌                                                                                                             | 318/2299 [23:37<1:02:34,  1.90s/it]"
     ]
    },
    {
     "name": "stdout",
     "output_type": "stream",
     "text": [
      "Found 1 word(s) missing in the model. Weighted missing percentage not covered by the given model is 0.61%.\n"
     ]
    },
    {
     "name": "stderr",
     "output_type": "stream",
     "text": [
      "\r",
      "collecting matches info:  14%|█████████████████▌                                                                                                             | 319/2299 [23:38<1:01:34,  1.87s/it]"
     ]
    },
    {
     "name": "stdout",
     "output_type": "stream",
     "text": [
      "Found 1 word(s) missing in the model. Weighted missing percentage not covered by the given model is 0.48%.\n"
     ]
    },
    {
     "name": "stderr",
     "output_type": "stream",
     "text": [
      "collecting matches info:  15%|███████████████████▌                                                                                                             | 349/2299 [24:34<58:56,  1.81s/it]"
     ]
    },
    {
     "name": "stdout",
     "output_type": "stream",
     "text": [
      "Found 6 word(s) missing in the model. Weighted missing percentage not covered by the given model is 2.63%.\n"
     ]
    },
    {
     "name": "stderr",
     "output_type": "stream",
     "text": [
      "\r",
      "collecting matches info:  15%|███████████████████▋                                                                                                             | 350/2299 [24:35<59:10,  1.82s/it]"
     ]
    },
    {
     "name": "stdout",
     "output_type": "stream",
     "text": [
      "Found 13 word(s) missing in the model. Weighted missing percentage not covered by the given model is 6.22%.\n"
     ]
    },
    {
     "name": "stderr",
     "output_type": "stream",
     "text": [
      "collecting matches info:  15%|███████████████████▍                                                                                                           | 352/2299 [24:39<1:00:40,  1.87s/it]"
     ]
    },
    {
     "name": "stdout",
     "output_type": "stream",
     "text": [
      "Found 7 word(s) missing in the model. Weighted missing percentage not covered by the given model is 3.11%.\n"
     ]
    },
    {
     "name": "stderr",
     "output_type": "stream",
     "text": [
      "\r",
      "collecting matches info:  15%|███████████████████▌                                                                                                           | 353/2299 [24:41<1:00:23,  1.86s/it]"
     ]
    },
    {
     "name": "stdout",
     "output_type": "stream",
     "text": [
      "Found 15 word(s) missing in the model. Weighted missing percentage not covered by the given model is 7.04%.\n"
     ]
    },
    {
     "name": "stderr",
     "output_type": "stream",
     "text": [
      "collecting matches info:  16%|███████████████████▋                                                                                                           | 357/2299 [24:49<1:00:01,  1.85s/it]"
     ]
    },
    {
     "name": "stdout",
     "output_type": "stream",
     "text": [
      "Found 11 word(s) missing in the model. Weighted missing percentage not covered by the given model is 4.93%.\n"
     ]
    },
    {
     "name": "stderr",
     "output_type": "stream",
     "text": [
      "\r",
      "collecting matches info:  16%|████████████████████                                                                                                             | 358/2299 [24:50<59:46,  1.85s/it]"
     ]
    },
    {
     "name": "stdout",
     "output_type": "stream",
     "text": [
      "Found 17 word(s) missing in the model. Weighted missing percentage not covered by the given model is 8.06%.\n"
     ]
    },
    {
     "name": "stderr",
     "output_type": "stream",
     "text": [
      "collecting matches info:  16%|████████████████████▎                                                                                                            | 362/2299 [24:58<59:04,  1.83s/it]"
     ]
    },
    {
     "name": "stdout",
     "output_type": "stream",
     "text": [
      "Found 6 word(s) missing in the model. Weighted missing percentage not covered by the given model is 2.80%.\n"
     ]
    },
    {
     "name": "stderr",
     "output_type": "stream",
     "text": [
      "\r",
      "collecting matches info:  16%|████████████████████▎                                                                                                            | 363/2299 [25:00<59:27,  1.84s/it]"
     ]
    },
    {
     "name": "stdout",
     "output_type": "stream",
     "text": [
      "Found 15 word(s) missing in the model. Weighted missing percentage not covered by the given model is 7.28%.\n"
     ]
    },
    {
     "name": "stderr",
     "output_type": "stream",
     "text": [
      "collecting matches info:  16%|████████████████████▌                                                                                                            | 366/2299 [25:05<59:24,  1.84s/it]"
     ]
    },
    {
     "name": "stdout",
     "output_type": "stream",
     "text": [
      "Found 7 word(s) missing in the model. Weighted missing percentage not covered by the given model is 4.22%.\n"
     ]
    },
    {
     "name": "stderr",
     "output_type": "stream",
     "text": [
      "\r",
      "collecting matches info:  16%|████████████████████▌                                                                                                            | 367/2299 [25:07<59:07,  1.84s/it]"
     ]
    },
    {
     "name": "stdout",
     "output_type": "stream",
     "text": [
      "Found 10 word(s) missing in the model. Weighted missing percentage not covered by the given model is 5.08%.\n"
     ]
    },
    {
     "name": "stderr",
     "output_type": "stream",
     "text": [
      "\r",
      "collecting matches info:  16%|████████████████████▋                                                                                                            | 368/2299 [25:09<59:07,  1.84s/it]"
     ]
    },
    {
     "name": "stdout",
     "output_type": "stream",
     "text": [
      "Found 1 word(s) missing in the model. Weighted missing percentage not covered by the given model is 5.88%.\n"
     ]
    },
    {
     "name": "stderr",
     "output_type": "stream",
     "text": [
      "\r",
      "collecting matches info:  16%|████████████████████▋                                                                                                            | 369/2299 [25:11<58:52,  1.83s/it]"
     ]
    },
    {
     "name": "stdout",
     "output_type": "stream",
     "text": [
      "Found 1 word(s) missing in the model. Weighted missing percentage not covered by the given model is 5.00%.\n"
     ]
    },
    {
     "name": "stderr",
     "output_type": "stream",
     "text": [
      "\r",
      "collecting matches info:  16%|████████████████████▊                                                                                                            | 370/2299 [25:12<58:46,  1.83s/it]"
     ]
    },
    {
     "name": "stdout",
     "output_type": "stream",
     "text": [
      "Found 8 word(s) missing in the model. Weighted missing percentage not covered by the given model is 4.68%.\n"
     ]
    },
    {
     "name": "stderr",
     "output_type": "stream",
     "text": [
      "\r",
      "collecting matches info:  16%|████████████████████▊                                                                                                            | 371/2299 [25:14<58:53,  1.83s/it]"
     ]
    },
    {
     "name": "stdout",
     "output_type": "stream",
     "text": [
      "Found 6 word(s) missing in the model. Weighted missing percentage not covered by the given model is 3.24%.\n"
     ]
    },
    {
     "name": "stderr",
     "output_type": "stream",
     "text": [
      "\r",
      "collecting matches info:  16%|████████████████████▊                                                                                                            | 372/2299 [25:16<58:43,  1.83s/it]"
     ]
    },
    {
     "name": "stdout",
     "output_type": "stream",
     "text": [
      "Found 1 word(s) missing in the model. Weighted missing percentage not covered by the given model is 6.25%.\n"
     ]
    },
    {
     "name": "stderr",
     "output_type": "stream",
     "text": [
      "\r",
      "collecting matches info:  16%|████████████████████▉                                                                                                            | 373/2299 [25:18<58:44,  1.83s/it]"
     ]
    },
    {
     "name": "stdout",
     "output_type": "stream",
     "text": [
      "Found 1 word(s) missing in the model. Weighted missing percentage not covered by the given model is 5.26%.\n"
     ]
    },
    {
     "name": "stderr",
     "output_type": "stream",
     "text": [
      "collecting matches info:  17%|█████████████████████▋                                                                                                           | 386/2299 [25:42<59:48,  1.88s/it]"
     ]
    },
    {
     "name": "stdout",
     "output_type": "stream",
     "text": [
      "Found 1 word(s) missing in the model. Weighted missing percentage not covered by the given model is 2.08%.\n"
     ]
    },
    {
     "name": "stderr",
     "output_type": "stream",
     "text": [
      "collecting matches info:  17%|█████████████████████▍                                                                                                         | 389/2299 [25:50<1:18:23,  2.46s/it]"
     ]
    },
    {
     "name": "stdout",
     "output_type": "stream",
     "text": [
      "Found 2 word(s) missing in the model. Weighted missing percentage not covered by the given model is 0.65%.\n"
     ]
    },
    {
     "name": "stderr",
     "output_type": "stream",
     "text": [
      "collecting matches info:  18%|██████████████████████▋                                                                                                          | 404/2299 [26:19<59:03,  1.87s/it]"
     ]
    },
    {
     "name": "stdout",
     "output_type": "stream",
     "text": [
      "Found 1 word(s) missing in the model. Weighted missing percentage not covered by the given model is 0.89%.\n"
     ]
    },
    {
     "name": "stderr",
     "output_type": "stream",
     "text": [
      "collecting matches info:  18%|██████████████████████▊                                                                                                        | 414/2299 [26:45<1:58:29,  3.77s/it]"
     ]
    },
    {
     "name": "stdout",
     "output_type": "stream",
     "text": [
      "Found 2 word(s) missing in the model. Weighted missing percentage not covered by the given model is 1.18%.\n"
     ]
    },
    {
     "name": "stderr",
     "output_type": "stream",
     "text": [
      "collecting matches info:  18%|██████████████████████▉                                                                                                        | 416/2299 [26:55<2:22:47,  4.55s/it]"
     ]
    },
    {
     "name": "stdout",
     "output_type": "stream",
     "text": [
      "Found 1 word(s) missing in the model. Weighted missing percentage not covered by the given model is 0.63%.\n"
     ]
    },
    {
     "name": "stderr",
     "output_type": "stream",
     "text": [
      "collecting matches info:  18%|███████████████████████▍                                                                                                       | 424/2299 [27:38<2:45:02,  5.28s/it]"
     ]
    },
    {
     "name": "stdout",
     "output_type": "stream",
     "text": [
      "Found 2 word(s) missing in the model. Weighted missing percentage not covered by the given model is 0.47%.\n"
     ]
    },
    {
     "name": "stderr",
     "output_type": "stream",
     "text": [
      "collecting matches info:  19%|███████████████████████▌                                                                                                       | 426/2299 [27:49<2:44:46,  5.28s/it]"
     ]
    },
    {
     "name": "stdout",
     "output_type": "stream",
     "text": [
      "Found 6 word(s) missing in the model. Weighted missing percentage not covered by the given model is 1.57%.\n"
     ]
    },
    {
     "name": "stderr",
     "output_type": "stream",
     "text": [
      "collecting matches info:  19%|███████████████████████▋                                                                                                       | 428/2299 [27:59<2:45:56,  5.32s/it]"
     ]
    },
    {
     "name": "stdout",
     "output_type": "stream",
     "text": [
      "Found 5 word(s) missing in the model. Weighted missing percentage not covered by the given model is 1.30%.\n"
     ]
    },
    {
     "name": "stderr",
     "output_type": "stream",
     "text": [
      "collecting matches info:  19%|███████████████████████▊                                                                                                       | 430/2299 [28:10<2:45:22,  5.31s/it]"
     ]
    },
    {
     "name": "stdout",
     "output_type": "stream",
     "text": [
      "Found 1 word(s) missing in the model. Weighted missing percentage not covered by the given model is 0.52%.\n"
     ]
    },
    {
     "name": "stderr",
     "output_type": "stream",
     "text": [
      "collecting matches info:  20%|██████████████████████████▏                                                                                                      | 466/2299 [30:06<57:33,  1.88s/it]"
     ]
    },
    {
     "name": "stdout",
     "output_type": "stream",
     "text": [
      "Found 1 word(s) missing in the model. Weighted missing percentage not covered by the given model is 0.19%.\n"
     ]
    },
    {
     "name": "stderr",
     "output_type": "stream",
     "text": [
      "\r",
      "collecting matches info:  20%|██████████████████████████▏                                                                                                      | 467/2299 [30:08<56:56,  1.86s/it]"
     ]
    },
    {
     "name": "stdout",
     "output_type": "stream",
     "text": [
      "Found 1 word(s) missing in the model. Weighted missing percentage not covered by the given model is 0.51%.\n"
     ]
    },
    {
     "name": "stderr",
     "output_type": "stream",
     "text": [
      "collecting matches info:  21%|██████████████████████████▌                                                                                                      | 473/2299 [30:19<55:54,  1.84s/it]"
     ]
    },
    {
     "name": "stdout",
     "output_type": "stream",
     "text": [
      "Found 3 word(s) missing in the model. Weighted missing percentage not covered by the given model is 1.03%.\n"
     ]
    },
    {
     "name": "stderr",
     "output_type": "stream",
     "text": [
      "\r",
      "collecting matches info:  21%|██████████████████████████▌                                                                                                      | 474/2299 [30:21<56:16,  1.85s/it]"
     ]
    },
    {
     "name": "stdout",
     "output_type": "stream",
     "text": [
      "Found 1 word(s) missing in the model. Weighted missing percentage not covered by the given model is 0.36%.\n"
     ]
    },
    {
     "name": "stderr",
     "output_type": "stream",
     "text": [
      "collecting matches info:  21%|███████████████████████████                                                                                                      | 482/2299 [30:36<56:27,  1.86s/it]"
     ]
    },
    {
     "name": "stdout",
     "output_type": "stream",
     "text": [
      "Found 1 word(s) missing in the model. Weighted missing percentage not covered by the given model is 2.63%.\n"
     ]
    },
    {
     "name": "stderr",
     "output_type": "stream",
     "text": [
      "collecting matches info:  21%|███████████████████████████▏                                                                                                     | 484/2299 [30:39<57:12,  1.89s/it]"
     ]
    },
    {
     "name": "stdout",
     "output_type": "stream",
     "text": [
      "Found 1 word(s) missing in the model. Weighted missing percentage not covered by the given model is 4.17%.\n"
     ]
    },
    {
     "name": "stderr",
     "output_type": "stream",
     "text": [
      "collecting matches info:  21%|███████████████████████████▎                                                                                                     | 486/2299 [30:43<57:14,  1.89s/it]"
     ]
    },
    {
     "name": "stdout",
     "output_type": "stream",
     "text": [
      "Found 11 word(s) missing in the model. Weighted missing percentage not covered by the given model is 11.58%.\n"
     ]
    },
    {
     "name": "stderr",
     "output_type": "stream",
     "text": [
      "\r",
      "collecting matches info:  21%|███████████████████████████▎                                                                                                     | 487/2299 [30:45<57:29,  1.90s/it]"
     ]
    },
    {
     "name": "stdout",
     "output_type": "stream",
     "text": [
      "Found 9 word(s) missing in the model. Weighted missing percentage not covered by the given model is 4.79%.\n"
     ]
    },
    {
     "name": "stderr",
     "output_type": "stream",
     "text": [
      "\r",
      "collecting matches info:  21%|███████████████████████████▍                                                                                                     | 488/2299 [30:47<57:58,  1.92s/it]"
     ]
    },
    {
     "name": "stdout",
     "output_type": "stream",
     "text": [
      "Found 2 word(s) missing in the model. Weighted missing percentage not covered by the given model is 0.34%.\n"
     ]
    },
    {
     "name": "stderr",
     "output_type": "stream",
     "text": [
      "\r",
      "collecting matches info:  21%|███████████████████████████▍                                                                                                     | 489/2299 [30:49<58:25,  1.94s/it]"
     ]
    },
    {
     "name": "stdout",
     "output_type": "stream",
     "text": [
      "Found 9 word(s) missing in the model. Weighted missing percentage not covered by the given model is 10.23%.\n"
     ]
    },
    {
     "name": "stderr",
     "output_type": "stream",
     "text": [
      "\r",
      "collecting matches info:  21%|███████████████████████████▍                                                                                                     | 490/2299 [30:51<57:56,  1.92s/it]"
     ]
    },
    {
     "name": "stdout",
     "output_type": "stream",
     "text": [
      "Found 10 word(s) missing in the model. Weighted missing percentage not covered by the given model is 5.13%.\n"
     ]
    },
    {
     "name": "stderr",
     "output_type": "stream",
     "text": [
      "\r",
      "collecting matches info:  21%|███████████████████████████▌                                                                                                     | 491/2299 [30:53<57:54,  1.92s/it]"
     ]
    },
    {
     "name": "stdout",
     "output_type": "stream",
     "text": [
      "Found 3 word(s) missing in the model. Weighted missing percentage not covered by the given model is 0.52%.\n"
     ]
    },
    {
     "name": "stderr",
     "output_type": "stream",
     "text": [
      "\r",
      "collecting matches info:  21%|███████████████████████████▌                                                                                                     | 492/2299 [30:55<58:26,  1.94s/it]"
     ]
    },
    {
     "name": "stdout",
     "output_type": "stream",
     "text": [
      "Found 7 word(s) missing in the model. Weighted missing percentage not covered by the given model is 7.07%.\n"
     ]
    },
    {
     "name": "stderr",
     "output_type": "stream",
     "text": [
      "\r",
      "collecting matches info:  21%|███████████████████████████▋                                                                                                     | 493/2299 [30:57<57:56,  1.93s/it]"
     ]
    },
    {
     "name": "stdout",
     "output_type": "stream",
     "text": [
      "Found 10 word(s) missing in the model. Weighted missing percentage not covered by the given model is 5.13%.\n"
     ]
    },
    {
     "name": "stderr",
     "output_type": "stream",
     "text": [
      "\r",
      "collecting matches info:  21%|███████████████████████████▋                                                                                                     | 494/2299 [30:59<57:59,  1.93s/it]"
     ]
    },
    {
     "name": "stdout",
     "output_type": "stream",
     "text": [
      "Found 4 word(s) missing in the model. Weighted missing percentage not covered by the given model is 0.68%.\n"
     ]
    },
    {
     "name": "stderr",
     "output_type": "stream",
     "text": [
      "collecting matches info:  22%|███████████████████████████▉                                                                                                     | 499/2299 [31:08<57:00,  1.90s/it]"
     ]
    },
    {
     "name": "stdout",
     "output_type": "stream",
     "text": [
      "Found 1 word(s) missing in the model. Weighted missing percentage not covered by the given model is 0.39%.\n"
     ]
    },
    {
     "name": "stderr",
     "output_type": "stream",
     "text": [
      "collecting matches info:  22%|████████████████████████████▎                                                                                                    | 505/2299 [31:20<56:24,  1.89s/it]"
     ]
    },
    {
     "name": "stdout",
     "output_type": "stream",
     "text": [
      "Found 1 word(s) missing in the model. Weighted missing percentage not covered by the given model is 0.72%.\n"
     ]
    },
    {
     "name": "stderr",
     "output_type": "stream",
     "text": [
      "collecting matches info:  22%|████████████████████████████▋                                                                                                    | 512/2299 [31:33<56:36,  1.90s/it]"
     ]
    },
    {
     "name": "stdout",
     "output_type": "stream",
     "text": [
      "Found 2 word(s) missing in the model. Weighted missing percentage not covered by the given model is 0.78%.\n"
     ]
    },
    {
     "name": "stderr",
     "output_type": "stream",
     "text": [
      "\r",
      "collecting matches info:  22%|████████████████████████████▊                                                                                                    | 513/2299 [31:35<57:06,  1.92s/it]"
     ]
    },
    {
     "name": "stdout",
     "output_type": "stream",
     "text": [
      "Found 2 word(s) missing in the model. Weighted missing percentage not covered by the given model is 0.75%.\n"
     ]
    },
    {
     "name": "stderr",
     "output_type": "stream",
     "text": [
      "collecting matches info:  22%|█████████████████████████████                                                                                                    | 517/2299 [31:43<57:08,  1.92s/it]"
     ]
    },
    {
     "name": "stdout",
     "output_type": "stream",
     "text": [
      "Found 2 word(s) missing in the model. Weighted missing percentage not covered by the given model is 0.93%.\n"
     ]
    },
    {
     "name": "stderr",
     "output_type": "stream",
     "text": [
      "collecting matches info:  25%|███████████████████████████████▋                                                                                                 | 565/2299 [33:14<54:12,  1.88s/it]"
     ]
    },
    {
     "name": "stdout",
     "output_type": "stream",
     "text": [
      "Found 1 word(s) missing in the model. Weighted missing percentage not covered by the given model is 0.79%.\n"
     ]
    },
    {
     "name": "stderr",
     "output_type": "stream",
     "text": [
      "\r",
      "collecting matches info:  25%|███████████████████████████████▊                                                                                                 | 566/2299 [33:16<54:46,  1.90s/it]"
     ]
    },
    {
     "name": "stdout",
     "output_type": "stream",
     "text": [
      "Found 2 word(s) missing in the model. Weighted missing percentage not covered by the given model is 1.69%.\n"
     ]
    },
    {
     "name": "stderr",
     "output_type": "stream",
     "text": [
      "\r",
      "collecting matches info:  25%|███████████████████████████████▊                                                                                                 | 567/2299 [33:17<54:44,  1.90s/it]"
     ]
    },
    {
     "name": "stdout",
     "output_type": "stream",
     "text": [
      "Found 1 word(s) missing in the model. Weighted missing percentage not covered by the given model is 0.66%.\n"
     ]
    },
    {
     "name": "stderr",
     "output_type": "stream",
     "text": [
      "collecting matches info:  25%|████████████████████████████████                                                                                                 | 571/2299 [33:25<55:37,  1.93s/it]"
     ]
    },
    {
     "name": "stdout",
     "output_type": "stream",
     "text": [
      "Found 1 word(s) missing in the model. Weighted missing percentage not covered by the given model is 0.56%.\n"
     ]
    },
    {
     "name": "stderr",
     "output_type": "stream",
     "text": [
      "collecting matches info:  25%|████████████████████████████████▎                                                                                                | 576/2299 [33:35<54:08,  1.89s/it]"
     ]
    },
    {
     "name": "stdout",
     "output_type": "stream",
     "text": [
      "Found 1 word(s) missing in the model. Weighted missing percentage not covered by the given model is 0.90%.\n"
     ]
    },
    {
     "name": "stderr",
     "output_type": "stream",
     "text": [
      "collecting matches info:  25%|████████████████████████████████▉                                                                                                | 586/2299 [33:53<53:36,  1.88s/it]"
     ]
    },
    {
     "name": "stdout",
     "output_type": "stream",
     "text": [
      "Found 2 word(s) missing in the model. Weighted missing percentage not covered by the given model is 0.77%.\n"
     ]
    },
    {
     "name": "stderr",
     "output_type": "stream",
     "text": [
      "collecting matches info:  26%|█████████████████████████████████▌                                                                                               | 598/2299 [34:15<51:54,  1.83s/it]"
     ]
    },
    {
     "name": "stdout",
     "output_type": "stream",
     "text": [
      "Found 1 word(s) missing in the model. Weighted missing percentage not covered by the given model is 0.69%.\n"
     ]
    },
    {
     "name": "stderr",
     "output_type": "stream",
     "text": [
      "\r",
      "collecting matches info:  26%|█████████████████████████████████▌                                                                                               | 599/2299 [34:17<51:46,  1.83s/it]"
     ]
    },
    {
     "name": "stdout",
     "output_type": "stream",
     "text": [
      "Found 1 word(s) missing in the model. Weighted missing percentage not covered by the given model is 0.88%.\n"
     ]
    },
    {
     "name": "stderr",
     "output_type": "stream",
     "text": [
      "collecting matches info:  26%|██████████████████████████████████                                                                                               | 608/2299 [34:34<52:20,  1.86s/it]"
     ]
    },
    {
     "name": "stdout",
     "output_type": "stream",
     "text": [
      "Found 1 word(s) missing in the model. Weighted missing percentage not covered by the given model is 1.06%.\n"
     ]
    },
    {
     "name": "stderr",
     "output_type": "stream",
     "text": [
      "collecting matches info:  27%|██████████████████████████████████▌                                                                                              | 617/2299 [34:51<51:33,  1.84s/it]"
     ]
    },
    {
     "name": "stdout",
     "output_type": "stream",
     "text": [
      "Found 1 word(s) missing in the model. Weighted missing percentage not covered by the given model is 1.85%.\n"
     ]
    },
    {
     "name": "stderr",
     "output_type": "stream",
     "text": [
      "collecting matches info:  27%|██████████████████████████████████▊                                                                                              | 620/2299 [34:56<51:54,  1.85s/it]"
     ]
    },
    {
     "name": "stdout",
     "output_type": "stream",
     "text": [
      "Found 2 word(s) missing in the model. Weighted missing percentage not covered by the given model is 1.82%.\n"
     ]
    },
    {
     "name": "stderr",
     "output_type": "stream",
     "text": [
      "collecting matches info:  27%|██████████████████████████████████▉                                                                                              | 623/2299 [35:02<52:21,  1.87s/it]"
     ]
    },
    {
     "name": "stdout",
     "output_type": "stream",
     "text": [
      "Found 1 word(s) missing in the model. Weighted missing percentage not covered by the given model is 0.80%.\n"
     ]
    },
    {
     "name": "stderr",
     "output_type": "stream",
     "text": [
      "collecting matches info:  27%|███████████████████████████████████▎                                                                                             | 630/2299 [35:15<53:05,  1.91s/it]"
     ]
    },
    {
     "name": "stdout",
     "output_type": "stream",
     "text": [
      "Found 1 word(s) missing in the model. Weighted missing percentage not covered by the given model is 0.97%.\n"
     ]
    },
    {
     "name": "stderr",
     "output_type": "stream",
     "text": [
      "collecting matches info:  27%|███████████████████████████████████▍                                                                                             | 632/2299 [35:19<52:37,  1.89s/it]"
     ]
    },
    {
     "name": "stdout",
     "output_type": "stream",
     "text": [
      "Found 1 word(s) missing in the model. Weighted missing percentage not covered by the given model is 0.80%.\n"
     ]
    },
    {
     "name": "stderr",
     "output_type": "stream",
     "text": [
      "collecting matches info:  28%|████████████████████████████████████▏                                                                                            | 644/2299 [35:42<52:41,  1.91s/it]"
     ]
    },
    {
     "name": "stdout",
     "output_type": "stream",
     "text": [
      "Found 1 word(s) missing in the model. Weighted missing percentage not covered by the given model is 0.78%.\n"
     ]
    },
    {
     "name": "stderr",
     "output_type": "stream",
     "text": [
      "collecting matches info:  28%|████████████████████████████████████▏                                                                                            | 646/2299 [35:46<53:05,  1.93s/it]"
     ]
    },
    {
     "name": "stdout",
     "output_type": "stream",
     "text": [
      "Found 1 word(s) missing in the model. Weighted missing percentage not covered by the given model is 0.64%.\n"
     ]
    },
    {
     "name": "stderr",
     "output_type": "stream",
     "text": [
      "collecting matches info:  29%|████████████████████████████████████▉                                                                                            | 658/2299 [36:08<51:11,  1.87s/it]"
     ]
    },
    {
     "name": "stdout",
     "output_type": "stream",
     "text": [
      "Found 1 word(s) missing in the model. Weighted missing percentage not covered by the given model is 0.97%.\n"
     ]
    },
    {
     "name": "stderr",
     "output_type": "stream",
     "text": [
      "collecting matches info:  29%|█████████████████████████████████████                                                                                            | 660/2299 [36:12<50:41,  1.86s/it]"
     ]
    },
    {
     "name": "stdout",
     "output_type": "stream",
     "text": [
      "Found 1 word(s) missing in the model. Weighted missing percentage not covered by the given model is 0.94%.\n"
     ]
    },
    {
     "name": "stderr",
     "output_type": "stream",
     "text": [
      "collecting matches info:  29%|█████████████████████████████████████▏                                                                                           | 663/2299 [36:18<51:17,  1.88s/it]"
     ]
    },
    {
     "name": "stdout",
     "output_type": "stream",
     "text": [
      "Found 1 word(s) missing in the model. Weighted missing percentage not covered by the given model is 0.79%.\n"
     ]
    },
    {
     "name": "stderr",
     "output_type": "stream",
     "text": [
      "collecting matches info:  29%|█████████████████████████████████████▍                                                                                           | 668/2299 [36:27<50:55,  1.87s/it]"
     ]
    },
    {
     "name": "stdout",
     "output_type": "stream",
     "text": [
      "Found 1 word(s) missing in the model. Weighted missing percentage not covered by the given model is 4.35%.\n"
     ]
    },
    {
     "name": "stderr",
     "output_type": "stream",
     "text": [
      "collecting matches info:  29%|█████████████████████████████████████▊                                                                                           | 673/2299 [36:36<49:48,  1.84s/it]"
     ]
    },
    {
     "name": "stdout",
     "output_type": "stream",
     "text": [
      "Found 1 word(s) missing in the model. Weighted missing percentage not covered by the given model is 5.88%.\n"
     ]
    },
    {
     "name": "stderr",
     "output_type": "stream",
     "text": [
      "collecting matches info:  29%|█████████████████████████████████████▉                                                                                           | 677/2299 [36:44<51:49,  1.92s/it]"
     ]
    },
    {
     "name": "stdout",
     "output_type": "stream",
     "text": [
      "Found 1 word(s) missing in the model. Weighted missing percentage not covered by the given model is 0.64%.\n"
     ]
    },
    {
     "name": "stderr",
     "output_type": "stream",
     "text": [
      "collecting matches info:  30%|██████████████████████████████████████▎                                                                                          | 682/2299 [36:53<50:09,  1.86s/it]"
     ]
    },
    {
     "name": "stdout",
     "output_type": "stream",
     "text": [
      "Found 1 word(s) missing in the model. Weighted missing percentage not covered by the given model is 5.00%.\n"
     ]
    },
    {
     "name": "stderr",
     "output_type": "stream",
     "text": [
      "collecting matches info:  30%|██████████████████████████████████████▍                                                                                          | 684/2299 [36:57<51:32,  1.91s/it]"
     ]
    },
    {
     "name": "stdout",
     "output_type": "stream",
     "text": [
      "Found 1 word(s) missing in the model. Weighted missing percentage not covered by the given model is 5.88%.\n"
     ]
    },
    {
     "name": "stderr",
     "output_type": "stream",
     "text": [
      "collecting matches info:  30%|██████████████████████████████████████▌                                                                                          | 687/2299 [37:03<51:07,  1.90s/it]"
     ]
    },
    {
     "name": "stdout",
     "output_type": "stream",
     "text": [
      "Found 1 word(s) missing in the model. Weighted missing percentage not covered by the given model is 1.08%.\n"
     ]
    },
    {
     "name": "stderr",
     "output_type": "stream",
     "text": [
      "collecting matches info:  30%|██████████████████████████████████████▊                                                                                          | 692/2299 [37:12<50:32,  1.89s/it]"
     ]
    },
    {
     "name": "stdout",
     "output_type": "stream",
     "text": [
      "Found 1 word(s) missing in the model. Weighted missing percentage not covered by the given model is 0.83%.\n"
     ]
    },
    {
     "name": "stderr",
     "output_type": "stream",
     "text": [
      "collecting matches info:  30%|███████████████████████████████████████                                                                                          | 696/2299 [37:20<50:10,  1.88s/it]"
     ]
    },
    {
     "name": "stdout",
     "output_type": "stream",
     "text": [
      "Found 2 word(s) missing in the model. Weighted missing percentage not covered by the given model is 9.09%.\n"
     ]
    },
    {
     "name": "stderr",
     "output_type": "stream",
     "text": [
      "collecting matches info:  31%|███████████████████████████████████████▍                                                                                         | 702/2299 [37:31<50:28,  1.90s/it]"
     ]
    },
    {
     "name": "stdout",
     "output_type": "stream",
     "text": [
      "Found 1 word(s) missing in the model. Weighted missing percentage not covered by the given model is 1.67%.\n"
     ]
    },
    {
     "name": "stderr",
     "output_type": "stream",
     "text": [
      "collecting matches info:  31%|███████████████████████████████████████▌                                                                                         | 706/2299 [37:39<50:03,  1.89s/it]"
     ]
    },
    {
     "name": "stdout",
     "output_type": "stream",
     "text": [
      "Found 1 word(s) missing in the model. Weighted missing percentage not covered by the given model is 4.76%.\n"
     ]
    },
    {
     "name": "stderr",
     "output_type": "stream",
     "text": [
      "collecting matches info:  31%|███████████████████████████████████████▊                                                                                         | 709/2299 [37:44<50:17,  1.90s/it]"
     ]
    },
    {
     "name": "stdout",
     "output_type": "stream",
     "text": [
      "Found 1 word(s) missing in the model. Weighted missing percentage not covered by the given model is 0.82%.\n"
     ]
    },
    {
     "name": "stderr",
     "output_type": "stream",
     "text": [
      "collecting matches info:  31%|████████████████████████████████████████▎                                                                                        | 719/2299 [38:03<49:39,  1.89s/it]"
     ]
    },
    {
     "name": "stdout",
     "output_type": "stream",
     "text": [
      "Found 1 word(s) missing in the model. Weighted missing percentage not covered by the given model is 0.93%.\n"
     ]
    },
    {
     "name": "stderr",
     "output_type": "stream",
     "text": [
      "collecting matches info:  33%|██████████████████████████████████████████▉                                                                                      | 766/2299 [39:32<47:42,  1.87s/it]"
     ]
    },
    {
     "name": "stdout",
     "output_type": "stream",
     "text": [
      "Found 2 word(s) missing in the model. Weighted missing percentage not covered by the given model is 1.82%.\n"
     ]
    },
    {
     "name": "stderr",
     "output_type": "stream",
     "text": [
      "collecting matches info:  33%|███████████████████████████████████████████                                                                                      | 768/2299 [39:36<47:36,  1.87s/it]"
     ]
    },
    {
     "name": "stdout",
     "output_type": "stream",
     "text": [
      "Found 1 word(s) missing in the model. Weighted missing percentage not covered by the given model is 2.78%.\n"
     ]
    },
    {
     "name": "stderr",
     "output_type": "stream",
     "text": [
      "collecting matches info:  34%|███████████████████████████████████████████▎                                                                                     | 772/2299 [39:44<49:31,  1.95s/it]"
     ]
    },
    {
     "name": "stdout",
     "output_type": "stream",
     "text": [
      "Found 1 word(s) missing in the model. Weighted missing percentage not covered by the given model is 1.00%.\n"
     ]
    },
    {
     "name": "stderr",
     "output_type": "stream",
     "text": [
      "collecting matches info:  34%|███████████████████████████████████████████▌                                                                                     | 776/2299 [39:51<48:30,  1.91s/it]"
     ]
    },
    {
     "name": "stdout",
     "output_type": "stream",
     "text": [
      "Found 1 word(s) missing in the model. Weighted missing percentage not covered by the given model is 0.51%.\n"
     ]
    },
    {
     "name": "stderr",
     "output_type": "stream",
     "text": [
      "collecting matches info:  34%|███████████████████████████████████████████▋                                                                                     | 779/2299 [39:57<47:31,  1.88s/it]"
     ]
    },
    {
     "name": "stdout",
     "output_type": "stream",
     "text": [
      "Found 1 word(s) missing in the model. Weighted missing percentage not covered by the given model is 1.49%.\n"
     ]
    },
    {
     "name": "stderr",
     "output_type": "stream",
     "text": [
      "collecting matches info:  34%|███████████████████████████████████████████▉                                                                                     | 783/2299 [40:04<46:53,  1.86s/it]"
     ]
    },
    {
     "name": "stdout",
     "output_type": "stream",
     "text": [
      "Found 1 word(s) missing in the model. Weighted missing percentage not covered by the given model is 1.15%.\n"
     ]
    },
    {
     "name": "stderr",
     "output_type": "stream",
     "text": [
      "\r",
      "collecting matches info:  34%|███████████████████████████████████████████▉                                                                                     | 784/2299 [40:06<46:53,  1.86s/it]"
     ]
    },
    {
     "name": "stdout",
     "output_type": "stream",
     "text": [
      "Found 1 word(s) missing in the model. Weighted missing percentage not covered by the given model is 1.96%.\n"
     ]
    },
    {
     "name": "stderr",
     "output_type": "stream",
     "text": [
      "\r",
      "collecting matches info:  34%|████████████████████████████████████████████                                                                                     | 785/2299 [40:08<46:58,  1.86s/it]"
     ]
    },
    {
     "name": "stdout",
     "output_type": "stream",
     "text": [
      "Found 1 word(s) missing in the model. Weighted missing percentage not covered by the given model is 4.55%.\n"
     ]
    },
    {
     "name": "stderr",
     "output_type": "stream",
     "text": [
      "\r",
      "collecting matches info:  34%|████████████████████████████████████████████                                                                                     | 786/2299 [40:10<47:09,  1.87s/it]"
     ]
    },
    {
     "name": "stdout",
     "output_type": "stream",
     "text": [
      "Found 3 word(s) missing in the model. Weighted missing percentage not covered by the given model is 4.69%.\n"
     ]
    },
    {
     "name": "stderr",
     "output_type": "stream",
     "text": [
      "collecting matches info:  34%|████████████████████████████████████████████▍                                                                                    | 791/2299 [40:19<47:09,  1.88s/it]"
     ]
    },
    {
     "name": "stdout",
     "output_type": "stream",
     "text": [
      "Found 1 word(s) missing in the model. Weighted missing percentage not covered by the given model is 1.82%.\n"
     ]
    },
    {
     "name": "stderr",
     "output_type": "stream",
     "text": [
      "collecting matches info:  35%|████████████████████████████████████████████▋                                                                                    | 797/2299 [40:31<47:18,  1.89s/it]"
     ]
    },
    {
     "name": "stdout",
     "output_type": "stream",
     "text": [
      "Found 3 word(s) missing in the model. Weighted missing percentage not covered by the given model is 2.33%.\n"
     ]
    },
    {
     "name": "stderr",
     "output_type": "stream",
     "text": [
      "collecting matches info:  35%|█████████████████████████████████████████████▎                                                                                   | 807/2299 [40:49<47:17,  1.90s/it]"
     ]
    },
    {
     "name": "stdout",
     "output_type": "stream",
     "text": [
      "Found 1 word(s) missing in the model. Weighted missing percentage not covered by the given model is 4.55%.\n"
     ]
    },
    {
     "name": "stderr",
     "output_type": "stream",
     "text": [
      "collecting matches info:  35%|█████████████████████████████████████████████▋                                                                                   | 814/2299 [41:04<52:55,  2.14s/it]"
     ]
    },
    {
     "name": "stdout",
     "output_type": "stream",
     "text": [
      "Found 1 word(s) missing in the model. Weighted missing percentage not covered by the given model is 7.14%.\n"
     ]
    },
    {
     "name": "stderr",
     "output_type": "stream",
     "text": [
      "\r",
      "collecting matches info:  35%|█████████████████████████████████████████████▋                                                                                   | 815/2299 [41:06<50:32,  2.04s/it]"
     ]
    },
    {
     "name": "stdout",
     "output_type": "stream",
     "text": [
      "Found 1 word(s) missing in the model. Weighted missing percentage not covered by the given model is 1.45%.\n"
     ]
    },
    {
     "name": "stderr",
     "output_type": "stream",
     "text": [
      "\r",
      "collecting matches info:  35%|█████████████████████████████████████████████▊                                                                                   | 816/2299 [41:08<48:42,  1.97s/it]"
     ]
    },
    {
     "name": "stdout",
     "output_type": "stream",
     "text": [
      "Found 3 word(s) missing in the model. Weighted missing percentage not covered by the given model is 2.52%.\n"
     ]
    },
    {
     "name": "stderr",
     "output_type": "stream",
     "text": [
      "collecting matches info:  36%|█████████████████████████████████████████████▉                                                                                   | 819/2299 [41:14<46:30,  1.89s/it]"
     ]
    },
    {
     "name": "stdout",
     "output_type": "stream",
     "text": [
      "Found 1 word(s) missing in the model. Weighted missing percentage not covered by the given model is 3.23%.\n"
     ]
    },
    {
     "name": "stderr",
     "output_type": "stream",
     "text": [
      "collecting matches info:  36%|██████████████████████████████████████████████                                                                                   | 821/2299 [41:17<45:34,  1.85s/it]"
     ]
    },
    {
     "name": "stdout",
     "output_type": "stream",
     "text": [
      "Found 2 word(s) missing in the model. Weighted missing percentage not covered by the given model is 1.89%.\n"
     ]
    },
    {
     "name": "stderr",
     "output_type": "stream",
     "text": [
      "collecting matches info:  36%|██████████████████████████████████████████████▎                                                                                  | 825/2299 [41:24<44:47,  1.82s/it]"
     ]
    },
    {
     "name": "stdout",
     "output_type": "stream",
     "text": [
      "Found 1 word(s) missing in the model. Weighted missing percentage not covered by the given model is 7.69%.\n"
     ]
    },
    {
     "name": "stderr",
     "output_type": "stream",
     "text": [
      "\r",
      "collecting matches info:  36%|██████████████████████████████████████████████▎                                                                                  | 826/2299 [41:26<45:10,  1.84s/it]"
     ]
    },
    {
     "name": "stdout",
     "output_type": "stream",
     "text": [
      "Found 2 word(s) missing in the model. Weighted missing percentage not covered by the given model is 1.90%.\n"
     ]
    },
    {
     "name": "stderr",
     "output_type": "stream",
     "text": [
      "collecting matches info:  36%|██████████████████████████████████████████████▌                                                                                  | 829/2299 [41:32<45:59,  1.88s/it]"
     ]
    },
    {
     "name": "stdout",
     "output_type": "stream",
     "text": [
      "Found 2 word(s) missing in the model. Weighted missing percentage not covered by the given model is 1.64%.\n"
     ]
    },
    {
     "name": "stderr",
     "output_type": "stream",
     "text": [
      "collecting matches info:  36%|██████████████████████████████████████████████▋                                                                                  | 831/2299 [41:36<45:27,  1.86s/it]"
     ]
    },
    {
     "name": "stdout",
     "output_type": "stream",
     "text": [
      "Found 1 word(s) missing in the model. Weighted missing percentage not covered by the given model is 3.03%.\n"
     ]
    },
    {
     "name": "stderr",
     "output_type": "stream",
     "text": [
      "\r",
      "collecting matches info:  36%|██████████████████████████████████████████████▋                                                                                  | 832/2299 [41:38<45:09,  1.85s/it]"
     ]
    },
    {
     "name": "stdout",
     "output_type": "stream",
     "text": [
      "Found 4 word(s) missing in the model. Weighted missing percentage not covered by the given model is 2.38%.\n"
     ]
    },
    {
     "name": "stderr",
     "output_type": "stream",
     "text": [
      "collecting matches info:  36%|███████████████████████████████████████████████                                                                                  | 838/2299 [41:48<44:29,  1.83s/it]"
     ]
    },
    {
     "name": "stdout",
     "output_type": "stream",
     "text": [
      "Found 1 word(s) missing in the model. Weighted missing percentage not covered by the given model is 0.70%.\n"
     ]
    },
    {
     "name": "stderr",
     "output_type": "stream",
     "text": [
      "collecting matches info:  37%|███████████████████████████████████████████████▏                                                                                 | 840/2299 [41:52<45:03,  1.85s/it]"
     ]
    },
    {
     "name": "stdout",
     "output_type": "stream",
     "text": [
      "Found 4 word(s) missing in the model. Weighted missing percentage not covered by the given model is 2.34%.\n"
     ]
    },
    {
     "name": "stderr",
     "output_type": "stream",
     "text": [
      "collecting matches info:  37%|███████████████████████████████████████████████▎                                                                                 | 843/2299 [41:58<44:30,  1.83s/it]"
     ]
    },
    {
     "name": "stdout",
     "output_type": "stream",
     "text": [
      "Found 1 word(s) missing in the model. Weighted missing percentage not covered by the given model is 2.70%.\n"
     ]
    },
    {
     "name": "stderr",
     "output_type": "stream",
     "text": [
      "\r",
      "collecting matches info:  37%|███████████████████████████████████████████████▎                                                                                 | 844/2299 [42:00<44:59,  1.86s/it]"
     ]
    },
    {
     "name": "stdout",
     "output_type": "stream",
     "text": [
      "Found 5 word(s) missing in the model. Weighted missing percentage not covered by the given model is 3.03%.\n"
     ]
    },
    {
     "name": "stderr",
     "output_type": "stream",
     "text": [
      "collecting matches info:  37%|███████████████████████████████████████████████▍                                                                                 | 846/2299 [42:03<44:41,  1.85s/it]"
     ]
    },
    {
     "name": "stdout",
     "output_type": "stream",
     "text": [
      "Found 4 word(s) missing in the model. Weighted missing percentage not covered by the given model is 2.35%.\n"
     ]
    },
    {
     "name": "stderr",
     "output_type": "stream",
     "text": [
      "collecting matches info:  37%|███████████████████████████████████████████████▋                                                                                 | 849/2299 [42:09<44:39,  1.85s/it]"
     ]
    },
    {
     "name": "stdout",
     "output_type": "stream",
     "text": [
      "Found 1 word(s) missing in the model. Weighted missing percentage not covered by the given model is 0.99%.\n"
     ]
    },
    {
     "name": "stderr",
     "output_type": "stream",
     "text": [
      "collecting matches info:  37%|███████████████████████████████████████████████▊                                                                                 | 853/2299 [42:17<47:51,  1.99s/it]"
     ]
    },
    {
     "name": "stdout",
     "output_type": "stream",
     "text": [
      "Found 4 word(s) missing in the model. Weighted missing percentage not covered by the given model is 1.34%.\n"
     ]
    },
    {
     "name": "stderr",
     "output_type": "stream",
     "text": [
      "collecting matches info:  38%|████████████████████████████████████████████████▍                                                                                | 863/2299 [42:37<46:20,  1.94s/it]"
     ]
    },
    {
     "name": "stdout",
     "output_type": "stream",
     "text": [
      "Found 1 word(s) missing in the model. Weighted missing percentage not covered by the given model is 0.84%.\n"
     ]
    },
    {
     "name": "stderr",
     "output_type": "stream",
     "text": [
      "collecting matches info:  39%|█████████████████████████████████████████████████▊                                                                               | 888/2299 [43:27<46:47,  1.99s/it]"
     ]
    },
    {
     "name": "stdout",
     "output_type": "stream",
     "text": [
      "Found 1 word(s) missing in the model. Weighted missing percentage not covered by the given model is 0.39%.\n"
     ]
    },
    {
     "name": "stderr",
     "output_type": "stream",
     "text": [
      "\r",
      "collecting matches info:  39%|█████████████████████████████████████████████████▉                                                                               | 889/2299 [43:29<46:19,  1.97s/it]"
     ]
    },
    {
     "name": "stdout",
     "output_type": "stream",
     "text": [
      "Found 1 word(s) missing in the model. Weighted missing percentage not covered by the given model is 0.40%.\n"
     ]
    },
    {
     "name": "stderr",
     "output_type": "stream",
     "text": [
      "\r",
      "collecting matches info:  39%|█████████████████████████████████████████████████▉                                                                               | 890/2299 [43:31<45:35,  1.94s/it]"
     ]
    },
    {
     "name": "stdout",
     "output_type": "stream",
     "text": [
      "Found 1 word(s) missing in the model. Weighted missing percentage not covered by the given model is 0.43%.\n"
     ]
    },
    {
     "name": "stderr",
     "output_type": "stream",
     "text": [
      "collecting matches info:  39%|██████████████████████████████████████████████████▊                                                                              | 905/2299 [43:59<43:05,  1.85s/it]"
     ]
    },
    {
     "name": "stdout",
     "output_type": "stream",
     "text": [
      "Found 1 word(s) missing in the model. Weighted missing percentage not covered by the given model is 0.38%.\n"
     ]
    },
    {
     "name": "stderr",
     "output_type": "stream",
     "text": [
      "collecting matches info:  39%|██████████████████████████████████████████████████▉                                                                              | 907/2299 [44:03<43:20,  1.87s/it]"
     ]
    },
    {
     "name": "stdout",
     "output_type": "stream",
     "text": [
      "Found 1 word(s) missing in the model. Weighted missing percentage not covered by the given model is 0.39%.\n"
     ]
    },
    {
     "name": "stderr",
     "output_type": "stream",
     "text": [
      "collecting matches info:  40%|███████████████████████████████████████████████████                                                                              | 910/2299 [44:09<43:36,  1.88s/it]"
     ]
    },
    {
     "name": "stdout",
     "output_type": "stream",
     "text": [
      "Found 1 word(s) missing in the model. Weighted missing percentage not covered by the given model is 3.57%.\n"
     ]
    },
    {
     "name": "stderr",
     "output_type": "stream",
     "text": [
      "collecting matches info:  40%|███████████████████████████████████████████████████▏                                                                             | 912/2299 [44:13<43:09,  1.87s/it]"
     ]
    },
    {
     "name": "stdout",
     "output_type": "stream",
     "text": [
      "Found 1 word(s) missing in the model. Weighted missing percentage not covered by the given model is 1.64%.\n"
     ]
    },
    {
     "name": "stderr",
     "output_type": "stream",
     "text": [
      "collecting matches info:  40%|███████████████████████████████████████████████████▍                                                                             | 917/2299 [44:22<44:27,  1.93s/it]"
     ]
    },
    {
     "name": "stdout",
     "output_type": "stream",
     "text": [
      "Found 1 word(s) missing in the model. Weighted missing percentage not covered by the given model is 3.45%.\n"
     ]
    },
    {
     "name": "stderr",
     "output_type": "stream",
     "text": [
      "\r",
      "collecting matches info:  40%|███████████████████████████████████████████████████▌                                                                             | 918/2299 [44:24<44:15,  1.92s/it]"
     ]
    },
    {
     "name": "stdout",
     "output_type": "stream",
     "text": [
      "Found 1 word(s) missing in the model. Weighted missing percentage not covered by the given model is 4.55%.\n"
     ]
    },
    {
     "name": "stderr",
     "output_type": "stream",
     "text": [
      "collecting matches info:  40%|███████████████████████████████████████████████████▌                                                                             | 920/2299 [44:28<44:23,  1.93s/it]"
     ]
    },
    {
     "name": "stdout",
     "output_type": "stream",
     "text": [
      "Found 1 word(s) missing in the model. Weighted missing percentage not covered by the given model is 6.67%.\n"
     ]
    },
    {
     "name": "stderr",
     "output_type": "stream",
     "text": [
      "collecting matches info:  40%|████████████████████████████████████████████████████                                                                             | 927/2299 [44:42<44:51,  1.96s/it]"
     ]
    },
    {
     "name": "stdout",
     "output_type": "stream",
     "text": [
      "Found 1 word(s) missing in the model. Weighted missing percentage not covered by the given model is 0.20%.\n"
     ]
    },
    {
     "name": "stderr",
     "output_type": "stream",
     "text": [
      "collecting matches info:  41%|████████████████████████████████████████████████████▋                                                                            | 938/2299 [45:06<45:03,  1.99s/it]"
     ]
    },
    {
     "name": "stdout",
     "output_type": "stream",
     "text": [
      "Found 1 word(s) missing in the model. Weighted missing percentage not covered by the given model is 0.81%.\n"
     ]
    },
    {
     "name": "stderr",
     "output_type": "stream",
     "text": [
      "collecting matches info:  41%|█████████████████████████████████████████████████████▎                                                                           | 951/2299 [45:31<41:59,  1.87s/it]"
     ]
    },
    {
     "name": "stdout",
     "output_type": "stream",
     "text": [
      "Found 1 word(s) missing in the model. Weighted missing percentage not covered by the given model is 0.90%.\n"
     ]
    },
    {
     "name": "stderr",
     "output_type": "stream",
     "text": [
      "\r",
      "collecting matches info:  41%|█████████████████████████████████████████████████████▍                                                                           | 952/2299 [45:33<41:44,  1.86s/it]"
     ]
    },
    {
     "name": "stdout",
     "output_type": "stream",
     "text": [
      "Found 1 word(s) missing in the model. Weighted missing percentage not covered by the given model is 0.89%.\n"
     ]
    },
    {
     "name": "stderr",
     "output_type": "stream",
     "text": [
      "\r",
      "collecting matches info:  41%|█████████████████████████████████████████████████████▍                                                                           | 953/2299 [45:35<41:33,  1.85s/it]"
     ]
    },
    {
     "name": "stdout",
     "output_type": "stream",
     "text": [
      "Found 1 word(s) missing in the model. Weighted missing percentage not covered by the given model is 0.85%.\n"
     ]
    },
    {
     "name": "stderr",
     "output_type": "stream",
     "text": [
      "\r",
      "collecting matches info:  41%|█████████████████████████████████████████████████████▌                                                                           | 954/2299 [45:37<41:25,  1.85s/it]"
     ]
    },
    {
     "name": "stdout",
     "output_type": "stream",
     "text": [
      "Found 2 word(s) missing in the model. Weighted missing percentage not covered by the given model is 2.15%.\n"
     ]
    },
    {
     "name": "stderr",
     "output_type": "stream",
     "text": [
      "collecting matches info:  42%|█████████████████████████████████████████████████████▉                                                                           | 962/2299 [45:52<42:17,  1.90s/it]"
     ]
    },
    {
     "name": "stdout",
     "output_type": "stream",
     "text": [
      "Found 2 word(s) missing in the model. Weighted missing percentage not covered by the given model is 1.23%.\n"
     ]
    },
    {
     "name": "stderr",
     "output_type": "stream",
     "text": [
      "collecting matches info:  42%|██████████████████████████████████████████████████████▌                                                                          | 973/2299 [46:13<42:01,  1.90s/it]"
     ]
    },
    {
     "name": "stdout",
     "output_type": "stream",
     "text": [
      "Found 1 word(s) missing in the model. Weighted missing percentage not covered by the given model is 0.57%.\n"
     ]
    },
    {
     "name": "stderr",
     "output_type": "stream",
     "text": [
      "collecting matches info:  43%|███████████████████████████████████████████████████████                                                                          | 982/2299 [46:30<42:24,  1.93s/it]"
     ]
    },
    {
     "name": "stdout",
     "output_type": "stream",
     "text": [
      "Found 1 word(s) missing in the model. Weighted missing percentage not covered by the given model is 0.58%.\n"
     ]
    },
    {
     "name": "stderr",
     "output_type": "stream",
     "text": [
      "collecting matches info:  43%|████████████████████████████████████████████████████████                                                                         | 999/2299 [47:03<43:18,  2.00s/it]"
     ]
    },
    {
     "name": "stdout",
     "output_type": "stream",
     "text": [
      "Found 1 word(s) missing in the model. Weighted missing percentage not covered by the given model is 5.88%.\n"
     ]
    },
    {
     "name": "stderr",
     "output_type": "stream",
     "text": [
      "collecting matches info:  44%|███████████████████████████████████████████████████████▋                                                                        | 1001/2299 [47:07<42:49,  1.98s/it]"
     ]
    },
    {
     "name": "stdout",
     "output_type": "stream",
     "text": [
      "Found 1 word(s) missing in the model. Weighted missing percentage not covered by the given model is 3.85%.\n"
     ]
    },
    {
     "name": "stderr",
     "output_type": "stream",
     "text": [
      "collecting matches info:  44%|████████████████████████████████████████████████████████▏                                                                       | 1010/2299 [47:24<41:40,  1.94s/it]"
     ]
    },
    {
     "name": "stdout",
     "output_type": "stream",
     "text": [
      "Found 1 word(s) missing in the model. Weighted missing percentage not covered by the given model is 1.56%.\n"
     ]
    },
    {
     "name": "stderr",
     "output_type": "stream",
     "text": [
      "\r",
      "collecting matches info:  44%|████████████████████████████████████████████████████████▎                                                                       | 1011/2299 [47:26<42:05,  1.96s/it]"
     ]
    },
    {
     "name": "stdout",
     "output_type": "stream",
     "text": [
      "Found 1 word(s) missing in the model. Weighted missing percentage not covered by the given model is 1.85%.\n"
     ]
    },
    {
     "name": "stderr",
     "output_type": "stream",
     "text": [
      "\r",
      "collecting matches info:  44%|████████████████████████████████████████████████████████▎                                                                       | 1012/2299 [47:28<42:40,  1.99s/it]"
     ]
    },
    {
     "name": "stdout",
     "output_type": "stream",
     "text": [
      "Found 3 word(s) missing in the model. Weighted missing percentage not covered by the given model is 1.69%.\n"
     ]
    },
    {
     "name": "stderr",
     "output_type": "stream",
     "text": [
      "collecting matches info:  44%|████████████████████████████████████████████████████████▊                                                                       | 1021/2299 [47:45<40:55,  1.92s/it]"
     ]
    },
    {
     "name": "stdout",
     "output_type": "stream",
     "text": [
      "Found 1 word(s) missing in the model. Weighted missing percentage not covered by the given model is 0.48%.\n"
     ]
    },
    {
     "name": "stderr",
     "output_type": "stream",
     "text": [
      "collecting matches info:  45%|█████████████████████████████████████████████████████████▎                                                                      | 1029/2299 [48:01<40:08,  1.90s/it]"
     ]
    },
    {
     "name": "stdout",
     "output_type": "stream",
     "text": [
      "Found 3 word(s) missing in the model. Weighted missing percentage not covered by the given model is 1.10%.\n"
     ]
    },
    {
     "name": "stderr",
     "output_type": "stream",
     "text": [
      "collecting matches info:  45%|█████████████████████████████████████████████████████████▍                                                                      | 1031/2299 [48:04<40:39,  1.92s/it]"
     ]
    },
    {
     "name": "stdout",
     "output_type": "stream",
     "text": [
      "Found 1 word(s) missing in the model. Weighted missing percentage not covered by the given model is 0.80%.\n"
     ]
    },
    {
     "name": "stderr",
     "output_type": "stream",
     "text": [
      "collecting matches info:  45%|█████████████████████████████████████████████████████████▌                                                                      | 1034/2299 [48:10<39:44,  1.88s/it]"
     ]
    },
    {
     "name": "stdout",
     "output_type": "stream",
     "text": [
      "Found 1 word(s) missing in the model. Weighted missing percentage not covered by the given model is 3.57%.\n"
     ]
    },
    {
     "name": "stderr",
     "output_type": "stream",
     "text": [
      "collecting matches info:  45%|█████████████████████████████████████████████████████████▋                                                                      | 1036/2299 [48:14<39:43,  1.89s/it]"
     ]
    },
    {
     "name": "stdout",
     "output_type": "stream",
     "text": [
      "Found 1 word(s) missing in the model. Weighted missing percentage not covered by the given model is 1.25%.\n"
     ]
    },
    {
     "name": "stderr",
     "output_type": "stream",
     "text": [
      "collecting matches info:  45%|█████████████████████████████████████████████████████████▊                                                                      | 1039/2299 [48:19<39:16,  1.87s/it]"
     ]
    },
    {
     "name": "stdout",
     "output_type": "stream",
     "text": [
      "Found 1 word(s) missing in the model. Weighted missing percentage not covered by the given model is 1.18%.\n"
     ]
    },
    {
     "name": "stderr",
     "output_type": "stream",
     "text": [
      "\r",
      "collecting matches info:  45%|█████████████████████████████████████████████████████████▉                                                                      | 1040/2299 [48:22<42:50,  2.04s/it]"
     ]
    },
    {
     "name": "stdout",
     "output_type": "stream",
     "text": [
      "Found 1 word(s) missing in the model. Weighted missing percentage not covered by the given model is 0.37%.\n"
     ]
    },
    {
     "name": "stderr",
     "output_type": "stream",
     "text": [
      "collecting matches info:  45%|██████████████████████████████████████████████████████████                                                                      | 1043/2299 [48:28<42:06,  2.01s/it]"
     ]
    },
    {
     "name": "stdout",
     "output_type": "stream",
     "text": [
      "Found 3 word(s) missing in the model. Weighted missing percentage not covered by the given model is 0.90%.\n"
     ]
    },
    {
     "name": "stderr",
     "output_type": "stream",
     "text": [
      "collecting matches info:  45%|██████████████████████████████████████████████████████████▏                                                                     | 1045/2299 [48:32<40:43,  1.95s/it]"
     ]
    },
    {
     "name": "stdout",
     "output_type": "stream",
     "text": [
      "Found 1 word(s) missing in the model. Weighted missing percentage not covered by the given model is 1.37%.\n"
     ]
    },
    {
     "name": "stderr",
     "output_type": "stream",
     "text": [
      "collecting matches info:  46%|██████████████████████████████████████████████████████████▎                                                                     | 1047/2299 [48:35<39:38,  1.90s/it]"
     ]
    },
    {
     "name": "stdout",
     "output_type": "stream",
     "text": [
      "Found 1 word(s) missing in the model. Weighted missing percentage not covered by the given model is 1.16%.\n"
     ]
    },
    {
     "name": "stderr",
     "output_type": "stream",
     "text": [
      "\r",
      "collecting matches info:  46%|██████████████████████████████████████████████████████████▎                                                                     | 1048/2299 [48:37<39:37,  1.90s/it]"
     ]
    },
    {
     "name": "stdout",
     "output_type": "stream",
     "text": [
      "Found 1 word(s) missing in the model. Weighted missing percentage not covered by the given model is 0.78%.\n"
     ]
    },
    {
     "name": "stderr",
     "output_type": "stream",
     "text": [
      "collecting matches info:  46%|██████████████████████████████████████████████████████████▋                                                                     | 1054/2299 [48:48<38:20,  1.85s/it]"
     ]
    },
    {
     "name": "stdout",
     "output_type": "stream",
     "text": [
      "Found 1 word(s) missing in the model. Weighted missing percentage not covered by the given model is 0.58%.\n"
     ]
    },
    {
     "name": "stderr",
     "output_type": "stream",
     "text": [
      "\r",
      "collecting matches info:  46%|██████████████████████████████████████████████████████████▋                                                                     | 1055/2299 [48:50<38:22,  1.85s/it]"
     ]
    },
    {
     "name": "stdout",
     "output_type": "stream",
     "text": [
      "Found 1 word(s) missing in the model. Weighted missing percentage not covered by the given model is 0.48%.\n"
     ]
    },
    {
     "name": "stderr",
     "output_type": "stream",
     "text": [
      "\r",
      "collecting matches info:  46%|██████████████████████████████████████████████████████████▊                                                                     | 1056/2299 [48:52<38:34,  1.86s/it]"
     ]
    },
    {
     "name": "stdout",
     "output_type": "stream",
     "text": [
      "Found 7 word(s) missing in the model. Weighted missing percentage not covered by the given model is 1.35%.\n"
     ]
    },
    {
     "name": "stderr",
     "output_type": "stream",
     "text": [
      "collecting matches info:  46%|███████████████████████████████████████████████████████████▎                                                                    | 1066/2299 [49:11<38:04,  1.85s/it]"
     ]
    },
    {
     "name": "stdout",
     "output_type": "stream",
     "text": [
      "Found 4 word(s) missing in the model. Weighted missing percentage not covered by the given model is 1.27%.\n"
     ]
    },
    {
     "name": "stderr",
     "output_type": "stream",
     "text": [
      "collecting matches info:  47%|████████████████████████████████████████████████████████████                                                                    | 1078/2299 [49:33<37:47,  1.86s/it]"
     ]
    },
    {
     "name": "stdout",
     "output_type": "stream",
     "text": [
      "Found 1 word(s) missing in the model. Weighted missing percentage not covered by the given model is 3.03%.\n"
     ]
    },
    {
     "name": "stderr",
     "output_type": "stream",
     "text": [
      "collecting matches info:  47%|████████████████████████████████████████████████████████████▍                                                                   | 1086/2299 [49:48<38:13,  1.89s/it]"
     ]
    },
    {
     "name": "stdout",
     "output_type": "stream",
     "text": [
      "Found 1 word(s) missing in the model. Weighted missing percentage not covered by the given model is 0.93%.\n"
     ]
    },
    {
     "name": "stderr",
     "output_type": "stream",
     "text": [
      "collecting matches info:  47%|████████████████████████████████████████████████████████████▋                                                                   | 1090/2299 [49:56<37:55,  1.88s/it]"
     ]
    },
    {
     "name": "stdout",
     "output_type": "stream",
     "text": [
      "Found 2 word(s) missing in the model. Weighted missing percentage not covered by the given model is 1.55%.\n"
     ]
    },
    {
     "name": "stderr",
     "output_type": "stream",
     "text": [
      "collecting matches info:  47%|████████████████████████████████████████████████████████████▊                                                                   | 1092/2299 [50:00<38:36,  1.92s/it]"
     ]
    },
    {
     "name": "stdout",
     "output_type": "stream",
     "text": [
      "Found 1 word(s) missing in the model. Weighted missing percentage not covered by the given model is 5.56%.\n"
     ]
    },
    {
     "name": "stderr",
     "output_type": "stream",
     "text": [
      "collecting matches info:  48%|█████████████████████████████████████████████████████████████▍                                                                  | 1103/2299 [50:20<36:55,  1.85s/it]"
     ]
    },
    {
     "name": "stdout",
     "output_type": "stream",
     "text": [
      "Found 1 word(s) missing in the model. Weighted missing percentage not covered by the given model is 0.75%.\n"
     ]
    },
    {
     "name": "stderr",
     "output_type": "stream",
     "text": [
      "\r",
      "collecting matches info:  48%|█████████████████████████████████████████████████████████████▍                                                                  | 1104/2299 [50:22<37:30,  1.88s/it]"
     ]
    },
    {
     "name": "stdout",
     "output_type": "stream",
     "text": [
      "Found 1 word(s) missing in the model. Weighted missing percentage not covered by the given model is 0.93%.\n"
     ]
    },
    {
     "name": "stderr",
     "output_type": "stream",
     "text": [
      "collecting matches info:  48%|█████████████████████████████████████████████████████████████▋                                                                  | 1109/2299 [50:32<38:00,  1.92s/it]"
     ]
    },
    {
     "name": "stdout",
     "output_type": "stream",
     "text": [
      "Found 1 word(s) missing in the model. Weighted missing percentage not covered by the given model is 0.64%.\n"
     ]
    },
    {
     "name": "stderr",
     "output_type": "stream",
     "text": [
      "collecting matches info:  48%|██████████████████████████████████████████████████████████████                                                                  | 1114/2299 [50:41<36:50,  1.87s/it]"
     ]
    },
    {
     "name": "stdout",
     "output_type": "stream",
     "text": [
      "Found 1 word(s) missing in the model. Weighted missing percentage not covered by the given model is 5.56%.\n"
     ]
    },
    {
     "name": "stderr",
     "output_type": "stream",
     "text": [
      "collecting matches info:  49%|██████████████████████████████████████████████████████████████▎                                                                 | 1120/2299 [50:53<37:48,  1.92s/it]"
     ]
    },
    {
     "name": "stdout",
     "output_type": "stream",
     "text": [
      "Found 1 word(s) missing in the model. Weighted missing percentage not covered by the given model is 0.22%.\n"
     ]
    },
    {
     "name": "stderr",
     "output_type": "stream",
     "text": [
      "collecting matches info:  56%|████████████████████████████████████████████████████████████████████████▏                                                       | 1296/2299 [56:32<32:34,  1.95s/it]"
     ]
    },
    {
     "name": "stdout",
     "output_type": "stream",
     "text": [
      "Found 3 word(s) missing in the model. Weighted missing percentage not covered by the given model is 2.08%.\n"
     ]
    },
    {
     "name": "stderr",
     "output_type": "stream",
     "text": [
      "collecting matches info:  57%|████████████████████████████████████████████████████████████████████████▋                                                       | 1305/2299 [56:55<39:53,  2.41s/it]"
     ]
    },
    {
     "name": "stdout",
     "output_type": "stream",
     "text": [
      "Found 2 word(s) missing in the model. Weighted missing percentage not covered by the given model is 5.00%.\n"
     ]
    },
    {
     "name": "stderr",
     "output_type": "stream",
     "text": [
      "collecting matches info:  57%|████████████████████████████████████████████████████████████████████████▊                                                       | 1308/2299 [57:02<37:16,  2.26s/it]"
     ]
    },
    {
     "name": "stdout",
     "output_type": "stream",
     "text": [
      "Found 2 word(s) missing in the model. Weighted missing percentage not covered by the given model is 3.92%.\n"
     ]
    },
    {
     "name": "stderr",
     "output_type": "stream",
     "text": [
      "collecting matches info:  57%|█████████████████████████████████████████████████████████████████████████                                                       | 1312/2299 [57:13<46:50,  2.85s/it]"
     ]
    },
    {
     "name": "stdout",
     "output_type": "stream",
     "text": [
      "Found 1 word(s) missing in the model. Weighted missing percentage not covered by the given model is 3.33%.\n"
     ]
    },
    {
     "name": "stderr",
     "output_type": "stream",
     "text": [
      "collecting matches info:  57%|█████████████████████████████████████████████████████████████████████████▍                                                      | 1320/2299 [57:31<35:48,  2.19s/it]"
     ]
    },
    {
     "name": "stdout",
     "output_type": "stream",
     "text": [
      "Found 1 word(s) missing in the model. Weighted missing percentage not covered by the given model is 2.17%.\n"
     ]
    },
    {
     "name": "stderr",
     "output_type": "stream",
     "text": [
      "collecting matches info:  58%|█████████████████████████████████████████████████████████████████████████▊                                                      | 1326/2299 [57:46<37:03,  2.29s/it]"
     ]
    },
    {
     "name": "stdout",
     "output_type": "stream",
     "text": [
      "Found 5 word(s) missing in the model. Weighted missing percentage not covered by the given model is 2.07%.\n"
     ]
    },
    {
     "name": "stderr",
     "output_type": "stream",
     "text": [
      "collecting matches info:  58%|██████████████████████████████████████████████████████████████████████████                                                      | 1331/2299 [57:56<34:40,  2.15s/it]"
     ]
    },
    {
     "name": "stdout",
     "output_type": "stream",
     "text": [
      "Found 1 word(s) missing in the model. Weighted missing percentage not covered by the given model is 0.35%.\n"
     ]
    },
    {
     "name": "stderr",
     "output_type": "stream",
     "text": [
      "collecting matches info:  60%|████████████████████████████████████████████████████████████████████████████▏                                                   | 1368/2299 [59:08<29:20,  1.89s/it]"
     ]
    },
    {
     "name": "stdout",
     "output_type": "stream",
     "text": [
      "Found 1 word(s) missing in the model. Weighted missing percentage not covered by the given model is 0.22%.\n"
     ]
    },
    {
     "name": "stderr",
     "output_type": "stream",
     "text": [
      "collecting matches info:  60%|████████████████████████████████████████████████████████████████████████████▍                                                   | 1374/2299 [59:19<28:54,  1.88s/it]"
     ]
    },
    {
     "name": "stdout",
     "output_type": "stream",
     "text": [
      "Found 1 word(s) missing in the model. Weighted missing percentage not covered by the given model is 0.26%.\n"
     ]
    },
    {
     "name": "stderr",
     "output_type": "stream",
     "text": [
      "collecting matches info:  60%|████████████████████████████████████████████████████████████████████████████▉                                                   | 1381/2299 [59:32<28:58,  1.89s/it]"
     ]
    },
    {
     "name": "stdout",
     "output_type": "stream",
     "text": [
      "Found 3 word(s) missing in the model. Weighted missing percentage not covered by the given model is 0.87%.\n"
     ]
    },
    {
     "name": "stderr",
     "output_type": "stream",
     "text": [
      "collecting matches info:  60%|█████████████████████████████████████████████████████████████████████████████                                                   | 1385/2299 [59:40<29:42,  1.95s/it]"
     ]
    },
    {
     "name": "stdout",
     "output_type": "stream",
     "text": [
      "Found 1 word(s) missing in the model. Weighted missing percentage not covered by the given model is 0.30%.\n"
     ]
    },
    {
     "name": "stderr",
     "output_type": "stream",
     "text": [
      "collecting matches info:  61%|████████████████████████████████████████████████████████████████████████████▌                                                 | 1398/2299 [1:00:05<28:09,  1.88s/it]"
     ]
    },
    {
     "name": "stdout",
     "output_type": "stream",
     "text": [
      "Found 1 word(s) missing in the model. Weighted missing percentage not covered by the given model is 6.67%.\n"
     ]
    },
    {
     "name": "stderr",
     "output_type": "stream",
     "text": [
      "collecting matches info:  61%|████████████████████████████████████████████████████████████████████████████▉                                                 | 1403/2299 [1:00:14<28:04,  1.88s/it]"
     ]
    },
    {
     "name": "stdout",
     "output_type": "stream",
     "text": [
      "Found 8 word(s) missing in the model. Weighted missing percentage not covered by the given model is 6.78%.\n"
     ]
    },
    {
     "name": "stderr",
     "output_type": "stream",
     "text": [
      "collecting matches info:  62%|██████████████████████████████████████████████████████████████████████████████                                                | 1425/2299 [1:00:56<28:06,  1.93s/it]"
     ]
    },
    {
     "name": "stdout",
     "output_type": "stream",
     "text": [
      "Found 1 word(s) missing in the model. Weighted missing percentage not covered by the given model is 2.78%.\n"
     ]
    },
    {
     "name": "stderr",
     "output_type": "stream",
     "text": [
      "collecting matches info:  62%|██████████████████████████████████████████████████████████████████████████████▎                                               | 1428/2299 [1:01:02<28:12,  1.94s/it]"
     ]
    },
    {
     "name": "stdout",
     "output_type": "stream",
     "text": [
      "Found 2 word(s) missing in the model. Weighted missing percentage not covered by the given model is 0.59%.\n"
     ]
    },
    {
     "name": "stderr",
     "output_type": "stream",
     "text": [
      "\r",
      "collecting matches info:  62%|██████████████████████████████████████████████████████████████████████████████▎                                               | 1429/2299 [1:01:04<27:52,  1.92s/it]"
     ]
    },
    {
     "name": "stdout",
     "output_type": "stream",
     "text": [
      "Found 1 word(s) missing in the model. Weighted missing percentage not covered by the given model is 0.30%.\n"
     ]
    },
    {
     "name": "stderr",
     "output_type": "stream",
     "text": [
      "collecting matches info:  62%|██████████████████████████████████████████████████████████████████████████████▍                                               | 1431/2299 [1:01:07<27:38,  1.91s/it]"
     ]
    },
    {
     "name": "stdout",
     "output_type": "stream",
     "text": [
      "Found 4 word(s) missing in the model. Weighted missing percentage not covered by the given model is 1.23%.\n"
     ]
    },
    {
     "name": "stderr",
     "output_type": "stream",
     "text": [
      "collecting matches info:  63%|██████████████████████████████████████████████████████████████████████████████▉                                               | 1440/2299 [1:01:24<27:03,  1.89s/it]"
     ]
    },
    {
     "name": "stdout",
     "output_type": "stream",
     "text": [
      "Found 7 word(s) missing in the model. Weighted missing percentage not covered by the given model is 4.96%.\n"
     ]
    },
    {
     "name": "stderr",
     "output_type": "stream",
     "text": [
      "collecting matches info:  63%|███████████████████████████████████████████████████████████████████████████████▋                                              | 1455/2299 [1:01:53<28:00,  1.99s/it]"
     ]
    },
    {
     "name": "stdout",
     "output_type": "stream",
     "text": [
      "Found 8 word(s) missing in the model. Weighted missing percentage not covered by the given model is 6.15%.\n"
     ]
    },
    {
     "name": "stderr",
     "output_type": "stream",
     "text": [
      "collecting matches info:  63%|███████████████████████████████████████████████████████████████████████████████▊                                              | 1457/2299 [1:01:58<28:53,  2.06s/it]"
     ]
    },
    {
     "name": "stdout",
     "output_type": "stream",
     "text": [
      "Found 1 word(s) missing in the model. Weighted missing percentage not covered by the given model is 0.32%.\n"
     ]
    },
    {
     "name": "stderr",
     "output_type": "stream",
     "text": [
      "collecting matches info:  64%|█████████████████████████████████████████████████████████████████████████████████                                             | 1479/2299 [1:02:39<25:02,  1.83s/it]"
     ]
    },
    {
     "name": "stdout",
     "output_type": "stream",
     "text": [
      "Found 1 word(s) missing in the model. Weighted missing percentage not covered by the given model is 0.39%.\n"
     ]
    },
    {
     "name": "stderr",
     "output_type": "stream",
     "text": [
      "collecting matches info:  65%|█████████████████████████████████████████████████████████████████████████████████▎                                            | 1483/2299 [1:02:47<26:03,  1.92s/it]"
     ]
    },
    {
     "name": "stdout",
     "output_type": "stream",
     "text": [
      "Found 1 word(s) missing in the model. Weighted missing percentage not covered by the given model is 0.38%.\n"
     ]
    },
    {
     "name": "stderr",
     "output_type": "stream",
     "text": [
      "\r",
      "collecting matches info:  65%|█████████████████████████████████████████████████████████████████████████████████▎                                            | 1484/2299 [1:02:49<26:02,  1.92s/it]"
     ]
    },
    {
     "name": "stdout",
     "output_type": "stream",
     "text": [
      "Found 2 word(s) missing in the model. Weighted missing percentage not covered by the given model is 0.76%.\n"
     ]
    },
    {
     "name": "stderr",
     "output_type": "stream",
     "text": [
      "\r",
      "collecting matches info:  65%|█████████████████████████████████████████████████████████████████████████████████▍                                            | 1485/2299 [1:02:50<25:47,  1.90s/it]"
     ]
    },
    {
     "name": "stdout",
     "output_type": "stream",
     "text": [
      "Found 1 word(s) missing in the model. Weighted missing percentage not covered by the given model is 0.41%.\n"
     ]
    },
    {
     "name": "stderr",
     "output_type": "stream",
     "text": [
      "collecting matches info:  66%|███████████████████████████████████████████████████████████████████████████████████▏                                          | 1517/2299 [1:03:51<25:04,  1.92s/it]"
     ]
    },
    {
     "name": "stdout",
     "output_type": "stream",
     "text": [
      "Found 1 word(s) missing in the model. Weighted missing percentage not covered by the given model is 0.27%.\n"
     ]
    },
    {
     "name": "stderr",
     "output_type": "stream",
     "text": [
      "collecting matches info:  66%|███████████████████████████████████████████████████████████████████████████████████▎                                          | 1520/2299 [1:03:57<24:52,  1.92s/it]"
     ]
    },
    {
     "name": "stdout",
     "output_type": "stream",
     "text": [
      "Found 2 word(s) missing in the model. Weighted missing percentage not covered by the given model is 0.52%.\n"
     ]
    },
    {
     "name": "stderr",
     "output_type": "stream",
     "text": [
      "\r",
      "collecting matches info:  66%|███████████████████████████████████████████████████████████████████████████████████▎                                          | 1521/2299 [1:03:59<24:48,  1.91s/it]"
     ]
    },
    {
     "name": "stdout",
     "output_type": "stream",
     "text": [
      "Found 1 word(s) missing in the model. Weighted missing percentage not covered by the given model is 0.29%.\n"
     ]
    },
    {
     "name": "stderr",
     "output_type": "stream",
     "text": [
      "collecting matches info:  66%|███████████████████████████████████████████████████████████████████████████████████▍                                          | 1523/2299 [1:04:03<24:39,  1.91s/it]"
     ]
    },
    {
     "name": "stdout",
     "output_type": "stream",
     "text": [
      "Found 1 word(s) missing in the model. Weighted missing percentage not covered by the given model is 1.14%.\n"
     ]
    },
    {
     "name": "stderr",
     "output_type": "stream",
     "text": [
      "collecting matches info:  67%|███████████████████████████████████████████████████████████████████████████████████▉                                          | 1531/2299 [1:04:18<23:53,  1.87s/it]"
     ]
    },
    {
     "name": "stdout",
     "output_type": "stream",
     "text": [
      "Found 2 word(s) missing in the model. Weighted missing percentage not covered by the given model is 1.27%.\n"
     ]
    },
    {
     "name": "stderr",
     "output_type": "stream",
     "text": [
      "collecting matches info:  67%|████████████████████████████████████████████████████████████████████████████████████▏                                         | 1535/2299 [1:04:25<23:32,  1.85s/it]"
     ]
    },
    {
     "name": "stdout",
     "output_type": "stream",
     "text": [
      "Found 1 word(s) missing in the model. Weighted missing percentage not covered by the given model is 0.99%.\n"
     ]
    },
    {
     "name": "stderr",
     "output_type": "stream",
     "text": [
      "collecting matches info:  68%|█████████████████████████████████████████████████████████████████████████████████████▌                                        | 1561/2299 [1:05:14<23:28,  1.91s/it]"
     ]
    },
    {
     "name": "stdout",
     "output_type": "stream",
     "text": [
      "Found 1 word(s) missing in the model. Weighted missing percentage not covered by the given model is 0.38%.\n"
     ]
    },
    {
     "name": "stderr",
     "output_type": "stream",
     "text": [
      "collecting matches info:  69%|██████████████████████████████████████████████████████████████████████████████████████▌                                       | 1579/2299 [1:05:47<22:44,  1.90s/it]"
     ]
    },
    {
     "name": "stdout",
     "output_type": "stream",
     "text": [
      "Found 2 word(s) missing in the model. Weighted missing percentage not covered by the given model is 2.02%.\n"
     ]
    },
    {
     "name": "stderr",
     "output_type": "stream",
     "text": [
      "collecting matches info:  70%|████████████████████████████████████████████████████████████████████████████████████████▎                                     | 1612/2299 [1:06:51<22:49,  1.99s/it]"
     ]
    },
    {
     "name": "stdout",
     "output_type": "stream",
     "text": [
      "Found 1 word(s) missing in the model. Weighted missing percentage not covered by the given model is 0.23%.\n"
     ]
    },
    {
     "name": "stderr",
     "output_type": "stream",
     "text": [
      "collecting matches info:  72%|██████████████████████████████████████████████████████████████████████████████████████████▏                                   | 1645/2299 [1:07:54<21:23,  1.96s/it]"
     ]
    },
    {
     "name": "stdout",
     "output_type": "stream",
     "text": [
      "Found 2 word(s) missing in the model. Weighted missing percentage not covered by the given model is 6.06%.\n"
     ]
    },
    {
     "name": "stderr",
     "output_type": "stream",
     "text": [
      "collecting matches info:  72%|██████████████████████████████████████████████████████████████████████████████████████████▎                                   | 1648/2299 [1:08:00<23:56,  2.21s/it]"
     ]
    },
    {
     "name": "stdout",
     "output_type": "stream",
     "text": [
      "Found 3 word(s) missing in the model. Weighted missing percentage not covered by the given model is 3.03%.\n"
     ]
    },
    {
     "name": "stderr",
     "output_type": "stream",
     "text": [
      "collecting matches info:  72%|██████████████████████████████████████████████████████████████████████████████████████████▌                                   | 1652/2299 [1:08:08<22:01,  2.04s/it]"
     ]
    },
    {
     "name": "stdout",
     "output_type": "stream",
     "text": [
      "Found 3 word(s) missing in the model. Weighted missing percentage not covered by the given model is 2.63%.\n"
     ]
    },
    {
     "name": "stderr",
     "output_type": "stream",
     "text": [
      "collecting matches info:  72%|██████████████████████████████████████████████████████████████████████████████████████████▋                                   | 1655/2299 [1:08:14<20:34,  1.92s/it]"
     ]
    },
    {
     "name": "stdout",
     "output_type": "stream",
     "text": [
      "Found 2 word(s) missing in the model. Weighted missing percentage not covered by the given model is 5.26%.\n"
     ]
    },
    {
     "name": "stderr",
     "output_type": "stream",
     "text": [
      "collecting matches info:  72%|███████████████████████████████████████████████████████████████████████████████████████████                                   | 1662/2299 [1:08:27<20:13,  1.91s/it]"
     ]
    },
    {
     "name": "stdout",
     "output_type": "stream",
     "text": [
      "Found 1 word(s) missing in the model. Weighted missing percentage not covered by the given model is 2.50%.\n"
     ]
    },
    {
     "name": "stderr",
     "output_type": "stream",
     "text": [
      "collecting matches info:  72%|███████████████████████████████████████████████████████████████████████████████████████████▎                                  | 1666/2299 [1:08:35<19:40,  1.86s/it]"
     ]
    },
    {
     "name": "stdout",
     "output_type": "stream",
     "text": [
      "Found 1 word(s) missing in the model. Weighted missing percentage not covered by the given model is 2.94%.\n"
     ]
    },
    {
     "name": "stderr",
     "output_type": "stream",
     "text": [
      "collecting matches info:  73%|███████████████████████████████████████████████████████████████████████████████████████████▋                                  | 1672/2299 [1:08:46<19:20,  1.85s/it]"
     ]
    },
    {
     "name": "stdout",
     "output_type": "stream",
     "text": [
      "Found 3 word(s) missing in the model. Weighted missing percentage not covered by the given model is 3.70%.\n"
     ]
    },
    {
     "name": "stderr",
     "output_type": "stream",
     "text": [
      "collecting matches info:  73%|███████████████████████████████████████████████████████████████████████████████████████████▊                                  | 1675/2299 [1:08:52<19:53,  1.91s/it]"
     ]
    },
    {
     "name": "stdout",
     "output_type": "stream",
     "text": [
      "Found 1 word(s) missing in the model. Weighted missing percentage not covered by the given model is 3.70%.\n"
     ]
    },
    {
     "name": "stderr",
     "output_type": "stream",
     "text": [
      "collecting matches info:  73%|███████████████████████████████████████████████████████████████████████████████████████████▉                                  | 1678/2299 [1:08:58<20:15,  1.96s/it]"
     ]
    },
    {
     "name": "stdout",
     "output_type": "stream",
     "text": [
      "Found 1 word(s) missing in the model. Weighted missing percentage not covered by the given model is 7.14%.\n"
     ]
    },
    {
     "name": "stderr",
     "output_type": "stream",
     "text": [
      "collecting matches info:  73%|████████████████████████████████████████████████████████████████████████████████████████████▏                                 | 1682/2299 [1:09:06<21:01,  2.04s/it]"
     ]
    },
    {
     "name": "stdout",
     "output_type": "stream",
     "text": [
      "Found 3 word(s) missing in the model. Weighted missing percentage not covered by the given model is 3.41%.\n"
     ]
    },
    {
     "name": "stderr",
     "output_type": "stream",
     "text": [
      "collecting matches info:  75%|██████████████████████████████████████████████████████████████████████████████████████████████▍                               | 1722/2299 [1:10:23<18:12,  1.89s/it]"
     ]
    },
    {
     "name": "stdout",
     "output_type": "stream",
     "text": [
      "Found 1 word(s) missing in the model. Weighted missing percentage not covered by the given model is 0.73%.\n"
     ]
    },
    {
     "name": "stderr",
     "output_type": "stream",
     "text": [
      "collecting matches info:  76%|███████████████████████████████████████████████████████████████████████████████████████████████▎                              | 1739/2299 [1:10:59<19:40,  2.11s/it]"
     ]
    },
    {
     "name": "stdout",
     "output_type": "stream",
     "text": [
      "Found 1 word(s) missing in the model. Weighted missing percentage not covered by the given model is 1.69%.\n"
     ]
    },
    {
     "name": "stderr",
     "output_type": "stream",
     "text": [
      "collecting matches info:  76%|████████████████████████████████████████████████████████████████████████████████████████████████▎                             | 1758/2299 [1:11:37<16:46,  1.86s/it]"
     ]
    },
    {
     "name": "stdout",
     "output_type": "stream",
     "text": [
      "Found 1 word(s) missing in the model. Weighted missing percentage not covered by the given model is 1.41%.\n"
     ]
    },
    {
     "name": "stderr",
     "output_type": "stream",
     "text": [
      "collecting matches info:  77%|████████████████████████████████████████████████████████████████████████████████████████████████▌                             | 1761/2299 [1:11:43<16:39,  1.86s/it]"
     ]
    },
    {
     "name": "stdout",
     "output_type": "stream",
     "text": [
      "Found 2 word(s) missing in the model. Weighted missing percentage not covered by the given model is 0.78%.\n"
     ]
    },
    {
     "name": "stderr",
     "output_type": "stream",
     "text": [
      "collecting matches info:  77%|████████████████████████████████████████████████████████████████████████████████████████████████▊                             | 1766/2299 [1:11:52<16:21,  1.84s/it]"
     ]
    },
    {
     "name": "stdout",
     "output_type": "stream",
     "text": [
      "Found 1 word(s) missing in the model. Weighted missing percentage not covered by the given model is 0.26%.\n"
     ]
    },
    {
     "name": "stderr",
     "output_type": "stream",
     "text": [
      "collecting matches info:  77%|█████████████████████████████████████████████████████████████████████████████████████████████████▎                            | 1776/2299 [1:12:11<15:59,  1.83s/it]"
     ]
    },
    {
     "name": "stdout",
     "output_type": "stream",
     "text": [
      "Found 1 word(s) missing in the model. Weighted missing percentage not covered by the given model is 5.88%.\n"
     ]
    },
    {
     "name": "stderr",
     "output_type": "stream",
     "text": [
      "collecting matches info:  77%|█████████████████████████████████████████████████████████████████████████████████████████████████▌                            | 1781/2299 [1:12:20<16:06,  1.87s/it]"
     ]
    },
    {
     "name": "stdout",
     "output_type": "stream",
     "text": [
      "Found 1 word(s) missing in the model. Weighted missing percentage not covered by the given model is 1.08%.\n"
     ]
    },
    {
     "name": "stderr",
     "output_type": "stream",
     "text": [
      "\r",
      "collecting matches info:  78%|█████████████████████████████████████████████████████████████████████████████████████████████████▋                            | 1782/2299 [1:12:23<18:59,  2.20s/it]"
     ]
    },
    {
     "name": "stdout",
     "output_type": "stream",
     "text": [
      "Found 1 word(s) missing in the model. Weighted missing percentage not covered by the given model is 1.79%.\n"
     ]
    },
    {
     "name": "stderr",
     "output_type": "stream",
     "text": [
      "collecting matches info:  78%|█████████████████████████████████████████████████████████████████████████████████████████████████▊                            | 1785/2299 [1:12:29<17:28,  2.04s/it]"
     ]
    },
    {
     "name": "stdout",
     "output_type": "stream",
     "text": [
      "Found 1 word(s) missing in the model. Weighted missing percentage not covered by the given model is 2.94%.\n"
     ]
    },
    {
     "name": "stderr",
     "output_type": "stream",
     "text": [
      "\r",
      "collecting matches info:  78%|█████████████████████████████████████████████████████████████████████████████████████████████████▉                            | 1786/2299 [1:12:31<17:21,  2.03s/it]"
     ]
    },
    {
     "name": "stdout",
     "output_type": "stream",
     "text": [
      "Found 1 word(s) missing in the model. Weighted missing percentage not covered by the given model is 0.47%.\n"
     ]
    },
    {
     "name": "stderr",
     "output_type": "stream",
     "text": [
      "collecting matches info:  79%|████████████████████████████████████████████████████████████████████████████████████████████████████                          | 1826/2299 [1:13:49<15:08,  1.92s/it]"
     ]
    },
    {
     "name": "stdout",
     "output_type": "stream",
     "text": [
      "Found 1 word(s) missing in the model. Weighted missing percentage not covered by the given model is 1.27%.\n"
     ]
    },
    {
     "name": "stderr",
     "output_type": "stream",
     "text": [
      "collecting matches info:  80%|████████████████████████████████████████████████████████████████████████████████████████████████████▋                         | 1837/2299 [1:14:10<14:36,  1.90s/it]"
     ]
    },
    {
     "name": "stdout",
     "output_type": "stream",
     "text": [
      "Found 1 word(s) missing in the model. Weighted missing percentage not covered by the given model is 0.68%.\n"
     ]
    },
    {
     "name": "stderr",
     "output_type": "stream",
     "text": [
      "collecting matches info:  80%|█████████████████████████████████████████████████████████████████████████████████████████████████████                         | 1843/2299 [1:14:22<14:32,  1.91s/it]"
     ]
    },
    {
     "name": "stdout",
     "output_type": "stream",
     "text": [
      "Found 2 word(s) missing in the model. Weighted missing percentage not covered by the given model is 1.22%.\n"
     ]
    },
    {
     "name": "stderr",
     "output_type": "stream",
     "text": [
      "collecting matches info:  80%|█████████████████████████████████████████████████████████████████████████████████████████████████████                         | 1845/2299 [1:14:26<14:17,  1.89s/it]"
     ]
    },
    {
     "name": "stdout",
     "output_type": "stream",
     "text": [
      "Found 1 word(s) missing in the model. Weighted missing percentage not covered by the given model is 1.15%.\n"
     ]
    },
    {
     "name": "stderr",
     "output_type": "stream",
     "text": [
      "collecting matches info:  81%|█████████████████████████████████████████████████████████████████████████████████████████████████████▋                        | 1855/2299 [1:14:47<16:56,  2.29s/it]"
     ]
    },
    {
     "name": "stdout",
     "output_type": "stream",
     "text": [
      "Found 3 word(s) missing in the model. Weighted missing percentage not covered by the given model is 1.57%.\n"
     ]
    },
    {
     "name": "stderr",
     "output_type": "stream",
     "text": [
      "collecting matches info:  81%|█████████████████████████████████████████████████████████████████████████████████████████████████████▊                        | 1857/2299 [1:14:51<16:38,  2.26s/it]"
     ]
    },
    {
     "name": "stdout",
     "output_type": "stream",
     "text": [
      "Found 1 word(s) missing in the model. Weighted missing percentage not covered by the given model is 0.57%.\n"
     ]
    },
    {
     "name": "stderr",
     "output_type": "stream",
     "text": [
      "collecting matches info:  81%|█████████████████████████████████████████████████████████████████████████████████████████████████████▉                        | 1861/2299 [1:15:01<16:33,  2.27s/it]"
     ]
    },
    {
     "name": "stdout",
     "output_type": "stream",
     "text": [
      "Found 1 word(s) missing in the model. Weighted missing percentage not covered by the given model is 0.88%.\n"
     ]
    },
    {
     "name": "stderr",
     "output_type": "stream",
     "text": [
      "collecting matches info:  81%|██████████████████████████████████████████████████████████████████████████████████████████████████████▏                       | 1865/2299 [1:15:08<14:32,  2.01s/it]"
     ]
    },
    {
     "name": "stdout",
     "output_type": "stream",
     "text": [
      "Found 2 word(s) missing in the model. Weighted missing percentage not covered by the given model is 0.52%.\n"
     ]
    },
    {
     "name": "stderr",
     "output_type": "stream",
     "text": [
      "\r",
      "collecting matches info:  81%|██████████████████████████████████████████████████████████████████████████████████████████████████████▎                       | 1866/2299 [1:15:10<14:12,  1.97s/it]"
     ]
    },
    {
     "name": "stdout",
     "output_type": "stream",
     "text": [
      "Found 1 word(s) missing in the model. Weighted missing percentage not covered by the given model is 0.28%.\n"
     ]
    },
    {
     "name": "stderr",
     "output_type": "stream",
     "text": [
      "collecting matches info:  81%|██████████████████████████████████████████████████████████████████████████████████████████████████████▌                       | 1872/2299 [1:15:22<13:53,  1.95s/it]"
     ]
    },
    {
     "name": "stdout",
     "output_type": "stream",
     "text": [
      "Found 3 word(s) missing in the model. Weighted missing percentage not covered by the given model is 1.83%.\n"
     ]
    },
    {
     "name": "stderr",
     "output_type": "stream",
     "text": [
      "collecting matches info:  87%|█████████████████████████████████████████████████████████████████████████████████████████████████████████████                 | 1989/2299 [1:19:10<10:13,  1.98s/it]"
     ]
    },
    {
     "name": "stdout",
     "output_type": "stream",
     "text": [
      "Found 1 word(s) missing in the model. Weighted missing percentage not covered by the given model is 0.45%.\n"
     ]
    },
    {
     "name": "stderr",
     "output_type": "stream",
     "text": [
      "collecting matches info:  87%|█████████████████████████████████████████████████████████████████████████████████████████████████████████████▋                | 2002/2299 [1:19:36<10:04,  2.04s/it]"
     ]
    },
    {
     "name": "stdout",
     "output_type": "stream",
     "text": [
      "Found 1 word(s) missing in the model. Weighted missing percentage not covered by the given model is 0.40%.\n"
     ]
    },
    {
     "name": "stderr",
     "output_type": "stream",
     "text": [
      "collecting matches info:  87%|█████████████████████████████████████████████████████████████████████████████████████████████████████████████▉                | 2007/2299 [1:19:48<11:35,  2.38s/it]"
     ]
    },
    {
     "name": "stdout",
     "output_type": "stream",
     "text": [
      "Found 1 word(s) missing in the model. Weighted missing percentage not covered by the given model is 0.71%.\n"
     ]
    },
    {
     "name": "stderr",
     "output_type": "stream",
     "text": [
      "collecting matches info:  88%|██████████████████████████████████████████████████████████████████████████████████████████████████████████████▎               | 2013/2299 [1:19:59<09:14,  1.94s/it]"
     ]
    },
    {
     "name": "stdout",
     "output_type": "stream",
     "text": [
      "Found 1 word(s) missing in the model. Weighted missing percentage not covered by the given model is 3.12%.\n"
     ]
    },
    {
     "name": "stderr",
     "output_type": "stream",
     "text": [
      "collecting matches info:  88%|███████████████████████████████████████████████████████████████████████████████████████████████████████████████               | 2026/2299 [1:20:24<08:32,  1.88s/it]"
     ]
    },
    {
     "name": "stdout",
     "output_type": "stream",
     "text": [
      "Found 1 word(s) missing in the model. Weighted missing percentage not covered by the given model is 0.38%.\n"
     ]
    },
    {
     "name": "stderr",
     "output_type": "stream",
     "text": [
      "collecting matches info:  88%|███████████████████████████████████████████████████████████████████████████████████████████████████████████████▏              | 2028/2299 [1:20:27<08:28,  1.88s/it]"
     ]
    },
    {
     "name": "stdout",
     "output_type": "stream",
     "text": [
      "Found 1 word(s) missing in the model. Weighted missing percentage not covered by the given model is 0.38%.\n"
     ]
    },
    {
     "name": "stderr",
     "output_type": "stream",
     "text": [
      "collecting matches info:  88%|███████████████████████████████████████████████████████████████████████████████████████████████████████████████▍              | 2033/2299 [1:20:37<08:11,  1.85s/it]"
     ]
    },
    {
     "name": "stdout",
     "output_type": "stream",
     "text": [
      "Found 1 word(s) missing in the model. Weighted missing percentage not covered by the given model is 0.36%.\n"
     ]
    },
    {
     "name": "stderr",
     "output_type": "stream",
     "text": [
      "\r",
      "collecting matches info:  88%|███████████████████████████████████████████████████████████████████████████████████████████████████████████████▍              | 2034/2299 [1:20:39<08:56,  2.03s/it]"
     ]
    },
    {
     "name": "stdout",
     "output_type": "stream",
     "text": [
      "Found 2 word(s) missing in the model. Weighted missing percentage not covered by the given model is 0.76%.\n"
     ]
    },
    {
     "name": "stderr",
     "output_type": "stream",
     "text": [
      "collecting matches info:  89%|███████████████████████████████████████████████████████████████████████████████████████████████████████████████▉              | 2043/2299 [1:20:56<07:54,  1.85s/it]"
     ]
    },
    {
     "name": "stdout",
     "output_type": "stream",
     "text": [
      "Found 2 word(s) missing in the model. Weighted missing percentage not covered by the given model is 2.78%.\n"
     ]
    },
    {
     "name": "stderr",
     "output_type": "stream",
     "text": [
      "collecting matches info:  90%|█████████████████████████████████████████████████████████████████████████████████████████████████████████████████▉            | 2080/2299 [1:22:06<06:57,  1.90s/it]"
     ]
    },
    {
     "name": "stdout",
     "output_type": "stream",
     "text": [
      "Found 1 word(s) missing in the model. Weighted missing percentage not covered by the given model is 0.44%.\n"
     ]
    },
    {
     "name": "stderr",
     "output_type": "stream",
     "text": [
      "\r",
      "collecting matches info:  91%|██████████████████████████████████████████████████████████████████████████████████████████████████████████████████            | 2081/2299 [1:22:08<06:54,  1.90s/it]"
     ]
    },
    {
     "name": "stdout",
     "output_type": "stream",
     "text": [
      "Found 1 word(s) missing in the model. Weighted missing percentage not covered by the given model is 0.41%.\n"
     ]
    },
    {
     "name": "stderr",
     "output_type": "stream",
     "text": [
      "collecting matches info:  91%|██████████████████████████████████████████████████████████████████████████████████████████████████████████████████▎           | 2086/2299 [1:22:17<06:50,  1.93s/it]"
     ]
    },
    {
     "name": "stdout",
     "output_type": "stream",
     "text": [
      "Found 1 word(s) missing in the model. Weighted missing percentage not covered by the given model is 0.34%.\n"
     ]
    },
    {
     "name": "stderr",
     "output_type": "stream",
     "text": [
      "collecting matches info:  91%|██████████████████████████████████████████████████████████████████████████████████████████████████████████████████▍           | 2088/2299 [1:22:21<07:00,  1.99s/it]"
     ]
    },
    {
     "name": "stdout",
     "output_type": "stream",
     "text": [
      "Found 1 word(s) missing in the model. Weighted missing percentage not covered by the given model is 0.34%.\n"
     ]
    },
    {
     "name": "stderr",
     "output_type": "stream",
     "text": [
      "collecting matches info:  92%|███████████████████████████████████████████████████████████████████████████████████████████████████████████████████▎          | 2105/2299 [1:22:55<06:26,  1.99s/it]"
     ]
    },
    {
     "name": "stdout",
     "output_type": "stream",
     "text": [
      "Found 1 word(s) missing in the model. Weighted missing percentage not covered by the given model is 5.26%.\n"
     ]
    },
    {
     "name": "stderr",
     "output_type": "stream",
     "text": [
      "collecting matches info:  92%|███████████████████████████████████████████████████████████████████████████████████████████████████████████████████▋          | 2110/2299 [1:23:07<07:32,  2.39s/it]"
     ]
    },
    {
     "name": "stdout",
     "output_type": "stream",
     "text": [
      "Found 1 word(s) missing in the model. Weighted missing percentage not covered by the given model is 0.31%.\n"
     ]
    },
    {
     "name": "stderr",
     "output_type": "stream",
     "text": [
      "collecting matches info:  92%|████████████████████████████████████████████████████████████████████████████████████████████████████████████████████▌         | 2126/2299 [1:23:39<05:30,  1.91s/it]"
     ]
    },
    {
     "name": "stdout",
     "output_type": "stream",
     "text": [
      "Found 1 word(s) missing in the model. Weighted missing percentage not covered by the given model is 5.56%.\n"
     ]
    },
    {
     "name": "stderr",
     "output_type": "stream",
     "text": [
      "collecting matches info:  93%|█████████████████████████████████████████████████████████████████████████████████████████████████████████████████████▏        | 2138/2299 [1:24:02<05:07,  1.91s/it]"
     ]
    },
    {
     "name": "stdout",
     "output_type": "stream",
     "text": [
      "Found 1 word(s) missing in the model. Weighted missing percentage not covered by the given model is 5.56%.\n"
     ]
    },
    {
     "name": "stderr",
     "output_type": "stream",
     "text": [
      "\r",
      "collecting matches info:  93%|█████████████████████████████████████████████████████████████████████████████████████████████████████████████████████▏        | 2139/2299 [1:24:04<05:03,  1.89s/it]"
     ]
    },
    {
     "name": "stdout",
     "output_type": "stream",
     "text": [
      "Found 1 word(s) missing in the model. Weighted missing percentage not covered by the given model is 5.88%.\n"
     ]
    },
    {
     "name": "stderr",
     "output_type": "stream",
     "text": [
      "collecting matches info:  93%|█████████████████████████████████████████████████████████████████████████████████████████████████████████████████████▍        | 2142/2299 [1:24:10<05:08,  1.97s/it]"
     ]
    },
    {
     "name": "stdout",
     "output_type": "stream",
     "text": [
      "Found 1 word(s) missing in the model. Weighted missing percentage not covered by the given model is 4.55%.\n"
     ]
    },
    {
     "name": "stderr",
     "output_type": "stream",
     "text": [
      "collecting matches info:  94%|█████████████████████████████████████████████████████████████████████████████████████████████████████████████████████▉        | 2151/2299 [1:24:28<04:58,  2.02s/it]"
     ]
    },
    {
     "name": "stdout",
     "output_type": "stream",
     "text": [
      "Found 2 word(s) missing in the model. Weighted missing percentage not covered by the given model is 5.56%.\n"
     ]
    },
    {
     "name": "stderr",
     "output_type": "stream",
     "text": [
      "collecting matches info:  94%|██████████████████████████████████████████████████████████████████████████████████████████████████████████████████████▎       | 2158/2299 [1:24:41<04:29,  1.91s/it]"
     ]
    },
    {
     "name": "stdout",
     "output_type": "stream",
     "text": [
      "Found 1 word(s) missing in the model. Weighted missing percentage not covered by the given model is 5.56%.\n"
     ]
    },
    {
     "name": "stderr",
     "output_type": "stream",
     "text": [
      "collecting matches info:  94%|██████████████████████████████████████████████████████████████████████████████████████████████████████████████████████▊       | 2167/2299 [1:24:59<04:10,  1.90s/it]"
     ]
    },
    {
     "name": "stdout",
     "output_type": "stream",
     "text": [
      "Found 1 word(s) missing in the model. Weighted missing percentage not covered by the given model is 5.88%.\n"
     ]
    },
    {
     "name": "stderr",
     "output_type": "stream",
     "text": [
      "\r",
      "collecting matches info:  94%|██████████████████████████████████████████████████████████████████████████████████████████████████████████████████████▊       | 2168/2299 [1:25:00<04:07,  1.89s/it]"
     ]
    },
    {
     "name": "stdout",
     "output_type": "stream",
     "text": [
      "Found 1 word(s) missing in the model. Weighted missing percentage not covered by the given model is 4.00%.\n"
     ]
    },
    {
     "name": "stderr",
     "output_type": "stream",
     "text": [
      "collecting matches info:  95%|███████████████████████████████████████████████████████████████████████████████████████████████████████████████████████▍      | 2179/2299 [1:25:21<03:49,  1.91s/it]"
     ]
    },
    {
     "name": "stdout",
     "output_type": "stream",
     "text": [
      "Found 3 word(s) missing in the model. Weighted missing percentage not covered by the given model is 10.00%.\n"
     ]
    },
    {
     "name": "stderr",
     "output_type": "stream",
     "text": [
      "collecting matches info:  95%|███████████████████████████████████████████████████████████████████████████████████████████████████████████████████████▌      | 2182/2299 [1:25:27<03:42,  1.90s/it]"
     ]
    },
    {
     "name": "stdout",
     "output_type": "stream",
     "text": [
      "Found 1 word(s) missing in the model. Weighted missing percentage not covered by the given model is 4.55%.\n"
     ]
    },
    {
     "name": "stderr",
     "output_type": "stream",
     "text": [
      "collecting matches info:  96%|████████████████████████████████████████████████████████████████████████████████████████████████████████████████████████▌     | 2200/2299 [1:26:02<03:11,  1.94s/it]"
     ]
    },
    {
     "name": "stdout",
     "output_type": "stream",
     "text": [
      "Found 3 word(s) missing in the model. Weighted missing percentage not covered by the given model is 0.80%.\n"
     ]
    },
    {
     "name": "stderr",
     "output_type": "stream",
     "text": [
      "\r",
      "collecting matches info:  96%|████████████████████████████████████████████████████████████████████████████████████████████████████████████████████████▋     | 2201/2299 [1:26:04<03:10,  1.95s/it]"
     ]
    },
    {
     "name": "stdout",
     "output_type": "stream",
     "text": [
      "Found 4 word(s) missing in the model. Weighted missing percentage not covered by the given model is 2.88%.\n"
     ]
    },
    {
     "name": "stderr",
     "output_type": "stream",
     "text": [
      "collecting matches info:  96%|████████████████████████████████████████████████████████████████████████████████████████████████████████████████████████▋     | 2203/2299 [1:26:08<03:05,  1.93s/it]"
     ]
    },
    {
     "name": "stdout",
     "output_type": "stream",
     "text": [
      "Found 5 word(s) missing in the model. Weighted missing percentage not covered by the given model is 3.33%.\n"
     ]
    },
    {
     "name": "stderr",
     "output_type": "stream",
     "text": [
      "collecting matches info:  96%|████████████████████████████████████████████████████████████████████████████████████████████████████████████████████████▉     | 2206/2299 [1:26:13<02:56,  1.89s/it]"
     ]
    },
    {
     "name": "stdout",
     "output_type": "stream",
     "text": [
      "Found 7 word(s) missing in the model. Weighted missing percentage not covered by the given model is 5.15%.\n"
     ]
    },
    {
     "name": "stderr",
     "output_type": "stream",
     "text": [
      "collecting matches info:  96%|█████████████████████████████████████████████████████████████████████████████████████████████████████████████████████████     | 2208/2299 [1:26:17<02:50,  1.87s/it]"
     ]
    },
    {
     "name": "stdout",
     "output_type": "stream",
     "text": [
      "Found 5 word(s) missing in the model. Weighted missing percentage not covered by the given model is 3.25%.\n"
     ]
    },
    {
     "name": "stderr",
     "output_type": "stream",
     "text": [
      "collecting matches info:  96%|█████████████████████████████████████████████████████████████████████████████████████████████████████████████████████████▏    | 2211/2299 [1:26:23<02:45,  1.88s/it]"
     ]
    },
    {
     "name": "stdout",
     "output_type": "stream",
     "text": [
      "Found 6 word(s) missing in the model. Weighted missing percentage not covered by the given model is 2.23%.\n"
     ]
    },
    {
     "name": "stderr",
     "output_type": "stream",
     "text": [
      "collecting matches info:  96%|█████████████████████████████████████████████████████████████████████████████████████████████████████████████████████████▍    | 2215/2299 [1:26:30<02:39,  1.90s/it]"
     ]
    },
    {
     "name": "stdout",
     "output_type": "stream",
     "text": [
      "Found 6 word(s) missing in the model. Weighted missing percentage not covered by the given model is 2.19%.\n"
     ]
    },
    {
     "name": "stderr",
     "output_type": "stream",
     "text": [
      "collecting matches info:  96%|█████████████████████████████████████████████████████████████████████████████████████████████████████████████████████████▌    | 2218/2299 [1:26:36<02:33,  1.89s/it]"
     ]
    },
    {
     "name": "stdout",
     "output_type": "stream",
     "text": [
      "Found 1 word(s) missing in the model. Weighted missing percentage not covered by the given model is 0.37%.\n"
     ]
    },
    {
     "name": "stderr",
     "output_type": "stream",
     "text": [
      "collecting matches info:  97%|█████████████████████████████████████████████████████████████████████████████████████████████████████████████████████████▋    | 2221/2299 [1:26:42<02:26,  1.88s/it]"
     ]
    },
    {
     "name": "stdout",
     "output_type": "stream",
     "text": [
      "Found 9 word(s) missing in the model. Weighted missing percentage not covered by the given model is 3.32%.\n"
     ]
    },
    {
     "name": "stderr",
     "output_type": "stream",
     "text": [
      "collecting matches info:  97%|█████████████████████████████████████████████████████████████████████████████████████████████████████████████████████████▊    | 2223/2299 [1:26:45<02:25,  1.92s/it]"
     ]
    },
    {
     "name": "stdout",
     "output_type": "stream",
     "text": [
      "Found 1 word(s) missing in the model. Weighted missing percentage not covered by the given model is 0.38%.\n"
     ]
    },
    {
     "name": "stderr",
     "output_type": "stream",
     "text": [
      "\r",
      "collecting matches info:  97%|█████████████████████████████████████████████████████████████████████████████████████████████████████████████████████████▉    | 2224/2299 [1:26:47<02:21,  1.89s/it]"
     ]
    },
    {
     "name": "stdout",
     "output_type": "stream",
     "text": [
      "Found 8 word(s) missing in the model. Weighted missing percentage not covered by the given model is 2.99%.\n"
     ]
    },
    {
     "name": "stderr",
     "output_type": "stream",
     "text": [
      "collecting matches info:  97%|██████████████████████████████████████████████████████████████████████████████████████████████████████████████████████████▎   | 2232/2299 [1:27:02<02:07,  1.91s/it]"
     ]
    },
    {
     "name": "stdout",
     "output_type": "stream",
     "text": [
      "Found 1 word(s) missing in the model. Weighted missing percentage not covered by the given model is 0.37%.\n"
     ]
    },
    {
     "name": "stderr",
     "output_type": "stream",
     "text": [
      "collecting matches info:  97%|██████████████████████████████████████████████████████████████████████████████████████████████████████████████████████████▌   | 2237/2299 [1:27:12<01:56,  1.88s/it]"
     ]
    },
    {
     "name": "stdout",
     "output_type": "stream",
     "text": [
      "Found 3 word(s) missing in the model. Weighted missing percentage not covered by the given model is 1.12%.\n"
     ]
    },
    {
     "name": "stderr",
     "output_type": "stream",
     "text": [
      "collecting matches info:  99%|████████████████████████████████████████████████████████████████████████████████████████████████████████████████████████████▋ | 2276/2299 [1:28:27<00:46,  2.02s/it]"
     ]
    },
    {
     "name": "stdout",
     "output_type": "stream",
     "text": [
      "Found 1 word(s) missing in the model. Weighted missing percentage not covered by the given model is 2.22%.\n"
     ]
    },
    {
     "name": "stderr",
     "output_type": "stream",
     "text": [
      "collecting matches info:  99%|█████████████████████████████████████████████████████████████████████████████████████████████████████████████████████████████▏| 2284/2299 [1:28:42<00:27,  1.86s/it]"
     ]
    },
    {
     "name": "stdout",
     "output_type": "stream",
     "text": [
      "Found 1 word(s) missing in the model. Weighted missing percentage not covered by the given model is 0.60%.\n"
     ]
    },
    {
     "name": "stderr",
     "output_type": "stream",
     "text": [
      "collecting matches info: 100%|█████████████████████████████████████████████████████████████████████████████████████████████████████████████████████████████▌| 2290/2299 [1:28:53<00:16,  1.87s/it]"
     ]
    },
    {
     "name": "stdout",
     "output_type": "stream",
     "text": [
      "Found 3 word(s) missing in the model. Weighted missing percentage not covered by the given model is 4.62%.\n"
     ]
    },
    {
     "name": "stderr",
     "output_type": "stream",
     "text": [
      "collecting matches info: 100%|█████████████████████████████████████████████████████████████████████████████████████████████████████████████████████████████▌| 2292/2299 [1:28:57<00:13,  1.88s/it]"
     ]
    },
    {
     "name": "stdout",
     "output_type": "stream",
     "text": [
      "Found 3 word(s) missing in the model. Weighted missing percentage not covered by the given model is 0.96%.\n"
     ]
    },
    {
     "name": "stderr",
     "output_type": "stream",
     "text": [
      "collecting matches info: 100%|█████████████████████████████████████████████████████████████████████████████████████████████████████████████████████████████▊| 2295/2299 [1:29:03<00:07,  1.89s/it]"
     ]
    },
    {
     "name": "stdout",
     "output_type": "stream",
     "text": [
      "Found 2 word(s) missing in the model. Weighted missing percentage not covered by the given model is 0.70%.\n"
     ]
    },
    {
     "name": "stderr",
     "output_type": "stream",
     "text": [
      "collecting matches info: 100%|█████████████████████████████████████████████████████████████████████████████████████████████████████████████████████████████▉| 2297/2299 [1:29:06<00:03,  1.90s/it]"
     ]
    },
    {
     "name": "stdout",
     "output_type": "stream",
     "text": [
      "Found 4 word(s) missing in the model. Weighted missing percentage not covered by the given model is 1.27%.\n"
     ]
    },
    {
     "name": "stderr",
     "output_type": "stream",
     "text": [
      "\r",
      "collecting matches info: 100%|█████████████████████████████████████████████████████████████████████████████████████████████████████████████████████████████▉| 2298/2299 [1:29:08<00:01,  1.94s/it]"
     ]
    },
    {
     "name": "stdout",
     "output_type": "stream",
     "text": [
      "Found 1 word(s) missing in the model. Weighted missing percentage not covered by the given model is 0.35%.\n"
     ]
    },
    {
     "name": "stderr",
     "output_type": "stream",
     "text": [
      "collecting matches info: 100%|██████████████████████████████████████████████████████████████████████████████████████████████████████████████████████████████| 2299/2299 [1:29:10<00:00,  2.33s/it]\n"
     ]
    }
   ],
   "source": [
    "ms2query_model = \"../downloads/gnps_210409/train_ms2query_model/ms2query_model_all_scores.hdf5\"\n",
    "ms2library = MS2Library(sqlite_file, s2v_model_file, ms2ds_model_file, s2v_embeddings_file, ms2ds_embeddings_file)\n",
    "print(\"Calculating all MS2DS scores\")\n",
    "\n",
    "result = ms2library.select_best_matches(validation_spectra_without_match, ms2query_model, preselection_cut_off = 2000)\n",
    "import pickle\n",
    "pickle.dump(result, open(\"../downloads/gnps_210409/train_ms2query_model/results_with_match_all_scores.pickle\", \"wb\"))"
   ]
  },
  {
   "cell_type": "code",
   "execution_count": 12,
   "metadata": {},
   "outputs": [
    {
     "name": "stdout",
     "output_type": "stream",
     "text": [
      "Calculating all MS2DS scores\n"
     ]
    },
    {
     "name": "stderr",
     "output_type": "stream",
     "text": [
      "collecting matches info:   0%|▎                                                                                                                                | 5/2250 [00:13<1:30:01,  2.41s/it]"
     ]
    },
    {
     "name": "stdout",
     "output_type": "stream",
     "text": [
      "Found 1 word(s) missing in the model. Weighted missing percentage not covered by the given model is 1.01%.\n"
     ]
    },
    {
     "name": "stderr",
     "output_type": "stream",
     "text": [
      "collecting matches info:   1%|▋                                                                                                                               | 12/2250 [00:27<1:17:05,  2.07s/it]"
     ]
    },
    {
     "name": "stdout",
     "output_type": "stream",
     "text": [
      "Found 2 word(s) missing in the model. Weighted missing percentage not covered by the given model is 3.57%.\n"
     ]
    },
    {
     "name": "stderr",
     "output_type": "stream",
     "text": [
      "collecting matches info:   3%|███▊                                                                                                                            | 68/2250 [02:17<1:14:41,  2.05s/it]"
     ]
    },
    {
     "name": "stdout",
     "output_type": "stream",
     "text": [
      "Found 1 word(s) missing in the model. Weighted missing percentage not covered by the given model is 0.33%.\n"
     ]
    },
    {
     "name": "stderr",
     "output_type": "stream",
     "text": [
      "collecting matches info:   3%|███▉                                                                                                                            | 70/2250 [02:21<1:12:58,  2.01s/it]"
     ]
    },
    {
     "name": "stdout",
     "output_type": "stream",
     "text": [
      "Found 1 word(s) missing in the model. Weighted missing percentage not covered by the given model is 1.32%.\n"
     ]
    },
    {
     "name": "stderr",
     "output_type": "stream",
     "text": [
      "collecting matches info:   3%|████▍                                                                                                                           | 77/2250 [02:35<1:11:08,  1.96s/it]"
     ]
    },
    {
     "name": "stdout",
     "output_type": "stream",
     "text": [
      "Found 1 word(s) missing in the model. Weighted missing percentage not covered by the given model is 0.59%.\n"
     ]
    },
    {
     "name": "stderr",
     "output_type": "stream",
     "text": [
      "\r",
      "collecting matches info:   3%|████▍                                                                                                                           | 78/2250 [02:37<1:11:49,  1.98s/it]"
     ]
    },
    {
     "name": "stdout",
     "output_type": "stream",
     "text": [
      "Found 1 word(s) missing in the model. Weighted missing percentage not covered by the given model is 0.44%.\n"
     ]
    },
    {
     "name": "stderr",
     "output_type": "stream",
     "text": [
      "collecting matches info:   4%|█████▎                                                                                                                          | 93/2250 [03:07<1:10:23,  1.96s/it]"
     ]
    },
    {
     "name": "stdout",
     "output_type": "stream",
     "text": [
      "Found 1 word(s) missing in the model. Weighted missing percentage not covered by the given model is 0.87%.\n"
     ]
    },
    {
     "name": "stderr",
     "output_type": "stream",
     "text": [
      "collecting matches info:   5%|█████▊                                                                                                                         | 102/2250 [03:24<1:07:55,  1.90s/it]"
     ]
    },
    {
     "name": "stdout",
     "output_type": "stream",
     "text": [
      "Found 1 word(s) missing in the model. Weighted missing percentage not covered by the given model is 0.53%.\n"
     ]
    },
    {
     "name": "stderr",
     "output_type": "stream",
     "text": [
      "\r",
      "collecting matches info:   5%|█████▊                                                                                                                         | 103/2250 [03:26<1:07:37,  1.89s/it]"
     ]
    },
    {
     "name": "stdout",
     "output_type": "stream",
     "text": [
      "Found 1 word(s) missing in the model. Weighted missing percentage not covered by the given model is 1.10%.\n"
     ]
    },
    {
     "name": "stderr",
     "output_type": "stream",
     "text": [
      "collecting matches info:   5%|█████▉                                                                                                                         | 105/2250 [03:30<1:09:06,  1.93s/it]"
     ]
    },
    {
     "name": "stdout",
     "output_type": "stream",
     "text": [
      "Found 1 word(s) missing in the model. Weighted missing percentage not covered by the given model is 1.11%.\n"
     ]
    },
    {
     "name": "stderr",
     "output_type": "stream",
     "text": [
      "collecting matches info:   6%|███████▌                                                                                                                       | 135/2250 [04:27<1:08:37,  1.95s/it]"
     ]
    },
    {
     "name": "stdout",
     "output_type": "stream",
     "text": [
      "Found 5 word(s) missing in the model. Weighted missing percentage not covered by the given model is 8.47%.\n"
     ]
    },
    {
     "name": "stderr",
     "output_type": "stream",
     "text": [
      "collecting matches info:   6%|████████▏                                                                                                                      | 146/2250 [04:47<1:06:04,  1.88s/it]"
     ]
    },
    {
     "name": "stdout",
     "output_type": "stream",
     "text": [
      "Found 1 word(s) missing in the model. Weighted missing percentage not covered by the given model is 0.43%.\n"
     ]
    },
    {
     "name": "stderr",
     "output_type": "stream",
     "text": [
      "\r",
      "collecting matches info:   7%|████████▎                                                                                                                      | 147/2250 [04:49<1:05:33,  1.87s/it]"
     ]
    },
    {
     "name": "stdout",
     "output_type": "stream",
     "text": [
      "Found 1 word(s) missing in the model. Weighted missing percentage not covered by the given model is 0.45%.\n"
     ]
    },
    {
     "name": "stderr",
     "output_type": "stream",
     "text": [
      "collecting matches info:   7%|█████████▍                                                                                                                     | 167/2250 [05:28<1:06:04,  1.90s/it]"
     ]
    },
    {
     "name": "stdout",
     "output_type": "stream",
     "text": [
      "Found 1 word(s) missing in the model. Weighted missing percentage not covered by the given model is 0.58%.\n"
     ]
    },
    {
     "name": "stderr",
     "output_type": "stream",
     "text": [
      "\r",
      "collecting matches info:   7%|█████████▍                                                                                                                     | 168/2250 [05:30<1:08:37,  1.98s/it]"
     ]
    },
    {
     "name": "stdout",
     "output_type": "stream",
     "text": [
      "Found 1 word(s) missing in the model. Weighted missing percentage not covered by the given model is 0.28%.\n"
     ]
    },
    {
     "name": "stderr",
     "output_type": "stream",
     "text": [
      "collecting matches info:   8%|█████████▋                                                                                                                     | 171/2250 [05:36<1:09:52,  2.02s/it]"
     ]
    },
    {
     "name": "stdout",
     "output_type": "stream",
     "text": [
      "Found 3 word(s) missing in the model. Weighted missing percentage not covered by the given model is 1.47%.\n"
     ]
    },
    {
     "name": "stderr",
     "output_type": "stream",
     "text": [
      "collecting matches info:   9%|███████████▋                                                                                                                   | 207/2250 [06:46<1:05:33,  1.93s/it]"
     ]
    },
    {
     "name": "stdout",
     "output_type": "stream",
     "text": [
      "Found 1 word(s) missing in the model. Weighted missing percentage not covered by the given model is 1.39%.\n"
     ]
    },
    {
     "name": "stderr",
     "output_type": "stream",
     "text": [
      "collecting matches info:   9%|████████████                                                                                                                   | 213/2250 [06:58<1:06:28,  1.96s/it]"
     ]
    },
    {
     "name": "stdout",
     "output_type": "stream",
     "text": [
      "Found 1 word(s) missing in the model. Weighted missing percentage not covered by the given model is 0.24%.\n"
     ]
    },
    {
     "name": "stderr",
     "output_type": "stream",
     "text": [
      "collecting matches info:  10%|████████████▏                                                                                                                  | 217/2250 [07:06<1:05:44,  1.94s/it]"
     ]
    },
    {
     "name": "stdout",
     "output_type": "stream",
     "text": [
      "Found 1 word(s) missing in the model. Weighted missing percentage not covered by the given model is 0.59%.\n"
     ]
    },
    {
     "name": "stderr",
     "output_type": "stream",
     "text": [
      "collecting matches info:  10%|████████████▉                                                                                                                  | 229/2250 [07:28<1:03:41,  1.89s/it]"
     ]
    },
    {
     "name": "stdout",
     "output_type": "stream",
     "text": [
      "Found 1 word(s) missing in the model. Weighted missing percentage not covered by the given model is 1.92%.\n"
     ]
    },
    {
     "name": "stderr",
     "output_type": "stream",
     "text": [
      "collecting matches info:  13%|████████████████                                                                                                               | 284/2250 [09:13<1:02:59,  1.92s/it]"
     ]
    },
    {
     "name": "stdout",
     "output_type": "stream",
     "text": [
      "Found 3 word(s) missing in the model. Weighted missing percentage not covered by the given model is 2.48%.\n"
     ]
    },
    {
     "name": "stderr",
     "output_type": "stream",
     "text": [
      "\r",
      "collecting matches info:  13%|████████████████                                                                                                               | 285/2250 [09:15<1:02:29,  1.91s/it]"
     ]
    },
    {
     "name": "stdout",
     "output_type": "stream",
     "text": [
      "Found 12 word(s) missing in the model. Weighted missing percentage not covered by the given model is 7.36%.\n"
     ]
    },
    {
     "name": "stderr",
     "output_type": "stream",
     "text": [
      "collecting matches info:  13%|████████████████▏                                                                                                              | 287/2250 [09:19<1:03:00,  1.93s/it]"
     ]
    },
    {
     "name": "stdout",
     "output_type": "stream",
     "text": [
      "Found 1 word(s) missing in the model. Weighted missing percentage not covered by the given model is 6.67%.\n"
     ]
    },
    {
     "name": "stderr",
     "output_type": "stream",
     "text": [
      "\r",
      "collecting matches info:  13%|████████████████▎                                                                                                              | 288/2250 [09:21<1:05:25,  2.00s/it]"
     ]
    },
    {
     "name": "stdout",
     "output_type": "stream",
     "text": [
      "Found 6 word(s) missing in the model. Weighted missing percentage not covered by the given model is 4.80%.\n"
     ]
    },
    {
     "name": "stderr",
     "output_type": "stream",
     "text": [
      "\r",
      "collecting matches info:  13%|████████████████▎                                                                                                              | 289/2250 [09:23<1:04:15,  1.97s/it]"
     ]
    },
    {
     "name": "stdout",
     "output_type": "stream",
     "text": [
      "Found 8 word(s) missing in the model. Weighted missing percentage not covered by the given model is 5.16%.\n"
     ]
    },
    {
     "name": "stderr",
     "output_type": "stream",
     "text": [
      "collecting matches info:  13%|████████████████▋                                                                                                              | 295/2250 [09:34<1:02:04,  1.90s/it]"
     ]
    },
    {
     "name": "stdout",
     "output_type": "stream",
     "text": [
      "Found 2 word(s) missing in the model. Weighted missing percentage not covered by the given model is 6.06%.\n"
     ]
    },
    {
     "name": "stderr",
     "output_type": "stream",
     "text": [
      "collecting matches info:  13%|████████████████▊                                                                                                              | 297/2250 [09:38<1:02:26,  1.92s/it]"
     ]
    },
    {
     "name": "stdout",
     "output_type": "stream",
     "text": [
      "Found 1 word(s) missing in the model. Weighted missing percentage not covered by the given model is 4.35%.\n"
     ]
    },
    {
     "name": "stderr",
     "output_type": "stream",
     "text": [
      "collecting matches info:  14%|█████████████████▏                                                                                                             | 305/2250 [09:54<1:04:55,  2.00s/it]"
     ]
    },
    {
     "name": "stdout",
     "output_type": "stream",
     "text": [
      "Found 1 word(s) missing in the model. Weighted missing percentage not covered by the given model is 4.55%.\n"
     ]
    },
    {
     "name": "stderr",
     "output_type": "stream",
     "text": [
      "collecting matches info:  14%|█████████████████▉                                                                                                             | 317/2250 [10:17<1:00:36,  1.88s/it]"
     ]
    },
    {
     "name": "stdout",
     "output_type": "stream",
     "text": [
      "Found 1 word(s) missing in the model. Weighted missing percentage not covered by the given model is 0.61%.\n"
     ]
    },
    {
     "name": "stderr",
     "output_type": "stream",
     "text": [
      "\r",
      "collecting matches info:  14%|█████████████████▉                                                                                                             | 318/2250 [10:19<1:00:33,  1.88s/it]"
     ]
    },
    {
     "name": "stdout",
     "output_type": "stream",
     "text": [
      "Found 1 word(s) missing in the model. Weighted missing percentage not covered by the given model is 0.61%.\n"
     ]
    },
    {
     "name": "stderr",
     "output_type": "stream",
     "text": [
      "\r",
      "collecting matches info:  14%|██████████████████                                                                                                             | 319/2250 [10:21<1:01:45,  1.92s/it]"
     ]
    },
    {
     "name": "stdout",
     "output_type": "stream",
     "text": [
      "Found 1 word(s) missing in the model. Weighted missing percentage not covered by the given model is 0.48%.\n"
     ]
    },
    {
     "name": "stderr",
     "output_type": "stream",
     "text": [
      "collecting matches info:  16%|███████████████████▋                                                                                                           | 349/2250 [11:19<1:00:29,  1.91s/it]"
     ]
    },
    {
     "name": "stdout",
     "output_type": "stream",
     "text": [
      "Found 6 word(s) missing in the model. Weighted missing percentage not covered by the given model is 2.63%.\n"
     ]
    },
    {
     "name": "stderr",
     "output_type": "stream",
     "text": [
      "\r",
      "collecting matches info:  16%|███████████████████▊                                                                                                           | 350/2250 [11:21<1:01:41,  1.95s/it]"
     ]
    },
    {
     "name": "stdout",
     "output_type": "stream",
     "text": [
      "Found 13 word(s) missing in the model. Weighted missing percentage not covered by the given model is 6.22%.\n"
     ]
    },
    {
     "name": "stderr",
     "output_type": "stream",
     "text": [
      "collecting matches info:  16%|███████████████████▊                                                                                                           | 352/2250 [11:25<1:04:30,  2.04s/it]"
     ]
    },
    {
     "name": "stdout",
     "output_type": "stream",
     "text": [
      "Found 7 word(s) missing in the model. Weighted missing percentage not covered by the given model is 3.11%.\n"
     ]
    },
    {
     "name": "stderr",
     "output_type": "stream",
     "text": [
      "\r",
      "collecting matches info:  16%|███████████████████▉                                                                                                           | 353/2250 [11:28<1:06:52,  2.12s/it]"
     ]
    },
    {
     "name": "stdout",
     "output_type": "stream",
     "text": [
      "Found 15 word(s) missing in the model. Weighted missing percentage not covered by the given model is 7.04%.\n"
     ]
    },
    {
     "name": "stderr",
     "output_type": "stream",
     "text": [
      "collecting matches info:  16%|████████████████████▏                                                                                                          | 357/2250 [11:37<1:09:59,  2.22s/it]"
     ]
    },
    {
     "name": "stdout",
     "output_type": "stream",
     "text": [
      "Found 11 word(s) missing in the model. Weighted missing percentage not covered by the given model is 4.93%.\n"
     ]
    },
    {
     "name": "stderr",
     "output_type": "stream",
     "text": [
      "\r",
      "collecting matches info:  16%|████████████████████▏                                                                                                          | 358/2250 [11:39<1:06:52,  2.12s/it]"
     ]
    },
    {
     "name": "stdout",
     "output_type": "stream",
     "text": [
      "Found 17 word(s) missing in the model. Weighted missing percentage not covered by the given model is 8.06%.\n"
     ]
    },
    {
     "name": "stderr",
     "output_type": "stream",
     "text": [
      "collecting matches info:  16%|████████████████████▍                                                                                                          | 362/2250 [11:46<1:02:12,  1.98s/it]"
     ]
    },
    {
     "name": "stdout",
     "output_type": "stream",
     "text": [
      "Found 6 word(s) missing in the model. Weighted missing percentage not covered by the given model is 2.80%.\n"
     ]
    },
    {
     "name": "stderr",
     "output_type": "stream",
     "text": [
      "\r",
      "collecting matches info:  16%|████████████████████▍                                                                                                          | 363/2250 [11:48<1:01:54,  1.97s/it]"
     ]
    },
    {
     "name": "stdout",
     "output_type": "stream",
     "text": [
      "Found 15 word(s) missing in the model. Weighted missing percentage not covered by the given model is 7.28%.\n"
     ]
    },
    {
     "name": "stderr",
     "output_type": "stream",
     "text": [
      "collecting matches info:  16%|████████████████████▋                                                                                                          | 366/2250 [11:54<1:00:42,  1.93s/it]"
     ]
    },
    {
     "name": "stdout",
     "output_type": "stream",
     "text": [
      "Found 7 word(s) missing in the model. Weighted missing percentage not covered by the given model is 4.22%.\n"
     ]
    },
    {
     "name": "stderr",
     "output_type": "stream",
     "text": [
      "\r",
      "collecting matches info:  16%|████████████████████▋                                                                                                          | 367/2250 [11:56<1:01:36,  1.96s/it]"
     ]
    },
    {
     "name": "stdout",
     "output_type": "stream",
     "text": [
      "Found 10 word(s) missing in the model. Weighted missing percentage not covered by the given model is 5.08%.\n"
     ]
    },
    {
     "name": "stderr",
     "output_type": "stream",
     "text": [
      "\r",
      "collecting matches info:  16%|████████████████████▊                                                                                                          | 368/2250 [11:58<1:00:48,  1.94s/it]"
     ]
    },
    {
     "name": "stdout",
     "output_type": "stream",
     "text": [
      "Found 1 word(s) missing in the model. Weighted missing percentage not covered by the given model is 5.88%.\n"
     ]
    },
    {
     "name": "stderr",
     "output_type": "stream",
     "text": [
      "\r",
      "collecting matches info:  16%|████████████████████▊                                                                                                          | 369/2250 [12:00<1:01:01,  1.95s/it]"
     ]
    },
    {
     "name": "stdout",
     "output_type": "stream",
     "text": [
      "Found 1 word(s) missing in the model. Weighted missing percentage not covered by the given model is 5.00%.\n"
     ]
    },
    {
     "name": "stderr",
     "output_type": "stream",
     "text": [
      "\r",
      "collecting matches info:  16%|████████████████████▉                                                                                                          | 370/2250 [12:02<1:01:41,  1.97s/it]"
     ]
    },
    {
     "name": "stdout",
     "output_type": "stream",
     "text": [
      "Found 8 word(s) missing in the model. Weighted missing percentage not covered by the given model is 4.68%.\n"
     ]
    },
    {
     "name": "stderr",
     "output_type": "stream",
     "text": [
      "\r",
      "collecting matches info:  16%|████████████████████▉                                                                                                          | 371/2250 [12:04<1:00:56,  1.95s/it]"
     ]
    },
    {
     "name": "stdout",
     "output_type": "stream",
     "text": [
      "Found 6 word(s) missing in the model. Weighted missing percentage not covered by the given model is 3.24%.\n"
     ]
    },
    {
     "name": "stderr",
     "output_type": "stream",
     "text": [
      "\r",
      "collecting matches info:  17%|█████████████████████▎                                                                                                           | 372/2250 [12:06<59:56,  1.91s/it]"
     ]
    },
    {
     "name": "stdout",
     "output_type": "stream",
     "text": [
      "Found 1 word(s) missing in the model. Weighted missing percentage not covered by the given model is 6.25%.\n"
     ]
    },
    {
     "name": "stderr",
     "output_type": "stream",
     "text": [
      "\r",
      "collecting matches info:  17%|█████████████████████                                                                                                          | 373/2250 [12:08<1:00:36,  1.94s/it]"
     ]
    },
    {
     "name": "stdout",
     "output_type": "stream",
     "text": [
      "Found 1 word(s) missing in the model. Weighted missing percentage not covered by the given model is 5.26%.\n"
     ]
    },
    {
     "name": "stderr",
     "output_type": "stream",
     "text": [
      "collecting matches info:  17%|█████████████████████▊                                                                                                         | 386/2250 [12:34<1:10:39,  2.27s/it]"
     ]
    },
    {
     "name": "stdout",
     "output_type": "stream",
     "text": [
      "Found 1 word(s) missing in the model. Weighted missing percentage not covered by the given model is 2.08%.\n"
     ]
    },
    {
     "name": "stderr",
     "output_type": "stream",
     "text": [
      "collecting matches info:  17%|█████████████████████▉                                                                                                         | 389/2250 [12:40<1:01:59,  2.00s/it]"
     ]
    },
    {
     "name": "stdout",
     "output_type": "stream",
     "text": [
      "Found 2 word(s) missing in the model. Weighted missing percentage not covered by the given model is 0.65%.\n"
     ]
    },
    {
     "name": "stderr",
     "output_type": "stream",
     "text": [
      "collecting matches info:  18%|██████████████████████▊                                                                                                        | 404/2250 [13:09<1:00:31,  1.97s/it]"
     ]
    },
    {
     "name": "stdout",
     "output_type": "stream",
     "text": [
      "Found 1 word(s) missing in the model. Weighted missing percentage not covered by the given model is 0.89%.\n"
     ]
    },
    {
     "name": "stderr",
     "output_type": "stream",
     "text": [
      "collecting matches info:  18%|███████████████████████▋                                                                                                         | 414/2250 [13:28<58:08,  1.90s/it]"
     ]
    },
    {
     "name": "stdout",
     "output_type": "stream",
     "text": [
      "Found 2 word(s) missing in the model. Weighted missing percentage not covered by the given model is 1.18%.\n"
     ]
    },
    {
     "name": "stderr",
     "output_type": "stream",
     "text": [
      "collecting matches info:  18%|███████████████████████▊                                                                                                         | 416/2250 [13:32<58:05,  1.90s/it]"
     ]
    },
    {
     "name": "stdout",
     "output_type": "stream",
     "text": [
      "Found 1 word(s) missing in the model. Weighted missing percentage not covered by the given model is 0.63%.\n"
     ]
    },
    {
     "name": "stderr",
     "output_type": "stream",
     "text": [
      "collecting matches info:  19%|████████████████████████▎                                                                                                        | 424/2250 [13:47<57:59,  1.91s/it]"
     ]
    },
    {
     "name": "stdout",
     "output_type": "stream",
     "text": [
      "Found 2 word(s) missing in the model. Weighted missing percentage not covered by the given model is 0.47%.\n"
     ]
    },
    {
     "name": "stderr",
     "output_type": "stream",
     "text": [
      "collecting matches info:  19%|████████████████████████▍                                                                                                        | 426/2250 [13:51<57:42,  1.90s/it]"
     ]
    },
    {
     "name": "stdout",
     "output_type": "stream",
     "text": [
      "Found 6 word(s) missing in the model. Weighted missing percentage not covered by the given model is 1.57%.\n"
     ]
    },
    {
     "name": "stderr",
     "output_type": "stream",
     "text": [
      "collecting matches info:  19%|████████████████████████▌                                                                                                        | 428/2250 [13:55<58:52,  1.94s/it]"
     ]
    },
    {
     "name": "stdout",
     "output_type": "stream",
     "text": [
      "Found 5 word(s) missing in the model. Weighted missing percentage not covered by the given model is 1.30%.\n"
     ]
    },
    {
     "name": "stderr",
     "output_type": "stream",
     "text": [
      "collecting matches info:  19%|████████████████████████▋                                                                                                        | 430/2250 [13:59<58:29,  1.93s/it]"
     ]
    },
    {
     "name": "stdout",
     "output_type": "stream",
     "text": [
      "Found 1 word(s) missing in the model. Weighted missing percentage not covered by the given model is 0.52%.\n"
     ]
    },
    {
     "name": "stderr",
     "output_type": "stream",
     "text": [
      "collecting matches info:  21%|██████████████████████████▋                                                                                                      | 466/2250 [15:07<57:29,  1.93s/it]"
     ]
    },
    {
     "name": "stdout",
     "output_type": "stream",
     "text": [
      "Found 1 word(s) missing in the model. Weighted missing percentage not covered by the given model is 0.19%.\n"
     ]
    },
    {
     "name": "stderr",
     "output_type": "stream",
     "text": [
      "\r",
      "collecting matches info:  21%|██████████████████████████▊                                                                                                      | 467/2250 [15:09<56:49,  1.91s/it]"
     ]
    },
    {
     "name": "stdout",
     "output_type": "stream",
     "text": [
      "Found 1 word(s) missing in the model. Weighted missing percentage not covered by the given model is 0.51%.\n"
     ]
    },
    {
     "name": "stderr",
     "output_type": "stream",
     "text": [
      "collecting matches info:  21%|███████████████████████████                                                                                                      | 473/2250 [15:20<57:02,  1.93s/it]"
     ]
    },
    {
     "name": "stdout",
     "output_type": "stream",
     "text": [
      "Found 3 word(s) missing in the model. Weighted missing percentage not covered by the given model is 1.03%.\n"
     ]
    },
    {
     "name": "stderr",
     "output_type": "stream",
     "text": [
      "\r",
      "collecting matches info:  21%|███████████████████████████▏                                                                                                     | 474/2250 [15:22<56:41,  1.92s/it]"
     ]
    },
    {
     "name": "stdout",
     "output_type": "stream",
     "text": [
      "Found 1 word(s) missing in the model. Weighted missing percentage not covered by the given model is 0.36%.\n"
     ]
    },
    {
     "name": "stderr",
     "output_type": "stream",
     "text": [
      "collecting matches info:  21%|███████████████████████████▋                                                                                                     | 482/2250 [15:38<57:28,  1.95s/it]"
     ]
    },
    {
     "name": "stdout",
     "output_type": "stream",
     "text": [
      "Found 1 word(s) missing in the model. Weighted missing percentage not covered by the given model is 2.63%.\n"
     ]
    },
    {
     "name": "stderr",
     "output_type": "stream",
     "text": [
      "collecting matches info:  22%|███████████████████████████▋                                                                                                     | 484/2250 [15:41<56:32,  1.92s/it]"
     ]
    },
    {
     "name": "stdout",
     "output_type": "stream",
     "text": [
      "Found 1 word(s) missing in the model. Weighted missing percentage not covered by the given model is 4.17%.\n"
     ]
    },
    {
     "name": "stderr",
     "output_type": "stream",
     "text": [
      "collecting matches info:  22%|███████████████████████████▊                                                                                                     | 486/2250 [15:45<57:00,  1.94s/it]"
     ]
    },
    {
     "name": "stdout",
     "output_type": "stream",
     "text": [
      "Found 11 word(s) missing in the model. Weighted missing percentage not covered by the given model is 11.58%.\n"
     ]
    },
    {
     "name": "stderr",
     "output_type": "stream",
     "text": [
      "\r",
      "collecting matches info:  22%|███████████████████████████▉                                                                                                     | 487/2250 [15:47<56:42,  1.93s/it]"
     ]
    },
    {
     "name": "stdout",
     "output_type": "stream",
     "text": [
      "Found 9 word(s) missing in the model. Weighted missing percentage not covered by the given model is 4.79%.\n"
     ]
    },
    {
     "name": "stderr",
     "output_type": "stream",
     "text": [
      "\r",
      "collecting matches info:  22%|███████████████████████████▌                                                                                                   | 488/2250 [15:50<1:03:35,  2.17s/it]"
     ]
    },
    {
     "name": "stdout",
     "output_type": "stream",
     "text": [
      "Found 2 word(s) missing in the model. Weighted missing percentage not covered by the given model is 0.34%.\n"
     ]
    },
    {
     "name": "stderr",
     "output_type": "stream",
     "text": [
      "\r",
      "collecting matches info:  22%|███████████████████████████▌                                                                                                   | 489/2250 [15:52<1:03:45,  2.17s/it]"
     ]
    },
    {
     "name": "stdout",
     "output_type": "stream",
     "text": [
      "Found 9 word(s) missing in the model. Weighted missing percentage not covered by the given model is 10.23%.\n"
     ]
    },
    {
     "name": "stderr",
     "output_type": "stream",
     "text": [
      "\r",
      "collecting matches info:  22%|███████████████████████████▋                                                                                                   | 490/2250 [15:54<1:01:27,  2.10s/it]"
     ]
    },
    {
     "name": "stdout",
     "output_type": "stream",
     "text": [
      "Found 10 word(s) missing in the model. Weighted missing percentage not covered by the given model is 5.13%.\n"
     ]
    },
    {
     "name": "stderr",
     "output_type": "stream",
     "text": [
      "\r",
      "collecting matches info:  22%|███████████████████████████▋                                                                                                   | 491/2250 [15:56<1:00:28,  2.06s/it]"
     ]
    },
    {
     "name": "stdout",
     "output_type": "stream",
     "text": [
      "Found 3 word(s) missing in the model. Weighted missing percentage not covered by the given model is 0.52%.\n"
     ]
    },
    {
     "name": "stderr",
     "output_type": "stream",
     "text": [
      "\r",
      "collecting matches info:  22%|████████████████████████████▏                                                                                                    | 492/2250 [15:58<58:35,  2.00s/it]"
     ]
    },
    {
     "name": "stdout",
     "output_type": "stream",
     "text": [
      "Found 7 word(s) missing in the model. Weighted missing percentage not covered by the given model is 7.07%.\n"
     ]
    },
    {
     "name": "stderr",
     "output_type": "stream",
     "text": [
      "\r",
      "collecting matches info:  22%|████████████████████████████▎                                                                                                    | 493/2250 [16:00<58:05,  1.98s/it]"
     ]
    },
    {
     "name": "stdout",
     "output_type": "stream",
     "text": [
      "Found 10 word(s) missing in the model. Weighted missing percentage not covered by the given model is 5.13%.\n"
     ]
    },
    {
     "name": "stderr",
     "output_type": "stream",
     "text": [
      "\r",
      "collecting matches info:  22%|████████████████████████████▎                                                                                                    | 494/2250 [16:02<57:29,  1.96s/it]"
     ]
    },
    {
     "name": "stdout",
     "output_type": "stream",
     "text": [
      "Found 4 word(s) missing in the model. Weighted missing percentage not covered by the given model is 0.68%.\n"
     ]
    },
    {
     "name": "stderr",
     "output_type": "stream",
     "text": [
      "collecting matches info:  22%|████████████████████████████▌                                                                                                    | 499/2250 [16:11<55:26,  1.90s/it]"
     ]
    },
    {
     "name": "stdout",
     "output_type": "stream",
     "text": [
      "Found 1 word(s) missing in the model. Weighted missing percentage not covered by the given model is 0.39%.\n"
     ]
    },
    {
     "name": "stderr",
     "output_type": "stream",
     "text": [
      "collecting matches info:  22%|████████████████████████████▉                                                                                                    | 505/2250 [16:23<55:06,  1.89s/it]"
     ]
    },
    {
     "name": "stdout",
     "output_type": "stream",
     "text": [
      "Found 1 word(s) missing in the model. Weighted missing percentage not covered by the given model is 0.72%.\n"
     ]
    },
    {
     "name": "stderr",
     "output_type": "stream",
     "text": [
      "collecting matches info:  23%|█████████████████████████████▎                                                                                                   | 512/2250 [16:38<59:12,  2.04s/it]"
     ]
    },
    {
     "name": "stdout",
     "output_type": "stream",
     "text": [
      "Found 2 word(s) missing in the model. Weighted missing percentage not covered by the given model is 0.78%.\n"
     ]
    },
    {
     "name": "stderr",
     "output_type": "stream",
     "text": [
      "\r",
      "collecting matches info:  23%|█████████████████████████████▍                                                                                                   | 513/2250 [16:40<57:53,  2.00s/it]"
     ]
    },
    {
     "name": "stdout",
     "output_type": "stream",
     "text": [
      "Found 2 word(s) missing in the model. Weighted missing percentage not covered by the given model is 0.75%.\n"
     ]
    },
    {
     "name": "stderr",
     "output_type": "stream",
     "text": [
      "collecting matches info:  23%|█████████████████████████████▋                                                                                                   | 517/2250 [16:48<55:28,  1.92s/it]"
     ]
    },
    {
     "name": "stdout",
     "output_type": "stream",
     "text": [
      "Found 2 word(s) missing in the model. Weighted missing percentage not covered by the given model is 0.93%.\n"
     ]
    },
    {
     "name": "stderr",
     "output_type": "stream",
     "text": [
      "collecting matches info:  25%|████████████████████████████████▍                                                                                                | 565/2250 [18:20<53:45,  1.91s/it]"
     ]
    },
    {
     "name": "stdout",
     "output_type": "stream",
     "text": [
      "Found 1 word(s) missing in the model. Weighted missing percentage not covered by the given model is 0.79%.\n"
     ]
    },
    {
     "name": "stderr",
     "output_type": "stream",
     "text": [
      "\r",
      "collecting matches info:  25%|████████████████████████████████▍                                                                                                | 566/2250 [18:22<53:01,  1.89s/it]"
     ]
    },
    {
     "name": "stdout",
     "output_type": "stream",
     "text": [
      "Found 2 word(s) missing in the model. Weighted missing percentage not covered by the given model is 1.69%.\n"
     ]
    },
    {
     "name": "stderr",
     "output_type": "stream",
     "text": [
      "\r",
      "collecting matches info:  25%|████████████████████████████████▌                                                                                                | 567/2250 [18:24<53:20,  1.90s/it]"
     ]
    },
    {
     "name": "stdout",
     "output_type": "stream",
     "text": [
      "Found 1 word(s) missing in the model. Weighted missing percentage not covered by the given model is 0.66%.\n"
     ]
    },
    {
     "name": "stderr",
     "output_type": "stream",
     "text": [
      "collecting matches info:  25%|████████████████████████████████▋                                                                                                | 571/2250 [18:31<52:55,  1.89s/it]"
     ]
    },
    {
     "name": "stdout",
     "output_type": "stream",
     "text": [
      "Found 1 word(s) missing in the model. Weighted missing percentage not covered by the given model is 0.56%.\n"
     ]
    },
    {
     "name": "stderr",
     "output_type": "stream",
     "text": [
      "collecting matches info:  26%|█████████████████████████████████                                                                                                | 576/2250 [18:41<52:34,  1.88s/it]"
     ]
    },
    {
     "name": "stdout",
     "output_type": "stream",
     "text": [
      "Found 1 word(s) missing in the model. Weighted missing percentage not covered by the given model is 0.90%.\n"
     ]
    },
    {
     "name": "stderr",
     "output_type": "stream",
     "text": [
      "collecting matches info:  26%|█████████████████████████████████▌                                                                                               | 586/2250 [19:00<53:35,  1.93s/it]"
     ]
    },
    {
     "name": "stdout",
     "output_type": "stream",
     "text": [
      "Found 2 word(s) missing in the model. Weighted missing percentage not covered by the given model is 0.77%.\n"
     ]
    },
    {
     "name": "stderr",
     "output_type": "stream",
     "text": [
      "collecting matches info:  27%|██████████████████████████████████▎                                                                                              | 598/2250 [19:23<53:17,  1.94s/it]"
     ]
    },
    {
     "name": "stdout",
     "output_type": "stream",
     "text": [
      "Found 1 word(s) missing in the model. Weighted missing percentage not covered by the given model is 0.69%.\n"
     ]
    },
    {
     "name": "stderr",
     "output_type": "stream",
     "text": [
      "\r",
      "collecting matches info:  27%|██████████████████████████████████▎                                                                                              | 599/2250 [19:25<52:54,  1.92s/it]"
     ]
    },
    {
     "name": "stdout",
     "output_type": "stream",
     "text": [
      "Found 1 word(s) missing in the model. Weighted missing percentage not covered by the given model is 0.88%.\n"
     ]
    },
    {
     "name": "stderr",
     "output_type": "stream",
     "text": [
      "collecting matches info:  27%|██████████████████████████████████▊                                                                                              | 608/2250 [19:42<52:34,  1.92s/it]"
     ]
    },
    {
     "name": "stdout",
     "output_type": "stream",
     "text": [
      "Found 1 word(s) missing in the model. Weighted missing percentage not covered by the given model is 1.06%.\n"
     ]
    },
    {
     "name": "stderr",
     "output_type": "stream",
     "text": [
      "collecting matches info:  27%|███████████████████████████████████▎                                                                                             | 617/2250 [20:00<52:44,  1.94s/it]"
     ]
    },
    {
     "name": "stdout",
     "output_type": "stream",
     "text": [
      "Found 1 word(s) missing in the model. Weighted missing percentage not covered by the given model is 1.85%.\n"
     ]
    },
    {
     "name": "stderr",
     "output_type": "stream",
     "text": [
      "collecting matches info:  28%|███████████████████████████████████▌                                                                                             | 620/2250 [20:05<51:31,  1.90s/it]"
     ]
    },
    {
     "name": "stdout",
     "output_type": "stream",
     "text": [
      "Found 2 word(s) missing in the model. Weighted missing percentage not covered by the given model is 1.82%.\n"
     ]
    },
    {
     "name": "stderr",
     "output_type": "stream",
     "text": [
      "collecting matches info:  28%|███████████████████████████████████▋                                                                                             | 623/2250 [20:11<51:04,  1.88s/it]"
     ]
    },
    {
     "name": "stdout",
     "output_type": "stream",
     "text": [
      "Found 1 word(s) missing in the model. Weighted missing percentage not covered by the given model is 0.80%.\n"
     ]
    },
    {
     "name": "stderr",
     "output_type": "stream",
     "text": [
      "collecting matches info:  28%|████████████████████████████████████                                                                                             | 630/2250 [20:24<51:08,  1.89s/it]"
     ]
    },
    {
     "name": "stdout",
     "output_type": "stream",
     "text": [
      "Found 1 word(s) missing in the model. Weighted missing percentage not covered by the given model is 0.97%.\n"
     ]
    },
    {
     "name": "stderr",
     "output_type": "stream",
     "text": [
      "collecting matches info:  28%|████████████████████████████████████▏                                                                                            | 632/2250 [20:28<51:04,  1.89s/it]"
     ]
    },
    {
     "name": "stdout",
     "output_type": "stream",
     "text": [
      "Found 1 word(s) missing in the model. Weighted missing percentage not covered by the given model is 0.80%.\n"
     ]
    },
    {
     "name": "stderr",
     "output_type": "stream",
     "text": [
      "collecting matches info:  29%|████████████████████████████████████▉                                                                                            | 644/2250 [20:51<50:38,  1.89s/it]"
     ]
    },
    {
     "name": "stdout",
     "output_type": "stream",
     "text": [
      "Found 1 word(s) missing in the model. Weighted missing percentage not covered by the given model is 0.78%.\n"
     ]
    },
    {
     "name": "stderr",
     "output_type": "stream",
     "text": [
      "collecting matches info:  29%|█████████████████████████████████████                                                                                            | 646/2250 [20:55<51:11,  1.91s/it]"
     ]
    },
    {
     "name": "stdout",
     "output_type": "stream",
     "text": [
      "Found 1 word(s) missing in the model. Weighted missing percentage not covered by the given model is 0.64%.\n"
     ]
    },
    {
     "name": "stderr",
     "output_type": "stream",
     "text": [
      "collecting matches info:  29%|█████████████████████████████████████▋                                                                                           | 658/2250 [21:18<50:41,  1.91s/it]"
     ]
    },
    {
     "name": "stdout",
     "output_type": "stream",
     "text": [
      "Found 1 word(s) missing in the model. Weighted missing percentage not covered by the given model is 0.97%.\n"
     ]
    },
    {
     "name": "stderr",
     "output_type": "stream",
     "text": [
      "collecting matches info:  29%|█████████████████████████████████████▊                                                                                           | 660/2250 [21:22<50:59,  1.92s/it]"
     ]
    },
    {
     "name": "stdout",
     "output_type": "stream",
     "text": [
      "Found 1 word(s) missing in the model. Weighted missing percentage not covered by the given model is 0.94%.\n"
     ]
    },
    {
     "name": "stderr",
     "output_type": "stream",
     "text": [
      "collecting matches info:  29%|██████████████████████████████████████                                                                                           | 663/2250 [21:28<54:58,  2.08s/it]"
     ]
    },
    {
     "name": "stdout",
     "output_type": "stream",
     "text": [
      "Found 1 word(s) missing in the model. Weighted missing percentage not covered by the given model is 0.79%.\n"
     ]
    },
    {
     "name": "stderr",
     "output_type": "stream",
     "text": [
      "collecting matches info:  30%|██████████████████████████████████████▎                                                                                          | 668/2250 [21:37<51:24,  1.95s/it]"
     ]
    },
    {
     "name": "stdout",
     "output_type": "stream",
     "text": [
      "Found 1 word(s) missing in the model. Weighted missing percentage not covered by the given model is 4.35%.\n"
     ]
    },
    {
     "name": "stderr",
     "output_type": "stream",
     "text": [
      "collecting matches info:  30%|██████████████████████████████████████▌                                                                                          | 673/2250 [21:47<49:07,  1.87s/it]"
     ]
    },
    {
     "name": "stdout",
     "output_type": "stream",
     "text": [
      "Found 1 word(s) missing in the model. Weighted missing percentage not covered by the given model is 5.88%.\n"
     ]
    },
    {
     "name": "stderr",
     "output_type": "stream",
     "text": [
      "collecting matches info:  30%|██████████████████████████████████████▊                                                                                          | 677/2250 [21:54<48:51,  1.86s/it]"
     ]
    },
    {
     "name": "stdout",
     "output_type": "stream",
     "text": [
      "Found 1 word(s) missing in the model. Weighted missing percentage not covered by the given model is 0.64%.\n"
     ]
    },
    {
     "name": "stderr",
     "output_type": "stream",
     "text": [
      "collecting matches info:  30%|███████████████████████████████████████                                                                                          | 682/2250 [22:03<47:52,  1.83s/it]"
     ]
    },
    {
     "name": "stdout",
     "output_type": "stream",
     "text": [
      "Found 1 word(s) missing in the model. Weighted missing percentage not covered by the given model is 5.00%.\n"
     ]
    },
    {
     "name": "stderr",
     "output_type": "stream",
     "text": [
      "collecting matches info:  30%|███████████████████████████████████████▏                                                                                         | 684/2250 [22:07<47:43,  1.83s/it]"
     ]
    },
    {
     "name": "stdout",
     "output_type": "stream",
     "text": [
      "Found 1 word(s) missing in the model. Weighted missing percentage not covered by the given model is 5.88%.\n"
     ]
    },
    {
     "name": "stderr",
     "output_type": "stream",
     "text": [
      "collecting matches info:  31%|███████████████████████████████████████▍                                                                                         | 687/2250 [22:12<47:27,  1.82s/it]"
     ]
    },
    {
     "name": "stdout",
     "output_type": "stream",
     "text": [
      "Found 1 word(s) missing in the model. Weighted missing percentage not covered by the given model is 1.08%.\n"
     ]
    },
    {
     "name": "stderr",
     "output_type": "stream",
     "text": [
      "collecting matches info:  31%|███████████████████████████████████████▋                                                                                         | 692/2250 [22:21<47:17,  1.82s/it]"
     ]
    },
    {
     "name": "stdout",
     "output_type": "stream",
     "text": [
      "Found 1 word(s) missing in the model. Weighted missing percentage not covered by the given model is 0.83%.\n"
     ]
    },
    {
     "name": "stderr",
     "output_type": "stream",
     "text": [
      "collecting matches info:  31%|███████████████████████████████████████▉                                                                                         | 696/2250 [22:29<47:36,  1.84s/it]"
     ]
    },
    {
     "name": "stdout",
     "output_type": "stream",
     "text": [
      "Found 2 word(s) missing in the model. Weighted missing percentage not covered by the given model is 9.09%.\n"
     ]
    },
    {
     "name": "stderr",
     "output_type": "stream",
     "text": [
      "collecting matches info:  31%|████████████████████████████████████████▏                                                                                        | 702/2250 [22:40<47:07,  1.83s/it]"
     ]
    },
    {
     "name": "stdout",
     "output_type": "stream",
     "text": [
      "Found 1 word(s) missing in the model. Weighted missing percentage not covered by the given model is 1.67%.\n"
     ]
    },
    {
     "name": "stderr",
     "output_type": "stream",
     "text": [
      "collecting matches info:  31%|████████████████████████████████████████▍                                                                                        | 706/2250 [22:47<47:26,  1.84s/it]"
     ]
    },
    {
     "name": "stdout",
     "output_type": "stream",
     "text": [
      "Found 1 word(s) missing in the model. Weighted missing percentage not covered by the given model is 4.76%.\n"
     ]
    },
    {
     "name": "stderr",
     "output_type": "stream",
     "text": [
      "collecting matches info:  32%|████████████████████████████████████████▋                                                                                        | 709/2250 [22:53<47:30,  1.85s/it]"
     ]
    },
    {
     "name": "stdout",
     "output_type": "stream",
     "text": [
      "Found 1 word(s) missing in the model. Weighted missing percentage not covered by the given model is 0.82%.\n"
     ]
    },
    {
     "name": "stderr",
     "output_type": "stream",
     "text": [
      "collecting matches info:  32%|█████████████████████████████████████████▏                                                                                       | 719/2250 [23:11<46:34,  1.83s/it]"
     ]
    },
    {
     "name": "stdout",
     "output_type": "stream",
     "text": [
      "Found 1 word(s) missing in the model. Weighted missing percentage not covered by the given model is 0.93%.\n"
     ]
    },
    {
     "name": "stderr",
     "output_type": "stream",
     "text": [
      "collecting matches info:  34%|███████████████████████████████████████████▉                                                                                     | 766/2250 [24:40<46:35,  1.88s/it]"
     ]
    },
    {
     "name": "stdout",
     "output_type": "stream",
     "text": [
      "Found 2 word(s) missing in the model. Weighted missing percentage not covered by the given model is 1.82%.\n"
     ]
    },
    {
     "name": "stderr",
     "output_type": "stream",
     "text": [
      "collecting matches info:  34%|████████████████████████████████████████████                                                                                     | 768/2250 [24:44<45:53,  1.86s/it]"
     ]
    },
    {
     "name": "stdout",
     "output_type": "stream",
     "text": [
      "Found 1 word(s) missing in the model. Weighted missing percentage not covered by the given model is 2.78%.\n"
     ]
    },
    {
     "name": "stderr",
     "output_type": "stream",
     "text": [
      "collecting matches info:  34%|████████████████████████████████████████████▎                                                                                    | 772/2250 [24:51<45:15,  1.84s/it]"
     ]
    },
    {
     "name": "stdout",
     "output_type": "stream",
     "text": [
      "Found 1 word(s) missing in the model. Weighted missing percentage not covered by the given model is 1.00%.\n"
     ]
    },
    {
     "name": "stderr",
     "output_type": "stream",
     "text": [
      "collecting matches info:  34%|████████████████████████████████████████████▍                                                                                    | 776/2250 [24:58<45:14,  1.84s/it]"
     ]
    },
    {
     "name": "stdout",
     "output_type": "stream",
     "text": [
      "Found 1 word(s) missing in the model. Weighted missing percentage not covered by the given model is 0.51%.\n"
     ]
    },
    {
     "name": "stderr",
     "output_type": "stream",
     "text": [
      "collecting matches info:  35%|████████████████████████████████████████████▋                                                                                    | 779/2250 [25:04<46:11,  1.88s/it]"
     ]
    },
    {
     "name": "stdout",
     "output_type": "stream",
     "text": [
      "Found 1 word(s) missing in the model. Weighted missing percentage not covered by the given model is 1.49%.\n"
     ]
    },
    {
     "name": "stderr",
     "output_type": "stream",
     "text": [
      "collecting matches info:  35%|████████████████████████████████████████████▉                                                                                    | 783/2250 [25:11<44:55,  1.84s/it]"
     ]
    },
    {
     "name": "stdout",
     "output_type": "stream",
     "text": [
      "Found 1 word(s) missing in the model. Weighted missing percentage not covered by the given model is 1.15%.\n"
     ]
    },
    {
     "name": "stderr",
     "output_type": "stream",
     "text": [
      "\r",
      "collecting matches info:  35%|████████████████████████████████████████████▉                                                                                    | 784/2250 [25:13<44:42,  1.83s/it]"
     ]
    },
    {
     "name": "stdout",
     "output_type": "stream",
     "text": [
      "Found 1 word(s) missing in the model. Weighted missing percentage not covered by the given model is 1.96%.\n"
     ]
    },
    {
     "name": "stderr",
     "output_type": "stream",
     "text": [
      "\r",
      "collecting matches info:  35%|█████████████████████████████████████████████                                                                                    | 785/2250 [25:15<44:44,  1.83s/it]"
     ]
    },
    {
     "name": "stdout",
     "output_type": "stream",
     "text": [
      "Found 1 word(s) missing in the model. Weighted missing percentage not covered by the given model is 4.55%.\n"
     ]
    },
    {
     "name": "stderr",
     "output_type": "stream",
     "text": [
      "\r",
      "collecting matches info:  35%|█████████████████████████████████████████████                                                                                    | 786/2250 [25:17<44:34,  1.83s/it]"
     ]
    },
    {
     "name": "stdout",
     "output_type": "stream",
     "text": [
      "Found 3 word(s) missing in the model. Weighted missing percentage not covered by the given model is 4.69%.\n"
     ]
    },
    {
     "name": "stderr",
     "output_type": "stream",
     "text": [
      "collecting matches info:  35%|█████████████████████████████████████████████▎                                                                                   | 791/2250 [25:26<44:39,  1.84s/it]"
     ]
    },
    {
     "name": "stdout",
     "output_type": "stream",
     "text": [
      "Found 1 word(s) missing in the model. Weighted missing percentage not covered by the given model is 1.82%.\n"
     ]
    },
    {
     "name": "stderr",
     "output_type": "stream",
     "text": [
      "collecting matches info:  35%|█████████████████████████████████████████████▋                                                                                   | 797/2250 [25:37<45:37,  1.88s/it]"
     ]
    },
    {
     "name": "stdout",
     "output_type": "stream",
     "text": [
      "Found 3 word(s) missing in the model. Weighted missing percentage not covered by the given model is 2.33%.\n"
     ]
    },
    {
     "name": "stderr",
     "output_type": "stream",
     "text": [
      "collecting matches info:  36%|██████████████████████████████████████████████▎                                                                                  | 807/2250 [25:57<46:11,  1.92s/it]"
     ]
    },
    {
     "name": "stdout",
     "output_type": "stream",
     "text": [
      "Found 1 word(s) missing in the model. Weighted missing percentage not covered by the given model is 4.55%.\n"
     ]
    },
    {
     "name": "stderr",
     "output_type": "stream",
     "text": [
      "collecting matches info:  36%|██████████████████████████████████████████████▋                                                                                  | 814/2250 [26:10<45:18,  1.89s/it]"
     ]
    },
    {
     "name": "stdout",
     "output_type": "stream",
     "text": [
      "Found 1 word(s) missing in the model. Weighted missing percentage not covered by the given model is 7.14%.\n"
     ]
    },
    {
     "name": "stderr",
     "output_type": "stream",
     "text": [
      "\r",
      "collecting matches info:  36%|██████████████████████████████████████████████▋                                                                                  | 815/2250 [26:12<45:42,  1.91s/it]"
     ]
    },
    {
     "name": "stdout",
     "output_type": "stream",
     "text": [
      "Found 1 word(s) missing in the model. Weighted missing percentage not covered by the given model is 1.45%.\n"
     ]
    },
    {
     "name": "stderr",
     "output_type": "stream",
     "text": [
      "\r",
      "collecting matches info:  36%|██████████████████████████████████████████████▊                                                                                  | 816/2250 [26:14<45:38,  1.91s/it]"
     ]
    },
    {
     "name": "stdout",
     "output_type": "stream",
     "text": [
      "Found 3 word(s) missing in the model. Weighted missing percentage not covered by the given model is 2.52%.\n"
     ]
    },
    {
     "name": "stderr",
     "output_type": "stream",
     "text": [
      "collecting matches info:  36%|██████████████████████████████████████████████▉                                                                                  | 819/2250 [26:19<45:40,  1.92s/it]"
     ]
    },
    {
     "name": "stdout",
     "output_type": "stream",
     "text": [
      "Found 1 word(s) missing in the model. Weighted missing percentage not covered by the given model is 3.23%.\n"
     ]
    },
    {
     "name": "stderr",
     "output_type": "stream",
     "text": [
      "collecting matches info:  36%|███████████████████████████████████████████████                                                                                  | 821/2250 [26:23<45:52,  1.93s/it]"
     ]
    },
    {
     "name": "stdout",
     "output_type": "stream",
     "text": [
      "Found 2 word(s) missing in the model. Weighted missing percentage not covered by the given model is 1.89%.\n"
     ]
    },
    {
     "name": "stderr",
     "output_type": "stream",
     "text": [
      "collecting matches info:  37%|███████████████████████████████████████████████▎                                                                                 | 825/2250 [26:31<45:41,  1.92s/it]"
     ]
    },
    {
     "name": "stdout",
     "output_type": "stream",
     "text": [
      "Found 1 word(s) missing in the model. Weighted missing percentage not covered by the given model is 7.69%.\n"
     ]
    },
    {
     "name": "stderr",
     "output_type": "stream",
     "text": [
      "\r",
      "collecting matches info:  37%|███████████████████████████████████████████████▎                                                                                 | 826/2250 [26:33<46:22,  1.95s/it]"
     ]
    },
    {
     "name": "stdout",
     "output_type": "stream",
     "text": [
      "Found 2 word(s) missing in the model. Weighted missing percentage not covered by the given model is 1.90%.\n"
     ]
    },
    {
     "name": "stderr",
     "output_type": "stream",
     "text": [
      "collecting matches info:  37%|███████████████████████████████████████████████▌                                                                                 | 829/2250 [26:39<47:28,  2.00s/it]"
     ]
    },
    {
     "name": "stdout",
     "output_type": "stream",
     "text": [
      "Found 2 word(s) missing in the model. Weighted missing percentage not covered by the given model is 1.64%.\n"
     ]
    },
    {
     "name": "stderr",
     "output_type": "stream",
     "text": [
      "collecting matches info:  37%|███████████████████████████████████████████████▋                                                                                 | 831/2250 [26:43<47:19,  2.00s/it]"
     ]
    },
    {
     "name": "stdout",
     "output_type": "stream",
     "text": [
      "Found 1 word(s) missing in the model. Weighted missing percentage not covered by the given model is 3.03%.\n"
     ]
    },
    {
     "name": "stderr",
     "output_type": "stream",
     "text": [
      "\r",
      "collecting matches info:  37%|███████████████████████████████████████████████▋                                                                                 | 832/2250 [26:45<46:40,  1.97s/it]"
     ]
    },
    {
     "name": "stdout",
     "output_type": "stream",
     "text": [
      "Found 4 word(s) missing in the model. Weighted missing percentage not covered by the given model is 2.38%.\n"
     ]
    },
    {
     "name": "stderr",
     "output_type": "stream",
     "text": [
      "collecting matches info:  37%|████████████████████████████████████████████████                                                                                 | 838/2250 [26:57<45:01,  1.91s/it]"
     ]
    },
    {
     "name": "stdout",
     "output_type": "stream",
     "text": [
      "Found 1 word(s) missing in the model. Weighted missing percentage not covered by the given model is 0.70%.\n"
     ]
    },
    {
     "name": "stderr",
     "output_type": "stream",
     "text": [
      "collecting matches info:  37%|████████████████████████████████████████████████▏                                                                                | 840/2250 [27:00<44:53,  1.91s/it]"
     ]
    },
    {
     "name": "stdout",
     "output_type": "stream",
     "text": [
      "Found 4 word(s) missing in the model. Weighted missing percentage not covered by the given model is 2.34%.\n"
     ]
    },
    {
     "name": "stderr",
     "output_type": "stream",
     "text": [
      "collecting matches info:  37%|████████████████████████████████████████████████▎                                                                                | 843/2250 [27:06<44:51,  1.91s/it]"
     ]
    },
    {
     "name": "stdout",
     "output_type": "stream",
     "text": [
      "Found 1 word(s) missing in the model. Weighted missing percentage not covered by the given model is 2.70%.\n"
     ]
    },
    {
     "name": "stderr",
     "output_type": "stream",
     "text": [
      "\r",
      "collecting matches info:  38%|████████████████████████████████████████████████▍                                                                                | 844/2250 [27:08<44:39,  1.91s/it]"
     ]
    },
    {
     "name": "stdout",
     "output_type": "stream",
     "text": [
      "Found 5 word(s) missing in the model. Weighted missing percentage not covered by the given model is 3.03%.\n"
     ]
    },
    {
     "name": "stderr",
     "output_type": "stream",
     "text": [
      "collecting matches info:  38%|████████████████████████████████████████████████▌                                                                                | 846/2250 [27:12<46:06,  1.97s/it]"
     ]
    },
    {
     "name": "stdout",
     "output_type": "stream",
     "text": [
      "Found 4 word(s) missing in the model. Weighted missing percentage not covered by the given model is 2.35%.\n"
     ]
    },
    {
     "name": "stderr",
     "output_type": "stream",
     "text": [
      "collecting matches info:  38%|████████████████████████████████████████████████▋                                                                                | 849/2250 [27:18<44:45,  1.92s/it]"
     ]
    },
    {
     "name": "stdout",
     "output_type": "stream",
     "text": [
      "Found 1 word(s) missing in the model. Weighted missing percentage not covered by the given model is 0.99%.\n"
     ]
    },
    {
     "name": "stderr",
     "output_type": "stream",
     "text": [
      "collecting matches info:  38%|████████████████████████████████████████████████▉                                                                                | 853/2250 [27:26<45:31,  1.95s/it]"
     ]
    },
    {
     "name": "stdout",
     "output_type": "stream",
     "text": [
      "Found 4 word(s) missing in the model. Weighted missing percentage not covered by the given model is 1.34%.\n"
     ]
    },
    {
     "name": "stderr",
     "output_type": "stream",
     "text": [
      "collecting matches info:  38%|█████████████████████████████████████████████████▍                                                                               | 863/2250 [27:45<44:50,  1.94s/it]"
     ]
    },
    {
     "name": "stdout",
     "output_type": "stream",
     "text": [
      "Found 1 word(s) missing in the model. Weighted missing percentage not covered by the given model is 0.84%.\n"
     ]
    },
    {
     "name": "stderr",
     "output_type": "stream",
     "text": [
      "collecting matches info:  39%|██████████████████████████████████████████████████▉                                                                              | 888/2250 [28:34<44:32,  1.96s/it]"
     ]
    },
    {
     "name": "stdout",
     "output_type": "stream",
     "text": [
      "Found 1 word(s) missing in the model. Weighted missing percentage not covered by the given model is 0.39%.\n"
     ]
    },
    {
     "name": "stderr",
     "output_type": "stream",
     "text": [
      "\r",
      "collecting matches info:  40%|██████████████████████████████████████████████████▉                                                                              | 889/2250 [28:36<45:12,  1.99s/it]"
     ]
    },
    {
     "name": "stdout",
     "output_type": "stream",
     "text": [
      "Found 1 word(s) missing in the model. Weighted missing percentage not covered by the given model is 0.40%.\n"
     ]
    },
    {
     "name": "stderr",
     "output_type": "stream",
     "text": [
      "\r",
      "collecting matches info:  40%|███████████████████████████████████████████████████                                                                              | 890/2250 [28:38<44:10,  1.95s/it]"
     ]
    },
    {
     "name": "stdout",
     "output_type": "stream",
     "text": [
      "Found 1 word(s) missing in the model. Weighted missing percentage not covered by the given model is 0.43%.\n"
     ]
    },
    {
     "name": "stderr",
     "output_type": "stream",
     "text": [
      "collecting matches info:  40%|███████████████████████████████████████████████████▉                                                                             | 905/2250 [29:08<45:01,  2.01s/it]"
     ]
    },
    {
     "name": "stdout",
     "output_type": "stream",
     "text": [
      "Found 1 word(s) missing in the model. Weighted missing percentage not covered by the given model is 0.38%.\n"
     ]
    },
    {
     "name": "stderr",
     "output_type": "stream",
     "text": [
      "collecting matches info:  40%|████████████████████████████████████████████████████                                                                             | 907/2250 [29:11<44:02,  1.97s/it]"
     ]
    },
    {
     "name": "stdout",
     "output_type": "stream",
     "text": [
      "Found 1 word(s) missing in the model. Weighted missing percentage not covered by the given model is 0.39%.\n"
     ]
    },
    {
     "name": "stderr",
     "output_type": "stream",
     "text": [
      "collecting matches info:  40%|████████████████████████████████████████████████████▏                                                                            | 910/2250 [29:17<43:22,  1.94s/it]"
     ]
    },
    {
     "name": "stdout",
     "output_type": "stream",
     "text": [
      "Found 1 word(s) missing in the model. Weighted missing percentage not covered by the given model is 3.57%.\n"
     ]
    },
    {
     "name": "stderr",
     "output_type": "stream",
     "text": [
      "collecting matches info:  41%|████████████████████████████████████████████████████▎                                                                            | 912/2250 [29:21<44:45,  2.01s/it]"
     ]
    },
    {
     "name": "stdout",
     "output_type": "stream",
     "text": [
      "Found 1 word(s) missing in the model. Weighted missing percentage not covered by the given model is 1.64%.\n"
     ]
    },
    {
     "name": "stderr",
     "output_type": "stream",
     "text": [
      "collecting matches info:  41%|████████████████████████████████████████████████████▌                                                                            | 917/2250 [29:32<46:47,  2.11s/it]"
     ]
    },
    {
     "name": "stdout",
     "output_type": "stream",
     "text": [
      "Found 1 word(s) missing in the model. Weighted missing percentage not covered by the given model is 3.45%.\n"
     ]
    },
    {
     "name": "stderr",
     "output_type": "stream",
     "text": [
      "\r",
      "collecting matches info:  41%|████████████████████████████████████████████████████▋                                                                            | 918/2250 [29:34<45:14,  2.04s/it]"
     ]
    },
    {
     "name": "stdout",
     "output_type": "stream",
     "text": [
      "Found 1 word(s) missing in the model. Weighted missing percentage not covered by the given model is 4.55%.\n"
     ]
    },
    {
     "name": "stderr",
     "output_type": "stream",
     "text": [
      "collecting matches info:  41%|████████████████████████████████████████████████████▋                                                                            | 920/2250 [29:38<44:06,  1.99s/it]"
     ]
    },
    {
     "name": "stdout",
     "output_type": "stream",
     "text": [
      "Found 1 word(s) missing in the model. Weighted missing percentage not covered by the given model is 6.67%.\n"
     ]
    },
    {
     "name": "stderr",
     "output_type": "stream",
     "text": [
      "collecting matches info:  41%|█████████████████████████████████████████████████████▏                                                                           | 927/2250 [29:52<44:06,  2.00s/it]"
     ]
    },
    {
     "name": "stdout",
     "output_type": "stream",
     "text": [
      "Found 1 word(s) missing in the model. Weighted missing percentage not covered by the given model is 0.20%.\n"
     ]
    },
    {
     "name": "stderr",
     "output_type": "stream",
     "text": [
      "collecting matches info:  42%|█████████████████████████████████████████████████████▊                                                                           | 938/2250 [30:13<43:39,  2.00s/it]"
     ]
    },
    {
     "name": "stdout",
     "output_type": "stream",
     "text": [
      "Found 1 word(s) missing in the model. Weighted missing percentage not covered by the given model is 0.81%.\n"
     ]
    },
    {
     "name": "stderr",
     "output_type": "stream",
     "text": [
      "collecting matches info:  42%|██████████████████████████████████████████████████████▌                                                                          | 951/2250 [30:39<41:43,  1.93s/it]"
     ]
    },
    {
     "name": "stdout",
     "output_type": "stream",
     "text": [
      "Found 1 word(s) missing in the model. Weighted missing percentage not covered by the given model is 0.90%.\n"
     ]
    },
    {
     "name": "stderr",
     "output_type": "stream",
     "text": [
      "\r",
      "collecting matches info:  42%|██████████████████████████████████████████████████████▌                                                                          | 952/2250 [30:41<41:06,  1.90s/it]"
     ]
    },
    {
     "name": "stdout",
     "output_type": "stream",
     "text": [
      "Found 1 word(s) missing in the model. Weighted missing percentage not covered by the given model is 0.89%.\n"
     ]
    },
    {
     "name": "stderr",
     "output_type": "stream",
     "text": [
      "\r",
      "collecting matches info:  42%|██████████████████████████████████████████████████████▋                                                                          | 953/2250 [30:43<41:38,  1.93s/it]"
     ]
    },
    {
     "name": "stdout",
     "output_type": "stream",
     "text": [
      "Found 1 word(s) missing in the model. Weighted missing percentage not covered by the given model is 0.85%.\n"
     ]
    },
    {
     "name": "stderr",
     "output_type": "stream",
     "text": [
      "\r",
      "collecting matches info:  42%|██████████████████████████████████████████████████████▋                                                                          | 954/2250 [30:45<41:28,  1.92s/it]"
     ]
    },
    {
     "name": "stdout",
     "output_type": "stream",
     "text": [
      "Found 2 word(s) missing in the model. Weighted missing percentage not covered by the given model is 2.15%.\n"
     ]
    },
    {
     "name": "stderr",
     "output_type": "stream",
     "text": [
      "collecting matches info:  43%|███████████████████████████████████████████████████████▏                                                                         | 962/2250 [31:01<42:08,  1.96s/it]"
     ]
    },
    {
     "name": "stdout",
     "output_type": "stream",
     "text": [
      "Found 2 word(s) missing in the model. Weighted missing percentage not covered by the given model is 1.23%.\n"
     ]
    },
    {
     "name": "stderr",
     "output_type": "stream",
     "text": [
      "collecting matches info:  43%|███████████████████████████████████████████████████████▊                                                                         | 973/2250 [31:23<43:41,  2.05s/it]"
     ]
    },
    {
     "name": "stdout",
     "output_type": "stream",
     "text": [
      "Found 1 word(s) missing in the model. Weighted missing percentage not covered by the given model is 0.57%.\n"
     ]
    },
    {
     "name": "stderr",
     "output_type": "stream",
     "text": [
      "collecting matches info:  44%|████████████████████████████████████████████████████████▎                                                                        | 982/2250 [31:41<42:19,  2.00s/it]"
     ]
    },
    {
     "name": "stdout",
     "output_type": "stream",
     "text": [
      "Found 1 word(s) missing in the model. Weighted missing percentage not covered by the given model is 0.58%.\n"
     ]
    },
    {
     "name": "stderr",
     "output_type": "stream",
     "text": [
      "collecting matches info:  44%|█████████████████████████████████████████████████████████▎                                                                       | 999/2250 [32:17<44:56,  2.16s/it]"
     ]
    },
    {
     "name": "stdout",
     "output_type": "stream",
     "text": [
      "Found 1 word(s) missing in the model. Weighted missing percentage not covered by the given model is 5.88%.\n"
     ]
    },
    {
     "name": "stderr",
     "output_type": "stream",
     "text": [
      "collecting matches info:  44%|████████████████████████████████████████████████████████▉                                                                       | 1001/2250 [32:21<44:20,  2.13s/it]"
     ]
    },
    {
     "name": "stdout",
     "output_type": "stream",
     "text": [
      "Found 1 word(s) missing in the model. Weighted missing percentage not covered by the given model is 3.85%.\n"
     ]
    },
    {
     "name": "stderr",
     "output_type": "stream",
     "text": [
      "collecting matches info:  45%|█████████████████████████████████████████████████████████▍                                                                      | 1010/2250 [32:39<41:52,  2.03s/it]"
     ]
    },
    {
     "name": "stdout",
     "output_type": "stream",
     "text": [
      "Found 1 word(s) missing in the model. Weighted missing percentage not covered by the given model is 1.56%.\n"
     ]
    },
    {
     "name": "stderr",
     "output_type": "stream",
     "text": [
      "\r",
      "collecting matches info:  45%|█████████████████████████████████████████████████████████▌                                                                      | 1011/2250 [32:41<42:57,  2.08s/it]"
     ]
    },
    {
     "name": "stdout",
     "output_type": "stream",
     "text": [
      "Found 1 word(s) missing in the model. Weighted missing percentage not covered by the given model is 1.85%.\n"
     ]
    },
    {
     "name": "stderr",
     "output_type": "stream",
     "text": [
      "\r",
      "collecting matches info:  45%|█████████████████████████████████████████████████████████▌                                                                      | 1012/2250 [32:43<42:31,  2.06s/it]"
     ]
    },
    {
     "name": "stdout",
     "output_type": "stream",
     "text": [
      "Found 3 word(s) missing in the model. Weighted missing percentage not covered by the given model is 1.69%.\n"
     ]
    },
    {
     "name": "stderr",
     "output_type": "stream",
     "text": [
      "collecting matches info:  45%|██████████████████████████████████████████████████████████                                                                      | 1021/2250 [33:02<42:12,  2.06s/it]"
     ]
    },
    {
     "name": "stdout",
     "output_type": "stream",
     "text": [
      "Found 1 word(s) missing in the model. Weighted missing percentage not covered by the given model is 0.48%.\n"
     ]
    },
    {
     "name": "stderr",
     "output_type": "stream",
     "text": [
      "collecting matches info:  46%|██████████████████████████████████████████████████████████▌                                                                     | 1029/2250 [33:18<41:41,  2.05s/it]"
     ]
    },
    {
     "name": "stdout",
     "output_type": "stream",
     "text": [
      "Found 3 word(s) missing in the model. Weighted missing percentage not covered by the given model is 1.10%.\n"
     ]
    },
    {
     "name": "stderr",
     "output_type": "stream",
     "text": [
      "collecting matches info:  46%|██████████████████████████████████████████████████████████▋                                                                     | 1031/2250 [33:22<42:09,  2.08s/it]"
     ]
    },
    {
     "name": "stdout",
     "output_type": "stream",
     "text": [
      "Found 1 word(s) missing in the model. Weighted missing percentage not covered by the given model is 0.80%.\n"
     ]
    },
    {
     "name": "stderr",
     "output_type": "stream",
     "text": [
      "collecting matches info:  46%|██████████████████████████████████████████████████████████▊                                                                     | 1034/2250 [33:28<40:51,  2.02s/it]"
     ]
    },
    {
     "name": "stdout",
     "output_type": "stream",
     "text": [
      "Found 1 word(s) missing in the model. Weighted missing percentage not covered by the given model is 3.57%.\n"
     ]
    },
    {
     "name": "stderr",
     "output_type": "stream",
     "text": [
      "collecting matches info:  46%|██████████████████████████████████████████████████████████▉                                                                     | 1036/2250 [33:32<40:08,  1.98s/it]"
     ]
    },
    {
     "name": "stdout",
     "output_type": "stream",
     "text": [
      "Found 1 word(s) missing in the model. Weighted missing percentage not covered by the given model is 1.25%.\n"
     ]
    },
    {
     "name": "stderr",
     "output_type": "stream",
     "text": [
      "collecting matches info:  46%|███████████████████████████████████████████████████████████                                                                     | 1039/2250 [33:39<44:05,  2.18s/it]"
     ]
    },
    {
     "name": "stdout",
     "output_type": "stream",
     "text": [
      "Found 1 word(s) missing in the model. Weighted missing percentage not covered by the given model is 1.18%.\n"
     ]
    },
    {
     "name": "stderr",
     "output_type": "stream",
     "text": [
      "\r",
      "collecting matches info:  46%|███████████████████████████████████████████████████████████▏                                                                    | 1040/2250 [33:41<45:21,  2.25s/it]"
     ]
    },
    {
     "name": "stdout",
     "output_type": "stream",
     "text": [
      "Found 1 word(s) missing in the model. Weighted missing percentage not covered by the given model is 0.37%.\n"
     ]
    },
    {
     "name": "stderr",
     "output_type": "stream",
     "text": [
      "collecting matches info:  46%|███████████████████████████████████████████████████████████▎                                                                    | 1043/2250 [33:47<44:02,  2.19s/it]"
     ]
    },
    {
     "name": "stdout",
     "output_type": "stream",
     "text": [
      "Found 3 word(s) missing in the model. Weighted missing percentage not covered by the given model is 0.90%.\n"
     ]
    },
    {
     "name": "stderr",
     "output_type": "stream",
     "text": [
      "collecting matches info:  46%|███████████████████████████████████████████████████████████▍                                                                    | 1045/2250 [33:51<42:12,  2.10s/it]"
     ]
    },
    {
     "name": "stdout",
     "output_type": "stream",
     "text": [
      "Found 1 word(s) missing in the model. Weighted missing percentage not covered by the given model is 1.37%.\n"
     ]
    },
    {
     "name": "stderr",
     "output_type": "stream",
     "text": [
      "collecting matches info:  47%|███████████████████████████████████████████████████████████▌                                                                    | 1047/2250 [33:55<41:39,  2.08s/it]"
     ]
    },
    {
     "name": "stdout",
     "output_type": "stream",
     "text": [
      "Found 1 word(s) missing in the model. Weighted missing percentage not covered by the given model is 1.16%.\n"
     ]
    },
    {
     "name": "stderr",
     "output_type": "stream",
     "text": [
      "\r",
      "collecting matches info:  47%|███████████████████████████████████████████████████████████▌                                                                    | 1048/2250 [33:58<42:33,  2.12s/it]"
     ]
    },
    {
     "name": "stdout",
     "output_type": "stream",
     "text": [
      "Found 1 word(s) missing in the model. Weighted missing percentage not covered by the given model is 0.78%.\n"
     ]
    },
    {
     "name": "stderr",
     "output_type": "stream",
     "text": [
      "collecting matches info:  47%|███████████████████████████████████████████████████████████▉                                                                    | 1054/2250 [34:10<41:08,  2.06s/it]"
     ]
    },
    {
     "name": "stdout",
     "output_type": "stream",
     "text": [
      "Found 1 word(s) missing in the model. Weighted missing percentage not covered by the given model is 0.58%.\n"
     ]
    },
    {
     "name": "stderr",
     "output_type": "stream",
     "text": [
      "\r",
      "collecting matches info:  47%|████████████████████████████████████████████████████████████                                                                    | 1055/2250 [34:12<40:31,  2.03s/it]"
     ]
    },
    {
     "name": "stdout",
     "output_type": "stream",
     "text": [
      "Found 1 word(s) missing in the model. Weighted missing percentage not covered by the given model is 0.48%.\n"
     ]
    },
    {
     "name": "stderr",
     "output_type": "stream",
     "text": [
      "\r",
      "collecting matches info:  47%|████████████████████████████████████████████████████████████                                                                    | 1056/2250 [34:14<40:24,  2.03s/it]"
     ]
    },
    {
     "name": "stdout",
     "output_type": "stream",
     "text": [
      "Found 7 word(s) missing in the model. Weighted missing percentage not covered by the given model is 1.35%.\n"
     ]
    },
    {
     "name": "stderr",
     "output_type": "stream",
     "text": [
      "collecting matches info:  47%|████████████████████████████████████████████████████████████▋                                                                   | 1066/2250 [34:34<39:04,  1.98s/it]"
     ]
    },
    {
     "name": "stdout",
     "output_type": "stream",
     "text": [
      "Found 4 word(s) missing in the model. Weighted missing percentage not covered by the given model is 1.27%.\n"
     ]
    },
    {
     "name": "stderr",
     "output_type": "stream",
     "text": [
      "collecting matches info:  48%|█████████████████████████████████████████████████████████████▎                                                                  | 1078/2250 [34:58<38:55,  1.99s/it]"
     ]
    },
    {
     "name": "stdout",
     "output_type": "stream",
     "text": [
      "Found 1 word(s) missing in the model. Weighted missing percentage not covered by the given model is 3.03%.\n"
     ]
    },
    {
     "name": "stderr",
     "output_type": "stream",
     "text": [
      "collecting matches info:  48%|█████████████████████████████████████████████████████████████▊                                                                  | 1086/2250 [35:13<36:34,  1.89s/it]"
     ]
    },
    {
     "name": "stdout",
     "output_type": "stream",
     "text": [
      "Found 1 word(s) missing in the model. Weighted missing percentage not covered by the given model is 0.93%.\n"
     ]
    },
    {
     "name": "stderr",
     "output_type": "stream",
     "text": [
      "collecting matches info:  48%|██████████████████████████████████████████████████████████████                                                                  | 1090/2250 [35:21<38:10,  1.97s/it]"
     ]
    },
    {
     "name": "stdout",
     "output_type": "stream",
     "text": [
      "Found 2 word(s) missing in the model. Weighted missing percentage not covered by the given model is 1.55%.\n"
     ]
    },
    {
     "name": "stderr",
     "output_type": "stream",
     "text": [
      "collecting matches info:  49%|██████████████████████████████████████████████████████████████                                                                  | 1092/2250 [35:25<37:53,  1.96s/it]"
     ]
    },
    {
     "name": "stdout",
     "output_type": "stream",
     "text": [
      "Found 1 word(s) missing in the model. Weighted missing percentage not covered by the given model is 5.56%.\n"
     ]
    },
    {
     "name": "stderr",
     "output_type": "stream",
     "text": [
      "collecting matches info:  49%|██████████████████████████████████████████████████████████████▋                                                                 | 1103/2250 [35:48<40:19,  2.11s/it]"
     ]
    },
    {
     "name": "stdout",
     "output_type": "stream",
     "text": [
      "Found 1 word(s) missing in the model. Weighted missing percentage not covered by the given model is 0.75%.\n"
     ]
    },
    {
     "name": "stderr",
     "output_type": "stream",
     "text": [
      "\r",
      "collecting matches info:  49%|██████████████████████████████████████████████████████████████▊                                                                 | 1104/2250 [35:50<40:12,  2.11s/it]"
     ]
    },
    {
     "name": "stdout",
     "output_type": "stream",
     "text": [
      "Found 1 word(s) missing in the model. Weighted missing percentage not covered by the given model is 0.93%.\n"
     ]
    },
    {
     "name": "stderr",
     "output_type": "stream",
     "text": [
      "collecting matches info:  49%|███████████████████████████████████████████████████████████████                                                                 | 1109/2250 [36:00<38:02,  2.00s/it]"
     ]
    },
    {
     "name": "stdout",
     "output_type": "stream",
     "text": [
      "Found 1 word(s) missing in the model. Weighted missing percentage not covered by the given model is 0.64%.\n"
     ]
    },
    {
     "name": "stderr",
     "output_type": "stream",
     "text": [
      "collecting matches info:  50%|███████████████████████████████████████████████████████████████▎                                                                | 1114/2250 [36:10<36:48,  1.94s/it]"
     ]
    },
    {
     "name": "stdout",
     "output_type": "stream",
     "text": [
      "Found 1 word(s) missing in the model. Weighted missing percentage not covered by the given model is 5.56%.\n"
     ]
    },
    {
     "name": "stderr",
     "output_type": "stream",
     "text": [
      "collecting matches info:  50%|███████████████████████████████████████████████████████████████▋                                                                | 1120/2250 [36:22<36:27,  1.94s/it]"
     ]
    },
    {
     "name": "stdout",
     "output_type": "stream",
     "text": [
      "Found 1 word(s) missing in the model. Weighted missing percentage not covered by the given model is 0.22%.\n"
     ]
    },
    {
     "name": "stderr",
     "output_type": "stream",
     "text": [
      "collecting matches info:  58%|█████████████████████████████████████████████████████████████████████████▋                                                      | 1296/2250 [41:56<29:20,  1.85s/it]"
     ]
    },
    {
     "name": "stdout",
     "output_type": "stream",
     "text": [
      "Found 3 word(s) missing in the model. Weighted missing percentage not covered by the given model is 2.08%.\n"
     ]
    },
    {
     "name": "stderr",
     "output_type": "stream",
     "text": [
      "collecting matches info:  58%|██████████████████████████████████████████████████████████████████████████▏                                                     | 1305/2250 [42:13<29:02,  1.84s/it]"
     ]
    },
    {
     "name": "stdout",
     "output_type": "stream",
     "text": [
      "Found 2 word(s) missing in the model. Weighted missing percentage not covered by the given model is 5.00%.\n"
     ]
    },
    {
     "name": "stderr",
     "output_type": "stream",
     "text": [
      "collecting matches info:  58%|██████████████████████████████████████████████████████████████████████████▍                                                     | 1308/2250 [42:19<28:58,  1.85s/it]"
     ]
    },
    {
     "name": "stdout",
     "output_type": "stream",
     "text": [
      "Found 2 word(s) missing in the model. Weighted missing percentage not covered by the given model is 3.92%.\n"
     ]
    },
    {
     "name": "stderr",
     "output_type": "stream",
     "text": [
      "collecting matches info:  58%|██████████████████████████████████████████████████████████████████████████▋                                                     | 1312/2250 [42:26<28:40,  1.83s/it]"
     ]
    },
    {
     "name": "stdout",
     "output_type": "stream",
     "text": [
      "Found 1 word(s) missing in the model. Weighted missing percentage not covered by the given model is 3.33%.\n"
     ]
    },
    {
     "name": "stderr",
     "output_type": "stream",
     "text": [
      "collecting matches info:  59%|███████████████████████████████████████████████████████████████████████████                                                     | 1320/2250 [42:40<28:14,  1.82s/it]"
     ]
    },
    {
     "name": "stdout",
     "output_type": "stream",
     "text": [
      "Found 1 word(s) missing in the model. Weighted missing percentage not covered by the given model is 2.17%.\n"
     ]
    },
    {
     "name": "stderr",
     "output_type": "stream",
     "text": [
      "collecting matches info:  59%|███████████████████████████████████████████████████████████████████████████▍                                                    | 1326/2250 [42:52<28:30,  1.85s/it]"
     ]
    },
    {
     "name": "stdout",
     "output_type": "stream",
     "text": [
      "Found 5 word(s) missing in the model. Weighted missing percentage not covered by the given model is 2.07%.\n"
     ]
    },
    {
     "name": "stderr",
     "output_type": "stream",
     "text": [
      "collecting matches info:  59%|███████████████████████████████████████████████████████████████████████████▋                                                    | 1331/2250 [43:01<28:58,  1.89s/it]"
     ]
    },
    {
     "name": "stdout",
     "output_type": "stream",
     "text": [
      "Found 1 word(s) missing in the model. Weighted missing percentage not covered by the given model is 0.35%.\n"
     ]
    },
    {
     "name": "stderr",
     "output_type": "stream",
     "text": [
      "collecting matches info:  61%|█████████████████████████████████████████████████████████████████████████████▊                                                  | 1368/2250 [44:10<27:12,  1.85s/it]"
     ]
    },
    {
     "name": "stdout",
     "output_type": "stream",
     "text": [
      "Found 1 word(s) missing in the model. Weighted missing percentage not covered by the given model is 0.22%.\n"
     ]
    },
    {
     "name": "stderr",
     "output_type": "stream",
     "text": [
      "collecting matches info:  61%|██████████████████████████████████████████████████████████████████████████████▏                                                 | 1374/2250 [44:21<26:47,  1.84s/it]"
     ]
    },
    {
     "name": "stdout",
     "output_type": "stream",
     "text": [
      "Found 1 word(s) missing in the model. Weighted missing percentage not covered by the given model is 0.26%.\n"
     ]
    },
    {
     "name": "stderr",
     "output_type": "stream",
     "text": [
      "collecting matches info:  61%|██████████████████████████████████████████████████████████████████████████████▌                                                 | 1381/2250 [44:34<26:34,  1.84s/it]"
     ]
    },
    {
     "name": "stdout",
     "output_type": "stream",
     "text": [
      "Found 3 word(s) missing in the model. Weighted missing percentage not covered by the given model is 0.87%.\n"
     ]
    },
    {
     "name": "stderr",
     "output_type": "stream",
     "text": [
      "collecting matches info:  62%|██████████████████████████████████████████████████████████████████████████████▊                                                 | 1385/2250 [44:41<26:32,  1.84s/it]"
     ]
    },
    {
     "name": "stdout",
     "output_type": "stream",
     "text": [
      "Found 1 word(s) missing in the model. Weighted missing percentage not covered by the given model is 0.30%.\n"
     ]
    },
    {
     "name": "stderr",
     "output_type": "stream",
     "text": [
      "collecting matches info:  62%|███████████████████████████████████████████████████████████████████████████████▌                                                | 1398/2250 [45:05<26:04,  1.84s/it]"
     ]
    },
    {
     "name": "stdout",
     "output_type": "stream",
     "text": [
      "Found 1 word(s) missing in the model. Weighted missing percentage not covered by the given model is 6.67%.\n"
     ]
    },
    {
     "name": "stderr",
     "output_type": "stream",
     "text": [
      "collecting matches info:  62%|███████████████████████████████████████████████████████████████████████████████▊                                                | 1403/2250 [45:14<26:05,  1.85s/it]"
     ]
    },
    {
     "name": "stdout",
     "output_type": "stream",
     "text": [
      "Found 8 word(s) missing in the model. Weighted missing percentage not covered by the given model is 6.78%.\n"
     ]
    },
    {
     "name": "stderr",
     "output_type": "stream",
     "text": [
      "collecting matches info:  63%|█████████████████████████████████████████████████████████████████████████████████                                               | 1425/2250 [45:55<25:26,  1.85s/it]"
     ]
    },
    {
     "name": "stdout",
     "output_type": "stream",
     "text": [
      "Found 1 word(s) missing in the model. Weighted missing percentage not covered by the given model is 2.78%.\n"
     ]
    },
    {
     "name": "stderr",
     "output_type": "stream",
     "text": [
      "collecting matches info:  63%|█████████████████████████████████████████████████████████████████████████████████▏                                              | 1428/2250 [46:00<25:09,  1.84s/it]"
     ]
    },
    {
     "name": "stdout",
     "output_type": "stream",
     "text": [
      "Found 2 word(s) missing in the model. Weighted missing percentage not covered by the given model is 0.59%.\n"
     ]
    },
    {
     "name": "stderr",
     "output_type": "stream",
     "text": [
      "\r",
      "collecting matches info:  64%|█████████████████████████████████████████████████████████████████████████████████▎                                              | 1429/2250 [46:02<25:02,  1.83s/it]"
     ]
    },
    {
     "name": "stdout",
     "output_type": "stream",
     "text": [
      "Found 1 word(s) missing in the model. Weighted missing percentage not covered by the given model is 0.30%.\n"
     ]
    },
    {
     "name": "stderr",
     "output_type": "stream",
     "text": [
      "collecting matches info:  64%|█████████████████████████████████████████████████████████████████████████████████▍                                              | 1431/2250 [46:06<25:30,  1.87s/it]"
     ]
    },
    {
     "name": "stdout",
     "output_type": "stream",
     "text": [
      "Found 4 word(s) missing in the model. Weighted missing percentage not covered by the given model is 1.23%.\n"
     ]
    },
    {
     "name": "stderr",
     "output_type": "stream",
     "text": [
      "collecting matches info:  64%|█████████████████████████████████████████████████████████████████████████████████▉                                              | 1440/2250 [46:23<25:30,  1.89s/it]"
     ]
    },
    {
     "name": "stdout",
     "output_type": "stream",
     "text": [
      "Found 7 word(s) missing in the model. Weighted missing percentage not covered by the given model is 4.96%.\n"
     ]
    },
    {
     "name": "stderr",
     "output_type": "stream",
     "text": [
      "collecting matches info:  65%|██████████████████████████████████████████████████████████████████████████████████▊                                             | 1455/2250 [46:51<24:28,  1.85s/it]"
     ]
    },
    {
     "name": "stdout",
     "output_type": "stream",
     "text": [
      "Found 8 word(s) missing in the model. Weighted missing percentage not covered by the given model is 6.15%.\n"
     ]
    },
    {
     "name": "stderr",
     "output_type": "stream",
     "text": [
      "collecting matches info:  65%|██████████████████████████████████████████████████████████████████████████████████▉                                             | 1457/2250 [46:55<24:24,  1.85s/it]"
     ]
    },
    {
     "name": "stdout",
     "output_type": "stream",
     "text": [
      "Found 1 word(s) missing in the model. Weighted missing percentage not covered by the given model is 0.32%.\n"
     ]
    },
    {
     "name": "stderr",
     "output_type": "stream",
     "text": [
      "collecting matches info:  66%|████████████████████████████████████████████████████████████████████████████████████▏                                           | 1479/2250 [47:36<23:41,  1.84s/it]"
     ]
    },
    {
     "name": "stdout",
     "output_type": "stream",
     "text": [
      "Found 1 word(s) missing in the model. Weighted missing percentage not covered by the given model is 0.39%.\n"
     ]
    },
    {
     "name": "stderr",
     "output_type": "stream",
     "text": [
      "collecting matches info:  66%|████████████████████████████████████████████████████████████████████████████████████▎                                           | 1483/2250 [47:43<23:33,  1.84s/it]"
     ]
    },
    {
     "name": "stdout",
     "output_type": "stream",
     "text": [
      "Found 1 word(s) missing in the model. Weighted missing percentage not covered by the given model is 0.38%.\n"
     ]
    },
    {
     "name": "stderr",
     "output_type": "stream",
     "text": [
      "\r",
      "collecting matches info:  66%|████████████████████████████████████████████████████████████████████████████████████▍                                           | 1484/2250 [47:45<23:36,  1.85s/it]"
     ]
    },
    {
     "name": "stdout",
     "output_type": "stream",
     "text": [
      "Found 2 word(s) missing in the model. Weighted missing percentage not covered by the given model is 0.76%.\n"
     ]
    },
    {
     "name": "stderr",
     "output_type": "stream",
     "text": [
      "\r",
      "collecting matches info:  66%|████████████████████████████████████████████████████████████████████████████████████▍                                           | 1485/2250 [47:47<23:34,  1.85s/it]"
     ]
    },
    {
     "name": "stdout",
     "output_type": "stream",
     "text": [
      "Found 1 word(s) missing in the model. Weighted missing percentage not covered by the given model is 0.41%.\n"
     ]
    },
    {
     "name": "stderr",
     "output_type": "stream",
     "text": [
      "collecting matches info:  67%|██████████████████████████████████████████████████████████████████████████████████████▎                                         | 1517/2250 [48:47<22:52,  1.87s/it]"
     ]
    },
    {
     "name": "stdout",
     "output_type": "stream",
     "text": [
      "Found 1 word(s) missing in the model. Weighted missing percentage not covered by the given model is 0.27%.\n"
     ]
    },
    {
     "name": "stderr",
     "output_type": "stream",
     "text": [
      "collecting matches info:  68%|██████████████████████████████████████████████████████████████████████████████████████▍                                         | 1520/2250 [48:52<22:38,  1.86s/it]"
     ]
    },
    {
     "name": "stdout",
     "output_type": "stream",
     "text": [
      "Found 2 word(s) missing in the model. Weighted missing percentage not covered by the given model is 0.52%.\n"
     ]
    },
    {
     "name": "stderr",
     "output_type": "stream",
     "text": [
      "\r",
      "collecting matches info:  68%|██████████████████████████████████████████████████████████████████████████████████████▌                                         | 1521/2250 [48:54<23:02,  1.90s/it]"
     ]
    },
    {
     "name": "stdout",
     "output_type": "stream",
     "text": [
      "Found 1 word(s) missing in the model. Weighted missing percentage not covered by the given model is 0.29%.\n"
     ]
    },
    {
     "name": "stderr",
     "output_type": "stream",
     "text": [
      "collecting matches info:  68%|██████████████████████████████████████████████████████████████████████████████████████▋                                         | 1523/2250 [48:58<22:46,  1.88s/it]"
     ]
    },
    {
     "name": "stdout",
     "output_type": "stream",
     "text": [
      "Found 1 word(s) missing in the model. Weighted missing percentage not covered by the given model is 1.14%.\n"
     ]
    },
    {
     "name": "stderr",
     "output_type": "stream",
     "text": [
      "collecting matches info:  68%|███████████████████████████████████████████████████████████████████████████████████████                                         | 1531/2250 [49:13<24:03,  2.01s/it]"
     ]
    },
    {
     "name": "stdout",
     "output_type": "stream",
     "text": [
      "Found 2 word(s) missing in the model. Weighted missing percentage not covered by the given model is 1.27%.\n"
     ]
    },
    {
     "name": "stderr",
     "output_type": "stream",
     "text": [
      "collecting matches info:  68%|███████████████████████████████████████████████████████████████████████████████████████▎                                        | 1535/2250 [49:21<23:45,  1.99s/it]"
     ]
    },
    {
     "name": "stdout",
     "output_type": "stream",
     "text": [
      "Found 1 word(s) missing in the model. Weighted missing percentage not covered by the given model is 0.99%.\n"
     ]
    },
    {
     "name": "stderr",
     "output_type": "stream",
     "text": [
      "collecting matches info:  69%|████████████████████████████████████████████████████████████████████████████████████████▊                                       | 1561/2250 [50:10<22:58,  2.00s/it]"
     ]
    },
    {
     "name": "stdout",
     "output_type": "stream",
     "text": [
      "Found 1 word(s) missing in the model. Weighted missing percentage not covered by the given model is 0.38%.\n"
     ]
    },
    {
     "name": "stderr",
     "output_type": "stream",
     "text": [
      "collecting matches info:  70%|█████████████████████████████████████████████████████████████████████████████████████████▊                                      | 1579/2250 [50:44<21:53,  1.96s/it]"
     ]
    },
    {
     "name": "stdout",
     "output_type": "stream",
     "text": [
      "Found 2 word(s) missing in the model. Weighted missing percentage not covered by the given model is 2.02%.\n"
     ]
    },
    {
     "name": "stderr",
     "output_type": "stream",
     "text": [
      "collecting matches info:  72%|███████████████████████████████████████████████████████████████████████████████████████████▋                                    | 1612/2250 [51:48<20:31,  1.93s/it]"
     ]
    },
    {
     "name": "stdout",
     "output_type": "stream",
     "text": [
      "Found 1 word(s) missing in the model. Weighted missing percentage not covered by the given model is 0.23%.\n"
     ]
    },
    {
     "name": "stderr",
     "output_type": "stream",
     "text": [
      "collecting matches info:  73%|█████████████████████████████████████████████████████████████████████████████████████████████▌                                  | 1645/2250 [52:49<18:31,  1.84s/it]"
     ]
    },
    {
     "name": "stdout",
     "output_type": "stream",
     "text": [
      "Found 2 word(s) missing in the model. Weighted missing percentage not covered by the given model is 6.06%.\n"
     ]
    },
    {
     "name": "stderr",
     "output_type": "stream",
     "text": [
      "collecting matches info:  73%|█████████████████████████████████████████████████████████████████████████████████████████████▊                                  | 1648/2250 [52:55<18:26,  1.84s/it]"
     ]
    },
    {
     "name": "stdout",
     "output_type": "stream",
     "text": [
      "Found 3 word(s) missing in the model. Weighted missing percentage not covered by the given model is 3.03%.\n"
     ]
    },
    {
     "name": "stderr",
     "output_type": "stream",
     "text": [
      "collecting matches info:  73%|█████████████████████████████████████████████████████████████████████████████████████████████▉                                  | 1652/2250 [53:02<18:13,  1.83s/it]"
     ]
    },
    {
     "name": "stdout",
     "output_type": "stream",
     "text": [
      "Found 3 word(s) missing in the model. Weighted missing percentage not covered by the given model is 2.63%.\n"
     ]
    },
    {
     "name": "stderr",
     "output_type": "stream",
     "text": [
      "collecting matches info:  74%|██████████████████████████████████████████████████████████████████████████████████████████████▏                                 | 1655/2250 [53:08<18:19,  1.85s/it]"
     ]
    },
    {
     "name": "stdout",
     "output_type": "stream",
     "text": [
      "Found 2 word(s) missing in the model. Weighted missing percentage not covered by the given model is 5.26%.\n"
     ]
    },
    {
     "name": "stderr",
     "output_type": "stream",
     "text": [
      "collecting matches info:  74%|██████████████████████████████████████████████████████████████████████████████████████████████▌                                 | 1662/2250 [53:21<18:20,  1.87s/it]"
     ]
    },
    {
     "name": "stdout",
     "output_type": "stream",
     "text": [
      "Found 1 word(s) missing in the model. Weighted missing percentage not covered by the given model is 2.50%.\n"
     ]
    },
    {
     "name": "stderr",
     "output_type": "stream",
     "text": [
      "collecting matches info:  74%|██████████████████████████████████████████████████████████████████████████████████████████████▊                                 | 1666/2250 [53:28<17:56,  1.84s/it]"
     ]
    },
    {
     "name": "stdout",
     "output_type": "stream",
     "text": [
      "Found 1 word(s) missing in the model. Weighted missing percentage not covered by the given model is 2.94%.\n"
     ]
    },
    {
     "name": "stderr",
     "output_type": "stream",
     "text": [
      "collecting matches info:  74%|███████████████████████████████████████████████████████████████████████████████████████████████                                 | 1672/2250 [53:39<17:43,  1.84s/it]"
     ]
    },
    {
     "name": "stdout",
     "output_type": "stream",
     "text": [
      "Found 3 word(s) missing in the model. Weighted missing percentage not covered by the given model is 3.70%.\n"
     ]
    },
    {
     "name": "stderr",
     "output_type": "stream",
     "text": [
      "collecting matches info:  74%|███████████████████████████████████████████████████████████████████████████████████████████████▎                                | 1675/2250 [53:45<17:35,  1.84s/it]"
     ]
    },
    {
     "name": "stdout",
     "output_type": "stream",
     "text": [
      "Found 1 word(s) missing in the model. Weighted missing percentage not covered by the given model is 3.70%.\n"
     ]
    },
    {
     "name": "stderr",
     "output_type": "stream",
     "text": [
      "collecting matches info:  75%|███████████████████████████████████████████████████████████████████████████████████████████████▍                                | 1678/2250 [53:50<17:24,  1.83s/it]"
     ]
    },
    {
     "name": "stdout",
     "output_type": "stream",
     "text": [
      "Found 1 word(s) missing in the model. Weighted missing percentage not covered by the given model is 7.14%.\n"
     ]
    },
    {
     "name": "stderr",
     "output_type": "stream",
     "text": [
      "collecting matches info:  75%|███████████████████████████████████████████████████████████████████████████████████████████████▋                                | 1682/2250 [53:58<17:35,  1.86s/it]"
     ]
    },
    {
     "name": "stdout",
     "output_type": "stream",
     "text": [
      "Found 3 word(s) missing in the model. Weighted missing percentage not covered by the given model is 3.41%.\n"
     ]
    },
    {
     "name": "stderr",
     "output_type": "stream",
     "text": [
      "collecting matches info:  77%|█████████████████████████████████████████████████████████████████████████████████████████████████▉                              | 1722/2250 [55:11<16:06,  1.83s/it]"
     ]
    },
    {
     "name": "stdout",
     "output_type": "stream",
     "text": [
      "Found 1 word(s) missing in the model. Weighted missing percentage not covered by the given model is 0.73%.\n"
     ]
    },
    {
     "name": "stderr",
     "output_type": "stream",
     "text": [
      "collecting matches info:  77%|██████████████████████████████████████████████████████████████████████████████████████████████████▉                             | 1739/2250 [55:43<15:40,  1.84s/it]"
     ]
    },
    {
     "name": "stdout",
     "output_type": "stream",
     "text": [
      "Found 1 word(s) missing in the model. Weighted missing percentage not covered by the given model is 1.69%.\n"
     ]
    },
    {
     "name": "stderr",
     "output_type": "stream",
     "text": [
      "collecting matches info:  78%|████████████████████████████████████████████████████████████████████████████████████████████████████                            | 1758/2250 [56:23<17:00,  2.07s/it]"
     ]
    },
    {
     "name": "stdout",
     "output_type": "stream",
     "text": [
      "Found 1 word(s) missing in the model. Weighted missing percentage not covered by the given model is 1.41%.\n"
     ]
    },
    {
     "name": "stderr",
     "output_type": "stream",
     "text": [
      "collecting matches info:  78%|████████████████████████████████████████████████████████████████████████████████████████████████████▏                           | 1761/2250 [56:29<16:18,  2.00s/it]"
     ]
    },
    {
     "name": "stdout",
     "output_type": "stream",
     "text": [
      "Found 2 word(s) missing in the model. Weighted missing percentage not covered by the given model is 0.78%.\n"
     ]
    },
    {
     "name": "stderr",
     "output_type": "stream",
     "text": [
      "collecting matches info:  78%|████████████████████████████████████████████████████████████████████████████████████████████████████▍                           | 1766/2250 [56:39<16:02,  1.99s/it]"
     ]
    },
    {
     "name": "stdout",
     "output_type": "stream",
     "text": [
      "Found 1 word(s) missing in the model. Weighted missing percentage not covered by the given model is 0.26%.\n"
     ]
    },
    {
     "name": "stderr",
     "output_type": "stream",
     "text": [
      "collecting matches info:  79%|█████████████████████████████████████████████████████████████████████████████████████████████████████                           | 1776/2250 [56:59<15:33,  1.97s/it]"
     ]
    },
    {
     "name": "stdout",
     "output_type": "stream",
     "text": [
      "Found 1 word(s) missing in the model. Weighted missing percentage not covered by the given model is 5.88%.\n"
     ]
    },
    {
     "name": "stderr",
     "output_type": "stream",
     "text": [
      "collecting matches info:  79%|█████████████████████████████████████████████████████████████████████████████████████████████████████▎                          | 1781/2250 [57:08<14:55,  1.91s/it]"
     ]
    },
    {
     "name": "stdout",
     "output_type": "stream",
     "text": [
      "Found 1 word(s) missing in the model. Weighted missing percentage not covered by the given model is 1.08%.\n"
     ]
    },
    {
     "name": "stderr",
     "output_type": "stream",
     "text": [
      "\r",
      "collecting matches info:  79%|█████████████████████████████████████████████████████████████████████████████████████████████████████▍                          | 1782/2250 [57:10<14:42,  1.89s/it]"
     ]
    },
    {
     "name": "stdout",
     "output_type": "stream",
     "text": [
      "Found 1 word(s) missing in the model. Weighted missing percentage not covered by the given model is 1.79%.\n"
     ]
    },
    {
     "name": "stderr",
     "output_type": "stream",
     "text": [
      "collecting matches info:  79%|█████████████████████████████████████████████████████████████████████████████████████████████████████▌                          | 1785/2250 [57:16<14:39,  1.89s/it]"
     ]
    },
    {
     "name": "stdout",
     "output_type": "stream",
     "text": [
      "Found 1 word(s) missing in the model. Weighted missing percentage not covered by the given model is 2.94%.\n"
     ]
    },
    {
     "name": "stderr",
     "output_type": "stream",
     "text": [
      "\r",
      "collecting matches info:  79%|█████████████████████████████████████████████████████████████████████████████████████████████████████▌                          | 1786/2250 [57:18<14:37,  1.89s/it]"
     ]
    },
    {
     "name": "stdout",
     "output_type": "stream",
     "text": [
      "Found 1 word(s) missing in the model. Weighted missing percentage not covered by the given model is 0.47%.\n"
     ]
    },
    {
     "name": "stderr",
     "output_type": "stream",
     "text": [
      "collecting matches info:  81%|███████████████████████████████████████████████████████████████████████████████████████████████████████▉                        | 1826/2250 [58:33<13:28,  1.91s/it]"
     ]
    },
    {
     "name": "stdout",
     "output_type": "stream",
     "text": [
      "Found 1 word(s) missing in the model. Weighted missing percentage not covered by the given model is 1.27%.\n"
     ]
    },
    {
     "name": "stderr",
     "output_type": "stream",
     "text": [
      "collecting matches info:  82%|████████████████████████████████████████████████████████████████████████████████████████████████████████▌                       | 1837/2250 [58:54<13:31,  1.96s/it]"
     ]
    },
    {
     "name": "stdout",
     "output_type": "stream",
     "text": [
      "Found 1 word(s) missing in the model. Weighted missing percentage not covered by the given model is 0.68%.\n"
     ]
    },
    {
     "name": "stderr",
     "output_type": "stream",
     "text": [
      "collecting matches info:  82%|████████████████████████████████████████████████████████████████████████████████████████████████████████▊                       | 1843/2250 [59:06<12:56,  1.91s/it]"
     ]
    },
    {
     "name": "stdout",
     "output_type": "stream",
     "text": [
      "Found 2 word(s) missing in the model. Weighted missing percentage not covered by the given model is 1.22%.\n"
     ]
    },
    {
     "name": "stderr",
     "output_type": "stream",
     "text": [
      "collecting matches info:  82%|████████████████████████████████████████████████████████████████████████████████████████████████████████▉                       | 1845/2250 [59:10<13:04,  1.94s/it]"
     ]
    },
    {
     "name": "stdout",
     "output_type": "stream",
     "text": [
      "Found 1 word(s) missing in the model. Weighted missing percentage not covered by the given model is 1.15%.\n"
     ]
    },
    {
     "name": "stderr",
     "output_type": "stream",
     "text": [
      "collecting matches info:  82%|█████████████████████████████████████████████████████████████████████████████████████████████████████████▌                      | 1855/2250 [59:29<13:02,  1.98s/it]"
     ]
    },
    {
     "name": "stdout",
     "output_type": "stream",
     "text": [
      "Found 3 word(s) missing in the model. Weighted missing percentage not covered by the given model is 1.57%.\n"
     ]
    },
    {
     "name": "stderr",
     "output_type": "stream",
     "text": [
      "collecting matches info:  83%|█████████████████████████████████████████████████████████████████████████████████████████████████████████▋                      | 1857/2250 [59:33<12:42,  1.94s/it]"
     ]
    },
    {
     "name": "stdout",
     "output_type": "stream",
     "text": [
      "Found 1 word(s) missing in the model. Weighted missing percentage not covered by the given model is 0.57%.\n"
     ]
    },
    {
     "name": "stderr",
     "output_type": "stream",
     "text": [
      "collecting matches info:  83%|█████████████████████████████████████████████████████████████████████████████████████████████████████████▊                      | 1861/2250 [59:40<12:16,  1.89s/it]"
     ]
    },
    {
     "name": "stdout",
     "output_type": "stream",
     "text": [
      "Found 1 word(s) missing in the model. Weighted missing percentage not covered by the given model is 0.88%.\n"
     ]
    },
    {
     "name": "stderr",
     "output_type": "stream",
     "text": [
      "collecting matches info:  83%|██████████████████████████████████████████████████████████████████████████████████████████████████████████                      | 1865/2250 [59:48<12:08,  1.89s/it]"
     ]
    },
    {
     "name": "stdout",
     "output_type": "stream",
     "text": [
      "Found 2 word(s) missing in the model. Weighted missing percentage not covered by the given model is 0.52%.\n"
     ]
    },
    {
     "name": "stderr",
     "output_type": "stream",
     "text": [
      "\r",
      "collecting matches info:  83%|██████████████████████████████████████████████████████████████████████████████████████████████████████████▏                     | 1866/2250 [59:50<12:03,  1.88s/it]"
     ]
    },
    {
     "name": "stdout",
     "output_type": "stream",
     "text": [
      "Found 1 word(s) missing in the model. Weighted missing percentage not covered by the given model is 0.28%.\n"
     ]
    },
    {
     "name": "stderr",
     "output_type": "stream",
     "text": [
      "collecting matches info:  83%|████████████████████████████████████████████████████████████████████████████████████████████████████████▊                     | 1872/2250 [1:00:01<12:00,  1.91s/it]"
     ]
    },
    {
     "name": "stdout",
     "output_type": "stream",
     "text": [
      "Found 3 word(s) missing in the model. Weighted missing percentage not covered by the given model is 1.83%.\n"
     ]
    },
    {
     "name": "stderr",
     "output_type": "stream",
     "text": [
      "collecting matches info:  88%|███████████████████████████████████████████████████████████████████████████████████████████████████████████████▍              | 1989/2250 [1:03:51<08:17,  1.91s/it]"
     ]
    },
    {
     "name": "stdout",
     "output_type": "stream",
     "text": [
      "Found 1 word(s) missing in the model. Weighted missing percentage not covered by the given model is 0.45%.\n"
     ]
    },
    {
     "name": "stderr",
     "output_type": "stream",
     "text": [
      "collecting matches info:  89%|████████████████████████████████████████████████████████████████████████████████████████████████████████████████              | 2002/2250 [1:04:16<07:55,  1.92s/it]"
     ]
    },
    {
     "name": "stdout",
     "output_type": "stream",
     "text": [
      "Found 1 word(s) missing in the model. Weighted missing percentage not covered by the given model is 0.40%.\n"
     ]
    },
    {
     "name": "stderr",
     "output_type": "stream",
     "text": [
      "collecting matches info:  89%|████████████████████████████████████████████████████████████████████████████████████████████████████████████████▍             | 2007/2250 [1:04:25<07:49,  1.93s/it]"
     ]
    },
    {
     "name": "stdout",
     "output_type": "stream",
     "text": [
      "Found 1 word(s) missing in the model. Weighted missing percentage not covered by the given model is 0.71%.\n"
     ]
    },
    {
     "name": "stderr",
     "output_type": "stream",
     "text": [
      "collecting matches info:  89%|████████████████████████████████████████████████████████████████████████████████████████████████████████████████▋             | 2013/2250 [1:04:37<07:53,  2.00s/it]"
     ]
    },
    {
     "name": "stdout",
     "output_type": "stream",
     "text": [
      "Found 1 word(s) missing in the model. Weighted missing percentage not covered by the given model is 3.12%.\n"
     ]
    },
    {
     "name": "stderr",
     "output_type": "stream",
     "text": [
      "collecting matches info:  90%|█████████████████████████████████████████████████████████████████████████████████████████████████████████████████▍            | 2026/2250 [1:05:02<07:06,  1.90s/it]"
     ]
    },
    {
     "name": "stdout",
     "output_type": "stream",
     "text": [
      "Found 1 word(s) missing in the model. Weighted missing percentage not covered by the given model is 0.38%.\n"
     ]
    },
    {
     "name": "stderr",
     "output_type": "stream",
     "text": [
      "collecting matches info:  90%|█████████████████████████████████████████████████████████████████████████████████████████████████████████████████▌            | 2028/2250 [1:05:06<07:00,  1.89s/it]"
     ]
    },
    {
     "name": "stdout",
     "output_type": "stream",
     "text": [
      "Found 1 word(s) missing in the model. Weighted missing percentage not covered by the given model is 0.38%.\n"
     ]
    },
    {
     "name": "stderr",
     "output_type": "stream",
     "text": [
      "collecting matches info:  90%|█████████████████████████████████████████████████████████████████████████████████████████████████████████████████▊            | 2033/2250 [1:05:16<06:44,  1.86s/it]"
     ]
    },
    {
     "name": "stdout",
     "output_type": "stream",
     "text": [
      "Found 1 word(s) missing in the model. Weighted missing percentage not covered by the given model is 0.36%.\n"
     ]
    },
    {
     "name": "stderr",
     "output_type": "stream",
     "text": [
      "\r",
      "collecting matches info:  90%|█████████████████████████████████████████████████████████████████████████████████████████████████████████████████▉            | 2034/2250 [1:05:17<06:41,  1.86s/it]"
     ]
    },
    {
     "name": "stdout",
     "output_type": "stream",
     "text": [
      "Found 2 word(s) missing in the model. Weighted missing percentage not covered by the given model is 0.76%.\n"
     ]
    },
    {
     "name": "stderr",
     "output_type": "stream",
     "text": [
      "collecting matches info:  91%|██████████████████████████████████████████████████████████████████████████████████████████████████████████████████▍           | 2043/2250 [1:05:35<06:36,  1.92s/it]"
     ]
    },
    {
     "name": "stdout",
     "output_type": "stream",
     "text": [
      "Found 2 word(s) missing in the model. Weighted missing percentage not covered by the given model is 2.78%.\n"
     ]
    },
    {
     "name": "stderr",
     "output_type": "stream",
     "text": [
      "collecting matches info:  92%|████████████████████████████████████████████████████████████████████████████████████████████████████████████████████▍         | 2080/2250 [1:06:51<06:03,  2.14s/it]"
     ]
    },
    {
     "name": "stdout",
     "output_type": "stream",
     "text": [
      "Found 1 word(s) missing in the model. Weighted missing percentage not covered by the given model is 0.44%.\n"
     ]
    },
    {
     "name": "stderr",
     "output_type": "stream",
     "text": [
      "\r",
      "collecting matches info:  92%|████████████████████████████████████████████████████████████████████████████████████████████████████████████████████▌         | 2081/2250 [1:06:53<05:56,  2.11s/it]"
     ]
    },
    {
     "name": "stdout",
     "output_type": "stream",
     "text": [
      "Found 1 word(s) missing in the model. Weighted missing percentage not covered by the given model is 0.41%.\n"
     ]
    },
    {
     "name": "stderr",
     "output_type": "stream",
     "text": [
      "collecting matches info:  93%|████████████████████████████████████████████████████████████████████████████████████████████████████████████████████▊         | 2086/2250 [1:07:03<05:37,  2.06s/it]"
     ]
    },
    {
     "name": "stdout",
     "output_type": "stream",
     "text": [
      "Found 1 word(s) missing in the model. Weighted missing percentage not covered by the given model is 0.34%.\n"
     ]
    },
    {
     "name": "stderr",
     "output_type": "stream",
     "text": [
      "collecting matches info:  93%|████████████████████████████████████████████████████████████████████████████████████████████████████████████████████▉         | 2088/2250 [1:07:07<05:19,  1.97s/it]"
     ]
    },
    {
     "name": "stdout",
     "output_type": "stream",
     "text": [
      "Found 1 word(s) missing in the model. Weighted missing percentage not covered by the given model is 0.34%.\n"
     ]
    },
    {
     "name": "stderr",
     "output_type": "stream",
     "text": [
      "collecting matches info:  94%|█████████████████████████████████████████████████████████████████████████████████████████████████████████████████████▉        | 2105/2250 [1:07:39<04:32,  1.88s/it]"
     ]
    },
    {
     "name": "stdout",
     "output_type": "stream",
     "text": [
      "Found 1 word(s) missing in the model. Weighted missing percentage not covered by the given model is 5.26%.\n"
     ]
    },
    {
     "name": "stderr",
     "output_type": "stream",
     "text": [
      "collecting matches info:  94%|██████████████████████████████████████████████████████████████████████████████████████████████████████████████████████▏       | 2110/2250 [1:07:49<04:24,  1.89s/it]"
     ]
    },
    {
     "name": "stdout",
     "output_type": "stream",
     "text": [
      "Found 1 word(s) missing in the model. Weighted missing percentage not covered by the given model is 0.31%.\n"
     ]
    },
    {
     "name": "stderr",
     "output_type": "stream",
     "text": [
      "collecting matches info:  94%|███████████████████████████████████████████████████████████████████████████████████████████████████████████████████████       | 2126/2250 [1:08:19<03:50,  1.86s/it]"
     ]
    },
    {
     "name": "stdout",
     "output_type": "stream",
     "text": [
      "Found 1 word(s) missing in the model. Weighted missing percentage not covered by the given model is 5.56%.\n"
     ]
    },
    {
     "name": "stderr",
     "output_type": "stream",
     "text": [
      "collecting matches info:  95%|███████████████████████████████████████████████████████████████████████████████████████████████████████████████████████▋      | 2138/2250 [1:08:46<03:40,  1.97s/it]"
     ]
    },
    {
     "name": "stdout",
     "output_type": "stream",
     "text": [
      "Found 1 word(s) missing in the model. Weighted missing percentage not covered by the given model is 5.56%.\n"
     ]
    },
    {
     "name": "stderr",
     "output_type": "stream",
     "text": [
      "\r",
      "collecting matches info:  95%|███████████████████████████████████████████████████████████████████████████████████████████████████████████████████████▊      | 2139/2250 [1:08:48<03:38,  1.97s/it]"
     ]
    },
    {
     "name": "stdout",
     "output_type": "stream",
     "text": [
      "Found 1 word(s) missing in the model. Weighted missing percentage not covered by the given model is 5.88%.\n"
     ]
    },
    {
     "name": "stderr",
     "output_type": "stream",
     "text": [
      "collecting matches info:  95%|███████████████████████████████████████████████████████████████████████████████████████████████████████████████████████▉      | 2142/2250 [1:08:54<03:23,  1.88s/it]"
     ]
    },
    {
     "name": "stdout",
     "output_type": "stream",
     "text": [
      "Found 1 word(s) missing in the model. Weighted missing percentage not covered by the given model is 4.55%.\n"
     ]
    },
    {
     "name": "stderr",
     "output_type": "stream",
     "text": [
      "collecting matches info:  96%|████████████████████████████████████████████████████████████████████████████████████████████████████████████████████████▍     | 2151/2250 [1:09:11<03:04,  1.86s/it]"
     ]
    },
    {
     "name": "stdout",
     "output_type": "stream",
     "text": [
      "Found 2 word(s) missing in the model. Weighted missing percentage not covered by the given model is 5.56%.\n"
     ]
    },
    {
     "name": "stderr",
     "output_type": "stream",
     "text": [
      "collecting matches info:  96%|████████████████████████████████████████████████████████████████████████████████████████████████████████████████████████▊     | 2158/2250 [1:09:24<02:51,  1.86s/it]"
     ]
    },
    {
     "name": "stdout",
     "output_type": "stream",
     "text": [
      "Found 1 word(s) missing in the model. Weighted missing percentage not covered by the given model is 5.56%.\n"
     ]
    },
    {
     "name": "stderr",
     "output_type": "stream",
     "text": [
      "collecting matches info:  96%|█████████████████████████████████████████████████████████████████████████████████████████████████████████████████████████▎    | 2167/2250 [1:09:41<02:34,  1.86s/it]"
     ]
    },
    {
     "name": "stdout",
     "output_type": "stream",
     "text": [
      "Found 1 word(s) missing in the model. Weighted missing percentage not covered by the given model is 5.88%.\n"
     ]
    },
    {
     "name": "stderr",
     "output_type": "stream",
     "text": [
      "\r",
      "collecting matches info:  96%|█████████████████████████████████████████████████████████████████████████████████████████████████████████████████████████▍    | 2168/2250 [1:09:42<02:30,  1.84s/it]"
     ]
    },
    {
     "name": "stdout",
     "output_type": "stream",
     "text": [
      "Found 1 word(s) missing in the model. Weighted missing percentage not covered by the given model is 4.00%.\n"
     ]
    },
    {
     "name": "stderr",
     "output_type": "stream",
     "text": [
      "collecting matches info:  97%|██████████████████████████████████████████████████████████████████████████████████████████████████████████████████████████    | 2179/2250 [1:10:03<02:11,  1.85s/it]"
     ]
    },
    {
     "name": "stdout",
     "output_type": "stream",
     "text": [
      "Found 3 word(s) missing in the model. Weighted missing percentage not covered by the given model is 10.00%.\n"
     ]
    },
    {
     "name": "stderr",
     "output_type": "stream",
     "text": [
      "collecting matches info:  97%|██████████████████████████████████████████████████████████████████████████████████████████████████████████████████████████▏   | 2182/2250 [1:10:08<02:04,  1.84s/it]"
     ]
    },
    {
     "name": "stdout",
     "output_type": "stream",
     "text": [
      "Found 1 word(s) missing in the model. Weighted missing percentage not covered by the given model is 4.55%.\n"
     ]
    },
    {
     "name": "stderr",
     "output_type": "stream",
     "text": [
      "collecting matches info:  98%|███████████████████████████████████████████████████████████████████████████████████████████████████████████████████████████▏  | 2200/2250 [1:10:42<01:34,  1.89s/it]"
     ]
    },
    {
     "name": "stdout",
     "output_type": "stream",
     "text": [
      "Found 3 word(s) missing in the model. Weighted missing percentage not covered by the given model is 0.80%.\n"
     ]
    },
    {
     "name": "stderr",
     "output_type": "stream",
     "text": [
      "\r",
      "collecting matches info:  98%|███████████████████████████████████████████████████████████████████████████████████████████████████████████████████████████▎  | 2201/2250 [1:10:44<01:33,  1.90s/it]"
     ]
    },
    {
     "name": "stdout",
     "output_type": "stream",
     "text": [
      "Found 4 word(s) missing in the model. Weighted missing percentage not covered by the given model is 2.88%.\n"
     ]
    },
    {
     "name": "stderr",
     "output_type": "stream",
     "text": [
      "collecting matches info:  98%|███████████████████████████████████████████████████████████████████████████████████████████████████████████████████████████▎  | 2203/2250 [1:10:48<01:29,  1.90s/it]"
     ]
    },
    {
     "name": "stdout",
     "output_type": "stream",
     "text": [
      "Found 5 word(s) missing in the model. Weighted missing percentage not covered by the given model is 3.33%.\n"
     ]
    },
    {
     "name": "stderr",
     "output_type": "stream",
     "text": [
      "collecting matches info:  98%|███████████████████████████████████████████████████████████████████████████████████████████████████████████████████████████▌  | 2206/2250 [1:10:54<01:23,  1.90s/it]"
     ]
    },
    {
     "name": "stdout",
     "output_type": "stream",
     "text": [
      "Found 7 word(s) missing in the model. Weighted missing percentage not covered by the given model is 5.15%.\n"
     ]
    },
    {
     "name": "stderr",
     "output_type": "stream",
     "text": [
      "collecting matches info:  98%|███████████████████████████████████████████████████████████████████████████████████████████████████████████████████████████▋  | 2208/2250 [1:10:58<01:21,  1.95s/it]"
     ]
    },
    {
     "name": "stdout",
     "output_type": "stream",
     "text": [
      "Found 5 word(s) missing in the model. Weighted missing percentage not covered by the given model is 3.25%.\n"
     ]
    },
    {
     "name": "stderr",
     "output_type": "stream",
     "text": [
      "collecting matches info:  98%|███████████████████████████████████████████████████████████████████████████████████████████████████████████████████████████▊  | 2211/2250 [1:11:03<01:15,  1.93s/it]"
     ]
    },
    {
     "name": "stdout",
     "output_type": "stream",
     "text": [
      "Found 6 word(s) missing in the model. Weighted missing percentage not covered by the given model is 2.23%.\n"
     ]
    },
    {
     "name": "stderr",
     "output_type": "stream",
     "text": [
      "collecting matches info:  98%|████████████████████████████████████████████████████████████████████████████████████████████████████████████████████████████  | 2215/2250 [1:11:11<01:05,  1.86s/it]"
     ]
    },
    {
     "name": "stdout",
     "output_type": "stream",
     "text": [
      "Found 6 word(s) missing in the model. Weighted missing percentage not covered by the given model is 2.19%.\n"
     ]
    },
    {
     "name": "stderr",
     "output_type": "stream",
     "text": [
      "collecting matches info:  99%|████████████████████████████████████████████████████████████████████████████████████████████████████████████████████████████▏ | 2218/2250 [1:11:16<00:58,  1.84s/it]"
     ]
    },
    {
     "name": "stdout",
     "output_type": "stream",
     "text": [
      "Found 1 word(s) missing in the model. Weighted missing percentage not covered by the given model is 0.37%.\n"
     ]
    },
    {
     "name": "stderr",
     "output_type": "stream",
     "text": [
      "collecting matches info:  99%|████████████████████████████████████████████████████████████████████████████████████████████████████████████████████████████▍ | 2221/2250 [1:11:22<00:54,  1.87s/it]"
     ]
    },
    {
     "name": "stdout",
     "output_type": "stream",
     "text": [
      "Found 9 word(s) missing in the model. Weighted missing percentage not covered by the given model is 3.32%.\n"
     ]
    },
    {
     "name": "stderr",
     "output_type": "stream",
     "text": [
      "collecting matches info:  99%|████████████████████████████████████████████████████████████████████████████████████████████████████████████████████████████▍ | 2223/2250 [1:11:25<00:49,  1.85s/it]"
     ]
    },
    {
     "name": "stdout",
     "output_type": "stream",
     "text": [
      "Found 1 word(s) missing in the model. Weighted missing percentage not covered by the given model is 0.38%.\n"
     ]
    },
    {
     "name": "stderr",
     "output_type": "stream",
     "text": [
      "\r",
      "collecting matches info:  99%|████████████████████████████████████████████████████████████████████████████████████████████████████████████████████████████▌ | 2224/2250 [1:11:27<00:47,  1.84s/it]"
     ]
    },
    {
     "name": "stdout",
     "output_type": "stream",
     "text": [
      "Found 8 word(s) missing in the model. Weighted missing percentage not covered by the given model is 2.99%.\n"
     ]
    },
    {
     "name": "stderr",
     "output_type": "stream",
     "text": [
      "collecting matches info:  99%|████████████████████████████████████████████████████████████████████████████████████████████████████████████████████████████▉ | 2232/2250 [1:11:43<00:34,  1.92s/it]"
     ]
    },
    {
     "name": "stdout",
     "output_type": "stream",
     "text": [
      "Found 1 word(s) missing in the model. Weighted missing percentage not covered by the given model is 0.37%.\n"
     ]
    },
    {
     "name": "stderr",
     "output_type": "stream",
     "text": [
      "collecting matches info:  99%|█████████████████████████████████████████████████████████████████████████████████████████████████████████████████████████████▎| 2237/2250 [1:11:52<00:24,  1.85s/it]"
     ]
    },
    {
     "name": "stdout",
     "output_type": "stream",
     "text": [
      "Found 3 word(s) missing in the model. Weighted missing percentage not covered by the given model is 1.12%.\n"
     ]
    },
    {
     "name": "stderr",
     "output_type": "stream",
     "text": [
      "collecting matches info: 100%|██████████████████████████████████████████████████████████████████████████████████████████████████████████████████████████████| 2250/2250 [1:12:16<00:00,  1.93s/it]\n"
     ]
    }
   ],
   "source": [
    "from ms2query.utils import load_pickled_file\n",
    "\n",
    "test_spectra = load_pickled_file(\"../downloads/gnps_210409/spectra/ALL_GNPS_210409_test_split.pickle\")\n",
    "test_spectra_without_match = validation_spectra[:2250]\n",
    "\n",
    "ms2query_model = \"../downloads/gnps_210409/train_ms2query_model/ms2query_model_all_scores.hdf5\"\n",
    "ms2library = MS2Library(sqlite_file, s2v_model_file, ms2ds_model_file, s2v_embeddings_file, ms2ds_embeddings_file)\n",
    "print(\"Calculating all MS2DS scores\")\n",
    "\n",
    "result = ms2library.analog_search(test_spectra_without_match, ms2query_model, preselection_cut_off = 300)\n",
    "import pickle\n",
    "pickle.dump(result, open(\"../downloads/gnps_210409/train_ms2query_model/results_with_match_all_scores_test_spectra.pickle\", \"wb\"))"
   ]
  },
  {
   "cell_type": "markdown",
   "metadata": {},
   "source": [
    "# Plot tanimoto distribution results\n",
    "To analyse the performance the tanimoto scores for the found matches are calculated. And the distribution is plotted to visualise the quality of the matches. "
   ]
  },
  {
   "cell_type": "code",
   "execution_count": 13,
   "metadata": {},
   "outputs": [],
   "source": [
    "from ms2query.query_from_sqlite_database import get_metadata_from_sqlite\n",
    "from matplotlib import pyplot as plt\n",
    "import numpy as np\n",
    "\n",
    "def select_best_match_and_calculate_tanimoto_score(\n",
    "    result_matches, tanimoto_scores_file, query_spectra, sqlite_file_location, select_on_MS2Query = True):\n",
    "    \"\"\"Returns a list with all the ms2query scores and tanimoto scores for the best matches\"\"\"\n",
    "    \n",
    "    tanimoto_scores = load_pickled_file(tanimoto_scores_file)\n",
    "    ms2query_scores_and_tanimoto = []\n",
    "    \n",
    "    for query_spectrum in query_spectra:\n",
    "        query_spectrum_id = query_spectrum.get(\"spectrumid\")\n",
    "        query_spectrum_inchikey = query_spectrum.get(\"inchikey\")[:14]\n",
    "        \n",
    "        if select_on_MS2Query:\n",
    "            best_match = result_matches[query_spectrum_id].iloc[0]\n",
    "            best_match_score = best_match.loc[\"ms2query_model_prediction\"]\n",
    "            best_match_spectrum_id = best_match.name\n",
    "\n",
    "        else:\n",
    "            # Selection on highest MS2Deepscore\n",
    "            best_match_spectrum_id = result_matches[query_spectrum_id][\"ms2ds_score\"].idxmax()\n",
    "            best_match_score = result_matches[query_spectrum_id][\"ms2ds_score\"].max()\n",
    "\n",
    "        best_match_inchikey = get_metadata_from_sqlite(\n",
    "            sqlite_file_location, [best_match_spectrum_id], \"spectrumid\")[best_match_spectrum_id][\"inchikey\"][:14]\n",
    "        tanimoto_score = tanimoto_scores.loc[best_match_inchikey, query_spectrum_inchikey]\n",
    "        \n",
    "        ms2query_scores_and_tanimoto.append((best_match_score, tanimoto_score))\n",
    "    return ms2query_scores_and_tanimoto\n",
    "        \n",
    "\n",
    "def plot_tanimoto_score_distribution_for_ms2query_cut_offs(ms2query_scores_and_tanimoto, cut_offs, legend_title):\n",
    "    bins = np.linspace(0, 1, 11)\n",
    "\n",
    "    weight_to_convert_to_percentage = 100/len(ms2query_scores_and_tanimoto)\n",
    "\n",
    "    for cut_off in cut_offs:\n",
    "        selected_scores = [scores[1] for scores in ms2query_scores_and_tanimoto if scores[0] > cut_off]\n",
    "        print(len(selected_scores)/len(ms2query_scores_and_tanimoto))\n",
    "        weights = [weight_to_convert_to_percentage] * len(selected_scores)\n",
    "        \n",
    "        plt.hist(selected_scores, bins, label = f\"{cut_off:.2f}\", weights = weights)\n",
    "    \n",
    "    plt.legend(loc = \"upper center\", title = legend_title, ncol = 3)\n",
    "    plt.xlabel(\"tanimoto_score\")\n",
    "    plt.ylabel(\"Percentage of matches (%)\")\n",
    "    plt.ylim(0, 25)\n",
    "\n",
    "    plt.show\n",
    "\n",
    "def compare_tanimoto_score_distribution(ms2query_scores_and_tanimoto, ms2deepscore_scores_and_tanimoto, cut_off_ms2q, cut_off_ms2d):\n",
    "    bins = np.linspace(0, 1, 11)\n",
    "\n",
    "    \n",
    "    # Select scores for ms2query\n",
    "    selected_scores_ms2q = [scores[1] for scores in ms2query_scores_and_tanimoto if scores[0] > cut_off_ms2q]\n",
    "    ms2q_percentage_selected = len(selected_scores_ms2q)/len(ms2query_scores_and_tanimoto)*100\n",
    "    \n",
    "    weight_to_convert_to_percentage = 100/len(ms2query_scores_and_tanimoto)\n",
    "    weights_ms2q = [weight_to_convert_to_percentage] * len(selected_scores_ms2q)\n",
    "\n",
    "    # Select scores for ms2ds\n",
    "    selected_scores_ms2d = [scores[1] for scores in ms2deepscore_scores_and_tanimoto if scores[0] > cut_off_ms2d]\n",
    "    ms2d_percentage_selected = len(selected_scores_ms2d)/len(ms2deepscore_scores_and_tanimoto)*100\n",
    "    \n",
    "    weight_to_convert_to_percentage = 100/len(ms2deepscore_scores_and_tanimoto)\n",
    "    weights_ms2d = [weight_to_convert_to_percentage] * len(selected_scores_ms2d)\n",
    "    \n",
    "    \n",
    "    plt.hist([selected_scores_ms2q, selected_scores_ms2d], bins, label = [f\"MS2Query\", \"MS2Deepscore\"], weights = [weights_ms2q, weights_ms2d])\n",
    "    \n",
    "    plt.legend(loc = \"upper center\", title = \"Select on:\")\n",
    "    plt.xlabel(\"tanimoto_score\")\n",
    "    plt.ylabel(\"Percentage of matches (%)\")\n",
    "    plt.ylim(0, 25)\n",
    "\n",
    "    plt.show"
   ]
  },
  {
   "cell_type": "code",
   "execution_count": 15,
   "metadata": {},
   "outputs": [],
   "source": [
    "results_file = \"../downloads/gnps_210409/train_ms2query_model/results_with_match_all_scores.pickle\"\n",
    "results_test_spectra_file = \"../downloads/gnps_210409/train_ms2query_model/results_with_match_all_scores_test_spectra.pickle\"\n",
    "results = load_pickled_file(results_test_spectra_file)\n",
    "\n",
    "# Calculate tanimoto scores of found matches based on MS2Query\n",
    "ms2query_and_tanimoto = select_best_match_and_calculate_tanimoto_score(\n",
    "    results, tanimoto_scores_df_file, test_spectra_without_match, sqlite_file)\n",
    "# Calculate tanimoto scores of found matches based on MS2Deepscore\n",
    "ms2ds_and_tanimoto = select_best_match_and_calculate_tanimoto_score(\n",
    "    results, tanimoto_scores_df_file, test_spectra_without_match, sqlite_file, False)"
   ]
  },
  {
   "cell_type": "code",
   "execution_count": 8,
   "metadata": {},
   "outputs": [
    {
     "name": "stdout",
     "output_type": "stream",
     "text": [
      "0.25097868638538495\n"
     ]
    },
    {
     "data": {
      "image/png": "[encoded data removed]",
      "text/plain": [
       "<Figure size 432x288 with 1 Axes>"
      ]
     },
     "metadata": {
      "needs_background": "light"
     },
     "output_type": "display_data"
    }
   ],
   "source": [
    "# plot_tanimoto_score_distribution_for_ms2query_cut_offs(ms2query_and_tanimoto, [0,0.5,0.6,0.7,0.8,0.9], \"Minimal MS2Query score\")\n",
    "# plot_tanimoto_score_distribution_for_ms2query_cut_offs(ms2ds_and_tanimoto, [0,0.8,0.9,0.95, 0.97, 0.99], \"Minimal MS2Deepscore\")\n",
    "# plot_tanimoto_score_distribution_for_ms2query_cut_offs(ms2query_and_tanimoto, [0.753], \"Minimal MS2Query score\")\n",
    "# plot_tanimoto_score_distribution_for_ms2query_cut_offs(ms2ds_and_tanimoto, [0.9415], \"Minimal MS2Deepscore\")\n",
    "plot_tanimoto_score_distribution_for_ms2query_cut_offs(ms2query_and_tanimoto, [0.903], \"Minimal MS2Query score\")\n",
    "# plot_tanimoto_score_distribution_for_ms2query_cut_offs(ms2ds_and_tanimoto, [0.9745], \"Minimal MS2Deepscore\")\n",
    "# compare_tanimoto_score_distribution(ms2query_and_tanimoto, ms2ds_and_tanimoto, 0.753, 0.9415)\n",
    "# compare_tanimoto_score_distribution(ms2query_and_tanimoto, ms2ds_and_tanimoto, 0.903, 0.9745)"
   ]
  },
  {
   "cell_type": "markdown",
   "metadata": {},
   "source": [
    "# Plot optimal/random performance\n",
    "To be able to compare the results to the best optimal performance, the tanimoto score distribution of the best possible matches for the test set used is plotted. Also the distribution for tanimoto scores is plotted, when matches would be selected completely at random. "
   ]
  },
  {
   "cell_type": "code",
   "execution_count": 9,
   "metadata": {},
   "outputs": [],
   "source": [
    "def plot_average_tanimoto_distribution(spectra, tanimoto_scores):\n",
    "    bins = np.linspace(0, 1, 11)\n",
    "\n",
    "    inchikeys = [spectrum.get(\"inchikey\")[:14] for spectrum in spectra]\n",
    "    unique_inchikeys = list(set(inchikeys))\n",
    "    \n",
    "    all_inchikeys = []\n",
    "    for row in unique_inchikeys:\n",
    "        all_inchikeys += list(tanimoto_scores[row])\n",
    "        \n",
    "    weight_to_convert_to_percentage = 100/len(all_inchikeys)\n",
    "    weights = [weight_to_convert_to_percentage] * len(all_inchikeys)\n",
    "    plt.xlabel(\"tanimoto score\")\n",
    "    plt.ylabel(\"Percentage of matches (%)\")\n",
    "    plt.hist(all_inchikeys, weights = weights, bins = bins)\n",
    "    plt.ylim(0,80)\n",
    "\n",
    "    plt.show()\n",
    "\n",
    "\n",
    "def plot_best_tanimoto_score_distribution(spectra, tanimoto_scores):\n",
    "    inchikeys = [spectrum.get(\"inchikey\")[:14] for spectrum in spectra]\n",
    "    unique_inchikeys = list(set(inchikeys))\n",
    "    \n",
    "    # remove unique inchikeys from rows\n",
    "    tanimoto_scores_removed = tanimoto_scores[~tanimoto_scores.index.isin(unique_inchikeys)]\n",
    "    highest_tanimoto_list = []\n",
    "    for inchikey in inchikeys:\n",
    "        highest_tanimoto_score = tanimoto_scores_removed[inchikey].max()\n",
    "        highest_tanimoto_list.append(highest_tanimoto_score)\n",
    "    \n",
    "    weight_to_convert_to_percentage = 100/len(spectra)\n",
    "    weights = [weight_to_convert_to_percentage] * len(highest_tanimoto_list)\n",
    "    \n",
    "    average_tanimoto = sum(highest_tanimoto_list)/len(inchikeys)\n",
    "    print(average_tanimoto)\n",
    "    plt.xlabel(\"tanimoto score\")\n",
    "    plt.ylabel(\"Percentage of matches (%)\")\n",
    "    plt.ylim(0,80)\n",
    "    \n",
    "    plt.hist(highest_tanimoto_list, weights = weights, bins = np.linspace(0, 1, 11))\n",
    "    plt.show()"
   ]
  },
  {
   "cell_type": "markdown",
   "metadata": {},
   "source": [
    "### Optimal results"
   ]
  },
  {
   "cell_type": "code",
   "execution_count": 12,
   "metadata": {},
   "outputs": [
    {
     "name": "stdout",
     "output_type": "stream",
     "text": [
      "0.9047104466324215\n"
     ]
    },
    {
     "data": {
      "image/png": "[encoded data removed]",
      "text/plain": [
       "<Figure size 432x288 with 1 Axes>"
      ]
     },
     "metadata": {
      "needs_background": "light"
     },
     "output_type": "display_data"
    }
   ],
   "source": [
    "tanimoto_scores_df = load_pickled_file(tanimoto_scores_df_file)\n",
    "plot_best_tanimoto_score_distribution(validation_spectra_without_match, tanimoto_scores_df)"
   ]
  },
  {
   "cell_type": "markdown",
   "metadata": {},
   "source": [
    "### Random results"
   ]
  },
  {
   "cell_type": "code",
   "execution_count": 13,
   "metadata": {},
   "outputs": [
    {
     "data": {
      "image/png": "[encoded data removed]",
      "text/plain": [
       "<Figure size 432x288 with 1 Axes>"
      ]
     },
     "metadata": {
      "needs_background": "light"
     },
     "output_type": "display_data"
    }
   ],
   "source": [
    "plot_average_tanimoto_distribution(validation_spectra_without_match, tanimoto_scores_df)"
   ]
  },
  {
   "cell_type": "markdown",
   "metadata": {},
   "source": [
    "# Compare MS2Deepscore to MS2Query\n",
    "To make it easier to compare the performance of MS2Deepscore and MS2Query the recall is plotted versus the average tanimoto score. "
   ]
  },
  {
   "cell_type": "code",
   "execution_count": 16,
   "metadata": {},
   "outputs": [],
   "source": [
    "def avg_tanimoto_vs_percentage_found(selection_criteria_and_tanimoto, cut_off_maximum, steps, legend_label):\n",
    "    cut_offs = {}\n",
    "    percentages_found = []\n",
    "    average_tanimoto_score = []\n",
    "    for i in range(steps):\n",
    "        cut_off = cut_off_maximum/steps * i\n",
    "        selected_scores = [scores[1] for scores in selection_criteria_and_tanimoto if scores[0] > cut_off]\n",
    "        percentages_found.append(len(selected_scores)/len(selection_criteria_and_tanimoto)*100)\n",
    "        average_tanimoto_score.append(sum(selected_scores)/len(selected_scores))\n",
    "    plt.plot(percentages_found, average_tanimoto_score, label = legend_label)\n",
    "    plt.xlim(100,0)\n",
    "    plt.ylim(0, 1)\n",
    "    plt.xlabel(\"Percentage matches found\")\n",
    "    plt.ylabel(\"Average tanimoto score\")\n",
    "    plt.legend(loc = \"lower right\", title = \"Select on highest:\")\n",
    "    plt.show"
   ]
  },
  {
   "cell_type": "code",
   "execution_count": 17,
   "metadata": {},
   "outputs": [
    {
     "data": {
      "image/png": "[encoded data removed]",
      "text/plain": [
       "<Figure size 432x288 with 1 Axes>"
      ]
     },
     "metadata": {
      "needs_background": "light"
     },
     "output_type": "display_data"
    }
   ],
   "source": [
    "avg_tanimoto_vs_percentage_found(ms2query_and_tanimoto, 1.1, 100, \"MS2Query score\")\n",
    "avg_tanimoto_vs_percentage_found(ms2ds_and_tanimoto, 1, 1000, \"MS2Deepscore\")"
   ]
  },
  {
   "cell_type": "markdown",
   "metadata": {},
   "source": [
    "# Plot effect of preselection\n",
    "As preselection MS2Deepscore is used. The number of spectra preselected with MS2Deepscore can be varried. The quality of matches found is plotted vs the number of spectra in the preselection. "
   ]
  },
  {
   "cell_type": "code",
   "execution_count": 29,
   "metadata": {},
   "outputs": [
    {
     "name": "stderr",
     "output_type": "stream",
     "text": [
      "  1%|█▌                                                                                                                                                           | 1/100 [00:18<31:15, 18.94s/it]"
     ]
    },
    {
     "name": "stdout",
     "output_type": "stream",
     "text": [
      "0.5032105501892475\n"
     ]
    },
    {
     "name": "stderr",
     "output_type": "stream",
     "text": [
      "\r",
      "  2%|███▏                                                                                                                                                         | 2/100 [00:34<27:52, 17.07s/it]"
     ]
    },
    {
     "name": "stdout",
     "output_type": "stream",
     "text": [
      "0.5782654751325318\n"
     ]
    },
    {
     "name": "stderr",
     "output_type": "stream",
     "text": [
      "\r",
      "  3%|████▋                                                                                                                                                        | 3/100 [00:42<21:05, 13.05s/it]"
     ]
    },
    {
     "name": "stdout",
     "output_type": "stream",
     "text": [
      "0.58143439178454\n"
     ]
    },
    {
     "name": "stderr",
     "output_type": "stream",
     "text": [
      "\r",
      "  4%|██████▎                                                                                                                                                      | 4/100 [00:50<17:10, 10.74s/it]"
     ]
    },
    {
     "name": "stdout",
     "output_type": "stream",
     "text": [
      "0.5830299782839943\n"
     ]
    },
    {
     "name": "stderr",
     "output_type": "stream",
     "text": [
      "\r",
      "  5%|███████▊                                                                                                                                                     | 5/100 [00:56<14:43,  9.30s/it]"
     ]
    },
    {
     "name": "stdout",
     "output_type": "stream",
     "text": [
      "0.5849979812523631\n"
     ]
    },
    {
     "name": "stderr",
     "output_type": "stream",
     "text": [
      "\r",
      "  6%|█████████▍                                                                                                                                                   | 6/100 [01:04<13:30,  8.62s/it]"
     ]
    },
    {
     "name": "stdout",
     "output_type": "stream",
     "text": [
      "0.5851635460885796\n"
     ]
    },
    {
     "name": "stderr",
     "output_type": "stream",
     "text": [
      "\r",
      "  7%|██████████▉                                                                                                                                                  | 7/100 [01:11<12:32,  8.10s/it]"
     ]
    },
    {
     "name": "stdout",
     "output_type": "stream",
     "text": [
      "0.5850408052118661\n"
     ]
    },
    {
     "name": "stderr",
     "output_type": "stream",
     "text": [
      "\r",
      "  8%|████████████▌                                                                                                                                                | 8/100 [01:17<11:45,  7.67s/it]"
     ]
    },
    {
     "name": "stdout",
     "output_type": "stream",
     "text": [
      "0.5870349426889098\n"
     ]
    },
    {
     "name": "stderr",
     "output_type": "stream",
     "text": [
      "\r",
      "  9%|██████████████▏                                                                                                                                              | 9/100 [01:24<11:17,  7.44s/it]"
     ]
    },
    {
     "name": "stdout",
     "output_type": "stream",
     "text": [
      "0.5869611678285993\n"
     ]
    },
    {
     "name": "stderr",
     "output_type": "stream",
     "text": [
      "\r",
      " 10%|███████████████▌                                                                                                                                            | 10/100 [01:31<10:53,  7.26s/it]"
     ]
    },
    {
     "name": "stdout",
     "output_type": "stream",
     "text": [
      "0.5878384636473953\n"
     ]
    },
    {
     "name": "stderr",
     "output_type": "stream",
     "text": [
      "\r",
      " 11%|█████████████████▏                                                                                                                                          | 11/100 [01:39<10:52,  7.34s/it]"
     ]
    },
    {
     "name": "stdout",
     "output_type": "stream",
     "text": [
      "0.5883668868883175\n"
     ]
    },
    {
     "name": "stderr",
     "output_type": "stream",
     "text": [
      "\r",
      " 12%|██████████████████▋                                                                                                                                         | 12/100 [01:46<10:38,  7.25s/it]"
     ]
    },
    {
     "name": "stdout",
     "output_type": "stream",
     "text": [
      "0.5884942397557581\n"
     ]
    },
    {
     "name": "stderr",
     "output_type": "stream",
     "text": [
      "\r",
      " 13%|████████████████████▎                                                                                                                                       | 13/100 [01:53<10:24,  7.18s/it]"
     ]
    },
    {
     "name": "stdout",
     "output_type": "stream",
     "text": [
      "0.5895078245239634\n"
     ]
    },
    {
     "name": "stderr",
     "output_type": "stream",
     "text": [
      "\r",
      " 14%|█████████████████████▊                                                                                                                                      | 14/100 [02:00<10:19,  7.20s/it]"
     ]
    },
    {
     "name": "stdout",
     "output_type": "stream",
     "text": [
      "0.5902512867501705\n"
     ]
    },
    {
     "name": "stderr",
     "output_type": "stream",
     "text": [
      "\r",
      " 15%|███████████████████████▍                                                                                                                                    | 15/100 [02:08<10:20,  7.30s/it]"
     ]
    },
    {
     "name": "stdout",
     "output_type": "stream",
     "text": [
      "0.590257883657127\n"
     ]
    },
    {
     "name": "stderr",
     "output_type": "stream",
     "text": [
      "\r",
      " 16%|████████████████████████▉                                                                                                                                   | 16/100 [02:15<10:09,  7.26s/it]"
     ]
    },
    {
     "name": "stdout",
     "output_type": "stream",
     "text": [
      "0.5893821452458522\n"
     ]
    },
    {
     "name": "stderr",
     "output_type": "stream",
     "text": [
      "\r",
      " 17%|██████████████████████████▌                                                                                                                                 | 17/100 [02:22<10:05,  7.29s/it]"
     ]
    },
    {
     "name": "stdout",
     "output_type": "stream",
     "text": [
      "0.5896122092984577\n"
     ]
    },
    {
     "name": "stderr",
     "output_type": "stream",
     "text": [
      "\r",
      " 18%|████████████████████████████                                                                                                                                | 18/100 [02:30<10:12,  7.46s/it]"
     ]
    },
    {
     "name": "stdout",
     "output_type": "stream",
     "text": [
      "0.5894740456951563\n"
     ]
    },
    {
     "name": "stderr",
     "output_type": "stream",
     "text": [
      "\r",
      " 19%|█████████████████████████████▋                                                                                                                              | 19/100 [02:38<10:09,  7.53s/it]"
     ]
    },
    {
     "name": "stdout",
     "output_type": "stream",
     "text": [
      "0.5899848085490978\n"
     ]
    },
    {
     "name": "stderr",
     "output_type": "stream",
     "text": [
      "\r",
      " 20%|███████████████████████████████▏                                                                                                                            | 20/100 [02:45<09:51,  7.39s/it]"
     ]
    },
    {
     "name": "stdout",
     "output_type": "stream",
     "text": [
      "0.5894181207176913\n"
     ]
    },
    {
     "name": "stderr",
     "output_type": "stream",
     "text": [
      "\r",
      " 21%|████████████████████████████████▊                                                                                                                           | 21/100 [02:53<09:54,  7.53s/it]"
     ]
    },
    {
     "name": "stdout",
     "output_type": "stream",
     "text": [
      "0.5891624087999615\n"
     ]
    },
    {
     "name": "stderr",
     "output_type": "stream",
     "text": [
      "\r",
      " 22%|██████████████████████████████████▎                                                                                                                         | 22/100 [03:00<09:44,  7.49s/it]"
     ]
    },
    {
     "name": "stdout",
     "output_type": "stream",
     "text": [
      "0.5892419886065943\n"
     ]
    },
    {
     "name": "stderr",
     "output_type": "stream",
     "text": [
      "\r",
      " 23%|███████████████████████████████████▉                                                                                                                        | 23/100 [03:08<09:50,  7.67s/it]"
     ]
    },
    {
     "name": "stdout",
     "output_type": "stream",
     "text": [
      "0.5888692866394959\n"
     ]
    },
    {
     "name": "stderr",
     "output_type": "stream",
     "text": [
      "\r",
      " 24%|█████████████████████████████████████▍                                                                                                                      | 24/100 [03:15<09:30,  7.51s/it]"
     ]
    },
    {
     "name": "stdout",
     "output_type": "stream",
     "text": [
      "0.588424647033972\n"
     ]
    },
    {
     "name": "stderr",
     "output_type": "stream",
     "text": [
      "\r",
      " 25%|███████████████████████████████████████                                                                                                                     | 25/100 [03:23<09:26,  7.56s/it]"
     ]
    },
    {
     "name": "stdout",
     "output_type": "stream",
     "text": [
      "0.5875329791494627\n"
     ]
    },
    {
     "name": "stderr",
     "output_type": "stream",
     "text": [
      "\r",
      " 26%|████████████████████████████████████████▌                                                                                                                   | 26/100 [03:30<09:11,  7.46s/it]"
     ]
    },
    {
     "name": "stdout",
     "output_type": "stream",
     "text": [
      "0.5874148097715913\n"
     ]
    },
    {
     "name": "stderr",
     "output_type": "stream",
     "text": [
      "\r",
      " 27%|██████████████████████████████████████████                                                                                                                  | 27/100 [03:38<09:11,  7.55s/it]"
     ]
    },
    {
     "name": "stdout",
     "output_type": "stream",
     "text": [
      "0.5857582495576508\n"
     ]
    },
    {
     "name": "stderr",
     "output_type": "stream",
     "text": [
      "\r",
      " 28%|███████████████████████████████████████████▋                                                                                                                | 28/100 [03:45<08:55,  7.43s/it]"
     ]
    },
    {
     "name": "stdout",
     "output_type": "stream",
     "text": [
      "0.5850161054723831\n"
     ]
    },
    {
     "name": "stderr",
     "output_type": "stream",
     "text": [
      "\r",
      " 29%|█████████████████████████████████████████████▏                                                                                                              | 29/100 [03:52<08:46,  7.41s/it]"
     ]
    },
    {
     "name": "stdout",
     "output_type": "stream",
     "text": [
      "0.5854373043327791\n"
     ]
    },
    {
     "name": "stderr",
     "output_type": "stream",
     "text": [
      "\r",
      " 30%|██████████████████████████████████████████████▊                                                                                                             | 30/100 [04:00<08:38,  7.41s/it]"
     ]
    },
    {
     "name": "stdout",
     "output_type": "stream",
     "text": [
      "0.5844540716402975\n"
     ]
    },
    {
     "name": "stderr",
     "output_type": "stream",
     "text": [
      "\r",
      " 31%|████████████████████████████████████████████████▎                                                                                                           | 31/100 [04:08<08:52,  7.71s/it]"
     ]
    },
    {
     "name": "stdout",
     "output_type": "stream",
     "text": [
      "0.583591009066479\n"
     ]
    },
    {
     "name": "stderr",
     "output_type": "stream",
     "text": [
      "\r",
      " 32%|█████████████████████████████████████████████████▉                                                                                                          | 32/100 [04:16<08:39,  7.64s/it]"
     ]
    },
    {
     "name": "stdout",
     "output_type": "stream",
     "text": [
      "0.5828371863827223\n"
     ]
    },
    {
     "name": "stderr",
     "output_type": "stream",
     "text": [
      "\r",
      " 33%|███████████████████████████████████████████████████▍                                                                                                        | 33/100 [04:23<08:28,  7.59s/it]"
     ]
    },
    {
     "name": "stdout",
     "output_type": "stream",
     "text": [
      "0.5825393428614231\n"
     ]
    },
    {
     "name": "stderr",
     "output_type": "stream",
     "text": [
      "\r",
      " 34%|█████████████████████████████████████████████████████                                                                                                       | 34/100 [04:31<08:19,  7.57s/it]"
     ]
    },
    {
     "name": "stdout",
     "output_type": "stream",
     "text": [
      "0.5823721561558388\n"
     ]
    },
    {
     "name": "stderr",
     "output_type": "stream",
     "text": [
      "\r",
      " 35%|██████████████████████████████████████████████████████▌                                                                                                     | 35/100 [04:39<08:17,  7.65s/it]"
     ]
    },
    {
     "name": "stdout",
     "output_type": "stream",
     "text": [
      "0.5822264492197485\n"
     ]
    },
    {
     "name": "stderr",
     "output_type": "stream",
     "text": [
      "\r",
      " 36%|████████████████████████████████████████████████████████▏                                                                                                   | 36/100 [04:46<08:06,  7.60s/it]"
     ]
    },
    {
     "name": "stdout",
     "output_type": "stream",
     "text": [
      "0.5825625981788419\n"
     ]
    },
    {
     "name": "stderr",
     "output_type": "stream",
     "text": [
      "\r",
      " 37%|█████████████████████████████████████████████████████████▋                                                                                                  | 37/100 [04:53<07:55,  7.55s/it]"
     ]
    },
    {
     "name": "stdout",
     "output_type": "stream",
     "text": [
      "0.5822723116736647\n"
     ]
    },
    {
     "name": "stderr",
     "output_type": "stream",
     "text": [
      "\r",
      " 38%|███████████████████████████████████████████████████████████▎                                                                                                | 38/100 [05:01<07:49,  7.58s/it]"
     ]
    },
    {
     "name": "stdout",
     "output_type": "stream",
     "text": [
      "0.582748623531398\n"
     ]
    },
    {
     "name": "stderr",
     "output_type": "stream",
     "text": [
      "\r",
      " 39%|████████████████████████████████████████████████████████████▊                                                                                               | 39/100 [05:09<07:56,  7.81s/it]"
     ]
    },
    {
     "name": "stdout",
     "output_type": "stream",
     "text": [
      "0.5833167580071464\n"
     ]
    },
    {
     "name": "stderr",
     "output_type": "stream",
     "text": [
      "\r",
      " 40%|██████████████████████████████████████████████████████████████▍                                                                                             | 40/100 [05:17<07:42,  7.71s/it]"
     ]
    },
    {
     "name": "stdout",
     "output_type": "stream",
     "text": [
      "0.5827098706562571\n"
     ]
    },
    {
     "name": "stderr",
     "output_type": "stream",
     "text": [
      "\r",
      " 41%|███████████████████████████████████████████████████████████████▉                                                                                            | 41/100 [05:25<07:41,  7.82s/it]"
     ]
    },
    {
     "name": "stdout",
     "output_type": "stream",
     "text": [
      "0.5828685234224316\n"
     ]
    },
    {
     "name": "stderr",
     "output_type": "stream",
     "text": [
      "\r",
      " 42%|█████████████████████████████████████████████████████████████████▌                                                                                          | 42/100 [05:33<07:27,  7.72s/it]"
     ]
    },
    {
     "name": "stdout",
     "output_type": "stream",
     "text": [
      "0.5827914566444904\n"
     ]
    },
    {
     "name": "stderr",
     "output_type": "stream",
     "text": [
      "\r",
      " 43%|███████████████████████████████████████████████████████████████████                                                                                         | 43/100 [05:41<07:28,  7.88s/it]"
     ]
    },
    {
     "name": "stdout",
     "output_type": "stream",
     "text": [
      "0.582653044868738\n"
     ]
    },
    {
     "name": "stderr",
     "output_type": "stream",
     "text": [
      "\r",
      " 44%|████████████████████████████████████████████████████████████████████▋                                                                                       | 44/100 [05:48<07:15,  7.78s/it]"
     ]
    },
    {
     "name": "stdout",
     "output_type": "stream",
     "text": [
      "0.5831004002220486\n"
     ]
    },
    {
     "name": "stderr",
     "output_type": "stream",
     "text": [
      "\r",
      " 45%|██████████████████████████████████████████████████████████████████████▏                                                                                     | 45/100 [05:56<07:06,  7.76s/it]"
     ]
    },
    {
     "name": "stdout",
     "output_type": "stream",
     "text": [
      "0.582679931283055\n"
     ]
    },
    {
     "name": "stderr",
     "output_type": "stream",
     "text": [
      "\r",
      " 46%|███████████████████████████████████████████████████████████████████████▊                                                                                    | 46/100 [06:04<07:00,  7.79s/it]"
     ]
    },
    {
     "name": "stdout",
     "output_type": "stream",
     "text": [
      "0.5826441788516887\n"
     ]
    },
    {
     "name": "stderr",
     "output_type": "stream",
     "text": [
      "\r",
      " 47%|█████████████████████████████████████████████████████████████████████████▎                                                                                  | 47/100 [06:12<07:00,  7.94s/it]"
     ]
    },
    {
     "name": "stdout",
     "output_type": "stream",
     "text": [
      "0.5822165962157358\n"
     ]
    },
    {
     "name": "stderr",
     "output_type": "stream",
     "text": [
      "\r",
      " 48%|██████████████████████████████████████████████████████████████████████████▉                                                                                 | 48/100 [06:20<06:48,  7.86s/it]"
     ]
    },
    {
     "name": "stdout",
     "output_type": "stream",
     "text": [
      "0.5816093084424303\n"
     ]
    },
    {
     "name": "stderr",
     "output_type": "stream",
     "text": [
      "\r",
      " 49%|████████████████████████████████████████████████████████████████████████████▍                                                                               | 49/100 [06:27<06:35,  7.75s/it]"
     ]
    },
    {
     "name": "stdout",
     "output_type": "stream",
     "text": [
      "0.580673689730676\n"
     ]
    },
    {
     "name": "stderr",
     "output_type": "stream",
     "text": [
      "\r",
      " 50%|██████████████████████████████████████████████████████████████████████████████                                                                              | 50/100 [06:35<06:25,  7.72s/it]"
     ]
    },
    {
     "name": "stdout",
     "output_type": "stream",
     "text": [
      "0.5807458615141592\n"
     ]
    },
    {
     "name": "stderr",
     "output_type": "stream",
     "text": [
      "\r",
      " 51%|███████████████████████████████████████████████████████████████████████████████▌                                                                            | 51/100 [06:44<06:29,  7.96s/it]"
     ]
    },
    {
     "name": "stdout",
     "output_type": "stream",
     "text": [
      "0.5809985172283295\n"
     ]
    },
    {
     "name": "stderr",
     "output_type": "stream",
     "text": [
      "\r",
      " 52%|█████████████████████████████████████████████████████████████████████████████████                                                                           | 52/100 [06:51<06:20,  7.93s/it]"
     ]
    },
    {
     "name": "stdout",
     "output_type": "stream",
     "text": [
      "0.580812672188349\n"
     ]
    },
    {
     "name": "stderr",
     "output_type": "stream",
     "text": [
      "\r",
      " 53%|██████████████████████████████████████████████████████████████████████████████████▋                                                                         | 53/100 [06:59<06:11,  7.91s/it]"
     ]
    },
    {
     "name": "stdout",
     "output_type": "stream",
     "text": [
      "0.5804514441104042\n"
     ]
    },
    {
     "name": "stderr",
     "output_type": "stream",
     "text": [
      "\r",
      " 54%|████████████████████████████████████████████████████████████████████████████████████▏                                                                       | 54/100 [07:07<06:03,  7.90s/it]"
     ]
    },
    {
     "name": "stdout",
     "output_type": "stream",
     "text": [
      "0.5806699605109196\n"
     ]
    },
    {
     "name": "stderr",
     "output_type": "stream",
     "text": [
      "\r",
      " 55%|█████████████████████████████████████████████████████████████████████████████████████▊                                                                      | 55/100 [07:15<05:59,  7.99s/it]"
     ]
    },
    {
     "name": "stdout",
     "output_type": "stream",
     "text": [
      "0.579547212966482\n"
     ]
    },
    {
     "name": "stderr",
     "output_type": "stream",
     "text": [
      "\r",
      " 56%|███████████████████████████████████████████████████████████████████████████████████████▎                                                                    | 56/100 [07:23<05:49,  7.95s/it]"
     ]
    },
    {
     "name": "stdout",
     "output_type": "stream",
     "text": [
      "0.5790269297446502\n"
     ]
    },
    {
     "name": "stderr",
     "output_type": "stream",
     "text": [
      "\r",
      " 57%|████████████████████████████████████████████████████████████████████████████████████████▉                                                                   | 57/100 [07:31<05:41,  7.93s/it]"
     ]
    },
    {
     "name": "stdout",
     "output_type": "stream",
     "text": [
      "0.5787154680390807\n"
     ]
    },
    {
     "name": "stderr",
     "output_type": "stream",
     "text": [
      "\r",
      " 58%|██████████████████████████████████████████████████████████████████████████████████████████▍                                                                 | 58/100 [07:39<05:35,  7.99s/it]"
     ]
    },
    {
     "name": "stdout",
     "output_type": "stream",
     "text": [
      "0.5787764082432789\n"
     ]
    },
    {
     "name": "stderr",
     "output_type": "stream",
     "text": [
      "\r",
      " 59%|████████████████████████████████████████████████████████████████████████████████████████████                                                                | 59/100 [07:48<05:33,  8.14s/it]"
     ]
    },
    {
     "name": "stdout",
     "output_type": "stream",
     "text": [
      "0.5786780201717324\n"
     ]
    },
    {
     "name": "stderr",
     "output_type": "stream",
     "text": [
      "\r",
      " 60%|█████████████████████████████████████████████████████████████████████████████████████████████▌                                                              | 60/100 [07:55<05:21,  8.03s/it]"
     ]
    },
    {
     "name": "stdout",
     "output_type": "stream",
     "text": [
      "0.5785474779459195\n"
     ]
    },
    {
     "name": "stderr",
     "output_type": "stream",
     "text": [
      "\r",
      " 61%|███████████████████████████████████████████████████████████████████████████████████████████████▏                                                            | 61/100 [08:03<05:10,  7.95s/it]"
     ]
    },
    {
     "name": "stdout",
     "output_type": "stream",
     "text": [
      "0.578303921712827\n"
     ]
    },
    {
     "name": "stderr",
     "output_type": "stream",
     "text": [
      "\r",
      " 62%|████████████████████████████████████████████████████████████████████████████████████████████████▋                                                           | 62/100 [08:11<05:00,  7.92s/it]"
     ]
    },
    {
     "name": "stdout",
     "output_type": "stream",
     "text": [
      "0.5781715449395108\n"
     ]
    },
    {
     "name": "stderr",
     "output_type": "stream",
     "text": [
      "\r",
      " 63%|██████████████████████████████████████████████████████████████████████████████████████████████████▎                                                         | 63/100 [08:20<04:59,  8.11s/it]"
     ]
    },
    {
     "name": "stdout",
     "output_type": "stream",
     "text": [
      "0.577659140005994\n"
     ]
    },
    {
     "name": "stderr",
     "output_type": "stream",
     "text": [
      "\r",
      " 64%|███████████████████████████████████████████████████████████████████████████████████████████████████▊                                                        | 64/100 [08:28<04:50,  8.07s/it]"
     ]
    },
    {
     "name": "stdout",
     "output_type": "stream",
     "text": [
      "0.5776160280321715\n"
     ]
    },
    {
     "name": "stderr",
     "output_type": "stream",
     "text": [
      "\r",
      " 65%|█████████████████████████████████████████████████████████████████████████████████████████████████████▍                                                      | 65/100 [08:36<04:40,  8.02s/it]"
     ]
    },
    {
     "name": "stdout",
     "output_type": "stream",
     "text": [
      "0.577362644446959\n"
     ]
    },
    {
     "name": "stderr",
     "output_type": "stream",
     "text": [
      "\r",
      " 66%|██████████████████████████████████████████████████████████████████████████████████████████████████████▉                                                     | 66/100 [08:43<04:31,  7.98s/it]"
     ]
    },
    {
     "name": "stdout",
     "output_type": "stream",
     "text": [
      "0.5773895679739395\n"
     ]
    },
    {
     "name": "stderr",
     "output_type": "stream",
     "text": [
      "\r",
      " 67%|████████████████████████████████████████████████████████████████████████████████████████████████████████▌                                                   | 67/100 [08:52<04:27,  8.11s/it]"
     ]
    },
    {
     "name": "stdout",
     "output_type": "stream",
     "text": [
      "0.5778146902817098\n"
     ]
    },
    {
     "name": "stderr",
     "output_type": "stream",
     "text": [
      "\r",
      " 68%|██████████████████████████████████████████████████████████████████████████████████████████████████████████                                                  | 68/100 [09:00<04:18,  8.08s/it]"
     ]
    },
    {
     "name": "stdout",
     "output_type": "stream",
     "text": [
      "0.5770497217072148\n"
     ]
    },
    {
     "name": "stderr",
     "output_type": "stream",
     "text": [
      "\r",
      " 69%|███████████████████████████████████████████████████████████████████████████████████████████████████████████▋                                                | 69/100 [09:08<04:12,  8.15s/it]"
     ]
    },
    {
     "name": "stdout",
     "output_type": "stream",
     "text": [
      "0.5772451186020381\n"
     ]
    },
    {
     "name": "stderr",
     "output_type": "stream",
     "text": [
      "\r",
      " 70%|█████████████████████████████████████████████████████████████████████████████████████████████████████████████▏                                              | 70/100 [09:16<04:03,  8.13s/it]"
     ]
    },
    {
     "name": "stdout",
     "output_type": "stream",
     "text": [
      "0.5765660045509531\n"
     ]
    },
    {
     "name": "stderr",
     "output_type": "stream",
     "text": [
      "\r",
      " 71%|██████████████████████████████████████████████████████████████████████████████████████████████████████████████▊                                             | 71/100 [09:25<04:01,  8.32s/it]"
     ]
    },
    {
     "name": "stdout",
     "output_type": "stream",
     "text": [
      "0.5763408257572447\n"
     ]
    },
    {
     "name": "stderr",
     "output_type": "stream",
     "text": [
      "\r",
      " 72%|████████████████████████████████████████████████████████████████████████████████████████████████████████████████▎                                           | 72/100 [09:33<03:53,  8.34s/it]"
     ]
    },
    {
     "name": "stdout",
     "output_type": "stream",
     "text": [
      "0.5763966995356681\n"
     ]
    },
    {
     "name": "stderr",
     "output_type": "stream",
     "text": [
      "\r",
      " 73%|█████████████████████████████████████████████████████████████████████████████████████████████████████████████████▉                                          | 73/100 [09:42<03:46,  8.39s/it]"
     ]
    },
    {
     "name": "stdout",
     "output_type": "stream",
     "text": [
      "0.5767667546735213\n"
     ]
    },
    {
     "name": "stderr",
     "output_type": "stream",
     "text": [
      "\r",
      " 74%|███████████████████████████████████████████████████████████████████████████████████████████████████████████████████▍                                        | 74/100 [09:50<03:38,  8.40s/it]"
     ]
    },
    {
     "name": "stdout",
     "output_type": "stream",
     "text": [
      "0.5764251565452668\n"
     ]
    },
    {
     "name": "stderr",
     "output_type": "stream",
     "text": [
      "\r",
      " 75%|█████████████████████████████████████████████████████████████████████████████████████████████████████████████████████                                       | 75/100 [10:01<03:49,  9.16s/it]"
     ]
    },
    {
     "name": "stdout",
     "output_type": "stream",
     "text": [
      "0.5757434002971074\n"
     ]
    },
    {
     "name": "stderr",
     "output_type": "stream",
     "text": [
      "\r",
      " 76%|██████████████████████████████████████████████████████████████████████████████████████████████████████████████████████▌                                     | 76/100 [10:10<03:35,  8.99s/it]"
     ]
    },
    {
     "name": "stdout",
     "output_type": "stream",
     "text": [
      "0.5756702173449456\n"
     ]
    },
    {
     "name": "stderr",
     "output_type": "stream",
     "text": [
      "\r",
      " 77%|████████████████████████████████████████████████████████████████████████████████████████████████████████████████████████                                    | 77/100 [10:18<03:22,  8.82s/it]"
     ]
    },
    {
     "name": "stdout",
     "output_type": "stream",
     "text": [
      "0.5755288514871354\n"
     ]
    },
    {
     "name": "stderr",
     "output_type": "stream",
     "text": [
      "\r",
      " 78%|█████████████████████████████████████████████████████████████████████████████████████████████████████████████████████████▋                                  | 78/100 [10:26<03:08,  8.57s/it]"
     ]
    },
    {
     "name": "stdout",
     "output_type": "stream",
     "text": [
      "0.5757763572071838\n"
     ]
    },
    {
     "name": "stderr",
     "output_type": "stream",
     "text": [
      "\r",
      " 79%|███████████████████████████████████████████████████████████████████████████████████████████████████████████████████████████▏                                | 79/100 [10:35<03:00,  8.58s/it]"
     ]
    },
    {
     "name": "stdout",
     "output_type": "stream",
     "text": [
      "0.5757678918162968\n"
     ]
    },
    {
     "name": "stderr",
     "output_type": "stream",
     "text": [
      "\r",
      " 80%|████████████████████████████████████████████████████████████████████████████████████████████████████████████████████████████▊                               | 80/100 [10:43<02:49,  8.46s/it]"
     ]
    },
    {
     "name": "stdout",
     "output_type": "stream",
     "text": [
      "0.5758670047262358\n"
     ]
    },
    {
     "name": "stderr",
     "output_type": "stream",
     "text": [
      "\r",
      " 81%|██████████████████████████████████████████████████████████████████████████████████████████████████████████████████████████████▎                             | 81/100 [10:51<02:38,  8.37s/it]"
     ]
    },
    {
     "name": "stdout",
     "output_type": "stream",
     "text": [
      "0.575788406863242\n"
     ]
    },
    {
     "name": "stderr",
     "output_type": "stream",
     "text": [
      "\r",
      " 82%|███████████████████████████████████████████████████████████████████████████████████████████████████████████████████████████████▉                            | 82/100 [11:00<02:32,  8.50s/it]"
     ]
    },
    {
     "name": "stdout",
     "output_type": "stream",
     "text": [
      "0.5759968625184329\n"
     ]
    },
    {
     "name": "stderr",
     "output_type": "stream",
     "text": [
      "\r",
      " 83%|█████████████████████████████████████████████████████████████████████████████████████████████████████████████████████████████████▍                          | 83/100 [11:09<02:26,  8.62s/it]"
     ]
    },
    {
     "name": "stdout",
     "output_type": "stream",
     "text": [
      "0.5755300068810021\n"
     ]
    },
    {
     "name": "stderr",
     "output_type": "stream",
     "text": [
      "\r",
      " 84%|███████████████████████████████████████████████████████████████████████████████████████████████████████████████████████████████████                         | 84/100 [11:17<02:16,  8.51s/it]"
     ]
    },
    {
     "name": "stdout",
     "output_type": "stream",
     "text": [
      "0.5753061518914125\n"
     ]
    },
    {
     "name": "stderr",
     "output_type": "stream",
     "text": [
      "\r",
      " 85%|████████████████████████████████████████████████████████████████████████████████████████████████████████████████████████████████████▌                       | 85/100 [11:26<02:07,  8.49s/it]"
     ]
    },
    {
     "name": "stdout",
     "output_type": "stream",
     "text": [
      "0.5755831560815691\n"
     ]
    },
    {
     "name": "stderr",
     "output_type": "stream",
     "text": [
      "\r",
      " 86%|██████████████████████████████████████████████████████████████████████████████████████████████████████████████████████████████████████▏                     | 86/100 [11:34<01:58,  8.46s/it]"
     ]
    },
    {
     "name": "stdout",
     "output_type": "stream",
     "text": [
      "0.5757091976206751\n"
     ]
    },
    {
     "name": "stderr",
     "output_type": "stream",
     "text": [
      "\r",
      " 87%|███████████████████████████████████████████████████████████████████████████████████████████████████████████████████████████████████████▋                    | 87/100 [11:43<01:52,  8.66s/it]"
     ]
    },
    {
     "name": "stdout",
     "output_type": "stream",
     "text": [
      "0.5760563534112558\n"
     ]
    },
    {
     "name": "stderr",
     "output_type": "stream",
     "text": [
      "\r",
      " 88%|█████████████████████████████████████████████████████████████████████████████████████████████████████████████████████████████████████████▎                  | 88/100 [11:52<01:44,  8.67s/it]"
     ]
    },
    {
     "name": "stdout",
     "output_type": "stream",
     "text": [
      "0.576141251137569\n"
     ]
    },
    {
     "name": "stderr",
     "output_type": "stream",
     "text": [
      "\r",
      " 89%|██████████████████████████████████████████████████████████████████████████████████████████████████████████████████████████████████████████▊                 | 89/100 [12:00<01:34,  8.58s/it]"
     ]
    },
    {
     "name": "stdout",
     "output_type": "stream",
     "text": [
      "0.5754010333094906\n"
     ]
    },
    {
     "name": "stderr",
     "output_type": "stream",
     "text": [
      "\r",
      " 90%|████████████████████████████████████████████████████████████████████████████████████████████████████████████████████████████████████████████▍               | 90/100 [12:09<01:25,  8.57s/it]"
     ]
    },
    {
     "name": "stdout",
     "output_type": "stream",
     "text": [
      "0.5757351099689155\n"
     ]
    },
    {
     "name": "stderr",
     "output_type": "stream",
     "text": [
      "\r",
      " 91%|█████████████████████████████████████████████████████████████████████████████████████████████████████████████████████████████████████████████▉              | 91/100 [12:17<01:17,  8.63s/it]"
     ]
    },
    {
     "name": "stdout",
     "output_type": "stream",
     "text": [
      "0.5757113883605585\n"
     ]
    },
    {
     "name": "stderr",
     "output_type": "stream",
     "text": [
      "\r",
      " 92%|███████████████████████████████████████████████████████████████████████████████████████████████████████████████████████████████████████████████▌            | 92/100 [12:26<01:08,  8.51s/it]"
     ]
    },
    {
     "name": "stdout",
     "output_type": "stream",
     "text": [
      "0.5754151869808567\n"
     ]
    },
    {
     "name": "stderr",
     "output_type": "stream",
     "text": [
      "\r",
      " 93%|█████████████████████████████████████████████████████████████████████████████████████████████████████████████████████████████████████████████████           | 93/100 [12:34<00:59,  8.49s/it]"
     ]
    },
    {
     "name": "stdout",
     "output_type": "stream",
     "text": [
      "0.5750569675620776\n"
     ]
    },
    {
     "name": "stderr",
     "output_type": "stream",
     "text": [
      "\r",
      " 94%|██████████████████████████████████████████████████████████████████████████████████████████████████████████████████████████████████████████████████▋         | 94/100 [12:42<00:50,  8.44s/it]"
     ]
    },
    {
     "name": "stdout",
     "output_type": "stream",
     "text": [
      "0.5755887069261695\n"
     ]
    },
    {
     "name": "stderr",
     "output_type": "stream",
     "text": [
      "\r",
      " 95%|████████████████████████████████████████████████████████████████████████████████████████████████████████████████████████████████████████████████████▏       | 95/100 [12:51<00:41,  8.39s/it]"
     ]
    },
    {
     "name": "stdout",
     "output_type": "stream",
     "text": [
      "0.5753914757750754\n"
     ]
    },
    {
     "name": "stderr",
     "output_type": "stream",
     "text": [
      "\r",
      " 96%|█████████████████████████████████████████████████████████████████████████████████████████████████████████████████████████████████████████████████████▊      | 96/100 [13:00<00:34,  8.57s/it]"
     ]
    },
    {
     "name": "stdout",
     "output_type": "stream",
     "text": [
      "0.5749092806179474\n"
     ]
    },
    {
     "name": "stderr",
     "output_type": "stream",
     "text": [
      "\r",
      " 97%|███████████████████████████████████████████████████████████████████████████████████████████████████████████████████████████████████████████████████████▎    | 97/100 [13:09<00:25,  8.63s/it]"
     ]
    },
    {
     "name": "stdout",
     "output_type": "stream",
     "text": [
      "0.5746638472575949\n"
     ]
    },
    {
     "name": "stderr",
     "output_type": "stream",
     "text": [
      "\r",
      " 98%|████████████████████████████████████████████████████████████████████████████████████████████████████████████████████████████████████████████████████████▉   | 98/100 [13:17<00:17,  8.62s/it]"
     ]
    },
    {
     "name": "stdout",
     "output_type": "stream",
     "text": [
      "0.5741188642336249\n"
     ]
    },
    {
     "name": "stderr",
     "output_type": "stream",
     "text": [
      "\r",
      " 99%|██████████████████████████████████████████████████████████████████████████████████████████████████████████████████████████████████████████████████████████▍ | 99/100 [13:26<00:08,  8.55s/it]"
     ]
    },
    {
     "name": "stdout",
     "output_type": "stream",
     "text": [
      "0.5743469860406949\n"
     ]
    },
    {
     "name": "stderr",
     "output_type": "stream",
     "text": [
      "100%|███████████████████████████████████████████████████████████████████████████████████████████████████████████████████████████████████████████████████████████| 100/100 [13:35<00:00,  8.15s/it]"
     ]
    },
    {
     "name": "stdout",
     "output_type": "stream",
     "text": [
      "0.5741066223207038\n",
      "[0.5032105501892475, 0.5782654751325318, 0.58143439178454, 0.5830299782839943, 0.5849979812523631, 0.5851635460885796, 0.5850408052118661, 0.5870349426889098, 0.5869611678285993, 0.5878384636473953, 0.5883668868883175, 0.5884942397557581, 0.5895078245239634, 0.5902512867501705, 0.590257883657127, 0.5893821452458522, 0.5896122092984577, 0.5894740456951563, 0.5899848085490978, 0.5894181207176913, 0.5891624087999615, 0.5892419886065943, 0.5888692866394959, 0.588424647033972, 0.5875329791494627, 0.5874148097715913, 0.5857582495576508, 0.5850161054723831, 0.5854373043327791, 0.5844540716402975, 0.583591009066479, 0.5828371863827223, 0.5825393428614231, 0.5823721561558388, 0.5822264492197485, 0.5825625981788419, 0.5822723116736647, 0.582748623531398, 0.5833167580071464, 0.5827098706562571, 0.5828685234224316, 0.5827914566444904, 0.582653044868738, 0.5831004002220486, 0.582679931283055, 0.5826441788516887, 0.5822165962157358, 0.5816093084424303, 0.580673689730676, 0.5807458615141592, 0.5809985172283295, 0.580812672188349, 0.5804514441104042, 0.5806699605109196, 0.579547212966482, 0.5790269297446502, 0.5787154680390807, 0.5787764082432789, 0.5786780201717324, 0.5785474779459195, 0.578303921712827, 0.5781715449395108, 0.577659140005994, 0.5776160280321715, 0.577362644446959, 0.5773895679739395, 0.5778146902817098, 0.5770497217072148, 0.5772451186020381, 0.5765660045509531, 0.5763408257572447, 0.5763966995356681, 0.5767667546735213, 0.5764251565452668, 0.5757434002971074, 0.5756702173449456, 0.5755288514871354, 0.5757763572071838, 0.5757678918162968, 0.5758670047262358, 0.575788406863242, 0.5759968625184329, 0.5755300068810021, 0.5753061518914125, 0.5755831560815691, 0.5757091976206751, 0.5760563534112558, 0.576141251137569, 0.5754010333094906, 0.5757351099689155, 0.5757113883605585, 0.5754151869808567, 0.5750569675620776, 0.5755887069261695, 0.5753914757750754, 0.5749092806179474, 0.5746638472575949, 0.5741188642336249, 0.5743469860406949, 0.5741066223207038]\n",
      "[1, 21, 41, 61, 81, 101, 121, 141, 161, 181, 201, 221, 241, 261, 281, 301, 321, 341, 361, 381, 401, 421, 441, 461, 481, 501, 521, 541, 561, 581, 601, 621, 641, 661, 681, 701, 721, 741, 761, 781, 801, 821, 841, 861, 881, 901, 921, 941, 961, 981, 1001, 1021, 1041, 1061, 1081, 1101, 1121, 1141, 1161, 1181, 1201, 1221, 1241, 1261, 1281, 1301, 1321, 1341, 1361, 1381, 1401, 1421, 1441, 1461, 1481, 1501, 1521, 1541, 1561, 1581, 1601, 1621, 1641, 1661, 1681, 1701, 1721, 1741, 1761, 1781, 1801, 1821, 1841, 1861, 1881, 1901, 1921, 1941, 1961, 1981]\n"
     ]
    },
    {
     "name": "stderr",
     "output_type": "stream",
     "text": [
      "\n"
     ]
    },
    {
     "data": {
      "image/png": "[encoded data removed]",
      "text/plain": [
       "<Figure size 432x288 with 1 Axes>"
      ]
     },
     "metadata": {
      "needs_background": "light"
     },
     "output_type": "display_data"
    }
   ],
   "source": [
    "from tqdm import tqdm\n",
    "def average_tanimoto_for_nr_preselected(scores, nr_of_spectra_preselection):\n",
    "    selected_matches = {}\n",
    "    for query_spectrum_id in scores:\n",
    "        scores_df = scores[query_spectrum_id]\n",
    "        selected_matches[query_spectrum_id] = scores_df.loc[scores_df[\"ms2ds_score\"].nlargest(nr_of_spectra_preselection).index].sort_values(\"ms2query_model_prediction\", ascending = False)\n",
    "    tanimoto_scores = select_best_match_and_calculate_tanimoto_score(selected_matches, tanimoto_scores_df_file, validation_spectra_without_match, sqlite_file)\n",
    "    average_tanimoto_score = sum([scores[1] for scores in tanimoto_scores])/len(tanimoto_scores)\n",
    "    return average_tanimoto_score \n",
    "\n",
    "def plot_dependency_on_nr_preselected(results):\n",
    "    average_tanimoto_list = []\n",
    "    cut_off = []\n",
    "    for i in tqdm(range(1, 2000, 20)):\n",
    "        average_tanimoto = average_tanimoto_for_nr_preselected(results, i)\n",
    "        average_tanimoto_list.append(average_tanimoto)\n",
    "        cut_off.append(i)\n",
    "        print(average_tanimoto)\n",
    "    print(average_tanimoto_list)\n",
    "    print(cut_off)\n",
    "    plt.plot(cut_off, average_tanimoto_list)\n",
    "\n",
    "plot_dependency_on_nr_preselected(results)\n"
   ]
  },
  {
   "cell_type": "code",
   "execution_count": 36,
   "metadata": {},
   "outputs": [
    {
     "data": {
      "image/png": "[encoded data removed]",
      "text/plain": [
       "<Figure size 432x288 with 1 Axes>"
      ]
     },
     "metadata": {
      "needs_background": "light"
     },
     "output_type": "display_data"
    }
   ],
   "source": [
    "tanimoto_scores = [0.5032105501892475, 0.5782654751325318, 0.58143439178454, 0.5830299782839943, 0.5849979812523631, 0.5851635460885796, 0.5850408052118661, 0.5870349426889098, 0.5869611678285993, 0.5878384636473953, 0.5883668868883175, 0.5884942397557581, 0.5895078245239634, 0.5902512867501705, 0.590257883657127, 0.5893821452458522, 0.5896122092984577, 0.5894740456951563, 0.5899848085490978, 0.5894181207176913, 0.5891624087999615, 0.5892419886065943, 0.5888692866394959, 0.588424647033972, 0.5875329791494627, 0.5874148097715913, 0.5857582495576508, 0.5850161054723831, 0.5854373043327791, 0.5844540716402975, 0.583591009066479, 0.5828371863827223, 0.5825393428614231, 0.5823721561558388, 0.5822264492197485, 0.5825625981788419, 0.5822723116736647, 0.582748623531398, 0.5833167580071464, 0.5827098706562571, 0.5828685234224316, 0.5827914566444904, 0.582653044868738, 0.5831004002220486, 0.582679931283055, 0.5826441788516887, 0.5822165962157358, 0.5816093084424303, 0.580673689730676, 0.5807458615141592, 0.5809985172283295, 0.580812672188349, 0.5804514441104042, 0.5806699605109196, 0.579547212966482, 0.5790269297446502, 0.5787154680390807, 0.5787764082432789, 0.5786780201717324, 0.5785474779459195, 0.578303921712827, 0.5781715449395108, 0.577659140005994, 0.5776160280321715, 0.577362644446959, 0.5773895679739395, 0.5778146902817098, 0.5770497217072148, 0.5772451186020381, 0.5765660045509531, 0.5763408257572447, 0.5763966995356681, 0.5767667546735213, 0.5764251565452668, 0.5757434002971074, 0.5756702173449456, 0.5755288514871354, 0.5757763572071838, 0.5757678918162968, 0.5758670047262358, 0.575788406863242, 0.5759968625184329, 0.5755300068810021, 0.5753061518914125, 0.5755831560815691, 0.5757091976206751, 0.5760563534112558, 0.576141251137569, 0.5754010333094906, 0.5757351099689155, 0.5757113883605585, 0.5754151869808567, 0.5750569675620776, 0.5755887069261695, 0.5753914757750754, 0.5749092806179474, 0.5746638472575949, 0.5741188642336249, 0.5743469860406949, 0.5741066223207038]\n",
    "nr_of_spectra_selected = [1, 21, 41, 61, 81, 101, 121, 141, 161, 181, 201, 221, 241, 261, 281, 301, 321, 341, 361, 381, 401, 421, 441, 461, 481, 501, 521, 541, 561, 581, 601, 621, 641, 661, 681, 701, 721, 741, 761, 781, 801, 821, 841, 861, 881, 901, 921, 941, 961, 981, 1001, 1021, 1041, 1061, 1081, 1101, 1121, 1141, 1161, 1181, 1201, 1221, 1241, 1261, 1281, 1301, 1321, 1341, 1361, 1381, 1401, 1421, 1441, 1461, 1481, 1501, 1521, 1541, 1561, 1581, 1601, 1621, 1641, 1661, 1681, 1701, 1721, 1741, 1761, 1781, 1801, 1821, 1841, 1861, 1881, 1901, 1921, 1941, 1961, 1981]\n",
    "\n",
    "plt.xlabel(\"Nr of spectra in preselection\")\n",
    "plt.ylabel(\"Average tanimoto score\")\n",
    "plt.ylim(0.5,0.6)\n",
    "plt.plot(nr_of_spectra_selected, tanimoto_scores)\n",
    "plt.show()"
   ]
  },
  {
   "cell_type": "code",
   "execution_count": 37,
   "metadata": {},
   "outputs": [
    {
     "name": "stdout",
     "output_type": "stream",
     "text": [
      "1.0\n"
     ]
    },
    {
     "data": {
      "image/png": "[encoded data removed]",
      "text/plain": [
       "<Figure size 432x288 with 1 Axes>"
      ]
     },
     "metadata": {
      "needs_background": "light"
     },
     "output_type": "display_data"
    }
   ],
   "source": [
    "plot_tanimoto_score_distribution_for_ms2query_cut_offs(ms2ds_and_tanimoto, [0], \"Minimal MS2Deepscore\")\n"
   ]
  },
  {
   "cell_type": "markdown",
   "metadata": {},
   "source": [
    "# Format graphs with constant axises for report"
   ]
  },
  {
   "cell_type": "code",
   "execution_count": 54,
   "metadata": {},
   "outputs": [
    {
     "data": {
      "image/png": "[encoded data removed]",
      "text/plain": [
       "<Figure size 432x288 with 1 Axes>"
      ]
     },
     "metadata": {
      "needs_background": "light"
     },
     "output_type": "display_data"
    }
   ],
   "source": [
    "bins = np.linspace(0, 1, 11)\n",
    "\n",
    "weight_to_convert_to_percentage = 100/len(ms2query_and_tanimoto)\n",
    "\n",
    "\n",
    "selected_scores = [scores[1] for scores in ms2query_and_tanimoto]\n",
    "weights = [weight_to_convert_to_percentage] * len(selected_scores)\n",
    "\n",
    "plt.hist(selected_scores, bins, weights = weights)\n",
    "\n",
    "plt.xlabel(\"tanimoto_score\")\n",
    "plt.ylabel(\"Percentage of matches (%)\")\n",
    "plt.ylim(0, 80)\n",
    "plt.show()"
   ]
  },
  {
   "cell_type": "code",
   "execution_count": null,
   "metadata": {},
   "outputs": [],
   "source": []
  },
  {
   "cell_type": "code",
   "execution_count": 15,
   "metadata": {},
   "outputs": [
    {
     "data": {
      "image/png": "[encoded data removed]",
      "text/plain": [
       "<Figure size 432x288 with 1 Axes>"
      ]
     },
     "metadata": {
      "needs_background": "light"
     },
     "output_type": "display_data"
    }
   ],
   "source": [
    "bins = np.linspace(0, 1, 11)\n",
    "\n",
    "weight_to_convert_to_percentage = 100/len(ms2ds_and_tanimoto)\n",
    "\n",
    "\n",
    "selected_scores = [scores[1] for scores in ms2ds_and_tanimoto]\n",
    "weights = [weight_to_convert_to_percentage] * len(selected_scores)\n",
    "\n",
    "plt.hist(selected_scores, bins, weights = weights)\n",
    "\n",
    "plt.xlabel(\"tanimoto_score\")\n",
    "plt.ylabel(\"Percentage of matches (%)\")\n",
    "plt.ylim(0, 80)\n",
    "plt.show()"
   ]
  },
  {
   "cell_type": "code",
   "execution_count": 65,
   "metadata": {},
   "outputs": [
    {
     "data": {
      "text/plain": [
       "<matplotlib.collections.PathCollection at 0x278bf9d9580>"
      ]
     },
     "execution_count": 65,
     "metadata": {},
     "output_type": "execute_result"
    },
    {
     "data": {
      "image/png": "[encoded data removed]",
      "text/plain": [
       "<Figure size 432x288 with 1 Axes>"
      ]
     },
     "metadata": {
      "needs_background": "light"
     },
     "output_type": "display_data"
    }
   ],
   "source": [
    "ms2query_list = []\n",
    "tanimoto_list = []\n",
    "for ms2query, tanimoto in ms2query_and_tanimoto:\n",
    "    ms2query_list.append(ms2query)\n",
    "    tanimoto_list.append(tanimoto)\n",
    "plt.scatter(ms2query_list, tanimoto_list, s = 1)"
   ]
  },
  {
   "cell_type": "code",
   "execution_count": 64,
   "metadata": {},
   "outputs": [
    {
     "data": {
      "text/plain": [
       "<matplotlib.collections.PathCollection at 0x278c17c56a0>"
      ]
     },
     "execution_count": 64,
     "metadata": {},
     "output_type": "execute_result"
    },
    {
     "data": {
      "image/png": "[encoded data removed]",
      "text/plain": [
       "<Figure size 432x288 with 1 Axes>"
      ]
     },
     "metadata": {
      "needs_background": "light"
     },
     "output_type": "display_data"
    }
   ],
   "source": [
    "ms2query_list = []\n",
    "tanimoto_list = []\n",
    "for ms2query, tanimoto in ms2ds_and_tanimoto:\n",
    "    ms2query_list.append(ms2query)\n",
    "    tanimoto_list.append(tanimoto)\n",
    "plt.scatter(ms2query_list, tanimoto_list, s = 1)"
   ]
  },
  {
   "cell_type": "markdown",
   "metadata": {},
   "source": [
    "# Test speed performance"
   ]
  },
  {
   "cell_type": "code",
   "execution_count": 8,
   "metadata": {},
   "outputs": [
    {
     "name": "stdout",
     "output_type": "stream",
     "text": [
      "Calculating all MS2DS scores\n"
     ]
    },
    {
     "name": "stderr",
     "output_type": "stream",
     "text": [
      "collecting matches info:   1%|▊                                                                                                                                  | 6/1000 [00:01<03:52,  4.28it/s]"
     ]
    },
    {
     "name": "stdout",
     "output_type": "stream",
     "text": [
      "Found 1 word(s) missing in the model. Weighted missing percentage not covered by the given model is 1.01%.\n"
     ]
    },
    {
     "name": "stderr",
     "output_type": "stream",
     "text": [
      "collecting matches info:   1%|█▊                                                                                                                                | 14/1000 [00:02<02:21,  6.98it/s]"
     ]
    },
    {
     "name": "stdout",
     "output_type": "stream",
     "text": [
      "Found 2 word(s) missing in the model. Weighted missing percentage not covered by the given model is 3.57%.\n"
     ]
    },
    {
     "name": "stderr",
     "output_type": "stream",
     "text": [
      "collecting matches info:   7%|████████▉                                                                                                                         | 69/1000 [00:10<02:04,  7.51it/s]"
     ]
    },
    {
     "name": "stdout",
     "output_type": "stream",
     "text": [
      "Found 1 word(s) missing in the model. Weighted missing percentage not covered by the given model is 0.33%.\n"
     ]
    },
    {
     "name": "stderr",
     "output_type": "stream",
     "text": [
      "collecting matches info:   7%|█████████▏                                                                                                                        | 71/1000 [00:10<02:20,  6.60it/s]"
     ]
    },
    {
     "name": "stdout",
     "output_type": "stream",
     "text": [
      "Found 1 word(s) missing in the model. Weighted missing percentage not covered by the given model is 1.32%.\n"
     ]
    },
    {
     "name": "stderr",
     "output_type": "stream",
     "text": [
      "collecting matches info:   8%|██████████                                                                                                                        | 77/1000 [00:12<03:45,  4.10it/s]"
     ]
    },
    {
     "name": "stdout",
     "output_type": "stream",
     "text": [
      "Found 1 word(s) missing in the model. Weighted missing percentage not covered by the given model is 0.59%.\n"
     ]
    },
    {
     "name": "stderr",
     "output_type": "stream",
     "text": [
      "\r",
      "collecting matches info:   8%|██████████▏                                                                                                                       | 78/1000 [00:12<03:55,  3.92it/s]"
     ]
    },
    {
     "name": "stdout",
     "output_type": "stream",
     "text": [
      "Found 1 word(s) missing in the model. Weighted missing percentage not covered by the given model is 0.44%.\n"
     ]
    },
    {
     "name": "stderr",
     "output_type": "stream",
     "text": [
      "collecting matches info:   9%|████████████▏                                                                                                                     | 94/1000 [00:15<02:34,  5.87it/s]"
     ]
    },
    {
     "name": "stdout",
     "output_type": "stream",
     "text": [
      "Found 1 word(s) missing in the model. Weighted missing percentage not covered by the given model is 0.87%.\n"
     ]
    },
    {
     "name": "stderr",
     "output_type": "stream",
     "text": [
      "collecting matches info:  10%|█████████████▎                                                                                                                   | 103/1000 [00:16<01:37,  9.16it/s]"
     ]
    },
    {
     "name": "stdout",
     "output_type": "stream",
     "text": [
      "Found 1 word(s) missing in the model. Weighted missing percentage not covered by the given model is 0.53%.\n",
      "Found 1 word(s) missing in the model. Weighted missing percentage not covered by the given model is 1.10%.\n",
      "Found 1 word(s) missing in the model. Weighted missing percentage not covered by the given model is 1.11%.\n"
     ]
    },
    {
     "name": "stderr",
     "output_type": "stream",
     "text": [
      "collecting matches info:  14%|█████████████████▍                                                                                                               | 135/1000 [00:21<02:41,  5.35it/s]"
     ]
    },
    {
     "name": "stdout",
     "output_type": "stream",
     "text": [
      "Found 5 word(s) missing in the model. Weighted missing percentage not covered by the given model is 8.47%.\n"
     ]
    },
    {
     "name": "stderr",
     "output_type": "stream",
     "text": [
      "collecting matches info:  15%|██████████████████▉                                                                                                              | 147/1000 [00:23<02:03,  6.93it/s]"
     ]
    },
    {
     "name": "stdout",
     "output_type": "stream",
     "text": [
      "Found 1 word(s) missing in the model. Weighted missing percentage not covered by the given model is 0.43%.\n",
      "Found 1 word(s) missing in the model. Weighted missing percentage not covered by the given model is 0.45%.\n"
     ]
    },
    {
     "name": "stderr",
     "output_type": "stream",
     "text": [
      "collecting matches info:  17%|█████████████████████▌                                                                                                           | 167/1000 [00:27<02:37,  5.29it/s]"
     ]
    },
    {
     "name": "stdout",
     "output_type": "stream",
     "text": [
      "Found 1 word(s) missing in the model. Weighted missing percentage not covered by the given model is 0.58%.\n",
      "Found 1 word(s) missing in the model. Weighted missing percentage not covered by the given model is 0.28%.\n"
     ]
    },
    {
     "name": "stderr",
     "output_type": "stream",
     "text": [
      "collecting matches info:  17%|██████████████████████                                                                                                           | 171/1000 [00:28<02:15,  6.12it/s]"
     ]
    },
    {
     "name": "stdout",
     "output_type": "stream",
     "text": [
      "Found 3 word(s) missing in the model. Weighted missing percentage not covered by the given model is 1.47%.\n"
     ]
    },
    {
     "name": "stderr",
     "output_type": "stream",
     "text": [
      "collecting matches info:  21%|██████████████████████████▉                                                                                                      | 209/1000 [00:35<01:48,  7.32it/s]"
     ]
    },
    {
     "name": "stdout",
     "output_type": "stream",
     "text": [
      "Found 1 word(s) missing in the model. Weighted missing percentage not covered by the given model is 1.39%.\n"
     ]
    },
    {
     "name": "stderr",
     "output_type": "stream",
     "text": [
      "collecting matches info:  21%|███████████████████████████▌                                                                                                     | 214/1000 [00:36<01:54,  6.85it/s]"
     ]
    },
    {
     "name": "stdout",
     "output_type": "stream",
     "text": [
      "Found 1 word(s) missing in the model. Weighted missing percentage not covered by the given model is 0.24%.\n"
     ]
    },
    {
     "name": "stderr",
     "output_type": "stream",
     "text": [
      "collecting matches info:  22%|███████████████████████████▉                                                                                                     | 217/1000 [00:36<01:52,  6.94it/s]"
     ]
    },
    {
     "name": "stdout",
     "output_type": "stream",
     "text": [
      "Found 1 word(s) missing in the model. Weighted missing percentage not covered by the given model is 0.59%.\n"
     ]
    },
    {
     "name": "stderr",
     "output_type": "stream",
     "text": [
      "collecting matches info:  23%|█████████████████████████████▌                                                                                                   | 229/1000 [00:39<03:13,  3.99it/s]"
     ]
    },
    {
     "name": "stdout",
     "output_type": "stream",
     "text": [
      "Found 1 word(s) missing in the model. Weighted missing percentage not covered by the given model is 1.92%.\n"
     ]
    },
    {
     "name": "stderr",
     "output_type": "stream",
     "text": [
      "collecting matches info:  28%|████████████████████████████████████▋                                                                                            | 284/1000 [00:53<02:39,  4.50it/s]"
     ]
    },
    {
     "name": "stdout",
     "output_type": "stream",
     "text": [
      "Found 3 word(s) missing in the model. Weighted missing percentage not covered by the given model is 2.48%.\n"
     ]
    },
    {
     "name": "stderr",
     "output_type": "stream",
     "text": [
      "\r",
      "collecting matches info:  28%|████████████████████████████████████▊                                                                                            | 285/1000 [00:53<02:56,  4.06it/s]"
     ]
    },
    {
     "name": "stdout",
     "output_type": "stream",
     "text": [
      "Found 12 word(s) missing in the model. Weighted missing percentage not covered by the given model is 7.36%.\n"
     ]
    },
    {
     "name": "stderr",
     "output_type": "stream",
     "text": [
      "collecting matches info:  29%|█████████████████████████████████████                                                                                            | 287/1000 [00:54<02:54,  4.10it/s]"
     ]
    },
    {
     "name": "stdout",
     "output_type": "stream",
     "text": [
      "Found 1 word(s) missing in the model. Weighted missing percentage not covered by the given model is 6.67%.\n",
      "Found 6 word(s) missing in the model. Weighted missing percentage not covered by the given model is 4.80%.\n"
     ]
    },
    {
     "name": "stderr",
     "output_type": "stream",
     "text": [
      "collecting matches info:  29%|█████████████████████████████████████▎                                                                                           | 289/1000 [00:54<02:35,  4.58it/s]"
     ]
    },
    {
     "name": "stdout",
     "output_type": "stream",
     "text": [
      "Found 8 word(s) missing in the model. Weighted missing percentage not covered by the given model is 5.16%.\n"
     ]
    },
    {
     "name": "stderr",
     "output_type": "stream",
     "text": [
      "collecting matches info:  30%|██████████████████████████████████████                                                                                           | 295/1000 [00:55<02:29,  4.72it/s]"
     ]
    },
    {
     "name": "stdout",
     "output_type": "stream",
     "text": [
      "Found 2 word(s) missing in the model. Weighted missing percentage not covered by the given model is 6.06%.\n"
     ]
    },
    {
     "name": "stderr",
     "output_type": "stream",
     "text": [
      "collecting matches info:  30%|██████████████████████████████████████▎                                                                                          | 297/1000 [00:56<02:38,  4.43it/s]"
     ]
    },
    {
     "name": "stdout",
     "output_type": "stream",
     "text": [
      "Found 1 word(s) missing in the model. Weighted missing percentage not covered by the given model is 4.35%.\n"
     ]
    },
    {
     "name": "stderr",
     "output_type": "stream",
     "text": [
      "collecting matches info:  30%|███████████████████████████████████████▎                                                                                         | 305/1000 [00:58<02:31,  4.58it/s]"
     ]
    },
    {
     "name": "stdout",
     "output_type": "stream",
     "text": [
      "Found 1 word(s) missing in the model. Weighted missing percentage not covered by the given model is 4.55%.\n"
     ]
    },
    {
     "name": "stderr",
     "output_type": "stream",
     "text": [
      "collecting matches info:  32%|████████████████████████████████████████▉                                                                                        | 317/1000 [01:01<02:27,  4.62it/s]"
     ]
    },
    {
     "name": "stdout",
     "output_type": "stream",
     "text": [
      "Found 1 word(s) missing in the model. Weighted missing percentage not covered by the given model is 0.61%.\n"
     ]
    },
    {
     "name": "stderr",
     "output_type": "stream",
     "text": [
      "\r",
      "collecting matches info:  32%|█████████████████████████████████████████                                                                                        | 318/1000 [01:01<02:32,  4.47it/s]"
     ]
    },
    {
     "name": "stdout",
     "output_type": "stream",
     "text": [
      "Found 1 word(s) missing in the model. Weighted missing percentage not covered by the given model is 0.61%.\n"
     ]
    },
    {
     "name": "stderr",
     "output_type": "stream",
     "text": [
      "collecting matches info:  32%|█████████████████████████████████████████▎                                                                                       | 320/1000 [01:01<02:16,  4.97it/s]"
     ]
    },
    {
     "name": "stdout",
     "output_type": "stream",
     "text": [
      "Found 1 word(s) missing in the model. Weighted missing percentage not covered by the given model is 0.48%.\n"
     ]
    },
    {
     "name": "stderr",
     "output_type": "stream",
     "text": [
      "collecting matches info:  35%|█████████████████████████████████████████████                                                                                    | 349/1000 [01:08<02:09,  5.01it/s]"
     ]
    },
    {
     "name": "stdout",
     "output_type": "stream",
     "text": [
      "Found 6 word(s) missing in the model. Weighted missing percentage not covered by the given model is 2.63%.\n"
     ]
    },
    {
     "name": "stderr",
     "output_type": "stream",
     "text": [
      "collecting matches info:  35%|█████████████████████████████████████████████▎                                                                                   | 351/1000 [01:08<02:11,  4.92it/s]"
     ]
    },
    {
     "name": "stdout",
     "output_type": "stream",
     "text": [
      "Found 13 word(s) missing in the model. Weighted missing percentage not covered by the given model is 6.22%.\n"
     ]
    },
    {
     "name": "stderr",
     "output_type": "stream",
     "text": [
      "\r",
      "collecting matches info:  35%|█████████████████████████████████████████████▍                                                                                   | 352/1000 [01:08<02:14,  4.83it/s]"
     ]
    },
    {
     "name": "stdout",
     "output_type": "stream",
     "text": [
      "Found 7 word(s) missing in the model. Weighted missing percentage not covered by the given model is 3.11%.\n"
     ]
    },
    {
     "name": "stderr",
     "output_type": "stream",
     "text": [
      "\r",
      "collecting matches info:  35%|█████████████████████████████████████████████▌                                                                                   | 353/1000 [01:09<02:27,  4.38it/s]"
     ]
    },
    {
     "name": "stdout",
     "output_type": "stream",
     "text": [
      "Found 15 word(s) missing in the model. Weighted missing percentage not covered by the given model is 7.04%.\n"
     ]
    },
    {
     "name": "stderr",
     "output_type": "stream",
     "text": [
      "collecting matches info:  36%|██████████████████████████████████████████████                                                                                   | 357/1000 [01:09<02:25,  4.41it/s]"
     ]
    },
    {
     "name": "stdout",
     "output_type": "stream",
     "text": [
      "Found 11 word(s) missing in the model. Weighted missing percentage not covered by the given model is 4.93%.\n"
     ]
    },
    {
     "name": "stderr",
     "output_type": "stream",
     "text": [
      "collecting matches info:  36%|██████████████████████████████████████████████▎                                                                                  | 359/1000 [01:10<02:29,  4.28it/s]"
     ]
    },
    {
     "name": "stdout",
     "output_type": "stream",
     "text": [
      "Found 17 word(s) missing in the model. Weighted missing percentage not covered by the given model is 8.06%.\n"
     ]
    },
    {
     "name": "stderr",
     "output_type": "stream",
     "text": [
      "collecting matches info:  36%|██████████████████████████████████████████████▋                                                                                  | 362/1000 [01:11<02:33,  4.15it/s]"
     ]
    },
    {
     "name": "stdout",
     "output_type": "stream",
     "text": [
      "Found 6 word(s) missing in the model. Weighted missing percentage not covered by the given model is 2.80%.\n"
     ]
    },
    {
     "name": "stderr",
     "output_type": "stream",
     "text": [
      "collecting matches info:  36%|██████████████████████████████████████████████▉                                                                                  | 364/1000 [01:11<02:22,  4.48it/s]"
     ]
    },
    {
     "name": "stdout",
     "output_type": "stream",
     "text": [
      "Found 15 word(s) missing in the model. Weighted missing percentage not covered by the given model is 7.28%.\n"
     ]
    },
    {
     "name": "stderr",
     "output_type": "stream",
     "text": [
      "collecting matches info:  37%|███████████████████████████████████████████████▏                                                                                 | 366/1000 [01:11<02:06,  5.03it/s]"
     ]
    },
    {
     "name": "stdout",
     "output_type": "stream",
     "text": [
      "Found 7 word(s) missing in the model. Weighted missing percentage not covered by the given model is 4.22%.\n",
      "Found 10 word(s) missing in the model. Weighted missing percentage not covered by the given model is 5.08%.\n"
     ]
    },
    {
     "name": "stderr",
     "output_type": "stream",
     "text": [
      "collecting matches info:  37%|███████████████████████████████████████████████▍                                                                                 | 368/1000 [01:12<02:04,  5.06it/s]"
     ]
    },
    {
     "name": "stdout",
     "output_type": "stream",
     "text": [
      "Found 1 word(s) missing in the model. Weighted missing percentage not covered by the given model is 5.88%.\n"
     ]
    },
    {
     "name": "stderr",
     "output_type": "stream",
     "text": [
      "collecting matches info:  37%|███████████████████████████████████████████████▋                                                                                 | 370/1000 [01:12<02:15,  4.65it/s]"
     ]
    },
    {
     "name": "stdout",
     "output_type": "stream",
     "text": [
      "Found 1 word(s) missing in the model. Weighted missing percentage not covered by the given model is 5.00%.\n",
      "Found 8 word(s) missing in the model. Weighted missing percentage not covered by the given model is 4.68%.\n"
     ]
    },
    {
     "name": "stderr",
     "output_type": "stream",
     "text": [
      "collecting matches info:  37%|███████████████████████████████████████████████▉                                                                                 | 372/1000 [01:13<02:11,  4.79it/s]"
     ]
    },
    {
     "name": "stdout",
     "output_type": "stream",
     "text": [
      "Found 6 word(s) missing in the model. Weighted missing percentage not covered by the given model is 3.24%.\n",
      "Found 1 word(s) missing in the model. Weighted missing percentage not covered by the given model is 6.25%.\n"
     ]
    },
    {
     "name": "stderr",
     "output_type": "stream",
     "text": [
      "collecting matches info:  37%|████████████████████████████████████████████████▏                                                                                | 374/1000 [01:13<02:19,  4.49it/s]"
     ]
    },
    {
     "name": "stdout",
     "output_type": "stream",
     "text": [
      "Found 1 word(s) missing in the model. Weighted missing percentage not covered by the given model is 5.26%.\n"
     ]
    },
    {
     "name": "stderr",
     "output_type": "stream",
     "text": [
      "collecting matches info:  39%|█████████████████████████████████████████████████▉                                                                               | 387/1000 [01:16<01:48,  5.67it/s]"
     ]
    },
    {
     "name": "stdout",
     "output_type": "stream",
     "text": [
      "Found 1 word(s) missing in the model. Weighted missing percentage not covered by the given model is 2.08%.\n"
     ]
    },
    {
     "name": "stderr",
     "output_type": "stream",
     "text": [
      "collecting matches info:  39%|██████████████████████████████████████████████████▎                                                                              | 390/1000 [01:16<01:52,  5.44it/s]"
     ]
    },
    {
     "name": "stdout",
     "output_type": "stream",
     "text": [
      "Found 2 word(s) missing in the model. Weighted missing percentage not covered by the given model is 0.65%.\n"
     ]
    },
    {
     "name": "stderr",
     "output_type": "stream",
     "text": [
      "collecting matches info:  41%|████████████████████████████████████████████████████▎                                                                            | 406/1000 [01:17<00:50, 11.67it/s]"
     ]
    },
    {
     "name": "stdout",
     "output_type": "stream",
     "text": [
      "Found 1 word(s) missing in the model. Weighted missing percentage not covered by the given model is 0.89%.\n"
     ]
    },
    {
     "name": "stderr",
     "output_type": "stream",
     "text": [
      "collecting matches info:  42%|█████████████████████████████████████████████████████▋                                                                           | 416/1000 [01:18<00:38, 15.11it/s]"
     ]
    },
    {
     "name": "stdout",
     "output_type": "stream",
     "text": [
      "Found 2 word(s) missing in the model. Weighted missing percentage not covered by the given model is 1.18%.\n",
      "Found 1 word(s) missing in the model. Weighted missing percentage not covered by the given model is 0.63%.\n"
     ]
    },
    {
     "name": "stderr",
     "output_type": "stream",
     "text": [
      "collecting matches info:  42%|██████████████████████████████████████████████████████▊                                                                          | 425/1000 [01:19<00:40, 14.22it/s]"
     ]
    },
    {
     "name": "stdout",
     "output_type": "stream",
     "text": [
      "Found 2 word(s) missing in the model. Weighted missing percentage not covered by the given model is 0.47%.\n",
      "Found 6 word(s) missing in the model. Weighted missing percentage not covered by the given model is 1.57%.\n",
      "Found 5 word(s) missing in the model. Weighted missing percentage not covered by the given model is 1.30%.\n"
     ]
    },
    {
     "name": "stderr",
     "output_type": "stream",
     "text": [
      "collecting matches info:  43%|███████████████████████████████████████████████████████▍                                                                         | 430/1000 [01:19<00:35, 16.12it/s]"
     ]
    },
    {
     "name": "stdout",
     "output_type": "stream",
     "text": [
      "Found 1 word(s) missing in the model. Weighted missing percentage not covered by the given model is 0.52%.\n"
     ]
    },
    {
     "name": "stderr",
     "output_type": "stream",
     "text": [
      "collecting matches info:  47%|████████████████████████████████████████████████████████████▏                                                                    | 467/1000 [01:25<01:16,  6.92it/s]"
     ]
    },
    {
     "name": "stdout",
     "output_type": "stream",
     "text": [
      "Found 1 word(s) missing in the model. Weighted missing percentage not covered by the given model is 0.19%.\n",
      "Found 1 word(s) missing in the model. Weighted missing percentage not covered by the given model is 0.51%.\n"
     ]
    },
    {
     "name": "stderr",
     "output_type": "stream",
     "text": [
      "collecting matches info:  47%|█████████████████████████████████████████████████████████████▏                                                                   | 474/1000 [01:26<01:16,  6.91it/s]"
     ]
    },
    {
     "name": "stdout",
     "output_type": "stream",
     "text": [
      "Found 3 word(s) missing in the model. Weighted missing percentage not covered by the given model is 1.03%.\n",
      "Found 1 word(s) missing in the model. Weighted missing percentage not covered by the given model is 0.36%.\n"
     ]
    },
    {
     "name": "stderr",
     "output_type": "stream",
     "text": [
      "collecting matches info:  48%|██████████████████████████████████████████████████████████████▏                                                                  | 482/1000 [01:27<01:19,  6.51it/s]"
     ]
    },
    {
     "name": "stdout",
     "output_type": "stream",
     "text": [
      "Found 1 word(s) missing in the model. Weighted missing percentage not covered by the given model is 2.63%.\n"
     ]
    },
    {
     "name": "stderr",
     "output_type": "stream",
     "text": [
      "\r",
      "collecting matches info:  48%|██████████████████████████████████████████████████████████████▍                                                                  | 484/1000 [01:27<01:27,  5.90it/s]"
     ]
    },
    {
     "name": "stdout",
     "output_type": "stream",
     "text": [
      "Found 1 word(s) missing in the model. Weighted missing percentage not covered by the given model is 4.17%.\n"
     ]
    },
    {
     "name": "stderr",
     "output_type": "stream",
     "text": [
      "collecting matches info:  49%|██████████████████████████████████████████████████████████████▋                                                                  | 486/1000 [01:28<01:31,  5.62it/s]"
     ]
    },
    {
     "name": "stdout",
     "output_type": "stream",
     "text": [
      "Found 11 word(s) missing in the model. Weighted missing percentage not covered by the given model is 11.58%.\n",
      "Found 9 word(s) missing in the model. Weighted missing percentage not covered by the given model is 4.79%.\n"
     ]
    },
    {
     "name": "stderr",
     "output_type": "stream",
     "text": [
      "collecting matches info:  49%|███████████████████████████████████████████████████████████████                                                                  | 489/1000 [01:28<01:15,  6.73it/s]"
     ]
    },
    {
     "name": "stdout",
     "output_type": "stream",
     "text": [
      "Found 2 word(s) missing in the model. Weighted missing percentage not covered by the given model is 0.34%.\n",
      "Found 9 word(s) missing in the model. Weighted missing percentage not covered by the given model is 10.23%.\n"
     ]
    },
    {
     "name": "stderr",
     "output_type": "stream",
     "text": [
      "collecting matches info:  49%|███████████████████████████████████████████████████████████████▎                                                                 | 491/1000 [01:28<01:09,  7.35it/s]"
     ]
    },
    {
     "name": "stdout",
     "output_type": "stream",
     "text": [
      "Found 10 word(s) missing in the model. Weighted missing percentage not covered by the given model is 5.13%.\n",
      "Found 3 word(s) missing in the model. Weighted missing percentage not covered by the given model is 0.52%.\n"
     ]
    },
    {
     "name": "stderr",
     "output_type": "stream",
     "text": [
      "\r",
      "collecting matches info:  49%|███████████████████████████████████████████████████████████████▍                                                                 | 492/1000 [01:28<01:13,  6.94it/s]"
     ]
    },
    {
     "name": "stdout",
     "output_type": "stream",
     "text": [
      "Found 7 word(s) missing in the model. Weighted missing percentage not covered by the given model is 7.07%.\n",
      "Found 10 word(s) missing in the model. Weighted missing percentage not covered by the given model is 5.13%.\n"
     ]
    },
    {
     "name": "stderr",
     "output_type": "stream",
     "text": [
      "\r",
      "collecting matches info:  49%|███████████████████████████████████████████████████████████████▋                                                                 | 494/1000 [01:29<01:07,  7.47it/s]"
     ]
    },
    {
     "name": "stdout",
     "output_type": "stream",
     "text": [
      "Found 4 word(s) missing in the model. Weighted missing percentage not covered by the given model is 0.68%.\n"
     ]
    },
    {
     "name": "stderr",
     "output_type": "stream",
     "text": [
      "collecting matches info:  50%|████████████████████████████████████████████████████████████████▎                                                                | 499/1000 [01:30<01:15,  6.67it/s]"
     ]
    },
    {
     "name": "stdout",
     "output_type": "stream",
     "text": [
      "Found 1 word(s) missing in the model. Weighted missing percentage not covered by the given model is 0.39%.\n"
     ]
    },
    {
     "name": "stderr",
     "output_type": "stream",
     "text": [
      "collecting matches info:  51%|█████████████████████████████████████████████████████████████████▎                                                               | 506/1000 [01:31<00:54,  9.11it/s]"
     ]
    },
    {
     "name": "stdout",
     "output_type": "stream",
     "text": [
      "Found 1 word(s) missing in the model. Weighted missing percentage not covered by the given model is 0.72%.\n"
     ]
    },
    {
     "name": "stderr",
     "output_type": "stream",
     "text": [
      "collecting matches info:  51%|██████████████████████████████████████████████████████████████████                                                               | 512/1000 [01:31<00:50,  9.60it/s]"
     ]
    },
    {
     "name": "stdout",
     "output_type": "stream",
     "text": [
      "Found 2 word(s) missing in the model. Weighted missing percentage not covered by the given model is 0.78%.\n",
      "Found 2 word(s) missing in the model. Weighted missing percentage not covered by the given model is 0.75%.\n"
     ]
    },
    {
     "name": "stderr",
     "output_type": "stream",
     "text": [
      "collecting matches info:  52%|██████████████████████████████████████████████████████████████████▌                                                              | 516/1000 [01:32<00:52,  9.23it/s]"
     ]
    },
    {
     "name": "stdout",
     "output_type": "stream",
     "text": [
      "Found 2 word(s) missing in the model. Weighted missing percentage not covered by the given model is 0.93%.\n"
     ]
    },
    {
     "name": "stderr",
     "output_type": "stream",
     "text": [
      "collecting matches info:  57%|█████████████████████████████████████████████████████████████████████████▏                                                       | 567/1000 [01:41<01:02,  6.98it/s]"
     ]
    },
    {
     "name": "stdout",
     "output_type": "stream",
     "text": [
      "Found 1 word(s) missing in the model. Weighted missing percentage not covered by the given model is 0.79%.\n",
      "Found 2 word(s) missing in the model. Weighted missing percentage not covered by the given model is 1.69%.\n",
      "Found 1 word(s) missing in the model. Weighted missing percentage not covered by the given model is 0.66%.\n"
     ]
    },
    {
     "name": "stderr",
     "output_type": "stream",
     "text": [
      "collecting matches info:  57%|█████████████████████████████████████████████████████████████████████████▊                                                       | 572/1000 [01:41<00:36, 11.87it/s]"
     ]
    },
    {
     "name": "stdout",
     "output_type": "stream",
     "text": [
      "Found 1 word(s) missing in the model. Weighted missing percentage not covered by the given model is 0.56%.\n"
     ]
    },
    {
     "name": "stderr",
     "output_type": "stream",
     "text": [
      "collecting matches info:  58%|██████████████████████████████████████████████████████████████████████████▋                                                      | 579/1000 [01:42<00:26, 15.69it/s]"
     ]
    },
    {
     "name": "stdout",
     "output_type": "stream",
     "text": [
      "Found 1 word(s) missing in the model. Weighted missing percentage not covered by the given model is 0.90%.\n"
     ]
    },
    {
     "name": "stderr",
     "output_type": "stream",
     "text": [
      "collecting matches info:  59%|███████████████████████████████████████████████████████████████████████████▋                                                     | 587/1000 [01:42<00:21, 19.21it/s]"
     ]
    },
    {
     "name": "stdout",
     "output_type": "stream",
     "text": [
      "Found 2 word(s) missing in the model. Weighted missing percentage not covered by the given model is 0.77%.\n"
     ]
    },
    {
     "name": "stderr",
     "output_type": "stream",
     "text": [
      "collecting matches info:  60%|█████████████████████████████████████████████████████████████████████████████▋                                                   | 602/1000 [01:43<00:18, 21.21it/s]"
     ]
    },
    {
     "name": "stdout",
     "output_type": "stream",
     "text": [
      "Found 1 word(s) missing in the model. Weighted missing percentage not covered by the given model is 0.69%.\n",
      "Found 1 word(s) missing in the model. Weighted missing percentage not covered by the given model is 0.88%.\n"
     ]
    },
    {
     "name": "stderr",
     "output_type": "stream",
     "text": [
      "collecting matches info:  61%|██████████████████████████████████████████████████████████████████████████████▊                                                  | 611/1000 [01:43<00:18, 20.94it/s]"
     ]
    },
    {
     "name": "stdout",
     "output_type": "stream",
     "text": [
      "Found 1 word(s) missing in the model. Weighted missing percentage not covered by the given model is 1.06%.\n"
     ]
    },
    {
     "name": "stderr",
     "output_type": "stream",
     "text": [
      "collecting matches info:  62%|███████████████████████████████████████████████████████████████████████████████▉                                                 | 620/1000 [01:44<00:18, 20.91it/s]"
     ]
    },
    {
     "name": "stdout",
     "output_type": "stream",
     "text": [
      "Found 1 word(s) missing in the model. Weighted missing percentage not covered by the given model is 1.85%.\n",
      "Found 2 word(s) missing in the model. Weighted missing percentage not covered by the given model is 1.82%.\n"
     ]
    },
    {
     "name": "stderr",
     "output_type": "stream",
     "text": [
      "collecting matches info:  63%|████████████████████████████████████████████████████████████████████████████████▊                                                | 626/1000 [01:44<00:17, 21.67it/s]"
     ]
    },
    {
     "name": "stdout",
     "output_type": "stream",
     "text": [
      "Found 1 word(s) missing in the model. Weighted missing percentage not covered by the given model is 0.80%.\n"
     ]
    },
    {
     "name": "stderr",
     "output_type": "stream",
     "text": [
      "collecting matches info:  63%|█████████████████████████████████████████████████████████████████████████████████▌                                               | 632/1000 [01:44<00:17, 20.80it/s]"
     ]
    },
    {
     "name": "stdout",
     "output_type": "stream",
     "text": [
      "Found 1 word(s) missing in the model. Weighted missing percentage not covered by the given model is 0.97%.\n",
      "Found 1 word(s) missing in the model. Weighted missing percentage not covered by the given model is 0.80%.\n"
     ]
    },
    {
     "name": "stderr",
     "output_type": "stream",
     "text": [
      "collecting matches info:  65%|███████████████████████████████████████████████████████████████████████████████████▍                                             | 647/1000 [01:45<00:16, 21.93it/s]"
     ]
    },
    {
     "name": "stdout",
     "output_type": "stream",
     "text": [
      "Found 1 word(s) missing in the model. Weighted missing percentage not covered by the given model is 0.78%.\n",
      "Found 1 word(s) missing in the model. Weighted missing percentage not covered by the given model is 0.64%.\n"
     ]
    },
    {
     "name": "stderr",
     "output_type": "stream",
     "text": [
      "collecting matches info:  66%|█████████████████████████████████████████████████████████████████████████████████████                                            | 659/1000 [01:46<00:16, 21.08it/s]"
     ]
    },
    {
     "name": "stdout",
     "output_type": "stream",
     "text": [
      "Found 1 word(s) missing in the model. Weighted missing percentage not covered by the given model is 0.97%.\n",
      "Found 1 word(s) missing in the model. Weighted missing percentage not covered by the given model is 0.94%.\n"
     ]
    },
    {
     "name": "stderr",
     "output_type": "stream",
     "text": [
      "collecting matches info:  66%|█████████████████████████████████████████████████████████████████████████████████████▋                                           | 664/1000 [01:46<00:29, 11.32it/s]"
     ]
    },
    {
     "name": "stdout",
     "output_type": "stream",
     "text": [
      "Found 1 word(s) missing in the model. Weighted missing percentage not covered by the given model is 0.79%.\n"
     ]
    },
    {
     "name": "stderr",
     "output_type": "stream",
     "text": [
      "collecting matches info:  67%|██████████████████████████████████████████████████████████████████████████████████████▎                                          | 669/1000 [01:47<00:45,  7.22it/s]"
     ]
    },
    {
     "name": "stdout",
     "output_type": "stream",
     "text": [
      "Found 1 word(s) missing in the model. Weighted missing percentage not covered by the given model is 4.35%.\n"
     ]
    },
    {
     "name": "stderr",
     "output_type": "stream",
     "text": [
      "collecting matches info:  67%|██████████████████████████████████████████████████████████████████████████████████████▉                                          | 674/1000 [01:48<00:56,  5.73it/s]"
     ]
    },
    {
     "name": "stdout",
     "output_type": "stream",
     "text": [
      "Found 1 word(s) missing in the model. Weighted missing percentage not covered by the given model is 5.88%.\n"
     ]
    },
    {
     "name": "stderr",
     "output_type": "stream",
     "text": [
      "collecting matches info:  68%|███████████████████████████████████████████████████████████████████████████████████████▍                                         | 678/1000 [01:49<00:57,  5.63it/s]"
     ]
    },
    {
     "name": "stdout",
     "output_type": "stream",
     "text": [
      "Found 1 word(s) missing in the model. Weighted missing percentage not covered by the given model is 0.64%.\n"
     ]
    },
    {
     "name": "stderr",
     "output_type": "stream",
     "text": [
      "collecting matches info:  68%|███████████████████████████████████████████████████████████████████████████████████████▉                                         | 682/1000 [01:50<00:57,  5.57it/s]"
     ]
    },
    {
     "name": "stdout",
     "output_type": "stream",
     "text": [
      "Found 1 word(s) missing in the model. Weighted missing percentage not covered by the given model is 5.00%.\n"
     ]
    },
    {
     "name": "stderr",
     "output_type": "stream",
     "text": [
      "collecting matches info:  68%|████████████████████████████████████████████████████████████████████████████████████████▏                                        | 684/1000 [01:50<01:05,  4.80it/s]"
     ]
    },
    {
     "name": "stdout",
     "output_type": "stream",
     "text": [
      "Found 1 word(s) missing in the model. Weighted missing percentage not covered by the given model is 5.88%.\n"
     ]
    },
    {
     "name": "stderr",
     "output_type": "stream",
     "text": [
      "collecting matches info:  69%|████████████████████████████████████████████████████████████████████████████████████████▊                                        | 688/1000 [01:51<01:02,  4.97it/s]"
     ]
    },
    {
     "name": "stdout",
     "output_type": "stream",
     "text": [
      "Found 1 word(s) missing in the model. Weighted missing percentage not covered by the given model is 1.08%.\n"
     ]
    },
    {
     "name": "stderr",
     "output_type": "stream",
     "text": [
      "collecting matches info:  69%|█████████████████████████████████████████████████████████████████████████████████████████▎                                       | 692/1000 [01:52<01:07,  4.54it/s]"
     ]
    },
    {
     "name": "stdout",
     "output_type": "stream",
     "text": [
      "Found 1 word(s) missing in the model. Weighted missing percentage not covered by the given model is 0.83%.\n"
     ]
    },
    {
     "name": "stderr",
     "output_type": "stream",
     "text": [
      "collecting matches info:  70%|█████████████████████████████████████████████████████████████████████████████████████████▉                                       | 697/1000 [01:53<01:03,  4.75it/s]"
     ]
    },
    {
     "name": "stdout",
     "output_type": "stream",
     "text": [
      "Found 2 word(s) missing in the model. Weighted missing percentage not covered by the given model is 9.09%.\n"
     ]
    },
    {
     "name": "stderr",
     "output_type": "stream",
     "text": [
      "collecting matches info:  70%|██████████████████████████████████████████████████████████████████████████████████████████▋                                      | 703/1000 [01:54<00:58,  5.10it/s]"
     ]
    },
    {
     "name": "stdout",
     "output_type": "stream",
     "text": [
      "Found 1 word(s) missing in the model. Weighted missing percentage not covered by the given model is 1.67%.\n"
     ]
    },
    {
     "name": "stderr",
     "output_type": "stream",
     "text": [
      "collecting matches info:  71%|███████████████████████████████████████████████████████████████████████████████████████████▏                                     | 707/1000 [01:55<00:55,  5.27it/s]"
     ]
    },
    {
     "name": "stdout",
     "output_type": "stream",
     "text": [
      "Found 1 word(s) missing in the model. Weighted missing percentage not covered by the given model is 4.76%.\n"
     ]
    },
    {
     "name": "stderr",
     "output_type": "stream",
     "text": [
      "collecting matches info:  71%|███████████████████████████████████████████████████████████████████████████████████████████▌                                     | 710/1000 [01:56<01:00,  4.79it/s]"
     ]
    },
    {
     "name": "stdout",
     "output_type": "stream",
     "text": [
      "Found 1 word(s) missing in the model. Weighted missing percentage not covered by the given model is 0.82%.\n"
     ]
    },
    {
     "name": "stderr",
     "output_type": "stream",
     "text": [
      "collecting matches info:  72%|████████████████████████████████████████████████████████████████████████████████████████████▉                                    | 720/1000 [01:59<01:18,  3.59it/s]"
     ]
    },
    {
     "name": "stdout",
     "output_type": "stream",
     "text": [
      "Found 1 word(s) missing in the model. Weighted missing percentage not covered by the given model is 0.93%.\n"
     ]
    },
    {
     "name": "stderr",
     "output_type": "stream",
     "text": [
      "collecting matches info:  77%|██████████████████████████████████████████████████████████████████████████████████████████████████▉                              | 767/1000 [02:08<00:42,  5.48it/s]"
     ]
    },
    {
     "name": "stdout",
     "output_type": "stream",
     "text": [
      "Found 2 word(s) missing in the model. Weighted missing percentage not covered by the given model is 1.82%.\n"
     ]
    },
    {
     "name": "stderr",
     "output_type": "stream",
     "text": [
      "collecting matches info:  77%|███████████████████████████████████████████████████████████████████████████████████████████████████▏                             | 769/1000 [02:08<00:38,  5.97it/s]"
     ]
    },
    {
     "name": "stdout",
     "output_type": "stream",
     "text": [
      "Found 1 word(s) missing in the model. Weighted missing percentage not covered by the given model is 2.78%.\n"
     ]
    },
    {
     "name": "stderr",
     "output_type": "stream",
     "text": [
      "collecting matches info:  77%|███████████████████████████████████████████████████████████████████████████████████████████████████▋                             | 773/1000 [02:09<00:40,  5.63it/s]"
     ]
    },
    {
     "name": "stdout",
     "output_type": "stream",
     "text": [
      "Found 1 word(s) missing in the model. Weighted missing percentage not covered by the given model is 1.00%.\n"
     ]
    },
    {
     "name": "stderr",
     "output_type": "stream",
     "text": [
      "collecting matches info:  78%|████████████████████████████████████████████████████████████████████████████████████████████████████▏                            | 777/1000 [02:09<00:38,  5.86it/s]"
     ]
    },
    {
     "name": "stdout",
     "output_type": "stream",
     "text": [
      "Found 1 word(s) missing in the model. Weighted missing percentage not covered by the given model is 0.51%.\n"
     ]
    },
    {
     "name": "stderr",
     "output_type": "stream",
     "text": [
      "collecting matches info:  78%|████████████████████████████████████████████████████████████████████████████████████████████████████▌                            | 780/1000 [02:10<00:38,  5.65it/s]"
     ]
    },
    {
     "name": "stdout",
     "output_type": "stream",
     "text": [
      "Found 1 word(s) missing in the model. Weighted missing percentage not covered by the given model is 1.49%.\n"
     ]
    },
    {
     "name": "stderr",
     "output_type": "stream",
     "text": [
      "collecting matches info:  78%|█████████████████████████████████████████████████████████████████████████████████████████████████████                            | 783/1000 [02:11<00:39,  5.49it/s]"
     ]
    },
    {
     "name": "stdout",
     "output_type": "stream",
     "text": [
      "Found 1 word(s) missing in the model. Weighted missing percentage not covered by the given model is 1.15%.\n"
     ]
    },
    {
     "name": "stderr",
     "output_type": "stream",
     "text": [
      "\r",
      "collecting matches info:  78%|█████████████████████████████████████████████████████████████████████████████████████████████████████▏                           | 784/1000 [02:11<00:47,  4.59it/s]"
     ]
    },
    {
     "name": "stdout",
     "output_type": "stream",
     "text": [
      "Found 1 word(s) missing in the model. Weighted missing percentage not covered by the given model is 1.96%.\n"
     ]
    },
    {
     "name": "stderr",
     "output_type": "stream",
     "text": [
      "\r",
      "collecting matches info:  78%|█████████████████████████████████████████████████████████████████████████████████████████████████████▎                           | 785/1000 [02:11<00:49,  4.34it/s]"
     ]
    },
    {
     "name": "stdout",
     "output_type": "stream",
     "text": [
      "Found 1 word(s) missing in the model. Weighted missing percentage not covered by the given model is 4.55%.\n"
     ]
    },
    {
     "name": "stderr",
     "output_type": "stream",
     "text": [
      "collecting matches info:  79%|█████████████████████████████████████████████████████████████████████████████████████████████████████▌                           | 787/1000 [02:11<00:44,  4.79it/s]"
     ]
    },
    {
     "name": "stdout",
     "output_type": "stream",
     "text": [
      "Found 3 word(s) missing in the model. Weighted missing percentage not covered by the given model is 4.69%.\n"
     ]
    },
    {
     "name": "stderr",
     "output_type": "stream",
     "text": [
      "collecting matches info:  79%|██████████████████████████████████████████████████████████████████████████████████████████████████████▏                          | 792/1000 [02:12<00:33,  6.19it/s]"
     ]
    },
    {
     "name": "stdout",
     "output_type": "stream",
     "text": [
      "Found 1 word(s) missing in the model. Weighted missing percentage not covered by the given model is 1.82%.\n"
     ]
    },
    {
     "name": "stderr",
     "output_type": "stream",
     "text": [
      "collecting matches info:  80%|██████████████████████████████████████████████████████████████████████████████████████████████████████▊                          | 797/1000 [02:13<00:41,  4.88it/s]"
     ]
    },
    {
     "name": "stdout",
     "output_type": "stream",
     "text": [
      "Found 3 word(s) missing in the model. Weighted missing percentage not covered by the given model is 2.33%.\n"
     ]
    },
    {
     "name": "stderr",
     "output_type": "stream",
     "text": [
      "collecting matches info:  81%|████████████████████████████████████████████████████████████████████████████████████████████████████████▏                        | 808/1000 [02:15<00:32,  5.98it/s]"
     ]
    },
    {
     "name": "stdout",
     "output_type": "stream",
     "text": [
      "Found 1 word(s) missing in the model. Weighted missing percentage not covered by the given model is 4.55%.\n"
     ]
    },
    {
     "name": "stderr",
     "output_type": "stream",
     "text": [
      "collecting matches info:  82%|█████████████████████████████████████████████████████████████████████████████████████████████████████████▏                       | 815/1000 [02:17<00:34,  5.34it/s]"
     ]
    },
    {
     "name": "stdout",
     "output_type": "stream",
     "text": [
      "Found 1 word(s) missing in the model. Weighted missing percentage not covered by the given model is 7.14%.\n",
      "Found 1 word(s) missing in the model. Weighted missing percentage not covered by the given model is 1.45%.\n"
     ]
    },
    {
     "name": "stderr",
     "output_type": "stream",
     "text": [
      "collecting matches info:  82%|█████████████████████████████████████████████████████████████████████████████████████████████████████████▍                       | 817/1000 [02:17<00:31,  5.79it/s]"
     ]
    },
    {
     "name": "stdout",
     "output_type": "stream",
     "text": [
      "Found 3 word(s) missing in the model. Weighted missing percentage not covered by the given model is 2.52%.\n"
     ]
    },
    {
     "name": "stderr",
     "output_type": "stream",
     "text": [
      "collecting matches info:  82%|█████████████████████████████████████████████████████████████████████████████████████████████████████████▊                       | 820/1000 [02:18<00:35,  5.04it/s]"
     ]
    },
    {
     "name": "stdout",
     "output_type": "stream",
     "text": [
      "Found 1 word(s) missing in the model. Weighted missing percentage not covered by the given model is 3.23%.\n"
     ]
    },
    {
     "name": "stderr",
     "output_type": "stream",
     "text": [
      "\r",
      "collecting matches info:  82%|█████████████████████████████████████████████████████████████████████████████████████████████████████████▉                       | 821/1000 [02:18<00:33,  5.31it/s]"
     ]
    },
    {
     "name": "stdout",
     "output_type": "stream",
     "text": [
      "Found 2 word(s) missing in the model. Weighted missing percentage not covered by the given model is 1.89%.\n"
     ]
    },
    {
     "name": "stderr",
     "output_type": "stream",
     "text": [
      "collecting matches info:  83%|██████████████████████████████████████████████████████████████████████████████████████████████████████████▌                      | 826/1000 [02:19<00:31,  5.56it/s]"
     ]
    },
    {
     "name": "stdout",
     "output_type": "stream",
     "text": [
      "Found 1 word(s) missing in the model. Weighted missing percentage not covered by the given model is 7.69%.\n",
      "Found 2 word(s) missing in the model. Weighted missing percentage not covered by the given model is 1.90%.\n"
     ]
    },
    {
     "name": "stderr",
     "output_type": "stream",
     "text": [
      "collecting matches info:  83%|███████████████████████████████████████████████████████████████████████████████████████████████████████████                      | 830/1000 [02:19<00:30,  5.53it/s]"
     ]
    },
    {
     "name": "stdout",
     "output_type": "stream",
     "text": [
      "Found 2 word(s) missing in the model. Weighted missing percentage not covered by the given model is 1.64%.\n"
     ]
    },
    {
     "name": "stderr",
     "output_type": "stream",
     "text": [
      "collecting matches info:  83%|███████████████████████████████████████████████████████████████████████████████████████████████████████████▎                     | 832/1000 [02:20<00:31,  5.37it/s]"
     ]
    },
    {
     "name": "stdout",
     "output_type": "stream",
     "text": [
      "Found 1 word(s) missing in the model. Weighted missing percentage not covered by the given model is 3.03%.\n",
      "Found 4 word(s) missing in the model. Weighted missing percentage not covered by the given model is 2.38%.\n"
     ]
    },
    {
     "name": "stderr",
     "output_type": "stream",
     "text": [
      "collecting matches info:  84%|████████████████████████████████████████████████████████████████████████████████████████████████████████████                     | 838/1000 [02:21<00:25,  6.45it/s]"
     ]
    },
    {
     "name": "stdout",
     "output_type": "stream",
     "text": [
      "Found 1 word(s) missing in the model. Weighted missing percentage not covered by the given model is 0.70%.\n"
     ]
    },
    {
     "name": "stderr",
     "output_type": "stream",
     "text": [
      "collecting matches info:  84%|████████████████████████████████████████████████████████████████████████████████████████████████████████████▎                    | 840/1000 [02:21<00:28,  5.52it/s]"
     ]
    },
    {
     "name": "stdout",
     "output_type": "stream",
     "text": [
      "Found 4 word(s) missing in the model. Weighted missing percentage not covered by the given model is 2.34%.\n"
     ]
    },
    {
     "name": "stderr",
     "output_type": "stream",
     "text": [
      "collecting matches info:  84%|████████████████████████████████████████████████████████████████████████████████████████████████████████████▉                    | 844/1000 [02:22<00:29,  5.24it/s]"
     ]
    },
    {
     "name": "stdout",
     "output_type": "stream",
     "text": [
      "Found 1 word(s) missing in the model. Weighted missing percentage not covered by the given model is 2.70%.\n",
      "Found 5 word(s) missing in the model. Weighted missing percentage not covered by the given model is 3.03%.\n"
     ]
    },
    {
     "name": "stderr",
     "output_type": "stream",
     "text": [
      "collecting matches info:  85%|█████████████████████████████████████████████████████████████████████████████████████████████████████████████▎                   | 847/1000 [02:23<00:30,  4.99it/s]"
     ]
    },
    {
     "name": "stdout",
     "output_type": "stream",
     "text": [
      "Found 4 word(s) missing in the model. Weighted missing percentage not covered by the given model is 2.35%.\n"
     ]
    },
    {
     "name": "stderr",
     "output_type": "stream",
     "text": [
      "collecting matches info:  85%|█████████████████████████████████████████████████████████████████████████████████████████████████████████████▋                   | 850/1000 [02:23<00:32,  4.67it/s]"
     ]
    },
    {
     "name": "stdout",
     "output_type": "stream",
     "text": [
      "Found 1 word(s) missing in the model. Weighted missing percentage not covered by the given model is 0.99%.\n"
     ]
    },
    {
     "name": "stderr",
     "output_type": "stream",
     "text": [
      "collecting matches info:  85%|██████████████████████████████████████████████████████████████████████████████████████████████████████████████▏                  | 854/1000 [02:24<00:26,  5.60it/s]"
     ]
    },
    {
     "name": "stdout",
     "output_type": "stream",
     "text": [
      "Found 4 word(s) missing in the model. Weighted missing percentage not covered by the given model is 1.34%.\n"
     ]
    },
    {
     "name": "stderr",
     "output_type": "stream",
     "text": [
      "collecting matches info:  86%|███████████████████████████████████████████████████████████████████████████████████████████████████████████████▍                 | 864/1000 [02:26<00:23,  5.89it/s]"
     ]
    },
    {
     "name": "stdout",
     "output_type": "stream",
     "text": [
      "Found 1 word(s) missing in the model. Weighted missing percentage not covered by the given model is 0.84%.\n"
     ]
    },
    {
     "name": "stderr",
     "output_type": "stream",
     "text": [
      "collecting matches info:  89%|██████████████████████████████████████████████████████████████████████████████████████████████████████████████████▋              | 889/1000 [02:30<00:21,  5.06it/s]"
     ]
    },
    {
     "name": "stdout",
     "output_type": "stream",
     "text": [
      "Found 1 word(s) missing in the model. Weighted missing percentage not covered by the given model is 0.39%.\n",
      "Found 1 word(s) missing in the model. Weighted missing percentage not covered by the given model is 0.40%.\n"
     ]
    },
    {
     "name": "stderr",
     "output_type": "stream",
     "text": [
      "\r",
      "collecting matches info:  89%|██████████████████████████████████████████████████████████████████████████████████████████████████████████████████▊              | 890/1000 [02:31<00:20,  5.33it/s]"
     ]
    },
    {
     "name": "stdout",
     "output_type": "stream",
     "text": [
      "Found 1 word(s) missing in the model. Weighted missing percentage not covered by the given model is 0.43%.\n"
     ]
    },
    {
     "name": "stderr",
     "output_type": "stream",
     "text": [
      "collecting matches info:  91%|████████████████████████████████████████████████████████████████████████████████████████████████████████████████████▊            | 906/1000 [02:33<00:17,  5.41it/s]"
     ]
    },
    {
     "name": "stdout",
     "output_type": "stream",
     "text": [
      "Found 1 word(s) missing in the model. Weighted missing percentage not covered by the given model is 0.38%.\n"
     ]
    },
    {
     "name": "stderr",
     "output_type": "stream",
     "text": [
      "\r",
      "collecting matches info:  91%|█████████████████████████████████████████████████████████████████████████████████████████████████████████████████████            | 907/1000 [02:34<00:17,  5.32it/s]"
     ]
    },
    {
     "name": "stdout",
     "output_type": "stream",
     "text": [
      "Found 1 word(s) missing in the model. Weighted missing percentage not covered by the given model is 0.39%.\n"
     ]
    },
    {
     "name": "stderr",
     "output_type": "stream",
     "text": [
      "collecting matches info:  91%|█████████████████████████████████████████████████████████████████████████████████████████████████████████████████████▌           | 911/1000 [02:34<00:13,  6.40it/s]"
     ]
    },
    {
     "name": "stdout",
     "output_type": "stream",
     "text": [
      "Found 1 word(s) missing in the model. Weighted missing percentage not covered by the given model is 3.57%.\n"
     ]
    },
    {
     "name": "stderr",
     "output_type": "stream",
     "text": [
      "collecting matches info:  91%|█████████████████████████████████████████████████████████████████████████████████████████████████████████████████████▊           | 913/1000 [02:35<00:14,  6.02it/s]"
     ]
    },
    {
     "name": "stdout",
     "output_type": "stream",
     "text": [
      "Found 1 word(s) missing in the model. Weighted missing percentage not covered by the given model is 1.64%.\n"
     ]
    },
    {
     "name": "stderr",
     "output_type": "stream",
     "text": [
      "collecting matches info:  92%|██████████████████████████████████████████████████████████████████████████████████████████████████████████████████████▎          | 917/1000 [02:35<00:17,  4.76it/s]"
     ]
    },
    {
     "name": "stdout",
     "output_type": "stream",
     "text": [
      "Found 1 word(s) missing in the model. Weighted missing percentage not covered by the given model is 3.45%.\n"
     ]
    },
    {
     "name": "stderr",
     "output_type": "stream",
     "text": [
      "\r",
      "collecting matches info:  92%|██████████████████████████████████████████████████████████████████████████████████████████████████████████████████████▍          | 918/1000 [02:36<00:17,  4.66it/s]"
     ]
    },
    {
     "name": "stdout",
     "output_type": "stream",
     "text": [
      "Found 1 word(s) missing in the model. Weighted missing percentage not covered by the given model is 4.55%.\n"
     ]
    },
    {
     "name": "stderr",
     "output_type": "stream",
     "text": [
      "collecting matches info:  92%|██████████████████████████████████████████████████████████████████████████████████████████████████████████████████████▋          | 920/1000 [02:36<00:18,  4.42it/s]"
     ]
    },
    {
     "name": "stdout",
     "output_type": "stream",
     "text": [
      "Found 1 word(s) missing in the model. Weighted missing percentage not covered by the given model is 6.67%.\n"
     ]
    },
    {
     "name": "stderr",
     "output_type": "stream",
     "text": [
      "collecting matches info:  93%|███████████████████████████████████████████████████████████████████████████████████████████████████████████████████████▌         | 927/1000 [02:37<00:08,  8.23it/s]"
     ]
    },
    {
     "name": "stdout",
     "output_type": "stream",
     "text": [
      "Found 1 word(s) missing in the model. Weighted missing percentage not covered by the given model is 0.20%.\n"
     ]
    },
    {
     "name": "stderr",
     "output_type": "stream",
     "text": [
      "collecting matches info:  94%|█████████████████████████████████████████████████████████████████████████████████████████████████████████████████████████▏       | 939/1000 [02:40<00:14,  4.29it/s]"
     ]
    },
    {
     "name": "stdout",
     "output_type": "stream",
     "text": [
      "Found 1 word(s) missing in the model. Weighted missing percentage not covered by the given model is 0.81%.\n"
     ]
    },
    {
     "name": "stderr",
     "output_type": "stream",
     "text": [
      "collecting matches info:  95%|██████████████████████████████████████████████████████████████████████████████████████████████████████████████████████████▊      | 952/1000 [02:43<00:09,  4.93it/s]"
     ]
    },
    {
     "name": "stdout",
     "output_type": "stream",
     "text": [
      "Found 1 word(s) missing in the model. Weighted missing percentage not covered by the given model is 0.90%.\n",
      "Found 1 word(s) missing in the model. Weighted missing percentage not covered by the given model is 0.89%.\n"
     ]
    },
    {
     "name": "stderr",
     "output_type": "stream",
     "text": [
      "collecting matches info:  95%|███████████████████████████████████████████████████████████████████████████████████████████████████████████████████████████      | 954/1000 [02:43<00:08,  5.56it/s]"
     ]
    },
    {
     "name": "stdout",
     "output_type": "stream",
     "text": [
      "Found 1 word(s) missing in the model. Weighted missing percentage not covered by the given model is 0.85%.\n",
      "Found 2 word(s) missing in the model. Weighted missing percentage not covered by the given model is 2.15%.\n"
     ]
    },
    {
     "name": "stderr",
     "output_type": "stream",
     "text": [
      "collecting matches info:  96%|████████████████████████████████████████████████████████████████████████████████████████████████████████████████████████████     | 962/1000 [02:44<00:05,  6.99it/s]"
     ]
    },
    {
     "name": "stdout",
     "output_type": "stream",
     "text": [
      "Found 2 word(s) missing in the model. Weighted missing percentage not covered by the given model is 1.23%.\n"
     ]
    },
    {
     "name": "stderr",
     "output_type": "stream",
     "text": [
      "collecting matches info:  97%|█████████████████████████████████████████████████████████████████████████████████████████████████████████████████████████████▋   | 974/1000 [02:46<00:03,  7.47it/s]"
     ]
    },
    {
     "name": "stdout",
     "output_type": "stream",
     "text": [
      "Found 1 word(s) missing in the model. Weighted missing percentage not covered by the given model is 0.57%.\n"
     ]
    },
    {
     "name": "stderr",
     "output_type": "stream",
     "text": [
      "collecting matches info:  98%|██████████████████████████████████████████████████████████████████████████████████████████████████████████████████████████████▊  | 983/1000 [02:48<00:03,  5.47it/s]"
     ]
    },
    {
     "name": "stdout",
     "output_type": "stream",
     "text": [
      "Found 1 word(s) missing in the model. Weighted missing percentage not covered by the given model is 0.58%.\n"
     ]
    },
    {
     "name": "stderr",
     "output_type": "stream",
     "text": [
      "collecting matches info: 100%|████████████████████████████████████████████████████████████████████████████████████████████████████████████████████████████████| 1000/1000 [02:51<00:00,  5.83it/s]"
     ]
    },
    {
     "name": "stdout",
     "output_type": "stream",
     "text": [
      "Found 1 word(s) missing in the model. Weighted missing percentage not covered by the given model is 5.88%.\n"
     ]
    },
    {
     "name": "stderr",
     "output_type": "stream",
     "text": [
      "\n"
     ]
    },
    {
     "name": "stdout",
     "output_type": "stream",
     "text": [
      "Time elapsed = 252.91706466674805 seconds\n"
     ]
    }
   ],
   "source": [
    "import time\n",
    "ms2query_model = \"../downloads/gnps_210409/train_ms2query_model/ms2query_model_all_scores.hdf5\"\n",
    "ms2library = MS2Library(sqlite_file, s2v_model_file, ms2ds_model_file, s2v_embeddings_file, ms2ds_embeddings_file)\n",
    "start_time = time.time()\n",
    "print(\"Calculating all MS2DS scores\")\n",
    "result = ms2library.analog_search(validation_spectra_without_match[:1000], ms2query_model, preselection_cut_off = 300)\n",
    "print(\"Time elapsed = \" + str(time.time()-start_time) + \" seconds\")"
   ]
  },
  {
   "cell_type": "code",
   "execution_count": null,
   "metadata": {},
   "outputs": [],
   "source": []
  }
 ],
 "metadata": {
  "kernelspec": {
   "display_name": "Python 3",
   "language": "python",
   "name": "python3"
  },
  "language_info": {
   "codemirror_mode": {
    "name": "ipython",
    "version": 3
   },
   "file_extension": ".py",
   "mimetype": "text/x-python",
   "name": "python",
   "nbconvert_exporter": "python",
   "pygments_lexer": "ipython3",
   "version": "3.8.5"
  }
 },
 "nbformat": 4,
 "nbformat_minor": 4
}
